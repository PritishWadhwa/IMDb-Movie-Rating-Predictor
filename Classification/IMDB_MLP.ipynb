{
  "nbformat": 4,
  "nbformat_minor": 0,
  "metadata": {
    "colab": {
      "name": "IMDB_MLP.ipynb",
      "provenance": []
    },
    "kernelspec": {
      "name": "python3",
      "display_name": "Python 3"
    },
    "language_info": {
      "name": "python"
    },
    "accelerator": "TPU"
  },
  "cells": [
    {
      "cell_type": "code",
      "metadata": {
        "colab": {
          "base_uri": "https://localhost:8080/"
        },
        "id": "-_stN4O6ML12",
        "outputId": "62f5bd0f-1b74-48fe-d8cc-b6407ba3cd43"
      },
      "source": [
        "from google.colab import drive\n",
        "drive.mount('/content/drive')"
      ],
      "execution_count": null,
      "outputs": [
        {
          "output_type": "stream",
          "name": "stdout",
          "text": [
            "Drive already mounted at /content/drive; to attempt to forcibly remount, call drive.mount(\"/content/drive\", force_remount=True).\n"
          ]
        }
      ]
    },
    {
      "cell_type": "code",
      "metadata": {
        "colab": {
          "base_uri": "https://localhost:8080/",
          "height": 913
        },
        "id": "Wgy1_lQeQ98T",
        "outputId": "a8679fcd-999d-414b-b41a-97e9c798345d"
      },
      "source": [
        "cd drive/MyDrive/Dataset/"
      ],
      "execution_count": null,
      "outputs": [
        {
          "output_type": "stream",
          "name": "stderr",
          "text": [
            "ERROR:root:Internal Python error in the inspect module.\n",
            "Below is the traceback from this internal error.\n",
            "\n"
          ]
        },
        {
          "output_type": "stream",
          "name": "stdout",
          "text": [
            "Traceback (most recent call last):\n",
            "  File \"/usr/local/lib/python3.7/dist-packages/IPython/core/interactiveshell.py\", line 2882, in run_code\n",
            "    exec(code_obj, self.user_global_ns, self.user_ns)\n",
            "  File \"<ipython-input-80-7bd70596471b>\", line 1, in <module>\n",
            "    get_ipython().magic('cd drive/MyDrive/Dataset/')\n",
            "  File \"/usr/local/lib/python3.7/dist-packages/IPython/core/interactiveshell.py\", line 2160, in magic\n",
            "    return self.run_line_magic(magic_name, magic_arg_s)\n",
            "  File \"/usr/local/lib/python3.7/dist-packages/IPython/core/interactiveshell.py\", line 2081, in run_line_magic\n",
            "    result = fn(*args,**kwargs)\n",
            "  File \"<decorator-gen-84>\", line 2, in cd\n",
            "  File \"/usr/local/lib/python3.7/dist-packages/IPython/core/magic.py\", line 188, in <lambda>\n",
            "    call = lambda f, *a, **k: f(*a, **k)\n",
            "  File \"/usr/local/lib/python3.7/dist-packages/IPython/core/magics/osm.py\", line 288, in cd\n",
            "    oldcwd = py3compat.getcwd()\n",
            "FileNotFoundError: [Errno 2] No such file or directory\n",
            "\n",
            "During handling of the above exception, another exception occurred:\n",
            "\n",
            "Traceback (most recent call last):\n",
            "  File \"/usr/local/lib/python3.7/dist-packages/IPython/core/interactiveshell.py\", line 1823, in showtraceback\n",
            "    stb = value._render_traceback_()\n",
            "AttributeError: 'FileNotFoundError' object has no attribute '_render_traceback_'\n",
            "\n",
            "During handling of the above exception, another exception occurred:\n",
            "\n",
            "Traceback (most recent call last):\n",
            "  File \"/usr/local/lib/python3.7/dist-packages/IPython/core/ultratb.py\", line 1132, in get_records\n",
            "    return _fixed_getinnerframes(etb, number_of_lines_of_context, tb_offset)\n",
            "  File \"/usr/local/lib/python3.7/dist-packages/IPython/core/ultratb.py\", line 313, in wrapped\n",
            "    return f(*args, **kwargs)\n",
            "  File \"/usr/local/lib/python3.7/dist-packages/IPython/core/ultratb.py\", line 358, in _fixed_getinnerframes\n",
            "    records = fix_frame_records_filenames(inspect.getinnerframes(etb, context))\n",
            "  File \"/usr/lib/python3.7/inspect.py\", line 1502, in getinnerframes\n",
            "    frameinfo = (tb.tb_frame,) + getframeinfo(tb, context)\n",
            "  File \"/usr/lib/python3.7/inspect.py\", line 1460, in getframeinfo\n",
            "    filename = getsourcefile(frame) or getfile(frame)\n",
            "  File \"/usr/lib/python3.7/inspect.py\", line 696, in getsourcefile\n",
            "    if getattr(getmodule(object, filename), '__loader__', None) is not None:\n",
            "  File \"/usr/lib/python3.7/inspect.py\", line 725, in getmodule\n",
            "    file = getabsfile(object, _filename)\n",
            "  File \"/usr/lib/python3.7/inspect.py\", line 709, in getabsfile\n",
            "    return os.path.normcase(os.path.abspath(_filename))\n",
            "  File \"/usr/lib/python3.7/posixpath.py\", line 383, in abspath\n",
            "    cwd = os.getcwd()\n",
            "FileNotFoundError: [Errno 2] No such file or directory\n"
          ]
        },
        {
          "output_type": "error",
          "ename": "FileNotFoundError",
          "evalue": "ignored",
          "traceback": [
            "\u001b[0;31m---------------------------------------------------------------------------\u001b[0m"
          ]
        }
      ]
    },
    {
      "cell_type": "code",
      "metadata": {
        "id": "gwKIeRf0SNvR"
      },
      "source": [
        "import pandas as pd\n",
        "import numpy as np\n",
        "import matplotlib.pyplot as plt"
      ],
      "execution_count": null,
      "outputs": []
    },
    {
      "cell_type": "code",
      "metadata": {
        "id": "ZipB5DhkSPkc"
      },
      "source": [
        "trainData = pd.read_csv('train.csv')\n",
        "trainLabel6 = pd.read_csv('train_6_buckets.csv')\n",
        "trainLabel11 = pd.read_csv('train_11_buckets.csv')\n",
        "trainLabel21 = pd.read_csv('train_21_buckets.csv')\n",
        "testData = pd.read_csv('test.csv')\n",
        "testLabel6 = pd.read_csv('test_6_buckets.csv')\n",
        "testLabel11 = pd.read_csv('test_11_buckets.csv')\n",
        "testLabel21 = pd.read_csv('test_21_buckets.csv')\n",
        "valData = pd.read_csv('val.csv')\n",
        "valLabel6 = pd.read_csv('valid_6_buckets.csv')\n",
        "valLabel11 = pd.read_csv('valid_11_buckets.csv')\n",
        "valLabel21 = pd.read_csv('valid_21_buckets.csv')\n",
        "trainLabel21 *= 2\n",
        "testLabel21 *= 2\n",
        "valLabel21 *= 2\n",
        "trainLabel6 /= 2\n",
        "testLabel6 /= 2\n",
        "valLabel6 /= 2"
      ],
      "execution_count": null,
      "outputs": []
    },
    {
      "cell_type": "code",
      "metadata": {
        "colab": {
          "base_uri": "https://localhost:8080/"
        },
        "id": "NuCRy8MVThDA",
        "outputId": "c7c782c2-2a32-41a2-b5bd-c2dadd1f2a19"
      },
      "source": [
        "print(trainLabel6.value_counts(), testLabel6.value_counts(), valLabel6.value_counts())"
      ],
      "execution_count": null,
      "outputs": [
        {
          "output_type": "stream",
          "name": "stdout",
          "text": [
            "data_IMDBscore\n",
            "6                 8264\n",
            "8                 5560\n",
            "4                 1289\n",
            "2                  121\n",
            "10                  13\n",
            "dtype: int64 data_IMDBscore\n",
            "6                 1787\n",
            "8                 1161\n",
            "4                  297\n",
            "2                   21\n",
            "10                   2\n",
            "dtype: int64 data_IMDBscore\n",
            "6                 1791\n",
            "8                 1164\n",
            "4                  280\n",
            "2                   32\n",
            "dtype: int64\n"
          ]
        }
      ]
    },
    {
      "cell_type": "code",
      "metadata": {
        "id": "TphMu3NzSRLj"
      },
      "source": [
        "from keras.models import Sequential\n",
        "from keras.layers import Dense, Dropout, Flatten, Input, Convolution2D, MaxPooling2D\n",
        "from keras.utils import np_utils\n",
        "from keras.callbacks import EarlyStopping, ModelCheckpoint"
      ],
      "execution_count": null,
      "outputs": []
    },
    {
      "cell_type": "code",
      "metadata": {
        "id": "u-x2i0MgSVB-"
      },
      "source": [
        "trainLabel6 = np_utils.to_categorical(trainLabel6, 6).astype(np.int8)\n",
        "trainLabel11 = np_utils.to_categorical(trainLabel11, 11).astype(np.int8)\n",
        "trainLabel21 = np_utils.to_categorical(trainLabel21, 21).astype(np.int8)\n",
        "testLabel6 = np_utils.to_categorical(testLabel6, 6).astype(np.int8)\n",
        "testLabel11 = np_utils.to_categorical(testLabel11, 11).astype(np.int8)\n",
        "testLabel21 = np_utils.to_categorical(testLabel21, 21).astype(np.int8)\n",
        "valLabel6 = np_utils.to_categorical(valLabel6, 6).astype(np.int8)\n",
        "valLabel11 = np_utils.to_categorical(valLabel11, 11).astype(np.int8)\n",
        "valLabel21 = np_utils.to_categorical(valLabel21, 21).astype(np.int8)"
      ],
      "execution_count": null,
      "outputs": []
    },
    {
      "cell_type": "code",
      "metadata": {
        "colab": {
          "base_uri": "https://localhost:8080/"
        },
        "id": "346kkAiRS6r9",
        "outputId": "81652199-9ac4-437f-9a7f-5de4c9411edc"
      },
      "source": [
        "trainLabel6.shape, testLabel11.shape, valLabel21.shape, trainData.shape, testData.shape, valData.shape"
      ],
      "execution_count": null,
      "outputs": [
        {
          "output_type": "execute_result",
          "data": {
            "text/plain": [
              "((15247, 6), (3268, 11), (3267, 21), (15247, 3561), (3268, 3561), (3267, 3561))"
            ]
          },
          "metadata": {},
          "execution_count": 17
        }
      ]
    },
    {
      "cell_type": "code",
      "metadata": {
        "id": "DmG1e--fVH-L"
      },
      "source": [
        "trainVals= np.array(trainData)\n",
        "testVals = np.array(testData)\n",
        "valVals = np.array(valData)"
      ],
      "execution_count": null,
      "outputs": []
    },
    {
      "cell_type": "code",
      "metadata": {
        "colab": {
          "base_uri": "https://localhost:8080/"
        },
        "id": "v_0tB2JuSpAo",
        "outputId": "3bb07864-df68-498f-ebcf-6408985021db"
      },
      "source": [
        "model = Sequential()\n",
        "model.add(Dense(500, activation='relu', input_dim=3561))\n",
        "model.add(Dense(500, activation='relu'))\n",
        "model.add(Dense(250, activation='relu'))\n",
        "model.add(Dense(125, activation='relu'))\n",
        "model.add(Dense(6, activation='softmax'))\n",
        "model.summary()\n",
        "model.compile(loss='categorical_crossentropy', optimizer='adam', metrics=['accuracy'])\n",
        "checkPointLoss = ModelCheckpoint('bestModelValLoss.h5', monitor='val_loss', verbose=True, save_best_only=True)\n",
        "checkPointAcc = ModelCheckpoint('bestModelValAcc.h5', monitor='val_accuracy', verbose=True, save_best_only=True)\n",
        "earlyStopping = EarlyStopping(monitor='val_accuracy', patience=10, verbose=True)\n",
        "hist = model.fit(trainVals, trainLabel6, batch_size=128, epochs=150, validation_data=(valVals, valLabel6), callbacks=[checkPointLoss, checkPointAcc, earlyStopping])"
      ],
      "execution_count": null,
      "outputs": [
        {
          "output_type": "stream",
          "name": "stdout",
          "text": [
            "Model: \"sequential_22\"\n",
            "_________________________________________________________________\n",
            " Layer (type)                Output Shape              Param #   \n",
            "=================================================================\n",
            " dense_137 (Dense)           (None, 500)               1781000   \n",
            "                                                                 \n",
            " dense_138 (Dense)           (None, 500)               250500    \n",
            "                                                                 \n",
            " dense_139 (Dense)           (None, 250)               125250    \n",
            "                                                                 \n",
            " dense_140 (Dense)           (None, 125)               31375     \n",
            "                                                                 \n",
            " dense_141 (Dense)           (None, 6)                 756       \n",
            "                                                                 \n",
            "=================================================================\n",
            "Total params: 2,188,881\n",
            "Trainable params: 2,188,881\n",
            "Non-trainable params: 0\n",
            "_________________________________________________________________\n",
            "Epoch 1/150\n",
            "119/120 [============================>.] - ETA: 0s - loss: 0.7189 - accuracy: 0.6762\n",
            "Epoch 00001: val_loss improved from inf to 0.58628, saving model to bestModelValLoss.h5\n",
            "\n",
            "Epoch 00001: val_accuracy improved from -inf to 0.74350, saving model to bestModelValAcc.h5\n",
            "120/120 [==============================] - 6s 49ms/step - loss: 0.7188 - accuracy: 0.6762 - val_loss: 0.5863 - val_accuracy: 0.7435\n",
            "Epoch 2/150\n",
            "119/120 [============================>.] - ETA: 0s - loss: 0.3343 - accuracy: 0.8650\n",
            "Epoch 00002: val_loss did not improve from 0.58628\n",
            "\n",
            "Epoch 00002: val_accuracy improved from 0.74350 to 0.76186, saving model to bestModelValAcc.h5\n",
            "120/120 [==============================] - 5s 41ms/step - loss: 0.3342 - accuracy: 0.8652 - val_loss: 0.5910 - val_accuracy: 0.7619\n",
            "Epoch 3/150\n",
            "119/120 [============================>.] - ETA: 0s - loss: 0.0931 - accuracy: 0.9684\n",
            "Epoch 00003: val_loss did not improve from 0.58628\n",
            "\n",
            "Epoch 00003: val_accuracy did not improve from 0.76186\n",
            "120/120 [==============================] - 5s 41ms/step - loss: 0.0931 - accuracy: 0.9685 - val_loss: 0.9248 - val_accuracy: 0.7530\n",
            "Epoch 4/150\n",
            "119/120 [============================>.] - ETA: 0s - loss: 0.0377 - accuracy: 0.9887\n",
            "Epoch 00004: val_loss did not improve from 0.58628\n",
            "\n",
            "Epoch 00004: val_accuracy did not improve from 0.76186\n",
            "120/120 [==============================] - 5s 41ms/step - loss: 0.0376 - accuracy: 0.9887 - val_loss: 1.1583 - val_accuracy: 0.7444\n",
            "Epoch 5/150\n",
            "119/120 [============================>.] - ETA: 0s - loss: 0.0194 - accuracy: 0.9940\n",
            "Epoch 00005: val_loss did not improve from 0.58628\n",
            "\n",
            "Epoch 00005: val_accuracy did not improve from 0.76186\n",
            "120/120 [==============================] - 5s 40ms/step - loss: 0.0194 - accuracy: 0.9940 - val_loss: 1.3727 - val_accuracy: 0.7487\n",
            "Epoch 6/150\n",
            "119/120 [============================>.] - ETA: 0s - loss: 0.0162 - accuracy: 0.9951\n",
            "Epoch 00006: val_loss did not improve from 0.58628\n",
            "\n",
            "Epoch 00006: val_accuracy did not improve from 0.76186\n",
            "120/120 [==============================] - 5s 40ms/step - loss: 0.0162 - accuracy: 0.9951 - val_loss: 1.3357 - val_accuracy: 0.7533\n",
            "Epoch 7/150\n",
            "119/120 [============================>.] - ETA: 0s - loss: 0.0359 - accuracy: 0.9875\n",
            "Epoch 00007: val_loss did not improve from 0.58628\n",
            "\n",
            "Epoch 00007: val_accuracy did not improve from 0.76186\n",
            "120/120 [==============================] - 5s 40ms/step - loss: 0.0360 - accuracy: 0.9875 - val_loss: 1.3706 - val_accuracy: 0.7530\n",
            "Epoch 8/150\n",
            "119/120 [============================>.] - ETA: 0s - loss: 0.0384 - accuracy: 0.9881\n",
            "Epoch 00008: val_loss did not improve from 0.58628\n",
            "\n",
            "Epoch 00008: val_accuracy did not improve from 0.76186\n",
            "120/120 [==============================] - 5s 41ms/step - loss: 0.0384 - accuracy: 0.9881 - val_loss: 1.2222 - val_accuracy: 0.7567\n",
            "Epoch 9/150\n",
            "119/120 [============================>.] - ETA: 0s - loss: 0.0168 - accuracy: 0.9954\n",
            "Epoch 00009: val_loss did not improve from 0.58628\n",
            "\n",
            "Epoch 00009: val_accuracy did not improve from 0.76186\n",
            "120/120 [==============================] - 5s 41ms/step - loss: 0.0167 - accuracy: 0.9954 - val_loss: 1.5434 - val_accuracy: 0.7441\n",
            "Epoch 10/150\n",
            "119/120 [============================>.] - ETA: 0s - loss: 0.0136 - accuracy: 0.9964\n",
            "Epoch 00010: val_loss did not improve from 0.58628\n",
            "\n",
            "Epoch 00010: val_accuracy did not improve from 0.76186\n",
            "120/120 [==============================] - 5s 42ms/step - loss: 0.0136 - accuracy: 0.9964 - val_loss: 1.5657 - val_accuracy: 0.7554\n",
            "Epoch 11/150\n",
            "120/120 [==============================] - ETA: 0s - loss: 0.0144 - accuracy: 0.9967\n",
            "Epoch 00011: val_loss did not improve from 0.58628\n",
            "\n",
            "Epoch 00011: val_accuracy did not improve from 0.76186\n",
            "120/120 [==============================] - 5s 41ms/step - loss: 0.0144 - accuracy: 0.9967 - val_loss: 1.7980 - val_accuracy: 0.7300\n",
            "Epoch 12/150\n",
            "119/120 [============================>.] - ETA: 0s - loss: 0.0090 - accuracy: 0.9975\n",
            "Epoch 00012: val_loss did not improve from 0.58628\n",
            "\n",
            "Epoch 00012: val_accuracy did not improve from 0.76186\n",
            "120/120 [==============================] - 5s 42ms/step - loss: 0.0090 - accuracy: 0.9975 - val_loss: 1.6158 - val_accuracy: 0.7542\n",
            "Epoch 00012: early stopping\n"
          ]
        }
      ]
    },
    {
      "cell_type": "code",
      "metadata": {
        "id": "kiCAVuOKXYaL"
      },
      "source": [
        "plt.style.use('seaborn')"
      ],
      "execution_count": null,
      "outputs": []
    },
    {
      "cell_type": "code",
      "metadata": {
        "colab": {
          "base_uri": "https://localhost:8080/"
        },
        "id": "LBKfEU73fSYT",
        "outputId": "202ae60c-6245-41c7-8cf8-71156795af34"
      },
      "source": [
        "model = Sequential()\n",
        "model.add(Dense(250, activation='relu', input_dim=3561))\n",
        "model.add(Dropout(0.5))\n",
        "model.add(Dense(500, activation='relu'))\n",
        "model.add(Dropout(0.5))\n",
        "model.add(Dense(500, activation='relu'))\n",
        "model.add(Dropout(0.5))\n",
        "model.add(Dense(200, activation='relu'))\n",
        "model.add(Dropout(0.5))\n",
        "model.add(Dense(80, activation='relu'))\n",
        "model.add(Dropout(0.5))\n",
        "# model.add(Dense(30, activation='relu'))\n",
        "# model.add(Dense(20, activation='relu'))\n",
        "model.add(Dense(6, activation='softmax'))\n",
        "model.summary()\n",
        "model.compile(loss='categorical_crossentropy', optimizer='adam', metrics=['accuracy'])\n",
        "checkPointLoss = ModelCheckpoint('bestModelValLoss.h5', monitor='val_loss', verbose=True, save_best_only=True)\n",
        "checkPointAcc = ModelCheckpoint('bestModelValAcc.h5', monitor='val_accuracy', verbose=True, save_best_only=True)\n",
        "earlyStopping = EarlyStopping(monitor='val_accuracy', patience=10, verbose=True)\n",
        "hist = model.fit(trainVals, trainLabel6, batch_size=128, epochs=150, validation_data=(valVals, valLabel6), callbacks=[checkPointLoss, checkPointAcc, earlyStopping])"
      ],
      "execution_count": null,
      "outputs": [
        {
          "output_type": "stream",
          "name": "stdout",
          "text": [
            "Model: \"sequential_27\"\n",
            "_________________________________________________________________\n",
            " Layer (type)                Output Shape              Param #   \n",
            "=================================================================\n",
            " dense_166 (Dense)           (None, 250)               890500    \n",
            "                                                                 \n",
            " dropout_54 (Dropout)        (None, 250)               0         \n",
            "                                                                 \n",
            " dense_167 (Dense)           (None, 500)               125500    \n",
            "                                                                 \n",
            " dropout_55 (Dropout)        (None, 500)               0         \n",
            "                                                                 \n",
            " dense_168 (Dense)           (None, 500)               250500    \n",
            "                                                                 \n",
            " dropout_56 (Dropout)        (None, 500)               0         \n",
            "                                                                 \n",
            " dense_169 (Dense)           (None, 200)               100200    \n",
            "                                                                 \n",
            " dropout_57 (Dropout)        (None, 200)               0         \n",
            "                                                                 \n",
            " dense_170 (Dense)           (None, 80)                16080     \n",
            "                                                                 \n",
            " dropout_58 (Dropout)        (None, 80)                0         \n",
            "                                                                 \n",
            " dense_171 (Dense)           (None, 6)                 486       \n",
            "                                                                 \n",
            "=================================================================\n",
            "Total params: 1,383,266\n",
            "Trainable params: 1,383,266\n",
            "Non-trainable params: 0\n",
            "_________________________________________________________________\n",
            "Epoch 1/150\n",
            "119/120 [============================>.] - ETA: 0s - loss: 0.9864 - accuracy: 0.5119\n",
            "Epoch 00001: val_loss improved from inf to 0.76693, saving model to bestModelValLoss.h5\n",
            "\n",
            "Epoch 00001: val_accuracy improved from -inf to 0.66667, saving model to bestModelValAcc.h5\n",
            "120/120 [==============================] - 6s 46ms/step - loss: 0.9863 - accuracy: 0.5120 - val_loss: 0.7669 - val_accuracy: 0.6667\n",
            "Epoch 2/150\n",
            "119/120 [============================>.] - ETA: 0s - loss: 0.7590 - accuracy: 0.6484\n",
            "Epoch 00002: val_loss improved from 0.76693 to 0.64600, saving model to bestModelValLoss.h5\n",
            "\n",
            "Epoch 00002: val_accuracy improved from 0.66667 to 0.74166, saving model to bestModelValAcc.h5\n",
            "120/120 [==============================] - 4s 36ms/step - loss: 0.7588 - accuracy: 0.6485 - val_loss: 0.6460 - val_accuracy: 0.7417\n",
            "Epoch 3/150\n",
            "118/120 [============================>.] - ETA: 0s - loss: 0.5896 - accuracy: 0.7470\n",
            "Epoch 00003: val_loss improved from 0.64600 to 0.57882, saving model to bestModelValLoss.h5\n",
            "\n",
            "Epoch 00003: val_accuracy did not improve from 0.74166\n",
            "120/120 [==============================] - 4s 36ms/step - loss: 0.5902 - accuracy: 0.7469 - val_loss: 0.5788 - val_accuracy: 0.7346\n",
            "Epoch 4/150\n",
            "119/120 [============================>.] - ETA: 0s - loss: 0.4754 - accuracy: 0.8126\n",
            "Epoch 00004: val_loss improved from 0.57882 to 0.54902, saving model to bestModelValLoss.h5\n",
            "\n",
            "Epoch 00004: val_accuracy improved from 0.74166 to 0.74197, saving model to bestModelValAcc.h5\n",
            "120/120 [==============================] - 4s 35ms/step - loss: 0.4757 - accuracy: 0.8124 - val_loss: 0.5490 - val_accuracy: 0.7420\n",
            "Epoch 5/150\n",
            "119/120 [============================>.] - ETA: 0s - loss: 0.3665 - accuracy: 0.8671\n",
            "Epoch 00005: val_loss did not improve from 0.54902\n",
            "\n",
            "Epoch 00005: val_accuracy improved from 0.74197 to 0.75849, saving model to bestModelValAcc.h5\n",
            "120/120 [==============================] - 4s 34ms/step - loss: 0.3668 - accuracy: 0.8671 - val_loss: 0.6062 - val_accuracy: 0.7585\n",
            "Epoch 6/150\n",
            "119/120 [============================>.] - ETA: 0s - loss: 0.2839 - accuracy: 0.9023\n",
            "Epoch 00006: val_loss did not improve from 0.54902\n",
            "\n",
            "Epoch 00006: val_accuracy did not improve from 0.75849\n",
            "120/120 [==============================] - 4s 34ms/step - loss: 0.2839 - accuracy: 0.9023 - val_loss: 0.6657 - val_accuracy: 0.7579\n",
            "Epoch 7/150\n",
            "119/120 [============================>.] - ETA: 0s - loss: 0.2318 - accuracy: 0.9211\n",
            "Epoch 00007: val_loss did not improve from 0.54902\n",
            "\n",
            "Epoch 00007: val_accuracy improved from 0.75849 to 0.76431, saving model to bestModelValAcc.h5\n",
            "120/120 [==============================] - 4s 35ms/step - loss: 0.2317 - accuracy: 0.9211 - val_loss: 0.7355 - val_accuracy: 0.7643\n",
            "Epoch 8/150\n",
            "119/120 [============================>.] - ETA: 0s - loss: 0.1899 - accuracy: 0.9376\n",
            "Epoch 00008: val_loss did not improve from 0.54902\n",
            "\n",
            "Epoch 00008: val_accuracy did not improve from 0.76431\n",
            "120/120 [==============================] - 4s 33ms/step - loss: 0.1903 - accuracy: 0.9375 - val_loss: 0.8164 - val_accuracy: 0.7622\n",
            "Epoch 9/150\n",
            "118/120 [============================>.] - ETA: 0s - loss: 0.1639 - accuracy: 0.9467\n",
            "Epoch 00009: val_loss did not improve from 0.54902\n",
            "\n",
            "Epoch 00009: val_accuracy did not improve from 0.76431\n",
            "120/120 [==============================] - 4s 34ms/step - loss: 0.1641 - accuracy: 0.9464 - val_loss: 0.8538 - val_accuracy: 0.7634\n",
            "Epoch 10/150\n",
            "119/120 [============================>.] - ETA: 0s - loss: 0.1390 - accuracy: 0.9560\n",
            "Epoch 00010: val_loss did not improve from 0.54902\n",
            "\n",
            "Epoch 00010: val_accuracy did not improve from 0.76431\n",
            "120/120 [==============================] - 4s 34ms/step - loss: 0.1389 - accuracy: 0.9561 - val_loss: 1.1154 - val_accuracy: 0.7505\n",
            "Epoch 11/150\n",
            "118/120 [============================>.] - ETA: 0s - loss: 0.1211 - accuracy: 0.9603\n",
            "Epoch 00011: val_loss did not improve from 0.54902\n",
            "\n",
            "Epoch 00011: val_accuracy did not improve from 0.76431\n",
            "120/120 [==============================] - 4s 34ms/step - loss: 0.1217 - accuracy: 0.9601 - val_loss: 1.1750 - val_accuracy: 0.7496\n",
            "Epoch 12/150\n",
            "119/120 [============================>.] - ETA: 0s - loss: 0.1166 - accuracy: 0.9604\n",
            "Epoch 00012: val_loss did not improve from 0.54902\n",
            "\n",
            "Epoch 00012: val_accuracy did not improve from 0.76431\n",
            "120/120 [==============================] - 4s 33ms/step - loss: 0.1165 - accuracy: 0.9605 - val_loss: 1.0316 - val_accuracy: 0.7582\n",
            "Epoch 13/150\n",
            "119/120 [============================>.] - ETA: 0s - loss: 0.1036 - accuracy: 0.9667\n",
            "Epoch 00013: val_loss did not improve from 0.54902\n",
            "\n",
            "Epoch 00013: val_accuracy did not improve from 0.76431\n",
            "120/120 [==============================] - 4s 34ms/step - loss: 0.1036 - accuracy: 0.9667 - val_loss: 1.2273 - val_accuracy: 0.7518\n",
            "Epoch 14/150\n",
            "119/120 [============================>.] - ETA: 0s - loss: 0.0965 - accuracy: 0.9681\n",
            "Epoch 00014: val_loss did not improve from 0.54902\n",
            "\n",
            "Epoch 00014: val_accuracy did not improve from 0.76431\n",
            "120/120 [==============================] - 4s 34ms/step - loss: 0.0965 - accuracy: 0.9681 - val_loss: 1.2497 - val_accuracy: 0.7564\n",
            "Epoch 15/150\n",
            "119/120 [============================>.] - ETA: 0s - loss: 0.0878 - accuracy: 0.9715\n",
            "Epoch 00015: val_loss did not improve from 0.54902\n",
            "\n",
            "Epoch 00015: val_accuracy did not improve from 0.76431\n",
            "120/120 [==============================] - 4s 35ms/step - loss: 0.0877 - accuracy: 0.9715 - val_loss: 1.2148 - val_accuracy: 0.7527\n",
            "Epoch 16/150\n",
            "119/120 [============================>.] - ETA: 0s - loss: 0.0845 - accuracy: 0.9743\n",
            "Epoch 00016: val_loss did not improve from 0.54902\n",
            "\n",
            "Epoch 00016: val_accuracy did not improve from 0.76431\n",
            "120/120 [==============================] - 4s 34ms/step - loss: 0.0846 - accuracy: 0.9742 - val_loss: 1.0606 - val_accuracy: 0.7637\n",
            "Epoch 17/150\n",
            "119/120 [============================>.] - ETA: 0s - loss: 0.0680 - accuracy: 0.9765\n",
            "Epoch 00017: val_loss did not improve from 0.54902\n",
            "\n",
            "Epoch 00017: val_accuracy did not improve from 0.76431\n",
            "120/120 [==============================] - 4s 34ms/step - loss: 0.0680 - accuracy: 0.9765 - val_loss: 1.4736 - val_accuracy: 0.7478\n",
            "Epoch 00017: early stopping\n"
          ]
        }
      ]
    },
    {
      "cell_type": "code",
      "metadata": {
        "colab": {
          "base_uri": "https://localhost:8080/",
          "height": 376
        },
        "id": "fyyl6NaUfSYc",
        "outputId": "2bd82145-7bf5-4698-8f97-3f64a487d2d4"
      },
      "source": [
        "plt.plot(hist.history['accuracy'], label='train accuracy', c='red')\n",
        "plt.plot(hist.history['val_accuracy'], label='validation accuracy')\n",
        "plt.xlabel('Accuracy')\n",
        "plt.ylabel('Epochs')\n",
        "plt.legend()\n",
        "plt.title('Accuracy vs Epochs for 6 buckets')\n",
        "plt.show()"
      ],
      "execution_count": null,
      "outputs": [
        {
          "output_type": "display_data",
          "data": {
            "image/png": "[encoded data removed]",
            "text/plain": [
              "<Figure size 576x396 with 1 Axes>"
            ]
          },
          "metadata": {}
        }
      ]
    },
    {
      "cell_type": "code",
      "metadata": {
        "colab": {
          "base_uri": "https://localhost:8080/",
          "height": 376
        },
        "id": "3GRfsNlGfSYc",
        "outputId": "6cb9bb0c-355c-4943-cf38-ffc74d85ab16"
      },
      "source": [
        "plt.plot(hist.history['loss'], label='train loss', c='red')\n",
        "plt.plot(hist.history['val_loss'], label='validation loss')\n",
        "plt.xlabel('Loss')\n",
        "plt.ylabel('Epochs')\n",
        "plt.legend()\n",
        "plt.title('Loss vs Epochs for 6 buckets')\n",
        "plt.show()"
      ],
      "execution_count": null,
      "outputs": [
        {
          "output_type": "display_data",
          "data": {
            "image/png": "[encoded data removed]",
            "text/plain": [
              "<Figure size 576x396 with 1 Axes>"
            ]
          },
          "metadata": {}
        }
      ]
    },
    {
      "cell_type": "code",
      "metadata": {
        "id": "wz1oxNl4fSYd"
      },
      "source": [
        "from sklearn.metrics import classification_report"
      ],
      "execution_count": null,
      "outputs": []
    },
    {
      "cell_type": "code",
      "metadata": {
        "colab": {
          "base_uri": "https://localhost:8080/"
        },
        "id": "_zir-QOefSYd",
        "outputId": "3ca4b5d0-b728-45c5-f82e-7cb1ce665907"
      },
      "source": [
        "model.evaluate(testVals, testLabel6)\n",
        "model.load_weights('bestModelValLoss.h5')\n",
        "model.evaluate(testVals, testLabel6)\n",
        "model.load_weights('bestModelValAcc.h5')\n",
        "model.evaluate(testVals, testLabel6)"
      ],
      "execution_count": null,
      "outputs": [
        {
          "output_type": "stream",
          "name": "stdout",
          "text": [
            "103/103 [==============================] - 1s 6ms/step - loss: 1.4114 - accuracy: 0.7436\n",
            "103/103 [==============================] - 1s 6ms/step - loss: 0.5440 - accuracy: 0.7531\n",
            "103/103 [==============================] - 1s 6ms/step - loss: 0.7069 - accuracy: 0.7760\n"
          ]
        },
        {
          "output_type": "execute_result",
          "data": {
            "text/plain": [
              "[0.7069114446640015, 0.7760097980499268]"
            ]
          },
          "metadata": {},
          "execution_count": 189
        }
      ]
    },
    {
      "cell_type": "code",
      "metadata": {
        "id": "SEnDTjmmfSYd"
      },
      "source": [
        "preds = model.predict(testVals)"
      ],
      "execution_count": null,
      "outputs": []
    },
    {
      "cell_type": "code",
      "metadata": {
        "id": "vchsyJSefSYd"
      },
      "source": [
        "preds = np.argmax(preds, axis=1)"
      ],
      "execution_count": null,
      "outputs": []
    },
    {
      "cell_type": "code",
      "metadata": {
        "id": "v-_SK2ENfSYd"
      },
      "source": [
        "finalLabels = np.argmax(testLabel6, axis=1)"
      ],
      "execution_count": null,
      "outputs": []
    },
    {
      "cell_type": "code",
      "metadata": {
        "colab": {
          "base_uri": "https://localhost:8080/"
        },
        "id": "n12_onfefSYd",
        "outputId": "1aa146e5-2bca-466b-80fe-f9c0e6aee798"
      },
      "source": [
        "cr = classification_report(finalLabels, preds)\n",
        "print(cr)"
      ],
      "execution_count": null,
      "outputs": [
        {
          "output_type": "stream",
          "name": "stdout",
          "text": [
            "              precision    recall  f1-score   support\n",
            "\n",
            "           1       0.00      0.00      0.00        21\n",
            "           2       0.72      0.64      0.68       297\n",
            "           3       0.79      0.82      0.81      1787\n",
            "           4       0.77      0.75      0.76      1161\n",
            "           5       0.00      0.00      0.00         2\n",
            "\n",
            "    accuracy                           0.78      3268\n",
            "   macro avg       0.46      0.44      0.45      3268\n",
            "weighted avg       0.77      0.78      0.77      3268\n",
            "\n"
          ]
        },
        {
          "output_type": "stream",
          "name": "stderr",
          "text": [
            "/usr/local/lib/python3.7/dist-packages/sklearn/metrics/_classification.py:1308: UndefinedMetricWarning: Precision and F-score are ill-defined and being set to 0.0 in labels with no predicted samples. Use `zero_division` parameter to control this behavior.\n",
            "  _warn_prf(average, modifier, msg_start, len(result))\n",
            "/usr/local/lib/python3.7/dist-packages/sklearn/metrics/_classification.py:1308: UndefinedMetricWarning: Precision and F-score are ill-defined and being set to 0.0 in labels with no predicted samples. Use `zero_division` parameter to control this behavior.\n",
            "  _warn_prf(average, modifier, msg_start, len(result))\n",
            "/usr/local/lib/python3.7/dist-packages/sklearn/metrics/_classification.py:1308: UndefinedMetricWarning: Precision and F-score are ill-defined and being set to 0.0 in labels with no predicted samples. Use `zero_division` parameter to control this behavior.\n",
            "  _warn_prf(average, modifier, msg_start, len(result))\n"
          ]
        }
      ]
    },
    {
      "cell_type": "code",
      "metadata": {
        "id": "3AU8kVa7fSYe"
      },
      "source": [
        "preds = model.predict(trainVals)"
      ],
      "execution_count": null,
      "outputs": []
    },
    {
      "cell_type": "code",
      "metadata": {
        "id": "1kpC39gsfSYe"
      },
      "source": [
        "preds = np.argmax(preds, axis=1)"
      ],
      "execution_count": null,
      "outputs": []
    },
    {
      "cell_type": "code",
      "metadata": {
        "id": "UQVVGAUGfSYe"
      },
      "source": [
        "finalLabels = np.argmax(trainLabel6, axis=1)"
      ],
      "execution_count": null,
      "outputs": []
    },
    {
      "cell_type": "code",
      "metadata": {
        "colab": {
          "base_uri": "https://localhost:8080/"
        },
        "id": "StAs0DG6fSYe",
        "outputId": "eb5089dd-62d0-4d5d-8253-dbaf4019f228"
      },
      "source": [
        "cr = classification_report(finalLabels, preds)\n",
        "print(cr)"
      ],
      "execution_count": null,
      "outputs": [
        {
          "output_type": "stream",
          "name": "stdout",
          "text": [
            "              precision    recall  f1-score   support\n",
            "\n",
            "           1       0.00      0.00      0.00       121\n",
            "           2       0.90      0.99      0.95      1289\n",
            "           3       0.99      0.99      0.99      8264\n",
            "           4       0.99      0.98      0.99      5560\n",
            "           5       0.00      0.00      0.00        13\n",
            "\n",
            "    accuracy                           0.98     15247\n",
            "   macro avg       0.58      0.59      0.58     15247\n",
            "weighted avg       0.97      0.98      0.98     15247\n",
            "\n"
          ]
        },
        {
          "output_type": "stream",
          "name": "stderr",
          "text": [
            "/usr/local/lib/python3.7/dist-packages/sklearn/metrics/_classification.py:1308: UndefinedMetricWarning: Precision and F-score are ill-defined and being set to 0.0 in labels with no predicted samples. Use `zero_division` parameter to control this behavior.\n",
            "  _warn_prf(average, modifier, msg_start, len(result))\n",
            "/usr/local/lib/python3.7/dist-packages/sklearn/metrics/_classification.py:1308: UndefinedMetricWarning: Precision and F-score are ill-defined and being set to 0.0 in labels with no predicted samples. Use `zero_division` parameter to control this behavior.\n",
            "  _warn_prf(average, modifier, msg_start, len(result))\n",
            "/usr/local/lib/python3.7/dist-packages/sklearn/metrics/_classification.py:1308: UndefinedMetricWarning: Precision and F-score are ill-defined and being set to 0.0 in labels with no predicted samples. Use `zero_division` parameter to control this behavior.\n",
            "  _warn_prf(average, modifier, msg_start, len(result))\n"
          ]
        }
      ]
    },
    {
      "cell_type": "code",
      "metadata": {
        "id": "QH26enV_fSYe"
      },
      "source": [
        "preds = model.predict(valVals)"
      ],
      "execution_count": null,
      "outputs": []
    },
    {
      "cell_type": "code",
      "metadata": {
        "id": "YRYvsGY5fSYe"
      },
      "source": [
        "preds = model.predict(valVals)"
      ],
      "execution_count": null,
      "outputs": []
    },
    {
      "cell_type": "code",
      "metadata": {
        "id": "0TDrLI4ZfSYf"
      },
      "source": [
        "preds = np.argmax(preds, axis=1)"
      ],
      "execution_count": null,
      "outputs": []
    },
    {
      "cell_type": "code",
      "metadata": {
        "id": "lQvglsP1fSYf"
      },
      "source": [
        "finalLabels = np.argmax(valLabel6, axis=1)"
      ],
      "execution_count": null,
      "outputs": []
    },
    {
      "cell_type": "code",
      "metadata": {
        "colab": {
          "base_uri": "https://localhost:8080/"
        },
        "id": "6K5mFWG0fSYf",
        "outputId": "368a03d1-fed4-42d0-8c08-56dcd3becf49"
      },
      "source": [
        "cr = classification_report(finalLabels, preds)\n",
        "print(cr)"
      ],
      "execution_count": null,
      "outputs": [
        {
          "output_type": "stream",
          "name": "stdout",
          "text": [
            "              precision    recall  f1-score   support\n",
            "\n",
            "           1       0.00      0.00      0.00        32\n",
            "           2       0.69      0.61      0.65       280\n",
            "           3       0.77      0.84      0.80      1791\n",
            "           4       0.77      0.71      0.74      1164\n",
            "\n",
            "    accuracy                           0.76      3267\n",
            "   macro avg       0.56      0.54      0.55      3267\n",
            "weighted avg       0.76      0.76      0.76      3267\n",
            "\n"
          ]
        },
        {
          "output_type": "stream",
          "name": "stderr",
          "text": [
            "/usr/local/lib/python3.7/dist-packages/sklearn/metrics/_classification.py:1308: UndefinedMetricWarning: Precision and F-score are ill-defined and being set to 0.0 in labels with no predicted samples. Use `zero_division` parameter to control this behavior.\n",
            "  _warn_prf(average, modifier, msg_start, len(result))\n",
            "/usr/local/lib/python3.7/dist-packages/sklearn/metrics/_classification.py:1308: UndefinedMetricWarning: Precision and F-score are ill-defined and being set to 0.0 in labels with no predicted samples. Use `zero_division` parameter to control this behavior.\n",
            "  _warn_prf(average, modifier, msg_start, len(result))\n",
            "/usr/local/lib/python3.7/dist-packages/sklearn/metrics/_classification.py:1308: UndefinedMetricWarning: Precision and F-score are ill-defined and being set to 0.0 in labels with no predicted samples. Use `zero_division` parameter to control this behavior.\n",
            "  _warn_prf(average, modifier, msg_start, len(result))\n"
          ]
        }
      ]
    },
    {
      "cell_type": "code",
      "metadata": {
        "colab": {
          "base_uri": "https://localhost:8080/",
          "height": 376
        },
        "id": "mOELEdOcXbwR",
        "outputId": "ab1d8e2a-dbd1-495d-9746-1c2dc535416b"
      },
      "source": [
        "plt.plot(hist.history['accuracy'], label='train accuracy', c='red')\n",
        "plt.plot(hist.history['val_accuracy'], label='validation accuracy')\n",
        "plt.xlabel('Accuracy')\n",
        "plt.ylabel('Epochs')\n",
        "plt.legend()\n",
        "plt.title('Accuracy vs Epochs for 6 buckets')\n",
        "plt.show()"
      ],
      "execution_count": null,
      "outputs": [
        {
          "output_type": "display_data",
          "data": {
            "image/png": "[encoded data removed]",
            "text/plain": [
              "<Figure size 576x396 with 1 Axes>"
            ]
          },
          "metadata": {}
        }
      ]
    },
    {
      "cell_type": "code",
      "metadata": {
        "colab": {
          "base_uri": "https://localhost:8080/",
          "height": 376
        },
        "id": "PtwQbPMOYGy6",
        "outputId": "f8209f3c-3a1c-47fc-9877-c762b90631a7"
      },
      "source": [
        "plt.plot(hist.history['loss'], label='train loss', c='red')\n",
        "plt.plot(hist.history['val_loss'], label='validation loss')\n",
        "plt.xlabel('Loss')\n",
        "plt.ylabel('Epochs')\n",
        "plt.legend()\n",
        "plt.title('Loss vs Epochs for 6 buckets')\n",
        "plt.show()"
      ],
      "execution_count": null,
      "outputs": [
        {
          "output_type": "display_data",
          "data": {
            "image/png": "[encoded data removed]",
            "text/plain": [
              "<Figure size 576x396 with 1 Axes>"
            ]
          },
          "metadata": {}
        }
      ]
    },
    {
      "cell_type": "code",
      "metadata": {
        "id": "HN-IH704YS16"
      },
      "source": [
        "from sklearn.metrics import classification_report"
      ],
      "execution_count": null,
      "outputs": []
    },
    {
      "cell_type": "code",
      "metadata": {
        "colab": {
          "base_uri": "https://localhost:8080/"
        },
        "id": "y2DXbQ8uVWrT",
        "outputId": "e97da9d2-2e3b-4b7a-dea8-3093f3b2ee21"
      },
      "source": [
        "model.evaluate(testVals, testLabel6)\n",
        "model.load_weights('bestModelValLoss.h5')\n",
        "model.evaluate(testVals, testLabel6)\n",
        "model.load_weights('bestModelValAcc.h5')\n",
        "model.evaluate(testVals, testLabel6)"
      ],
      "execution_count": null,
      "outputs": [
        {
          "output_type": "stream",
          "name": "stdout",
          "text": [
            "103/103 [==============================] - 1s 9ms/step - loss: 0.5673 - accuracy: 0.7674\n",
            "103/103 [==============================] - 1s 8ms/step - loss: 0.5817 - accuracy: 0.7319\n",
            "103/103 [==============================] - 1s 8ms/step - loss: 0.5673 - accuracy: 0.7674\n"
          ]
        },
        {
          "output_type": "execute_result",
          "data": {
            "text/plain": [
              "[0.5672906041145325, 0.7674418687820435]"
            ]
          },
          "metadata": {},
          "execution_count": 129
        }
      ]
    },
    {
      "cell_type": "code",
      "metadata": {
        "id": "GJy3UOjabLTL"
      },
      "source": [
        "preds = model.predict(testVals)"
      ],
      "execution_count": null,
      "outputs": []
    },
    {
      "cell_type": "code",
      "metadata": {
        "id": "YoO9x_XsbBMS"
      },
      "source": [
        "preds = np.argmax(preds, axis=1)"
      ],
      "execution_count": null,
      "outputs": []
    },
    {
      "cell_type": "code",
      "metadata": {
        "id": "I2tzfqaebqWL"
      },
      "source": [
        "finalLabels = np.argmax(testLabel6, axis=1)"
      ],
      "execution_count": null,
      "outputs": []
    },
    {
      "cell_type": "code",
      "metadata": {
        "colab": {
          "base_uri": "https://localhost:8080/"
        },
        "id": "VSNIIhMrbcgG",
        "outputId": "38e0c7bf-da7d-49a7-bdde-1643f1ea208f"
      },
      "source": [
        "preds[0], testLabel6[0], finalLabels[0]"
      ],
      "execution_count": null,
      "outputs": [
        {
          "output_type": "execute_result",
          "data": {
            "text/plain": [
              "(3, array([0, 0, 0, 1, 0, 0], dtype=int8), 3)"
            ]
          },
          "metadata": {},
          "execution_count": 139
        }
      ]
    },
    {
      "cell_type": "code",
      "metadata": {
        "colab": {
          "base_uri": "https://localhost:8080/"
        },
        "id": "2T8nHWrvYfDa",
        "outputId": "094b314c-709f-4daf-caff-edc56c917966"
      },
      "source": [
        "cr = classification_report(finalLabels, preds)\n",
        "print(cr)"
      ],
      "execution_count": null,
      "outputs": [
        {
          "output_type": "stream",
          "name": "stdout",
          "text": [
            "              precision    recall  f1-score   support\n",
            "\n",
            "           1       0.80      0.19      0.31        21\n",
            "           2       0.75      0.55      0.64       297\n",
            "           3       0.79      0.80      0.79      1787\n",
            "           4       0.74      0.79      0.76      1161\n",
            "           5       0.00      0.00      0.00         2\n",
            "\n",
            "    accuracy                           0.77      3268\n",
            "   macro avg       0.62      0.47      0.50      3268\n",
            "weighted avg       0.77      0.77      0.76      3268\n",
            "\n"
          ]
        },
        {
          "output_type": "stream",
          "name": "stderr",
          "text": [
            "/usr/local/lib/python3.7/dist-packages/sklearn/metrics/_classification.py:1308: UndefinedMetricWarning: Precision and F-score are ill-defined and being set to 0.0 in labels with no predicted samples. Use `zero_division` parameter to control this behavior.\n",
            "  _warn_prf(average, modifier, msg_start, len(result))\n",
            "/usr/local/lib/python3.7/dist-packages/sklearn/metrics/_classification.py:1308: UndefinedMetricWarning: Precision and F-score are ill-defined and being set to 0.0 in labels with no predicted samples. Use `zero_division` parameter to control this behavior.\n",
            "  _warn_prf(average, modifier, msg_start, len(result))\n",
            "/usr/local/lib/python3.7/dist-packages/sklearn/metrics/_classification.py:1308: UndefinedMetricWarning: Precision and F-score are ill-defined and being set to 0.0 in labels with no predicted samples. Use `zero_division` parameter to control this behavior.\n",
            "  _warn_prf(average, modifier, msg_start, len(result))\n"
          ]
        }
      ]
    },
    {
      "cell_type": "code",
      "metadata": {
        "colab": {
          "base_uri": "https://localhost:8080/"
        },
        "id": "li1FPiLjWO19",
        "outputId": "9d5fc8d8-6d01-423b-b80a-042cf28fd094"
      },
      "source": [
        "model = Sequential()\n",
        "model.add(Dense(500, activation='relu', input_dim=3561))\n",
        "# model.add(Dense(500, activation='relu'))\n",
        "model.add(Dense(250, activation='relu'))\n",
        "model.add(Dense(125, activation='relu'))\n",
        "model.add(Dense(60, activation='relu'))\n",
        "model.add(Dense(30, activation='relu'))\n",
        "model.add(Dense(15, activation='relu'))\n",
        "model.add(Dense(6, activation='softmax'))\n",
        "model.summary()\n",
        "model.compile(loss='categorical_crossentropy', optimizer='adam', metrics=['accuracy'])\n",
        "checkPointLoss = ModelCheckpoint('bestModelValLoss.h5', monitor='val_loss', verbose=True, save_best_only=True)\n",
        "checkPointAcc = ModelCheckpoint('bestModelValAcc.h5', monitor='val_accuracy', verbose=True, save_best_only=True)\n",
        "earlyStopping = EarlyStopping(monitor='val_loss', patience=5, verbose=True)\n",
        "model.fit(trainVals, trainLabel6, batch_size=128, epochs=150, validation_data=(valVals, valLabel6), callbacks=[checkPointLoss, checkPointAcc, earlyStopping])"
      ],
      "execution_count": null,
      "outputs": [
        {
          "output_type": "stream",
          "name": "stdout",
          "text": [
            "Model: \"sequential_3\"\n",
            "_________________________________________________________________\n",
            " Layer (type)                Output Shape              Param #   \n",
            "=================================================================\n",
            " dense_15 (Dense)            (None, 500)               1781000   \n",
            "                                                                 \n",
            " dense_16 (Dense)            (None, 250)               125250    \n",
            "                                                                 \n",
            " dense_17 (Dense)            (None, 125)               31375     \n",
            "                                                                 \n",
            " dense_18 (Dense)            (None, 60)                7560      \n",
            "                                                                 \n",
            " dense_19 (Dense)            (None, 30)                1830      \n",
            "                                                                 \n",
            " dense_20 (Dense)            (None, 15)                465       \n",
            "                                                                 \n",
            " dense_21 (Dense)            (None, 6)                 96        \n",
            "                                                                 \n",
            "=================================================================\n",
            "Total params: 1,947,576\n",
            "Trainable params: 1,947,576\n",
            "Non-trainable params: 0\n",
            "_________________________________________________________________\n",
            "Epoch 1/150\n",
            "119/120 [============================>.] - ETA: 0s - loss: 0.8535 - accuracy: 0.6237\n",
            "Epoch 00001: val_loss improved from inf to 0.63709, saving model to bestModelValLoss.h5\n",
            "\n",
            "Epoch 00001: val_accuracy improved from -inf to 0.71564, saving model to bestModelValAcc.h5\n",
            "120/120 [==============================] - 6s 47ms/step - loss: 0.8533 - accuracy: 0.6237 - val_loss: 0.6371 - val_accuracy: 0.7156\n",
            "Epoch 2/150\n",
            "119/120 [============================>.] - ETA: 0s - loss: 0.4730 - accuracy: 0.8051\n",
            "Epoch 00002: val_loss improved from 0.63709 to 0.58482, saving model to bestModelValLoss.h5\n",
            "\n",
            "Epoch 00002: val_accuracy improved from 0.71564 to 0.73952, saving model to bestModelValAcc.h5\n",
            "120/120 [==============================] - 5s 39ms/step - loss: 0.4731 - accuracy: 0.8050 - val_loss: 0.5848 - val_accuracy: 0.7395\n",
            "Epoch 3/150\n",
            "119/120 [============================>.] - ETA: 0s - loss: 0.1824 - accuracy: 0.9356\n",
            "Epoch 00003: val_loss did not improve from 0.58482\n",
            "\n",
            "Epoch 00003: val_accuracy improved from 0.73952 to 0.74931, saving model to bestModelValAcc.h5\n",
            "120/120 [==============================] - 4s 37ms/step - loss: 0.1823 - accuracy: 0.9357 - val_loss: 0.7031 - val_accuracy: 0.7493\n",
            "Epoch 4/150\n",
            "119/120 [============================>.] - ETA: 0s - loss: 0.0514 - accuracy: 0.9861\n",
            "Epoch 00004: val_loss did not improve from 0.58482\n",
            "\n",
            "Epoch 00004: val_accuracy improved from 0.74931 to 0.75268, saving model to bestModelValAcc.h5\n",
            "120/120 [==============================] - 4s 37ms/step - loss: 0.0514 - accuracy: 0.9862 - val_loss: 0.9883 - val_accuracy: 0.7527\n",
            "Epoch 5/150\n",
            "119/120 [============================>.] - ETA: 0s - loss: 0.0188 - accuracy: 0.9955\n",
            "Epoch 00005: val_loss did not improve from 0.58482\n",
            "\n",
            "Epoch 00005: val_accuracy improved from 0.75268 to 0.75727, saving model to bestModelValAcc.h5\n",
            "120/120 [==============================] - 4s 37ms/step - loss: 0.0188 - accuracy: 0.9955 - val_loss: 1.1352 - val_accuracy: 0.7573\n",
            "Epoch 6/150\n",
            "119/120 [============================>.] - ETA: 0s - loss: 0.0151 - accuracy: 0.9956\n",
            "Epoch 00006: val_loss did not improve from 0.58482\n",
            "\n",
            "Epoch 00006: val_accuracy improved from 0.75727 to 0.76155, saving model to bestModelValAcc.h5\n",
            "120/120 [==============================] - 4s 37ms/step - loss: 0.0151 - accuracy: 0.9956 - val_loss: 1.2574 - val_accuracy: 0.7616\n",
            "Epoch 7/150\n",
            "119/120 [============================>.] - ETA: 0s - loss: 0.0215 - accuracy: 0.9942\n",
            "Epoch 00007: val_loss did not improve from 0.58482\n",
            "\n",
            "Epoch 00007: val_accuracy did not improve from 0.76155\n",
            "120/120 [==============================] - 4s 35ms/step - loss: 0.0215 - accuracy: 0.9942 - val_loss: 1.2616 - val_accuracy: 0.7441\n",
            "Epoch 00007: early stopping\n"
          ]
        },
        {
          "output_type": "execute_result",
          "data": {
            "text/plain": [
              "<keras.callbacks.History at 0x7f3d819661d0>"
            ]
          },
          "metadata": {},
          "execution_count": 26
        }
      ]
    },
    {
      "cell_type": "code",
      "metadata": {
        "colab": {
          "base_uri": "https://localhost:8080/"
        },
        "id": "FRChEZLPXKRg",
        "outputId": "3c624e6b-5ff6-41ef-9f62-f31c17fe8ef9"
      },
      "source": [
        "model.evaluate(testVals, testLabel6)\n",
        "model.load_weights('bestModelValLoss.h5')\n",
        "model.evaluate(testVals, testLabel6)\n",
        "model.load_weights('bestModelValAcc.h5')\n",
        "model.evaluate(testVals, testLabel6)"
      ],
      "execution_count": null,
      "outputs": [
        {
          "output_type": "stream",
          "name": "stdout",
          "text": [
            "103/103 [==============================] - 1s 6ms/step - loss: 1.2482 - accuracy: 0.7414\n",
            "103/103 [==============================] - 1s 6ms/step - loss: 0.5791 - accuracy: 0.7472\n",
            "103/103 [==============================] - 1s 6ms/step - loss: 1.2546 - accuracy: 0.7476\n"
          ]
        },
        {
          "output_type": "execute_result",
          "data": {
            "text/plain": [
              "[1.2545723915100098, 0.7475520372390747]"
            ]
          },
          "metadata": {},
          "execution_count": 27
        }
      ]
    },
    {
      "cell_type": "code",
      "metadata": {
        "colab": {
          "base_uri": "https://localhost:8080/"
        },
        "id": "DZ7vxmHUXXIq",
        "outputId": "43794bad-f56d-4825-e0fc-5c0d1d758d0e"
      },
      "source": [
        "model = Sequential()\n",
        "model.add(Dense(500, activation='relu', input_dim=3561))\n",
        "model.add(Dense(500, activation='relu'))\n",
        "model.add(Dense(250, activation='relu'))\n",
        "model.add(Dense(125, activation='relu'))\n",
        "model.add(Dense(60, activation='relu'))\n",
        "model.add(Dense(30, activation='relu'))\n",
        "model.add(Dense(15, activation='relu'))\n",
        "model.add(Dense(6, activation='softmax'))\n",
        "model.summary()\n",
        "model.compile(loss='categorical_crossentropy', optimizer='adam', metrics=['accuracy'])\n",
        "checkPointLoss = ModelCheckpoint('bestModelValLoss.h5', monitor='val_loss', verbose=True, save_best_only=True)\n",
        "checkPointAcc = ModelCheckpoint('bestModelValAcc.h5', monitor='val_accuracy', verbose=True, save_best_only=True)\n",
        "earlyStopping = EarlyStopping(monitor='val_loss', patience=10, verbose=True)\n",
        "model.fit(trainVals, trainLabel6, batch_size=128, epochs=150, validation_data=(valVals, valLabel6), callbacks=[checkPointLoss, checkPointAcc, earlyStopping])"
      ],
      "execution_count": null,
      "outputs": [
        {
          "output_type": "stream",
          "name": "stdout",
          "text": [
            "Model: \"sequential_5\"\n",
            "_________________________________________________________________\n",
            " Layer (type)                Output Shape              Param #   \n",
            "=================================================================\n",
            " dense_30 (Dense)            (None, 500)               1781000   \n",
            "                                                                 \n",
            " dense_31 (Dense)            (None, 500)               250500    \n",
            "                                                                 \n",
            " dense_32 (Dense)            (None, 250)               125250    \n",
            "                                                                 \n",
            " dense_33 (Dense)            (None, 125)               31375     \n",
            "                                                                 \n",
            " dense_34 (Dense)            (None, 60)                7560      \n",
            "                                                                 \n",
            " dense_35 (Dense)            (None, 30)                1830      \n",
            "                                                                 \n",
            " dense_36 (Dense)            (None, 15)                465       \n",
            "                                                                 \n",
            " dense_37 (Dense)            (None, 6)                 96        \n",
            "                                                                 \n",
            "=================================================================\n",
            "Total params: 2,198,076\n",
            "Trainable params: 2,198,076\n",
            "Non-trainable params: 0\n",
            "_________________________________________________________________\n",
            "Epoch 1/150\n",
            "120/120 [==============================] - ETA: 0s - loss: 0.7571 - accuracy: 0.6589\n",
            "Epoch 00001: val_loss improved from inf to 0.62859, saving model to bestModelValLoss.h5\n",
            "\n",
            "Epoch 00001: val_accuracy improved from -inf to 0.68320, saving model to bestModelValAcc.h5\n",
            "120/120 [==============================] - 6s 49ms/step - loss: 0.7571 - accuracy: 0.6589 - val_loss: 0.6286 - val_accuracy: 0.6832\n",
            "Epoch 2/150\n",
            "119/120 [============================>.] - ETA: 0s - loss: 0.3847 - accuracy: 0.8418\n",
            "Epoch 00002: val_loss improved from 0.62859 to 0.58851, saving model to bestModelValLoss.h5\n",
            "\n",
            "Epoch 00002: val_accuracy improved from 0.68320 to 0.75543, saving model to bestModelValAcc.h5\n",
            "120/120 [==============================] - 5s 42ms/step - loss: 0.3847 - accuracy: 0.8417 - val_loss: 0.5885 - val_accuracy: 0.7554\n",
            "Epoch 3/150\n",
            "119/120 [============================>.] - ETA: 0s - loss: 0.1333 - accuracy: 0.9526\n",
            "Epoch 00003: val_loss did not improve from 0.58851\n",
            "\n",
            "Epoch 00003: val_accuracy did not improve from 0.75543\n",
            "120/120 [==============================] - 5s 40ms/step - loss: 0.1333 - accuracy: 0.9526 - val_loss: 0.7303 - val_accuracy: 0.7515\n",
            "Epoch 4/150\n",
            "120/120 [==============================] - ETA: 0s - loss: 0.0516 - accuracy: 0.9820\n",
            "Epoch 00004: val_loss did not improve from 0.58851\n",
            "\n",
            "Epoch 00004: val_accuracy did not improve from 0.75543\n",
            "120/120 [==============================] - 5s 42ms/step - loss: 0.0516 - accuracy: 0.9820 - val_loss: 1.0923 - val_accuracy: 0.7554\n",
            "Epoch 5/150\n",
            "120/120 [==============================] - ETA: 0s - loss: 0.0395 - accuracy: 0.9869\n",
            "Epoch 00005: val_loss did not improve from 0.58851\n",
            "\n",
            "Epoch 00005: val_accuracy did not improve from 0.75543\n",
            "120/120 [==============================] - 5s 41ms/step - loss: 0.0395 - accuracy: 0.9869 - val_loss: 1.1781 - val_accuracy: 0.7426\n",
            "Epoch 6/150\n",
            "119/120 [============================>.] - ETA: 0s - loss: 0.0277 - accuracy: 0.9905\n",
            "Epoch 00006: val_loss did not improve from 0.58851\n",
            "\n",
            "Epoch 00006: val_accuracy did not improve from 0.75543\n",
            "120/120 [==============================] - 5s 40ms/step - loss: 0.0276 - accuracy: 0.9905 - val_loss: 1.2387 - val_accuracy: 0.7407\n",
            "Epoch 7/150\n",
            "119/120 [============================>.] - ETA: 0s - loss: 0.0266 - accuracy: 0.9911\n",
            "Epoch 00007: val_loss did not improve from 0.58851\n",
            "\n",
            "Epoch 00007: val_accuracy did not improve from 0.75543\n",
            "120/120 [==============================] - 5s 40ms/step - loss: 0.0266 - accuracy: 0.9911 - val_loss: 1.4176 - val_accuracy: 0.7475\n",
            "Epoch 8/150\n",
            "119/120 [============================>.] - ETA: 0s - loss: 0.0211 - accuracy: 0.9936\n",
            "Epoch 00008: val_loss did not improve from 0.58851\n",
            "\n",
            "Epoch 00008: val_accuracy did not improve from 0.75543\n",
            "120/120 [==============================] - 5s 40ms/step - loss: 0.0211 - accuracy: 0.9936 - val_loss: 1.3361 - val_accuracy: 0.7466\n",
            "Epoch 9/150\n",
            "120/120 [==============================] - ETA: 0s - loss: 0.0192 - accuracy: 0.9936\n",
            "Epoch 00009: val_loss did not improve from 0.58851\n",
            "\n",
            "Epoch 00009: val_accuracy did not improve from 0.75543\n",
            "120/120 [==============================] - 5s 40ms/step - loss: 0.0192 - accuracy: 0.9936 - val_loss: 1.5219 - val_accuracy: 0.7401\n",
            "Epoch 10/150\n",
            "120/120 [==============================] - ETA: 0s - loss: 0.0179 - accuracy: 0.9940\n",
            "Epoch 00010: val_loss did not improve from 0.58851\n",
            "\n",
            "Epoch 00010: val_accuracy did not improve from 0.75543\n",
            "120/120 [==============================] - 5s 40ms/step - loss: 0.0179 - accuracy: 0.9940 - val_loss: 1.6252 - val_accuracy: 0.7313\n",
            "Epoch 11/150\n",
            "119/120 [============================>.] - ETA: 0s - loss: 0.0211 - accuracy: 0.9938\n",
            "Epoch 00011: val_loss did not improve from 0.58851\n",
            "\n",
            "Epoch 00011: val_accuracy did not improve from 0.75543\n",
            "120/120 [==============================] - 5s 39ms/step - loss: 0.0210 - accuracy: 0.9938 - val_loss: 1.3712 - val_accuracy: 0.7441\n",
            "Epoch 12/150\n",
            "120/120 [==============================] - ETA: 0s - loss: 0.0128 - accuracy: 0.9956\n",
            "Epoch 00012: val_loss did not improve from 0.58851\n",
            "\n",
            "Epoch 00012: val_accuracy did not improve from 0.75543\n",
            "120/120 [==============================] - 5s 40ms/step - loss: 0.0128 - accuracy: 0.9956 - val_loss: 1.3914 - val_accuracy: 0.7484\n",
            "Epoch 00012: early stopping\n"
          ]
        },
        {
          "output_type": "execute_result",
          "data": {
            "text/plain": [
              "<keras.callbacks.History at 0x7f3d82836b50>"
            ]
          },
          "metadata": {},
          "execution_count": 30
        }
      ]
    },
    {
      "cell_type": "code",
      "metadata": {
        "colab": {
          "base_uri": "https://localhost:8080/"
        },
        "id": "FVSIBYHsXbym",
        "outputId": "defe84e9-f2ae-48d8-d6c5-1a2efaeed4e4"
      },
      "source": [
        "model.evaluate(testVals, testLabel6)\n",
        "model.load_weights('bestModelValLoss.h5')\n",
        "model.evaluate(testVals, testLabel6)\n",
        "model.load_weights('bestModelValAcc.h5')\n",
        "model.evaluate(testVals, testLabel6)"
      ],
      "execution_count": null,
      "outputs": [
        {
          "output_type": "stream",
          "name": "stdout",
          "text": [
            "103/103 [==============================] - 1s 7ms/step - loss: 1.3873 - accuracy: 0.7512\n",
            "103/103 [==============================] - 1s 7ms/step - loss: 0.5924 - accuracy: 0.7521\n",
            "103/103 [==============================] - 1s 7ms/step - loss: 0.5924 - accuracy: 0.7521\n"
          ]
        },
        {
          "output_type": "execute_result",
          "data": {
            "text/plain": [
              "[0.5923585295677185, 0.7521420121192932]"
            ]
          },
          "metadata": {},
          "execution_count": 31
        }
      ]
    },
    {
      "cell_type": "code",
      "metadata": {
        "colab": {
          "base_uri": "https://localhost:8080/"
        },
        "id": "aCsWYml0YG9g",
        "outputId": "21b27b44-3ac9-4725-f72f-7fd8ca3f22a3"
      },
      "source": [
        "model = Sequential()\n",
        "model.add(Dense(250, activation='relu', input_dim=3561))\n",
        "model.add(Dense(500, activation='relu'))\n",
        "model.add(Dense(500, activation='relu'))\n",
        "model.add(Dense(200, activation='relu'))\n",
        "model.add(Dense(80, activation='relu'))\n",
        "# model.add(Dense(30, activation='relu'))\n",
        "model.add(Dense(20, activation='relu'))\n",
        "model.add(Dense(6, activation='softmax'))\n",
        "model.summary()\n",
        "model.compile(loss='categorical_crossentropy', optimizer='adam', metrics=['accuracy'])\n",
        "checkPointLoss = ModelCheckpoint('bestModelValLoss.h5', monitor='val_loss', verbose=True, save_best_only=True)\n",
        "checkPointAcc = ModelCheckpoint('bestModelValAcc.h5', monitor='val_accuracy', verbose=True, save_best_only=True)\n",
        "earlyStopping = EarlyStopping(monitor='val_loss', patience=10, verbose=True)\n",
        "model.fit(trainVals, trainLabel6, batch_size=128, epochs=150, validation_data=(valVals, valLabel6), callbacks=[checkPointLoss, checkPointAcc, earlyStopping])"
      ],
      "execution_count": null,
      "outputs": [
        {
          "output_type": "stream",
          "name": "stdout",
          "text": [
            "Model: \"sequential_6\"\n",
            "_________________________________________________________________\n",
            " Layer (type)                Output Shape              Param #   \n",
            "=================================================================\n",
            " dense_38 (Dense)            (None, 250)               890500    \n",
            "                                                                 \n",
            " dense_39 (Dense)            (None, 500)               125500    \n",
            "                                                                 \n",
            " dense_40 (Dense)            (None, 500)               250500    \n",
            "                                                                 \n",
            " dense_41 (Dense)            (None, 200)               100200    \n",
            "                                                                 \n",
            " dense_42 (Dense)            (None, 80)                16080     \n",
            "                                                                 \n",
            " dense_43 (Dense)            (None, 20)                1620      \n",
            "                                                                 \n",
            " dense_44 (Dense)            (None, 6)                 126       \n",
            "                                                                 \n",
            "=================================================================\n",
            "Total params: 1,384,526\n",
            "Trainable params: 1,384,526\n",
            "Non-trainable params: 0\n",
            "_________________________________________________________________\n",
            "Epoch 1/150\n",
            "119/120 [============================>.] - ETA: 0s - loss: 0.7720 - accuracy: 0.6434\n",
            "Epoch 00001: val_loss improved from inf to 0.70599, saving model to bestModelValLoss.h5\n",
            "\n",
            "Epoch 00001: val_accuracy improved from -inf to 0.64800, saving model to bestModelValAcc.h5\n",
            "120/120 [==============================] - 5s 40ms/step - loss: 0.7717 - accuracy: 0.6436 - val_loss: 0.7060 - val_accuracy: 0.6480\n",
            "Epoch 2/150\n",
            "119/120 [============================>.] - ETA: 0s - loss: 0.3873 - accuracy: 0.8441\n",
            "Epoch 00002: val_loss improved from 0.70599 to 0.60380, saving model to bestModelValLoss.h5\n",
            "\n",
            "Epoch 00002: val_accuracy improved from 0.64800 to 0.75054, saving model to bestModelValAcc.h5\n",
            "120/120 [==============================] - 4s 32ms/step - loss: 0.3873 - accuracy: 0.8440 - val_loss: 0.6038 - val_accuracy: 0.7505\n",
            "Epoch 3/150\n",
            "119/120 [============================>.] - ETA: 0s - loss: 0.1531 - accuracy: 0.9453\n",
            "Epoch 00003: val_loss did not improve from 0.60380\n",
            "\n",
            "Epoch 00003: val_accuracy improved from 0.75054 to 0.75849, saving model to bestModelValAcc.h5\n",
            "120/120 [==============================] - 4s 31ms/step - loss: 0.1530 - accuracy: 0.9454 - val_loss: 0.7612 - val_accuracy: 0.7585\n",
            "Epoch 4/150\n",
            "118/120 [============================>.] - ETA: 0s - loss: 0.0538 - accuracy: 0.9833\n",
            "Epoch 00004: val_loss did not improve from 0.60380\n",
            "\n",
            "Epoch 00004: val_accuracy improved from 0.75849 to 0.75880, saving model to bestModelValAcc.h5\n",
            "120/120 [==============================] - 4s 32ms/step - loss: 0.0540 - accuracy: 0.9831 - val_loss: 1.1048 - val_accuracy: 0.7588\n",
            "Epoch 5/150\n",
            "119/120 [============================>.] - ETA: 0s - loss: 0.0267 - accuracy: 0.9913\n",
            "Epoch 00005: val_loss did not improve from 0.60380\n",
            "\n",
            "Epoch 00005: val_accuracy did not improve from 0.75880\n",
            "120/120 [==============================] - 4s 30ms/step - loss: 0.0266 - accuracy: 0.9913 - val_loss: 1.1841 - val_accuracy: 0.7438\n",
            "Epoch 6/150\n",
            "119/120 [============================>.] - ETA: 0s - loss: 0.0324 - accuracy: 0.9889\n",
            "Epoch 00006: val_loss did not improve from 0.60380\n",
            "\n",
            "Epoch 00006: val_accuracy did not improve from 0.75880\n",
            "120/120 [==============================] - 4s 30ms/step - loss: 0.0324 - accuracy: 0.9889 - val_loss: 1.2754 - val_accuracy: 0.7567\n",
            "Epoch 7/150\n",
            "118/120 [============================>.] - ETA: 0s - loss: 0.0348 - accuracy: 0.9891\n",
            "Epoch 00007: val_loss did not improve from 0.60380\n",
            "\n",
            "Epoch 00007: val_accuracy did not improve from 0.75880\n",
            "120/120 [==============================] - 4s 31ms/step - loss: 0.0347 - accuracy: 0.9890 - val_loss: 1.2564 - val_accuracy: 0.7536\n",
            "Epoch 8/150\n",
            "119/120 [============================>.] - ETA: 0s - loss: 0.0290 - accuracy: 0.9912\n",
            "Epoch 00008: val_loss did not improve from 0.60380\n",
            "\n",
            "Epoch 00008: val_accuracy did not improve from 0.75880\n",
            "120/120 [==============================] - 4s 30ms/step - loss: 0.0290 - accuracy: 0.9912 - val_loss: 1.2190 - val_accuracy: 0.7469\n",
            "Epoch 9/150\n",
            "119/120 [============================>.] - ETA: 0s - loss: 0.0291 - accuracy: 0.9904\n",
            "Epoch 00009: val_loss did not improve from 0.60380\n",
            "\n",
            "Epoch 00009: val_accuracy did not improve from 0.75880\n",
            "120/120 [==============================] - 4s 31ms/step - loss: 0.0291 - accuracy: 0.9904 - val_loss: 1.3326 - val_accuracy: 0.7423\n",
            "Epoch 10/150\n",
            "119/120 [============================>.] - ETA: 0s - loss: 0.0093 - accuracy: 0.9975\n",
            "Epoch 00010: val_loss did not improve from 0.60380\n",
            "\n",
            "Epoch 00010: val_accuracy did not improve from 0.75880\n",
            "120/120 [==============================] - 4s 31ms/step - loss: 0.0093 - accuracy: 0.9975 - val_loss: 1.4559 - val_accuracy: 0.7564\n",
            "Epoch 11/150\n",
            "119/120 [============================>.] - ETA: 0s - loss: 0.0050 - accuracy: 0.9986\n",
            "Epoch 00011: val_loss did not improve from 0.60380\n",
            "\n",
            "Epoch 00011: val_accuracy did not improve from 0.75880\n",
            "120/120 [==============================] - 4s 31ms/step - loss: 0.0050 - accuracy: 0.9986 - val_loss: 1.8070 - val_accuracy: 0.7459\n",
            "Epoch 12/150\n",
            "119/120 [============================>.] - ETA: 0s - loss: 0.0076 - accuracy: 0.9974\n",
            "Epoch 00012: val_loss did not improve from 0.60380\n",
            "\n",
            "Epoch 00012: val_accuracy did not improve from 0.75880\n",
            "120/120 [==============================] - 4s 31ms/step - loss: 0.0075 - accuracy: 0.9974 - val_loss: 1.6966 - val_accuracy: 0.7490\n",
            "Epoch 00012: early stopping\n"
          ]
        },
        {
          "output_type": "execute_result",
          "data": {
            "text/plain": [
              "<keras.callbacks.History at 0x7f3d8272b090>"
            ]
          },
          "metadata": {},
          "execution_count": 32
        }
      ]
    },
    {
      "cell_type": "code",
      "metadata": {
        "colab": {
          "base_uri": "https://localhost:8080/"
        },
        "id": "rrvnNiEgYmv5",
        "outputId": "67297526-65e6-427b-cc90-12a59b266dee"
      },
      "source": [
        "model.evaluate(testVals, testLabel6)\n",
        "model.load_weights('bestModelValLoss.h5')\n",
        "model.evaluate(testVals, testLabel6)\n",
        "model.load_weights('bestModelValAcc.h5')\n",
        "model.evaluate(testVals, testLabel6)"
      ],
      "execution_count": null,
      "outputs": [
        {
          "output_type": "stream",
          "name": "stdout",
          "text": [
            "103/103 [==============================] - 1s 6ms/step - loss: 1.7787 - accuracy: 0.7417\n",
            "103/103 [==============================] - 1s 6ms/step - loss: 0.6153 - accuracy: 0.7573\n",
            "103/103 [==============================] - 1s 6ms/step - loss: 1.1142 - accuracy: 0.7604\n"
          ]
        },
        {
          "output_type": "execute_result",
          "data": {
            "text/plain": [
              "[1.1142010688781738, 0.7604039311408997]"
            ]
          },
          "metadata": {},
          "execution_count": 33
        }
      ]
    },
    {
      "cell_type": "code",
      "metadata": {
        "colab": {
          "base_uri": "https://localhost:8080/"
        },
        "id": "GwX91W1oY1pr",
        "outputId": "22090cc4-bc50-46e2-e77d-8f381989dcae"
      },
      "source": [
        "model = Sequential()\n",
        "model.add(Dense(100, activation='relu', input_dim=3561))\n",
        "# model.add(Dense(500, activation='relu'))\n",
        "# model.add(Dense(500, activation='relu'))\n",
        "# model.add(Dense(200, activation='relu'))\n",
        "# model.add(Dense(80, activation='relu'))\n",
        "# model.add(Dense(30, activation='relu'))\n",
        "# model.add(Dense(20, activation='relu'))\n",
        "model.add(Dense(6, activation='softmax'))\n",
        "model.summary()\n",
        "model.compile(loss='categorical_crossentropy', optimizer='adam', metrics=['accuracy'])\n",
        "checkPointLoss = ModelCheckpoint('bestModelValLoss.h5', monitor='val_loss', verbose=True, save_best_only=True)\n",
        "checkPointAcc = ModelCheckpoint('bestModelValAcc.h5', monitor='val_accuracy', verbose=True, save_best_only=True)\n",
        "earlyStopping = EarlyStopping(monitor='val_loss', patience=10, verbose=True)\n",
        "model.fit(trainVals, trainLabel6, batch_size=128, epochs=150, validation_data=(valVals, valLabel6), callbacks=[checkPointLoss, checkPointAcc, earlyStopping])"
      ],
      "execution_count": null,
      "outputs": [
        {
          "output_type": "stream",
          "name": "stdout",
          "text": [
            "Model: \"sequential_7\"\n",
            "_________________________________________________________________\n",
            " Layer (type)                Output Shape              Param #   \n",
            "=================================================================\n",
            " dense_45 (Dense)            (None, 100)               356200    \n",
            "                                                                 \n",
            " dense_46 (Dense)            (None, 6)                 606       \n",
            "                                                                 \n",
            "=================================================================\n",
            "Total params: 356,806\n",
            "Trainable params: 356,806\n",
            "Non-trainable params: 0\n",
            "_________________________________________________________________\n",
            "Epoch 1/150\n",
            "116/120 [============================>.] - ETA: 0s - loss: 0.8962 - accuracy: 0.6245\n",
            "Epoch 00001: val_loss improved from inf to 0.73194, saving model to bestModelValLoss.h5\n",
            "\n",
            "Epoch 00001: val_accuracy improved from -inf to 0.67218, saving model to bestModelValAcc.h5\n",
            "120/120 [==============================] - 7s 56ms/step - loss: 0.8911 - accuracy: 0.6258 - val_loss: 0.7319 - val_accuracy: 0.6722\n",
            "Epoch 2/150\n",
            "118/120 [============================>.] - ETA: 0s - loss: 0.6078 - accuracy: 0.7402\n",
            "Epoch 00002: val_loss improved from 0.73194 to 0.67992, saving model to bestModelValLoss.h5\n",
            "\n",
            "Epoch 00002: val_accuracy improved from 0.67218 to 0.68717, saving model to bestModelValAcc.h5\n",
            "120/120 [==============================] - 1s 11ms/step - loss: 0.6076 - accuracy: 0.7401 - val_loss: 0.6799 - val_accuracy: 0.6872\n",
            "Epoch 3/150\n",
            "116/120 [============================>.] - ETA: 0s - loss: 0.4843 - accuracy: 0.8047\n",
            "Epoch 00003: val_loss improved from 0.67992 to 0.66253, saving model to bestModelValLoss.h5\n",
            "\n",
            "Epoch 00003: val_accuracy improved from 0.68717 to 0.69146, saving model to bestModelValAcc.h5\n",
            "120/120 [==============================] - 1s 12ms/step - loss: 0.4856 - accuracy: 0.8036 - val_loss: 0.6625 - val_accuracy: 0.6915\n",
            "Epoch 4/150\n",
            "119/120 [============================>.] - ETA: 0s - loss: 0.3903 - accuracy: 0.8491\n",
            "Epoch 00004: val_loss did not improve from 0.66253\n",
            "\n",
            "Epoch 00004: val_accuracy improved from 0.69146 to 0.70003, saving model to bestModelValAcc.h5\n",
            "120/120 [==============================] - 1s 11ms/step - loss: 0.3900 - accuracy: 0.8492 - val_loss: 0.6637 - val_accuracy: 0.7000\n",
            "Epoch 5/150\n",
            "116/120 [============================>.] - ETA: 0s - loss: 0.3006 - accuracy: 0.8955\n",
            "Epoch 00005: val_loss did not improve from 0.66253\n",
            "\n",
            "Epoch 00005: val_accuracy improved from 0.70003 to 0.71166, saving model to bestModelValAcc.h5\n",
            "120/120 [==============================] - 1s 11ms/step - loss: 0.3014 - accuracy: 0.8954 - val_loss: 0.6760 - val_accuracy: 0.7117\n",
            "Epoch 6/150\n",
            "116/120 [============================>.] - ETA: 0s - loss: 0.2215 - accuracy: 0.9386\n",
            "Epoch 00006: val_loss did not improve from 0.66253\n",
            "\n",
            "Epoch 00006: val_accuracy improved from 0.71166 to 0.71350, saving model to bestModelValAcc.h5\n",
            "120/120 [==============================] - 1s 10ms/step - loss: 0.2215 - accuracy: 0.9385 - val_loss: 0.6956 - val_accuracy: 0.7135\n",
            "Epoch 7/150\n",
            "119/120 [============================>.] - ETA: 0s - loss: 0.1564 - accuracy: 0.9662\n",
            "Epoch 00007: val_loss did not improve from 0.66253\n",
            "\n",
            "Epoch 00007: val_accuracy did not improve from 0.71350\n",
            "120/120 [==============================] - 1s 10ms/step - loss: 0.1563 - accuracy: 0.9662 - val_loss: 0.7219 - val_accuracy: 0.7120\n",
            "Epoch 8/150\n",
            "116/120 [============================>.] - ETA: 0s - loss: 0.1072 - accuracy: 0.9848\n",
            "Epoch 00008: val_loss did not improve from 0.66253\n",
            "\n",
            "Epoch 00008: val_accuracy did not improve from 0.71350\n",
            "120/120 [==============================] - 2s 14ms/step - loss: 0.1072 - accuracy: 0.9850 - val_loss: 0.7566 - val_accuracy: 0.7110\n",
            "Epoch 9/150\n",
            "116/120 [============================>.] - ETA: 0s - loss: 0.0732 - accuracy: 0.9933\n",
            "Epoch 00009: val_loss did not improve from 0.66253\n",
            "\n",
            "Epoch 00009: val_accuracy did not improve from 0.71350\n",
            "120/120 [==============================] - 1s 12ms/step - loss: 0.0733 - accuracy: 0.9934 - val_loss: 0.7945 - val_accuracy: 0.7123\n",
            "Epoch 10/150\n",
            "115/120 [===========================>..] - ETA: 0s - loss: 0.0515 - accuracy: 0.9971\n",
            "Epoch 00010: val_loss did not improve from 0.66253\n",
            "\n",
            "Epoch 00010: val_accuracy did not improve from 0.71350\n",
            "120/120 [==============================] - 2s 13ms/step - loss: 0.0511 - accuracy: 0.9972 - val_loss: 0.8259 - val_accuracy: 0.7120\n",
            "Epoch 11/150\n",
            "118/120 [============================>.] - ETA: 0s - loss: 0.0365 - accuracy: 0.9987\n",
            "Epoch 00011: val_loss did not improve from 0.66253\n",
            "\n",
            "Epoch 00011: val_accuracy did not improve from 0.71350\n",
            "120/120 [==============================] - 3s 23ms/step - loss: 0.0365 - accuracy: 0.9987 - val_loss: 0.8585 - val_accuracy: 0.7132\n",
            "Epoch 12/150\n",
            "118/120 [============================>.] - ETA: 0s - loss: 0.0273 - accuracy: 0.9992\n",
            "Epoch 00012: val_loss did not improve from 0.66253\n",
            "\n",
            "Epoch 00012: val_accuracy improved from 0.71350 to 0.71534, saving model to bestModelValAcc.h5\n",
            "120/120 [==============================] - 2s 15ms/step - loss: 0.0272 - accuracy: 0.9992 - val_loss: 0.8881 - val_accuracy: 0.7153\n",
            "Epoch 13/150\n",
            "118/120 [============================>.] - ETA: 0s - loss: 0.0207 - accuracy: 0.9994\n",
            "Epoch 00013: val_loss did not improve from 0.66253\n",
            "\n",
            "Epoch 00013: val_accuracy did not improve from 0.71534\n",
            "120/120 [==============================] - 1s 11ms/step - loss: 0.0207 - accuracy: 0.9994 - val_loss: 0.9198 - val_accuracy: 0.7114\n",
            "Epoch 00013: early stopping\n"
          ]
        },
        {
          "output_type": "execute_result",
          "data": {
            "text/plain": [
              "<keras.callbacks.History at 0x7f3d8142d3d0>"
            ]
          },
          "metadata": {},
          "execution_count": 34
        }
      ]
    },
    {
      "cell_type": "code",
      "metadata": {
        "colab": {
          "base_uri": "https://localhost:8080/"
        },
        "id": "yWYgYDj5Z1i8",
        "outputId": "50141a2d-8d85-4b2e-e73b-7a92a0f7eaca"
      },
      "source": [
        "model.evaluate(testVals, testLabel6)\n",
        "model.load_weights('bestModelValLoss.h5')\n",
        "model.evaluate(testVals, testLabel6)\n",
        "model.load_weights('bestModelValAcc.h5')\n",
        "model.evaluate(testVals, testLabel6)"
      ],
      "execution_count": null,
      "outputs": [
        {
          "output_type": "stream",
          "name": "stdout",
          "text": [
            "103/103 [==============================] - 0s 3ms/step - loss: 0.8888 - accuracy: 0.7133\n",
            "103/103 [==============================] - 0s 3ms/step - loss: 0.6463 - accuracy: 0.7050\n",
            "103/103 [==============================] - 0s 3ms/step - loss: 0.8579 - accuracy: 0.7160\n"
          ]
        },
        {
          "output_type": "execute_result",
          "data": {
            "text/plain": [
              "[0.8578686118125916, 0.7160342931747437]"
            ]
          },
          "metadata": {},
          "execution_count": 35
        }
      ]
    },
    {
      "cell_type": "code",
      "metadata": {
        "colab": {
          "base_uri": "https://localhost:8080/"
        },
        "id": "BZBlg6hFZ8TG",
        "outputId": "683f3a8d-558a-415d-9988-8d488e19b19a"
      },
      "source": [
        "model = Sequential()\n",
        "\n",
        "model.add(Dense(250, activation='relu', input_dim=3561))\n",
        "model.add(Dense(500, activation='relu'))\n",
        "model.add(Dense(500, activation='relu'))\n",
        "model.add(Dense(250, activation='relu'))\n",
        "model.add(Dense(125, activation='relu'))\n",
        "model.add(Dense(6, activation='softmax'))\n",
        "model.summary()\n",
        "model.compile(loss='categorical_crossentropy', optimizer='adam', metrics=['accuracy'])\n",
        "checkPointLoss = ModelCheckpoint('bestModelValLoss.h5', monitor='val_loss', verbose=True, save_best_only=True)\n",
        "checkPointAcc = ModelCheckpoint('bestModelValAcc.h5', monitor='val_accuracy', verbose=True, save_best_only=True)\n",
        "earlyStopping = EarlyStopping(monitor='val_accuracy', patience=10, verbose=True)\n",
        "model.fit(trainVals, trainLabel6, batch_size=128, epochs=150, validation_data=(valVals, valLabel6), callbacks=[checkPointLoss, checkPointAcc, earlyStopping])"
      ],
      "execution_count": null,
      "outputs": [
        {
          "output_type": "stream",
          "name": "stdout",
          "text": [
            "Model: \"sequential_10\"\n",
            "_________________________________________________________________\n",
            " Layer (type)                Output Shape              Param #   \n",
            "=================================================================\n",
            " dense_59 (Dense)            (None, 250)               890500    \n",
            "                                                                 \n",
            " dense_60 (Dense)            (None, 500)               125500    \n",
            "                                                                 \n",
            " dense_61 (Dense)            (None, 500)               250500    \n",
            "                                                                 \n",
            " dense_62 (Dense)            (None, 250)               125250    \n",
            "                                                                 \n",
            " dense_63 (Dense)            (None, 125)               31375     \n",
            "                                                                 \n",
            " dense_64 (Dense)            (None, 6)                 756       \n",
            "                                                                 \n",
            "=================================================================\n",
            "Total params: 1,423,881\n",
            "Trainable params: 1,423,881\n",
            "Non-trainable params: 0\n",
            "_________________________________________________________________\n",
            "Epoch 1/150\n",
            "119/120 [============================>.] - ETA: 0s - loss: 0.7649 - accuracy: 0.6464\n",
            "Epoch 00001: val_loss improved from inf to 0.68596, saving model to bestModelValLoss.h5\n",
            "\n",
            "Epoch 00001: val_accuracy improved from -inf to 0.66361, saving model to bestModelValAcc.h5\n",
            "120/120 [==============================] - 5s 36ms/step - loss: 0.7647 - accuracy: 0.6466 - val_loss: 0.6860 - val_accuracy: 0.6636\n",
            "Epoch 2/150\n",
            "119/120 [============================>.] - ETA: 0s - loss: 0.3592 - accuracy: 0.8529\n",
            "Epoch 00002: val_loss improved from 0.68596 to 0.59350, saving model to bestModelValLoss.h5\n",
            "\n",
            "Epoch 00002: val_accuracy improved from 0.66361 to 0.75696, saving model to bestModelValAcc.h5\n",
            "120/120 [==============================] - 4s 33ms/step - loss: 0.3590 - accuracy: 0.8530 - val_loss: 0.5935 - val_accuracy: 0.7570\n",
            "Epoch 3/150\n",
            "119/120 [============================>.] - ETA: 0s - loss: 0.1168 - accuracy: 0.9573\n",
            "Epoch 00003: val_loss did not improve from 0.59350\n",
            "\n",
            "Epoch 00003: val_accuracy improved from 0.75696 to 0.76002, saving model to bestModelValAcc.h5\n",
            "120/120 [==============================] - 4s 32ms/step - loss: 0.1167 - accuracy: 0.9573 - val_loss: 0.7566 - val_accuracy: 0.7600\n",
            "Epoch 4/150\n",
            "119/120 [============================>.] - ETA: 0s - loss: 0.0496 - accuracy: 0.9835\n",
            "Epoch 00004: val_loss did not improve from 0.59350\n",
            "\n",
            "Epoch 00004: val_accuracy did not improve from 0.76002\n",
            "120/120 [==============================] - 4s 32ms/step - loss: 0.0495 - accuracy: 0.9835 - val_loss: 1.0214 - val_accuracy: 0.7557\n",
            "Epoch 5/150\n",
            "119/120 [============================>.] - ETA: 0s - loss: 0.0334 - accuracy: 0.9902\n",
            "Epoch 00005: val_loss did not improve from 0.59350\n",
            "\n",
            "Epoch 00005: val_accuracy did not improve from 0.76002\n",
            "120/120 [==============================] - 4s 31ms/step - loss: 0.0333 - accuracy: 0.9902 - val_loss: 1.1568 - val_accuracy: 0.7576\n",
            "Epoch 6/150\n",
            "119/120 [============================>.] - ETA: 0s - loss: 0.0207 - accuracy: 0.9932\n",
            "Epoch 00006: val_loss did not improve from 0.59350\n",
            "\n",
            "Epoch 00006: val_accuracy did not improve from 0.76002\n",
            "120/120 [==============================] - 4s 31ms/step - loss: 0.0207 - accuracy: 0.9932 - val_loss: 1.3500 - val_accuracy: 0.7511\n",
            "Epoch 7/150\n",
            "119/120 [============================>.] - ETA: 0s - loss: 0.0221 - accuracy: 0.9928\n",
            "Epoch 00007: val_loss did not improve from 0.59350\n",
            "\n",
            "Epoch 00007: val_accuracy did not improve from 0.76002\n",
            "120/120 [==============================] - 4s 31ms/step - loss: 0.0220 - accuracy: 0.9928 - val_loss: 1.2788 - val_accuracy: 0.7582\n",
            "Epoch 8/150\n",
            "119/120 [============================>.] - ETA: 0s - loss: 0.0228 - accuracy: 0.9926\n",
            "Epoch 00008: val_loss did not improve from 0.59350\n",
            "\n",
            "Epoch 00008: val_accuracy did not improve from 0.76002\n",
            "120/120 [==============================] - 4s 31ms/step - loss: 0.0230 - accuracy: 0.9926 - val_loss: 1.7073 - val_accuracy: 0.7156\n",
            "Epoch 9/150\n",
            "119/120 [============================>.] - ETA: 0s - loss: 0.0297 - accuracy: 0.9907\n",
            "Epoch 00009: val_loss did not improve from 0.59350\n",
            "\n",
            "Epoch 00009: val_accuracy did not improve from 0.76002\n",
            "120/120 [==============================] - 4s 31ms/step - loss: 0.0296 - accuracy: 0.9907 - val_loss: 1.6568 - val_accuracy: 0.7184\n",
            "Epoch 10/150\n",
            "119/120 [============================>.] - ETA: 0s - loss: 0.0293 - accuracy: 0.9907\n",
            "Epoch 00010: val_loss did not improve from 0.59350\n",
            "\n",
            "Epoch 00010: val_accuracy did not improve from 0.76002\n",
            "120/120 [==============================] - 4s 31ms/step - loss: 0.0293 - accuracy: 0.9907 - val_loss: 1.2742 - val_accuracy: 0.7545\n",
            "Epoch 11/150\n",
            "119/120 [============================>.] - ETA: 0s - loss: 0.0216 - accuracy: 0.9931\n",
            "Epoch 00011: val_loss did not improve from 0.59350\n",
            "\n",
            "Epoch 00011: val_accuracy did not improve from 0.76002\n",
            "120/120 [==============================] - 4s 31ms/step - loss: 0.0216 - accuracy: 0.9931 - val_loss: 1.2534 - val_accuracy: 0.7493\n",
            "Epoch 12/150\n",
            "119/120 [============================>.] - ETA: 0s - loss: 0.0088 - accuracy: 0.9980\n",
            "Epoch 00012: val_loss did not improve from 0.59350\n",
            "\n",
            "Epoch 00012: val_accuracy improved from 0.76002 to 0.76125, saving model to bestModelValAcc.h5\n",
            "120/120 [==============================] - 4s 35ms/step - loss: 0.0088 - accuracy: 0.9980 - val_loss: 1.5474 - val_accuracy: 0.7612\n",
            "Epoch 13/150\n",
            "119/120 [============================>.] - ETA: 0s - loss: 0.0026 - accuracy: 0.9992\n",
            "Epoch 00013: val_loss did not improve from 0.59350\n",
            "\n",
            "Epoch 00013: val_accuracy did not improve from 0.76125\n",
            "120/120 [==============================] - 4s 31ms/step - loss: 0.0026 - accuracy: 0.9992 - val_loss: 1.8564 - val_accuracy: 0.7591\n",
            "Epoch 14/150\n",
            "119/120 [============================>.] - ETA: 0s - loss: 0.0017 - accuracy: 0.9997\n",
            "Epoch 00014: val_loss did not improve from 0.59350\n",
            "\n",
            "Epoch 00014: val_accuracy did not improve from 0.76125\n",
            "120/120 [==============================] - 4s 31ms/step - loss: 0.0017 - accuracy: 0.9997 - val_loss: 1.7347 - val_accuracy: 0.7576\n",
            "Epoch 15/150\n",
            "118/120 [============================>.] - ETA: 0s - loss: 0.0121 - accuracy: 0.9972\n",
            "Epoch 00015: val_loss did not improve from 0.59350\n",
            "\n",
            "Epoch 00015: val_accuracy did not improve from 0.76125\n",
            "120/120 [==============================] - 4s 31ms/step - loss: 0.0124 - accuracy: 0.9972 - val_loss: 1.5956 - val_accuracy: 0.7521\n",
            "Epoch 16/150\n",
            "119/120 [============================>.] - ETA: 0s - loss: 0.0138 - accuracy: 0.9969\n",
            "Epoch 00016: val_loss did not improve from 0.59350\n",
            "\n",
            "Epoch 00016: val_accuracy did not improve from 0.76125\n",
            "120/120 [==============================] - 4s 31ms/step - loss: 0.0138 - accuracy: 0.9969 - val_loss: 1.5891 - val_accuracy: 0.7530\n",
            "Epoch 17/150\n",
            "119/120 [============================>.] - ETA: 0s - loss: 0.0066 - accuracy: 0.9983\n",
            "Epoch 00017: val_loss did not improve from 0.59350\n",
            "\n",
            "Epoch 00017: val_accuracy did not improve from 0.76125\n",
            "120/120 [==============================] - 4s 31ms/step - loss: 0.0066 - accuracy: 0.9983 - val_loss: 1.8024 - val_accuracy: 0.7539\n",
            "Epoch 18/150\n",
            "119/120 [============================>.] - ETA: 0s - loss: 0.0176 - accuracy: 0.9940\n",
            "Epoch 00018: val_loss did not improve from 0.59350\n",
            "\n",
            "Epoch 00018: val_accuracy did not improve from 0.76125\n",
            "120/120 [==============================] - 4s 31ms/step - loss: 0.0177 - accuracy: 0.9940 - val_loss: 1.2519 - val_accuracy: 0.7472\n",
            "Epoch 19/150\n",
            "119/120 [============================>.] - ETA: 0s - loss: 0.0219 - accuracy: 0.9925\n",
            "Epoch 00019: val_loss did not improve from 0.59350\n",
            "\n",
            "Epoch 00019: val_accuracy did not improve from 0.76125\n",
            "120/120 [==============================] - 4s 31ms/step - loss: 0.0219 - accuracy: 0.9925 - val_loss: 1.4010 - val_accuracy: 0.7398\n",
            "Epoch 20/150\n",
            "119/120 [============================>.] - ETA: 0s - loss: 0.0139 - accuracy: 0.9966\n",
            "Epoch 00020: val_loss did not improve from 0.59350\n",
            "\n",
            "Epoch 00020: val_accuracy did not improve from 0.76125\n",
            "120/120 [==============================] - 4s 31ms/step - loss: 0.0139 - accuracy: 0.9966 - val_loss: 1.6867 - val_accuracy: 0.7487\n",
            "Epoch 21/150\n",
            "119/120 [============================>.] - ETA: 0s - loss: 0.0050 - accuracy: 0.9984\n",
            "Epoch 00021: val_loss did not improve from 0.59350\n",
            "\n",
            "Epoch 00021: val_accuracy did not improve from 0.76125\n",
            "120/120 [==============================] - 4s 31ms/step - loss: 0.0050 - accuracy: 0.9984 - val_loss: 1.7538 - val_accuracy: 0.7456\n",
            "Epoch 22/150\n",
            "119/120 [============================>.] - ETA: 0s - loss: 0.0070 - accuracy: 0.9980\n",
            "Epoch 00022: val_loss did not improve from 0.59350\n",
            "\n",
            "Epoch 00022: val_accuracy did not improve from 0.76125\n",
            "120/120 [==============================] - 4s 31ms/step - loss: 0.0070 - accuracy: 0.9980 - val_loss: 1.7188 - val_accuracy: 0.7423\n",
            "Epoch 00022: early stopping\n"
          ]
        },
        {
          "output_type": "execute_result",
          "data": {
            "text/plain": [
              "<keras.callbacks.History at 0x7f3d827eae50>"
            ]
          },
          "metadata": {},
          "execution_count": 40
        }
      ]
    },
    {
      "cell_type": "code",
      "metadata": {
        "colab": {
          "base_uri": "https://localhost:8080/"
        },
        "id": "Ra7riJzTbvLF",
        "outputId": "e0d88aa3-5f07-4449-b9fb-f7c93a6e5360"
      },
      "source": [
        "model.evaluate(testVals, testLabel6)\n",
        "model.load_weights('bestModelValLoss.h5')\n",
        "model.evaluate(testVals, testLabel6)\n",
        "model.load_weights('bestModelValAcc.h5')\n",
        "model.evaluate(testVals, testLabel6)"
      ],
      "execution_count": null,
      "outputs": [
        {
          "output_type": "stream",
          "name": "stdout",
          "text": [
            "103/103 [==============================] - 1s 7ms/step - loss: 1.6767 - accuracy: 0.7549\n",
            "103/103 [==============================] - 1s 6ms/step - loss: 0.6013 - accuracy: 0.7583\n",
            "103/103 [==============================] - 1s 6ms/step - loss: 1.5413 - accuracy: 0.7558\n"
          ]
        },
        {
          "output_type": "execute_result",
          "data": {
            "text/plain": [
              "[1.5413442850112915, 0.7558139562606812]"
            ]
          },
          "metadata": {},
          "execution_count": 41
        }
      ]
    },
    {
      "cell_type": "code",
      "metadata": {
        "id": "8XtvL40PjlfP"
      },
      "source": [
        "from keras.layers import Dropout"
      ],
      "execution_count": null,
      "outputs": []
    },
    {
      "cell_type": "code",
      "metadata": {
        "colab": {
          "base_uri": "https://localhost:8080/"
        },
        "id": "-HXfta9abxlH",
        "outputId": "20383ab2-9dd2-4c5f-b635-6e604574c9fb"
      },
      "source": [
        "model = Sequential()\n",
        "model.add(Dense(250, activation='relu', input_dim=3561))\n",
        "model.add(Dropout(0.5))\n",
        "model.add(Dense(500, activation='relu'))\n",
        "model.add(Dropout(0.5))\n",
        "model.add(Dense(500, activation='relu'))\n",
        "model.add(Dropout(0.5))\n",
        "model.add(Dense(200, activation='relu'))\n",
        "model.add(Dropout(0.5))\n",
        "model.add(Dense(80, activation='relu'))\n",
        "model.add(Dropout(0.5))\n",
        "# model.add(Dense(30, activation='relu'))\n",
        "# model.add(Dense(20, activation='relu'))\n",
        "model.add(Dense(11, activation='softmax'))\n",
        "model.summary()\n",
        "model.compile(loss='categorical_crossentropy', optimizer='adam', metrics=['accuracy'])\n",
        "checkPointLoss = ModelCheckpoint('bestModelValLoss.h5', monitor='val_loss', verbose=True, save_best_only=True)\n",
        "checkPointAcc = ModelCheckpoint('bestModelValAcc.h5', monitor='val_accuracy', verbose=True, save_best_only=True)\n",
        "earlyStopping = EarlyStopping(monitor='val_accuracy', patience=10, verbose=True)\n",
        "hist = model.fit(trainVals, trainLabel11, batch_size=128, epochs=150, validation_data=(valVals, valLabel11), callbacks=[checkPointLoss, checkPointAcc, earlyStopping])"
      ],
      "execution_count": null,
      "outputs": [
        {
          "output_type": "stream",
          "name": "stdout",
          "text": [
            "Model: \"sequential_24\"\n",
            "_________________________________________________________________\n",
            " Layer (type)                Output Shape              Param #   \n",
            "=================================================================\n",
            " dense_148 (Dense)           (None, 250)               890500    \n",
            "                                                                 \n",
            " dropout_39 (Dropout)        (None, 250)               0         \n",
            "                                                                 \n",
            " dense_149 (Dense)           (None, 500)               125500    \n",
            "                                                                 \n",
            " dropout_40 (Dropout)        (None, 500)               0         \n",
            "                                                                 \n",
            " dense_150 (Dense)           (None, 500)               250500    \n",
            "                                                                 \n",
            " dropout_41 (Dropout)        (None, 500)               0         \n",
            "                                                                 \n",
            " dense_151 (Dense)           (None, 200)               100200    \n",
            "                                                                 \n",
            " dropout_42 (Dropout)        (None, 200)               0         \n",
            "                                                                 \n",
            " dense_152 (Dense)           (None, 80)                16080     \n",
            "                                                                 \n",
            " dropout_43 (Dropout)        (None, 80)                0         \n",
            "                                                                 \n",
            " dense_153 (Dense)           (None, 11)                891       \n",
            "                                                                 \n",
            "=================================================================\n",
            "Total params: 1,383,671\n",
            "Trainable params: 1,383,671\n",
            "Non-trainable params: 0\n",
            "_________________________________________________________________\n",
            "Epoch 1/150\n",
            "119/120 [============================>.] - ETA: 0s - loss: 1.6408 - accuracy: 0.3518\n",
            "Epoch 00001: val_loss improved from inf to 1.38945, saving model to bestModelValLoss.h5\n",
            "\n",
            "Epoch 00001: val_accuracy improved from -inf to 0.38629, saving model to bestModelValAcc.h5\n",
            "120/120 [==============================] - 5s 39ms/step - loss: 1.6404 - accuracy: 0.3519 - val_loss: 1.3895 - val_accuracy: 0.3863\n",
            "Epoch 2/150\n",
            "119/120 [============================>.] - ETA: 0s - loss: 1.3363 - accuracy: 0.4362\n",
            "Epoch 00002: val_loss improved from 1.38945 to 1.10632, saving model to bestModelValLoss.h5\n",
            "\n",
            "Epoch 00002: val_accuracy improved from 0.38629 to 0.53015, saving model to bestModelValAcc.h5\n",
            "120/120 [==============================] - 4s 36ms/step - loss: 1.3361 - accuracy: 0.4362 - val_loss: 1.1063 - val_accuracy: 0.5301\n",
            "Epoch 3/150\n",
            "119/120 [============================>.] - ETA: 0s - loss: 1.0912 - accuracy: 0.5305\n",
            "Epoch 00003: val_loss improved from 1.10632 to 0.98500, saving model to bestModelValLoss.h5\n",
            "\n",
            "Epoch 00003: val_accuracy improved from 0.53015 to 0.58219, saving model to bestModelValAcc.h5\n",
            "120/120 [==============================] - 4s 36ms/step - loss: 1.0912 - accuracy: 0.5305 - val_loss: 0.9850 - val_accuracy: 0.5822\n",
            "Epoch 4/150\n",
            "119/120 [============================>.] - ETA: 0s - loss: 0.9339 - accuracy: 0.5983\n",
            "Epoch 00004: val_loss improved from 0.98500 to 0.93874, saving model to bestModelValLoss.h5\n",
            "\n",
            "Epoch 00004: val_accuracy improved from 0.58219 to 0.59351, saving model to bestModelValAcc.h5\n",
            "120/120 [==============================] - 4s 37ms/step - loss: 0.9338 - accuracy: 0.5983 - val_loss: 0.9387 - val_accuracy: 0.5935\n",
            "Epoch 5/150\n",
            "119/120 [============================>.] - ETA: 0s - loss: 0.8260 - accuracy: 0.6492\n",
            "Epoch 00005: val_loss did not improve from 0.93874\n",
            "\n",
            "Epoch 00005: val_accuracy did not improve from 0.59351\n",
            "120/120 [==============================] - 4s 34ms/step - loss: 0.8263 - accuracy: 0.6490 - val_loss: 1.0011 - val_accuracy: 0.5767\n",
            "Epoch 6/150\n",
            "119/120 [============================>.] - ETA: 0s - loss: 0.7393 - accuracy: 0.6901\n",
            "Epoch 00006: val_loss did not improve from 0.93874\n",
            "\n",
            "Epoch 00006: val_accuracy improved from 0.59351 to 0.60453, saving model to bestModelValAcc.h5\n",
            "120/120 [==============================] - 4s 35ms/step - loss: 0.7394 - accuracy: 0.6902 - val_loss: 0.9448 - val_accuracy: 0.6045\n",
            "Epoch 7/150\n",
            "119/120 [============================>.] - ETA: 0s - loss: 0.6601 - accuracy: 0.7351\n",
            "Epoch 00007: val_loss did not improve from 0.93874\n",
            "\n",
            "Epoch 00007: val_accuracy did not improve from 0.60453\n",
            "120/120 [==============================] - 4s 34ms/step - loss: 0.6601 - accuracy: 0.7351 - val_loss: 0.9792 - val_accuracy: 0.5975\n",
            "Epoch 8/150\n",
            "119/120 [============================>.] - ETA: 0s - loss: 0.6000 - accuracy: 0.7623\n",
            "Epoch 00008: val_loss did not improve from 0.93874\n",
            "\n",
            "Epoch 00008: val_accuracy did not improve from 0.60453\n",
            "120/120 [==============================] - 4s 33ms/step - loss: 0.6001 - accuracy: 0.7623 - val_loss: 1.0874 - val_accuracy: 0.5791\n",
            "Epoch 9/150\n",
            "119/120 [============================>.] - ETA: 0s - loss: 0.5538 - accuracy: 0.7862\n",
            "Epoch 00009: val_loss did not improve from 0.93874\n",
            "\n",
            "Epoch 00009: val_accuracy did not improve from 0.60453\n",
            "120/120 [==============================] - 4s 34ms/step - loss: 0.5539 - accuracy: 0.7861 - val_loss: 1.0914 - val_accuracy: 0.5984\n",
            "Epoch 10/150\n",
            "119/120 [============================>.] - ETA: 0s - loss: 0.5038 - accuracy: 0.8103\n",
            "Epoch 00010: val_loss did not improve from 0.93874\n",
            "\n",
            "Epoch 00010: val_accuracy did not improve from 0.60453\n",
            "120/120 [==============================] - 4s 34ms/step - loss: 0.5036 - accuracy: 0.8105 - val_loss: 1.1551 - val_accuracy: 0.6036\n",
            "Epoch 11/150\n",
            "119/120 [============================>.] - ETA: 0s - loss: 0.4688 - accuracy: 0.8237\n",
            "Epoch 00011: val_loss did not improve from 0.93874\n",
            "\n",
            "Epoch 00011: val_accuracy did not improve from 0.60453\n",
            "120/120 [==============================] - 4s 33ms/step - loss: 0.4686 - accuracy: 0.8238 - val_loss: 1.2605 - val_accuracy: 0.6015\n",
            "Epoch 12/150\n",
            "119/120 [============================>.] - ETA: 0s - loss: 0.4283 - accuracy: 0.8388\n",
            "Epoch 00012: val_loss did not improve from 0.93874\n",
            "\n",
            "Epoch 00012: val_accuracy did not improve from 0.60453\n",
            "120/120 [==============================] - 4s 33ms/step - loss: 0.4283 - accuracy: 0.8389 - val_loss: 1.3380 - val_accuracy: 0.5953\n",
            "Epoch 13/150\n",
            "119/120 [============================>.] - ETA: 0s - loss: 0.3986 - accuracy: 0.8567\n",
            "Epoch 00013: val_loss did not improve from 0.93874\n",
            "\n",
            "Epoch 00013: val_accuracy did not improve from 0.60453\n",
            "120/120 [==============================] - 4s 33ms/step - loss: 0.3984 - accuracy: 0.8567 - val_loss: 1.4077 - val_accuracy: 0.5947\n",
            "Epoch 14/150\n",
            "119/120 [============================>.] - ETA: 0s - loss: 0.3678 - accuracy: 0.8680\n",
            "Epoch 00014: val_loss did not improve from 0.93874\n",
            "\n",
            "Epoch 00014: val_accuracy improved from 0.60453 to 0.60606, saving model to bestModelValAcc.h5\n",
            "120/120 [==============================] - 5s 39ms/step - loss: 0.3676 - accuracy: 0.8681 - val_loss: 1.2418 - val_accuracy: 0.6061\n",
            "Epoch 15/150\n",
            "118/120 [============================>.] - ETA: 0s - loss: 0.3411 - accuracy: 0.8802\n",
            "Epoch 00015: val_loss did not improve from 0.93874\n",
            "\n",
            "Epoch 00015: val_accuracy did not improve from 0.60606\n",
            "120/120 [==============================] - 4s 34ms/step - loss: 0.3413 - accuracy: 0.8798 - val_loss: 1.3156 - val_accuracy: 0.6045\n",
            "Epoch 16/150\n",
            "119/120 [============================>.] - ETA: 0s - loss: 0.3284 - accuracy: 0.8863\n",
            "Epoch 00016: val_loss did not improve from 0.93874\n",
            "\n",
            "Epoch 00016: val_accuracy improved from 0.60606 to 0.60851, saving model to bestModelValAcc.h5\n",
            "120/120 [==============================] - 4s 34ms/step - loss: 0.3284 - accuracy: 0.8863 - val_loss: 1.4927 - val_accuracy: 0.6085\n",
            "Epoch 17/150\n",
            "119/120 [============================>.] - ETA: 0s - loss: 0.3040 - accuracy: 0.8948\n",
            "Epoch 00017: val_loss did not improve from 0.93874\n",
            "\n",
            "Epoch 00017: val_accuracy improved from 0.60851 to 0.61035, saving model to bestModelValAcc.h5\n",
            "120/120 [==============================] - 4s 35ms/step - loss: 0.3038 - accuracy: 0.8949 - val_loss: 1.6440 - val_accuracy: 0.6103\n",
            "Epoch 18/150\n",
            "119/120 [============================>.] - ETA: 0s - loss: 0.2946 - accuracy: 0.8999\n",
            "Epoch 00018: val_loss did not improve from 0.93874\n",
            "\n",
            "Epoch 00018: val_accuracy did not improve from 0.61035\n",
            "120/120 [==============================] - 4s 34ms/step - loss: 0.2945 - accuracy: 0.9000 - val_loss: 1.5679 - val_accuracy: 0.6067\n",
            "Epoch 19/150\n",
            "118/120 [============================>.] - ETA: 0s - loss: 0.2761 - accuracy: 0.9069\n",
            "Epoch 00019: val_loss did not improve from 0.93874\n",
            "\n",
            "Epoch 00019: val_accuracy did not improve from 0.61035\n",
            "120/120 [==============================] - 4s 34ms/step - loss: 0.2754 - accuracy: 0.9071 - val_loss: 1.6258 - val_accuracy: 0.6002\n",
            "Epoch 20/150\n",
            "119/120 [============================>.] - ETA: 0s - loss: 0.2744 - accuracy: 0.9080\n",
            "Epoch 00020: val_loss did not improve from 0.93874\n",
            "\n",
            "Epoch 00020: val_accuracy did not improve from 0.61035\n",
            "120/120 [==============================] - 4s 34ms/step - loss: 0.2744 - accuracy: 0.9079 - val_loss: 1.5395 - val_accuracy: 0.6064\n",
            "Epoch 21/150\n",
            "119/120 [============================>.] - ETA: 0s - loss: 0.2469 - accuracy: 0.9141\n",
            "Epoch 00021: val_loss did not improve from 0.93874\n",
            "\n",
            "Epoch 00021: val_accuracy did not improve from 0.61035\n",
            "120/120 [==============================] - 4s 34ms/step - loss: 0.2468 - accuracy: 0.9141 - val_loss: 1.7636 - val_accuracy: 0.6021\n",
            "Epoch 22/150\n",
            "119/120 [============================>.] - ETA: 0s - loss: 0.2493 - accuracy: 0.9140\n",
            "Epoch 00022: val_loss did not improve from 0.93874\n",
            "\n",
            "Epoch 00022: val_accuracy did not improve from 0.61035\n",
            "120/120 [==============================] - 4s 34ms/step - loss: 0.2493 - accuracy: 0.9140 - val_loss: 1.7151 - val_accuracy: 0.6045\n",
            "Epoch 23/150\n",
            "119/120 [============================>.] - ETA: 0s - loss: 0.2279 - accuracy: 0.9237\n",
            "Epoch 00023: val_loss did not improve from 0.93874\n",
            "\n",
            "Epoch 00023: val_accuracy did not improve from 0.61035\n",
            "120/120 [==============================] - 4s 34ms/step - loss: 0.2278 - accuracy: 0.9237 - val_loss: 1.8478 - val_accuracy: 0.6070\n",
            "Epoch 24/150\n",
            "119/120 [============================>.] - ETA: 0s - loss: 0.2334 - accuracy: 0.9232\n",
            "Epoch 00024: val_loss did not improve from 0.93874\n",
            "\n",
            "Epoch 00024: val_accuracy improved from 0.61035 to 0.61096, saving model to bestModelValAcc.h5\n",
            "120/120 [==============================] - 5s 38ms/step - loss: 0.2335 - accuracy: 0.9231 - val_loss: 1.7523 - val_accuracy: 0.6110\n",
            "Epoch 25/150\n",
            "119/120 [============================>.] - ETA: 0s - loss: 0.2125 - accuracy: 0.9283\n",
            "Epoch 00025: val_loss did not improve from 0.93874\n",
            "\n",
            "Epoch 00025: val_accuracy did not improve from 0.61096\n",
            "120/120 [==============================] - 4s 35ms/step - loss: 0.2125 - accuracy: 0.9282 - val_loss: 1.8110 - val_accuracy: 0.6048\n",
            "Epoch 26/150\n",
            "119/120 [============================>.] - ETA: 0s - loss: 0.2212 - accuracy: 0.9246\n",
            "Epoch 00026: val_loss did not improve from 0.93874\n",
            "\n",
            "Epoch 00026: val_accuracy did not improve from 0.61096\n",
            "120/120 [==============================] - 4s 34ms/step - loss: 0.2210 - accuracy: 0.9247 - val_loss: 1.9754 - val_accuracy: 0.5981\n",
            "Epoch 27/150\n",
            "118/120 [============================>.] - ETA: 0s - loss: 0.2020 - accuracy: 0.9333\n",
            "Epoch 00027: val_loss did not improve from 0.93874\n",
            "\n",
            "Epoch 00027: val_accuracy did not improve from 0.61096\n",
            "120/120 [==============================] - 4s 35ms/step - loss: 0.2017 - accuracy: 0.9333 - val_loss: 1.8922 - val_accuracy: 0.6103\n",
            "Epoch 28/150\n",
            "118/120 [============================>.] - ETA: 0s - loss: 0.1930 - accuracy: 0.9347\n",
            "Epoch 00028: val_loss did not improve from 0.93874\n",
            "\n",
            "Epoch 00028: val_accuracy did not improve from 0.61096\n",
            "120/120 [==============================] - 4s 34ms/step - loss: 0.1926 - accuracy: 0.9347 - val_loss: 1.8725 - val_accuracy: 0.6061\n",
            "Epoch 29/150\n",
            "119/120 [============================>.] - ETA: 0s - loss: 0.1913 - accuracy: 0.9373\n",
            "Epoch 00029: val_loss did not improve from 0.93874\n",
            "\n",
            "Epoch 00029: val_accuracy did not improve from 0.61096\n",
            "120/120 [==============================] - 4s 34ms/step - loss: 0.1911 - accuracy: 0.9374 - val_loss: 1.8805 - val_accuracy: 0.6048\n",
            "Epoch 30/150\n",
            "120/120 [==============================] - ETA: 0s - loss: 0.1898 - accuracy: 0.9398\n",
            "Epoch 00030: val_loss did not improve from 0.93874\n",
            "\n",
            "Epoch 00030: val_accuracy did not improve from 0.61096\n",
            "120/120 [==============================] - 4s 34ms/step - loss: 0.1898 - accuracy: 0.9398 - val_loss: 2.1858 - val_accuracy: 0.5993\n",
            "Epoch 31/150\n",
            "118/120 [============================>.] - ETA: 0s - loss: 0.1739 - accuracy: 0.9449\n",
            "Epoch 00031: val_loss did not improve from 0.93874\n",
            "\n",
            "Epoch 00031: val_accuracy did not improve from 0.61096\n",
            "120/120 [==============================] - 4s 35ms/step - loss: 0.1740 - accuracy: 0.9450 - val_loss: 2.0695 - val_accuracy: 0.6002\n",
            "Epoch 32/150\n",
            "119/120 [============================>.] - ETA: 0s - loss: 0.1709 - accuracy: 0.9464\n",
            "Epoch 00032: val_loss did not improve from 0.93874\n",
            "\n",
            "Epoch 00032: val_accuracy did not improve from 0.61096\n",
            "120/120 [==============================] - 4s 34ms/step - loss: 0.1708 - accuracy: 0.9465 - val_loss: 2.1025 - val_accuracy: 0.5978\n",
            "Epoch 33/150\n",
            "119/120 [============================>.] - ETA: 0s - loss: 0.1719 - accuracy: 0.9431\n",
            "Epoch 00033: val_loss did not improve from 0.93874\n",
            "\n",
            "Epoch 00033: val_accuracy did not improve from 0.61096\n",
            "120/120 [==============================] - 4s 34ms/step - loss: 0.1718 - accuracy: 0.9431 - val_loss: 2.1478 - val_accuracy: 0.6021\n",
            "Epoch 34/150\n",
            "119/120 [============================>.] - ETA: 0s - loss: 0.1638 - accuracy: 0.9476\n",
            "Epoch 00034: val_loss did not improve from 0.93874\n",
            "\n",
            "Epoch 00034: val_accuracy did not improve from 0.61096\n",
            "120/120 [==============================] - 4s 34ms/step - loss: 0.1637 - accuracy: 0.9477 - val_loss: 2.1327 - val_accuracy: 0.6012\n",
            "Epoch 00034: early stopping\n"
          ]
        }
      ]
    },
    {
      "cell_type": "code",
      "metadata": {
        "colab": {
          "base_uri": "https://localhost:8080/",
          "height": 376
        },
        "id": "ln0zvP3ccnSC",
        "outputId": "4a66755e-d6fa-4e5b-bf7f-c2cf0ff1fe87"
      },
      "source": [
        "plt.plot(hist.history['accuracy'], label='train accuracy', c='red')\n",
        "plt.plot(hist.history['val_accuracy'], label='validation accuracy')\n",
        "plt.xlabel('Accuracy')\n",
        "plt.ylabel('Epochs')\n",
        "plt.legend()\n",
        "plt.title('Accuracy vs Epochs for 11 buckets')\n",
        "plt.show()"
      ],
      "execution_count": null,
      "outputs": [
        {
          "output_type": "display_data",
          "data": {
            "image/png": "[encoded data removed]",
            "text/plain": [
              "<Figure size 576x396 with 1 Axes>"
            ]
          },
          "metadata": {}
        }
      ]
    },
    {
      "cell_type": "code",
      "metadata": {
        "colab": {
          "base_uri": "https://localhost:8080/",
          "height": 376
        },
        "id": "_dFJ9SpIcnSD",
        "outputId": "46a13628-9372-4b04-97f4-f4a9aab7c3eb"
      },
      "source": [
        "plt.plot(hist.history['loss'], label='train loss', c='red')\n",
        "plt.plot(hist.history['val_loss'], label='validation loss')\n",
        "plt.xlabel('Loss')\n",
        "plt.ylabel('Epochs')\n",
        "plt.legend()\n",
        "plt.title('Loss vs Epochs for 11 buckets')\n",
        "plt.show()"
      ],
      "execution_count": null,
      "outputs": [
        {
          "output_type": "display_data",
          "data": {
            "image/png": "[encoded data removed]",
            "text/plain": [
              "<Figure size 576x396 with 1 Axes>"
            ]
          },
          "metadata": {}
        }
      ]
    },
    {
      "cell_type": "code",
      "metadata": {
        "id": "76rbRPKycnSE"
      },
      "source": [
        "from sklearn.metrics import classification_report"
      ],
      "execution_count": null,
      "outputs": []
    },
    {
      "cell_type": "code",
      "metadata": {
        "colab": {
          "base_uri": "https://localhost:8080/"
        },
        "id": "V9H3feVBcnSE",
        "outputId": "575e4d3e-75a4-4720-fab9-0cc50b582d9a"
      },
      "source": [
        "model.evaluate(testVals, testLabel11)\n",
        "model.load_weights('bestModelValLoss.h5')\n",
        "model.evaluate(testVals, testLabel11)\n",
        "model.load_weights('bestModelValAcc.h5')\n",
        "model.evaluate(testVals, testLabel11)"
      ],
      "execution_count": null,
      "outputs": [
        {
          "output_type": "stream",
          "name": "stdout",
          "text": [
            "103/103 [==============================] - 1s 6ms/step - loss: 1.7201 - accuracy: 0.6126\n",
            "103/103 [==============================] - 1s 6ms/step - loss: 0.9334 - accuracy: 0.6092\n",
            "103/103 [==============================] - 1s 7ms/step - loss: 1.7201 - accuracy: 0.6126\n"
          ]
        },
        {
          "output_type": "execute_result",
          "data": {
            "text/plain": [
              "[1.7200676202774048, 0.6126071214675903]"
            ]
          },
          "metadata": {},
          "execution_count": 164
        }
      ]
    },
    {
      "cell_type": "code",
      "metadata": {
        "id": "qSPyrGvzcnSE"
      },
      "source": [
        "preds = model.predict(testVals)"
      ],
      "execution_count": null,
      "outputs": []
    },
    {
      "cell_type": "code",
      "metadata": {
        "id": "IPmHeIcScnSE"
      },
      "source": [
        "preds = np.argmax(preds, axis=1)"
      ],
      "execution_count": null,
      "outputs": []
    },
    {
      "cell_type": "code",
      "metadata": {
        "id": "ImKcKydwcnSF"
      },
      "source": [
        "finalLabels = np.argmax(testLabel11, axis=1)"
      ],
      "execution_count": null,
      "outputs": []
    },
    {
      "cell_type": "code",
      "metadata": {
        "colab": {
          "base_uri": "https://localhost:8080/"
        },
        "id": "1MVtrpZfcnSF",
        "outputId": "3c078531-a32f-46b9-f715-a3bcbdabb570"
      },
      "source": [
        "cr = classification_report(finalLabels, preds)\n",
        "print(cr)"
      ],
      "execution_count": null,
      "outputs": [
        {
          "output_type": "stream",
          "name": "stdout",
          "text": [
            "              precision    recall  f1-score   support\n",
            "\n",
            "           2       0.00      0.00      0.00         6\n",
            "           3       0.64      0.20      0.31        45\n",
            "           4       0.53      0.33      0.41       131\n",
            "           5       0.54      0.45      0.49       345\n",
            "           6       0.59      0.71      0.64       930\n",
            "           7       0.64      0.70      0.67      1261\n",
            "           8       0.68      0.45      0.54       533\n",
            "           9       0.20      0.12      0.15        16\n",
            "          10       0.00      0.00      0.00         1\n",
            "\n",
            "    accuracy                           0.61      3268\n",
            "   macro avg       0.42      0.33      0.36      3268\n",
            "weighted avg       0.61      0.61      0.60      3268\n",
            "\n"
          ]
        },
        {
          "output_type": "stream",
          "name": "stderr",
          "text": [
            "/usr/local/lib/python3.7/dist-packages/sklearn/metrics/_classification.py:1308: UndefinedMetricWarning: Precision and F-score are ill-defined and being set to 0.0 in labels with no predicted samples. Use `zero_division` parameter to control this behavior.\n",
            "  _warn_prf(average, modifier, msg_start, len(result))\n",
            "/usr/local/lib/python3.7/dist-packages/sklearn/metrics/_classification.py:1308: UndefinedMetricWarning: Precision and F-score are ill-defined and being set to 0.0 in labels with no predicted samples. Use `zero_division` parameter to control this behavior.\n",
            "  _warn_prf(average, modifier, msg_start, len(result))\n",
            "/usr/local/lib/python3.7/dist-packages/sklearn/metrics/_classification.py:1308: UndefinedMetricWarning: Precision and F-score are ill-defined and being set to 0.0 in labels with no predicted samples. Use `zero_division` parameter to control this behavior.\n",
            "  _warn_prf(average, modifier, msg_start, len(result))\n"
          ]
        }
      ]
    },
    {
      "cell_type": "code",
      "metadata": {
        "id": "JMZNKK6Oc-g7"
      },
      "source": [
        "preds = model.predict(trainVals)"
      ],
      "execution_count": null,
      "outputs": []
    },
    {
      "cell_type": "code",
      "metadata": {
        "id": "kZbwUK5cc-g7"
      },
      "source": [
        "preds = np.argmax(preds, axis=1)"
      ],
      "execution_count": null,
      "outputs": []
    },
    {
      "cell_type": "code",
      "metadata": {
        "id": "JUzU3npcc-g8"
      },
      "source": [
        "finalLabels = np.argmax(trainLabel11, axis=1)"
      ],
      "execution_count": null,
      "outputs": []
    },
    {
      "cell_type": "code",
      "metadata": {
        "colab": {
          "base_uri": "https://localhost:8080/"
        },
        "id": "3fk8cqjOc-g8",
        "outputId": "dbda8127-c7e8-4d48-cbb0-dbc402822875"
      },
      "source": [
        "cr = classification_report(finalLabels, preds)\n",
        "print(cr)"
      ],
      "execution_count": null,
      "outputs": [
        {
          "output_type": "stream",
          "name": "stdout",
          "text": [
            "              precision    recall  f1-score   support\n",
            "\n",
            "           1       0.00      0.00      0.00         1\n",
            "           2       0.00      0.00      0.00        55\n",
            "           3       0.71      0.91      0.80       197\n",
            "           4       0.96      0.95      0.95       527\n",
            "           5       0.99      1.00      1.00      1649\n",
            "           6       0.99      1.00      1.00      4234\n",
            "           7       1.00      1.00      1.00      6035\n",
            "           8       1.00      1.00      1.00      2429\n",
            "           9       0.96      0.98      0.97       119\n",
            "          10       0.00      0.00      0.00         1\n",
            "\n",
            "    accuracy                           0.99     15247\n",
            "   macro avg       0.66      0.68      0.67     15247\n",
            "weighted avg       0.99      0.99      0.99     15247\n",
            "\n"
          ]
        },
        {
          "output_type": "stream",
          "name": "stderr",
          "text": [
            "/usr/local/lib/python3.7/dist-packages/sklearn/metrics/_classification.py:1308: UndefinedMetricWarning: Precision and F-score are ill-defined and being set to 0.0 in labels with no predicted samples. Use `zero_division` parameter to control this behavior.\n",
            "  _warn_prf(average, modifier, msg_start, len(result))\n",
            "/usr/local/lib/python3.7/dist-packages/sklearn/metrics/_classification.py:1308: UndefinedMetricWarning: Precision and F-score are ill-defined and being set to 0.0 in labels with no predicted samples. Use `zero_division` parameter to control this behavior.\n",
            "  _warn_prf(average, modifier, msg_start, len(result))\n",
            "/usr/local/lib/python3.7/dist-packages/sklearn/metrics/_classification.py:1308: UndefinedMetricWarning: Precision and F-score are ill-defined and being set to 0.0 in labels with no predicted samples. Use `zero_division` parameter to control this behavior.\n",
            "  _warn_prf(average, modifier, msg_start, len(result))\n"
          ]
        }
      ]
    },
    {
      "cell_type": "code",
      "metadata": {
        "id": "sZLW94ULdDmE"
      },
      "source": [
        "preds = model.predict(valVals)"
      ],
      "execution_count": null,
      "outputs": []
    },
    {
      "cell_type": "code",
      "metadata": {
        "id": "iHBjHIXIeRIX"
      },
      "source": [
        "preds = model.predict(valVals)"
      ],
      "execution_count": null,
      "outputs": []
    },
    {
      "cell_type": "code",
      "metadata": {
        "id": "jb15ng7neRIg"
      },
      "source": [
        "preds = np.argmax(preds, axis=1)"
      ],
      "execution_count": null,
      "outputs": []
    },
    {
      "cell_type": "code",
      "metadata": {
        "id": "Piitm3VPeRIg"
      },
      "source": [
        "finalLabels = np.argmax(valLabel11, axis=1)"
      ],
      "execution_count": null,
      "outputs": []
    },
    {
      "cell_type": "code",
      "metadata": {
        "colab": {
          "base_uri": "https://localhost:8080/"
        },
        "id": "GyQGnX3UeRIg",
        "outputId": "e2d94032-79f7-4b94-f5d2-3a2c2c18d305"
      },
      "source": [
        "cr = classification_report(finalLabels, preds)\n",
        "print(cr)"
      ],
      "execution_count": null,
      "outputs": [
        {
          "output_type": "stream",
          "name": "stdout",
          "text": [
            "              precision    recall  f1-score   support\n",
            "\n",
            "           1       0.00      0.00      0.00         1\n",
            "           2       0.00      0.00      0.00        11\n",
            "           3       0.50      0.16      0.24        50\n",
            "           4       0.45      0.36      0.40       108\n",
            "           5       0.61      0.43      0.50       376\n",
            "           6       0.58      0.76      0.65       914\n",
            "           7       0.65      0.68      0.67      1253\n",
            "           8       0.64      0.45      0.53       529\n",
            "           9       0.29      0.08      0.12        25\n",
            "\n",
            "    accuracy                           0.61      3267\n",
            "   macro avg       0.41      0.32      0.35      3267\n",
            "weighted avg       0.61      0.61      0.60      3267\n",
            "\n"
          ]
        },
        {
          "output_type": "stream",
          "name": "stderr",
          "text": [
            "/usr/local/lib/python3.7/dist-packages/sklearn/metrics/_classification.py:1308: UndefinedMetricWarning: Precision and F-score are ill-defined and being set to 0.0 in labels with no predicted samples. Use `zero_division` parameter to control this behavior.\n",
            "  _warn_prf(average, modifier, msg_start, len(result))\n",
            "/usr/local/lib/python3.7/dist-packages/sklearn/metrics/_classification.py:1308: UndefinedMetricWarning: Precision and F-score are ill-defined and being set to 0.0 in labels with no predicted samples. Use `zero_division` parameter to control this behavior.\n",
            "  _warn_prf(average, modifier, msg_start, len(result))\n",
            "/usr/local/lib/python3.7/dist-packages/sklearn/metrics/_classification.py:1308: UndefinedMetricWarning: Precision and F-score are ill-defined and being set to 0.0 in labels with no predicted samples. Use `zero_division` parameter to control this behavior.\n",
            "  _warn_prf(average, modifier, msg_start, len(result))\n"
          ]
        }
      ]
    },
    {
      "cell_type": "code",
      "metadata": {
        "id": "ItnPA_CpdDmF"
      },
      "source": [
        "preds = np.argmax(preds, axis=1)"
      ],
      "execution_count": null,
      "outputs": []
    },
    {
      "cell_type": "code",
      "metadata": {
        "id": "6iySwIRjdDmF"
      },
      "source": [
        "finalLabels = np.argmax(testLabel6, axis=1)"
      ],
      "execution_count": null,
      "outputs": []
    },
    {
      "cell_type": "code",
      "metadata": {
        "colab": {
          "base_uri": "https://localhost:8080/"
        },
        "id": "T9JqU72ydDmG",
        "outputId": "38e0c7bf-da7d-49a7-bdde-1643f1ea208f"
      },
      "source": [
        "preds[0], testLabel6[0], finalLabels[0]"
      ],
      "execution_count": null,
      "outputs": [
        {
          "output_type": "execute_result",
          "data": {
            "text/plain": [
              "(3, array([0, 0, 0, 1, 0, 0], dtype=int8), 3)"
            ]
          },
          "metadata": {},
          "execution_count": 139
        }
      ]
    },
    {
      "cell_type": "code",
      "metadata": {
        "colab": {
          "base_uri": "https://localhost:8080/"
        },
        "id": "1rDBAIK9dDmG",
        "outputId": "094b314c-709f-4daf-caff-edc56c917966"
      },
      "source": [
        "cr = classification_report(finalLabels, preds)\n",
        "print(cr)"
      ],
      "execution_count": null,
      "outputs": [
        {
          "output_type": "stream",
          "name": "stdout",
          "text": [
            "              precision    recall  f1-score   support\n",
            "\n",
            "           1       0.80      0.19      0.31        21\n",
            "           2       0.75      0.55      0.64       297\n",
            "           3       0.79      0.80      0.79      1787\n",
            "           4       0.74      0.79      0.76      1161\n",
            "           5       0.00      0.00      0.00         2\n",
            "\n",
            "    accuracy                           0.77      3268\n",
            "   macro avg       0.62      0.47      0.50      3268\n",
            "weighted avg       0.77      0.77      0.76      3268\n",
            "\n"
          ]
        },
        {
          "output_type": "stream",
          "name": "stderr",
          "text": [
            "/usr/local/lib/python3.7/dist-packages/sklearn/metrics/_classification.py:1308: UndefinedMetricWarning: Precision and F-score are ill-defined and being set to 0.0 in labels with no predicted samples. Use `zero_division` parameter to control this behavior.\n",
            "  _warn_prf(average, modifier, msg_start, len(result))\n",
            "/usr/local/lib/python3.7/dist-packages/sklearn/metrics/_classification.py:1308: UndefinedMetricWarning: Precision and F-score are ill-defined and being set to 0.0 in labels with no predicted samples. Use `zero_division` parameter to control this behavior.\n",
            "  _warn_prf(average, modifier, msg_start, len(result))\n",
            "/usr/local/lib/python3.7/dist-packages/sklearn/metrics/_classification.py:1308: UndefinedMetricWarning: Precision and F-score are ill-defined and being set to 0.0 in labels with no predicted samples. Use `zero_division` parameter to control this behavior.\n",
            "  _warn_prf(average, modifier, msg_start, len(result))\n"
          ]
        }
      ]
    },
    {
      "cell_type": "code",
      "metadata": {
        "colab": {
          "base_uri": "https://localhost:8080/"
        },
        "id": "Uis40OcjjT0E",
        "outputId": "0ae823f6-c808-402f-d541-4ba854b8ffd2"
      },
      "source": [
        "model.evaluate(testVals, testLabel11)\n",
        "model.load_weights('bestModelValLoss.h5')\n",
        "model.evaluate(testVals, testLabel11)\n",
        "model.load_weights('bestModelValAcc.h5')\n",
        "model.evaluate(testVals, testLabel11)"
      ],
      "execution_count": null,
      "outputs": [
        {
          "output_type": "stream",
          "name": "stdout",
          "text": [
            "103/103 [==============================] - 1s 6ms/step - loss: 1.4698 - accuracy: 0.6034\n",
            "103/103 [==============================] - 1s 6ms/step - loss: 0.9261 - accuracy: 0.6022\n",
            "103/103 [==============================] - 1s 6ms/step - loss: 1.1883 - accuracy: 0.6215\n"
          ]
        },
        {
          "output_type": "execute_result",
          "data": {
            "text/plain": [
              "[1.1883244514465332, 0.6214810013771057]"
            ]
          },
          "metadata": {},
          "execution_count": 45
        }
      ]
    },
    {
      "cell_type": "code",
      "metadata": {
        "colab": {
          "base_uri": "https://localhost:8080/"
        },
        "id": "1ZpyNPxSkNPy",
        "outputId": "c90c8943-74db-4ea6-faae-677e1aa7ac36"
      },
      "source": [
        "model = Sequential()\n",
        "model.add(Dense(250, activation='relu', input_dim=3561))\n",
        "model.add(Dropout(0.5))\n",
        "# model.add(Dense(500, activation='relu'))\n",
        "# model.add(Dropout(0.5))\n",
        "# model.add(Dense(500, activation='relu'))\n",
        "# model.add(Dropout(0.5))\n",
        "model.add(Dense(125, activation='relu'))\n",
        "model.add(Dropout(0.5))\n",
        "model.add(Dense(50, activation='relu'))\n",
        "model.add(Dropout(0.5))\n",
        "# model.add(Dense(30, activation='relu'))\n",
        "# model.add(Dense(20, activation='relu'))\n",
        "model.add(Dense(11, activation='softmax'))\n",
        "model.summary()\n",
        "model.compile(loss='categorical_crossentropy', optimizer='adam', metrics=['accuracy'])\n",
        "checkPointLoss = ModelCheckpoint('bestModelValLoss.h5', monitor='val_loss', verbose=True, save_best_only=True)\n",
        "checkPointAcc = ModelCheckpoint('bestModelValAcc.h5', monitor='val_accuracy', verbose=True, save_best_only=True)\n",
        "earlyStopping = EarlyStopping(monitor='val_loss', patience=10, verbose=True)\n",
        "model.fit(trainVals, trainLabel11, batch_size=128, epochs=150, validation_data=(valVals, valLabel11), callbacks=[checkPointLoss, checkPointAcc, earlyStopping])"
      ],
      "execution_count": null,
      "outputs": [
        {
          "output_type": "stream",
          "name": "stdout",
          "text": [
            "Model: \"sequential_13\"\n",
            "_________________________________________________________________\n",
            " Layer (type)                Output Shape              Param #   \n",
            "=================================================================\n",
            " dense_78 (Dense)            (None, 250)               890500    \n",
            "                                                                 \n",
            " dropout_5 (Dropout)         (None, 250)               0         \n",
            "                                                                 \n",
            " dense_79 (Dense)            (None, 125)               31375     \n",
            "                                                                 \n",
            " dropout_6 (Dropout)         (None, 125)               0         \n",
            "                                                                 \n",
            " dense_80 (Dense)            (None, 50)                6300      \n",
            "                                                                 \n",
            " dropout_7 (Dropout)         (None, 50)                0         \n",
            "                                                                 \n",
            " dense_81 (Dense)            (None, 11)                561       \n",
            "                                                                 \n",
            "=================================================================\n",
            "Total params: 928,736\n",
            "Trainable params: 928,736\n",
            "Non-trainable params: 0\n",
            "_________________________________________________________________\n",
            "Epoch 1/150\n",
            "118/120 [============================>.] - ETA: 0s - loss: 1.6706 - accuracy: 0.3411\n",
            "Epoch 00001: val_loss improved from inf to 1.32347, saving model to bestModelValLoss.h5\n",
            "\n",
            "Epoch 00001: val_accuracy improved from -inf to 0.43985, saving model to bestModelValAcc.h5\n",
            "120/120 [==============================] - 3s 23ms/step - loss: 1.6681 - accuracy: 0.3419 - val_loss: 1.3235 - val_accuracy: 0.4399\n",
            "Epoch 2/150\n",
            "119/120 [============================>.] - ETA: 0s - loss: 1.3151 - accuracy: 0.4423\n",
            "Epoch 00002: val_loss improved from 1.32347 to 1.12867, saving model to bestModelValLoss.h5\n",
            "\n",
            "Epoch 00002: val_accuracy improved from 0.43985 to 0.51638, saving model to bestModelValAcc.h5\n",
            "120/120 [==============================] - 3s 28ms/step - loss: 1.3149 - accuracy: 0.4424 - val_loss: 1.1287 - val_accuracy: 0.5164\n",
            "Epoch 3/150\n",
            "119/120 [============================>.] - ETA: 0s - loss: 1.1411 - accuracy: 0.5126\n",
            "Epoch 00003: val_loss improved from 1.12867 to 1.04024, saving model to bestModelValLoss.h5\n",
            "\n",
            "Epoch 00003: val_accuracy improved from 0.51638 to 0.54943, saving model to bestModelValAcc.h5\n",
            "120/120 [==============================] - 2s 21ms/step - loss: 1.1411 - accuracy: 0.5127 - val_loss: 1.0402 - val_accuracy: 0.5494\n",
            "Epoch 4/150\n",
            "119/120 [============================>.] - ETA: 0s - loss: 0.9990 - accuracy: 0.5713\n",
            "Epoch 00004: val_loss improved from 1.04024 to 1.00509, saving model to bestModelValLoss.h5\n",
            "\n",
            "Epoch 00004: val_accuracy improved from 0.54943 to 0.55739, saving model to bestModelValAcc.h5\n",
            "120/120 [==============================] - 3s 25ms/step - loss: 0.9989 - accuracy: 0.5714 - val_loss: 1.0051 - val_accuracy: 0.5574\n",
            "Epoch 5/150\n",
            "118/120 [============================>.] - ETA: 0s - loss: 0.8824 - accuracy: 0.6277\n",
            "Epoch 00005: val_loss improved from 1.00509 to 0.98781, saving model to bestModelValLoss.h5\n",
            "\n",
            "Epoch 00005: val_accuracy improved from 0.55739 to 0.57331, saving model to bestModelValAcc.h5\n",
            "120/120 [==============================] - 3s 21ms/step - loss: 0.8815 - accuracy: 0.6278 - val_loss: 0.9878 - val_accuracy: 0.5733\n",
            "Epoch 6/150\n",
            "118/120 [============================>.] - ETA: 0s - loss: 0.7831 - accuracy: 0.6759\n",
            "Epoch 00006: val_loss did not improve from 0.98781\n",
            "\n",
            "Epoch 00006: val_accuracy improved from 0.57331 to 0.58341, saving model to bestModelValAcc.h5\n",
            "120/120 [==============================] - 3s 21ms/step - loss: 0.7830 - accuracy: 0.6760 - val_loss: 1.0048 - val_accuracy: 0.5834\n",
            "Epoch 7/150\n",
            "118/120 [============================>.] - ETA: 0s - loss: 0.7040 - accuracy: 0.7119\n",
            "Epoch 00007: val_loss did not improve from 0.98781\n",
            "\n",
            "Epoch 00007: val_accuracy improved from 0.58341 to 0.58831, saving model to bestModelValAcc.h5\n",
            "120/120 [==============================] - 3s 21ms/step - loss: 0.7040 - accuracy: 0.7112 - val_loss: 0.9914 - val_accuracy: 0.5883\n",
            "Epoch 8/150\n",
            "119/120 [============================>.] - ETA: 0s - loss: 0.6294 - accuracy: 0.7540\n",
            "Epoch 00008: val_loss did not improve from 0.98781\n",
            "\n",
            "Epoch 00008: val_accuracy improved from 0.58831 to 0.59412, saving model to bestModelValAcc.h5\n",
            "120/120 [==============================] - 3s 24ms/step - loss: 0.6294 - accuracy: 0.7539 - val_loss: 1.0599 - val_accuracy: 0.5941\n",
            "Epoch 9/150\n",
            "120/120 [==============================] - ETA: 0s - loss: 0.5611 - accuracy: 0.7848\n",
            "Epoch 00009: val_loss did not improve from 0.98781\n",
            "\n",
            "Epoch 00009: val_accuracy improved from 0.59412 to 0.59749, saving model to bestModelValAcc.h5\n",
            "120/120 [==============================] - 3s 23ms/step - loss: 0.5611 - accuracy: 0.7848 - val_loss: 1.1062 - val_accuracy: 0.5975\n",
            "Epoch 10/150\n",
            "117/120 [============================>.] - ETA: 0s - loss: 0.5195 - accuracy: 0.8076\n",
            "Epoch 00010: val_loss did not improve from 0.98781\n",
            "\n",
            "Epoch 00010: val_accuracy did not improve from 0.59749\n",
            "120/120 [==============================] - 2s 20ms/step - loss: 0.5196 - accuracy: 0.8074 - val_loss: 1.1893 - val_accuracy: 0.5883\n",
            "Epoch 11/150\n",
            "118/120 [============================>.] - ETA: 0s - loss: 0.4628 - accuracy: 0.8287\n",
            "Epoch 00011: val_loss did not improve from 0.98781\n",
            "\n",
            "Epoch 00011: val_accuracy did not improve from 0.59749\n",
            "120/120 [==============================] - 2s 19ms/step - loss: 0.4626 - accuracy: 0.8286 - val_loss: 1.2502 - val_accuracy: 0.5877\n",
            "Epoch 12/150\n",
            "119/120 [============================>.] - ETA: 0s - loss: 0.4236 - accuracy: 0.8423\n",
            "Epoch 00012: val_loss did not improve from 0.98781\n",
            "\n",
            "Epoch 00012: val_accuracy improved from 0.59749 to 0.59902, saving model to bestModelValAcc.h5\n",
            "120/120 [==============================] - 2s 21ms/step - loss: 0.4240 - accuracy: 0.8422 - val_loss: 1.2988 - val_accuracy: 0.5990\n",
            "Epoch 13/150\n",
            "119/120 [============================>.] - ETA: 0s - loss: 0.3797 - accuracy: 0.8639\n",
            "Epoch 00013: val_loss did not improve from 0.98781\n",
            "\n",
            "Epoch 00013: val_accuracy did not improve from 0.59902\n",
            "120/120 [==============================] - 2s 20ms/step - loss: 0.3797 - accuracy: 0.8640 - val_loss: 1.4177 - val_accuracy: 0.5963\n",
            "Epoch 14/150\n",
            "120/120 [==============================] - ETA: 0s - loss: 0.3618 - accuracy: 0.8705\n",
            "Epoch 00014: val_loss did not improve from 0.98781\n",
            "\n",
            "Epoch 00014: val_accuracy improved from 0.59902 to 0.59994, saving model to bestModelValAcc.h5\n",
            "120/120 [==============================] - 3s 22ms/step - loss: 0.3618 - accuracy: 0.8705 - val_loss: 1.4589 - val_accuracy: 0.5999\n",
            "Epoch 15/150\n",
            "118/120 [============================>.] - ETA: 0s - loss: 0.3364 - accuracy: 0.8810\n",
            "Epoch 00015: val_loss did not improve from 0.98781\n",
            "\n",
            "Epoch 00015: val_accuracy did not improve from 0.59994\n",
            "120/120 [==============================] - 2s 20ms/step - loss: 0.3365 - accuracy: 0.8812 - val_loss: 1.5137 - val_accuracy: 0.5950\n",
            "Epoch 00015: early stopping\n"
          ]
        },
        {
          "output_type": "execute_result",
          "data": {
            "text/plain": [
              "<keras.callbacks.History at 0x7f3d7ccdf110>"
            ]
          },
          "metadata": {},
          "execution_count": 46
        }
      ]
    },
    {
      "cell_type": "code",
      "metadata": {
        "colab": {
          "base_uri": "https://localhost:8080/"
        },
        "id": "z48AImdQkaYo",
        "outputId": "c859d162-5114-4c87-86fc-436d1406cee9"
      },
      "source": [
        "model.evaluate(testVals, testLabel11)\n",
        "model.load_weights('bestModelValLoss.h5')\n",
        "model.evaluate(testVals, testLabel11)\n",
        "model.load_weights('bestModelValAcc.h5')\n",
        "model.evaluate(testVals, testLabel11)"
      ],
      "execution_count": null,
      "outputs": [
        {
          "output_type": "stream",
          "name": "stdout",
          "text": [
            "103/103 [==============================] - 0s 4ms/step - loss: 1.5064 - accuracy: 0.5927\n",
            "103/103 [==============================] - 0s 4ms/step - loss: 0.9764 - accuracy: 0.5710\n",
            "103/103 [==============================] - 1s 5ms/step - loss: 1.4475 - accuracy: 0.5982\n"
          ]
        },
        {
          "output_type": "execute_result",
          "data": {
            "text/plain": [
              "[1.4474501609802246, 0.5982252359390259]"
            ]
          },
          "metadata": {},
          "execution_count": 47
        }
      ]
    },
    {
      "cell_type": "code",
      "metadata": {
        "colab": {
          "base_uri": "https://localhost:8080/"
        },
        "id": "CwiS2CeYkl0C",
        "outputId": "98015435-a9d5-4a7b-ad88-91bc4c36a47a"
      },
      "source": [
        "model = Sequential()\n",
        "model.add(Dense(250, activation='relu', input_dim=3561))\n",
        "# model.add(Dropout(0.5))\n",
        "model.add(Dense(500, activation='relu'))\n",
        "# model.add(Dropout(0.5))\n",
        "model.add(Dense(500, activation='relu'))\n",
        "# model.add(Dropout(0.5))\n",
        "model.add(Dense(200, activation='relu'))\n",
        "# model.add(Dropout(0.5))\n",
        "model.add(Dense(80, activation='relu'))\n",
        "# model.add(Dropout(0.5))\n",
        "model.add(Dense(30, activation='relu'))\n",
        "model.add(Dense(20, activation='relu'))\n",
        "model.add(Dense(11, activation='softmax'))\n",
        "model.summary()\n",
        "model.compile(loss='categorical_crossentropy', optimizer='adam', metrics=['accuracy'])\n",
        "checkPointLoss = ModelCheckpoint('bestModelValLoss.h5', monitor='val_loss', verbose=True, save_best_only=True)\n",
        "checkPointAcc = ModelCheckpoint('bestModelValAcc.h5', monitor='val_accuracy', verbose=True, save_best_only=True)\n",
        "earlyStopping = EarlyStopping(monitor='val_loss', patience=10, verbose=True)\n",
        "model.fit(trainVals, trainLabel11, batch_size=128, epochs=150, validation_data=(valVals, valLabel11), callbacks=[checkPointLoss, checkPointAcc, earlyStopping])"
      ],
      "execution_count": null,
      "outputs": [
        {
          "output_type": "stream",
          "name": "stdout",
          "text": [
            "Model: \"sequential_14\"\n",
            "_________________________________________________________________\n",
            " Layer (type)                Output Shape              Param #   \n",
            "=================================================================\n",
            " dense_82 (Dense)            (None, 250)               890500    \n",
            "                                                                 \n",
            " dense_83 (Dense)            (None, 500)               125500    \n",
            "                                                                 \n",
            " dense_84 (Dense)            (None, 500)               250500    \n",
            "                                                                 \n",
            " dense_85 (Dense)            (None, 200)               100200    \n",
            "                                                                 \n",
            " dense_86 (Dense)            (None, 80)                16080     \n",
            "                                                                 \n",
            " dense_87 (Dense)            (None, 30)                2430      \n",
            "                                                                 \n",
            " dense_88 (Dense)            (None, 20)                620       \n",
            "                                                                 \n",
            " dense_89 (Dense)            (None, 11)                231       \n",
            "                                                                 \n",
            "=================================================================\n",
            "Total params: 1,386,061\n",
            "Trainable params: 1,386,061\n",
            "Non-trainable params: 0\n",
            "_________________________________________________________________\n",
            "Epoch 1/150\n",
            "119/120 [============================>.] - ETA: 0s - loss: 1.3687 - accuracy: 0.4223\n",
            "Epoch 00001: val_loss improved from inf to 1.10043, saving model to bestModelValLoss.h5\n",
            "\n",
            "Epoch 00001: val_accuracy improved from -inf to 0.51760, saving model to bestModelValAcc.h5\n",
            "120/120 [==============================] - 6s 42ms/step - loss: 1.3681 - accuracy: 0.4225 - val_loss: 1.1004 - val_accuracy: 0.5176\n",
            "Epoch 2/150\n",
            "118/120 [============================>.] - ETA: 0s - loss: 0.8299 - accuracy: 0.6525\n",
            "Epoch 00002: val_loss improved from 1.10043 to 0.96873, saving model to bestModelValLoss.h5\n",
            "\n",
            "Epoch 00002: val_accuracy improved from 0.51760 to 0.58494, saving model to bestModelValAcc.h5\n",
            "120/120 [==============================] - 4s 36ms/step - loss: 0.8293 - accuracy: 0.6528 - val_loss: 0.9687 - val_accuracy: 0.5849\n",
            "Epoch 3/150\n",
            "119/120 [============================>.] - ETA: 0s - loss: 0.4521 - accuracy: 0.8299\n",
            "Epoch 00003: val_loss did not improve from 0.96873\n",
            "\n",
            "Epoch 00003: val_accuracy improved from 0.58494 to 0.63391, saving model to bestModelValAcc.h5\n",
            "120/120 [==============================] - 4s 31ms/step - loss: 0.4522 - accuracy: 0.8298 - val_loss: 0.9956 - val_accuracy: 0.6339\n",
            "Epoch 4/150\n",
            "119/120 [============================>.] - ETA: 0s - loss: 0.2511 - accuracy: 0.9114\n",
            "Epoch 00004: val_loss did not improve from 0.96873\n",
            "\n",
            "Epoch 00004: val_accuracy improved from 0.63391 to 0.63422, saving model to bestModelValAcc.h5\n",
            "120/120 [==============================] - 4s 33ms/step - loss: 0.2511 - accuracy: 0.9113 - val_loss: 1.3147 - val_accuracy: 0.6342\n",
            "Epoch 5/150\n",
            "119/120 [============================>.] - ETA: 0s - loss: 0.1743 - accuracy: 0.9395\n",
            "Epoch 00005: val_loss did not improve from 0.96873\n",
            "\n",
            "Epoch 00005: val_accuracy did not improve from 0.63422\n",
            "120/120 [==============================] - 4s 30ms/step - loss: 0.1743 - accuracy: 0.9395 - val_loss: 1.4564 - val_accuracy: 0.6336\n",
            "Epoch 6/150\n",
            "119/120 [============================>.] - ETA: 0s - loss: 0.1209 - accuracy: 0.9625\n",
            "Epoch 00006: val_loss did not improve from 0.96873\n",
            "\n",
            "Epoch 00006: val_accuracy did not improve from 0.63422\n",
            "120/120 [==============================] - 4s 32ms/step - loss: 0.1211 - accuracy: 0.9625 - val_loss: 1.8143 - val_accuracy: 0.6177\n",
            "Epoch 7/150\n",
            "118/120 [============================>.] - ETA: 0s - loss: 0.0913 - accuracy: 0.9720\n",
            "Epoch 00007: val_loss did not improve from 0.96873\n",
            "\n",
            "Epoch 00007: val_accuracy did not improve from 0.63422\n",
            "120/120 [==============================] - 4s 32ms/step - loss: 0.0914 - accuracy: 0.9720 - val_loss: 1.9068 - val_accuracy: 0.6110\n",
            "Epoch 8/150\n",
            "119/120 [============================>.] - ETA: 0s - loss: 0.0861 - accuracy: 0.9730\n",
            "Epoch 00008: val_loss did not improve from 0.96873\n",
            "\n",
            "Epoch 00008: val_accuracy did not improve from 0.63422\n",
            "120/120 [==============================] - 4s 30ms/step - loss: 0.0861 - accuracy: 0.9730 - val_loss: 1.7866 - val_accuracy: 0.6269\n",
            "Epoch 9/150\n",
            "119/120 [============================>.] - ETA: 0s - loss: 0.0841 - accuracy: 0.9756\n",
            "Epoch 00009: val_loss did not improve from 0.96873\n",
            "\n",
            "Epoch 00009: val_accuracy improved from 0.63422 to 0.63942, saving model to bestModelValAcc.h5\n",
            "120/120 [==============================] - 4s 37ms/step - loss: 0.0841 - accuracy: 0.9755 - val_loss: 1.8825 - val_accuracy: 0.6394\n",
            "Epoch 10/150\n",
            "119/120 [============================>.] - ETA: 0s - loss: 0.0721 - accuracy: 0.9794\n",
            "Epoch 00010: val_loss did not improve from 0.96873\n",
            "\n",
            "Epoch 00010: val_accuracy did not improve from 0.63942\n",
            "120/120 [==============================] - 4s 31ms/step - loss: 0.0720 - accuracy: 0.9794 - val_loss: 2.0168 - val_accuracy: 0.6266\n",
            "Epoch 11/150\n",
            "119/120 [============================>.] - ETA: 0s - loss: 0.0501 - accuracy: 0.9863\n",
            "Epoch 00011: val_loss did not improve from 0.96873\n",
            "\n",
            "Epoch 00011: val_accuracy did not improve from 0.63942\n",
            "120/120 [==============================] - 4s 33ms/step - loss: 0.0501 - accuracy: 0.9864 - val_loss: 2.1924 - val_accuracy: 0.6244\n",
            "Epoch 12/150\n",
            "119/120 [============================>.] - ETA: 0s - loss: 0.0462 - accuracy: 0.9859\n",
            "Epoch 00012: val_loss did not improve from 0.96873\n",
            "\n",
            "Epoch 00012: val_accuracy did not improve from 0.63942\n",
            "120/120 [==============================] - 4s 33ms/step - loss: 0.0465 - accuracy: 0.9858 - val_loss: 2.5525 - val_accuracy: 0.6091\n",
            "Epoch 00012: early stopping\n"
          ]
        },
        {
          "output_type": "execute_result",
          "data": {
            "text/plain": [
              "<keras.callbacks.History at 0x7f3d7cae7bd0>"
            ]
          },
          "metadata": {},
          "execution_count": 48
        }
      ]
    },
    {
      "cell_type": "code",
      "metadata": {
        "colab": {
          "base_uri": "https://localhost:8080/"
        },
        "id": "FkV9ym75kqWs",
        "outputId": "0e784d58-05f8-444f-ebb5-0d4e6cd4e905"
      },
      "source": [
        "model.evaluate(testVals, testLabel11)\n",
        "model.load_weights('bestModelValLoss.h5')\n",
        "model.evaluate(testVals, testLabel11)\n",
        "model.load_weights('bestModelValAcc.h5')\n",
        "model.evaluate(testVals, testLabel11)"
      ],
      "execution_count": null,
      "outputs": [
        {
          "output_type": "stream",
          "name": "stdout",
          "text": [
            "103/103 [==============================] - 1s 7ms/step - loss: 2.5298 - accuracy: 0.5985\n",
            "103/103 [==============================] - 1s 6ms/step - loss: 0.9646 - accuracy: 0.5762\n",
            "103/103 [==============================] - 1s 8ms/step - loss: 1.9047 - accuracy: 0.6279\n"
          ]
        },
        {
          "output_type": "execute_result",
          "data": {
            "text/plain": [
              "[1.9046964645385742, 0.6279069781303406]"
            ]
          },
          "metadata": {},
          "execution_count": 49
        }
      ]
    },
    {
      "cell_type": "code",
      "metadata": {
        "colab": {
          "base_uri": "https://localhost:8080/"
        },
        "id": "ozmaQdBNk8ep",
        "outputId": "e486535a-3dba-4a21-fa76-2143833b1faa"
      },
      "source": [
        "model = Sequential()\n",
        "model.add(Dense(1000, activation='relu', input_dim=3561))\n",
        "# model.add(Dropout(0.5))\n",
        "model.add(Dense(500, activation='relu'))\n",
        "# model.add(Dropout(0.5))\n",
        "model.add(Dense(500, activation='relu'))\n",
        "# model.add(Dropout(0.5))\n",
        "model.add(Dense(200, activation='relu'))\n",
        "# model.add(Dropout(0.5))\n",
        "model.add(Dense(80, activation='relu'))\n",
        "# model.add(Dropout(0.5))\n",
        "model.add(Dense(30, activation='relu'))\n",
        "model.add(Dense(20, activation='relu'))\n",
        "model.add(Dense(11, activation='softmax'))\n",
        "model.summary()\n",
        "model.compile(loss='categorical_crossentropy', optimizer='adam', metrics=['accuracy'])\n",
        "checkPointLoss = ModelCheckpoint('bestModelValLoss.h5', monitor='val_loss', verbose=True, save_best_only=True)\n",
        "checkPointAcc = ModelCheckpoint('bestModelValAcc.h5', monitor='val_accuracy', verbose=True, save_best_only=True)\n",
        "earlyStopping = EarlyStopping(monitor='val_loss', patience=10, verbose=True)\n",
        "model.fit(trainVals, trainLabel11, batch_size=128, epochs=150, validation_data=(valVals, valLabel11), callbacks=[checkPointLoss, checkPointAcc, earlyStopping])"
      ],
      "execution_count": null,
      "outputs": [
        {
          "output_type": "stream",
          "name": "stdout",
          "text": [
            "Model: \"sequential_15\"\n",
            "_________________________________________________________________\n",
            " Layer (type)                Output Shape              Param #   \n",
            "=================================================================\n",
            " dense_90 (Dense)            (None, 1000)              3562000   \n",
            "                                                                 \n",
            " dense_91 (Dense)            (None, 500)               500500    \n",
            "                                                                 \n",
            " dense_92 (Dense)            (None, 500)               250500    \n",
            "                                                                 \n",
            " dense_93 (Dense)            (None, 200)               100200    \n",
            "                                                                 \n",
            " dense_94 (Dense)            (None, 80)                16080     \n",
            "                                                                 \n",
            " dense_95 (Dense)            (None, 30)                2430      \n",
            "                                                                 \n",
            " dense_96 (Dense)            (None, 20)                620       \n",
            "                                                                 \n",
            " dense_97 (Dense)            (None, 11)                231       \n",
            "                                                                 \n",
            "=================================================================\n",
            "Total params: 4,432,561\n",
            "Trainable params: 4,432,561\n",
            "Non-trainable params: 0\n",
            "_________________________________________________________________\n",
            "Epoch 1/150\n",
            "119/120 [============================>.] - ETA: 0s - loss: 1.2840 - accuracy: 0.4607\n",
            "Epoch 00001: val_loss improved from inf to 1.07911, saving model to bestModelValLoss.h5\n",
            "\n",
            "Epoch 00001: val_accuracy improved from -inf to 0.51607, saving model to bestModelValAcc.h5\n",
            "120/120 [==============================] - 11s 88ms/step - loss: 1.2839 - accuracy: 0.4607 - val_loss: 1.0791 - val_accuracy: 0.5161\n",
            "Epoch 2/150\n",
            "119/120 [============================>.] - ETA: 0s - loss: 0.7662 - accuracy: 0.6815\n",
            "Epoch 00002: val_loss improved from 1.07911 to 0.95681, saving model to bestModelValLoss.h5\n",
            "\n",
            "Epoch 00002: val_accuracy improved from 0.51607 to 0.59963, saving model to bestModelValAcc.h5\n",
            "120/120 [==============================] - 11s 88ms/step - loss: 0.7662 - accuracy: 0.6816 - val_loss: 0.9568 - val_accuracy: 0.5996\n",
            "Epoch 3/150\n",
            "119/120 [============================>.] - ETA: 0s - loss: 0.3923 - accuracy: 0.8522\n",
            "Epoch 00003: val_loss did not improve from 0.95681\n",
            "\n",
            "Epoch 00003: val_accuracy did not improve from 0.59963\n",
            "120/120 [==============================] - 9s 75ms/step - loss: 0.3925 - accuracy: 0.8521 - val_loss: 1.7206 - val_accuracy: 0.5204\n",
            "Epoch 4/150\n",
            "119/120 [============================>.] - ETA: 0s - loss: 0.2397 - accuracy: 0.9128\n",
            "Epoch 00004: val_loss did not improve from 0.95681\n",
            "\n",
            "Epoch 00004: val_accuracy did not improve from 0.59963\n",
            "120/120 [==============================] - 9s 77ms/step - loss: 0.2398 - accuracy: 0.9128 - val_loss: 1.6271 - val_accuracy: 0.5901\n",
            "Epoch 5/150\n",
            "119/120 [============================>.] - ETA: 0s - loss: 0.1556 - accuracy: 0.9480\n",
            "Epoch 00005: val_loss did not improve from 0.95681\n",
            "\n",
            "Epoch 00005: val_accuracy improved from 0.59963 to 0.61647, saving model to bestModelValAcc.h5\n",
            "120/120 [==============================] - 10s 85ms/step - loss: 0.1560 - accuracy: 0.9480 - val_loss: 1.7206 - val_accuracy: 0.6165\n",
            "Epoch 6/150\n",
            "119/120 [============================>.] - ETA: 0s - loss: 0.1243 - accuracy: 0.9605\n",
            "Epoch 00006: val_loss did not improve from 0.95681\n",
            "\n",
            "Epoch 00006: val_accuracy did not improve from 0.61647\n",
            "120/120 [==============================] - 9s 76ms/step - loss: 0.1242 - accuracy: 0.9606 - val_loss: 2.0153 - val_accuracy: 0.5960\n",
            "Epoch 7/150\n",
            "119/120 [============================>.] - ETA: 0s - loss: 0.0941 - accuracy: 0.9709\n",
            "Epoch 00007: val_loss did not improve from 0.95681\n",
            "\n",
            "Epoch 00007: val_accuracy did not improve from 0.61647\n",
            "120/120 [==============================] - 9s 75ms/step - loss: 0.0940 - accuracy: 0.9709 - val_loss: 2.1911 - val_accuracy: 0.5944\n",
            "Epoch 8/150\n",
            "119/120 [============================>.] - ETA: 0s - loss: 0.0736 - accuracy: 0.9789\n",
            "Epoch 00008: val_loss did not improve from 0.95681\n",
            "\n",
            "Epoch 00008: val_accuracy did not improve from 0.61647\n",
            "120/120 [==============================] - 9s 77ms/step - loss: 0.0737 - accuracy: 0.9789 - val_loss: 2.1789 - val_accuracy: 0.6155\n",
            "Epoch 9/150\n",
            "119/120 [============================>.] - ETA: 0s - loss: 0.0623 - accuracy: 0.9804\n",
            "Epoch 00009: val_loss did not improve from 0.95681\n",
            "\n",
            "Epoch 00009: val_accuracy did not improve from 0.61647\n",
            "120/120 [==============================] - 9s 75ms/step - loss: 0.0622 - accuracy: 0.9805 - val_loss: 2.4555 - val_accuracy: 0.5929\n",
            "Epoch 10/150\n",
            "119/120 [============================>.] - ETA: 0s - loss: 0.0557 - accuracy: 0.9857\n",
            "Epoch 00010: val_loss did not improve from 0.95681\n",
            "\n",
            "Epoch 00010: val_accuracy did not improve from 0.61647\n",
            "120/120 [==============================] - 9s 75ms/step - loss: 0.0557 - accuracy: 0.9857 - val_loss: 2.3162 - val_accuracy: 0.6149\n",
            "Epoch 11/150\n",
            "119/120 [============================>.] - ETA: 0s - loss: 0.0322 - accuracy: 0.9918\n",
            "Epoch 00011: val_loss did not improve from 0.95681\n",
            "\n",
            "Epoch 00011: val_accuracy did not improve from 0.61647\n",
            "120/120 [==============================] - 9s 76ms/step - loss: 0.0323 - accuracy: 0.9917 - val_loss: 3.1791 - val_accuracy: 0.5972\n",
            "Epoch 12/150\n",
            "119/120 [============================>.] - ETA: 0s - loss: 0.0460 - accuracy: 0.9867\n",
            "Epoch 00012: val_loss did not improve from 0.95681\n",
            "\n",
            "Epoch 00012: val_accuracy did not improve from 0.61647\n",
            "120/120 [==============================] - 9s 78ms/step - loss: 0.0459 - accuracy: 0.9868 - val_loss: 2.6495 - val_accuracy: 0.6079\n",
            "Epoch 00012: early stopping\n"
          ]
        },
        {
          "output_type": "execute_result",
          "data": {
            "text/plain": [
              "<keras.callbacks.History at 0x7f3d7afb2450>"
            ]
          },
          "metadata": {},
          "execution_count": 50
        }
      ]
    },
    {
      "cell_type": "code",
      "metadata": {
        "colab": {
          "base_uri": "https://localhost:8080/"
        },
        "id": "keYNzbRjlC6-",
        "outputId": "2f57001b-dfd4-44ca-c899-7566bd7be2c5"
      },
      "source": [
        "model.evaluate(testVals, testLabel11)\n",
        "model.load_weights('bestModelValLoss.h5')\n",
        "model.evaluate(testVals, testLabel11)\n",
        "model.load_weights('bestModelValAcc.h5')\n",
        "model.evaluate(testVals, testLabel11)"
      ],
      "execution_count": null,
      "outputs": [
        {
          "output_type": "stream",
          "name": "stdout",
          "text": [
            "103/103 [==============================] - 1s 12ms/step - loss: 2.6214 - accuracy: 0.5973\n",
            "103/103 [==============================] - 1s 12ms/step - loss: 0.9300 - accuracy: 0.6089\n",
            "103/103 [==============================] - 1s 11ms/step - loss: 1.7382 - accuracy: 0.6056\n"
          ]
        },
        {
          "output_type": "execute_result",
          "data": {
            "text/plain": [
              "[1.7381625175476074, 0.6055691838264465]"
            ]
          },
          "metadata": {},
          "execution_count": 51
        }
      ]
    },
    {
      "cell_type": "code",
      "metadata": {
        "colab": {
          "base_uri": "https://localhost:8080/"
        },
        "id": "G804X3vllEv7",
        "outputId": "e576d379-710a-4d4b-ef7a-0602aebd7a9e"
      },
      "source": [
        "model = Sequential()\n",
        "model.add(Dense(250, activation='relu', input_dim=3561))\n",
        "model.add(Dropout(0.4))\n",
        "model.add(Dense(500, activation='relu'))\n",
        "model.add(Dropout(0.8))\n",
        "model.add(Dense(500, activation='relu'))\n",
        "model.add(Dropout(0.4))\n",
        "model.add(Dense(200, activation='relu'))\n",
        "model.add(Dropout(0.4))\n",
        "model.add(Dense(80, activation='relu'))\n",
        "# model.add(Dropout(0.8))\n",
        "# model.add(Dense(30, activation='relu'))\n",
        "# model.add(Dense(20, activation='relu'))\n",
        "model.add(Dense(11, activation='softmax'))\n",
        "model.summary()\n",
        "model.compile(loss='categorical_crossentropy', optimizer='adam', metrics=['accuracy'])\n",
        "checkPointLoss = ModelCheckpoint('bestModelValLoss.h5', monitor='val_loss', verbose=True, save_best_only=True)\n",
        "checkPointAcc = ModelCheckpoint('bestModelValAcc.h5', monitor='val_accuracy', verbose=True, save_best_only=True)\n",
        "earlyStopping = EarlyStopping(monitor='val_loss', patience=10, verbose=True)\n",
        "model.fit(trainVals, trainLabel11, batch_size=128, epochs=150, validation_data=(valVals, valLabel11), callbacks=[checkPointLoss, checkPointAcc, earlyStopping])"
      ],
      "execution_count": null,
      "outputs": [
        {
          "output_type": "stream",
          "name": "stdout",
          "text": [
            "Model: \"sequential_18\"\n",
            "_________________________________________________________________\n",
            " Layer (type)                Output Shape              Param #   \n",
            "=================================================================\n",
            " dense_113 (Dense)           (None, 250)               890500    \n",
            "                                                                 \n",
            " dropout_18 (Dropout)        (None, 250)               0         \n",
            "                                                                 \n",
            " dense_114 (Dense)           (None, 500)               125500    \n",
            "                                                                 \n",
            " dropout_19 (Dropout)        (None, 500)               0         \n",
            "                                                                 \n",
            " dense_115 (Dense)           (None, 500)               250500    \n",
            "                                                                 \n",
            " dropout_20 (Dropout)        (None, 500)               0         \n",
            "                                                                 \n",
            " dense_116 (Dense)           (None, 200)               100200    \n",
            "                                                                 \n",
            " dropout_21 (Dropout)        (None, 200)               0         \n",
            "                                                                 \n",
            " dense_117 (Dense)           (None, 80)                16080     \n",
            "                                                                 \n",
            " dense_118 (Dense)           (None, 11)                891       \n",
            "                                                                 \n",
            "=================================================================\n",
            "Total params: 1,383,671\n",
            "Trainable params: 1,383,671\n",
            "Non-trainable params: 0\n",
            "_________________________________________________________________\n",
            "Epoch 1/150\n",
            "119/120 [============================>.] - ETA: 0s - loss: 1.5098 - accuracy: 0.3800\n",
            "Epoch 00001: val_loss improved from inf to 1.39638, saving model to bestModelValLoss.h5\n",
            "\n",
            "Epoch 00001: val_accuracy improved from -inf to 0.45975, saving model to bestModelValAcc.h5\n",
            "120/120 [==============================] - 6s 44ms/step - loss: 1.5096 - accuracy: 0.3799 - val_loss: 1.3964 - val_accuracy: 0.4597\n",
            "Epoch 2/150\n",
            "119/120 [============================>.] - ETA: 0s - loss: 1.2401 - accuracy: 0.4654\n",
            "Epoch 00002: val_loss improved from 1.39638 to 1.14201, saving model to bestModelValLoss.h5\n",
            "\n",
            "Epoch 00002: val_accuracy improved from 0.45975 to 0.50352, saving model to bestModelValAcc.h5\n",
            "120/120 [==============================] - 4s 35ms/step - loss: 1.2398 - accuracy: 0.4655 - val_loss: 1.1420 - val_accuracy: 0.5035\n",
            "Epoch 3/150\n",
            "119/120 [============================>.] - ETA: 0s - loss: 1.0346 - accuracy: 0.5486\n",
            "Epoch 00003: val_loss improved from 1.14201 to 0.97350, saving model to bestModelValLoss.h5\n",
            "\n",
            "Epoch 00003: val_accuracy improved from 0.50352 to 0.58188, saving model to bestModelValAcc.h5\n",
            "120/120 [==============================] - 4s 37ms/step - loss: 1.0344 - accuracy: 0.5488 - val_loss: 0.9735 - val_accuracy: 0.5819\n",
            "Epoch 4/150\n",
            "119/120 [============================>.] - ETA: 0s - loss: 0.8898 - accuracy: 0.6101\n",
            "Epoch 00004: val_loss improved from 0.97350 to 0.92483, saving model to bestModelValLoss.h5\n",
            "\n",
            "Epoch 00004: val_accuracy improved from 0.58188 to 0.59076, saving model to bestModelValAcc.h5\n",
            "120/120 [==============================] - 4s 35ms/step - loss: 0.8898 - accuracy: 0.6102 - val_loss: 0.9248 - val_accuracy: 0.5908\n",
            "Epoch 5/150\n",
            "119/120 [============================>.] - ETA: 0s - loss: 0.7698 - accuracy: 0.6746\n",
            "Epoch 00005: val_loss did not improve from 0.92483\n",
            "\n",
            "Epoch 00005: val_accuracy improved from 0.59076 to 0.60606, saving model to bestModelValAcc.h5\n",
            "120/120 [==============================] - 4s 34ms/step - loss: 0.7697 - accuracy: 0.6746 - val_loss: 0.9623 - val_accuracy: 0.6061\n",
            "Epoch 6/150\n",
            "119/120 [============================>.] - ETA: 0s - loss: 0.6867 - accuracy: 0.7073\n",
            "Epoch 00006: val_loss did not improve from 0.92483\n",
            "\n",
            "Epoch 00006: val_accuracy improved from 0.60606 to 0.60637, saving model to bestModelValAcc.h5\n",
            "120/120 [==============================] - 4s 35ms/step - loss: 0.6864 - accuracy: 0.7074 - val_loss: 0.9569 - val_accuracy: 0.6064\n",
            "Epoch 7/150\n",
            "119/120 [============================>.] - ETA: 0s - loss: 0.5973 - accuracy: 0.7558\n",
            "Epoch 00007: val_loss did not improve from 0.92483\n",
            "\n",
            "Epoch 00007: val_accuracy improved from 0.60637 to 0.60790, saving model to bestModelValAcc.h5\n",
            "120/120 [==============================] - 4s 35ms/step - loss: 0.5973 - accuracy: 0.7558 - val_loss: 1.0042 - val_accuracy: 0.6079\n",
            "Epoch 8/150\n",
            "119/120 [============================>.] - ETA: 0s - loss: 0.5388 - accuracy: 0.7820\n",
            "Epoch 00008: val_loss did not improve from 0.92483\n",
            "\n",
            "Epoch 00008: val_accuracy improved from 0.60790 to 0.61371, saving model to bestModelValAcc.h5\n",
            "120/120 [==============================] - 4s 35ms/step - loss: 0.5392 - accuracy: 0.7819 - val_loss: 1.0422 - val_accuracy: 0.6137\n",
            "Epoch 9/150\n",
            "119/120 [============================>.] - ETA: 0s - loss: 0.4772 - accuracy: 0.8099\n",
            "Epoch 00009: val_loss did not improve from 0.92483\n",
            "\n",
            "Epoch 00009: val_accuracy improved from 0.61371 to 0.61402, saving model to bestModelValAcc.h5\n",
            "120/120 [==============================] - 4s 35ms/step - loss: 0.4771 - accuracy: 0.8099 - val_loss: 1.0756 - val_accuracy: 0.6140\n",
            "Epoch 10/150\n",
            "119/120 [============================>.] - ETA: 0s - loss: 0.4385 - accuracy: 0.8321\n",
            "Epoch 00010: val_loss did not improve from 0.92483\n",
            "\n",
            "Epoch 00010: val_accuracy improved from 0.61402 to 0.61463, saving model to bestModelValAcc.h5\n",
            "120/120 [==============================] - 4s 35ms/step - loss: 0.4386 - accuracy: 0.8320 - val_loss: 1.1230 - val_accuracy: 0.6146\n",
            "Epoch 11/150\n",
            "119/120 [============================>.] - ETA: 0s - loss: 0.3974 - accuracy: 0.8489\n",
            "Epoch 00011: val_loss did not improve from 0.92483\n",
            "\n",
            "Epoch 00011: val_accuracy did not improve from 0.61463\n",
            "120/120 [==============================] - 4s 33ms/step - loss: 0.3972 - accuracy: 0.8490 - val_loss: 1.1538 - val_accuracy: 0.6119\n",
            "Epoch 12/150\n",
            "119/120 [============================>.] - ETA: 0s - loss: 0.3604 - accuracy: 0.8632\n",
            "Epoch 00012: val_loss did not improve from 0.92483\n",
            "\n",
            "Epoch 00012: val_accuracy improved from 0.61463 to 0.62810, saving model to bestModelValAcc.h5\n",
            "120/120 [==============================] - 5s 43ms/step - loss: 0.3602 - accuracy: 0.8634 - val_loss: 1.1692 - val_accuracy: 0.6281\n",
            "Epoch 13/150\n",
            "120/120 [==============================] - ETA: 0s - loss: 0.3379 - accuracy: 0.8755\n",
            "Epoch 00013: val_loss did not improve from 0.92483\n",
            "\n",
            "Epoch 00013: val_accuracy did not improve from 0.62810\n",
            "120/120 [==============================] - 4s 34ms/step - loss: 0.3379 - accuracy: 0.8755 - val_loss: 1.3178 - val_accuracy: 0.6110\n",
            "Epoch 14/150\n",
            "119/120 [============================>.] - ETA: 0s - loss: 0.3155 - accuracy: 0.8848\n",
            "Epoch 00014: val_loss did not improve from 0.92483\n",
            "\n",
            "Epoch 00014: val_accuracy did not improve from 0.62810\n",
            "120/120 [==============================] - 4s 35ms/step - loss: 0.3153 - accuracy: 0.8849 - val_loss: 1.3991 - val_accuracy: 0.6082\n",
            "Epoch 00014: early stopping\n"
          ]
        },
        {
          "output_type": "execute_result",
          "data": {
            "text/plain": [
              "<keras.callbacks.History at 0x7f3d7ab74e50>"
            ]
          },
          "metadata": {},
          "execution_count": 56
        }
      ]
    },
    {
      "cell_type": "code",
      "metadata": {
        "colab": {
          "base_uri": "https://localhost:8080/"
        },
        "id": "lNhNgtbvmCNA",
        "outputId": "c8321870-19bd-4cf0-b831-47542d79a689"
      },
      "source": [
        "model.evaluate(testVals, testLabel11)\n",
        "model.load_weights('bestModelValLoss.h5')\n",
        "model.evaluate(testVals, testLabel11)\n",
        "model.load_weights('bestModelValAcc.h5')\n",
        "model.evaluate(testVals, testLabel11)"
      ],
      "execution_count": null,
      "outputs": [
        {
          "output_type": "stream",
          "name": "stdout",
          "text": [
            "103/103 [==============================] - 1s 8ms/step - loss: 1.3958 - accuracy: 0.6108\n",
            "103/103 [==============================] - 1s 8ms/step - loss: 0.9257 - accuracy: 0.5841\n",
            "103/103 [==============================] - 1s 7ms/step - loss: 1.1779 - accuracy: 0.6166\n"
          ]
        },
        {
          "output_type": "execute_result",
          "data": {
            "text/plain": [
              "[1.177890419960022, 0.6165850758552551]"
            ]
          },
          "metadata": {},
          "execution_count": 57
        }
      ]
    },
    {
      "cell_type": "code",
      "metadata": {
        "colab": {
          "base_uri": "https://localhost:8080/"
        },
        "id": "wKCKvPIDmTRA",
        "outputId": "a3af3299-1617-457a-b907-52dbbd7b0402"
      },
      "source": [
        "model = Sequential()\n",
        "model.add(Dense(250, activation='relu', input_dim=3561))\n",
        "model.add(Dropout(0.4))\n",
        "model.add(Dense(500, activation='relu'))\n",
        "model.add(Dropout(0.8))\n",
        "model.add(Dense(500, activation='relu'))\n",
        "model.add(Dropout(0.4))\n",
        "model.add(Dense(200, activation='relu'))\n",
        "model.add(Dropout(0.4))\n",
        "model.add(Dense(80, activation='relu'))\n",
        "# model.add(Dropout(0.8))\n",
        "# model.add(Dense(30, activation='relu'))\n",
        "# model.add(Dense(20, activation='relu'))\n",
        "model.add(Dense(21, activation='softmax'))\n",
        "model.summary()\n",
        "model.compile(loss='categorical_crossentropy', optimizer='adam', metrics=['accuracy'])\n",
        "checkPointLoss = ModelCheckpoint('bestModelValLoss.h5', monitor='val_loss', verbose=True, save_best_only=True)\n",
        "checkPointAcc = ModelCheckpoint('bestModelValAcc.h5', monitor='val_accuracy', verbose=True, save_best_only=True)\n",
        "earlyStopping = EarlyStopping(monitor='val_accuracy', patience=10, verbose=True)\n",
        "hist = model.fit(trainVals, trainLabel21, batch_size=128, epochs=150, validation_data=(valVals, valLabel21), callbacks=[checkPointLoss, checkPointAcc, earlyStopping])"
      ],
      "execution_count": null,
      "outputs": [
        {
          "output_type": "stream",
          "name": "stdout",
          "text": [
            "Model: \"sequential_29\"\n",
            "_________________________________________________________________\n",
            " Layer (type)                Output Shape              Param #   \n",
            "=================================================================\n",
            " dense_178 (Dense)           (None, 250)               890500    \n",
            "                                                                 \n",
            " dropout_63 (Dropout)        (None, 250)               0         \n",
            "                                                                 \n",
            " dense_179 (Dense)           (None, 500)               125500    \n",
            "                                                                 \n",
            " dropout_64 (Dropout)        (None, 500)               0         \n",
            "                                                                 \n",
            " dense_180 (Dense)           (None, 500)               250500    \n",
            "                                                                 \n",
            " dropout_65 (Dropout)        (None, 500)               0         \n",
            "                                                                 \n",
            " dense_181 (Dense)           (None, 200)               100200    \n",
            "                                                                 \n",
            " dropout_66 (Dropout)        (None, 200)               0         \n",
            "                                                                 \n",
            " dense_182 (Dense)           (None, 80)                16080     \n",
            "                                                                 \n",
            " dense_183 (Dense)           (None, 21)                1701      \n",
            "                                                                 \n",
            "=================================================================\n",
            "Total params: 1,384,481\n",
            "Trainable params: 1,384,481\n",
            "Non-trainable params: 0\n",
            "_________________________________________________________________\n",
            "Epoch 1/150\n",
            "119/120 [============================>.] - ETA: 0s - loss: 2.1988 - accuracy: 0.1899\n",
            "Epoch 00001: val_loss improved from inf to 2.13907, saving model to bestModelValLoss.h5\n",
            "\n",
            "Epoch 00001: val_accuracy improved from -inf to 0.20875, saving model to bestModelValAcc.h5\n",
            "120/120 [==============================] - 5s 37ms/step - loss: 2.1986 - accuracy: 0.1899 - val_loss: 2.1391 - val_accuracy: 0.2088\n",
            "Epoch 2/150\n",
            "119/120 [============================>.] - ETA: 0s - loss: 1.9588 - accuracy: 0.2338\n",
            "Epoch 00002: val_loss improved from 2.13907 to 1.83061, saving model to bestModelValLoss.h5\n",
            "\n",
            "Epoch 00002: val_accuracy improved from 0.20875 to 0.26538, saving model to bestModelValAcc.h5\n",
            "120/120 [==============================] - 4s 35ms/step - loss: 1.9588 - accuracy: 0.2338 - val_loss: 1.8306 - val_accuracy: 0.2654\n",
            "Epoch 3/150\n",
            "119/120 [============================>.] - ETA: 0s - loss: 1.7031 - accuracy: 0.3033\n",
            "Epoch 00003: val_loss improved from 1.83061 to 1.61152, saving model to bestModelValLoss.h5\n",
            "\n",
            "Epoch 00003: val_accuracy improved from 0.26538 to 0.32384, saving model to bestModelValAcc.h5\n",
            "120/120 [==============================] - 4s 34ms/step - loss: 1.7029 - accuracy: 0.3033 - val_loss: 1.6115 - val_accuracy: 0.3238\n",
            "Epoch 4/150\n",
            "119/120 [============================>.] - ETA: 0s - loss: 1.5294 - accuracy: 0.3558\n",
            "Epoch 00004: val_loss improved from 1.61152 to 1.54146, saving model to bestModelValLoss.h5\n",
            "\n",
            "Epoch 00004: val_accuracy improved from 0.32384 to 0.34986, saving model to bestModelValAcc.h5\n",
            "120/120 [==============================] - 4s 35ms/step - loss: 1.5294 - accuracy: 0.3557 - val_loss: 1.5415 - val_accuracy: 0.3499\n",
            "Epoch 5/150\n",
            "119/120 [============================>.] - ETA: 0s - loss: 1.4052 - accuracy: 0.4013\n",
            "Epoch 00005: val_loss improved from 1.54146 to 1.51574, saving model to bestModelValLoss.h5\n",
            "\n",
            "Epoch 00005: val_accuracy did not improve from 0.34986\n",
            "120/120 [==============================] - 4s 33ms/step - loss: 1.4053 - accuracy: 0.4012 - val_loss: 1.5157 - val_accuracy: 0.3496\n",
            "Epoch 6/150\n",
            "119/120 [============================>.] - ETA: 0s - loss: 1.3021 - accuracy: 0.4416\n",
            "Epoch 00006: val_loss did not improve from 1.51574\n",
            "\n",
            "Epoch 00006: val_accuracy improved from 0.34986 to 0.35629, saving model to bestModelValAcc.h5\n",
            "120/120 [==============================] - 4s 34ms/step - loss: 1.3020 - accuracy: 0.4416 - val_loss: 1.5308 - val_accuracy: 0.3563\n",
            "Epoch 7/150\n",
            "119/120 [============================>.] - ETA: 0s - loss: 1.2248 - accuracy: 0.4720\n",
            "Epoch 00007: val_loss did not improve from 1.51574\n",
            "\n",
            "Epoch 00007: val_accuracy improved from 0.35629 to 0.36609, saving model to bestModelValAcc.h5\n",
            "120/120 [==============================] - 4s 33ms/step - loss: 1.2249 - accuracy: 0.4720 - val_loss: 1.5356 - val_accuracy: 0.3661\n",
            "Epoch 8/150\n",
            "119/120 [============================>.] - ETA: 0s - loss: 1.1710 - accuracy: 0.4906\n",
            "Epoch 00008: val_loss did not improve from 1.51574\n",
            "\n",
            "Epoch 00008: val_accuracy improved from 0.36609 to 0.37833, saving model to bestModelValAcc.h5\n",
            "120/120 [==============================] - 4s 35ms/step - loss: 1.1716 - accuracy: 0.4905 - val_loss: 1.5272 - val_accuracy: 0.3783\n",
            "Epoch 9/150\n",
            "119/120 [============================>.] - ETA: 0s - loss: 1.1103 - accuracy: 0.5284\n",
            "Epoch 00009: val_loss did not improve from 1.51574\n",
            "\n",
            "Epoch 00009: val_accuracy improved from 0.37833 to 0.37986, saving model to bestModelValAcc.h5\n",
            "120/120 [==============================] - 4s 34ms/step - loss: 1.1107 - accuracy: 0.5282 - val_loss: 1.5487 - val_accuracy: 0.3799\n",
            "Epoch 10/150\n",
            "119/120 [============================>.] - ETA: 0s - loss: 1.0507 - accuracy: 0.5563\n",
            "Epoch 00010: val_loss did not improve from 1.51574\n",
            "\n",
            "Epoch 00010: val_accuracy did not improve from 0.37986\n",
            "120/120 [==============================] - 4s 33ms/step - loss: 1.0507 - accuracy: 0.5563 - val_loss: 1.6374 - val_accuracy: 0.3759\n",
            "Epoch 11/150\n",
            "119/120 [============================>.] - ETA: 0s - loss: 1.0153 - accuracy: 0.5735\n",
            "Epoch 00011: val_loss did not improve from 1.51574\n",
            "\n",
            "Epoch 00011: val_accuracy improved from 0.37986 to 0.38414, saving model to bestModelValAcc.h5\n",
            "120/120 [==============================] - 4s 35ms/step - loss: 1.0154 - accuracy: 0.5734 - val_loss: 1.6115 - val_accuracy: 0.3841\n",
            "Epoch 12/150\n",
            "119/120 [============================>.] - ETA: 0s - loss: 0.9720 - accuracy: 0.5891\n",
            "Epoch 00012: val_loss did not improve from 1.51574\n",
            "\n",
            "Epoch 00012: val_accuracy did not improve from 0.38414\n",
            "120/120 [==============================] - 4s 33ms/step - loss: 0.9722 - accuracy: 0.5889 - val_loss: 1.7109 - val_accuracy: 0.3731\n",
            "Epoch 13/150\n",
            "118/120 [============================>.] - ETA: 0s - loss: 0.9360 - accuracy: 0.6071\n",
            "Epoch 00013: val_loss did not improve from 1.51574\n",
            "\n",
            "Epoch 00013: val_accuracy did not improve from 0.38414\n",
            "120/120 [==============================] - 4s 33ms/step - loss: 0.9366 - accuracy: 0.6070 - val_loss: 1.7388 - val_accuracy: 0.3832\n",
            "Epoch 14/150\n",
            "119/120 [============================>.] - ETA: 0s - loss: 0.8975 - accuracy: 0.6250\n",
            "Epoch 00014: val_loss did not improve from 1.51574\n",
            "\n",
            "Epoch 00014: val_accuracy did not improve from 0.38414\n",
            "120/120 [==============================] - 4s 33ms/step - loss: 0.8978 - accuracy: 0.6247 - val_loss: 1.7610 - val_accuracy: 0.3802\n",
            "Epoch 15/150\n",
            "119/120 [============================>.] - ETA: 0s - loss: 0.8516 - accuracy: 0.6424\n",
            "Epoch 00015: val_loss did not improve from 1.51574\n",
            "\n",
            "Epoch 00015: val_accuracy did not improve from 0.38414\n",
            "120/120 [==============================] - 4s 33ms/step - loss: 0.8513 - accuracy: 0.6426 - val_loss: 1.9407 - val_accuracy: 0.3811\n",
            "Epoch 16/150\n",
            "119/120 [============================>.] - ETA: 0s - loss: 0.8494 - accuracy: 0.6450\n",
            "Epoch 00016: val_loss did not improve from 1.51574\n",
            "\n",
            "Epoch 00016: val_accuracy did not improve from 0.38414\n",
            "120/120 [==============================] - 4s 32ms/step - loss: 0.8492 - accuracy: 0.6450 - val_loss: 1.9071 - val_accuracy: 0.3753\n",
            "Epoch 17/150\n",
            "119/120 [============================>.] - ETA: 0s - loss: 0.8137 - accuracy: 0.6673\n",
            "Epoch 00017: val_loss did not improve from 1.51574\n",
            "\n",
            "Epoch 00017: val_accuracy did not improve from 0.38414\n",
            "120/120 [==============================] - 4s 33ms/step - loss: 0.8136 - accuracy: 0.6674 - val_loss: 1.9653 - val_accuracy: 0.3750\n",
            "Epoch 18/150\n",
            "119/120 [============================>.] - ETA: 0s - loss: 0.7859 - accuracy: 0.6771\n",
            "Epoch 00018: val_loss did not improve from 1.51574\n",
            "\n",
            "Epoch 00018: val_accuracy did not improve from 0.38414\n",
            "120/120 [==============================] - 4s 33ms/step - loss: 0.7857 - accuracy: 0.6772 - val_loss: 2.0884 - val_accuracy: 0.3792\n",
            "Epoch 19/150\n",
            "119/120 [============================>.] - ETA: 0s - loss: 0.7652 - accuracy: 0.6912\n",
            "Epoch 00019: val_loss did not improve from 1.51574\n",
            "\n",
            "Epoch 00019: val_accuracy improved from 0.38414 to 0.38812, saving model to bestModelValAcc.h5\n",
            "120/120 [==============================] - 4s 37ms/step - loss: 0.7652 - accuracy: 0.6911 - val_loss: 2.0427 - val_accuracy: 0.3881\n",
            "Epoch 20/150\n",
            "119/120 [============================>.] - ETA: 0s - loss: 0.7469 - accuracy: 0.6972\n",
            "Epoch 00020: val_loss did not improve from 1.51574\n",
            "\n",
            "Epoch 00020: val_accuracy did not improve from 0.38812\n",
            "120/120 [==============================] - 4s 33ms/step - loss: 0.7467 - accuracy: 0.6972 - val_loss: 2.0843 - val_accuracy: 0.3854\n",
            "Epoch 21/150\n",
            "119/120 [============================>.] - ETA: 0s - loss: 0.7272 - accuracy: 0.7006\n",
            "Epoch 00021: val_loss did not improve from 1.51574\n",
            "\n",
            "Epoch 00021: val_accuracy did not improve from 0.38812\n",
            "120/120 [==============================] - 4s 33ms/step - loss: 0.7273 - accuracy: 0.7007 - val_loss: 2.1862 - val_accuracy: 0.3786\n",
            "Epoch 22/150\n",
            "118/120 [============================>.] - ETA: 0s - loss: 0.6993 - accuracy: 0.7221\n",
            "Epoch 00022: val_loss did not improve from 1.51574\n",
            "\n",
            "Epoch 00022: val_accuracy did not improve from 0.38812\n",
            "120/120 [==============================] - 4s 34ms/step - loss: 0.6983 - accuracy: 0.7223 - val_loss: 2.2989 - val_accuracy: 0.3756\n",
            "Epoch 23/150\n",
            "119/120 [============================>.] - ETA: 0s - loss: 0.6925 - accuracy: 0.7255\n",
            "Epoch 00023: val_loss did not improve from 1.51574\n",
            "\n",
            "Epoch 00023: val_accuracy did not improve from 0.38812\n",
            "120/120 [==============================] - 4s 33ms/step - loss: 0.6924 - accuracy: 0.7255 - val_loss: 2.2084 - val_accuracy: 0.3762\n",
            "Epoch 24/150\n",
            "119/120 [============================>.] - ETA: 0s - loss: 0.6644 - accuracy: 0.7349\n",
            "Epoch 00024: val_loss did not improve from 1.51574\n",
            "\n",
            "Epoch 00024: val_accuracy did not improve from 0.38812\n",
            "120/120 [==============================] - 4s 32ms/step - loss: 0.6643 - accuracy: 0.7350 - val_loss: 2.2845 - val_accuracy: 0.3710\n",
            "Epoch 25/150\n",
            "119/120 [============================>.] - ETA: 0s - loss: 0.6478 - accuracy: 0.7447\n",
            "Epoch 00025: val_loss did not improve from 1.51574\n",
            "\n",
            "Epoch 00025: val_accuracy did not improve from 0.38812\n",
            "120/120 [==============================] - 4s 33ms/step - loss: 0.6478 - accuracy: 0.7447 - val_loss: 2.3894 - val_accuracy: 0.3716\n",
            "Epoch 26/150\n",
            "119/120 [============================>.] - ETA: 0s - loss: 0.6348 - accuracy: 0.7527\n",
            "Epoch 00026: val_loss did not improve from 1.51574\n",
            "\n",
            "Epoch 00026: val_accuracy did not improve from 0.38812\n",
            "120/120 [==============================] - 4s 33ms/step - loss: 0.6348 - accuracy: 0.7526 - val_loss: 2.4253 - val_accuracy: 0.3820\n",
            "Epoch 27/150\n",
            "119/120 [============================>.] - ETA: 0s - loss: 0.6231 - accuracy: 0.7527\n",
            "Epoch 00027: val_loss did not improve from 1.51574\n",
            "\n",
            "Epoch 00027: val_accuracy did not improve from 0.38812\n",
            "120/120 [==============================] - 4s 33ms/step - loss: 0.6230 - accuracy: 0.7528 - val_loss: 2.4775 - val_accuracy: 0.3786\n",
            "Epoch 28/150\n",
            "118/120 [============================>.] - ETA: 0s - loss: 0.6005 - accuracy: 0.7671\n",
            "Epoch 00028: val_loss did not improve from 1.51574\n",
            "\n",
            "Epoch 00028: val_accuracy did not improve from 0.38812\n",
            "120/120 [==============================] - 4s 33ms/step - loss: 0.6003 - accuracy: 0.7672 - val_loss: 2.6098 - val_accuracy: 0.3695\n",
            "Epoch 29/150\n",
            "119/120 [============================>.] - ETA: 0s - loss: 0.5762 - accuracy: 0.7778\n",
            "Epoch 00029: val_loss did not improve from 1.51574\n",
            "\n",
            "Epoch 00029: val_accuracy did not improve from 0.38812\n",
            "120/120 [==============================] - 4s 34ms/step - loss: 0.5766 - accuracy: 0.7776 - val_loss: 2.4379 - val_accuracy: 0.3835\n",
            "Epoch 00029: early stopping\n"
          ]
        }
      ]
    },
    {
      "cell_type": "code",
      "metadata": {
        "colab": {
          "base_uri": "https://localhost:8080/",
          "height": 376
        },
        "id": "63s7xEE4jPOj",
        "outputId": "373bf199-93dc-4c65-dd5d-3012933dfa31"
      },
      "source": [
        "plt.plot(hist.history['accuracy'], label='train accuracy', c='red')\n",
        "plt.plot(hist.history['val_accuracy'], label='validation accuracy')\n",
        "plt.xlabel('Accuracy')\n",
        "plt.ylabel('Epochs')\n",
        "plt.legend()\n",
        "plt.title('Accuracy vs Epochs for 21 buckets')\n",
        "plt.show()"
      ],
      "execution_count": null,
      "outputs": [
        {
          "output_type": "display_data",
          "data": {
            "image/png": "[encoded data removed]",
            "text/plain": [
              "<Figure size 576x396 with 1 Axes>"
            ]
          },
          "metadata": {}
        }
      ]
    },
    {
      "cell_type": "code",
      "metadata": {
        "colab": {
          "base_uri": "https://localhost:8080/",
          "height": 376
        },
        "id": "br95qQIljPOk",
        "outputId": "9c02218c-1098-4539-afa1-4ce1ae5b5fed"
      },
      "source": [
        "plt.plot(hist.history['loss'], label='train loss', c='red')\n",
        "plt.plot(hist.history['val_loss'], label='validation loss')\n",
        "plt.xlabel('Loss')\n",
        "plt.ylabel('Epochs')\n",
        "plt.legend()\n",
        "plt.title('Loss vs Epochs for 21 buckets')\n",
        "plt.show()"
      ],
      "execution_count": null,
      "outputs": [
        {
          "output_type": "display_data",
          "data": {
            "image/png": "[encoded data removed]",
            "text/plain": [
              "<Figure size 576x396 with 1 Axes>"
            ]
          },
          "metadata": {}
        }
      ]
    },
    {
      "cell_type": "code",
      "metadata": {
        "id": "gFBkW2wijPOk"
      },
      "source": [
        "from sklearn.metrics import classification_report"
      ],
      "execution_count": null,
      "outputs": []
    },
    {
      "cell_type": "code",
      "metadata": {
        "colab": {
          "base_uri": "https://localhost:8080/"
        },
        "id": "JCyjoxenjPOk",
        "outputId": "a0eb796e-7ea1-452b-c595-aa692393caca"
      },
      "source": [
        "model.evaluate(testVals, testLabel21)\n",
        "model.load_weights('bestModelValLoss.h5')\n",
        "model.evaluate(testVals, testLabel21)\n",
        "model.load_weights('bestModelValAcc.h5')\n",
        "model.evaluate(testVals, testLabel21)"
      ],
      "execution_count": null,
      "outputs": [
        {
          "output_type": "stream",
          "name": "stdout",
          "text": [
            "103/103 [==============================] - 1s 6ms/step - loss: 2.4075 - accuracy: 0.3868\n",
            "103/103 [==============================] - 1s 6ms/step - loss: 1.5058 - accuracy: 0.3537\n",
            "103/103 [==============================] - 1s 7ms/step - loss: 2.0213 - accuracy: 0.3877\n"
          ]
        },
        {
          "output_type": "execute_result",
          "data": {
            "text/plain": [
              "[2.0212581157684326, 0.3876988887786865]"
            ]
          },
          "metadata": {},
          "execution_count": 226
        }
      ]
    },
    {
      "cell_type": "code",
      "metadata": {
        "id": "CBvSjIc-jPOk"
      },
      "source": [
        "preds = model.predict(testVals)"
      ],
      "execution_count": null,
      "outputs": []
    },
    {
      "cell_type": "code",
      "metadata": {
        "id": "T8_9oj7OjPOl"
      },
      "source": [
        "preds = np.argmax(preds, axis=1)"
      ],
      "execution_count": null,
      "outputs": []
    },
    {
      "cell_type": "code",
      "metadata": {
        "id": "RMHvKFAyjPOl"
      },
      "source": [
        "finalLabels = np.argmax(testLabel21, axis=1)"
      ],
      "execution_count": null,
      "outputs": []
    },
    {
      "cell_type": "code",
      "metadata": {
        "colab": {
          "base_uri": "https://localhost:8080/"
        },
        "id": "8ZGnZqdXjPOl",
        "outputId": "3d557b6c-2f43-40e5-bfbf-904caa013dc6"
      },
      "source": [
        "cr = classification_report(finalLabels, preds)\n",
        "print(cr)"
      ],
      "execution_count": null,
      "outputs": [
        {
          "output_type": "stream",
          "name": "stdout",
          "text": [
            "              precision    recall  f1-score   support\n",
            "\n",
            "           3       0.00      0.00      0.00         1\n",
            "           4       0.00      0.00      0.00         5\n",
            "           5       0.00      0.00      0.00         8\n",
            "           6       0.00      0.00      0.00        21\n",
            "           7       0.27      0.18      0.21        45\n",
            "           8       0.16      0.07      0.09        60\n",
            "           9       0.27      0.28      0.28       109\n",
            "          10       0.33      0.23      0.27       177\n",
            "          11       0.39      0.45      0.42       329\n",
            "          12       0.36      0.50      0.42       457\n",
            "          13       0.38      0.40      0.39       624\n",
            "          14       0.43      0.45      0.44       667\n",
            "          15       0.46      0.37      0.41       495\n",
            "          16       0.37      0.34      0.36       226\n",
            "          17       0.13      0.05      0.08        38\n",
            "          18       1.00      0.25      0.40         4\n",
            "          19       0.00      0.00      0.00         2\n",
            "\n",
            "    accuracy                           0.39      3268\n",
            "   macro avg       0.27      0.21      0.22      3268\n",
            "weighted avg       0.38      0.39      0.38      3268\n",
            "\n"
          ]
        },
        {
          "output_type": "stream",
          "name": "stderr",
          "text": [
            "/usr/local/lib/python3.7/dist-packages/sklearn/metrics/_classification.py:1308: UndefinedMetricWarning: Precision and F-score are ill-defined and being set to 0.0 in labels with no predicted samples. Use `zero_division` parameter to control this behavior.\n",
            "  _warn_prf(average, modifier, msg_start, len(result))\n",
            "/usr/local/lib/python3.7/dist-packages/sklearn/metrics/_classification.py:1308: UndefinedMetricWarning: Precision and F-score are ill-defined and being set to 0.0 in labels with no predicted samples. Use `zero_division` parameter to control this behavior.\n",
            "  _warn_prf(average, modifier, msg_start, len(result))\n",
            "/usr/local/lib/python3.7/dist-packages/sklearn/metrics/_classification.py:1308: UndefinedMetricWarning: Precision and F-score are ill-defined and being set to 0.0 in labels with no predicted samples. Use `zero_division` parameter to control this behavior.\n",
            "  _warn_prf(average, modifier, msg_start, len(result))\n"
          ]
        }
      ]
    },
    {
      "cell_type": "code",
      "metadata": {
        "id": "fvcTM19ajPOl"
      },
      "source": [
        "preds = model.predict(trainVals)"
      ],
      "execution_count": null,
      "outputs": []
    },
    {
      "cell_type": "code",
      "metadata": {
        "id": "5qKffk4bjPOl"
      },
      "source": [
        "preds = np.argmax(preds, axis=1)"
      ],
      "execution_count": null,
      "outputs": []
    },
    {
      "cell_type": "code",
      "metadata": {
        "id": "3nVm3i3BjPOl"
      },
      "source": [
        "finalLabels = np.argmax(trainLabel21, axis=1)"
      ],
      "execution_count": null,
      "outputs": []
    },
    {
      "cell_type": "code",
      "metadata": {
        "colab": {
          "base_uri": "https://localhost:8080/"
        },
        "id": "SWbQ2qILjPOl",
        "outputId": "0d0efd6c-fc7d-4953-b7c8-99bfc02e8fa0"
      },
      "source": [
        "cr = classification_report(finalLabels, preds)\n",
        "print(cr)"
      ],
      "execution_count": null,
      "outputs": [
        {
          "output_type": "stream",
          "name": "stdout",
          "text": [
            "              precision    recall  f1-score   support\n",
            "\n",
            "           3       0.00      0.00      0.00         4\n",
            "           4       0.00      0.00      0.00        34\n",
            "           5       0.00      0.00      0.00        55\n",
            "           6       0.38      0.03      0.06        98\n",
            "           7       0.40      0.91      0.56       162\n",
            "           8       0.79      0.47      0.59       272\n",
            "           9       0.69      0.85      0.76       490\n",
            "          10       0.80      0.80      0.80       840\n",
            "          11       0.77      0.91      0.83      1408\n",
            "          12       0.86      0.86      0.86      2178\n",
            "          13       0.94      0.90      0.92      2973\n",
            "          14       0.98      0.94      0.96      3103\n",
            "          15       0.97      0.85      0.91      2299\n",
            "          16       0.73      0.98      0.84      1059\n",
            "          17       0.78      0.72      0.75       239\n",
            "          18       0.75      0.10      0.17        31\n",
            "          19       0.00      0.00      0.00         2\n",
            "\n",
            "    accuracy                           0.87     15247\n",
            "   macro avg       0.58      0.55      0.53     15247\n",
            "weighted avg       0.88      0.87      0.87     15247\n",
            "\n"
          ]
        },
        {
          "output_type": "stream",
          "name": "stderr",
          "text": [
            "/usr/local/lib/python3.7/dist-packages/sklearn/metrics/_classification.py:1308: UndefinedMetricWarning: Precision and F-score are ill-defined and being set to 0.0 in labels with no predicted samples. Use `zero_division` parameter to control this behavior.\n",
            "  _warn_prf(average, modifier, msg_start, len(result))\n",
            "/usr/local/lib/python3.7/dist-packages/sklearn/metrics/_classification.py:1308: UndefinedMetricWarning: Precision and F-score are ill-defined and being set to 0.0 in labels with no predicted samples. Use `zero_division` parameter to control this behavior.\n",
            "  _warn_prf(average, modifier, msg_start, len(result))\n",
            "/usr/local/lib/python3.7/dist-packages/sklearn/metrics/_classification.py:1308: UndefinedMetricWarning: Precision and F-score are ill-defined and being set to 0.0 in labels with no predicted samples. Use `zero_division` parameter to control this behavior.\n",
            "  _warn_prf(average, modifier, msg_start, len(result))\n"
          ]
        }
      ]
    },
    {
      "cell_type": "code",
      "metadata": {
        "id": "g1Q6kQyejPOm"
      },
      "source": [
        "preds = model.predict(valVals)"
      ],
      "execution_count": null,
      "outputs": []
    },
    {
      "cell_type": "code",
      "metadata": {
        "id": "tBgPWhivjPOm"
      },
      "source": [
        "preds = model.predict(valVals)"
      ],
      "execution_count": null,
      "outputs": []
    },
    {
      "cell_type": "code",
      "metadata": {
        "id": "GQ_qTNO4jPOm"
      },
      "source": [
        "preds = np.argmax(preds, axis=1)"
      ],
      "execution_count": null,
      "outputs": []
    },
    {
      "cell_type": "code",
      "metadata": {
        "id": "2qmB5o0VjPOm"
      },
      "source": [
        "finalLabels = np.argmax(valLabel21, axis=1)"
      ],
      "execution_count": null,
      "outputs": []
    },
    {
      "cell_type": "code",
      "metadata": {
        "colab": {
          "base_uri": "https://localhost:8080/"
        },
        "id": "vCnFp8rdjPOm",
        "outputId": "fd025b9a-a241-4123-d8b7-b923e47c699f"
      },
      "source": [
        "cr = classification_report(finalLabels, preds)\n",
        "print(cr)"
      ],
      "execution_count": null,
      "outputs": [
        {
          "output_type": "stream",
          "name": "stdout",
          "text": [
            "              precision    recall  f1-score   support\n",
            "\n",
            "           2       0.00      0.00      0.00         1\n",
            "           3       0.00      0.00      0.00         2\n",
            "           4       0.00      0.00      0.00         4\n",
            "           5       0.00      0.00      0.00        14\n",
            "           6       0.00      0.00      0.00        26\n",
            "           7       0.09      0.07      0.08        42\n",
            "           8       0.15      0.05      0.07        60\n",
            "           9       0.28      0.30      0.29       100\n",
            "          10       0.35      0.28      0.31       178\n",
            "          11       0.35      0.45      0.40       306\n",
            "          12       0.39      0.50      0.44       485\n",
            "          13       0.39      0.41      0.40       621\n",
            "          14       0.43      0.43      0.43       673\n",
            "          15       0.40      0.36      0.38       450\n",
            "          16       0.45      0.37      0.41       247\n",
            "          17       0.33      0.07      0.12        55\n",
            "          18       0.00      0.00      0.00         3\n",
            "\n",
            "    accuracy                           0.39      3267\n",
            "   macro avg       0.21      0.19      0.20      3267\n",
            "weighted avg       0.38      0.39      0.38      3267\n",
            "\n"
          ]
        },
        {
          "output_type": "stream",
          "name": "stderr",
          "text": [
            "/usr/local/lib/python3.7/dist-packages/sklearn/metrics/_classification.py:1308: UndefinedMetricWarning: Precision and F-score are ill-defined and being set to 0.0 in labels with no predicted samples. Use `zero_division` parameter to control this behavior.\n",
            "  _warn_prf(average, modifier, msg_start, len(result))\n",
            "/usr/local/lib/python3.7/dist-packages/sklearn/metrics/_classification.py:1308: UndefinedMetricWarning: Precision and F-score are ill-defined and being set to 0.0 in labels with no predicted samples. Use `zero_division` parameter to control this behavior.\n",
            "  _warn_prf(average, modifier, msg_start, len(result))\n",
            "/usr/local/lib/python3.7/dist-packages/sklearn/metrics/_classification.py:1308: UndefinedMetricWarning: Precision and F-score are ill-defined and being set to 0.0 in labels with no predicted samples. Use `zero_division` parameter to control this behavior.\n",
            "  _warn_prf(average, modifier, msg_start, len(result))\n"
          ]
        }
      ]
    },
    {
      "cell_type": "code",
      "metadata": {
        "colab": {
          "base_uri": "https://localhost:8080/"
        },
        "id": "ieZTogLQngF5",
        "outputId": "f8ccf4cf-3dce-4c52-9cf4-731e02b1bea7"
      },
      "source": [
        "model.evaluate(testVals, testLabel21)\n",
        "model.load_weights('bestModelValLoss.h5')\n",
        "model.evaluate(testVals, testLabel21)\n",
        "model.load_weights('bestModelValAcc.h5')\n",
        "model.evaluate(testVals, testLabel21)"
      ],
      "execution_count": null,
      "outputs": [
        {
          "output_type": "stream",
          "name": "stdout",
          "text": [
            "103/103 [==============================] - 1s 7ms/step - loss: 2.0213 - accuracy: 0.3877\n",
            "103/103 [==============================] - 1s 6ms/step - loss: 1.5058 - accuracy: 0.3537\n",
            "103/103 [==============================] - 1s 6ms/step - loss: 2.0213 - accuracy: 0.3877\n"
          ]
        },
        {
          "output_type": "execute_result",
          "data": {
            "text/plain": [
              "[2.0212581157684326, 0.3876988887786865]"
            ]
          },
          "metadata": {},
          "execution_count": 240
        }
      ]
    },
    {
      "cell_type": "code",
      "metadata": {
        "id": "Fq8FEQ_mn3JU"
      },
      "source": [
        ""
      ],
      "execution_count": null,
      "outputs": []
    },
    {
      "cell_type": "code",
      "metadata": {
        "id": "aBtxAurqzqFm"
      },
      "source": [
        ""
      ],
      "execution_count": null,
      "outputs": []
    },
    {
      "cell_type": "code",
      "metadata": {
        "id": "T22ynG0dzqS9"
      },
      "source": [
        ""
      ],
      "execution_count": null,
      "outputs": []
    },
    {
      "cell_type": "code",
      "metadata": {
        "id": "qJquPR_Nzqfe"
      },
      "source": [
        "trainData = pd.read_csv('train.csv')\n",
        "trainLabel6 = pd.read_csv('train_6_buckets.csv')\n",
        "trainLabel11 = pd.read_csv('train_11_buckets.csv')\n",
        "trainLabel21 = pd.read_csv('train_21_buckets.csv')\n",
        "testData = pd.read_csv('test.csv')\n",
        "testLabel6 = pd.read_csv('test_6_buckets.csv')\n",
        "testLabel11 = pd.read_csv('test_11_buckets.csv')\n",
        "testLabel21 = pd.read_csv('test_21_buckets.csv')\n",
        "valData = pd.read_csv('val.csv')\n",
        "valLabel6 = pd.read_csv('valid_6_buckets.csv')\n",
        "valLabel11 = pd.read_csv('valid_11_buckets.csv')\n",
        "valLabel21 = pd.read_csv('valid_21_buckets.csv')\n",
        "trainLabel21 *= 2\n",
        "testLabel21 *= 2\n",
        "valLabel21 *= 2"
      ],
      "execution_count": null,
      "outputs": []
    },
    {
      "cell_type": "code",
      "metadata": {
        "id": "f0PW04PQzq1N"
      },
      "source": [
        "from sklearn.svm import LinearSVC"
      ],
      "execution_count": null,
      "outputs": []
    },
    {
      "cell_type": "code",
      "metadata": {
        "id": "RgYbT7Mw0js1"
      },
      "source": [
        "C = [0.1, 0.2, 0.3, 0.4, 0.5, 1, 2, 3, 4, 5, 10, 20]"
      ],
      "execution_count": null,
      "outputs": []
    },
    {
      "cell_type": "code",
      "metadata": {
        "colab": {
          "base_uri": "https://localhost:8080/"
        },
        "id": "c2Zf3hkzzv7Y",
        "outputId": "50736935-4690-42f2-9d15-f6a955a7a4aa"
      },
      "source": [
        "for c in C:\n",
        "    print(c)\n",
        "    SVM = LinearSVC(C=c, verbose=False)\n",
        "    SVM.fit(trainData, trainLabel11)\n",
        "    print('train', SVM.score(trainData, trainLabel11))\n",
        "    print('test', SVM.score(testData, testLabel11))\n",
        "    print('val', SVM.score(valData, valLabel11))"
      ],
      "execution_count": null,
      "outputs": [
        {
          "output_type": "stream",
          "name": "stdout",
          "text": [
            "0.1\n"
          ]
        },
        {
          "output_type": "stream",
          "name": "stderr",
          "text": [
            "/usr/local/lib/python3.7/dist-packages/sklearn/utils/validation.py:985: DataConversionWarning: A column-vector y was passed when a 1d array was expected. Please change the shape of y to (n_samples, ), for example using ravel().\n",
            "  y = column_or_1d(y, warn=True)\n",
            "/usr/local/lib/python3.7/dist-packages/sklearn/svm/_base.py:1208: ConvergenceWarning: Liblinear failed to converge, increase the number of iterations.\n",
            "  ConvergenceWarning,\n"
          ]
        },
        {
          "output_type": "stream",
          "name": "stdout",
          "text": [
            "train 0.8414770118711877\n",
            "test 0.545593635250918\n",
            "val 0.5445362718089991\n",
            "0.2\n"
          ]
        },
        {
          "output_type": "stream",
          "name": "stderr",
          "text": [
            "/usr/local/lib/python3.7/dist-packages/sklearn/utils/validation.py:985: DataConversionWarning: A column-vector y was passed when a 1d array was expected. Please change the shape of y to (n_samples, ), for example using ravel().\n",
            "  y = column_or_1d(y, warn=True)\n",
            "/usr/local/lib/python3.7/dist-packages/sklearn/svm/_base.py:1208: ConvergenceWarning: Liblinear failed to converge, increase the number of iterations.\n",
            "  ConvergenceWarning,\n"
          ]
        },
        {
          "output_type": "stream",
          "name": "stdout",
          "text": [
            "train 0.8586607201416672\n",
            "test 0.5315177478580171\n",
            "val 0.5393327211509029\n",
            "0.3\n"
          ]
        },
        {
          "output_type": "stream",
          "name": "stderr",
          "text": [
            "/usr/local/lib/python3.7/dist-packages/sklearn/utils/validation.py:985: DataConversionWarning: A column-vector y was passed when a 1d array was expected. Please change the shape of y to (n_samples, ), for example using ravel().\n",
            "  y = column_or_1d(y, warn=True)\n",
            "/usr/local/lib/python3.7/dist-packages/sklearn/svm/_base.py:1208: ConvergenceWarning: Liblinear failed to converge, increase the number of iterations.\n",
            "  ConvergenceWarning,\n"
          ]
        },
        {
          "output_type": "stream",
          "name": "stdout",
          "text": [
            "train 0.8663999475306617\n",
            "test 0.5263157894736842\n",
            "val 0.5344352617079889\n",
            "0.4\n"
          ]
        },
        {
          "output_type": "stream",
          "name": "stderr",
          "text": [
            "/usr/local/lib/python3.7/dist-packages/sklearn/utils/validation.py:985: DataConversionWarning: A column-vector y was passed when a 1d array was expected. Please change the shape of y to (n_samples, ), for example using ravel().\n",
            "  y = column_or_1d(y, warn=True)\n",
            "/usr/local/lib/python3.7/dist-packages/sklearn/svm/_base.py:1208: ConvergenceWarning: Liblinear failed to converge, increase the number of iterations.\n",
            "  ConvergenceWarning,\n"
          ]
        },
        {
          "output_type": "stream",
          "name": "stdout",
          "text": [
            "train 0.8713189479897685\n",
            "test 0.5241738066095472\n",
            "val 0.5353535353535354\n",
            "0.5\n"
          ]
        },
        {
          "output_type": "stream",
          "name": "stderr",
          "text": [
            "/usr/local/lib/python3.7/dist-packages/sklearn/utils/validation.py:985: DataConversionWarning: A column-vector y was passed when a 1d array was expected. Please change the shape of y to (n_samples, ), for example using ravel().\n",
            "  y = column_or_1d(y, warn=True)\n",
            "/usr/local/lib/python3.7/dist-packages/sklearn/svm/_base.py:1208: ConvergenceWarning: Liblinear failed to converge, increase the number of iterations.\n",
            "  ConvergenceWarning,\n"
          ]
        },
        {
          "output_type": "stream",
          "name": "stdout",
          "text": [
            "train 0.8751885616842657\n",
            "test 0.5238678090575275\n",
            "val 0.5374961738598102\n",
            "1\n"
          ]
        },
        {
          "output_type": "stream",
          "name": "stderr",
          "text": [
            "/usr/local/lib/python3.7/dist-packages/sklearn/utils/validation.py:985: DataConversionWarning: A column-vector y was passed when a 1d array was expected. Please change the shape of y to (n_samples, ), for example using ravel().\n",
            "  y = column_or_1d(y, warn=True)\n",
            "/usr/local/lib/python3.7/dist-packages/sklearn/svm/_base.py:1208: ConvergenceWarning: Liblinear failed to converge, increase the number of iterations.\n",
            "  ConvergenceWarning,\n"
          ]
        },
        {
          "output_type": "stream",
          "name": "stdout",
          "text": [
            "train 0.8849609759296911\n",
            "test 0.5137698898408812\n",
            "val 0.5350474441383533\n",
            "2\n"
          ]
        },
        {
          "output_type": "stream",
          "name": "stderr",
          "text": [
            "/usr/local/lib/python3.7/dist-packages/sklearn/utils/validation.py:985: DataConversionWarning: A column-vector y was passed when a 1d array was expected. Please change the shape of y to (n_samples, ), for example using ravel().\n",
            "  y = column_or_1d(y, warn=True)\n",
            "/usr/local/lib/python3.7/dist-packages/sklearn/svm/_base.py:1208: ConvergenceWarning: Liblinear failed to converge, increase the number of iterations.\n",
            "  ConvergenceWarning,\n"
          ]
        },
        {
          "output_type": "stream",
          "name": "stdout",
          "text": [
            "train 0.8920443365908047\n",
            "test 0.5113219094247246\n",
            "val 0.5224977043158862\n",
            "3\n"
          ]
        },
        {
          "output_type": "stream",
          "name": "stderr",
          "text": [
            "/usr/local/lib/python3.7/dist-packages/sklearn/utils/validation.py:985: DataConversionWarning: A column-vector y was passed when a 1d array was expected. Please change the shape of y to (n_samples, ), for example using ravel().\n",
            "  y = column_or_1d(y, warn=True)\n",
            "/usr/local/lib/python3.7/dist-packages/sklearn/svm/_base.py:1208: ConvergenceWarning: Liblinear failed to converge, increase the number of iterations.\n",
            "  ConvergenceWarning,\n"
          ]
        },
        {
          "output_type": "stream",
          "name": "stdout",
          "text": [
            "train 0.8934216567193546\n",
            "test 0.5079559363525091\n",
            "val 0.5194367921640649\n",
            "4\n"
          ]
        },
        {
          "output_type": "stream",
          "name": "stderr",
          "text": [
            "/usr/local/lib/python3.7/dist-packages/sklearn/utils/validation.py:985: DataConversionWarning: A column-vector y was passed when a 1d array was expected. Please change the shape of y to (n_samples, ), for example using ravel().\n",
            "  y = column_or_1d(y, warn=True)\n",
            "/usr/local/lib/python3.7/dist-packages/sklearn/svm/_base.py:1208: ConvergenceWarning: Liblinear failed to converge, increase the number of iterations.\n",
            "  ConvergenceWarning,\n"
          ]
        },
        {
          "output_type": "stream",
          "name": "stdout",
          "text": [
            "train 0.8869941627861219\n",
            "test 0.5061199510403916\n",
            "val 0.5188246097337006\n",
            "5\n"
          ]
        },
        {
          "output_type": "stream",
          "name": "stderr",
          "text": [
            "/usr/local/lib/python3.7/dist-packages/sklearn/utils/validation.py:985: DataConversionWarning: A column-vector y was passed when a 1d array was expected. Please change the shape of y to (n_samples, ), for example using ravel().\n",
            "  y = column_or_1d(y, warn=True)\n",
            "/usr/local/lib/python3.7/dist-packages/sklearn/svm/_base.py:1208: ConvergenceWarning: Liblinear failed to converge, increase the number of iterations.\n",
            "  ConvergenceWarning,\n"
          ]
        },
        {
          "output_type": "stream",
          "name": "stdout",
          "text": [
            "train 0.8961762969764544\n",
            "test 0.5048959608323134\n",
            "val 0.5218855218855218\n",
            "10\n"
          ]
        },
        {
          "output_type": "stream",
          "name": "stderr",
          "text": [
            "/usr/local/lib/python3.7/dist-packages/sklearn/utils/validation.py:985: DataConversionWarning: A column-vector y was passed when a 1d array was expected. Please change the shape of y to (n_samples, ), for example using ravel().\n",
            "  y = column_or_1d(y, warn=True)\n",
            "/usr/local/lib/python3.7/dist-packages/sklearn/svm/_base.py:1208: ConvergenceWarning: Liblinear failed to converge, increase the number of iterations.\n",
            "  ConvergenceWarning,\n"
          ]
        },
        {
          "output_type": "stream",
          "name": "stdout",
          "text": [
            "train 0.8610874270348265\n",
            "test 0.4865361077111383\n",
            "val 0.4970921334557698\n",
            "20\n"
          ]
        },
        {
          "output_type": "stream",
          "name": "stderr",
          "text": [
            "/usr/local/lib/python3.7/dist-packages/sklearn/utils/validation.py:985: DataConversionWarning: A column-vector y was passed when a 1d array was expected. Please change the shape of y to (n_samples, ), for example using ravel().\n",
            "  y = column_or_1d(y, warn=True)\n",
            "/usr/local/lib/python3.7/dist-packages/sklearn/svm/_base.py:1208: ConvergenceWarning: Liblinear failed to converge, increase the number of iterations.\n",
            "  ConvergenceWarning,\n"
          ]
        },
        {
          "output_type": "stream",
          "name": "stdout",
          "text": [
            "train 0.8427231586541615\n",
            "test 0.5015299877600979\n",
            "val 0.5059687786960514\n"
          ]
        }
      ]
    },
    {
      "cell_type": "code",
      "metadata": {
        "id": "doMpXRes3EpH"
      },
      "source": [
        "from sklearn import svm\n",
        "from sklearn.metrics import f1_score, precision_score, recall_score, accuracy_score"
      ],
      "execution_count": null,
      "outputs": []
    },
    {
      "cell_type": "code",
      "metadata": {
        "colab": {
          "base_uri": "https://localhost:8080/"
        },
        "id": "lCbWfVO2z3pQ",
        "outputId": "9fe0c2b5-be2b-4623-c8ed-88f951f52a50"
      },
      "source": [
        "SVM = svm.SVC(C=1.0, kernel='poly', max_iter=2000, verbose=True)\n",
        "SVM.fit(trainData, trainLabel6)\n",
        "print('train', SVM.score(trainData, trainLabel6))\n",
        "print('test', SVM.score(testData, testLabel6))\n",
        "print('val', SVM.score(valData, valLabel6))"
      ],
      "execution_count": null,
      "outputs": [
        {
          "output_type": "stream",
          "name": "stderr",
          "text": [
            "/usr/local/lib/python3.7/dist-packages/sklearn/utils/validation.py:985: DataConversionWarning: A column-vector y was passed when a 1d array was expected. Please change the shape of y to (n_samples, ), for example using ravel().\n",
            "  y = column_or_1d(y, warn=True)\n"
          ]
        },
        {
          "output_type": "stream",
          "name": "stdout",
          "text": [
            "[LibSVM]"
          ]
        },
        {
          "output_type": "stream",
          "name": "stderr",
          "text": [
            "/usr/local/lib/python3.7/dist-packages/sklearn/svm/_base.py:289: ConvergenceWarning: Solver terminated early (max_iter=2000).  Consider pre-processing your data with StandardScaler or MinMaxScaler.\n",
            "  ConvergenceWarning,\n"
          ]
        },
        {
          "output_type": "stream",
          "name": "stdout",
          "text": [
            "train 0.9919984259198531\n",
            "test 0.9785801713586292\n",
            "val 0.9761248852157943\n"
          ]
        }
      ]
    },
    {
      "cell_type": "code",
      "metadata": {
        "colab": {
          "base_uri": "https://localhost:8080/"
        },
        "id": "regcdG5w3DIP",
        "outputId": "d614cb02-420e-4d39-c6dc-eb1c39f58422"
      },
      "source": [
        "SVM = svm.SVC(C=1.0, kernel='poly', max_iter=2000, verbose=True)\n",
        "SVM.fit(trainData, trainLabel6)\n",
        "trainpred = SVM.predict(trainData)\n",
        "valpred = SVM.predict(valData)\n",
        "testpred = SVM.predict(testData)"
      ],
      "execution_count": null,
      "outputs": [
        {
          "output_type": "stream",
          "name": "stderr",
          "text": [
            "/usr/local/lib/python3.7/dist-packages/sklearn/utils/validation.py:985: DataConversionWarning: A column-vector y was passed when a 1d array was expected. Please change the shape of y to (n_samples, ), for example using ravel().\n",
            "  y = column_or_1d(y, warn=True)\n"
          ]
        },
        {
          "output_type": "stream",
          "name": "stdout",
          "text": [
            "[LibSVM]"
          ]
        },
        {
          "output_type": "stream",
          "name": "stderr",
          "text": [
            "/usr/local/lib/python3.7/dist-packages/sklearn/svm/_base.py:289: ConvergenceWarning: Solver terminated early (max_iter=2000).  Consider pre-processing your data with StandardScaler or MinMaxScaler.\n",
            "  ConvergenceWarning,\n"
          ]
        }
      ]
    },
    {
      "cell_type": "code",
      "metadata": {
        "colab": {
          "base_uri": "https://localhost:8080/"
        },
        "id": "FJUr8a5UG7yT",
        "outputId": "a21aa58e-b26a-4f9f-f01b-fee66fc1b084"
      },
      "source": [
        "train_f1_score = f1_score(trainLabel6, trainpred, average='weighted')\n",
        "train_precision_score = precision_score(trainLabel6, trainpred, average='weighted')\n",
        "train_recall_score = recall_score(trainLabel6, trainpred, average='weighted')\n",
        "train_accuracy_score = accuracy_score(trainLabel6, trainpred, normalize=True)\n",
        "\n",
        "val_f1_score = f1_score(valLabel6, valpred, average='weighted')\n",
        "val_precision_score = precision_score(valLabel6, valpred, average='weighted')\n",
        "val_recall_score = recall_score(valLabel6, valpred, average='weighted')\n",
        "val_accuracy_score = accuracy_score(valLabel6, valpred, normalize=True)\n",
        "\n",
        "test_f1_score = f1_score(testLabel6, testpred, average='weighted')\n",
        "test_precision_score = precision_score(testLabel6, testpred, average='weighted')\n",
        "test_recall_score = recall_score(testLabel6, testpred, average='weighted')\n",
        "test_accuracy_score = accuracy_score(testLabel6, testpred, normalize=True)"
      ],
      "execution_count": null,
      "outputs": [
        {
          "output_type": "stream",
          "name": "stderr",
          "text": [
            "/usr/local/lib/python3.7/dist-packages/sklearn/metrics/_classification.py:1308: UndefinedMetricWarning: Precision is ill-defined and being set to 0.0 in labels with no predicted samples. Use `zero_division` parameter to control this behavior.\n",
            "  _warn_prf(average, modifier, msg_start, len(result))\n",
            "/usr/local/lib/python3.7/dist-packages/sklearn/metrics/_classification.py:1308: UndefinedMetricWarning: Precision is ill-defined and being set to 0.0 in labels with no predicted samples. Use `zero_division` parameter to control this behavior.\n",
            "  _warn_prf(average, modifier, msg_start, len(result))\n",
            "/usr/local/lib/python3.7/dist-packages/sklearn/metrics/_classification.py:1308: UndefinedMetricWarning: Recall is ill-defined and being set to 0.0 in labels with no true samples. Use `zero_division` parameter to control this behavior.\n",
            "  _warn_prf(average, modifier, msg_start, len(result))\n",
            "/usr/local/lib/python3.7/dist-packages/sklearn/metrics/_classification.py:1308: UndefinedMetricWarning: Precision is ill-defined and being set to 0.0 in labels with no predicted samples. Use `zero_division` parameter to control this behavior.\n",
            "  _warn_prf(average, modifier, msg_start, len(result))\n"
          ]
        }
      ]
    },
    {
      "cell_type": "code",
      "metadata": {
        "id": "Imf1-9j2HqQZ"
      },
      "source": [
        "modelSet = ['train', 'test', 'val']\n",
        "metricType = ['f1', 'precision', 'recall', 'accuracy']"
      ],
      "execution_count": null,
      "outputs": []
    },
    {
      "cell_type": "code",
      "metadata": {
        "colab": {
          "base_uri": "https://localhost:8080/"
        },
        "id": "UEhVE_ULJ880",
        "outputId": "3245542a-ac9d-4e41-815a-ffaef30ec166"
      },
      "source": [
        "print(train_f1_score,train_precision_score,train_recall_score,train_accuracy_score)"
      ],
      "execution_count": null,
      "outputs": [
        {
          "output_type": "stream",
          "name": "stdout",
          "text": [
            "0.988208322039349 0.9847434779914342 0.9919984259198531 0.9919984259198531\n"
          ]
        }
      ]
    },
    {
      "cell_type": "code",
      "metadata": {
        "colab": {
          "base_uri": "https://localhost:8080/"
        },
        "id": "65wsGoo-Kepg",
        "outputId": "43bd36c3-8d77-4f36-b073-e4c94679687d"
      },
      "source": [
        "print(test_f1_score,test_precision_score,test_recall_score,test_accuracy_score)"
      ],
      "execution_count": null,
      "outputs": [
        {
          "output_type": "stream",
          "name": "stdout",
          "text": [
            "0.9753093762684168 0.9720696523707206 0.9785801713586292 0.9785801713586292\n"
          ]
        }
      ]
    },
    {
      "cell_type": "code",
      "metadata": {
        "colab": {
          "base_uri": "https://localhost:8080/"
        },
        "id": "7cK2iSV7KiIx",
        "outputId": "7cffaf3f-9424-4b6d-e633-eeadbd943946"
      },
      "source": [
        "print(val_f1_score,val_precision_score,val_recall_score,val_accuracy_score)"
      ],
      "execution_count": null,
      "outputs": [
        {
          "output_type": "stream",
          "name": "stdout",
          "text": [
            "0.9716604508269563 0.9674091842488103 0.9761248852157943 0.9761248852157943\n"
          ]
        }
      ]
    },
    {
      "cell_type": "code",
      "metadata": {
        "id": "TQ_LUVN3KlXA"
      },
      "source": [
        ""
      ],
      "execution_count": null,
      "outputs": []
    }
  ]
}