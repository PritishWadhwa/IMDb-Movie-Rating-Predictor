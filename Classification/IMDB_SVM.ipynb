{
  "nbformat": 4,
  "nbformat_minor": 0,
  "metadata": {
    "colab": {
      "name": "IMDB_SVM.ipynb",
      "provenance": [],
      "collapsed_sections": []
    },
    "kernelspec": {
      "name": "python3",
      "display_name": "Python 3"
    },
    "language_info": {
      "name": "python"
    },
    "accelerator": "TPU"
  },
  "cells": [
    {
      "cell_type": "code",
      "metadata": {
        "colab": {
          "base_uri": "https://localhost:8080/"
        },
        "id": "JSfsdDt61DCZ",
        "outputId": "83ec53f7-f9b3-4c67-ad89-c14b1662c1ab"
      },
      "source": [
        "from google.colab import drive\n",
        "drive.mount('/content/drive')"
      ],
      "execution_count": null,
      "outputs": [
        {
          "output_type": "stream",
          "name": "stdout",
          "text": [
            "Drive already mounted at /content/drive; to attempt to forcibly remount, call drive.mount(\"/content/drive\", force_remount=True).\n"
          ]
        }
      ]
    },
    {
      "cell_type": "code",
      "metadata": {
        "colab": {
          "base_uri": "https://localhost:8080/"
        },
        "id": "RfdSwDUY1JHv",
        "outputId": "f6ef4a6f-7755-4b1f-f0b9-da12ba4475eb"
      },
      "source": [
        "!ls"
      ],
      "execution_count": null,
      "outputs": [
        {
          "output_type": "stream",
          "name": "stdout",
          "text": [
            "drive  sample_data\n"
          ]
        }
      ]
    },
    {
      "cell_type": "code",
      "metadata": {
        "id": "PPqS2voZ1gkF"
      },
      "source": [
        "!cd drive/Shareddrives/"
      ],
      "execution_count": null,
      "outputs": []
    },
    {
      "cell_type": "code",
      "metadata": {
        "colab": {
          "base_uri": "https://localhost:8080/"
        },
        "id": "KeMEodjn1uXJ",
        "outputId": "82e69ecf-ff7f-45ee-e8fc-3b0b2264e2f6"
      },
      "source": [
        "!ls"
      ],
      "execution_count": null,
      "outputs": [
        {
          "output_type": "stream",
          "name": "stdout",
          "text": [
            "drive  sample_data\n"
          ]
        }
      ]
    },
    {
      "cell_type": "code",
      "metadata": {
        "colab": {
          "base_uri": "https://localhost:8080/"
        },
        "id": "9_VGGrS_1u4f",
        "outputId": "210f520c-2f98-4b02-e60b-2a6464c1af3d"
      },
      "source": [
        "cd drive"
      ],
      "execution_count": null,
      "outputs": [
        {
          "output_type": "stream",
          "name": "stdout",
          "text": [
            "/content/drive\n"
          ]
        }
      ]
    },
    {
      "cell_type": "code",
      "metadata": {
        "colab": {
          "base_uri": "https://localhost:8080/"
        },
        "id": "1iH4w9wH1wMF",
        "outputId": "816870f6-39be-4968-e7ee-2711e9087599"
      },
      "source": [
        "ls"
      ],
      "execution_count": null,
      "outputs": [
        {
          "output_type": "stream",
          "name": "stdout",
          "text": [
            "\u001b[0m\u001b[01;34mMyDrive\u001b[0m/  \u001b[01;34mShareddrives\u001b[0m/\n"
          ]
        }
      ]
    },
    {
      "cell_type": "code",
      "metadata": {
        "colab": {
          "base_uri": "https://localhost:8080/"
        },
        "id": "cgRxJzxs1xX2",
        "outputId": "f51978a2-6eb8-4623-9b61-b8261308fb08"
      },
      "source": [
        "cd MyDrive/Dataset"
      ],
      "execution_count": null,
      "outputs": [
        {
          "output_type": "stream",
          "name": "stdout",
          "text": [
            "/content/drive/.shortcut-targets-by-id/1m_SktiYKrOgIWUBiEIDZXnwItp7SZPPF/Dataset\n"
          ]
        }
      ]
    },
    {
      "cell_type": "code",
      "metadata": {
        "colab": {
          "base_uri": "https://localhost:8080/"
        },
        "id": "B06lhTSK2BLC",
        "outputId": "b553e589-3183-4c4e-bcb4-87d7acf79ab6"
      },
      "source": [
        "!ls"
      ],
      "execution_count": null,
      "outputs": [
        {
          "output_type": "stream",
          "name": "stdout",
          "text": [
            "preprocessed.csv\t       test_6_buckets.csv    val.csv\n",
            "pre_standardization_test.csv   test.csv\t\t     valid_11_buckets.csv\n",
            "pre_standardization_train.csv  train_11_buckets.csv  valid_21_buckets.csv\n",
            "pre_standardization_val.csv    train_21_buckets.csv  valid_6_buckets.csv\n",
            "test_11_buckets.csv\t       train_6_buckets.csv\n",
            "test_21_buckets.csv\t       train.csv\n"
          ]
        }
      ]
    },
    {
      "cell_type": "code",
      "metadata": {
        "id": "ziglCUF_2CMO"
      },
      "source": [
        "import pandas as pd\n",
        "import numpy as np\n",
        "import matplotlib.pyplot as plt\n"
      ],
      "execution_count": null,
      "outputs": []
    },
    {
      "cell_type": "code",
      "metadata": {
        "id": "GjyUvstS2aU2"
      },
      "source": [
        "trainData = pd.read_csv('train.csv')\n",
        "trainLabel6 = pd.read_csv('train_6_buckets.csv')\n",
        "trainLabel11 = pd.read_csv('train_11_buckets.csv')\n",
        "trainLabel21 = pd.read_csv('train_21_buckets.csv')\n",
        "testData = pd.read_csv('test.csv')\n",
        "testLabel6 = pd.read_csv('test_6_buckets.csv')\n",
        "testLabel11 = pd.read_csv('test_11_buckets.csv')\n",
        "testLabel21 = pd.read_csv('test_21_buckets.csv')\n",
        "valData = pd.read_csv('val.csv')\n",
        "valLabel6 = pd.read_csv('valid_6_buckets.csv')\n",
        "valLabel11 = pd.read_csv('valid_11_buckets.csv')\n",
        "valLabel21 = pd.read_csv('valid_21_buckets.csv')\n",
        "trainLabel21 *= 2\n",
        "testLabel21 *= 2\n",
        "valLabel21 *= 2"
      ],
      "execution_count": null,
      "outputs": []
    },
    {
      "cell_type": "code",
      "metadata": {
        "id": "okvzoqmz2fyp"
      },
      "source": [
        "from sklearn import svm\n",
        "from sklearn.model_selection import GridSearchCV"
      ],
      "execution_count": null,
      "outputs": []
    },
    {
      "cell_type": "code",
      "metadata": {
        "colab": {
          "base_uri": "https://localhost:8080/"
        },
        "id": "8UNrAm6uRZRA",
        "outputId": "95af790b-eb51-40e3-e5a4-32d79144cd16"
      },
      "source": [
        "SVM = svm.SVC(C=1.0, kernel='rbf', max_iter=2000, verbose=True)\n",
        "SVM.fit(trainData, trainLabel6)\n",
        "print('train', SVM.score(trainData, trainLabel6))\n",
        "print('test', SVM.score(testData, testLabel6))\n",
        "print('val', SVM.score(valData, valLabel6))"
      ],
      "execution_count": null,
      "outputs": [
        {
          "output_type": "stream",
          "name": "stderr",
          "text": [
            "/usr/local/lib/python3.7/dist-packages/sklearn/utils/validation.py:985: DataConversionWarning: A column-vector y was passed when a 1d array was expected. Please change the shape of y to (n_samples, ), for example using ravel().\n",
            "  y = column_or_1d(y, warn=True)\n"
          ]
        },
        {
          "output_type": "stream",
          "name": "stdout",
          "text": [
            "[LibSVM]"
          ]
        },
        {
          "output_type": "stream",
          "name": "stderr",
          "text": [
            "/usr/local/lib/python3.7/dist-packages/sklearn/svm/_base.py:289: ConvergenceWarning: Solver terminated early (max_iter=2000).  Consider pre-processing your data with StandardScaler or MinMaxScaler.\n",
            "  ConvergenceWarning,\n"
          ]
        },
        {
          "output_type": "stream",
          "name": "stdout",
          "text": [
            "train 0.9969830130517479\n",
            "test 0.9666462668298653\n",
            "val 0.9681665136210591\n"
          ]
        }
      ]
    },
    {
      "cell_type": "code",
      "metadata": {
        "id": "6M5WcFecaRoL"
      },
      "source": [
        "from sklearn.svm import NuSVC"
      ],
      "execution_count": null,
      "outputs": []
    },
    {
      "cell_type": "code",
      "metadata": {
        "colab": {
          "base_uri": "https://localhost:8080/"
        },
        "id": "Y3gT2ehDupZ8",
        "outputId": "1ffa502a-e451-4abe-b2ea-3fde5e6fd30e"
      },
      "source": [
        "SVM = svm.SVC(C=1.0, kernel='poly', max_iter=2000, verbose=True)\n",
        "SVM.fit(trainData, trainLabel11)\n",
        "print('train', SVM.score(trainData, trainLabel11))\n",
        "print('test', SVM.score(testData, testLabel11))\n",
        "print('val', SVM.score(valData, valLabel11))"
      ],
      "execution_count": null,
      "outputs": [
        {
          "output_type": "stream",
          "name": "stderr",
          "text": [
            "/usr/local/lib/python3.7/dist-packages/sklearn/utils/validation.py:985: DataConversionWarning: A column-vector y was passed when a 1d array was expected. Please change the shape of y to (n_samples, ), for example using ravel().\n",
            "  y = column_or_1d(y, warn=True)\n"
          ]
        },
        {
          "output_type": "stream",
          "name": "stdout",
          "text": [
            "[LibSVM]"
          ]
        },
        {
          "output_type": "stream",
          "name": "stderr",
          "text": [
            "/usr/local/lib/python3.7/dist-packages/sklearn/svm/_base.py:289: ConvergenceWarning: Solver terminated early (max_iter=2000).  Consider pre-processing your data with StandardScaler or MinMaxScaler.\n",
            "  ConvergenceWarning,\n"
          ]
        },
        {
          "output_type": "stream",
          "name": "stdout",
          "text": [
            "train 0.9824883583655801\n",
            "test 0.9537943696450428\n",
            "val 0.950719314355678\n"
          ]
        }
      ]
    },
    {
      "cell_type": "code",
      "metadata": {
        "colab": {
          "base_uri": "https://localhost:8080/"
        },
        "id": "TS7-q7M-bCzp",
        "outputId": "901d0ef3-5df8-4a9d-a609-05db78d00523"
      },
      "source": [
        "nu = NuSVC(verbose=100, max_iter=200, nu=0.001)\n",
        "nu.fit(trainData, trainLabel6)\n",
        "print('train', SVM.score(trainData, trainLabel6))\n",
        "print('test', SVM.score(testData, testLabel6))\n",
        "print('val', SVM.score(valData, valLabel6))"
      ],
      "execution_count": null,
      "outputs": [
        {
          "output_type": "stream",
          "name": "stderr",
          "text": [
            "/usr/local/lib/python3.7/dist-packages/sklearn/utils/validation.py:985: DataConversionWarning: A column-vector y was passed when a 1d array was expected. Please change the shape of y to (n_samples, ), for example using ravel().\n",
            "  y = column_or_1d(y, warn=True)\n"
          ]
        },
        {
          "output_type": "stream",
          "name": "stdout",
          "text": [
            "[LibSVM]"
          ]
        },
        {
          "output_type": "stream",
          "name": "stderr",
          "text": [
            "/usr/local/lib/python3.7/dist-packages/sklearn/svm/_base.py:289: ConvergenceWarning: Solver terminated early (max_iter=200).  Consider pre-processing your data with StandardScaler or MinMaxScaler.\n",
            "  ConvergenceWarning,\n"
          ]
        },
        {
          "output_type": "stream",
          "name": "stdout",
          "text": [
            "train 0.9969830130517479\n",
            "test 0.9666462668298653\n",
            "val 0.9681665136210591\n"
          ]
        }
      ]
    },
    {
      "cell_type": "code",
      "metadata": {
        "colab": {
          "base_uri": "https://localhost:8080/"
        },
        "id": "Zc8En8qXoMIG",
        "outputId": "6f8cee8a-5026-43d9-e4ff-1c5128300537"
      },
      "source": [
        "SVM = svm.SVC(C=1.0, kernel='rbf', max_iter=2000, verbose=True)\n",
        "SVM.fit(trainData, trainLabel11)\n",
        "print('train', SVM.score(trainData, trainLabel11))\n",
        "print('test', SVM.score(testData, testLabel11))\n",
        "print('val', SVM.score(valData, valLabel11))"
      ],
      "execution_count": null,
      "outputs": [
        {
          "output_type": "stream",
          "name": "stderr",
          "text": [
            "/usr/local/lib/python3.7/dist-packages/sklearn/utils/validation.py:985: DataConversionWarning: A column-vector y was passed when a 1d array was expected. Please change the shape of y to (n_samples, ), for example using ravel().\n",
            "  y = column_or_1d(y, warn=True)\n"
          ]
        },
        {
          "output_type": "stream",
          "name": "stdout",
          "text": [
            "[LibSVM]"
          ]
        },
        {
          "output_type": "stream",
          "name": "stderr",
          "text": [
            "/usr/local/lib/python3.7/dist-packages/sklearn/svm/_base.py:289: ConvergenceWarning: Solver terminated early (max_iter=2000).  Consider pre-processing your data with StandardScaler or MinMaxScaler.\n",
            "  ConvergenceWarning,\n"
          ]
        },
        {
          "output_type": "stream",
          "name": "stdout",
          "text": [
            "train 0.9866203187512298\n",
            "test 0.9406364749082007\n",
            "val 0.9348025711662076\n"
          ]
        }
      ]
    },
    {
      "cell_type": "code",
      "metadata": {
        "colab": {
          "base_uri": "https://localhost:8080/"
        },
        "id": "0yDWUcaBbCfe",
        "outputId": "d4ae98f6-16f9-4526-bfb9-4f16760656a6"
      },
      "source": [
        "nu = NuSVC(verbose=100, max_iter=200, nu=0.0001)\n",
        "nu.fit(trainData, trainLabel11)\n",
        "print('train', SVM.score(trainData, trainLabel11))\n",
        "print('test', SVM.score(testData, testLabel11))\n",
        "print('val', SVM.score(valData, valLabel11))"
      ],
      "execution_count": null,
      "outputs": [
        {
          "output_type": "stream",
          "name": "stderr",
          "text": [
            "/usr/local/lib/python3.7/dist-packages/sklearn/utils/validation.py:985: DataConversionWarning: A column-vector y was passed when a 1d array was expected. Please change the shape of y to (n_samples, ), for example using ravel().\n",
            "  y = column_or_1d(y, warn=True)\n"
          ]
        },
        {
          "output_type": "stream",
          "name": "stdout",
          "text": [
            "[LibSVM]"
          ]
        },
        {
          "output_type": "stream",
          "name": "stderr",
          "text": [
            "/usr/local/lib/python3.7/dist-packages/sklearn/svm/_base.py:289: ConvergenceWarning: Solver terminated early (max_iter=200).  Consider pre-processing your data with StandardScaler or MinMaxScaler.\n",
            "  ConvergenceWarning,\n"
          ]
        },
        {
          "output_type": "stream",
          "name": "stdout",
          "text": [
            "train 0.47517544434970815\n",
            "test 0.4892900856793146\n",
            "val 0.47750229568411384\n"
          ]
        }
      ]
    },
    {
      "cell_type": "code",
      "metadata": {
        "id": "a6LI2vH6ONuL"
      },
      "source": [
        "params = [\n",
        "    {       \n",
        "        'C': [0.1, 0.2, 0.5, 1, 2, 5],\n",
        "        'kernel': ['linear', 'poly', 'rbf', 'sigmoid', 'precomputed']\n",
        "    }\n",
        "]"
      ],
      "execution_count": null,
      "outputs": []
    },
    {
      "cell_type": "code",
      "metadata": {
        "id": "pzx3e8TNP2wS"
      },
      "source": [
        "C = [0.1, 0.2, 0.5, 1, 2, 5]\n",
        "kernels = ['linear', 'poly', 'rbf', 'sigmoid', 'precomputed']"
      ],
      "execution_count": null,
      "outputs": []
    },
    {
      "cell_type": "code",
      "metadata": {
        "id": "5qv2IEH0OflN"
      },
      "source": [
        "gridSearch = GridSearchCV(estimator=svm.SVC(), param_grid=params, scoring='accuracy', n_jobs=-1, verbose=100, cv=1)"
      ],
      "execution_count": null,
      "outputs": []
    },
    {
      "cell_type": "code",
      "metadata": {
        "colab": {
          "base_uri": "https://localhost:8080/",
          "height": 895
        },
        "id": "8e92lQLMPnfb",
        "outputId": "5cbce63c-1ceb-4607-eb56-6e4384508a7c"
      },
      "source": [
        "gridSearch.fit(trainData, trainLabel6)"
      ],
      "execution_count": null,
      "outputs": [
        {
          "output_type": "stream",
          "name": "stderr",
          "text": [
            "ERROR:root:Internal Python error in the inspect module.\n",
            "Below is the traceback from this internal error.\n",
            "\n"
          ]
        },
        {
          "output_type": "stream",
          "name": "stdout",
          "text": [
            "Traceback (most recent call last):\n",
            "  File \"/usr/local/lib/python3.7/dist-packages/IPython/core/interactiveshell.py\", line 2882, in run_code\n",
            "    exec(code_obj, self.user_global_ns, self.user_ns)\n",
            "  File \"<ipython-input-21-f6ac30807b93>\", line 1, in <module>\n",
            "    gridSearch.fit(trainData, trainLabel6)\n",
            "  File \"/usr/local/lib/python3.7/dist-packages/sklearn/model_selection/_search.py\", line 802, in fit\n",
            "    cv_orig = check_cv(self.cv, y, classifier=is_classifier(estimator))\n",
            "  File \"/usr/local/lib/python3.7/dist-packages/sklearn/model_selection/_split.py\", line 2305, in check_cv\n",
            "    return StratifiedKFold(cv)\n",
            "  File \"/usr/local/lib/python3.7/dist-packages/sklearn/model_selection/_split.py\", line 644, in __init__\n",
            "    super().__init__(n_splits=n_splits, shuffle=shuffle, random_state=random_state)\n",
            "  File \"/usr/local/lib/python3.7/dist-packages/sklearn/model_selection/_split.py\", line 289, in __init__\n",
            "    \" got n_splits={0}.\".format(n_splits)\n",
            "ValueError: k-fold cross-validation requires at least one train/test split by setting n_splits=2 or more, got n_splits=1.\n",
            "\n",
            "During handling of the above exception, another exception occurred:\n",
            "\n",
            "Traceback (most recent call last):\n",
            "  File \"/usr/local/lib/python3.7/dist-packages/IPython/core/interactiveshell.py\", line 1823, in showtraceback\n",
            "    stb = value._render_traceback_()\n",
            "AttributeError: 'ValueError' object has no attribute '_render_traceback_'\n",
            "\n",
            "During handling of the above exception, another exception occurred:\n",
            "\n",
            "Traceback (most recent call last):\n",
            "  File \"/usr/local/lib/python3.7/dist-packages/IPython/core/ultratb.py\", line 1132, in get_records\n",
            "    return _fixed_getinnerframes(etb, number_of_lines_of_context, tb_offset)\n",
            "  File \"/usr/local/lib/python3.7/dist-packages/IPython/core/ultratb.py\", line 313, in wrapped\n",
            "    return f(*args, **kwargs)\n",
            "  File \"/usr/local/lib/python3.7/dist-packages/IPython/core/ultratb.py\", line 358, in _fixed_getinnerframes\n",
            "    records = fix_frame_records_filenames(inspect.getinnerframes(etb, context))\n",
            "  File \"/usr/lib/python3.7/inspect.py\", line 1502, in getinnerframes\n",
            "    frameinfo = (tb.tb_frame,) + getframeinfo(tb, context)\n",
            "  File \"/usr/lib/python3.7/inspect.py\", line 1460, in getframeinfo\n",
            "    filename = getsourcefile(frame) or getfile(frame)\n",
            "  File \"/usr/lib/python3.7/inspect.py\", line 696, in getsourcefile\n",
            "    if getattr(getmodule(object, filename), '__loader__', None) is not None:\n",
            "  File \"/usr/lib/python3.7/inspect.py\", line 725, in getmodule\n",
            "    file = getabsfile(object, _filename)\n",
            "  File \"/usr/lib/python3.7/inspect.py\", line 709, in getabsfile\n",
            "    return os.path.normcase(os.path.abspath(_filename))\n",
            "  File \"/usr/lib/python3.7/posixpath.py\", line 383, in abspath\n",
            "    cwd = os.getcwd()\n",
            "FileNotFoundError: [Errno 2] No such file or directory\n"
          ]
        },
        {
          "output_type": "error",
          "ename": "ValueError",
          "evalue": "ignored",
          "traceback": [
            "\u001b[0;31m---------------------------------------------------------------------------\u001b[0m"
          ]
        }
      ]
    },
    {
      "cell_type": "code",
      "metadata": {
        "id": "pY0rCGSXQTmW"
      },
      "source": [
        "trainAccs = {}\n",
        "testAccs = {}\n",
        "valAccs = {}"
      ],
      "execution_count": null,
      "outputs": []
    },
    {
      "cell_type": "code",
      "metadata": {
        "colab": {
          "base_uri": "https://localhost:8080/"
        },
        "id": "XUoDE-iIPxuT",
        "outputId": "2a1f369e-15c4-47f8-e33c-c1cd315c2c50"
      },
      "source": [
        "for c in C:\n",
        "    for kernel in kernels:\n",
        "        SVM = svm.SVC(C=c, kernel=kernel, verbose=100, max_iter=200)\n",
        "        SVM.fit(trainData, trainLabel6)\n",
        "        key = str(c) + ' ' + str(kernel)\n",
        "        trainAccs[key] = SVM.score(trainData, trainLabel6)\n",
        "        testAccs[key] = SVM.score(trainData, trainLabel11)\n",
        "        valAccs[key] = SVM.score(trainData, trainLabel21)\n",
        "        print(key, trainAccs[key], testAccs[key], valAccs[key])"
      ],
      "execution_count": null,
      "outputs": [
        {
          "output_type": "stream",
          "name": "stderr",
          "text": [
            "/usr/local/lib/python3.7/dist-packages/sklearn/utils/validation.py:985: DataConversionWarning: A column-vector y was passed when a 1d array was expected. Please change the shape of y to (n_samples, ), for example using ravel().\n",
            "  y = column_or_1d(y, warn=True)\n"
          ]
        },
        {
          "output_type": "stream",
          "name": "stdout",
          "text": [
            "[LibSVM]"
          ]
        },
        {
          "output_type": "stream",
          "name": "stderr",
          "text": [
            "/usr/local/lib/python3.7/dist-packages/sklearn/svm/_base.py:289: ConvergenceWarning: Solver terminated early (max_iter=200).  Consider pre-processing your data with StandardScaler or MinMaxScaler.\n",
            "  ConvergenceWarning,\n"
          ]
        }
      ]
    },
    {
      "cell_type": "code",
      "metadata": {
        "id": "5KHnXQPn3JiX"
      },
      "source": [
        "SVM = svm.SVC(verbose=True, max_iter=1000)"
      ],
      "execution_count": null,
      "outputs": []
    },
    {
      "cell_type": "code",
      "metadata": {
        "colab": {
          "base_uri": "https://localhost:8080/"
        },
        "id": "XFzWZP5P3MA5",
        "outputId": "ed5132ae-e479-44f8-819a-1a83fe69b00d"
      },
      "source": [
        "SVM.fit(trainData, trainLabel)"
      ],
      "execution_count": null,
      "outputs": [
        {
          "output_type": "stream",
          "name": "stderr",
          "text": [
            "/usr/local/lib/python3.7/dist-packages/sklearn/utils/validation.py:985: DataConversionWarning: A column-vector y was passed when a 1d array was expected. Please change the shape of y to (n_samples, ), for example using ravel().\n",
            "  y = column_or_1d(y, warn=True)\n"
          ]
        },
        {
          "output_type": "stream",
          "name": "stdout",
          "text": [
            "[LibSVM]"
          ]
        },
        {
          "output_type": "stream",
          "name": "stderr",
          "text": [
            "/usr/local/lib/python3.7/dist-packages/sklearn/svm/_base.py:289: ConvergenceWarning: Solver terminated early (max_iter=1000).  Consider pre-processing your data with StandardScaler or MinMaxScaler.\n",
            "  ConvergenceWarning,\n"
          ]
        },
        {
          "output_type": "execute_result",
          "data": {
            "text/plain": [
              "SVC(max_iter=1000, verbose=True)"
            ]
          },
          "metadata": {},
          "execution_count": 21
        }
      ]
    },
    {
      "cell_type": "code",
      "metadata": {
        "colab": {
          "base_uri": "https://localhost:8080/"
        },
        "id": "74v-1Xih3nXU",
        "outputId": "bd58a296-7e25-49ee-cebc-0e46d428f199"
      },
      "source": [
        "SVM.score(trainData, trainLabel)"
      ],
      "execution_count": null,
      "outputs": [
        {
          "output_type": "execute_result",
          "data": {
            "text/plain": [
              "0.9597953695809012"
            ]
          },
          "metadata": {},
          "execution_count": 22
        }
      ]
    },
    {
      "cell_type": "code",
      "metadata": {
        "colab": {
          "base_uri": "https://localhost:8080/"
        },
        "id": "dex7Q-t44gH5",
        "outputId": "509e8544-6595-4b14-de7e-cc04a92a4aa9"
      },
      "source": [
        "SVM.score(testData, testLabel)"
      ],
      "execution_count": null,
      "outputs": [
        {
          "output_type": "execute_result",
          "data": {
            "text/plain": [
              "0.8212974296205631"
            ]
          },
          "metadata": {},
          "execution_count": 23
        }
      ]
    },
    {
      "cell_type": "markdown",
      "metadata": {
        "id": "D38JJLkh-X8z"
      },
      "source": [
        ""
      ]
    },
    {
      "cell_type": "code",
      "metadata": {
        "id": "-ZaATM0C4yyq"
      },
      "source": [
        "from keras.models import Sequential\n",
        "from keras.layers import Dense, Dropout, Flatten, Input, Convolution2D, MaxPooling2D\n",
        "from keras.utils import np_utils"
      ],
      "execution_count": null,
      "outputs": []
    },
    {
      "cell_type": "code",
      "metadata": {
        "id": "XcwMbG3pINhc"
      },
      "source": [
        "trainLabel = np_utils.to_categorical(trainLabel).astype(np.int8)\n",
        "testLabel = np_utils.to_categorical(testLabel).astype(np.int8)"
      ],
      "execution_count": null,
      "outputs": []
    },
    {
      "cell_type": "code",
      "metadata": {
        "colab": {
          "base_uri": "https://localhost:8080/"
        },
        "id": "E40_SV7UJHl3",
        "outputId": "a5003645-cd78-4e72-fe36-7e79a513879b"
      },
      "source": [
        "trainLabel.shape, testLabel.shape, trainData.shape"
      ],
      "execution_count": null,
      "outputs": [
        {
          "output_type": "execute_result",
          "data": {
            "text/plain": [
              "((15247, 96), (3268, 96), (15247, 3561))"
            ]
          },
          "metadata": {},
          "execution_count": 186
        }
      ]
    },
    {
      "cell_type": "code",
      "metadata": {
        "colab": {
          "base_uri": "https://localhost:8080/"
        },
        "id": "fhmSlyFVJNEW",
        "outputId": "56b14841-fd97-4a99-b70c-c41048db5a66"
      },
      "source": [
        "trainLabel[0]"
      ],
      "execution_count": null,
      "outputs": [
        {
          "output_type": "execute_result",
          "data": {
            "text/plain": [
              "array([0, 0, 0, 0, 0, 0, 0, 0, 1, 0, 0], dtype=int8)"
            ]
          },
          "metadata": {},
          "execution_count": 135
        }
      ]
    },
    {
      "cell_type": "code",
      "metadata": {
        "colab": {
          "base_uri": "https://localhost:8080/"
        },
        "id": "ISSF7b90Jg06",
        "outputId": "a0e238f9-6a38-4670-8401-43f7d136115a"
      },
      "source": [
        "model = Sequential()\n",
        "model.add(Dense(500, activation='relu', input_dim=3561))\n",
        "# model.add(Dense(1000, activation='relu'))\n",
        "model.add(Dense(500, activation='relu'))\n",
        "model.add(Dense(250, activation='relu'))\n",
        "model.add(Dense(125, activation='relu'))\n",
        "# model.add(Dense(50, activation='relu'))\n",
        "model.add(Dense(96, activation='softmax'))\n",
        "model.summary()"
      ],
      "execution_count": null,
      "outputs": [
        {
          "output_type": "stream",
          "name": "stdout",
          "text": [
            "Model: \"sequential_20\"\n",
            "_________________________________________________________________\n",
            " Layer (type)                Output Shape              Param #   \n",
            "=================================================================\n",
            " dense_68 (Dense)            (None, 500)               1781000   \n",
            "                                                                 \n",
            " dense_69 (Dense)            (None, 1000)              501000    \n",
            "                                                                 \n",
            " dense_70 (Dense)            (None, 500)               500500    \n",
            "                                                                 \n",
            " dense_71 (Dense)            (None, 250)               125250    \n",
            "                                                                 \n",
            " dense_72 (Dense)            (None, 125)               31375     \n",
            "                                                                 \n",
            " dense_73 (Dense)            (None, 96)                12096     \n",
            "                                                                 \n",
            "=================================================================\n",
            "Total params: 2,951,221\n",
            "Trainable params: 2,951,221\n",
            "Non-trainable params: 0\n",
            "_________________________________________________________________\n"
          ]
        }
      ]
    },
    {
      "cell_type": "code",
      "metadata": {
        "id": "MIEsh3JtKc29"
      },
      "source": [
        "model.compile(loss='categorical_crossentropy', optimizer='adam', metrics=['accuracy'])"
      ],
      "execution_count": null,
      "outputs": []
    },
    {
      "cell_type": "code",
      "metadata": {
        "id": "uzd82hfgReGh"
      },
      "source": [
        "trainVals= np.array(trainData)\n",
        "testVals = np.array(testData)"
      ],
      "execution_count": null,
      "outputs": []
    },
    {
      "cell_type": "code",
      "metadata": {
        "colab": {
          "base_uri": "https://localhost:8080/"
        },
        "id": "cnZPSSqTRuf4",
        "outputId": "1a18c3ad-c0c1-41b2-de77-144c71148907"
      },
      "source": [
        "trainVals[0], trainLabel[0]"
      ],
      "execution_count": null,
      "outputs": [
        {
          "output_type": "execute_result",
          "data": {
            "text/plain": [
              "(array([-0.09530206, -0.5714231 , -0.05485037, ...,  0.        ,\n",
              "         0.        ,  0.        ]),\n",
              " array([0, 0, 0, 0, 0, 0, 0, 0, 0, 0, 0, 0, 0, 0, 0, 0, 0, 0, 0, 0, 0, 0,\n",
              "        0, 0, 0, 0, 0, 0, 0, 0, 0, 0, 0, 0, 0, 0, 0, 0, 0, 0, 0, 0, 0, 0,\n",
              "        0, 0, 0, 0, 0, 0, 0, 0, 0, 0, 0, 0, 0, 0, 0, 0, 0, 0, 0, 0, 0, 0,\n",
              "        0, 0, 0, 0, 0, 0, 0, 0, 0, 0, 0, 0, 0, 0, 1, 0, 0, 0, 0, 0, 0, 0,\n",
              "        0, 0, 0, 0, 0, 0, 0, 0], dtype=int8))"
            ]
          },
          "metadata": {},
          "execution_count": 190
        }
      ]
    },
    {
      "cell_type": "code",
      "metadata": {
        "colab": {
          "base_uri": "https://localhost:8080/",
          "height": 1000
        },
        "id": "uFWkc9VdLrEB",
        "outputId": "3838fc16-3643-4186-a20e-c1597679d177"
      },
      "source": [
        "model.fit(trainVals, trainLabel, batch_size=128, epochs=150, validation_data=(testVals, testLabel))"
      ],
      "execution_count": null,
      "outputs": [
        {
          "output_type": "stream",
          "name": "stdout",
          "text": [
            "Epoch 1/150\n"
          ]
        },
        {
          "output_type": "stream",
          "name": "stderr",
          "text": [
            "ERROR:root:Internal Python error in the inspect module.\n",
            "Below is the traceback from this internal error.\n",
            "\n"
          ]
        },
        {
          "output_type": "stream",
          "name": "stdout",
          "text": [
            "Traceback (most recent call last):\n",
            "  File \"/usr/local/lib/python3.7/dist-packages/IPython/core/interactiveshell.py\", line 1823, in showtraceback\n",
            "    stb = value._render_traceback_()\n",
            "AttributeError: 'KeyboardInterrupt' object has no attribute '_render_traceback_'\n",
            "\n",
            "During handling of the above exception, another exception occurred:\n",
            "\n",
            "Traceback (most recent call last):\n",
            "  File \"/usr/local/lib/python3.7/dist-packages/IPython/core/ultratb.py\", line 1132, in get_records\n",
            "    return _fixed_getinnerframes(etb, number_of_lines_of_context, tb_offset)\n",
            "  File \"/usr/local/lib/python3.7/dist-packages/IPython/core/ultratb.py\", line 313, in wrapped\n",
            "    return f(*args, **kwargs)\n",
            "  File \"/usr/local/lib/python3.7/dist-packages/IPython/core/ultratb.py\", line 358, in _fixed_getinnerframes\n",
            "    records = fix_frame_records_filenames(inspect.getinnerframes(etb, context))\n",
            "  File \"/usr/lib/python3.7/inspect.py\", line 1502, in getinnerframes\n",
            "    frameinfo = (tb.tb_frame,) + getframeinfo(tb, context)\n",
            "  File \"/usr/lib/python3.7/inspect.py\", line 1460, in getframeinfo\n",
            "    filename = getsourcefile(frame) or getfile(frame)\n",
            "  File \"/usr/lib/python3.7/inspect.py\", line 696, in getsourcefile\n",
            "    if getattr(getmodule(object, filename), '__loader__', None) is not None:\n",
            "  File \"/usr/lib/python3.7/inspect.py\", line 725, in getmodule\n",
            "    file = getabsfile(object, _filename)\n",
            "  File \"/usr/lib/python3.7/inspect.py\", line 709, in getabsfile\n",
            "    return os.path.normcase(os.path.abspath(_filename))\n",
            "  File \"/usr/lib/python3.7/posixpath.py\", line 383, in abspath\n",
            "    cwd = os.getcwd()\n",
            "FileNotFoundError: [Errno 2] No such file or directory\n"
          ]
        },
        {
          "output_type": "error",
          "ename": "KeyboardInterrupt",
          "evalue": "ignored",
          "traceback": [
            "\u001b[0;31m---------------------------------------------------------------------------\u001b[0m"
          ]
        },
        {
          "output_type": "stream",
          "name": "stderr",
          "text": [
            "Exception ignored in: 'zmq.backend.cython.message.Frame.__dealloc__'\n",
            "Traceback (most recent call last):\n",
            "  File \"zmq/backend/cython/checkrc.pxd\", line 13, in zmq.backend.cython.checkrc._check_rc\n",
            "KeyboardInterrupt\n"
          ]
        },
        {
          "output_type": "stream",
          "name": "stdout",
          "text": [
            "120/120 [==============================] - 86s 64ms/step - loss: 2.0182 - accuracy: 0.2452 - val_loss: 1.6502 - val_accuracy: 0.3207\n",
            "Epoch 2/150\n",
            "120/120 [==============================] - 7s 60ms/step - loss: 1.3676 - accuracy: 0.4171 - val_loss: 1.5618 - val_accuracy: 0.3599\n",
            "Epoch 3/150\n",
            "120/120 [==============================] - 7s 59ms/step - loss: 0.9723 - accuracy: 0.5936 - val_loss: 1.7687 - val_accuracy: 0.3660\n",
            "Epoch 4/150\n",
            "120/120 [==============================] - 7s 59ms/step - loss: 0.7537 - accuracy: 0.6906 - val_loss: 2.0682 - val_accuracy: 0.3755\n",
            "Epoch 5/150\n",
            "120/120 [==============================] - 7s 59ms/step - loss: 0.4778 - accuracy: 0.8162 - val_loss: 2.4066 - val_accuracy: 0.3681\n",
            "Epoch 6/150\n",
            "120/120 [==============================] - 7s 60ms/step - loss: 0.3071 - accuracy: 0.8888 - val_loss: 2.8696 - val_accuracy: 0.3733\n",
            "Epoch 7/150\n",
            "120/120 [==============================] - 7s 61ms/step - loss: 0.1955 - accuracy: 0.9326 - val_loss: 3.2821 - val_accuracy: 0.3721\n",
            "Epoch 8/150\n",
            "120/120 [==============================] - 7s 60ms/step - loss: 0.1193 - accuracy: 0.9579 - val_loss: 3.9536 - val_accuracy: 0.3657\n",
            "Epoch 9/150\n",
            "120/120 [==============================] - 7s 59ms/step - loss: 0.1094 - accuracy: 0.9653 - val_loss: 4.0935 - val_accuracy: 0.3528\n",
            "Epoch 10/150\n",
            "119/120 [============================>.] - ETA: 0s - loss: 0.1142 - accuracy: 0.9612"
          ]
        },
        {
          "output_type": "stream",
          "name": "stderr",
          "text": [
            "ERROR:root:Internal Python error in the inspect module.\n",
            "Below is the traceback from this internal error.\n",
            "\n"
          ]
        },
        {
          "output_type": "stream",
          "name": "stdout",
          "text": [
            "Traceback (most recent call last):\n",
            "  File \"/usr/local/lib/python3.7/dist-packages/IPython/core/interactiveshell.py\", line 2882, in run_code\n",
            "    exec(code_obj, self.user_global_ns, self.user_ns)\n",
            "  File \"<ipython-input-191-16484b46f25a>\", line 1, in <module>\n",
            "    model.fit(trainVals, trainLabel, batch_size=128, epochs=150, validation_data=(testVals, testLabel))\n",
            "  File \"/usr/local/lib/python3.7/dist-packages/keras/utils/traceback_utils.py\", line 64, in error_handler\n",
            "    return fn(*args, **kwargs)\n",
            "  File \"/usr/local/lib/python3.7/dist-packages/keras/engine/training.py\", line 1263, in fit\n",
            "    _use_cached_eval_dataset=True)\n",
            "  File \"/usr/local/lib/python3.7/dist-packages/keras/utils/traceback_utils.py\", line 64, in error_handler\n",
            "    return fn(*args, **kwargs)\n",
            "  File \"/usr/local/lib/python3.7/dist-packages/keras/engine/training.py\", line 1537, in evaluate\n",
            "    tmp_logs = self.test_function(iterator)\n",
            "  File \"/usr/local/lib/python3.7/dist-packages/tensorflow/python/util/traceback_utils.py\", line 150, in error_handler\n",
            "    return fn(*args, **kwargs)\n",
            "  File \"/usr/local/lib/python3.7/dist-packages/tensorflow/python/eager/def_function.py\", line 910, in __call__\n",
            "    result = self._call(*args, **kwds)\n",
            "  File \"/usr/local/lib/python3.7/dist-packages/tensorflow/python/eager/def_function.py\", line 949, in _call\n",
            "    results = self._stateful_fn(*args, **kwds)\n",
            "  File \"/usr/local/lib/python3.7/dist-packages/tensorflow/python/eager/function.py\", line 3131, in __call__\n",
            "    filtered_flat_args, captured_inputs=graph_function.captured_inputs)  # pylint: disable=protected-access\n",
            "  File \"/usr/local/lib/python3.7/dist-packages/tensorflow/python/eager/function.py\", line 1960, in _call_flat\n",
            "    ctx, args, cancellation_manager=cancellation_manager))\n",
            "  File \"/usr/local/lib/python3.7/dist-packages/tensorflow/python/eager/function.py\", line 603, in call\n",
            "    ctx=ctx)\n",
            "  File \"/usr/local/lib/python3.7/dist-packages/tensorflow/python/eager/execute.py\", line 59, in quick_execute\n",
            "    inputs, attrs, num_outputs)\n",
            "KeyboardInterrupt\n",
            "\n",
            "During handling of the above exception, another exception occurred:\n",
            "\n",
            "Traceback (most recent call last):\n",
            "  File \"/usr/local/lib/python3.7/dist-packages/IPython/core/interactiveshell.py\", line 1823, in showtraceback\n",
            "    stb = value._render_traceback_()\n",
            "AttributeError: 'KeyboardInterrupt' object has no attribute '_render_traceback_'\n",
            "\n",
            "During handling of the above exception, another exception occurred:\n",
            "\n",
            "Traceback (most recent call last):\n",
            "  File \"/usr/local/lib/python3.7/dist-packages/IPython/core/ultratb.py\", line 1132, in get_records\n",
            "    return _fixed_getinnerframes(etb, number_of_lines_of_context, tb_offset)\n",
            "  File \"/usr/local/lib/python3.7/dist-packages/IPython/core/ultratb.py\", line 313, in wrapped\n",
            "    return f(*args, **kwargs)\n",
            "  File \"/usr/local/lib/python3.7/dist-packages/IPython/core/ultratb.py\", line 358, in _fixed_getinnerframes\n",
            "    records = fix_frame_records_filenames(inspect.getinnerframes(etb, context))\n",
            "  File \"/usr/lib/python3.7/inspect.py\", line 1502, in getinnerframes\n",
            "    frameinfo = (tb.tb_frame,) + getframeinfo(tb, context)\n",
            "  File \"/usr/lib/python3.7/inspect.py\", line 1460, in getframeinfo\n",
            "    filename = getsourcefile(frame) or getfile(frame)\n",
            "  File \"/usr/lib/python3.7/inspect.py\", line 696, in getsourcefile\n",
            "    if getattr(getmodule(object, filename), '__loader__', None) is not None:\n",
            "  File \"/usr/lib/python3.7/inspect.py\", line 725, in getmodule\n",
            "    file = getabsfile(object, _filename)\n",
            "  File \"/usr/lib/python3.7/inspect.py\", line 709, in getabsfile\n",
            "    return os.path.normcase(os.path.abspath(_filename))\n",
            "  File \"/usr/lib/python3.7/posixpath.py\", line 383, in abspath\n",
            "    cwd = os.getcwd()\n",
            "FileNotFoundError: [Errno 2] No such file or directory\n"
          ]
        },
        {
          "output_type": "error",
          "ename": "KeyboardInterrupt",
          "evalue": "ignored",
          "traceback": [
            "\u001b[0;31m---------------------------------------------------------------------------\u001b[0m"
          ]
        }
      ]
    },
    {
      "cell_type": "code",
      "metadata": {
        "id": "IF16nLNdL5j5"
      },
      "source": [
        "import tensorflow as tf"
      ],
      "execution_count": null,
      "outputs": []
    },
    {
      "cell_type": "code",
      "metadata": {
        "colab": {
          "base_uri": "https://localhost:8080/"
        },
        "id": "vrQMwNRdNc3n",
        "outputId": "ed1080eb-8ba6-494a-836d-7b31a582321d"
      },
      "source": [
        "!ls"
      ],
      "execution_count": null,
      "outputs": [
        {
          "output_type": "stream",
          "name": "stdout",
          "text": [
            "shell-init: error retrieving current directory: getcwd: cannot access parent directories: No such file or directory\n",
            "preprocessed.csv\t       test_6_buckets.csv    val.csv\n",
            "pre_standardization_test.csv   test.csv\t\t     valid_11_buckets.csv\n",
            "pre_standardization_train.csv  train_11_buckets.csv  valid_21_buckets.csv\n",
            "pre_standardization_val.csv    train_21_buckets.csv  valid_6_buckets.csv\n",
            "test_11_buckets.csv\t       train_6_buckets.csv\n",
            "test_21_buckets.csv\t       train.csv\n"
          ]
        }
      ]
    },
    {
      "cell_type": "code",
      "metadata": {
        "id": "LIOCVtgNQ57_"
      },
      "source": [
        "from sklearn import svm\n",
        "from sklearn.metrics import f1_score, precision_score, recall_score, accuracy_score"
      ],
      "execution_count": null,
      "outputs": []
    },
    {
      "cell_type": "code",
      "metadata": {
        "colab": {
          "base_uri": "https://localhost:8080/"
        },
        "id": "EKIlgGs0L6R7",
        "outputId": "8023d49a-acf6-42bc-bb6f-38f36efde7ee"
      },
      "source": [
        "SVM = svm.SVC(C=1.0, kernel='poly', max_iter=2000, verbose=True)\n",
        "SVM.fit(trainData, trainLabel11)\n",
        "trainpred = SVM.predict(trainData)\n",
        "valpred = SVM.predict(valData)\n",
        "testpred = SVM.predict(testData)"
      ],
      "execution_count": null,
      "outputs": [
        {
          "output_type": "stream",
          "name": "stderr",
          "text": [
            "/usr/local/lib/python3.7/dist-packages/sklearn/utils/validation.py:985: DataConversionWarning: A column-vector y was passed when a 1d array was expected. Please change the shape of y to (n_samples, ), for example using ravel().\n",
            "  y = column_or_1d(y, warn=True)\n"
          ]
        },
        {
          "output_type": "stream",
          "name": "stdout",
          "text": [
            "[LibSVM]"
          ]
        },
        {
          "output_type": "stream",
          "name": "stderr",
          "text": [
            "/usr/local/lib/python3.7/dist-packages/sklearn/svm/_base.py:289: ConvergenceWarning: Solver terminated early (max_iter=2000).  Consider pre-processing your data with StandardScaler or MinMaxScaler.\n",
            "  ConvergenceWarning,\n"
          ]
        }
      ]
    },
    {
      "cell_type": "code",
      "metadata": {
        "colab": {
          "base_uri": "https://localhost:8080/"
        },
        "id": "RTOj5QKfL_uj",
        "outputId": "bec67d4a-6b99-48fb-ae5d-9549ea872732"
      },
      "source": [
        "train_f1_score = f1_score(trainLabel11, trainpred, average='weighted')\n",
        "train_precision_score = precision_score(trainLabel11, trainpred, average='weighted')\n",
        "train_recall_score = recall_score(trainLabel11, trainpred, average='weighted')\n",
        "train_accuracy_score = accuracy_score(trainLabel11, trainpred, normalize=True)\n",
        "\n",
        "val_f1_score = f1_score(valLabel11, valpred, average='weighted')\n",
        "val_precision_score = precision_score(valLabel11, valpred, average='weighted')\n",
        "val_recall_score = recall_score(valLabel11, valpred, average='weighted')\n",
        "val_accuracy_score = accuracy_score(valLabel11, valpred, normalize=True)\n",
        "\n",
        "test_f1_score = f1_score(testLabel11, testpred, average='weighted')\n",
        "test_precision_score = precision_score(testLabel11, testpred, average='weighted')\n",
        "test_recall_score = recall_score(testLabel11, testpred, average='weighted')\n",
        "test_accuracy_score = accuracy_score(testLabel11, testpred, normalize=True)"
      ],
      "execution_count": null,
      "outputs": [
        {
          "output_type": "stream",
          "name": "stderr",
          "text": [
            "/usr/local/lib/python3.7/dist-packages/sklearn/metrics/_classification.py:1308: UndefinedMetricWarning: Precision is ill-defined and being set to 0.0 in labels with no predicted samples. Use `zero_division` parameter to control this behavior.\n",
            "  _warn_prf(average, modifier, msg_start, len(result))\n",
            "/usr/local/lib/python3.7/dist-packages/sklearn/metrics/_classification.py:1308: UndefinedMetricWarning: Precision is ill-defined and being set to 0.0 in labels with no predicted samples. Use `zero_division` parameter to control this behavior.\n",
            "  _warn_prf(average, modifier, msg_start, len(result))\n",
            "/usr/local/lib/python3.7/dist-packages/sklearn/metrics/_classification.py:1308: UndefinedMetricWarning: Recall is ill-defined and being set to 0.0 in labels with no true samples. Use `zero_division` parameter to control this behavior.\n",
            "  _warn_prf(average, modifier, msg_start, len(result))\n",
            "/usr/local/lib/python3.7/dist-packages/sklearn/metrics/_classification.py:1308: UndefinedMetricWarning: Precision is ill-defined and being set to 0.0 in labels with no predicted samples. Use `zero_division` parameter to control this behavior.\n",
            "  _warn_prf(average, modifier, msg_start, len(result))\n"
          ]
        }
      ]
    },
    {
      "cell_type": "code",
      "metadata": {
        "colab": {
          "base_uri": "https://localhost:8080/"
        },
        "id": "UEhVE_ULJ880",
        "outputId": "b8ec1c3e-881e-456f-d136-8f687bb41f97"
      },
      "source": [
        "print(train_f1_score,train_precision_score,train_recall_score,train_accuracy_score)"
      ],
      "execution_count": null,
      "outputs": [
        {
          "output_type": "stream",
          "name": "stdout",
          "text": [
            "0.9766312644346395 0.9871907355948097 0.9824883583655801 0.9824883583655801\n"
          ]
        }
      ]
    },
    {
      "cell_type": "code",
      "metadata": {
        "colab": {
          "base_uri": "https://localhost:8080/"
        },
        "id": "65wsGoo-Kepg",
        "outputId": "be85906a-9bb5-4806-f10f-03bbb0d9a87a"
      },
      "source": [
        "print(test_f1_score,test_precision_score,test_recall_score,test_accuracy_score)"
      ],
      "execution_count": null,
      "outputs": [
        {
          "output_type": "stream",
          "name": "stdout",
          "text": [
            "0.9470025001290998 0.9411981876837138 0.9537943696450428 0.9537943696450428\n"
          ]
        }
      ]
    },
    {
      "cell_type": "code",
      "metadata": {
        "colab": {
          "base_uri": "https://localhost:8080/"
        },
        "id": "7cK2iSV7KiIx",
        "outputId": "8dc034d7-15d1-44ee-f46e-4b9c942b87c5"
      },
      "source": [
        "print(val_f1_score,val_precision_score,val_recall_score,val_accuracy_score)"
      ],
      "execution_count": null,
      "outputs": [
        {
          "output_type": "stream",
          "name": "stdout",
          "text": [
            "0.9428126232092271 0.9383901950553651 0.950719314355678 0.950719314355678\n"
          ]
        }
      ]
    },
    {
      "cell_type": "code",
      "metadata": {
        "id": "Oe7XzjktMNMB"
      },
      "source": [
        "from sklearn.metrics import confusion_matrix, ConfusionMatrixDisplay"
      ],
      "execution_count": null,
      "outputs": []
    },
    {
      "cell_type": "code",
      "metadata": {
        "colab": {
          "base_uri": "https://localhost:8080/",
          "height": 296
        },
        "id": "lS7MBlNSlbZr",
        "outputId": "e8f4ffce-7e2b-440e-c2b5-b8d435e978f3"
      },
      "source": [
        "plt.figure(figsize=(100,100))\n",
        "cm6 = confusion_matrix(testLabel6, testpred, labels=[0, 1, 2, 3, 4, 5, 6, 7, 8, 9, 10])\n",
        "disp6 = ConfusionMatrixDisplay(confusion_matrix=cm6)\n",
        "disp6.plot(include_values=False)\n",
        "plt.show()"
      ],
      "execution_count": null,
      "outputs": [
        {
          "output_type": "display_data",
          "data": {
            "text/plain": [
              "<Figure size 7200x7200 with 0 Axes>"
            ]
          },
          "metadata": {}
        },
        {
          "output_type": "display_data",
          "data": {
            "image/png": "[encoded data removed]",
            "text/plain": [
              "<Figure size 432x288 with 2 Axes>"
            ]
          },
          "metadata": {
            "needs_background": "light"
          }
        }
      ]
    },
    {
      "cell_type": "code",
      "metadata": {
        "id": "6pAihQP0rTAQ"
      },
      "source": [
        "def scoring(y_true,y_pred):\n",
        "    print(\"Accuracy: \",accuracy_score(y_true, y_pred))\n",
        "    print(\"f1 macro: \",f1_score(y_true, y_pred, average='macro'))\n",
        "    print(\"f1 micro: \",f1_score(y_true, y_pred, average='micro'))\n",
        "    print(\"f1 weighted: \",f1_score(y_true, y_pred, average='weighted'))\n",
        "    print(\"precision macro: \",precision_score(y_true, y_pred, average='macro',zero_division=1))\n",
        "    print(\"precision micro: \",precision_score(y_true, y_pred, average='micro',zero_division=1))\n",
        "    print(\"precision weighted: \",precision_score(y_true, y_pred, average='weighted',zero_division=1))\n",
        "    print(\"recall macro: \",recall_score(y_true, y_pred, average='macro'))\n",
        "    print(\"recall micro: \",recall_score(y_true, y_pred, average='micro'))\n",
        "    print(\"recall weighted: \",recall_score(y_true, y_pred, average='weighted'))"
      ],
      "execution_count": null,
      "outputs": []
    },
    {
      "cell_type": "code",
      "metadata": {
        "id": "rt0aKfGwsc07"
      },
      "source": [
        "from sklearn.ensemble import RandomForestClassifier"
      ],
      "execution_count": null,
      "outputs": []
    },
    {
      "cell_type": "code",
      "metadata": {
        "colab": {
          "base_uri": "https://localhost:8080/"
        },
        "id": "fwSk2lMEsZkk",
        "outputId": "f9ab8d9a-51ae-4649-8b8d-4e7c2238ec1c"
      },
      "source": [
        "y_val=pd.read_csv('valid_21_buckets.csv')\n",
        "y_train= pd.read_csv('train_21_buckets.csv')\n",
        "y_test=pd.read_csv('test_21_buckets.csv')\n",
        "y_val*=2\n",
        "y_train*=2\n",
        "y_test*=2\n",
        "y_tot=pd.concat([y_train,y_val], axis=0)\n",
        "clf = RandomForestClassifier(n_estimators=100,n_jobs=-1,random_state=1)\n",
        "clf.fit(trainData,np.array(y_train.iloc[:,0]))\n",
        "y_pred = clf.predict(testData)\n",
        "print(\"FOR TEST\")\n",
        "scoring(np.array(y_test.iloc[:,0]),y_pred)\n",
        "y_pred = clf.predict(trainData)\n",
        "print(\"FOR TRAIN\")\n",
        "scoring(np.array(y_train.iloc[:,0]),y_pred)\n",
        "y_pred = clf.predict(valData)\n",
        "print(\"FOR VAL\")\n",
        "scoring(np.array(y_val.iloc[:,0]),y_pred)"
      ],
      "execution_count": null,
      "outputs": [
        {
          "output_type": "stream",
          "name": "stdout",
          "text": [
            "FOR TEST\n",
            "Accuracy:  0.7261321909424725\n",
            "f1 macro:  0.2676971382359297\n",
            "f1 micro:  0.7261321909424725\n",
            "f1 weighted:  0.668587551462028\n",
            "precision macro:  0.8041722032860735\n",
            "precision micro:  0.7261321909424725\n",
            "precision weighted:  0.7158183013812274\n",
            "recall macro:  0.27748796254846836\n",
            "recall micro:  0.7261321909424725\n",
            "recall weighted:  0.7261321909424725\n",
            "FOR TRAIN\n",
            "Accuracy:  1.0\n",
            "f1 macro:  1.0\n",
            "f1 micro:  1.0\n",
            "f1 weighted:  1.0\n",
            "precision macro:  1.0\n",
            "precision micro:  1.0\n",
            "precision weighted:  1.0\n",
            "recall macro:  1.0\n",
            "recall micro:  1.0\n",
            "recall weighted:  1.0\n",
            "FOR VAL\n",
            "Accuracy:  0.7021732476277931\n",
            "f1 macro:  0.24687028897206337\n",
            "f1 micro:  0.7021732476277931\n",
            "f1 weighted:  0.6382692879150527\n",
            "precision macro:  0.7077225029365981\n",
            "precision micro:  0.7021732476277931\n",
            "precision weighted:  0.679163310923819\n",
            "recall macro:  0.2632226085333534\n",
            "recall micro:  0.7021732476277931\n",
            "recall weighted:  0.7021732476277931\n"
          ]
        }
      ]
    },
    {
      "cell_type": "code",
      "metadata": {
        "id": "43jbat7-sbhi"
      },
      "source": [
        ""
      ],
      "execution_count": null,
      "outputs": []
    }
  ]
}