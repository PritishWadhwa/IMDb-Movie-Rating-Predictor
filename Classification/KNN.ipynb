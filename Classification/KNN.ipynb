{
  "nbformat": 4,
  "nbformat_minor": 0,
  "metadata": {
    "colab": {
      "name": "KNN.ipynb",
      "provenance": []
    },
    "kernelspec": {
      "display_name": "Python 3",
      "name": "python3"
    },
    "language_info": {
      "name": "python"
    }
  },
  "cells": [
    {
      "cell_type": "code",
      "metadata": {
        "colab": {
          "base_uri": "https://localhost:8080/"
        },
        "id": "l9-2S1Wq9Mb5",
        "outputId": "01b67ca7-8555-4cf3-81dc-54d5bcba47c2"
      },
      "source": [
        "import pandas as pd\n",
        "from google.colab import drive\n",
        "\n",
        "drive.mount('/content/gdrive', force_remount=True)"
      ],
      "execution_count": 1,
      "outputs": [
        {
          "output_type": "stream",
          "name": "stdout",
          "text": [
            "Mounted at /content/gdrive\n"
          ]
        }
      ]
    },
    {
      "cell_type": "code",
      "metadata": {
        "id": "M67C6Ixe9eCa"
      },
      "source": [
        "\n",
        "import numpy as np\n",
        "import matplotlib.pyplot as plt\n",
        "from matplotlib.ticker import NullFormatter\n",
        "import pandas as pd\n",
        "import matplotlib.ticker as ticker\n",
        "from sklearn.neighbors import KNeighborsClassifier\n",
        "from sklearn import metrics\n",
        "%matplotlib inline\n",
        "import pickle"
      ],
      "execution_count": 2,
      "outputs": []
    },
    {
      "cell_type": "code",
      "metadata": {
        "id": "jlQtQs7P9oiQ"
      },
      "source": [
        "testData = pd.read_csv('/content/gdrive/MyDrive/ML_Project/Dataset/test.csv')\n",
        "trainData = pd.read_csv('/content/gdrive/MyDrive/ML_Project/Dataset/train.csv')\n",
        "validData = pd.read_csv('/content/gdrive/MyDrive/ML_Project/Dataset/val.csv')"
      ],
      "execution_count": 3,
      "outputs": []
    },
    {
      "cell_type": "markdown",
      "metadata": {
        "id": "zlSfCUZ2-jM_"
      },
      "source": [
        "# Six Buckets"
      ]
    },
    {
      "cell_type": "code",
      "metadata": {
        "id": "_ifKUiVO-yv8"
      },
      "source": [
        "train_data_target_6k=pd.read_csv('/content/gdrive/MyDrive/ML_Project/Dataset/train_6_buckets.csv')\n",
        "test_data_target_6k=pd.read_csv('/content/gdrive/MyDrive/ML_Project/Dataset/test_6_buckets.csv')\n",
        "val_data_target_6k=pd.read_csv('/content/gdrive/MyDrive/ML_Project/Dataset/valid_6_buckets.csv')\n",
        "testData['data_IMDBscore']=test_data_target_6k['data_IMDBscore']\n",
        "trainData['data_IMDBscore']=train_data_target_6k['data_IMDBscore']\n",
        "validData ['data_IMDBscore']=val_data_target_6k['data_IMDBscore']\n",
        "train_X = trainData.drop(columns=['data_IMDBscore'])\n",
        "train_Y = trainData['data_IMDBscore']\n",
        "test_X = testData.drop(columns=['data_IMDBscore'])\n",
        "test_Y = testData['data_IMDBscore']\n",
        "val_X=validData.drop(columns=['data_IMDBscore'])\n",
        "val_Y=validData['data_IMDBscore']"
      ],
      "execution_count": 4,
      "outputs": []
    },
    {
      "cell_type": "code",
      "metadata": {
        "colab": {
          "base_uri": "https://localhost:8080/",
          "height": 421
        },
        "id": "N9AGN0cd-Hb5",
        "outputId": "c9178af8-1666-41c0-da0c-1b1202f91411"
      },
      "source": [
        "error_rate = []\n",
        "for i in range(1,40):\n",
        " knn = KNeighborsClassifier(n_neighbors=i)\n",
        " knn.fit(train_X,train_Y)\n",
        " pred_i = knn.predict(test_X)\n",
        " error_rate.append(np.mean(pred_i != test_Y))\n",
        "\n",
        " filename = '/content/gdrive/MyDrive/SavedModels/knn_6_'+str(i)\n",
        " filename=filename+\".sav\"\n",
        " pickle.dump(knn, open(filename, 'wb'))\n",
        "\n",
        "plt.figure(figsize=(10,6))\n",
        "plt.plot(range(1,40),error_rate,color='blue', linestyle='dashed', \n",
        "         marker='o',markerfacecolor='red', markersize=10)\n",
        "plt.title('Error Rate vs. K Value')\n",
        "plt.xlabel('K')\n",
        "plt.ylabel('Error Rate')\n",
        "print(\"Minimum error:-\",min(error_rate),\"at K =\",error_rate.index(min(error_rate)))\n"
      ],
      "execution_count": 5,
      "outputs": [
        {
          "output_type": "stream",
          "name": "stdout",
          "text": [
            "Minimum error:- 0.40789473684210525 at K = 18\n"
          ]
        },
        {
          "output_type": "display_data",
          "data": {
            "image/png": "[encoded data removed]",
            "text/plain": [
              "<Figure size 720x432 with 1 Axes>"
            ]
          },
          "metadata": {
            "needs_background": "light"
          }
        }
      ]
    },
    {
      "cell_type": "code",
      "metadata": {
        "colab": {
          "base_uri": "https://localhost:8080/"
        },
        "id": "TYqPOBKpPQNS",
        "outputId": "26ebb905-2d02-4995-e314-a6601327179b"
      },
      "source": [
        "from sklearn.metrics import f1_score, precision_score, recall_score, accuracy_score\n",
        "neigh = KNeighborsClassifier(n_neighbors = 18).fit(train_X,train_Y)\n",
        "trainpred = neigh.predict(train_X)\n",
        "valpred = neigh.predict(val_X)\n",
        "testpred = neigh.predict(test_X)\n",
        "train_f1_score = f1_score(train_Y, trainpred, average='weighted')\n",
        "train_precision_score = precision_score(train_Y, trainpred, average='weighted')\n",
        "train_recall_score = recall_score(train_Y, trainpred, average='weighted')\n",
        "train_accuracy_score = accuracy_score(train_Y, trainpred, normalize=True)\n",
        "print(\"train_f1_score \"+str(train_f1_score) )\n",
        "print(\"train_precision_score \"+str(train_precision_score))\n",
        "print(\"train_recall_score \"+str(train_recall_score))\n",
        "print(\"train_accuracy_score \"+str(train_accuracy_score))\n",
        "val_f1_score = f1_score(val_Y, valpred, average='weighted')\n",
        "val_precision_score = precision_score(val_Y, valpred, average='weighted')\n",
        "val_recall_score = recall_score(val_Y, valpred, average='weighted')\n",
        "val_accuracy_score = accuracy_score(val_Y, valpred, normalize=True)\n",
        "print(\"val_f1_score \"+str(val_f1_score) )\n",
        "print(\"val_precision_score \"+str(val_precision_score))\n",
        "print(\"val_recall_score \"+str(val_recall_score))\n",
        "print(\"val_accuracy_score \"+str(val_accuracy_score))\n",
        "test_f1_score = f1_score(test_Y, testpred, average='weighted')\n",
        "test_precision_score = precision_score(test_Y, testpred, average='weighted')\n",
        "test_recall_score = recall_score(test_Y, testpred, average='weighted')\n",
        "test_accuracy_score = accuracy_score(test_Y, testpred, normalize=True)\n",
        "print(\"test_f1_score \"+str(test_f1_score) )\n",
        "print(\"test_precision_score \"+str(test_precision_score))\n",
        "print(\"test_recall_score \"+str(test_recall_score))\n",
        "print(\"test_accuracy_score \"+str(test_accuracy_score))"
      ],
      "execution_count": 6,
      "outputs": [
        {
          "output_type": "stream",
          "name": "stdout",
          "text": [
            "train_f1_score 0.5562357630502714\n",
            "train_precision_score 0.6498397403276763\n",
            "train_recall_score 0.6157932708073719\n",
            "train_accuracy_score 0.6157932708073719\n",
            "val_f1_score 0.5223750655324567\n",
            "val_precision_score 0.5892784493471682\n",
            "val_recall_score 0.5913682277318641\n",
            "val_accuracy_score 0.5913682277318641\n",
            "test_f1_score 0.5227045690579305\n",
            "test_precision_score 0.5741381549889781\n",
            "test_recall_score 0.5862913096695227\n",
            "test_accuracy_score 0.5862913096695227\n"
          ]
        },
        {
          "output_type": "stream",
          "name": "stderr",
          "text": [
            "/usr/local/lib/python3.7/dist-packages/sklearn/metrics/_classification.py:1308: UndefinedMetricWarning: Precision is ill-defined and being set to 0.0 in labels with no predicted samples. Use `zero_division` parameter to control this behavior.\n",
            "  _warn_prf(average, modifier, msg_start, len(result))\n",
            "/usr/local/lib/python3.7/dist-packages/sklearn/metrics/_classification.py:1308: UndefinedMetricWarning: Precision is ill-defined and being set to 0.0 in labels with no predicted samples. Use `zero_division` parameter to control this behavior.\n",
            "  _warn_prf(average, modifier, msg_start, len(result))\n",
            "/usr/local/lib/python3.7/dist-packages/sklearn/metrics/_classification.py:1308: UndefinedMetricWarning: Precision is ill-defined and being set to 0.0 in labels with no predicted samples. Use `zero_division` parameter to control this behavior.\n",
            "  _warn_prf(average, modifier, msg_start, len(result))\n"
          ]
        }
      ]
    },
    {
      "cell_type": "markdown",
      "metadata": {
        "id": "qo35Yyji_qHL"
      },
      "source": [
        "# Eleven Buckets"
      ]
    },
    {
      "cell_type": "code",
      "metadata": {
        "id": "rLd4AjG1_wqO"
      },
      "source": [
        "train_data_target_11k=pd.read_csv('/content/gdrive/MyDrive/ML_Project/Dataset/train_11_buckets.csv')\n",
        "test_data_target_11k=pd.read_csv('/content/gdrive/MyDrive/ML_Project/Dataset/test_11_buckets.csv')\n",
        "val_data_target_11k=pd.read_csv('/content/gdrive/MyDrive/ML_Project/Dataset/valid_11_buckets.csv')\n",
        "testData['data_IMDBscore']=test_data_target_11k['data_IMDBscore']\n",
        "trainData['data_IMDBscore']=train_data_target_11k['data_IMDBscore']\n",
        "validData ['data_IMDBscore']=val_data_target_11k['data_IMDBscore']\n",
        "train_X = trainData.drop(columns=['data_IMDBscore'])\n",
        "train_Y = trainData['data_IMDBscore']\n",
        "test_X = testData.drop(columns=['data_IMDBscore'])\n",
        "test_Y = testData['data_IMDBscore']\n",
        "val_X=validData.drop(columns=['data_IMDBscore'])\n",
        "val_Y=validData['data_IMDBscore']"
      ],
      "execution_count": 7,
      "outputs": []
    },
    {
      "cell_type": "code",
      "metadata": {
        "colab": {
          "base_uri": "https://localhost:8080/",
          "height": 421
        },
        "id": "6tUwo_-I_wqP",
        "outputId": "f3c95ab4-1859-4279-d3e1-7f5590e27e38"
      },
      "source": [
        "error_rate = []\n",
        "for i in range(1,40):\n",
        " knn = KNeighborsClassifier(n_neighbors=i)\n",
        " knn.fit(train_X,train_Y)\n",
        " pred_i = knn.predict(test_X)\n",
        " error_rate.append(np.mean(pred_i != test_Y))\n",
        " filename = '/content/gdrive/MyDrive/SavedModels/knn_11_'+str(i)\n",
        " filename=filename+\".sav\"\n",
        " pickle.dump(knn, open(filename, 'wb'))\n",
        "\n",
        "plt.figure(figsize=(10,6))\n",
        "plt.plot(range(1,40),error_rate,color='blue', linestyle='dashed', \n",
        "         marker='o',markerfacecolor='red', markersize=10)\n",
        "plt.title('Error Rate vs. K Value')\n",
        "plt.xlabel('K')\n",
        "plt.ylabel('Error Rate')\n",
        "print(\"Minimum error:-\",min(error_rate),\"at K =\",error_rate.index(min(error_rate)))\n"
      ],
      "execution_count": 8,
      "outputs": [
        {
          "output_type": "stream",
          "name": "stdout",
          "text": [
            "Minimum error:- 0.5942472460220318 at K = 38\n"
          ]
        },
        {
          "output_type": "display_data",
          "data": {
            "image/png": "[encoded data removed]",
            "text/plain": [
              "<Figure size 720x432 with 1 Axes>"
            ]
          },
          "metadata": {
            "needs_background": "light"
          }
        }
      ]
    },
    {
      "cell_type": "code",
      "metadata": {
        "colab": {
          "base_uri": "https://localhost:8080/"
        },
        "id": "0Xbnb5QAF-lT",
        "outputId": "f02cfa25-791e-4cb3-8439-b55fb5bb4f9b"
      },
      "source": [
        "from sklearn.metrics import f1_score, precision_score, recall_score, accuracy_score\n",
        "neigh = KNeighborsClassifier(n_neighbors = 38).fit(train_X,train_Y)\n",
        "trainpred = neigh.predict(train_X)\n",
        "valpred = neigh.predict(val_X)\n",
        "testpred = neigh.predict(test_X)\n",
        "train_f1_score = f1_score(train_Y, trainpred, average='weighted')\n",
        "train_precision_score = precision_score(train_Y, trainpred, average='weighted')\n",
        "train_recall_score = recall_score(train_Y, trainpred, average='weighted')\n",
        "train_accuracy_score = accuracy_score(train_Y, trainpred, normalize=True)\n",
        "print(\"train_f1_score \"+str(train_f1_score) )\n",
        "print(\"train_precision_score \"+str(train_precision_score))\n",
        "print(\"train_recall_score \"+str(train_recall_score))\n",
        "print(\"train_accuracy_score \"+str(train_accuracy_score))\n",
        "val_f1_score = f1_score(val_Y, valpred, average='weighted')\n",
        "val_precision_score = precision_score(val_Y, valpred, average='weighted')\n",
        "val_recall_score = recall_score(val_Y, valpred, average='weighted')\n",
        "val_accuracy_score = accuracy_score(val_Y, valpred, normalize=True)\n",
        "print(\"val_f1_score \"+str(val_f1_score) )\n",
        "print(\"val_precision_score \"+str(val_precision_score))\n",
        "print(\"val_recall_score \"+str(val_recall_score))\n",
        "print(\"val_accuracy_score \"+str(val_accuracy_score))\n",
        "test_f1_score = f1_score(test_Y, testpred, average='weighted')\n",
        "test_precision_score = precision_score(test_Y, testpred, average='weighted')\n",
        "test_recall_score = recall_score(test_Y, testpred, average='weighted')\n",
        "test_accuracy_score = accuracy_score(test_Y, testpred, normalize=True)\n",
        "print(\"test_f1_score \"+str(test_f1_score) )\n",
        "print(\"test_precision_score \"+str(test_precision_score))\n",
        "print(\"test_recall_score \"+str(test_recall_score))\n",
        "print(\"test_accuracy_score \"+str(test_accuracy_score))"
      ],
      "execution_count": 9,
      "outputs": [
        {
          "output_type": "stream",
          "name": "stdout",
          "text": [
            "train_f1_score 0.3949564506527788\n",
            "train_precision_score 0.4502407366837077\n",
            "train_recall_score 0.45936905620777857\n",
            "train_accuracy_score 0.45936905620777857\n",
            "val_f1_score 0.3300239676879015\n",
            "val_precision_score 0.3515175716806479\n",
            "val_recall_score 0.39302112029384756\n",
            "val_accuracy_score 0.39302112029384756\n",
            "test_f1_score 0.33562795413219393\n",
            "test_precision_score 0.3582218038588035\n",
            "test_recall_score 0.4011627906976744\n",
            "test_accuracy_score 0.4011627906976744\n"
          ]
        },
        {
          "output_type": "stream",
          "name": "stderr",
          "text": [
            "/usr/local/lib/python3.7/dist-packages/sklearn/metrics/_classification.py:1308: UndefinedMetricWarning: Precision is ill-defined and being set to 0.0 in labels with no predicted samples. Use `zero_division` parameter to control this behavior.\n",
            "  _warn_prf(average, modifier, msg_start, len(result))\n",
            "/usr/local/lib/python3.7/dist-packages/sklearn/metrics/_classification.py:1308: UndefinedMetricWarning: Precision is ill-defined and being set to 0.0 in labels with no predicted samples. Use `zero_division` parameter to control this behavior.\n",
            "  _warn_prf(average, modifier, msg_start, len(result))\n",
            "/usr/local/lib/python3.7/dist-packages/sklearn/metrics/_classification.py:1308: UndefinedMetricWarning: Precision is ill-defined and being set to 0.0 in labels with no predicted samples. Use `zero_division` parameter to control this behavior.\n",
            "  _warn_prf(average, modifier, msg_start, len(result))\n"
          ]
        }
      ]
    },
    {
      "cell_type": "markdown",
      "metadata": {
        "id": "rP_G0Fy0_9VL"
      },
      "source": [
        "# Twenty One Bucket"
      ]
    },
    {
      "cell_type": "code",
      "metadata": {
        "id": "XylmpQsm_8x6"
      },
      "source": [
        "train_data_target_21k=pd.read_csv('/content/gdrive/MyDrive/ML_Project/Dataset/train_21_buckets.csv')\n",
        "test_data_target_21k=pd.read_csv('/content/gdrive/MyDrive/ML_Project/Dataset/test_21_buckets.csv')\n",
        "val_data_target_21k=pd.read_csv('/content/gdrive/MyDrive/ML_Project/Dataset/valid_21_buckets.csv')\n",
        "testData['data_IMDBscore']=test_data_target_21k['data_IMDBscore']\n",
        "trainData['data_IMDBscore']=train_data_target_21k['data_IMDBscore']\n",
        "validData ['data_IMDBscore']=val_data_target_21k['data_IMDBscore']\n",
        "train_X = trainData.drop(columns=['data_IMDBscore'])\n",
        "train_Y = trainData['data_IMDBscore']*2\n",
        "test_X = testData.drop(columns=['data_IMDBscore'])\n",
        "test_Y = testData['data_IMDBscore']*2\n",
        "val_X=validData.drop(columns=['data_IMDBscore'])\n",
        "val_Y=validData['data_IMDBscore']*2"
      ],
      "execution_count": 10,
      "outputs": []
    },
    {
      "cell_type": "code",
      "metadata": {
        "colab": {
          "base_uri": "https://localhost:8080/",
          "height": 421
        },
        "id": "zUW_O6m8ADRQ",
        "outputId": "db8013b4-1afb-4fcd-dc27-2c5328d18544"
      },
      "source": [
        "error_rate = []\n",
        "for i in range(1,40):\n",
        " knn = KNeighborsClassifier(n_neighbors=i)\n",
        " knn.fit(train_X,train_Y)\n",
        " pred_i = knn.predict(test_X)\n",
        " error_rate.append(np.mean(pred_i != test_Y))\n",
        " filename = '/content/gdrive/MyDrive/SavedModels/knn_21_'+str(i)\n",
        " filename=filename+\".sav\"\n",
        " pickle.dump(knn, open(filename, 'wb'))\n",
        "\n",
        "plt.figure(figsize=(10,6))\n",
        "plt.plot(range(1,40),error_rate,color='blue', linestyle='dashed', \n",
        "         marker='o',markerfacecolor='red', markersize=10)\n",
        "plt.title('Error Rate vs. K Value')\n",
        "plt.xlabel('K')\n",
        "plt.ylabel('Error Rate')\n",
        "print(\"Minimum error:-\",min(error_rate),\"at K =\",error_rate.index(min(error_rate)))\n"
      ],
      "execution_count": 11,
      "outputs": [
        {
          "output_type": "stream",
          "name": "stdout",
          "text": [
            "Minimum error:- 0.7836597307221542 at K = 29\n"
          ]
        },
        {
          "output_type": "display_data",
          "data": {
            "image/png": "[encoded data removed]",
            "text/plain": [
              "<Figure size 720x432 with 1 Axes>"
            ]
          },
          "metadata": {
            "needs_background": "light"
          }
        }
      ]
    },
    {
      "cell_type": "code",
      "metadata": {
        "colab": {
          "base_uri": "https://localhost:8080/"
        },
        "id": "pnn3Wz69FxG9",
        "outputId": "005d4dc7-8705-4d2a-bb9f-a7658afdc053"
      },
      "source": [
        "from sklearn.metrics import f1_score, precision_score, recall_score, accuracy_score\n",
        "neigh = KNeighborsClassifier(n_neighbors = 29).fit(train_X,train_Y)\n",
        "trainpred = neigh.predict(train_X)\n",
        "valpred = neigh.predict(val_X)\n",
        "testpred = neigh.predict(test_X)\n",
        "train_f1_score = f1_score(train_Y, trainpred, average='weighted')\n",
        "train_precision_score = precision_score(train_Y, trainpred, average='weighted')\n",
        "train_recall_score = recall_score(train_Y, trainpred, average='weighted')\n",
        "train_accuracy_score = accuracy_score(train_Y, trainpred, normalize=True)\n",
        "print(\"train_f1_score \"+str(train_f1_score) )\n",
        "print(\"train_precision_score \"+str(train_precision_score))\n",
        "print(\"train_recall_score \"+str(train_recall_score))\n",
        "print(\"train_accuracy_score \"+str(train_accuracy_score))\n",
        "val_f1_score = f1_score(val_Y, valpred, average='weighted')\n",
        "val_precision_score = precision_score(val_Y, valpred, average='weighted')\n",
        "val_recall_score = recall_score(val_Y, valpred, average='weighted')\n",
        "val_accuracy_score = accuracy_score(val_Y, valpred, normalize=True)\n",
        "print(\"val_f1_score \"+str(val_f1_score) )\n",
        "print(\"val_precision_score \"+str(val_precision_score))\n",
        "print(\"val_recall_score \"+str(val_recall_score))\n",
        "print(\"val_accuracy_score \"+str(val_accuracy_score))\n",
        "test_f1_score = f1_score(test_Y, testpred, average='weighted')\n",
        "test_precision_score = precision_score(test_Y, testpred, average='weighted')\n",
        "test_recall_score = recall_score(test_Y, testpred, average='weighted')\n",
        "test_accuracy_score = accuracy_score(test_Y, testpred, normalize=True)\n",
        "print(\"test_f1_score \"+str(test_f1_score) )\n",
        "print(\"test_precision_score \"+str(test_precision_score))\n",
        "print(\"test_recall_score \"+str(test_recall_score))\n",
        "print(\"test_accuracy_score \"+str(test_accuracy_score))"
      ],
      "execution_count": 12,
      "outputs": [
        {
          "output_type": "stream",
          "name": "stdout",
          "text": [
            "train_f1_score 0.26013148697613037\n",
            "train_precision_score 0.30782125113404096\n",
            "train_recall_score 0.29199186725257426\n",
            "train_accuracy_score 0.29199186725257426\n",
            "val_f1_score 0.1812899958286061\n",
            "val_precision_score 0.21662350676667377\n",
            "val_recall_score 0.20752984389348025\n",
            "val_accuracy_score 0.20752984389348025\n",
            "test_f1_score 0.18097799408737691\n",
            "test_precision_score 0.19689708777750897\n",
            "test_recall_score 0.20930232558139536\n",
            "test_accuracy_score 0.20930232558139536\n"
          ]
        },
        {
          "output_type": "stream",
          "name": "stderr",
          "text": [
            "/usr/local/lib/python3.7/dist-packages/sklearn/metrics/_classification.py:1308: UndefinedMetricWarning: Precision is ill-defined and being set to 0.0 in labels with no predicted samples. Use `zero_division` parameter to control this behavior.\n",
            "  _warn_prf(average, modifier, msg_start, len(result))\n",
            "/usr/local/lib/python3.7/dist-packages/sklearn/metrics/_classification.py:1308: UndefinedMetricWarning: Precision is ill-defined and being set to 0.0 in labels with no predicted samples. Use `zero_division` parameter to control this behavior.\n",
            "  _warn_prf(average, modifier, msg_start, len(result))\n",
            "/usr/local/lib/python3.7/dist-packages/sklearn/metrics/_classification.py:1308: UndefinedMetricWarning: Precision is ill-defined and being set to 0.0 in labels with no predicted samples. Use `zero_division` parameter to control this behavior.\n",
            "  _warn_prf(average, modifier, msg_start, len(result))\n"
          ]
        }
      ]
    }
  ]
}