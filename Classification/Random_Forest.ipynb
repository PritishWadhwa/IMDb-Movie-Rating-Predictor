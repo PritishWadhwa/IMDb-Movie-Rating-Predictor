{
  "nbformat": 4,
  "nbformat_minor": 5,
  "metadata": {
    "kernelspec": {
      "display_name": "Python 3",
      "language": "python",
      "name": "python3"
    },
    "language_info": {
      "codemirror_mode": {
        "name": "ipython",
        "version": 3
      },
      "file_extension": ".py",
      "mimetype": "text/x-python",
      "name": "python",
      "nbconvert_exporter": "python",
      "pygments_lexer": "ipython3",
      "version": "3.8.8"
    },
    "colab": {
      "name": "Classification_Random Forest.ipynb",
      "provenance": [],
      "collapsed_sections": []
    }
  },
  "cells": [
    {
      "cell_type": "code",
      "metadata": {
        "id": "efb2f6d2"
      },
      "source": [
        "import matplotlib.pyplot as plt\n",
        "import pandas as pd\n",
        "import numpy as np\n",
        "import math\n",
        "import itertools\n",
        "from matplotlib.pyplot import figure\n",
        "import pickle"
      ],
      "id": "efb2f6d2",
      "execution_count": 1,
      "outputs": []
    },
    {
      "cell_type": "code",
      "metadata": {
        "id": "NxD6mY7mjIAw",
        "colab": {
          "base_uri": "https://localhost:8080/"
        },
        "outputId": "4d199c9e-99e5-47f8-ac2c-0152675b77b2"
      },
      "source": [
        "from google.colab import drive\n",
        "drive.mount('gdrive')\n",
        "%cd /content/gdrive/"
      ],
      "id": "NxD6mY7mjIAw",
      "execution_count": 2,
      "outputs": [
        {
          "output_type": "stream",
          "name": "stdout",
          "text": [
            "Drive already mounted at gdrive; to attempt to forcibly remount, call drive.mount(\"gdrive\", force_remount=True).\n",
            "/content/gdrive\n"
          ]
        }
      ]
    },
    {
      "cell_type": "code",
      "metadata": {
        "id": "j0I8pWPPzf6I",
        "colab": {
          "base_uri": "https://localhost:8080/"
        },
        "outputId": "5daf41bf-c41c-4123-ea72-9176dd7568d4"
      },
      "source": [
        "cd MyDrive/Dataset"
      ],
      "id": "j0I8pWPPzf6I",
      "execution_count": 3,
      "outputs": [
        {
          "output_type": "stream",
          "name": "stdout",
          "text": [
            "/content/gdrive/MyDrive/Dataset\n"
          ]
        }
      ]
    },
    {
      "cell_type": "code",
      "metadata": {
        "id": "1e2604b3"
      },
      "source": [
        "train = pd.read_csv('train.csv')\n",
        "val=pd.read_csv('val.csv')"
      ],
      "id": "1e2604b3",
      "execution_count": 4,
      "outputs": []
    },
    {
      "cell_type": "code",
      "metadata": {
        "id": "9061b4c7"
      },
      "source": [
        "df=pd.concat([train, val], axis=0)"
      ],
      "id": "9061b4c7",
      "execution_count": 5,
      "outputs": []
    },
    {
      "cell_type": "code",
      "metadata": {
        "id": "7b2a6d3b"
      },
      "source": [
        "test = pd.read_csv('test.csv')"
      ],
      "id": "7b2a6d3b",
      "execution_count": 6,
      "outputs": []
    },
    {
      "cell_type": "markdown",
      "metadata": {
        "id": "d73c3eef"
      },
      "source": [
        "# 6 buckets"
      ],
      "id": "d73c3eef"
    },
    {
      "cell_type": "code",
      "metadata": {
        "id": "93f44cff"
      },
      "source": [
        "y_val=pd.read_csv('valid_6_buckets.csv')\n",
        "y_train= pd.read_csv('train_6_buckets.csv')\n",
        "y_test=pd.read_csv('test_6_buckets.csv')\n",
        "val.drop('data_IMDBscore', inplace=True, axis=1)\n",
        "y_tot=pd.concat([y_train,y_val], axis=0)"
      ],
      "id": "93f44cff",
      "execution_count": 7,
      "outputs": []
    },
    {
      "cell_type": "code",
      "metadata": {
        "id": "685f4dbe"
      },
      "source": [
        "df.drop('data_IMDBscore', inplace=True, axis=1)\n",
        "test.drop('data_IMDBscore', inplace=True, axis=1)\n",
        "train.drop('data_IMDBscore', inplace=True, axis=1)"
      ],
      "id": "685f4dbe",
      "execution_count": 8,
      "outputs": []
    },
    {
      "cell_type": "code",
      "metadata": {
        "id": "0f5e73e2"
      },
      "source": [
        "from sklearn.ensemble import RandomForestClassifier"
      ],
      "id": "0f5e73e2",
      "execution_count": 9,
      "outputs": []
    },
    {
      "cell_type": "code",
      "metadata": {
        "id": "d4b03b04"
      },
      "source": [
        "clf = RandomForestClassifier(n_estimators=100,n_jobs=-1,random_state=1)"
      ],
      "id": "d4b03b04",
      "execution_count": 10,
      "outputs": []
    },
    {
      "cell_type": "code",
      "metadata": {
        "id": "9454e2a7",
        "colab": {
          "base_uri": "https://localhost:8080/"
        },
        "outputId": "dc0bf79c-654f-4a98-b3ad-b28468795156"
      },
      "source": [
        "clf.fit(train,np.array(y_train.iloc[:,0]))"
      ],
      "id": "9454e2a7",
      "execution_count": 11,
      "outputs": [
        {
          "output_type": "execute_result",
          "data": {
            "text/plain": [
              "RandomForestClassifier(n_jobs=-1, random_state=1)"
            ]
          },
          "metadata": {},
          "execution_count": 11
        }
      ]
    },
    {
      "cell_type": "code",
      "metadata": {
        "id": "xBXH1sF2HUyG"
      },
      "source": [
        "filename = 'rf_6.sav'\n",
        "pickle.dump(clf, open(filename, 'wb'))"
      ],
      "id": "xBXH1sF2HUyG",
      "execution_count": 12,
      "outputs": []
    },
    {
      "cell_type": "code",
      "metadata": {
        "id": "500bc489"
      },
      "source": [
        "y_pred = clf.predict(test)"
      ],
      "id": "500bc489",
      "execution_count": 13,
      "outputs": []
    },
    {
      "cell_type": "code",
      "metadata": {
        "id": "89f80139"
      },
      "source": [
        "from sklearn.metrics import accuracy_score\n",
        "from sklearn.metrics import f1_score\n",
        "from sklearn.metrics import precision_score\n",
        "from sklearn.metrics import recall_score"
      ],
      "id": "89f80139",
      "execution_count": 14,
      "outputs": []
    },
    {
      "cell_type": "code",
      "metadata": {
        "id": "2d28271e"
      },
      "source": [
        "def scoring(y_true,y_pred):\n",
        "    print(\"Accuracy: \",accuracy_score(y_true, y_pred))\n",
        "    print(\"f1 macro: \",f1_score(y_true, y_pred, average='macro'))\n",
        "    print(\"f1 micro: \",f1_score(y_true, y_pred, average='micro'))\n",
        "    print(\"f1 weighted: \",f1_score(y_true, y_pred, average='weighted'))\n",
        "    print(\"precision macro: \",precision_score(y_true, y_pred, average='macro',zero_division=1))\n",
        "    print(\"precision micro: \",precision_score(y_true, y_pred, average='micro',zero_division=1))\n",
        "    print(\"precision weighted: \",precision_score(y_true, y_pred, average='weighted',zero_division=1))\n",
        "    print(\"recall macro: \",recall_score(y_true, y_pred, average='macro'))\n",
        "    print(\"recall micro: \",recall_score(y_true, y_pred, average='micro'))\n",
        "    print(\"recall weighted: \",recall_score(y_true, y_pred, average='weighted'))"
      ],
      "id": "2d28271e",
      "execution_count": 15,
      "outputs": []
    },
    {
      "cell_type": "code",
      "metadata": {
        "id": "761c259e",
        "colab": {
          "base_uri": "https://localhost:8080/"
        },
        "outputId": "4e4de798-045c-4386-c5e2-5aa4206e45da"
      },
      "source": [
        "scoring(np.array(y_test.iloc[:,0]),y_pred)"
      ],
      "id": "761c259e",
      "execution_count": 16,
      "outputs": [
        {
          "output_type": "stream",
          "name": "stdout",
          "text": [
            "Accuracy:  0.658812729498164\n",
            "f1 macro:  0.2724203909113889\n",
            "f1 micro:  0.658812729498164\n",
            "f1 weighted:  0.6182129289221813\n",
            "precision macro:  0.7836675184989792\n",
            "precision micro:  0.658812729498164\n",
            "precision weighted:  0.6606364913338908\n",
            "recall macro:  0.27965733781379076\n",
            "recall micro:  0.658812729498164\n",
            "recall weighted:  0.658812729498164\n"
          ]
        }
      ]
    },
    {
      "cell_type": "code",
      "metadata": {
        "id": "984d38b1",
        "colab": {
          "base_uri": "https://localhost:8080/"
        },
        "outputId": "e11922b7-b594-4394-9300-1d7848c17930"
      },
      "source": [
        "y_pred = clf.predict(train)\n",
        "scoring(np.array(y_train.iloc[:,0]),y_pred)"
      ],
      "id": "984d38b1",
      "execution_count": 17,
      "outputs": [
        {
          "output_type": "stream",
          "name": "stdout",
          "text": [
            "Accuracy:  1.0\n",
            "f1 macro:  1.0\n",
            "f1 micro:  1.0\n",
            "f1 weighted:  1.0\n",
            "precision macro:  1.0\n",
            "precision micro:  1.0\n",
            "precision weighted:  1.0\n",
            "recall macro:  1.0\n",
            "recall micro:  1.0\n",
            "recall weighted:  1.0\n"
          ]
        }
      ]
    },
    {
      "cell_type": "code",
      "metadata": {
        "id": "ae5be0c1",
        "colab": {
          "base_uri": "https://localhost:8080/"
        },
        "outputId": "907db83e-f976-4010-84e3-f6b23e115f4b"
      },
      "source": [
        "y_pred = clf.predict(val)\n",
        "scoring(np.array(y_val.iloc[:,0]),y_pred)"
      ],
      "id": "ae5be0c1",
      "execution_count": 18,
      "outputs": [
        {
          "output_type": "stream",
          "name": "stdout",
          "text": [
            "Accuracy:  0.6599326599326599\n",
            "f1 macro:  0.3366828248288799\n",
            "f1 micro:  0.6599326599326599\n",
            "f1 weighted:  0.6193125719491457\n",
            "precision macro:  0.711888161952595\n",
            "precision micro:  0.6599326599326599\n",
            "precision weighted:  0.65640770565013\n",
            "recall macro:  0.347869003625557\n",
            "recall micro:  0.6599326599326599\n",
            "recall weighted:  0.6599326599326599\n"
          ]
        }
      ]
    },
    {
      "cell_type": "markdown",
      "metadata": {
        "id": "6c160e4d"
      },
      "source": [
        "# 11 buckets"
      ],
      "id": "6c160e4d"
    },
    {
      "cell_type": "code",
      "metadata": {
        "id": "6edfa1f6",
        "colab": {
          "base_uri": "https://localhost:8080/"
        },
        "outputId": "7fdbb143-6f6f-4095-ded7-04ae8d95e3a9"
      },
      "source": [
        "y_val=pd.read_csv('valid_11_buckets.csv')\n",
        "y_train= pd.read_csv('train_11_buckets.csv')\n",
        "y_test=pd.read_csv('test_11_buckets.csv')\n",
        "y_tot=pd.concat([y_train,y_val], axis=0)\n",
        "clf = RandomForestClassifier(n_estimators=100,n_jobs=-1,random_state=1)\n",
        "clf.fit(train,np.array(y_train.iloc[:,0]))\n",
        "filename = 'rf_11.sav'\n",
        "pickle.dump(clf, open(filename, 'wb'))\n",
        "y_pred = clf.predict(test)\n",
        "print(\"FOR TEST\")\n",
        "scoring(np.array(y_test.iloc[:,0]),y_pred)\n",
        "y_pred = clf.predict(train)\n",
        "print(\"FOR TRAIN\")\n",
        "scoring(np.array(y_train.iloc[:,0]),y_pred)\n",
        "y_pred = clf.predict(val)\n",
        "print(\"FOR VAL\")\n",
        "scoring(np.array(y_val.iloc[:,0]),y_pred)"
      ],
      "id": "6edfa1f6",
      "execution_count": 19,
      "outputs": [
        {
          "output_type": "stream",
          "name": "stdout",
          "text": [
            "FOR TEST\n",
            "Accuracy:  0.45960832313341493\n",
            "f1 macro:  0.14151699882995586\n",
            "f1 micro:  0.45960832313341493\n",
            "f1 weighted:  0.38486403649615414\n",
            "precision macro:  0.7191865802129326\n",
            "precision micro:  0.45960832313341493\n",
            "precision weighted:  0.47830687221340573\n",
            "recall macro:  0.15494439433774387\n",
            "recall micro:  0.45960832313341493\n",
            "recall weighted:  0.45960832313341493\n",
            "FOR TRAIN\n",
            "Accuracy:  1.0\n",
            "f1 macro:  1.0\n",
            "f1 micro:  1.0\n",
            "f1 weighted:  1.0\n",
            "precision macro:  1.0\n",
            "precision micro:  1.0\n",
            "precision weighted:  1.0\n",
            "recall macro:  1.0\n",
            "recall micro:  1.0\n",
            "recall weighted:  1.0\n",
            "FOR VAL\n",
            "Accuracy:  0.4450566268748087\n",
            "f1 macro:  0.13524358975012551\n",
            "f1 micro:  0.4450566268748087\n",
            "f1 weighted:  0.3725818049887144\n",
            "precision macro:  0.748132599941574\n",
            "precision micro:  0.4450566268748087\n",
            "precision weighted:  0.478827282286511\n",
            "recall macro:  0.14990057841664883\n",
            "recall micro:  0.4450566268748087\n",
            "recall weighted:  0.4450566268748087\n"
          ]
        }
      ]
    },
    {
      "cell_type": "code",
      "metadata": {
        "id": "b40fa7a8",
        "colab": {
          "base_uri": "https://localhost:8080/"
        },
        "outputId": "07342723-686d-4436-ced4-f28f01fa4b40"
      },
      "source": [
        "y_val=pd.read_csv('valid_21_buckets.csv')\n",
        "y_train= pd.read_csv('train_21_buckets.csv')\n",
        "y_test=pd.read_csv('test_21_buckets.csv')\n",
        "y_val*=2\n",
        "y_train*=2\n",
        "y_test*=2\n",
        "y_tot=pd.concat([y_train,y_val], axis=0)\n",
        "clf = RandomForestClassifier(n_estimators=100,n_jobs=-1,random_state=1)\n",
        "clf.fit(train,np.array(y_train.iloc[:,0]))\n",
        "y_pred = clf.predict(test)\n",
        "filename = 'rf_21.sav'\n",
        "pickle.dump(clf, open(filename, 'wb'))\n",
        "print(\"FOR TEST\")\n",
        "scoring(np.array(y_test.iloc[:,0]),y_pred)\n",
        "y_pred = clf.predict(train)\n",
        "print(\"FOR TRAIN\")\n",
        "scoring(np.array(y_train.iloc[:,0]),y_pred)\n",
        "y_pred = clf.predict(val)\n",
        "print(\"FOR VAL\")\n",
        "scoring(np.array(y_val.iloc[:,0]),y_pred)"
      ],
      "id": "b40fa7a8",
      "execution_count": 20,
      "outputs": [
        {
          "output_type": "stream",
          "name": "stdout",
          "text": [
            "FOR TEST\n",
            "Accuracy:  0.2503059975520196\n",
            "f1 macro:  0.08298398170859134\n",
            "f1 micro:  0.2503059975520196\n",
            "f1 weighted:  0.21566207241468915\n",
            "precision macro:  0.6262548655086073\n",
            "precision micro:  0.2503059975520196\n",
            "precision weighted:  0.29445302830520376\n",
            "recall macro:  0.08808924139723781\n",
            "recall micro:  0.2503059975520196\n",
            "recall weighted:  0.2503059975520196\n",
            "FOR TRAIN\n",
            "Accuracy:  1.0\n",
            "f1 macro:  1.0\n",
            "f1 micro:  1.0\n",
            "f1 weighted:  1.0\n",
            "precision macro:  1.0\n",
            "precision micro:  1.0\n",
            "precision weighted:  1.0\n",
            "recall macro:  1.0\n",
            "recall micro:  1.0\n",
            "recall weighted:  1.0\n",
            "FOR VAL\n",
            "Accuracy:  0.23293541475359658\n",
            "f1 macro:  0.07305389372058922\n",
            "f1 micro:  0.23293541475359658\n",
            "f1 weighted:  0.1984499942131211\n",
            "precision macro:  0.506292059129763\n",
            "precision micro:  0.23293541475359658\n",
            "precision weighted:  0.24014503089187275\n",
            "recall macro:  0.08070911590017163\n",
            "recall micro:  0.23293541475359658\n",
            "recall weighted:  0.23293541475359658\n"
          ]
        }
      ]
    }
  ]
}