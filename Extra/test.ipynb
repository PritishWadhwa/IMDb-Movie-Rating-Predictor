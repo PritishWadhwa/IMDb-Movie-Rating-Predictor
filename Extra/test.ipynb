{
 "cells": [
  {
   "cell_type": "code",
   "execution_count": 12,
   "metadata": {},
   "outputs": [],
   "source": [
    "import pandas as pd\n",
    "import numpy as np\n",
    "import re"
   ]
  },
  {
   "cell_type": "code",
   "execution_count": 62,
   "metadata": {},
   "outputs": [],
   "source": [
    "df = pd.read_csv('Dataset/preprocessed.csv')"
   ]
  },
  {
   "cell_type": "code",
   "execution_count": 63,
   "metadata": {},
   "outputs": [],
   "source": [
    "all_data = df"
   ]
  },
  {
   "cell_type": "code",
   "execution_count": 64,
   "metadata": {},
   "outputs": [],
   "source": [
    "all_data = all_data.drop(columns=['adult', 'belongs_to_collection', 'budget', 'genres', 'homepage', 'id', 'imdb_id', 'popularity', 'poster_path', 'revenue',\n",
    "                                  'spoken_languages', 'status', 'tagline', 'title', 'video', 'vote_average', 'vote_count', 'posterID', 'Imdb Link', 'Title', 'Poster'], axis=1)"
   ]
  },
  {
   "cell_type": "code",
   "execution_count": 65,
   "metadata": {},
   "outputs": [
    {
     "data": {
      "text/plain": [
       "(37210, 25)"
      ]
     },
     "execution_count": 65,
     "metadata": {},
     "output_type": "execute_result"
    }
   ],
   "source": [
    "all_data.shape"
   ]
  },
  {
   "cell_type": "code",
   "execution_count": 66,
   "metadata": {},
   "outputs": [],
   "source": [
    "all_data = all_data.replace(r'^\\s+$', np.NaN, regex=True)"
   ]
  },
  {
   "cell_type": "code",
   "execution_count": 67,
   "metadata": {},
   "outputs": [
    {
     "data": {
      "text/plain": [
       "pandas.core.frame.DataFrame"
      ]
     },
     "execution_count": 67,
     "metadata": {},
     "output_type": "execute_result"
    }
   ],
   "source": [
    "type(all_data)"
   ]
  },
  {
   "cell_type": "code",
   "execution_count": 68,
   "metadata": {},
   "outputs": [
    {
     "data": {
      "text/plain": [
       "(37210, 25)"
      ]
     },
     "execution_count": 68,
     "metadata": {},
     "output_type": "execute_result"
    }
   ],
   "source": [
    "all_data.shape"
   ]
  },
  {
   "cell_type": "code",
   "execution_count": 69,
   "metadata": {},
   "outputs": [
    {
     "data": {
      "text/plain": [
       "original_language                                                      en\n",
       "original_title                                                  Toy Story\n",
       "overview                Led by Woody, Andy's toys live happily in his ...\n",
       "production_companies       [{'name': 'Pixar Animation Studios', 'id': 3}]\n",
       "production_countries    [{'iso_3166_1': 'US', 'name': 'United States o...\n",
       "release_date                                                   1995-10-30\n",
       "runtime                                                         81.000000\n",
       "cast                    [{'cast_id': 14, 'character': 'Woody (voice)',...\n",
       "crew                    [{'credit_id': '52fe4284c3a36847f8024f49', 'de...\n",
       "keywords                [{'id': 931, 'name': 'jealousy'}, {'id': 4290,...\n",
       "IMDB Score                                                       8.300000\n",
       "Genre                                          Animation|Adventure|Comedy\n",
       "num_faces                                                        0.000000\n",
       "brightness                                                     184.775439\n",
       "saturation                                                     190.399400\n",
       "hue                                                             82.805137\n",
       "brightness_sd                                                   58.496526\n",
       "saturation_sd                                                   80.933495\n",
       "hue_sd                                                          46.984021\n",
       "blue                                                           147.046133\n",
       "blue_sd                                                         83.046441\n",
       "green                                                          127.812661\n",
       "green_sd                                                        59.618615\n",
       "red                                                             79.571854\n",
       "red_sd                                                          88.574055\n",
       "Name: 0, dtype: object"
      ]
     },
     "execution_count": 69,
     "metadata": {},
     "output_type": "execute_result"
    }
   ],
   "source": [
    "all_data.loc[0]"
   ]
  },
  {
   "cell_type": "code",
   "execution_count": 70,
   "metadata": {},
   "outputs": [],
   "source": [
    "all_data = all_data.dropna()"
   ]
  },
  {
   "cell_type": "code",
   "execution_count": 71,
   "metadata": {},
   "outputs": [
    {
     "data": {
      "text/plain": [
       "(36431, 25)"
      ]
     },
     "execution_count": 71,
     "metadata": {},
     "output_type": "execute_result"
    }
   ],
   "source": [
    "all_data.shape"
   ]
  },
  {
   "cell_type": "code",
   "execution_count": 72,
   "metadata": {},
   "outputs": [],
   "source": [
    "from ast import literal_eval"
   ]
  },
  {
   "cell_type": "code",
   "execution_count": 73,
   "metadata": {},
   "outputs": [],
   "source": [
    "def get_production_countries(l):\n",
    "    if isinstance(l, list):\n",
    "    #productionCountries = [pc['iso_3166_1'] for pc in l]\n",
    "    #return '|'.join(productionCountries)\n",
    "        if len(l)>0:\n",
    "            return l[0]['iso_3166_1']\n",
    "        return ''"
   ]
  },
  {
   "cell_type": "code",
   "execution_count": 86,
   "metadata": {},
   "outputs": [],
   "source": [
    "all_data['production_countries'] = all_data['production_countries'].apply(\n",
    "    literal_eval).apply(get_production_countries)\n"
   ]
  },
  {
   "cell_type": "code",
   "execution_count": 87,
   "metadata": {},
   "outputs": [],
   "source": [
    "all_data = all_data.replace(r'^\\s*$', np.NaN, regex=True)\n"
   ]
  },
  {
   "cell_type": "code",
   "execution_count": 88,
   "metadata": {},
   "outputs": [],
   "source": [
    "all_data = all_data.dropna()"
   ]
  },
  {
   "cell_type": "code",
   "execution_count": 89,
   "metadata": {},
   "outputs": [
    {
     "data": {
      "text/plain": [
       "(31939, 25)"
      ]
     },
     "execution_count": 89,
     "metadata": {},
     "output_type": "execute_result"
    }
   ],
   "source": [
    "all_data.shape"
   ]
  },
  {
   "cell_type": "code",
   "execution_count": 90,
   "metadata": {},
   "outputs": [
    {
     "data": {
      "text/plain": [
       "US    15655\n",
       "       4492\n",
       "GB     2582\n",
       "FR     2168\n",
       "CA     1213\n",
       "      ...  \n",
       "SY        1\n",
       "NA        1\n",
       "ME        1\n",
       "LA        1\n",
       "SV        1\n",
       "Name: production_countries, Length: 140, dtype: int64"
      ]
     },
     "execution_count": 90,
     "metadata": {},
     "output_type": "execute_result"
    }
   ],
   "source": [
    "production_countries.value_counts()"
   ]
  },
  {
   "cell_type": "code",
   "execution_count": 85,
   "metadata": {},
   "outputs": [
    {
     "name": "stdout",
     "output_type": "stream",
     "text": [
      "[]\n"
     ]
    }
   ],
   "source": [
    "for i, j in all_data.iterrows():\n",
    "    if j['original_title'] == 'Guardian Angel':\n",
    "        print(j['production_countries'])\n"
   ]
  },
  {
   "cell_type": "code",
   "execution_count": 84,
   "metadata": {},
   "outputs": [
    {
     "data": {
      "text/plain": [
       "original_language                                                      en\n",
       "original_title                                                  Toy Story\n",
       "overview                Led by Woody, Andy's toys live happily in his ...\n",
       "production_companies       [{'name': 'Pixar Animation Studios', 'id': 3}]\n",
       "production_countries    [{'iso_3166_1': 'US', 'name': 'United States o...\n",
       "release_date                                                   1995-10-30\n",
       "runtime                                                         81.000000\n",
       "cast                    [{'cast_id': 14, 'character': 'Woody (voice)',...\n",
       "crew                    [{'credit_id': '52fe4284c3a36847f8024f49', 'de...\n",
       "keywords                [{'id': 931, 'name': 'jealousy'}, {'id': 4290,...\n",
       "IMDB Score                                                       8.300000\n",
       "Genre                                          Animation|Adventure|Comedy\n",
       "num_faces                                                        0.000000\n",
       "brightness                                                     184.775439\n",
       "saturation                                                     190.399400\n",
       "hue                                                             82.805137\n",
       "brightness_sd                                                   58.496526\n",
       "saturation_sd                                                   80.933495\n",
       "hue_sd                                                          46.984021\n",
       "blue                                                           147.046133\n",
       "blue_sd                                                         83.046441\n",
       "green                                                          127.812661\n",
       "green_sd                                                        59.618615\n",
       "red                                                             79.571854\n",
       "red_sd                                                          88.574055\n",
       "Name: 0, dtype: object"
      ]
     },
     "execution_count": 84,
     "metadata": {},
     "output_type": "execute_result"
    }
   ],
   "source": [
    "all_data.loc[0]"
   ]
  },
  {
   "cell_type": "code",
   "execution_count": 95,
   "metadata": {},
   "outputs": [
    {
     "data": {
      "text/plain": [
       "adult                                                                False\n",
       "belongs_to_collection    {'id': 10194, 'name': 'Toy Story Collection', ...\n",
       "budget                                                            30000000\n",
       "genres                   [{'id': 16, 'name': 'Animation'}, {'id': 35, '...\n",
       "homepage                              http://toystory.disney.com/toy-story\n",
       "id                                                                     862\n",
       "imdb_id                                                             114709\n",
       "original_language                                                       en\n",
       "original_title                                                   Toy Story\n",
       "overview                 Led by Woody, Andy's toys live happily in his ...\n",
       "popularity                                                       21.946943\n",
       "poster_path                               /rhIRbceoE9lR4veEXuwCC2wARtG.jpg\n",
       "production_companies        [{'name': 'Pixar Animation Studios', 'id': 3}]\n",
       "production_countries     [{'iso_3166_1': 'US', 'name': 'United States o...\n",
       "release_date                                                    1995-10-30\n",
       "revenue                                                   373554033.000000\n",
       "runtime                                                          81.000000\n",
       "spoken_languages                  [{'iso_639_1': 'en', 'name': 'English'}]\n",
       "status                                                            Released\n",
       "tagline                                                                NaN\n",
       "title                                                            Toy Story\n",
       "video                                                                False\n",
       "vote_average                                                      7.700000\n",
       "vote_count                                                     5415.000000\n",
       "posterID                                                             0.jpg\n",
       "cast                     [{'cast_id': 14, 'character': 'Woody (voice)',...\n",
       "crew                     [{'credit_id': '52fe4284c3a36847f8024f49', 'de...\n",
       "keywords                 [{'id': 931, 'name': 'jealousy'}, {'id': 4290,...\n",
       "Imdb Link                               http://www.imdb.com/title/tt114709\n",
       "Title                                                     Toy Story (1995)\n",
       "IMDB Score                                                        8.300000\n",
       "Genre                                           Animation|Adventure|Comedy\n",
       "Poster                   https://images-na.ssl-images-amazon.com/images...\n",
       "num_faces                                                         0.000000\n",
       "brightness                                                      184.775439\n",
       "saturation                                                      190.399400\n",
       "hue                                                              82.805137\n",
       "brightness_sd                                                    58.496526\n",
       "saturation_sd                                                    80.933495\n",
       "hue_sd                                                           46.984021\n",
       "blue                                                            147.046133\n",
       "blue_sd                                                          83.046441\n",
       "green                                                           127.812661\n",
       "green_sd                                                         59.618615\n",
       "red                                                              79.571854\n",
       "red_sd                                                           88.574055\n",
       "Name: 0, dtype: object"
      ]
     },
     "execution_count": 95,
     "metadata": {},
     "output_type": "execute_result"
    }
   ],
   "source": [
    "df.loc[0]"
   ]
  },
  {
   "cell_type": "code",
   "execution_count": 98,
   "metadata": {},
   "outputs": [
    {
     "name": "stdout",
     "output_type": "stream",
     "text": [
      "[{'id': 154802, 'name': 'silent film'}, {'id': 191047, 'name': 'prison break'}, {'id': 211467, 'name': 'trick film'}]\n"
     ]
    }
   ],
   "source": [
    "for i, j in df.iterrows():\n",
    "    if j['original_title'] == 'The Impossible Convicts':\n",
    "        print(j['keywords'])\n"
   ]
  },
  {
   "cell_type": "code",
   "execution_count": null,
   "metadata": {},
   "outputs": [],
   "source": []
  }
 ],
 "metadata": {
  "interpreter": {
   "hash": "aee8b7b246df8f9039afb4144a1f6fd8d2ca17a180786b69acc140d282b71a49"
  },
  "kernelspec": {
   "display_name": "Python 3.9.1 64-bit",
   "name": "python3"
  },
  "language_info": {
   "codemirror_mode": {
    "name": "ipython",
    "version": 3
   },
   "file_extension": ".py",
   "mimetype": "text/x-python",
   "name": "python",
   "nbconvert_exporter": "python",
   "pygments_lexer": "ipython3",
   "version": "3.9.1"
  },
  "orig_nbformat": 4
 },
 "nbformat": 4,
 "nbformat_minor": 2
}
