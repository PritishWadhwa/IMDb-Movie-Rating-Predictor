{
 "cells": [
  {
   "cell_type": "code",
   "execution_count": 2,
   "metadata": {
    "id": "Ot_kkiZV8UZG"
   },
   "outputs": [],
   "source": [
    "import pandas as pd\n",
    "import numpy as np\n",
    "from tqdm import tqdm\n",
    "import matplotlib.pyplot as plt\n",
    "import seaborn as sns"
   ]
  },
  {
   "cell_type": "code",
   "execution_count": 3,
   "metadata": {
    "id": "2qsSIwo58pTe"
   },
   "outputs": [],
   "source": [
    "path = \"E:/Sem5/ML/Dataset/preprocessed.csv\"\n",
    "#path2 = \"/content/drive/MyDrive/Dataset/stop_words.txt\""
   ]
  },
  {
   "cell_type": "code",
   "execution_count": 4,
   "metadata": {
    "id": "vMHbv_uSUa6K"
   },
   "outputs": [],
   "source": [
    "#import nltk\n",
    "#nltk.download('stopwords')"
   ]
  },
  {
   "cell_type": "code",
   "execution_count": 5,
   "metadata": {
    "id": "pHOSepkdUrjx"
   },
   "outputs": [],
   "source": [
    "from nltk.corpus import stopwords\n",
    "stop_words_set = set(stopwords.words('english'))"
   ]
  },
  {
   "cell_type": "code",
   "execution_count": 6,
   "metadata": {
    "id": "PWoC4RHL8UZK"
   },
   "outputs": [],
   "source": [
    "preprocessedDF = pd.read_csv('Dataset/preprocessed.csv')"
   ]
  },
  {
   "cell_type": "code",
   "execution_count": 7,
   "metadata": {
    "colab": {
     "base_uri": "https://localhost:8080/"
    },
    "id": "x_rPF8338UZM",
    "outputId": "d2e848ec-5ef3-491b-90c9-ffb40a0f7612"
   },
   "outputs": [
    {
     "name": "stdout",
     "output_type": "stream",
     "text": [
      "<class 'pandas.core.frame.DataFrame'>\n",
      "RangeIndex: 37210 entries, 0 to 37209\n",
      "Data columns (total 46 columns):\n",
      " #   Column                 Non-Null Count  Dtype  \n",
      "---  ------                 --------------  -----  \n",
      " 0   adult                  37210 non-null  bool   \n",
      " 1   belongs_to_collection  3918 non-null   object \n",
      " 2   budget                 37210 non-null  int64  \n",
      " 3   genres                 37210 non-null  object \n",
      " 4   homepage               6307 non-null   object \n",
      " 5   id                     37210 non-null  int64  \n",
      " 6   imdb_id                37210 non-null  int64  \n",
      " 7   original_language      37205 non-null  object \n",
      " 8   original_title         37210 non-null  object \n",
      " 9   overview               36573 non-null  object \n",
      " 10  popularity             37210 non-null  float64\n",
      " 11  poster_path            37210 non-null  object \n",
      " 12  production_companies   37210 non-null  object \n",
      " 13  production_countries   37210 non-null  object \n",
      " 14  release_date           37189 non-null  object \n",
      " 15  revenue                37210 non-null  float64\n",
      " 16  runtime                37062 non-null  float64\n",
      " 17  spoken_languages       37210 non-null  object \n",
      " 18  status                 37156 non-null  object \n",
      " 19  tagline                17810 non-null  object \n",
      " 20  title                  37210 non-null  object \n",
      " 21  video                  37210 non-null  bool   \n",
      " 22  vote_average           37210 non-null  float64\n",
      " 23  vote_count             37210 non-null  float64\n",
      " 24  posterID               37210 non-null  object \n",
      " 25  cast                   37210 non-null  object \n",
      " 26  crew                   37210 non-null  object \n",
      " 27  keywords               37210 non-null  object \n",
      " 28  Imdb Link              37210 non-null  object \n",
      " 29  Title                  37210 non-null  object \n",
      " 30  IMDB Score             37193 non-null  float64\n",
      " 31  Genre                  37088 non-null  object \n",
      " 32  Poster                 36704 non-null  object \n",
      " 33  num_faces              37210 non-null  float64\n",
      " 34  brightness             37210 non-null  float64\n",
      " 35  saturation             37210 non-null  float64\n",
      " 36  hue                    37210 non-null  float64\n",
      " 37  brightness_sd          37210 non-null  float64\n",
      " 38  saturation_sd          37210 non-null  float64\n",
      " 39  hue_sd                 37210 non-null  float64\n",
      " 40  blue                   37210 non-null  float64\n",
      " 41  blue_sd                37210 non-null  float64\n",
      " 42  green                  37210 non-null  float64\n",
      " 43  green_sd               37210 non-null  float64\n",
      " 44  red                    37210 non-null  float64\n",
      " 45  red_sd                 37210 non-null  float64\n",
      "dtypes: bool(2), float64(19), int64(3), object(22)\n",
      "memory usage: 12.6+ MB\n"
     ]
    }
   ],
   "source": [
    "preprocessedDF.info()"
   ]
  },
  {
   "cell_type": "code",
   "execution_count": 8,
   "metadata": {
    "colab": {
     "base_uri": "https://localhost:8080/",
     "height": 315
    },
    "id": "GlRF_-x_8UZP",
    "outputId": "11ecdbe9-934f-472b-94e0-a15a55d3f085"
   },
   "outputs": [
    {
     "data": {
      "text/html": [
       "<div>\n",
       "<style scoped>\n",
       "    .dataframe tbody tr th:only-of-type {\n",
       "        vertical-align: middle;\n",
       "    }\n",
       "\n",
       "    .dataframe tbody tr th {\n",
       "        vertical-align: top;\n",
       "    }\n",
       "\n",
       "    .dataframe thead th {\n",
       "        text-align: right;\n",
       "    }\n",
       "</style>\n",
       "<table border=\"1\" class=\"dataframe\">\n",
       "  <thead>\n",
       "    <tr style=\"text-align: right;\">\n",
       "      <th></th>\n",
       "      <th>budget</th>\n",
       "      <th>id</th>\n",
       "      <th>imdb_id</th>\n",
       "      <th>popularity</th>\n",
       "      <th>revenue</th>\n",
       "      <th>runtime</th>\n",
       "      <th>vote_average</th>\n",
       "      <th>vote_count</th>\n",
       "      <th>IMDB Score</th>\n",
       "      <th>num_faces</th>\n",
       "      <th>...</th>\n",
       "      <th>hue</th>\n",
       "      <th>brightness_sd</th>\n",
       "      <th>saturation_sd</th>\n",
       "      <th>hue_sd</th>\n",
       "      <th>blue</th>\n",
       "      <th>blue_sd</th>\n",
       "      <th>green</th>\n",
       "      <th>green_sd</th>\n",
       "      <th>red</th>\n",
       "      <th>red_sd</th>\n",
       "    </tr>\n",
       "  </thead>\n",
       "  <tbody>\n",
       "    <tr>\n",
       "      <th>count</th>\n",
       "      <td>3.721000e+04</td>\n",
       "      <td>37210.000000</td>\n",
       "      <td>3.721000e+04</td>\n",
       "      <td>37210.000000</td>\n",
       "      <td>3.721000e+04</td>\n",
       "      <td>37062.000000</td>\n",
       "      <td>37210.000000</td>\n",
       "      <td>37210.000000</td>\n",
       "      <td>37193.000000</td>\n",
       "      <td>37210.000000</td>\n",
       "      <td>...</td>\n",
       "      <td>37210.000000</td>\n",
       "      <td>37210.000000</td>\n",
       "      <td>37210.000000</td>\n",
       "      <td>37210.000000</td>\n",
       "      <td>37210.000000</td>\n",
       "      <td>37210.000000</td>\n",
       "      <td>37210.000000</td>\n",
       "      <td>37210.000000</td>\n",
       "      <td>37210.000000</td>\n",
       "      <td>37210.000000</td>\n",
       "    </tr>\n",
       "    <tr>\n",
       "      <th>mean</th>\n",
       "      <td>4.711716e+06</td>\n",
       "      <td>92095.604327</td>\n",
       "      <td>8.350883e+05</td>\n",
       "      <td>3.114066</td>\n",
       "      <td>1.252765e+07</td>\n",
       "      <td>96.065242</td>\n",
       "      <td>5.717186</td>\n",
       "      <td>123.099973</td>\n",
       "      <td>6.409185</td>\n",
       "      <td>0.563612</td>\n",
       "      <td>...</td>\n",
       "      <td>54.121472</td>\n",
       "      <td>72.888216</td>\n",
       "      <td>66.108829</td>\n",
       "      <td>44.692045</td>\n",
       "      <td>102.676043</td>\n",
       "      <td>69.147140</td>\n",
       "      <td>112.402166</td>\n",
       "      <td>72.107912</td>\n",
       "      <td>127.214442</td>\n",
       "      <td>75.265465</td>\n",
       "    </tr>\n",
       "    <tr>\n",
       "      <th>std</th>\n",
       "      <td>1.820269e+07</td>\n",
       "      <td>97166.149197</td>\n",
       "      <td>1.144543e+06</td>\n",
       "      <td>5.596429</td>\n",
       "      <td>6.719505e+07</td>\n",
       "      <td>37.338853</td>\n",
       "      <td>1.796600</td>\n",
       "      <td>518.225290</td>\n",
       "      <td>1.142621</td>\n",
       "      <td>0.922337</td>\n",
       "      <td>...</td>\n",
       "      <td>28.890712</td>\n",
       "      <td>15.745163</td>\n",
       "      <td>19.977247</td>\n",
       "      <td>16.171165</td>\n",
       "      <td>49.732066</td>\n",
       "      <td>18.623296</td>\n",
       "      <td>48.762495</td>\n",
       "      <td>16.121290</td>\n",
       "      <td>51.192335</td>\n",
       "      <td>15.793882</td>\n",
       "    </tr>\n",
       "    <tr>\n",
       "      <th>min</th>\n",
       "      <td>0.000000e+00</td>\n",
       "      <td>2.000000</td>\n",
       "      <td>3.000000e+00</td>\n",
       "      <td>0.000000</td>\n",
       "      <td>0.000000e+00</td>\n",
       "      <td>0.000000</td>\n",
       "      <td>0.000000</td>\n",
       "      <td>0.000000</td>\n",
       "      <td>1.200000</td>\n",
       "      <td>0.000000</td>\n",
       "      <td>...</td>\n",
       "      <td>0.000000</td>\n",
       "      <td>1.183370</td>\n",
       "      <td>0.000000</td>\n",
       "      <td>0.000000</td>\n",
       "      <td>0.882752</td>\n",
       "      <td>1.977672</td>\n",
       "      <td>0.726561</td>\n",
       "      <td>1.651825</td>\n",
       "      <td>1.337270</td>\n",
       "      <td>1.244778</td>\n",
       "    </tr>\n",
       "    <tr>\n",
       "      <th>25%</th>\n",
       "      <td>0.000000e+00</td>\n",
       "      <td>22969.250000</td>\n",
       "      <td>8.093450e+04</td>\n",
       "      <td>0.453325</td>\n",
       "      <td>0.000000e+00</td>\n",
       "      <td>86.000000</td>\n",
       "      <td>5.100000</td>\n",
       "      <td>4.000000</td>\n",
       "      <td>5.800000</td>\n",
       "      <td>0.000000</td>\n",
       "      <td>...</td>\n",
       "      <td>30.549816</td>\n",
       "      <td>62.818346</td>\n",
       "      <td>53.854725</td>\n",
       "      <td>34.489826</td>\n",
       "      <td>63.103481</td>\n",
       "      <td>56.652542</td>\n",
       "      <td>73.914467</td>\n",
       "      <td>61.786961</td>\n",
       "      <td>87.503894</td>\n",
       "      <td>65.441396</td>\n",
       "    </tr>\n",
       "    <tr>\n",
       "      <th>50%</th>\n",
       "      <td>0.000000e+00</td>\n",
       "      <td>51789.000000</td>\n",
       "      <td>2.363165e+05</td>\n",
       "      <td>1.290035</td>\n",
       "      <td>0.000000e+00</td>\n",
       "      <td>95.000000</td>\n",
       "      <td>6.000000</td>\n",
       "      <td>11.000000</td>\n",
       "      <td>6.600000</td>\n",
       "      <td>0.000000</td>\n",
       "      <td>...</td>\n",
       "      <td>50.157406</td>\n",
       "      <td>73.247646</td>\n",
       "      <td>66.716290</td>\n",
       "      <td>45.677917</td>\n",
       "      <td>98.034244</td>\n",
       "      <td>69.919507</td>\n",
       "      <td>110.593031</td>\n",
       "      <td>72.334171</td>\n",
       "      <td>127.259378</td>\n",
       "      <td>75.881237</td>\n",
       "    </tr>\n",
       "    <tr>\n",
       "      <th>75%</th>\n",
       "      <td>0.000000e+00</td>\n",
       "      <td>125163.250000</td>\n",
       "      <td>1.327770e+06</td>\n",
       "      <td>4.358514</td>\n",
       "      <td>0.000000e+00</td>\n",
       "      <td>108.000000</td>\n",
       "      <td>6.800000</td>\n",
       "      <td>42.000000</td>\n",
       "      <td>7.200000</td>\n",
       "      <td>1.000000</td>\n",
       "      <td>...</td>\n",
       "      <td>74.505922</td>\n",
       "      <td>83.473024</td>\n",
       "      <td>79.505317</td>\n",
       "      <td>55.664458</td>\n",
       "      <td>139.488232</td>\n",
       "      <td>82.423853</td>\n",
       "      <td>149.611802</td>\n",
       "      <td>82.938145</td>\n",
       "      <td>167.770281</td>\n",
       "      <td>86.003713</td>\n",
       "    </tr>\n",
       "    <tr>\n",
       "      <th>max</th>\n",
       "      <td>3.800000e+08</td>\n",
       "      <td>469172.000000</td>\n",
       "      <td>6.098922e+06</td>\n",
       "      <td>547.488298</td>\n",
       "      <td>2.787965e+09</td>\n",
       "      <td>1256.000000</td>\n",
       "      <td>10.000000</td>\n",
       "      <td>14075.000000</td>\n",
       "      <td>9.500000</td>\n",
       "      <td>16.000000</td>\n",
       "      <td>...</td>\n",
       "      <td>174.309900</td>\n",
       "      <td>125.836770</td>\n",
       "      <td>125.016174</td>\n",
       "      <td>88.502696</td>\n",
       "      <td>253.928587</td>\n",
       "      <td>125.838671</td>\n",
       "      <td>251.624791</td>\n",
       "      <td>125.841819</td>\n",
       "      <td>253.605869</td>\n",
       "      <td>125.837170</td>\n",
       "    </tr>\n",
       "  </tbody>\n",
       "</table>\n",
       "<p>8 rows × 22 columns</p>\n",
       "</div>"
      ],
      "text/plain": [
       "             budget             id       imdb_id    popularity       revenue  \\\n",
       "count  3.721000e+04   37210.000000  3.721000e+04  37210.000000  3.721000e+04   \n",
       "mean   4.711716e+06   92095.604327  8.350883e+05      3.114066  1.252765e+07   \n",
       "std    1.820269e+07   97166.149197  1.144543e+06      5.596429  6.719505e+07   \n",
       "min    0.000000e+00       2.000000  3.000000e+00      0.000000  0.000000e+00   \n",
       "25%    0.000000e+00   22969.250000  8.093450e+04      0.453325  0.000000e+00   \n",
       "50%    0.000000e+00   51789.000000  2.363165e+05      1.290035  0.000000e+00   \n",
       "75%    0.000000e+00  125163.250000  1.327770e+06      4.358514  0.000000e+00   \n",
       "max    3.800000e+08  469172.000000  6.098922e+06    547.488298  2.787965e+09   \n",
       "\n",
       "            runtime  vote_average    vote_count    IMDB Score     num_faces  \\\n",
       "count  37062.000000  37210.000000  37210.000000  37193.000000  37210.000000   \n",
       "mean      96.065242      5.717186    123.099973      6.409185      0.563612   \n",
       "std       37.338853      1.796600    518.225290      1.142621      0.922337   \n",
       "min        0.000000      0.000000      0.000000      1.200000      0.000000   \n",
       "25%       86.000000      5.100000      4.000000      5.800000      0.000000   \n",
       "50%       95.000000      6.000000     11.000000      6.600000      0.000000   \n",
       "75%      108.000000      6.800000     42.000000      7.200000      1.000000   \n",
       "max     1256.000000     10.000000  14075.000000      9.500000     16.000000   \n",
       "\n",
       "       ...           hue  brightness_sd  saturation_sd         hue_sd  \\\n",
       "count  ...  37210.000000   37210.000000    37210.000000  37210.000000   \n",
       "mean   ...     54.121472      72.888216       66.108829     44.692045   \n",
       "std    ...     28.890712      15.745163       19.977247     16.171165   \n",
       "min    ...      0.000000       1.183370        0.000000      0.000000   \n",
       "25%    ...     30.549816      62.818346       53.854725     34.489826   \n",
       "50%    ...     50.157406      73.247646       66.716290     45.677917   \n",
       "75%    ...     74.505922      83.473024       79.505317     55.664458   \n",
       "max    ...    174.309900     125.836770      125.016174     88.502696   \n",
       "\n",
       "               blue       blue_sd         green      green_sd           red  \\\n",
       "count  37210.000000  37210.000000  37210.000000  37210.000000  37210.000000   \n",
       "mean     102.676043     69.147140    112.402166     72.107912    127.214442   \n",
       "std       49.732066     18.623296     48.762495     16.121290     51.192335   \n",
       "min        0.882752      1.977672      0.726561      1.651825      1.337270   \n",
       "25%       63.103481     56.652542     73.914467     61.786961     87.503894   \n",
       "50%       98.034244     69.919507    110.593031     72.334171    127.259378   \n",
       "75%      139.488232     82.423853    149.611802     82.938145    167.770281   \n",
       "max      253.928587    125.838671    251.624791    125.841819    253.605869   \n",
       "\n",
       "            red_sd   \n",
       "count  37210.000000  \n",
       "mean      75.265465  \n",
       "std       15.793882  \n",
       "min        1.244778  \n",
       "25%       65.441396  \n",
       "50%       75.881237  \n",
       "75%       86.003713  \n",
       "max      125.837170  \n",
       "\n",
       "[8 rows x 22 columns]"
      ]
     },
     "execution_count": 8,
     "metadata": {},
     "output_type": "execute_result"
    }
   ],
   "source": [
    "preprocessedDF.describe()"
   ]
  },
  {
   "cell_type": "code",
   "execution_count": 9,
   "metadata": {
    "id": "93FfmZQp8UZQ"
   },
   "outputs": [],
   "source": [
    "all_data = preprocessedDF"
   ]
  },
  {
   "cell_type": "code",
   "execution_count": 10,
   "metadata": {
    "id": "zD5dDuKBeA6b"
   },
   "outputs": [],
   "source": [
    "all_data = all_data.drop(columns=['adult', 'belongs_to_collection', 'budget', 'genres', 'homepage', 'id', 'imdb_id', 'popularity', 'poster_path', 'revenue', \n",
    "                                  'spoken_languages', 'status', 'tagline', 'title', 'video', 'vote_average', 'vote_count', 'posterID', 'Imdb Link', 'Title', 'Poster'], axis=1)"
   ]
  },
  {
   "cell_type": "code",
   "execution_count": 11,
   "metadata": {
    "colab": {
     "base_uri": "https://localhost:8080/"
    },
    "id": "aOzQv-L2fAjh",
    "outputId": "4b5c99e2-503e-42d2-c357-a949b38bc595"
   },
   "outputs": [
    {
     "data": {
      "text/plain": [
       "(37210, 25)"
      ]
     },
     "execution_count": 11,
     "metadata": {},
     "output_type": "execute_result"
    }
   ],
   "source": [
    "all_data.shape"
   ]
  },
  {
   "cell_type": "code",
   "execution_count": 12,
   "metadata": {
    "id": "Alu3NsfNZlaJ"
   },
   "outputs": [],
   "source": [
    "all_data = all_data.dropna()"
   ]
  },
  {
   "cell_type": "code",
   "execution_count": 13,
   "metadata": {
    "colab": {
     "base_uri": "https://localhost:8080/"
    },
    "id": "S4DXyi4sZrRs",
    "outputId": "62856b97-3a0e-4c42-d5c4-fa1b5414013d"
   },
   "outputs": [
    {
     "data": {
      "text/plain": [
       "(36435, 25)"
      ]
     },
     "execution_count": 13,
     "metadata": {},
     "output_type": "execute_result"
    }
   ],
   "source": [
    "all_data.shape"
   ]
  },
  {
   "cell_type": "code",
   "execution_count": 14,
   "metadata": {
    "colab": {
     "base_uri": "https://localhost:8080/",
     "height": 694
    },
    "id": "lbEZ3sSHNQhJ",
    "outputId": "897a857f-24e3-43ff-fd63-87b9315cdc22"
   },
   "outputs": [
    {
     "data": {
      "text/html": [
       "<div>\n",
       "<style scoped>\n",
       "    .dataframe tbody tr th:only-of-type {\n",
       "        vertical-align: middle;\n",
       "    }\n",
       "\n",
       "    .dataframe tbody tr th {\n",
       "        vertical-align: top;\n",
       "    }\n",
       "\n",
       "    .dataframe thead th {\n",
       "        text-align: right;\n",
       "    }\n",
       "</style>\n",
       "<table border=\"1\" class=\"dataframe\">\n",
       "  <thead>\n",
       "    <tr style=\"text-align: right;\">\n",
       "      <th></th>\n",
       "      <th>original_language</th>\n",
       "      <th>original_title</th>\n",
       "      <th>overview</th>\n",
       "      <th>production_companies</th>\n",
       "      <th>production_countries</th>\n",
       "      <th>release_date</th>\n",
       "      <th>runtime</th>\n",
       "      <th>cast</th>\n",
       "      <th>crew</th>\n",
       "      <th>keywords</th>\n",
       "      <th>...</th>\n",
       "      <th>hue</th>\n",
       "      <th>brightness_sd</th>\n",
       "      <th>saturation_sd</th>\n",
       "      <th>hue_sd</th>\n",
       "      <th>blue</th>\n",
       "      <th>blue_sd</th>\n",
       "      <th>green</th>\n",
       "      <th>green_sd</th>\n",
       "      <th>red</th>\n",
       "      <th>red_sd</th>\n",
       "    </tr>\n",
       "  </thead>\n",
       "  <tbody>\n",
       "    <tr>\n",
       "      <th>0</th>\n",
       "      <td>en</td>\n",
       "      <td>Toy Story</td>\n",
       "      <td>Led by Woody, Andy's toys live happily in his ...</td>\n",
       "      <td>[{'name': 'Pixar Animation Studios', 'id': 3}]</td>\n",
       "      <td>[{'iso_3166_1': 'US', 'name': 'United States o...</td>\n",
       "      <td>1995-10-30</td>\n",
       "      <td>81.0</td>\n",
       "      <td>[{'cast_id': 14, 'character': 'Woody (voice)',...</td>\n",
       "      <td>[{'credit_id': '52fe4284c3a36847f8024f49', 'de...</td>\n",
       "      <td>[{'id': 931, 'name': 'jealousy'}, {'id': 4290,...</td>\n",
       "      <td>...</td>\n",
       "      <td>82.805137</td>\n",
       "      <td>58.496526</td>\n",
       "      <td>80.933495</td>\n",
       "      <td>46.984021</td>\n",
       "      <td>147.046133</td>\n",
       "      <td>83.046441</td>\n",
       "      <td>127.812661</td>\n",
       "      <td>59.618615</td>\n",
       "      <td>79.571854</td>\n",
       "      <td>88.574055</td>\n",
       "    </tr>\n",
       "    <tr>\n",
       "      <th>1</th>\n",
       "      <td>en</td>\n",
       "      <td>Jumanji</td>\n",
       "      <td>When siblings Judy and Peter discover an encha...</td>\n",
       "      <td>[{'name': 'TriStar Pictures', 'id': 559}, {'na...</td>\n",
       "      <td>[{'iso_3166_1': 'US', 'name': 'United States o...</td>\n",
       "      <td>1995-12-15</td>\n",
       "      <td>104.0</td>\n",
       "      <td>[{'cast_id': 1, 'character': 'Alan Parrish', '...</td>\n",
       "      <td>[{'credit_id': '52fe44bfc3a36847f80a7cd1', 'de...</td>\n",
       "      <td>[{'id': 10090, 'name': 'board game'}, {'id': 1...</td>\n",
       "      <td>...</td>\n",
       "      <td>65.296239</td>\n",
       "      <td>83.413251</td>\n",
       "      <td>67.319422</td>\n",
       "      <td>61.296055</td>\n",
       "      <td>132.472598</td>\n",
       "      <td>84.508776</td>\n",
       "      <td>137.041430</td>\n",
       "      <td>79.140584</td>\n",
       "      <td>137.619493</td>\n",
       "      <td>85.319415</td>\n",
       "    </tr>\n",
       "    <tr>\n",
       "      <th>2</th>\n",
       "      <td>en</td>\n",
       "      <td>Grumpier Old Men</td>\n",
       "      <td>A family wedding reignites the ancient feud be...</td>\n",
       "      <td>[{'name': 'Warner Bros.', 'id': 6194}, {'name'...</td>\n",
       "      <td>[{'iso_3166_1': 'US', 'name': 'United States o...</td>\n",
       "      <td>1995-12-22</td>\n",
       "      <td>101.0</td>\n",
       "      <td>[{'cast_id': 2, 'character': 'Max Goldman', 'c...</td>\n",
       "      <td>[{'credit_id': '52fe466a9251416c75077a89', 'de...</td>\n",
       "      <td>[{'id': 1495, 'name': 'fishing'}, {'id': 12392...</td>\n",
       "      <td>...</td>\n",
       "      <td>48.908106</td>\n",
       "      <td>94.073346</td>\n",
       "      <td>70.979805</td>\n",
       "      <td>65.406756</td>\n",
       "      <td>97.464385</td>\n",
       "      <td>78.935691</td>\n",
       "      <td>106.743824</td>\n",
       "      <td>89.725921</td>\n",
       "      <td>136.728580</td>\n",
       "      <td>96.124722</td>\n",
       "    </tr>\n",
       "    <tr>\n",
       "      <th>3</th>\n",
       "      <td>en</td>\n",
       "      <td>Waiting to Exhale</td>\n",
       "      <td>Cheated on, mistreated and stepped on, the wom...</td>\n",
       "      <td>[{'name': 'Twentieth Century Fox Film Corporat...</td>\n",
       "      <td>[{'iso_3166_1': 'US', 'name': 'United States o...</td>\n",
       "      <td>1995-12-22</td>\n",
       "      <td>127.0</td>\n",
       "      <td>[{'cast_id': 1, 'character': \"Savannah 'Vannah...</td>\n",
       "      <td>[{'credit_id': '52fe44779251416c91011acb', 'de...</td>\n",
       "      <td>[{'id': 818, 'name': 'based on novel'}, {'id':...</td>\n",
       "      <td>...</td>\n",
       "      <td>43.298337</td>\n",
       "      <td>71.637853</td>\n",
       "      <td>74.316934</td>\n",
       "      <td>57.431210</td>\n",
       "      <td>148.388970</td>\n",
       "      <td>88.371216</td>\n",
       "      <td>161.866089</td>\n",
       "      <td>82.379306</td>\n",
       "      <td>191.924122</td>\n",
       "      <td>72.849543</td>\n",
       "    </tr>\n",
       "    <tr>\n",
       "      <th>4</th>\n",
       "      <td>en</td>\n",
       "      <td>Father of the Bride Part II</td>\n",
       "      <td>Just when George Banks has recovered from his ...</td>\n",
       "      <td>[{'name': 'Sandollar Productions', 'id': 5842}...</td>\n",
       "      <td>[{'iso_3166_1': 'US', 'name': 'United States o...</td>\n",
       "      <td>1995-02-10</td>\n",
       "      <td>106.0</td>\n",
       "      <td>[{'cast_id': 1, 'character': 'George Banks', '...</td>\n",
       "      <td>[{'credit_id': '52fe44959251416c75039ed7', 'de...</td>\n",
       "      <td>[{'id': 1009, 'name': 'baby'}, {'id': 1599, 'n...</td>\n",
       "      <td>...</td>\n",
       "      <td>19.093691</td>\n",
       "      <td>102.482222</td>\n",
       "      <td>85.251258</td>\n",
       "      <td>28.312941</td>\n",
       "      <td>94.287052</td>\n",
       "      <td>98.054007</td>\n",
       "      <td>110.440328</td>\n",
       "      <td>99.236678</td>\n",
       "      <td>136.537094</td>\n",
       "      <td>104.796367</td>\n",
       "    </tr>\n",
       "  </tbody>\n",
       "</table>\n",
       "<p>5 rows × 25 columns</p>\n",
       "</div>"
      ],
      "text/plain": [
       "  original_language               original_title  \\\n",
       "0                en                    Toy Story   \n",
       "1                en                      Jumanji   \n",
       "2                en             Grumpier Old Men   \n",
       "3                en            Waiting to Exhale   \n",
       "4                en  Father of the Bride Part II   \n",
       "\n",
       "                                            overview  \\\n",
       "0  Led by Woody, Andy's toys live happily in his ...   \n",
       "1  When siblings Judy and Peter discover an encha...   \n",
       "2  A family wedding reignites the ancient feud be...   \n",
       "3  Cheated on, mistreated and stepped on, the wom...   \n",
       "4  Just when George Banks has recovered from his ...   \n",
       "\n",
       "                                production_companies  \\\n",
       "0     [{'name': 'Pixar Animation Studios', 'id': 3}]   \n",
       "1  [{'name': 'TriStar Pictures', 'id': 559}, {'na...   \n",
       "2  [{'name': 'Warner Bros.', 'id': 6194}, {'name'...   \n",
       "3  [{'name': 'Twentieth Century Fox Film Corporat...   \n",
       "4  [{'name': 'Sandollar Productions', 'id': 5842}...   \n",
       "\n",
       "                                production_countries release_date  runtime  \\\n",
       "0  [{'iso_3166_1': 'US', 'name': 'United States o...   1995-10-30     81.0   \n",
       "1  [{'iso_3166_1': 'US', 'name': 'United States o...   1995-12-15    104.0   \n",
       "2  [{'iso_3166_1': 'US', 'name': 'United States o...   1995-12-22    101.0   \n",
       "3  [{'iso_3166_1': 'US', 'name': 'United States o...   1995-12-22    127.0   \n",
       "4  [{'iso_3166_1': 'US', 'name': 'United States o...   1995-02-10    106.0   \n",
       "\n",
       "                                                cast  \\\n",
       "0  [{'cast_id': 14, 'character': 'Woody (voice)',...   \n",
       "1  [{'cast_id': 1, 'character': 'Alan Parrish', '...   \n",
       "2  [{'cast_id': 2, 'character': 'Max Goldman', 'c...   \n",
       "3  [{'cast_id': 1, 'character': \"Savannah 'Vannah...   \n",
       "4  [{'cast_id': 1, 'character': 'George Banks', '...   \n",
       "\n",
       "                                                crew  \\\n",
       "0  [{'credit_id': '52fe4284c3a36847f8024f49', 'de...   \n",
       "1  [{'credit_id': '52fe44bfc3a36847f80a7cd1', 'de...   \n",
       "2  [{'credit_id': '52fe466a9251416c75077a89', 'de...   \n",
       "3  [{'credit_id': '52fe44779251416c91011acb', 'de...   \n",
       "4  [{'credit_id': '52fe44959251416c75039ed7', 'de...   \n",
       "\n",
       "                                            keywords  ...        hue  \\\n",
       "0  [{'id': 931, 'name': 'jealousy'}, {'id': 4290,...  ...  82.805137   \n",
       "1  [{'id': 10090, 'name': 'board game'}, {'id': 1...  ...  65.296239   \n",
       "2  [{'id': 1495, 'name': 'fishing'}, {'id': 12392...  ...  48.908106   \n",
       "3  [{'id': 818, 'name': 'based on novel'}, {'id':...  ...  43.298337   \n",
       "4  [{'id': 1009, 'name': 'baby'}, {'id': 1599, 'n...  ...  19.093691   \n",
       "\n",
       "  brightness_sd  saturation_sd      hue_sd        blue    blue_sd       green  \\\n",
       "0     58.496526       80.933495  46.984021  147.046133  83.046441  127.812661   \n",
       "1     83.413251       67.319422  61.296055  132.472598  84.508776  137.041430   \n",
       "2     94.073346       70.979805  65.406756   97.464385  78.935691  106.743824   \n",
       "3     71.637853       74.316934  57.431210  148.388970  88.371216  161.866089   \n",
       "4    102.482222       85.251258  28.312941   94.287052  98.054007  110.440328   \n",
       "\n",
       "    green_sd         red     red_sd   \n",
       "0  59.618615   79.571854   88.574055  \n",
       "1  79.140584  137.619493   85.319415  \n",
       "2  89.725921  136.728580   96.124722  \n",
       "3  82.379306  191.924122   72.849543  \n",
       "4  99.236678  136.537094  104.796367  \n",
       "\n",
       "[5 rows x 25 columns]"
      ]
     },
     "execution_count": 14,
     "metadata": {},
     "output_type": "execute_result"
    }
   ],
   "source": [
    "all_data.head()"
   ]
  },
  {
   "cell_type": "code",
   "execution_count": 15,
   "metadata": {
    "id": "u_-IIZSeKYbW"
   },
   "outputs": [],
   "source": [
    "def graph_create_dictionary_overview(messages, min_count, tokenizer):\n",
    "    #stop_words = []\n",
    "    #with open(path2,'r') as f:\n",
    "    #  for x in f:\n",
    "    #    stop_words.append(x[:-1])\n",
    "\n",
    "    words_count = {}\n",
    "    for i in tqdm(range(len(messages))):\n",
    "        s = messages[i]\n",
    "        words = get_words(s, tokenizer)\n",
    "        words_unique = list(dict.fromkeys(words))\n",
    "        for w in words_unique:\n",
    "          if (len(w)<=1) or (w.lower() in stop_words_set) or (not w.isalpha()):\n",
    "            continue\n",
    "          if w.lower() not in words_count:\n",
    "            words_count[w.lower()] = 1\n",
    "          else:\n",
    "            words_count[w.lower()] += 1\n",
    "\n",
    "    for word in list(words_count.keys()):\n",
    "        if (words_count[word] < min_count) or word=='':\n",
    "            del words_count[word]\n",
    "\n",
    "    return words_count"
   ]
  },
  {
   "cell_type": "code",
   "execution_count": 16,
   "metadata": {
    "id": "Gccb3RFxJ1GS"
   },
   "outputs": [],
   "source": [
    "#tokenizer = spacy.load(\"en_core_web_sm\", disable=[\"tagger\", \"parser\", \"ner\", \"lemmatizer\"])\n",
    "#graph_overview_dictionary = graph_create_dictionary_overview(\n",
    "#    all_data['overview'], 75, tokenizer)\n",
    "#print('Size of dictionary: ', len(graph_overview_dictionary))\n",
    "# print(overview_dictionary)"
   ]
  },
  {
   "cell_type": "code",
   "execution_count": 17,
   "metadata": {
    "id": "ex49E495KvUt"
   },
   "outputs": [],
   "source": [
    "#from wordcloud import WordCloud\n",
    "#wordcloud = WordCloud()\n",
    "#wordcloud.generate_from_frequencies(frequencies=graph_overview_dictionary)\n",
    "#plt.figure(figsize=(15,15))\n",
    "#plt.imshow(wordcloud)\n",
    "#plt.axis(\"off\")\n",
    "#plt.show()"
   ]
  },
  {
   "cell_type": "code",
   "execution_count": 18,
   "metadata": {
    "colab": {
     "base_uri": "https://localhost:8080/"
    },
    "id": "HDcLr3fI8UZS",
    "outputId": "f9bc824b-a4fc-4f50-cb93-d57f88615d51"
   },
   "outputs": [
    {
     "name": "stdout",
     "output_type": "stream",
     "text": [
      "(36435, 25)\n"
     ]
    }
   ],
   "source": [
    "#all_data = all_data[all_data.original_language == 'en']\n",
    "print(all_data.shape)"
   ]
  },
  {
   "cell_type": "code",
   "execution_count": 19,
   "metadata": {
    "colab": {
     "base_uri": "https://localhost:8080/"
    },
    "id": "zJCFbGJ_XG-i",
    "outputId": "aee17959-f7a4-4a84-e697-8380543ed43c"
   },
   "outputs": [
    {
     "name": "stdout",
     "output_type": "stream",
     "text": [
      "36435\n"
     ]
    }
   ],
   "source": [
    "original_language_series = all_data['original_language']\n",
    "print(len(original_language_series))\n",
    "original_language_series = original_language_series.drop_duplicates()"
   ]
  },
  {
   "cell_type": "code",
   "execution_count": 20,
   "metadata": {
    "colab": {
     "base_uri": "https://localhost:8080/"
    },
    "id": "B6MEPiCxXWmx",
    "outputId": "76df7fa6-30e4-4ac5-d9e8-d4c771ad4186"
   },
   "outputs": [
    {
     "data": {
      "text/plain": [
       "87"
      ]
     },
     "execution_count": 20,
     "metadata": {},
     "output_type": "execute_result"
    }
   ],
   "source": [
    "len(original_language_series)"
   ]
  },
  {
   "cell_type": "code",
   "execution_count": 21,
   "metadata": {
    "id": "mJ-904etfjMu"
   },
   "outputs": [],
   "source": [
    "def create_original_languages_dictionary(ss):\n",
    "  ol_dict = {}\n",
    "  idx = 1\n",
    "  for x in ss:\n",
    "    ol_dict[x] = idx\n",
    "    idx+=1\n",
    "  return ol_dict"
   ]
  },
  {
   "cell_type": "code",
   "execution_count": 22,
   "metadata": {
    "colab": {
     "base_uri": "https://localhost:8080/"
    },
    "id": "w216gDhGgZgL",
    "outputId": "b0b8f6f2-bb03-4b43-f610-b0a2286271f2"
   },
   "outputs": [],
   "source": [
    "original_language_dictionary = create_original_languages_dictionary(original_language_series)"
   ]
  },
  {
   "cell_type": "code",
   "execution_count": 23,
   "metadata": {
    "id": "jmmNtSChYSSD"
   },
   "outputs": [],
   "source": [
    "for itr in all_data.index:\n",
    "  all_data.at[itr, 'original_language'] = original_language_dictionary[all_data.at[itr, 'original_language']]"
   ]
  },
  {
   "cell_type": "code",
   "execution_count": 24,
   "metadata": {
    "colab": {
     "base_uri": "https://localhost:8080/"
    },
    "id": "A54HYMqO8UZT",
    "outputId": "11ff680a-c1f2-49d0-8846-7b7683484e65"
   },
   "outputs": [
    {
     "name": "stdout",
     "output_type": "stream",
     "text": [
      "(36435, 25)\n"
     ]
    }
   ],
   "source": [
    "pd.to_datetime(all_data.release_date)\n",
    "all_data['year'] = pd.DatetimeIndex(all_data['release_date']).year\n",
    "all_data = all_data.drop(columns=['release_date'], axis=1)\n",
    "print(all_data.shape)"
   ]
  },
  {
   "cell_type": "code",
   "execution_count": 25,
   "metadata": {
    "id": "OoGxiSeFl6ei"
   },
   "outputs": [],
   "source": [
    "#change value based on EDA\n",
    "#all_data = all_data.loc[all_data.year > 1960]"
   ]
  },
  {
   "cell_type": "code",
   "execution_count": 26,
   "metadata": {
    "id": "IDdTh0Xy8UZU"
   },
   "outputs": [],
   "source": [
    "#score_by_genre = all_data.groupby(['Genre'])['IMDB Score'].agg(['mean', 'count']).sort_values(by='mean')\n",
    "#score_by_genre[score_by_genre['count'] > 0]"
   ]
  },
  {
   "cell_type": "code",
   "execution_count": 27,
   "metadata": {
    "id": "gY4ze_y08UZX"
   },
   "outputs": [],
   "source": [
    "from ast import literal_eval"
   ]
  },
  {
   "cell_type": "code",
   "execution_count": 28,
   "metadata": {
    "id": "l7INBMSOnQ-_"
   },
   "outputs": [],
   "source": [
    "def get_production_companies(l):\n",
    "  if isinstance(l, list):\n",
    "    productionCompanies = [pc['name'] for pc in l]\n",
    "    return '|'.join(productionCompanies)\n",
    "  return ''"
   ]
  },
  {
   "cell_type": "code",
   "execution_count": 29,
   "metadata": {
    "id": "W1MrNXj-pY9F"
   },
   "outputs": [],
   "source": [
    "def get_production_countries(l):\n",
    "  if isinstance(l, list):\n",
    "    #productionCountries = [pc['iso_3166_1'] for pc in l]\n",
    "    #return '|'.join(productionCountries)\n",
    "    if len(l)>0:\n",
    "      return l[0]['iso_3166_1']\n",
    "  return ''"
   ]
  },
  {
   "cell_type": "code",
   "execution_count": 30,
   "metadata": {
    "id": "CNQA08Of9cya"
   },
   "outputs": [],
   "source": [
    "def get_keywords(l):\n",
    "  if isinstance(l, list):\n",
    "    # temp = [x.split() for x in l]\n",
    "      # return temp\n",
    "    # words = [x['name'] for x in l]\n",
    "    # print(l)\n",
    "    # print(words)\n",
    "    words = [x['name'] for x in l]\n",
    "    allWords = []\n",
    "    for word in words:\n",
    "      temp = word.split()\n",
    "      for t in temp:\n",
    "        allWords.append(t)\n",
    "    # print(allWords)\n",
    "    allWords = set(allWords)\n",
    "    keyWords = ['keyword-' + w for w in allWords]\n",
    "    return '|'.join(keyWords)\n",
    "  return ''"
   ]
  },
  {
   "cell_type": "code",
   "execution_count": 31,
   "metadata": {},
   "outputs": [
    {
     "data": {
      "text/plain": [
       "'keyword-film|keyword-prison|keyword-break|keyword-silent|keyword-trick'"
      ]
     },
     "execution_count": 31,
     "metadata": {},
     "output_type": "execute_result"
    }
   ],
   "source": [
    "words= [{'id': 154802, 'name': 'silent film'}, {'id': 191047,\n",
    "                                         'name': 'prison break'}, {'id': 211467, 'name': 'trick film'}]\n",
    "get_keywords(words)\n"
   ]
  },
  {
   "cell_type": "code",
   "execution_count": 32,
   "metadata": {
    "id": "fcK8HORSEqjv"
   },
   "outputs": [],
   "source": [
    "def get_original_title(s):\n",
    "  if isinstance(s, str):\n",
    "    s = s.lower()\n",
    "    temp = s.split()\n",
    "    temp2 = [x for x in temp if x not in stop_words_set]\n",
    "    #print(len(temp) - len(temp2))\n",
    "    title_words = ['title-' + t for t in temp2]\n",
    "    return '|'.join(title_words)\n",
    "  return ''"
   ]
  },
  {
   "cell_type": "code",
   "execution_count": 33,
   "metadata": {
    "id": "jbcvVCAQ8UZY"
   },
   "outputs": [],
   "source": [
    "def get_director(l):\n",
    "  for d in l:\n",
    "    if d['job'] == 'Director':\n",
    "      return d['name']\n",
    "  return ''\n",
    "\n",
    "def get_actors(l):\n",
    "    if isinstance(l, list):\n",
    "        actors = [d['name'] for d in l]\n",
    "        if len(actors) >= 3:\n",
    "            actors = actors[:3]\n",
    "            return '|'.join(actors)\n",
    "        return '|'.join(actors)\n",
    "\n",
    "\n",
    "directors = all_data['crew'].apply(literal_eval).apply(get_director)\n",
    "top_actors = all_data['cast'].apply(literal_eval).apply(get_actors)"
   ]
  },
  {
   "cell_type": "code",
   "execution_count": 34,
   "metadata": {
    "id": "nOxAnB-Vn0gt"
   },
   "outputs": [],
   "source": [
    "production_companies = all_data['production_companies'].apply(literal_eval).apply(get_production_companies)"
   ]
  },
  {
   "cell_type": "code",
   "execution_count": 35,
   "metadata": {
    "id": "rP-jLzTpp3NH"
   },
   "outputs": [],
   "source": [
    "production_countries = all_data['production_countries'].apply(literal_eval).apply(get_production_countries)"
   ]
  },
  {
   "cell_type": "code",
   "execution_count": 36,
   "metadata": {
    "id": "9mDobmgXBuwf"
   },
   "outputs": [],
   "source": [
    "keywords = all_data['keywords'].apply(literal_eval).apply(get_keywords)"
   ]
  },
  {
   "cell_type": "code",
   "execution_count": 37,
   "metadata": {
    "colab": {
     "base_uri": "https://localhost:8080/"
    },
    "id": "XIWYIo46FNFP",
    "outputId": "172c644c-b63c-4f09-ccf9-051054735a78"
   },
   "outputs": [],
   "source": [
    "original_title = all_data['original_title'].apply(get_original_title)"
   ]
  },
  {
   "cell_type": "code",
   "execution_count": 38,
   "metadata": {
    "id": "Z1AosHjV8UZZ"
   },
   "outputs": [],
   "source": [
    "all_data['director'] = directors\n"
   ]
  },
  {
   "cell_type": "code",
   "execution_count": 39,
   "metadata": {},
   "outputs": [],
   "source": [
    "all_data['actors'] = top_actors"
   ]
  },
  {
   "cell_type": "code",
   "execution_count": 40,
   "metadata": {},
   "outputs": [],
   "source": [
    "all_data['production_companies'] = production_companies"
   ]
  },
  {
   "cell_type": "code",
   "execution_count": 41,
   "metadata": {},
   "outputs": [],
   "source": [
    "all_data['production_countries'] = production_countries\n",
    "\n"
   ]
  },
  {
   "cell_type": "code",
   "execution_count": 42,
   "metadata": {},
   "outputs": [],
   "source": [
    "all_data['keywords'] = keywords\n",
    "\n"
   ]
  },
  {
   "cell_type": "code",
   "execution_count": 43,
   "metadata": {},
   "outputs": [],
   "source": [
    "all_data['original_title'] = original_title\n"
   ]
  },
  {
   "cell_type": "code",
   "execution_count": 44,
   "metadata": {},
   "outputs": [
    {
     "data": {
      "text/plain": [
       "(36435, 27)"
      ]
     },
     "execution_count": 44,
     "metadata": {},
     "output_type": "execute_result"
    }
   ],
   "source": [
    "all_data.shape"
   ]
  },
  {
   "cell_type": "code",
   "execution_count": 45,
   "metadata": {},
   "outputs": [],
   "source": [
    "all_data = all_data.replace(r'^\\s*$', np.NaN, regex=True)"
   ]
  },
  {
   "cell_type": "code",
   "execution_count": 46,
   "metadata": {},
   "outputs": [],
   "source": [
    "all_data = all_data.dropna()"
   ]
  },
  {
   "cell_type": "code",
   "execution_count": 47,
   "metadata": {},
   "outputs": [
    {
     "data": {
      "text/plain": [
       "(21879, 27)"
      ]
     },
     "execution_count": 47,
     "metadata": {},
     "output_type": "execute_result"
    }
   ],
   "source": [
    "all_data.shape"
   ]
  },
  {
   "cell_type": "code",
   "execution_count": 48,
   "metadata": {
    "colab": {
     "base_uri": "https://localhost:8080/"
    },
    "id": "k4ZxsFndoZbj",
    "outputId": "364de9c9-c9ca-4290-869c-4e62bcefdc4d"
   },
   "outputs": [
    {
     "data": {
      "text/plain": [
       "Index(['original_language', 'original_title', 'overview',\n",
       "       'production_companies', 'production_countries', 'runtime', 'cast',\n",
       "       'crew', 'keywords', 'IMDB Score', 'Genre', 'num_faces', 'brightness',\n",
       "       'saturation', 'hue', 'brightness_sd', 'saturation_sd ', 'hue_sd',\n",
       "       'blue', 'blue_sd', 'green', 'green_sd', 'red', 'red_sd ', 'year',\n",
       "       'director', 'actors'],\n",
       "      dtype='object')"
      ]
     },
     "execution_count": 48,
     "metadata": {},
     "output_type": "execute_result"
    }
   ],
   "source": [
    "all_data.columns"
   ]
  },
  {
   "cell_type": "code",
   "execution_count": 49,
   "metadata": {
    "colab": {
     "base_uri": "https://localhost:8080/",
     "height": 677
    },
    "id": "6NRc1WXbNrWt",
    "outputId": "3ce61917-5092-454f-a266-017da4d1ecfe"
   },
   "outputs": [
    {
     "data": {
      "text/html": [
       "<div>\n",
       "<style scoped>\n",
       "    .dataframe tbody tr th:only-of-type {\n",
       "        vertical-align: middle;\n",
       "    }\n",
       "\n",
       "    .dataframe tbody tr th {\n",
       "        vertical-align: top;\n",
       "    }\n",
       "\n",
       "    .dataframe thead th {\n",
       "        text-align: right;\n",
       "    }\n",
       "</style>\n",
       "<table border=\"1\" class=\"dataframe\">\n",
       "  <thead>\n",
       "    <tr style=\"text-align: right;\">\n",
       "      <th></th>\n",
       "      <th>original_language</th>\n",
       "      <th>original_title</th>\n",
       "      <th>overview</th>\n",
       "      <th>production_companies</th>\n",
       "      <th>production_countries</th>\n",
       "      <th>runtime</th>\n",
       "      <th>cast</th>\n",
       "      <th>crew</th>\n",
       "      <th>keywords</th>\n",
       "      <th>IMDB Score</th>\n",
       "      <th>...</th>\n",
       "      <th>hue_sd</th>\n",
       "      <th>blue</th>\n",
       "      <th>blue_sd</th>\n",
       "      <th>green</th>\n",
       "      <th>green_sd</th>\n",
       "      <th>red</th>\n",
       "      <th>red_sd</th>\n",
       "      <th>year</th>\n",
       "      <th>director</th>\n",
       "      <th>actors</th>\n",
       "    </tr>\n",
       "  </thead>\n",
       "  <tbody>\n",
       "    <tr>\n",
       "      <th>0</th>\n",
       "      <td>1</td>\n",
       "      <td>title-toy|title-story</td>\n",
       "      <td>Led by Woody, Andy's toys live happily in his ...</td>\n",
       "      <td>Pixar Animation Studios</td>\n",
       "      <td>US</td>\n",
       "      <td>81.0</td>\n",
       "      <td>[{'cast_id': 14, 'character': 'Woody (voice)',...</td>\n",
       "      <td>[{'credit_id': '52fe4284c3a36847f8024f49', 'de...</td>\n",
       "      <td>keyword-rivalry|keyword-door|keyword-next|keyw...</td>\n",
       "      <td>8.3</td>\n",
       "      <td>...</td>\n",
       "      <td>46.984021</td>\n",
       "      <td>147.046133</td>\n",
       "      <td>83.046441</td>\n",
       "      <td>127.812661</td>\n",
       "      <td>59.618615</td>\n",
       "      <td>79.571854</td>\n",
       "      <td>88.574055</td>\n",
       "      <td>1995</td>\n",
       "      <td>John Lasseter</td>\n",
       "      <td>Tom Hanks|Tim Allen|Don Rickles</td>\n",
       "    </tr>\n",
       "    <tr>\n",
       "      <th>1</th>\n",
       "      <td>1</td>\n",
       "      <td>title-jumanji</td>\n",
       "      <td>When siblings Judy and Peter discover an encha...</td>\n",
       "      <td>TriStar Pictures|Teitler Film|Interscope Commu...</td>\n",
       "      <td>US</td>\n",
       "      <td>104.0</td>\n",
       "      <td>[{'cast_id': 1, 'character': 'Alan Parrish', '...</td>\n",
       "      <td>[{'credit_id': '52fe44bfc3a36847f80a7cd1', 'de...</td>\n",
       "      <td>keyword-recluse|keyword-based|keyword-game|key...</td>\n",
       "      <td>6.9</td>\n",
       "      <td>...</td>\n",
       "      <td>61.296055</td>\n",
       "      <td>132.472598</td>\n",
       "      <td>84.508776</td>\n",
       "      <td>137.041430</td>\n",
       "      <td>79.140584</td>\n",
       "      <td>137.619493</td>\n",
       "      <td>85.319415</td>\n",
       "      <td>1995</td>\n",
       "      <td>Joe Johnston</td>\n",
       "      <td>Robin Williams|Jonathan Hyde|Kirsten Dunst</td>\n",
       "    </tr>\n",
       "    <tr>\n",
       "      <th>2</th>\n",
       "      <td>1</td>\n",
       "      <td>title-grumpier|title-old|title-men</td>\n",
       "      <td>A family wedding reignites the ancient feud be...</td>\n",
       "      <td>Warner Bros.|Lancaster Gate</td>\n",
       "      <td>US</td>\n",
       "      <td>101.0</td>\n",
       "      <td>[{'cast_id': 2, 'character': 'Max Goldman', 'c...</td>\n",
       "      <td>[{'credit_id': '52fe466a9251416c75077a89', 'de...</td>\n",
       "      <td>keyword-old|keyword-duringcreditsstinger|keywo...</td>\n",
       "      <td>6.6</td>\n",
       "      <td>...</td>\n",
       "      <td>65.406756</td>\n",
       "      <td>97.464385</td>\n",
       "      <td>78.935691</td>\n",
       "      <td>106.743824</td>\n",
       "      <td>89.725921</td>\n",
       "      <td>136.728580</td>\n",
       "      <td>96.124722</td>\n",
       "      <td>1995</td>\n",
       "      <td>Howard Deutch</td>\n",
       "      <td>Walter Matthau|Jack Lemmon|Ann-Margret</td>\n",
       "    </tr>\n",
       "    <tr>\n",
       "      <th>3</th>\n",
       "      <td>1</td>\n",
       "      <td>title-waiting|title-exhale</td>\n",
       "      <td>Cheated on, mistreated and stepped on, the wom...</td>\n",
       "      <td>Twentieth Century Fox Film Corporation</td>\n",
       "      <td>US</td>\n",
       "      <td>127.0</td>\n",
       "      <td>[{'cast_id': 1, 'character': \"Savannah 'Vannah...</td>\n",
       "      <td>[{'credit_id': '52fe44779251416c91011acb', 'de...</td>\n",
       "      <td>keyword-chick|keyword-based|keyword-mother|key...</td>\n",
       "      <td>5.7</td>\n",
       "      <td>...</td>\n",
       "      <td>57.431210</td>\n",
       "      <td>148.388970</td>\n",
       "      <td>88.371216</td>\n",
       "      <td>161.866089</td>\n",
       "      <td>82.379306</td>\n",
       "      <td>191.924122</td>\n",
       "      <td>72.849543</td>\n",
       "      <td>1995</td>\n",
       "      <td>Forest Whitaker</td>\n",
       "      <td>Whitney Houston|Angela Bassett|Loretta Devine</td>\n",
       "    </tr>\n",
       "    <tr>\n",
       "      <th>4</th>\n",
       "      <td>1</td>\n",
       "      <td>title-father|title-bride|title-part|title-ii</td>\n",
       "      <td>Just when George Banks has recovered from his ...</td>\n",
       "      <td>Sandollar Productions|Touchstone Pictures</td>\n",
       "      <td>US</td>\n",
       "      <td>106.0</td>\n",
       "      <td>[{'cast_id': 1, 'character': 'George Banks', '...</td>\n",
       "      <td>[{'credit_id': '52fe44959251416c75039ed7', 'de...</td>\n",
       "      <td>keyword-baby|keyword-mother|keyword-contracept...</td>\n",
       "      <td>5.9</td>\n",
       "      <td>...</td>\n",
       "      <td>28.312941</td>\n",
       "      <td>94.287052</td>\n",
       "      <td>98.054007</td>\n",
       "      <td>110.440328</td>\n",
       "      <td>99.236678</td>\n",
       "      <td>136.537094</td>\n",
       "      <td>104.796367</td>\n",
       "      <td>1995</td>\n",
       "      <td>Charles Shyer</td>\n",
       "      <td>Steve Martin|Diane Keaton|Martin Short</td>\n",
       "    </tr>\n",
       "  </tbody>\n",
       "</table>\n",
       "<p>5 rows × 27 columns</p>\n",
       "</div>"
      ],
      "text/plain": [
       "   original_language                                original_title  \\\n",
       "0                  1                         title-toy|title-story   \n",
       "1                  1                                 title-jumanji   \n",
       "2                  1            title-grumpier|title-old|title-men   \n",
       "3                  1                    title-waiting|title-exhale   \n",
       "4                  1  title-father|title-bride|title-part|title-ii   \n",
       "\n",
       "                                            overview  \\\n",
       "0  Led by Woody, Andy's toys live happily in his ...   \n",
       "1  When siblings Judy and Peter discover an encha...   \n",
       "2  A family wedding reignites the ancient feud be...   \n",
       "3  Cheated on, mistreated and stepped on, the wom...   \n",
       "4  Just when George Banks has recovered from his ...   \n",
       "\n",
       "                                production_companies production_countries  \\\n",
       "0                            Pixar Animation Studios                   US   \n",
       "1  TriStar Pictures|Teitler Film|Interscope Commu...                   US   \n",
       "2                        Warner Bros.|Lancaster Gate                   US   \n",
       "3             Twentieth Century Fox Film Corporation                   US   \n",
       "4          Sandollar Productions|Touchstone Pictures                   US   \n",
       "\n",
       "   runtime                                               cast  \\\n",
       "0     81.0  [{'cast_id': 14, 'character': 'Woody (voice)',...   \n",
       "1    104.0  [{'cast_id': 1, 'character': 'Alan Parrish', '...   \n",
       "2    101.0  [{'cast_id': 2, 'character': 'Max Goldman', 'c...   \n",
       "3    127.0  [{'cast_id': 1, 'character': \"Savannah 'Vannah...   \n",
       "4    106.0  [{'cast_id': 1, 'character': 'George Banks', '...   \n",
       "\n",
       "                                                crew  \\\n",
       "0  [{'credit_id': '52fe4284c3a36847f8024f49', 'de...   \n",
       "1  [{'credit_id': '52fe44bfc3a36847f80a7cd1', 'de...   \n",
       "2  [{'credit_id': '52fe466a9251416c75077a89', 'de...   \n",
       "3  [{'credit_id': '52fe44779251416c91011acb', 'de...   \n",
       "4  [{'credit_id': '52fe44959251416c75039ed7', 'de...   \n",
       "\n",
       "                                            keywords  IMDB Score  ...  \\\n",
       "0  keyword-rivalry|keyword-door|keyword-next|keyw...         8.3  ...   \n",
       "1  keyword-recluse|keyword-based|keyword-game|key...         6.9  ...   \n",
       "2  keyword-old|keyword-duringcreditsstinger|keywo...         6.6  ...   \n",
       "3  keyword-chick|keyword-based|keyword-mother|key...         5.7  ...   \n",
       "4  keyword-baby|keyword-mother|keyword-contracept...         5.9  ...   \n",
       "\n",
       "      hue_sd        blue    blue_sd       green   green_sd         red  \\\n",
       "0  46.984021  147.046133  83.046441  127.812661  59.618615   79.571854   \n",
       "1  61.296055  132.472598  84.508776  137.041430  79.140584  137.619493   \n",
       "2  65.406756   97.464385  78.935691  106.743824  89.725921  136.728580   \n",
       "3  57.431210  148.388970  88.371216  161.866089  82.379306  191.924122   \n",
       "4  28.312941   94.287052  98.054007  110.440328  99.236678  136.537094   \n",
       "\n",
       "      red_sd   year         director  \\\n",
       "0   88.574055  1995    John Lasseter   \n",
       "1   85.319415  1995     Joe Johnston   \n",
       "2   96.124722  1995    Howard Deutch   \n",
       "3   72.849543  1995  Forest Whitaker   \n",
       "4  104.796367  1995    Charles Shyer   \n",
       "\n",
       "                                          actors  \n",
       "0                Tom Hanks|Tim Allen|Don Rickles  \n",
       "1     Robin Williams|Jonathan Hyde|Kirsten Dunst  \n",
       "2         Walter Matthau|Jack Lemmon|Ann-Margret  \n",
       "3  Whitney Houston|Angela Bassett|Loretta Devine  \n",
       "4         Steve Martin|Diane Keaton|Martin Short  \n",
       "\n",
       "[5 rows x 27 columns]"
      ]
     },
     "execution_count": 49,
     "metadata": {},
     "output_type": "execute_result"
    }
   ],
   "source": [
    "all_data.head()"
   ]
  },
  {
   "cell_type": "code",
   "execution_count": 50,
   "metadata": {
    "id": "aAu4f7_-8UZb"
   },
   "outputs": [],
   "source": [
    "cols = ['original_language', 'original_title', 'overview',\n",
    "       'production_companies', 'production_countries', 'runtime', 'cast',\n",
    "       'crew', 'keywords', 'IMDB Score', 'Genre',\n",
    "       'num_faces', 'brightness', 'saturation', 'hue',\n",
    "       'brightness_sd', 'saturation_sd ', 'hue_sd', 'blue', 'blue_sd', 'green',\n",
    "       'green_sd', 'red', 'red_sd ', 'year', 'director', 'actors']\n",
    "\n",
    "new_cols = ['original_language', 'original_title', 'overview',\n",
    "       'production_companies', 'production_countries', 'runtime', 'cast',\n",
    "       'crew', 'keywords', 'IMDBscore', 'genre',\n",
    "       'num_faces', 'brightness', 'saturation', 'hue',\n",
    "       'brightness_sd', 'saturation_sd', 'hue_sd', 'blue', 'blue_sd', 'green',\n",
    "       'green_sd', 'red', 'red_sd', 'year', 'director', 'actors']"
   ]
  },
  {
   "cell_type": "code",
   "execution_count": 51,
   "metadata": {
    "colab": {
     "base_uri": "https://localhost:8080/"
    },
    "id": "QLvt4z8u8UZb",
    "outputId": "b159db78-8a77-4c5b-d3ba-abb71564351b"
   },
   "outputs": [
    {
     "name": "stdout",
     "output_type": "stream",
     "text": [
      "(21879, 27)\n"
     ]
    }
   ],
   "source": [
    "all_data = all_data[cols]\n",
    "all_data = all_data.dropna()\n",
    "print(all_data.shape)"
   ]
  },
  {
   "cell_type": "code",
   "execution_count": 52,
   "metadata": {
    "colab": {
     "base_uri": "https://localhost:8080/"
    },
    "id": "mC5iYj4x8UZc",
    "outputId": "334622b9-3905-4fcc-a8fa-5e02b3562277"
   },
   "outputs": [
    {
     "name": "stdout",
     "output_type": "stream",
     "text": [
      "(21879, 27)\n"
     ]
    }
   ],
   "source": [
    "all_data.columns = new_cols\n",
    "all_data = all_data.reset_index(drop=True)\n",
    "print(all_data.shape)"
   ]
  },
  {
   "cell_type": "code",
   "execution_count": 53,
   "metadata": {
    "colab": {
     "base_uri": "https://localhost:8080/"
    },
    "id": "kBbFpdNL8UZc",
    "outputId": "d4a42a52-0209-4036-9a79-076ad343abf7"
   },
   "outputs": [
    {
     "name": "stdout",
     "output_type": "stream",
     "text": [
      "<class 'pandas.core.frame.DataFrame'>\n",
      "RangeIndex: 21879 entries, 0 to 21878\n",
      "Data columns (total 27 columns):\n",
      " #   Column                Non-Null Count  Dtype  \n",
      "---  ------                --------------  -----  \n",
      " 0   original_language     21879 non-null  int64  \n",
      " 1   original_title        21879 non-null  object \n",
      " 2   overview              21879 non-null  object \n",
      " 3   production_companies  21879 non-null  object \n",
      " 4   production_countries  21879 non-null  object \n",
      " 5   runtime               21879 non-null  float64\n",
      " 6   cast                  21879 non-null  object \n",
      " 7   crew                  21879 non-null  object \n",
      " 8   keywords              21879 non-null  object \n",
      " 9   IMDBscore             21879 non-null  float64\n",
      " 10  genre                 21879 non-null  object \n",
      " 11  num_faces             21879 non-null  float64\n",
      " 12  brightness            21879 non-null  float64\n",
      " 13  saturation            21879 non-null  float64\n",
      " 14  hue                   21879 non-null  float64\n",
      " 15  brightness_sd         21879 non-null  float64\n",
      " 16  saturation_sd         21879 non-null  float64\n",
      " 17  hue_sd                21879 non-null  float64\n",
      " 18  blue                  21879 non-null  float64\n",
      " 19  blue_sd               21879 non-null  float64\n",
      " 20  green                 21879 non-null  float64\n",
      " 21  green_sd              21879 non-null  float64\n",
      " 22  red                   21879 non-null  float64\n",
      " 23  red_sd                21879 non-null  float64\n",
      " 24  year                  21879 non-null  int64  \n",
      " 25  director              21879 non-null  object \n",
      " 26  actors                21879 non-null  object \n",
      "dtypes: float64(15), int64(2), object(10)\n",
      "memory usage: 4.5+ MB\n"
     ]
    }
   ],
   "source": [
    "all_data.info()"
   ]
  },
  {
   "cell_type": "code",
   "execution_count": 54,
   "metadata": {
    "id": "DRPj8Uxz8UZd"
   },
   "outputs": [],
   "source": [
    "from sklearn.model_selection import train_test_split"
   ]
  },
  {
   "cell_type": "code",
   "execution_count": 55,
   "metadata": {
    "colab": {
     "base_uri": "https://localhost:8080/"
    },
    "id": "TPtuVg1t8UZd",
    "outputId": "60bb1c4b-9343-4d4a-c594-ebf07a95a5d4"
   },
   "outputs": [
    {
     "name": "stdout",
     "output_type": "stream",
     "text": [
      "(15315, 27)\n",
      "(3282, 27)\n",
      "(3282, 27)\n",
      "\n",
      "1.198378109161272\n",
      "1.227878741952494\n",
      "1.1594372637613448\n"
     ]
    }
   ],
   "source": [
    "train_dataset, test_dataset = train_test_split(\n",
    "    all_data, test_size=0.3, random_state=0)\n",
    "valid_dataset, test_dataset = train_test_split(\n",
    "    test_dataset, test_size=0.5, random_state=0)\n",
    "\n",
    "train_data = train_dataset.reset_index(drop=True)\n",
    "valid_data = valid_dataset.reset_index(drop=True)\n",
    "test_data = test_dataset.reset_index(drop=True)\n",
    "\n",
    "print(train_data.shape)\n",
    "print(valid_data.shape)\n",
    "print(test_data.shape)\n",
    "\n",
    "# not making the csv files rightnow\n",
    "# train_data.to_csv('Dataset/train.csv', index=False)\n",
    "# valid_data.to_csv('Dataset/valid.csv', index=False)\n",
    "# test_data.to_csv('Dataset/test.csv', index=False)\n",
    "\n",
    "print('')\n",
    "print(np.cov(train_data['IMDBscore']))\n",
    "print(np.cov(valid_data['IMDBscore']))\n",
    "print(np.cov(test_data['IMDBscore']))"
   ]
  },
  {
   "cell_type": "code",
   "execution_count": 56,
   "metadata": {
    "id": "dQmTW8w68UZf"
   },
   "outputs": [],
   "source": [
    "def get_words(message, tokenizer = None):\n",
    "    if tokenizer:\n",
    "        doc = tokenizer(message)\n",
    "        return [i.text for i in doc]\n",
    "    else:\n",
    "        return message.lower().split('|')\n",
    "\n",
    "def create_dictionary(messages, min_count = 5, tokenizer = None):\n",
    "    words_count = {}\n",
    "    for i in tqdm(range(len(messages))):\n",
    "        s = messages[i]\n",
    "        words = get_words(s, tokenizer)\n",
    "        words_unique = list(dict.fromkeys(words))\n",
    "        for w in words_unique:\n",
    "            if w not in words_count:\n",
    "                words_count[w] = 1\n",
    "            else:\n",
    "                words_count[w] += 1\n",
    "\n",
    "    for word in list(words_count.keys()):\n",
    "        if (words_count[word] < min_count) or word=='':\n",
    "            del words_count[word]\n",
    "\n",
    "    index = 1\n",
    "    for word in list(words_count.keys()):\n",
    "        words_count[word] = index\n",
    "        index = index + 1\n",
    "\n",
    "    return words_count\n",
    "\n",
    "\n",
    "def transform_text(messages, word_dictionary, tokenizer = None):\n",
    "    words_arr = np.zeros((len(messages), len(word_dictionary)))\n",
    "    for i in range(words_arr.shape[0]):\n",
    "        message_words = get_words(messages[i], tokenizer)\n",
    "        message_indices = map(word_dictionary.get, message_words)\n",
    "        for j in message_indices:\n",
    "            if j is not None:\n",
    "                words_arr[i, j-1] += 1\n",
    "    return words_arr"
   ]
  },
  {
   "cell_type": "code",
   "execution_count": 57,
   "metadata": {
    "colab": {
     "base_uri": "https://localhost:8080/"
    },
    "id": "mKvP506asX33",
    "outputId": "8ee4a28b-004d-435a-da38-25751b7bc12e"
   },
   "outputs": [
    {
     "name": "stderr",
     "output_type": "stream",
     "text": [
      "100%|██████████| 15315/15315 [00:00<00:00, 90031.63it/s]\n"
     ]
    },
    {
     "name": "stdout",
     "output_type": "stream",
     "text": [
      "Size of dictionary:  401\n",
      "(15315, 401)\n",
      "(3282, 401)\n",
      "(3282, 401)\n"
     ]
    }
   ],
   "source": [
    "production_companies_dictionary = create_dictionary(train_data['production_companies'].astype(str).values, min_count=10)\n",
    "print('Size of dictionary: ', len(production_companies_dictionary))\n",
    "train_production_companies_matrix = transform_text(train_data['production_companies'].astype(str).values, production_companies_dictionary)\n",
    "valid_production_companies_matrix = transform_text(valid_data['production_companies'].astype(str).values, production_companies_dictionary)\n",
    "test_production_companies_matrix = transform_text(test_data['production_companies'].astype(str).values, production_companies_dictionary)\n",
    "# print(director_dictionary)\n",
    "print(train_production_companies_matrix.shape)\n",
    "print(valid_production_companies_matrix.shape)\n",
    "print(test_production_companies_matrix.shape)"
   ]
  },
  {
   "cell_type": "code",
   "execution_count": null,
   "metadata": {},
   "outputs": [],
   "source": []
  },
  {
   "cell_type": "code",
   "execution_count": 58,
   "metadata": {
    "colab": {
     "base_uri": "https://localhost:8080/"
    },
    "id": "c554M4sYtCUg",
    "outputId": "165ddb50-8c7e-4c14-8b36-2fb38bda3ebc"
   },
   "outputs": [
    {
     "name": "stderr",
     "output_type": "stream",
     "text": [
      "100%|██████████| 15315/15315 [00:00<00:00, 249214.43it/s]"
     ]
    },
    {
     "name": "stdout",
     "output_type": "stream",
     "text": [
      "Size of dictionary:  124\n"
     ]
    },
    {
     "name": "stderr",
     "output_type": "stream",
     "text": [
      "\n"
     ]
    }
   ],
   "source": [
    "production_countries_dictionary = create_dictionary(train_data['production_countries'].astype(str).values, min_count=0)\n",
    "print('Size of dictionary: ', len(production_countries_dictionary))\n",
    "# train_production_countries_matrix = transform_text(train_data['production_countries'].astype(str).values, production_countries_dictionary)\n",
    "# valid_production_countries_matrix = transform_text(valid_data['production_countries'].astype(str).values, production_countries_dictionary)\n",
    "# test_production_countries_matrix = transform_text(test_data['production_countries'].astype(str).values, production_countries_dictionary)\n",
    "# # print(director_dictionary)\n",
    "# print(train_production_countries_matrix.shape)\n",
    "# print(valid_production_countries_matrix.shape)\n",
    "# print(test_production_countries_matrix.shape)"
   ]
  },
  {
   "cell_type": "code",
   "execution_count": 59,
   "metadata": {},
   "outputs": [],
   "source": [
    "def giveCountry(country):\n",
    "    return production_countries_dictionary.get(country.lower(), 0)"
   ]
  },
  {
   "cell_type": "code",
   "execution_count": 60,
   "metadata": {},
   "outputs": [],
   "source": [
    "all_data['production_countries'] = all_data['production_countries'].apply(giveCountry)"
   ]
  },
  {
   "cell_type": "code",
   "execution_count": 61,
   "metadata": {},
   "outputs": [],
   "source": [
    "train_data['production_countries'] = train_data['production_countries'].apply(\n",
    "    giveCountry)\n",
    "valid_data['production_countries'] = valid_data['production_countries'].apply(\n",
    "    giveCountry)\n",
    "test_data['production_countries'] = test_data['production_countries'].apply(\n",
    "    giveCountry)"
   ]
  },
  {
   "cell_type": "code",
   "execution_count": 62,
   "metadata": {},
   "outputs": [
    {
     "data": {
      "text/plain": [
       "2      11981\n",
       "3       1853\n",
       "4       1320\n",
       "15       800\n",
       "24       752\n",
       "       ...  \n",
       "107        1\n",
       "91         1\n",
       "75         1\n",
       "121        1\n",
       "103        1\n",
       "Name: production_countries, Length: 125, dtype: int64"
      ]
     },
     "execution_count": 62,
     "metadata": {},
     "output_type": "execute_result"
    }
   ],
   "source": [
    "all_data['production_countries'].value_counts()"
   ]
  },
  {
   "cell_type": "code",
   "execution_count": 63,
   "metadata": {
    "colab": {
     "base_uri": "https://localhost:8080/"
    },
    "id": "ZI8FQh6u-sBa",
    "outputId": "a04db657-5b67-49af-bd28-349ec3f4a457"
   },
   "outputs": [
    {
     "name": "stderr",
     "output_type": "stream",
     "text": [
      "100%|██████████| 15315/15315 [00:00<00:00, 81632.46it/s]\n"
     ]
    },
    {
     "name": "stdout",
     "output_type": "stream",
     "text": [
      "Size of dictionary:  1198\n",
      "(15315, 1198)\n",
      "(3282, 1198)\n",
      "(3282, 1198)\n"
     ]
    }
   ],
   "source": [
    "keywords_dictionary = create_dictionary(train_data['keywords'].astype(str).values, min_count=20)\n",
    "print('Size of dictionary: ', len(keywords_dictionary))\n",
    "train_keywords_matrix = transform_text(train_data['keywords'].astype(str).values, keywords_dictionary)\n",
    "valid_keywords_matrix = transform_text(valid_data['keywords'].astype(str).values, keywords_dictionary)\n",
    "test_keywords_matrix = transform_text(test_data['keywords'].astype(str).values, keywords_dictionary)\n",
    "# print(director_dictionary)\n",
    "print(train_keywords_matrix.shape)\n",
    "print(valid_keywords_matrix.shape)\n",
    "print(test_keywords_matrix.shape)"
   ]
  },
  {
   "cell_type": "code",
   "execution_count": 64,
   "metadata": {
    "colab": {
     "base_uri": "https://localhost:8080/"
    },
    "id": "Av_GqM_VF9FT",
    "outputId": "85b7ed30-50c0-4329-fda5-a566a1c8b23f"
   },
   "outputs": [
    {
     "name": "stderr",
     "output_type": "stream",
     "text": [
      "100%|██████████| 15315/15315 [00:00<00:00, 133740.37it/s]\n"
     ]
    },
    {
     "name": "stdout",
     "output_type": "stream",
     "text": [
      "Size of dictionary:  482\n",
      "(15315, 482)\n",
      "(3282, 482)\n",
      "(3282, 482)\n"
     ]
    }
   ],
   "source": [
    "original_title_dictionary = create_dictionary(train_data['original_title'].astype(str).values, min_count=10)\n",
    "print('Size of dictionary: ', len(original_title_dictionary))\n",
    "train_original_title_matrix = transform_text(train_data['original_title'].astype(str).values, original_title_dictionary)\n",
    "valid_original_title_matrix = transform_text(valid_data['original_title'].astype(str).values, original_title_dictionary)\n",
    "test_original_title_matrix = transform_text(test_data['original_title'].astype(str).values, original_title_dictionary)\n",
    "# print(director_dictionary)\n",
    "print(train_original_title_matrix.shape)\n",
    "print(valid_original_title_matrix.shape)\n",
    "print(test_original_title_matrix.shape)"
   ]
  },
  {
   "cell_type": "code",
   "execution_count": 65,
   "metadata": {
    "colab": {
     "base_uri": "https://localhost:8080/"
    },
    "id": "yyvDqG6s8UZg",
    "outputId": "e873b8f8-625c-4a68-e90a-e72f087ffc74"
   },
   "outputs": [
    {
     "name": "stderr",
     "output_type": "stream",
     "text": [
      "100%|██████████| 15315/15315 [00:00<00:00, 156957.80it/s]\n"
     ]
    }
   ],
   "source": [
    "# min count is denoting the minimum number of times a word has to appear in the corpus to be included in the dictionary\n",
    "genre_dictionary = create_dictionary(train_data['genre'].astype(str).values, min_count=0)"
   ]
  },
  {
   "cell_type": "code",
   "execution_count": 66,
   "metadata": {
    "colab": {
     "base_uri": "https://localhost:8080/"
    },
    "id": "kM25xiUeQqXg",
    "outputId": "1e818415-3e4e-4c7b-945e-7f8f9d266eea"
   },
   "outputs": [
    {
     "name": "stdout",
     "output_type": "stream",
     "text": [
      "{'action': 1, 'sci-fi': 2, 'thriller': 3, 'crime': 4, 'drama': 5, 'film-noir': 6, 'biography': 7, 'romance': 8, 'comedy': 9, 'horror': 10, 'adventure': 11, 'animation': 12, 'music': 13, 'sport': 14, 'mystery': 15, 'history': 16, 'documentary': 17, 'fantasy': 18, 'western': 19, 'family': 20, 'short': 21, 'war': 22, 'musical': 23, 'talk-show': 24, 'news': 25, 'adult': 26}\n"
     ]
    }
   ],
   "source": [
    "print(genre_dictionary)"
   ]
  },
  {
   "cell_type": "code",
   "execution_count": 67,
   "metadata": {
    "colab": {
     "base_uri": "https://localhost:8080/"
    },
    "id": "EZyliCwX8UZg",
    "outputId": "c953e696-bb55-4bbb-9dce-cd69be584b32"
   },
   "outputs": [
    {
     "name": "stdout",
     "output_type": "stream",
     "text": [
      "(15315, 26)\n",
      "(3282, 26)\n",
      "(3282, 26)\n"
     ]
    }
   ],
   "source": [
    "train_genre_matrix = transform_text(\n",
    "    train_data['genre'].astype(str).values, genre_dictionary)\n",
    "valid_genre_matrix = transform_text(\n",
    "    valid_data['genre'].astype(str).values, genre_dictionary)\n",
    "test_genre_matrix = transform_text(\n",
    "    test_data['genre'].astype(str).values, genre_dictionary)\n",
    "# print(genre_dictionary)\n",
    "print(train_genre_matrix.shape)\n",
    "print(valid_genre_matrix.shape)\n",
    "print(test_genre_matrix.shape)"
   ]
  },
  {
   "cell_type": "code",
   "execution_count": 68,
   "metadata": {
    "colab": {
     "base_uri": "https://localhost:8080/",
     "height": 593
    },
    "id": "G-FuXobUQTnT",
    "outputId": "f25c4dc8-de46-4dcc-c181-9d733e9c3840"
   },
   "outputs": [
    {
     "data": {
      "text/html": [
       "<div>\n",
       "<style scoped>\n",
       "    .dataframe tbody tr th:only-of-type {\n",
       "        vertical-align: middle;\n",
       "    }\n",
       "\n",
       "    .dataframe tbody tr th {\n",
       "        vertical-align: top;\n",
       "    }\n",
       "\n",
       "    .dataframe thead th {\n",
       "        text-align: right;\n",
       "    }\n",
       "</style>\n",
       "<table border=\"1\" class=\"dataframe\">\n",
       "  <thead>\n",
       "    <tr style=\"text-align: right;\">\n",
       "      <th></th>\n",
       "      <th>original_language</th>\n",
       "      <th>original_title</th>\n",
       "      <th>overview</th>\n",
       "      <th>production_companies</th>\n",
       "      <th>production_countries</th>\n",
       "      <th>runtime</th>\n",
       "      <th>cast</th>\n",
       "      <th>crew</th>\n",
       "      <th>keywords</th>\n",
       "      <th>IMDBscore</th>\n",
       "      <th>...</th>\n",
       "      <th>hue_sd</th>\n",
       "      <th>blue</th>\n",
       "      <th>blue_sd</th>\n",
       "      <th>green</th>\n",
       "      <th>green_sd</th>\n",
       "      <th>red</th>\n",
       "      <th>red_sd</th>\n",
       "      <th>year</th>\n",
       "      <th>director</th>\n",
       "      <th>actors</th>\n",
       "    </tr>\n",
       "  </thead>\n",
       "  <tbody>\n",
       "    <tr>\n",
       "      <th>0</th>\n",
       "      <td>4</td>\n",
       "      <td>title-2047|title--|title-sights|title-death</td>\n",
       "      <td>The year is 2047.  Our planet is ruled by the ...</td>\n",
       "      <td>Ambi Pictures|Monika Bacardi|Red New Line</td>\n",
       "      <td>1</td>\n",
       "      <td>85.0</td>\n",
       "      <td>[{'cast_id': 1, 'character': 'Sponge', 'credit...</td>\n",
       "      <td>[{'credit_id': '53c8b138c3a3686e7c0008c6', 'de...</td>\n",
       "      <td>keyword-post-apocalyptic</td>\n",
       "      <td>2.5</td>\n",
       "      <td>...</td>\n",
       "      <td>48.510231</td>\n",
       "      <td>59.291541</td>\n",
       "      <td>59.421046</td>\n",
       "      <td>55.450961</td>\n",
       "      <td>63.923155</td>\n",
       "      <td>61.900720</td>\n",
       "      <td>70.633210</td>\n",
       "      <td>2014</td>\n",
       "      <td>Alessandro Capone</td>\n",
       "      <td>Danny Glover|Rutger Hauer|Daryl Hannah</td>\n",
       "    </tr>\n",
       "    <tr>\n",
       "      <th>1</th>\n",
       "      <td>1</td>\n",
       "      <td>title-cause|title-alarm</td>\n",
       "      <td>A woman fights to intercept a letter in which ...</td>\n",
       "      <td>Metro-Goldwyn-Mayer (MGM)</td>\n",
       "      <td>2</td>\n",
       "      <td>74.0</td>\n",
       "      <td>[{'cast_id': 9, 'character': 'Ellen Jones', 'c...</td>\n",
       "      <td>[{'credit_id': '52fe45fdc3a368484e07a6f9', 'de...</td>\n",
       "      <td>keyword-postman|keyword-letter|keyword-movie|k...</td>\n",
       "      <td>6.5</td>\n",
       "      <td>...</td>\n",
       "      <td>19.761387</td>\n",
       "      <td>30.300341</td>\n",
       "      <td>31.602654</td>\n",
       "      <td>143.967228</td>\n",
       "      <td>64.888130</td>\n",
       "      <td>190.006143</td>\n",
       "      <td>48.116546</td>\n",
       "      <td>1951</td>\n",
       "      <td>Tay Garnett</td>\n",
       "      <td>Loretta Young|Barry Sullivan|Bruce Cowling</td>\n",
       "    </tr>\n",
       "    <tr>\n",
       "      <th>2</th>\n",
       "      <td>1</td>\n",
       "      <td>title-girl|title-pearl|title-earring</td>\n",
       "      <td>This film, adapted from a work of fiction by a...</td>\n",
       "      <td>Wild Bear Films|Archer Street Productions|Delu...</td>\n",
       "      <td>3</td>\n",
       "      <td>101.0</td>\n",
       "      <td>[{'cast_id': 1, 'character': 'Griet', 'credit_...</td>\n",
       "      <td>[{'credit_id': '52fe43a1c3a36847f80632e9', 'de...</td>\n",
       "      <td>keyword-painter|keyword-maid|keyword-biography...</td>\n",
       "      <td>7.0</td>\n",
       "      <td>...</td>\n",
       "      <td>9.522887</td>\n",
       "      <td>39.279707</td>\n",
       "      <td>50.422176</td>\n",
       "      <td>74.729219</td>\n",
       "      <td>63.880448</td>\n",
       "      <td>137.373022</td>\n",
       "      <td>84.354267</td>\n",
       "      <td>2003</td>\n",
       "      <td>Peter Webber</td>\n",
       "      <td>Scarlett Johansson|Colin Firth|Cillian Murphy</td>\n",
       "    </tr>\n",
       "    <tr>\n",
       "      <th>3</th>\n",
       "      <td>1</td>\n",
       "      <td>title-paparazzi</td>\n",
       "      <td>Franck shows up in a gossip magazine photo beh...</td>\n",
       "      <td>Studio|Rigolo Film 2000|Rigolo Films 2000</td>\n",
       "      <td>4</td>\n",
       "      <td>109.0</td>\n",
       "      <td>[{'cast_id': 3, 'character': 'Franck Bordoni',...</td>\n",
       "      <td>[{'credit_id': '52fe4673c3a368484e091587', 'de...</td>\n",
       "      <td>keyword-photographer|keyword-celebrity|keyword...</td>\n",
       "      <td>5.4</td>\n",
       "      <td>...</td>\n",
       "      <td>26.587798</td>\n",
       "      <td>59.853819</td>\n",
       "      <td>75.018672</td>\n",
       "      <td>88.795450</td>\n",
       "      <td>90.242732</td>\n",
       "      <td>110.726446</td>\n",
       "      <td>95.723728</td>\n",
       "      <td>1998</td>\n",
       "      <td>Alain BerbÃ©rian</td>\n",
       "      <td>Patrick Timsit|Vincent Lindon|Nathalie Baye</td>\n",
       "    </tr>\n",
       "    <tr>\n",
       "      <th>4</th>\n",
       "      <td>1</td>\n",
       "      <td>title-exorcist</td>\n",
       "      <td>12-year-old Regan MacNeil begins to adapt an e...</td>\n",
       "      <td>Warner Bros.|Hoya Productions</td>\n",
       "      <td>2</td>\n",
       "      <td>122.0</td>\n",
       "      <td>[{'cast_id': 14, 'character': 'Regan', 'credit...</td>\n",
       "      <td>[{'credit_id': '52fe4508c3a36847f80b865d', 'de...</td>\n",
       "      <td>keyword-profanity|keyword-holy|keyword-phenome...</td>\n",
       "      <td>8.0</td>\n",
       "      <td>...</td>\n",
       "      <td>37.738248</td>\n",
       "      <td>29.058856</td>\n",
       "      <td>58.821389</td>\n",
       "      <td>33.974002</td>\n",
       "      <td>70.143761</td>\n",
       "      <td>36.372198</td>\n",
       "      <td>72.607865</td>\n",
       "      <td>1973</td>\n",
       "      <td>William Friedkin</td>\n",
       "      <td>Linda Blair|Max von Sydow|Ellen Burstyn</td>\n",
       "    </tr>\n",
       "  </tbody>\n",
       "</table>\n",
       "<p>5 rows × 27 columns</p>\n",
       "</div>"
      ],
      "text/plain": [
       "   original_language                               original_title  \\\n",
       "0                  4  title-2047|title--|title-sights|title-death   \n",
       "1                  1                      title-cause|title-alarm   \n",
       "2                  1         title-girl|title-pearl|title-earring   \n",
       "3                  1                              title-paparazzi   \n",
       "4                  1                               title-exorcist   \n",
       "\n",
       "                                            overview  \\\n",
       "0  The year is 2047.  Our planet is ruled by the ...   \n",
       "1  A woman fights to intercept a letter in which ...   \n",
       "2  This film, adapted from a work of fiction by a...   \n",
       "3  Franck shows up in a gossip magazine photo beh...   \n",
       "4  12-year-old Regan MacNeil begins to adapt an e...   \n",
       "\n",
       "                                production_companies  production_countries  \\\n",
       "0          Ambi Pictures|Monika Bacardi|Red New Line                     1   \n",
       "1                          Metro-Goldwyn-Mayer (MGM)                     2   \n",
       "2  Wild Bear Films|Archer Street Productions|Delu...                     3   \n",
       "3          Studio|Rigolo Film 2000|Rigolo Films 2000                     4   \n",
       "4                      Warner Bros.|Hoya Productions                     2   \n",
       "\n",
       "   runtime                                               cast  \\\n",
       "0     85.0  [{'cast_id': 1, 'character': 'Sponge', 'credit...   \n",
       "1     74.0  [{'cast_id': 9, 'character': 'Ellen Jones', 'c...   \n",
       "2    101.0  [{'cast_id': 1, 'character': 'Griet', 'credit_...   \n",
       "3    109.0  [{'cast_id': 3, 'character': 'Franck Bordoni',...   \n",
       "4    122.0  [{'cast_id': 14, 'character': 'Regan', 'credit...   \n",
       "\n",
       "                                                crew  \\\n",
       "0  [{'credit_id': '53c8b138c3a3686e7c0008c6', 'de...   \n",
       "1  [{'credit_id': '52fe45fdc3a368484e07a6f9', 'de...   \n",
       "2  [{'credit_id': '52fe43a1c3a36847f80632e9', 'de...   \n",
       "3  [{'credit_id': '52fe4673c3a368484e091587', 'de...   \n",
       "4  [{'credit_id': '52fe4508c3a36847f80b865d', 'de...   \n",
       "\n",
       "                                            keywords  IMDBscore  ...  \\\n",
       "0                           keyword-post-apocalyptic        2.5  ...   \n",
       "1  keyword-postman|keyword-letter|keyword-movie|k...        6.5  ...   \n",
       "2  keyword-painter|keyword-maid|keyword-biography...        7.0  ...   \n",
       "3  keyword-photographer|keyword-celebrity|keyword...        5.4  ...   \n",
       "4  keyword-profanity|keyword-holy|keyword-phenome...        8.0  ...   \n",
       "\n",
       "      hue_sd       blue    blue_sd       green   green_sd         red  \\\n",
       "0  48.510231  59.291541  59.421046   55.450961  63.923155   61.900720   \n",
       "1  19.761387  30.300341  31.602654  143.967228  64.888130  190.006143   \n",
       "2   9.522887  39.279707  50.422176   74.729219  63.880448  137.373022   \n",
       "3  26.587798  59.853819  75.018672   88.795450  90.242732  110.726446   \n",
       "4  37.738248  29.058856  58.821389   33.974002  70.143761   36.372198   \n",
       "\n",
       "      red_sd  year           director  \\\n",
       "0  70.633210  2014  Alessandro Capone   \n",
       "1  48.116546  1951        Tay Garnett   \n",
       "2  84.354267  2003       Peter Webber   \n",
       "3  95.723728  1998   Alain BerbÃ©rian   \n",
       "4  72.607865  1973   William Friedkin   \n",
       "\n",
       "                                          actors  \n",
       "0         Danny Glover|Rutger Hauer|Daryl Hannah  \n",
       "1     Loretta Young|Barry Sullivan|Bruce Cowling  \n",
       "2  Scarlett Johansson|Colin Firth|Cillian Murphy  \n",
       "3    Patrick Timsit|Vincent Lindon|Nathalie Baye  \n",
       "4        Linda Blair|Max von Sydow|Ellen Burstyn  \n",
       "\n",
       "[5 rows x 27 columns]"
      ]
     },
     "execution_count": 68,
     "metadata": {},
     "output_type": "execute_result"
    }
   ],
   "source": [
    "train_data.head()"
   ]
  },
  {
   "cell_type": "code",
   "execution_count": 69,
   "metadata": {
    "colab": {
     "base_uri": "https://localhost:8080/"
    },
    "id": "_ex2N49w8UZh",
    "outputId": "e7935b7d-b850-4db2-aac4-27de53c36660"
   },
   "outputs": [
    {
     "name": "stderr",
     "output_type": "stream",
     "text": [
      "100%|██████████| 15315/15315 [00:00<00:00, 121564.02it/s]\n"
     ]
    },
    {
     "name": "stdout",
     "output_type": "stream",
     "text": [
      "Size of dictionary:  194\n",
      "(15315, 194)\n",
      "(3282, 194)\n",
      "(3282, 194)\n"
     ]
    }
   ],
   "source": [
    "director_dictionary = create_dictionary(\n",
    "    train_data['director'].astype(str).values, min_count=10)\n",
    "print('Size of dictionary: ', len(director_dictionary))\n",
    "train_director_matrix = transform_text(\n",
    "    train_data['director'].astype(str).values, director_dictionary)\n",
    "valid_director_matrix = transform_text(\n",
    "    valid_data['director'].astype(str).values, director_dictionary)\n",
    "test_director_matrix = transform_text(\n",
    "    test_data['director'].astype(str).values, director_dictionary)\n",
    "# print(director_dictionary)\n",
    "print(train_director_matrix.shape)\n",
    "print(valid_director_matrix.shape)\n",
    "print(test_director_matrix.shape)\n"
   ]
  },
  {
   "cell_type": "code",
   "execution_count": 70,
   "metadata": {
    "colab": {
     "base_uri": "https://localhost:8080/"
    },
    "id": "YQ5ZbHks8UZh",
    "outputId": "d1318500-f2c6-4529-ac4d-13ddbc458195"
   },
   "outputs": [
    {
     "name": "stderr",
     "output_type": "stream",
     "text": [
      "100%|██████████| 15315/15315 [00:00<00:00, 120485.28it/s]\n"
     ]
    },
    {
     "name": "stdout",
     "output_type": "stream",
     "text": [
      "Size of dictionary:  190\n",
      "(15315, 190)\n",
      "(3282, 190)\n",
      "(3282, 190)\n"
     ]
    }
   ],
   "source": [
    "actors_dictionary = create_dictionary(\n",
    "    train_data['actors'].astype(str).values, min_count=20)\n",
    "print('Size of dictionary: ', len(actors_dictionary))\n",
    "train_actors_matrix = transform_text(\n",
    "    train_data['actors'].astype(str).values, actors_dictionary)\n",
    "valid_actors_matrix = transform_text(\n",
    "    valid_data['actors'].astype(str).values, actors_dictionary)\n",
    "test_actors_matrix = transform_text(\n",
    "    test_data['actors'].astype(str).values, actors_dictionary)\n",
    "# print(actors_dictionary)\n",
    "print(train_actors_matrix.shape)\n",
    "print(valid_actors_matrix.shape)\n",
    "print(test_actors_matrix.shape)\n"
   ]
  },
  {
   "cell_type": "code",
   "execution_count": 71,
   "metadata": {
    "id": "OgpQ9JAs8UZi"
   },
   "outputs": [],
   "source": [
    "import spacy\n",
    "import re"
   ]
  },
  {
   "cell_type": "code",
   "execution_count": 72,
   "metadata": {
    "id": "235SChyV2S59"
   },
   "outputs": [],
   "source": [
    "#def func(messages, word_dictionary, tokenizer = None):\n",
    "#  m_w = get_words_new(messages[0],tokenizer)\n",
    "#  m_i = map(word_dictionary.get,m_w)\n",
    "#  print(m_w)\n",
    "#  print(list(m_i))"
   ]
  },
  {
   "cell_type": "code",
   "execution_count": 73,
   "metadata": {
    "id": "o7ZeNmvD4IA3"
   },
   "outputs": [],
   "source": [
    "def create_dictionary_overview(messages, min_count, tokenizer):\n",
    "    #stop_words = []\n",
    "    #with open(path2,'r') as f:\n",
    "    #  for x in f:\n",
    "    #    stop_words.append(x[:-1])\n",
    "\n",
    "    words_count = {}\n",
    "    for i in tqdm(range(len(messages))):\n",
    "        s = messages[i]\n",
    "        words = get_words(s, tokenizer)\n",
    "        words_unique = list(dict.fromkeys(words))\n",
    "        for w in words_unique:\n",
    "          if len(w)<=1 or w.lower() in stop_words_set or not w.isalpha():\n",
    "            continue\n",
    "          if w.lower() not in words_count:\n",
    "            words_count[w.lower()] = 1\n",
    "          else:\n",
    "            words_count[w.lower()] += 1\n",
    "\n",
    "    for word in list(words_count.keys()):\n",
    "        if (words_count[word] < min_count) or word=='':\n",
    "            del words_count[word]\n",
    "\n",
    "    index = 1\n",
    "    for word in list(words_count.keys()):\n",
    "        words_count[word] = index\n",
    "        index = index + 1\n",
    "\n",
    "    return words_count"
   ]
  },
  {
   "cell_type": "code",
   "execution_count": 74,
   "metadata": {
    "id": "96K5YG85tuNn"
   },
   "outputs": [],
   "source": [
    "def get_words_new(message, tokenizer = None):\n",
    "  if tokenizer:\n",
    "    doc = tokenizer(message)\n",
    "    return [i.text for i in doc]\n",
    "  else:\n",
    "    return message.lower().split(' ')"
   ]
  },
  {
   "cell_type": "code",
   "execution_count": 75,
   "metadata": {
    "id": "wM8t5OiSXKre"
   },
   "outputs": [],
   "source": [
    "def custom_transform(messages, word_dictionary, tokenizer = None):\n",
    "    words_arr = np.zeros((len(messages), len(word_dictionary)))\n",
    "    for i in range(words_arr.shape[0]):\n",
    "        message_words = get_words_new(messages[i], tokenizer)\n",
    "        message_indices = map(word_dictionary.get, message_words)\n",
    "        for j in message_indices:\n",
    "            if j is not None:\n",
    "                words_arr[i, j-1] += 1\n",
    "    return words_arr"
   ]
  },
  {
   "cell_type": "code",
   "execution_count": 76,
   "metadata": {
    "colab": {
     "base_uri": "https://localhost:8080/"
    },
    "id": "U9CoULyU8UZj",
    "outputId": "876054e9-0c27-4772-de90-3cbb6823f05b"
   },
   "outputs": [
    {
     "name": "stderr",
     "output_type": "stream",
     "text": [
      "100%|██████████| 15315/15315 [03:36<00:00, 70.59it/s]\n"
     ]
    },
    {
     "name": "stdout",
     "output_type": "stream",
     "text": [
      "Size of dictionary:  1042\n",
      "(15315, 1042)\n",
      "(3282, 1042)\n",
      "(3282, 1042)\n"
     ]
    }
   ],
   "source": [
    "tokenizer = spacy.load(\"en_core_web_sm\", disable=[\"tagger\", \"parser\", \"ner\", \"lemmatizer\"])\n",
    "overview_dictionary = create_dictionary_overview(\n",
    "    train_data['overview'], 75, tokenizer)\n",
    "print('Size of dictionary: ', len(overview_dictionary))\n",
    "\n",
    "train_overview_matrix = custom_transform(\n",
    "    train_data['overview'].astype(str).values, overview_dictionary)\n",
    "\n",
    "valid_overview_matrix = custom_transform(\n",
    "    valid_data['overview'].astype(str).values, overview_dictionary)\n",
    "\n",
    "test_overview_matrix = custom_transform(\n",
    "    test_data['overview'].astype(str).values, overview_dictionary)\n",
    "\n",
    "# print(overview_dictionary)\n",
    "print(train_overview_matrix.shape)\n",
    "print(valid_overview_matrix.shape)\n",
    "print(test_overview_matrix.shape)\n"
   ]
  },
  {
   "cell_type": "code",
   "execution_count": 77,
   "metadata": {
    "colab": {
     "base_uri": "https://localhost:8080/"
    },
    "id": "6mLc6fF68UZi",
    "outputId": "f8565d62-65af-460e-dc46-366ce4421cf4"
   },
   "outputs": [
    {
     "data": {
      "text/plain": [
       "(15315, 1042)"
      ]
     },
     "execution_count": 77,
     "metadata": {},
     "output_type": "execute_result"
    }
   ],
   "source": [
    "train_overview_matrix.shape"
   ]
  },
  {
   "cell_type": "code",
   "execution_count": 78,
   "metadata": {
    "colab": {
     "base_uri": "https://localhost:8080/"
    },
    "id": "t6ZfZaTdxADl",
    "outputId": "b487bc3e-5ddf-4417-815e-11302368d2c1"
   },
   "outputs": [
    {
     "data": {
      "text/plain": [
       "Index(['original_language', 'original_title', 'overview',\n",
       "       'production_companies', 'production_countries', 'runtime', 'cast',\n",
       "       'crew', 'keywords', 'IMDBscore', 'genre', 'num_faces', 'brightness',\n",
       "       'saturation', 'hue', 'brightness_sd', 'saturation_sd', 'hue_sd', 'blue',\n",
       "       'blue_sd', 'green', 'green_sd', 'red', 'red_sd', 'year', 'director',\n",
       "       'actors'],\n",
       "      dtype='object')"
      ]
     },
     "execution_count": 78,
     "metadata": {},
     "output_type": "execute_result"
    }
   ],
   "source": [
    "train_data.columns"
   ]
  },
  {
   "cell_type": "code",
   "execution_count": 79,
   "metadata": {},
   "outputs": [
    {
     "data": {
      "text/plain": [
       "original_language                                                       4\n",
       "original_title                title-2047|title--|title-sights|title-death\n",
       "overview                The year is 2047.  Our planet is ruled by the ...\n",
       "production_companies            Ambi Pictures|Monika Bacardi|Red New Line\n",
       "production_countries                                                    1\n",
       "runtime                                                         85.000000\n",
       "cast                    [{'cast_id': 1, 'character': 'Sponge', 'credit...\n",
       "crew                    [{'credit_id': '53c8b138c3a3686e7c0008c6', 'de...\n",
       "keywords                                         keyword-post-apocalyptic\n",
       "IMDBscore                                                        2.500000\n",
       "genre                                              Action|Sci-Fi|Thriller\n",
       "num_faces                                                        0.000000\n",
       "brightness                                                      68.079774\n",
       "saturation                                                      72.550685\n",
       "hue                                                            102.165613\n",
       "brightness_sd                                                   68.463366\n",
       "saturation_sd                                                   44.035652\n",
       "hue_sd                                                          48.510231\n",
       "blue                                                            59.291541\n",
       "blue_sd                                                         59.421046\n",
       "green                                                           55.450961\n",
       "green_sd                                                        63.923155\n",
       "red                                                             61.900720\n",
       "red_sd                                                          70.633210\n",
       "year                                                                 2014\n",
       "director                                                Alessandro Capone\n",
       "actors                             Danny Glover|Rutger Hauer|Daryl Hannah\n",
       "Name: 0, dtype: object"
      ]
     },
     "execution_count": 79,
     "metadata": {},
     "output_type": "execute_result"
    }
   ],
   "source": [
    "train_data.loc[0]"
   ]
  },
  {
   "cell_type": "code",
   "execution_count": 80,
   "metadata": {
    "id": "KNQyQeH_2DXE"
   },
   "outputs": [],
   "source": [
    "#from wordcloud import WordCloud"
   ]
  },
  {
   "cell_type": "code",
   "execution_count": 81,
   "metadata": {
    "id": "T-nbcuzf1_U7"
   },
   "outputs": [],
   "source": [
    "#wordcloud = WordCloud()\n",
    "#wordcloud.generate_from_frequencies(frequencies=overview_dictionary)\n",
    "#plt.figure(figsize=(15,15))\n",
    "#plt.imshow(wordcloud)\n",
    "#plt.axis(\"off\")\n",
    "#plt.show()"
   ]
  },
  {
   "cell_type": "markdown",
   "metadata": {
    "id": "SZwTXIeS8UZk"
   },
   "source": [
    "# Encoding "
   ]
  },
  {
   "cell_type": "code",
   "execution_count": 82,
   "metadata": {},
   "outputs": [
    {
     "data": {
      "text/plain": [
       "Index(['original_language', 'original_title', 'overview',\n",
       "       'production_companies', 'production_countries', 'runtime', 'cast',\n",
       "       'crew', 'keywords', 'IMDBscore', 'genre', 'num_faces', 'brightness',\n",
       "       'saturation', 'hue', 'brightness_sd', 'saturation_sd', 'hue_sd', 'blue',\n",
       "       'blue_sd', 'green', 'green_sd', 'red', 'red_sd', 'year', 'director',\n",
       "       'actors'],\n",
       "      dtype='object')"
      ]
     },
     "execution_count": 82,
     "metadata": {},
     "output_type": "execute_result"
    }
   ],
   "source": [
    "train_data.columns"
   ]
  },
  {
   "cell_type": "code",
   "execution_count": 83,
   "metadata": {
    "id": "YuRsnQyJ5Yt7"
   },
   "outputs": [],
   "source": [
    "# train_data = pd.read_csv('train.csv')\n",
    "# valid_data = pd.read_csv('valid.csv')\n",
    "# test_data = pd.read_csv('test.csv')\n",
    "train_data = train_data.drop(columns = ['original_title','overview','production_companies','cast','crew','keywords','genre','director', 'actors'])\n",
    "valid_data = valid_data.drop(columns = ['original_title','overview','production_companies','cast','crew','keywords','genre','director', 'actors'])\n",
    "test_data = test_data.drop(columns = ['original_title','overview','production_companies','cast','crew','keywords','genre','director', 'actors'])\n",
    "train_data = pd.concat([train_data,\n",
    "                        pd.DataFrame(train_genre_matrix, columns = genre_dictionary.keys()),\n",
    "                        pd.DataFrame(train_director_matrix, columns = director_dictionary.keys()), \n",
    "                        pd.DataFrame(train_actors_matrix, columns = actors_dictionary.keys()),\n",
    "                        pd.DataFrame(train_overview_matrix, columns = overview_dictionary.keys()),\n",
    "                        pd.DataFrame(train_production_companies_matrix, columns = production_companies_dictionary.keys()),\n",
    "                        pd.DataFrame(train_keywords_matrix, columns=keywords_dictionary.keys()),\n",
    "                        pd.DataFrame(train_original_title_matrix, columns=original_title_dictionary.keys())],\n",
    "                        axis=1)\n",
    "\n",
    "valid_data = pd.concat([valid_data,\n",
    "                        pd.DataFrame(valid_genre_matrix, columns = genre_dictionary.keys()),\n",
    "                        pd.DataFrame(valid_director_matrix, columns = director_dictionary.keys()), \n",
    "                        pd.DataFrame(valid_actors_matrix, columns = actors_dictionary.keys() ),\n",
    "                        pd.DataFrame(valid_overview_matrix, columns = overview_dictionary.keys()),\n",
    "                        pd.DataFrame(valid_production_companies_matrix, columns = production_companies_dictionary.keys()),\n",
    "                        pd.DataFrame(valid_keywords_matrix, columns=keywords_dictionary.keys()),\n",
    "                        pd.DataFrame(valid_original_title_matrix, columns=original_title_dictionary.keys())],\n",
    "                        axis=1)\n",
    "\n",
    "test_data = pd.concat([test_data,\n",
    "                       pd.DataFrame(test_genre_matrix, columns = genre_dictionary.keys()),\n",
    "                       pd.DataFrame(test_director_matrix, columns = director_dictionary.keys()), \n",
    "                       pd.DataFrame(test_actors_matrix, columns = actors_dictionary.keys()),\n",
    "                       pd.DataFrame(test_overview_matrix, columns = overview_dictionary.keys()),\n",
    "                       pd.DataFrame(test_production_companies_matrix, columns = production_companies_dictionary.keys()),\n",
    "                       pd.DataFrame(test_keywords_matrix, columns=keywords_dictionary.keys()),\n",
    "                       pd.DataFrame(test_original_title_matrix, columns=original_title_dictionary.keys())],\n",
    "                       axis=1)"
   ]
  },
  {
   "cell_type": "code",
   "execution_count": 84,
   "metadata": {
    "id": "FYEikUOB8UZm"
   },
   "outputs": [],
   "source": [
    "# train_data.to_csv('train1.csv', index=False)\n",
    "# valid_data.to_csv('valid1.csv', index=False)\n",
    "# test_data.to_csv('test1.csv', index=False)"
   ]
  },
  {
   "cell_type": "code",
   "execution_count": 85,
   "metadata": {
    "id": "TQyPm8Ya8UZm"
   },
   "outputs": [],
   "source": [
    "# train_data = pd.read_csv('train1.csv', low_memory=False)\n",
    "# valid_data = pd.read_csv('valid1.csv', low_memory=False)\n",
    "# test_data = pd.read_csv('test1.csv', low_memory=False)"
   ]
  },
  {
   "cell_type": "code",
   "execution_count": 86,
   "metadata": {
    "colab": {
     "base_uri": "https://localhost:8080/"
    },
    "id": "gfopLt5X8UZm",
    "outputId": "ecc95381-d9d8-41bd-a710-3a9f75098f2b"
   },
   "outputs": [
    {
     "data": {
      "text/plain": [
       "((15315, 3551), (3282, 3551), (3282, 3551))"
      ]
     },
     "execution_count": 86,
     "metadata": {},
     "output_type": "execute_result"
    }
   ],
   "source": [
    "train_data.shape, test_data.shape, valid_data.shape"
   ]
  },
  {
   "cell_type": "code",
   "execution_count": 87,
   "metadata": {
    "colab": {
     "base_uri": "https://localhost:8080/",
     "height": 454
    },
    "id": "GN3Grvhc8UZn",
    "outputId": "ba4f3cdb-1976-4daf-b859-e39caf661a97"
   },
   "outputs": [
    {
     "data": {
      "text/html": [
       "<div>\n",
       "<style scoped>\n",
       "    .dataframe tbody tr th:only-of-type {\n",
       "        vertical-align: middle;\n",
       "    }\n",
       "\n",
       "    .dataframe tbody tr th {\n",
       "        vertical-align: top;\n",
       "    }\n",
       "\n",
       "    .dataframe thead th {\n",
       "        text-align: right;\n",
       "    }\n",
       "</style>\n",
       "<table border=\"1\" class=\"dataframe\">\n",
       "  <thead>\n",
       "    <tr style=\"text-align: right;\">\n",
       "      <th></th>\n",
       "      <th>original_language</th>\n",
       "      <th>production_countries</th>\n",
       "      <th>runtime</th>\n",
       "      <th>IMDBscore</th>\n",
       "      <th>num_faces</th>\n",
       "      <th>brightness</th>\n",
       "      <th>saturation</th>\n",
       "      <th>hue</th>\n",
       "      <th>brightness_sd</th>\n",
       "      <th>saturation_sd</th>\n",
       "      <th>...</th>\n",
       "      <th>title-blues</th>\n",
       "      <th>title-im</th>\n",
       "      <th>title-book</th>\n",
       "      <th>title-daughter</th>\n",
       "      <th>title-1</th>\n",
       "      <th>title-eight</th>\n",
       "      <th>title-around</th>\n",
       "      <th>title-stone</th>\n",
       "      <th>title-dirty</th>\n",
       "      <th>title-sunday</th>\n",
       "    </tr>\n",
       "  </thead>\n",
       "  <tbody>\n",
       "    <tr>\n",
       "      <th>0</th>\n",
       "      <td>4</td>\n",
       "      <td>1</td>\n",
       "      <td>85.0</td>\n",
       "      <td>2.5</td>\n",
       "      <td>0.0</td>\n",
       "      <td>68.079774</td>\n",
       "      <td>72.550685</td>\n",
       "      <td>102.165613</td>\n",
       "      <td>68.463366</td>\n",
       "      <td>44.035652</td>\n",
       "      <td>...</td>\n",
       "      <td>0.0</td>\n",
       "      <td>0.0</td>\n",
       "      <td>0.0</td>\n",
       "      <td>0.0</td>\n",
       "      <td>0.0</td>\n",
       "      <td>0.0</td>\n",
       "      <td>0.0</td>\n",
       "      <td>0.0</td>\n",
       "      <td>0.0</td>\n",
       "      <td>0.0</td>\n",
       "    </tr>\n",
       "    <tr>\n",
       "      <th>1</th>\n",
       "      <td>1</td>\n",
       "      <td>2</td>\n",
       "      <td>74.0</td>\n",
       "      <td>6.5</td>\n",
       "      <td>1.0</td>\n",
       "      <td>191.098231</td>\n",
       "      <td>208.966681</td>\n",
       "      <td>22.105500</td>\n",
       "      <td>47.674663</td>\n",
       "      <td>48.488609</td>\n",
       "      <td>...</td>\n",
       "      <td>0.0</td>\n",
       "      <td>0.0</td>\n",
       "      <td>0.0</td>\n",
       "      <td>0.0</td>\n",
       "      <td>0.0</td>\n",
       "      <td>0.0</td>\n",
       "      <td>0.0</td>\n",
       "      <td>0.0</td>\n",
       "      <td>0.0</td>\n",
       "      <td>0.0</td>\n",
       "    </tr>\n",
       "    <tr>\n",
       "      <th>2</th>\n",
       "      <td>1</td>\n",
       "      <td>3</td>\n",
       "      <td>101.0</td>\n",
       "      <td>7.0</td>\n",
       "      <td>0.0</td>\n",
       "      <td>137.413546</td>\n",
       "      <td>182.638452</td>\n",
       "      <td>13.397937</td>\n",
       "      <td>84.298923</td>\n",
       "      <td>56.269608</td>\n",
       "      <td>...</td>\n",
       "      <td>0.0</td>\n",
       "      <td>0.0</td>\n",
       "      <td>0.0</td>\n",
       "      <td>0.0</td>\n",
       "      <td>0.0</td>\n",
       "      <td>0.0</td>\n",
       "      <td>0.0</td>\n",
       "      <td>0.0</td>\n",
       "      <td>0.0</td>\n",
       "      <td>0.0</td>\n",
       "    </tr>\n",
       "    <tr>\n",
       "      <th>3</th>\n",
       "      <td>1</td>\n",
       "      <td>4</td>\n",
       "      <td>109.0</td>\n",
       "      <td>5.4</td>\n",
       "      <td>2.0</td>\n",
       "      <td>111.039530</td>\n",
       "      <td>131.641298</td>\n",
       "      <td>22.980174</td>\n",
       "      <td>95.767782</td>\n",
       "      <td>73.249064</td>\n",
       "      <td>...</td>\n",
       "      <td>0.0</td>\n",
       "      <td>0.0</td>\n",
       "      <td>0.0</td>\n",
       "      <td>0.0</td>\n",
       "      <td>0.0</td>\n",
       "      <td>0.0</td>\n",
       "      <td>0.0</td>\n",
       "      <td>0.0</td>\n",
       "      <td>0.0</td>\n",
       "      <td>0.0</td>\n",
       "    </tr>\n",
       "    <tr>\n",
       "      <th>4</th>\n",
       "      <td>1</td>\n",
       "      <td>2</td>\n",
       "      <td>122.0</td>\n",
       "      <td>8.0</td>\n",
       "      <td>0.0</td>\n",
       "      <td>38.639794</td>\n",
       "      <td>40.171180</td>\n",
       "      <td>17.569737</td>\n",
       "      <td>75.277250</td>\n",
       "      <td>66.435464</td>\n",
       "      <td>...</td>\n",
       "      <td>0.0</td>\n",
       "      <td>0.0</td>\n",
       "      <td>0.0</td>\n",
       "      <td>0.0</td>\n",
       "      <td>0.0</td>\n",
       "      <td>0.0</td>\n",
       "      <td>0.0</td>\n",
       "      <td>0.0</td>\n",
       "      <td>0.0</td>\n",
       "      <td>0.0</td>\n",
       "    </tr>\n",
       "    <tr>\n",
       "      <th>...</th>\n",
       "      <td>...</td>\n",
       "      <td>...</td>\n",
       "      <td>...</td>\n",
       "      <td>...</td>\n",
       "      <td>...</td>\n",
       "      <td>...</td>\n",
       "      <td>...</td>\n",
       "      <td>...</td>\n",
       "      <td>...</td>\n",
       "      <td>...</td>\n",
       "      <td>...</td>\n",
       "      <td>...</td>\n",
       "      <td>...</td>\n",
       "      <td>...</td>\n",
       "      <td>...</td>\n",
       "      <td>...</td>\n",
       "      <td>...</td>\n",
       "      <td>...</td>\n",
       "      <td>...</td>\n",
       "      <td>...</td>\n",
       "      <td>...</td>\n",
       "    </tr>\n",
       "    <tr>\n",
       "      <th>15310</th>\n",
       "      <td>1</td>\n",
       "      <td>2</td>\n",
       "      <td>69.0</td>\n",
       "      <td>7.3</td>\n",
       "      <td>0.0</td>\n",
       "      <td>107.746298</td>\n",
       "      <td>145.027683</td>\n",
       "      <td>80.682770</td>\n",
       "      <td>81.018169</td>\n",
       "      <td>85.983949</td>\n",
       "      <td>...</td>\n",
       "      <td>0.0</td>\n",
       "      <td>0.0</td>\n",
       "      <td>0.0</td>\n",
       "      <td>0.0</td>\n",
       "      <td>0.0</td>\n",
       "      <td>0.0</td>\n",
       "      <td>0.0</td>\n",
       "      <td>0.0</td>\n",
       "      <td>0.0</td>\n",
       "      <td>0.0</td>\n",
       "    </tr>\n",
       "    <tr>\n",
       "      <th>15311</th>\n",
       "      <td>4</td>\n",
       "      <td>4</td>\n",
       "      <td>110.0</td>\n",
       "      <td>6.4</td>\n",
       "      <td>2.0</td>\n",
       "      <td>130.606780</td>\n",
       "      <td>47.250846</td>\n",
       "      <td>120.030067</td>\n",
       "      <td>76.479428</td>\n",
       "      <td>40.563871</td>\n",
       "      <td>...</td>\n",
       "      <td>0.0</td>\n",
       "      <td>0.0</td>\n",
       "      <td>0.0</td>\n",
       "      <td>0.0</td>\n",
       "      <td>0.0</td>\n",
       "      <td>0.0</td>\n",
       "      <td>0.0</td>\n",
       "      <td>0.0</td>\n",
       "      <td>0.0</td>\n",
       "      <td>0.0</td>\n",
       "    </tr>\n",
       "    <tr>\n",
       "      <th>15312</th>\n",
       "      <td>1</td>\n",
       "      <td>2</td>\n",
       "      <td>92.0</td>\n",
       "      <td>5.6</td>\n",
       "      <td>1.0</td>\n",
       "      <td>221.232039</td>\n",
       "      <td>42.578765</td>\n",
       "      <td>53.822094</td>\n",
       "      <td>51.282479</td>\n",
       "      <td>75.452311</td>\n",
       "      <td>...</td>\n",
       "      <td>0.0</td>\n",
       "      <td>0.0</td>\n",
       "      <td>0.0</td>\n",
       "      <td>0.0</td>\n",
       "      <td>0.0</td>\n",
       "      <td>0.0</td>\n",
       "      <td>0.0</td>\n",
       "      <td>0.0</td>\n",
       "      <td>0.0</td>\n",
       "      <td>0.0</td>\n",
       "    </tr>\n",
       "    <tr>\n",
       "      <th>15313</th>\n",
       "      <td>1</td>\n",
       "      <td>2</td>\n",
       "      <td>145.0</td>\n",
       "      <td>6.8</td>\n",
       "      <td>0.0</td>\n",
       "      <td>130.325504</td>\n",
       "      <td>104.937309</td>\n",
       "      <td>30.772283</td>\n",
       "      <td>67.771797</td>\n",
       "      <td>82.550592</td>\n",
       "      <td>...</td>\n",
       "      <td>0.0</td>\n",
       "      <td>0.0</td>\n",
       "      <td>0.0</td>\n",
       "      <td>0.0</td>\n",
       "      <td>0.0</td>\n",
       "      <td>0.0</td>\n",
       "      <td>0.0</td>\n",
       "      <td>0.0</td>\n",
       "      <td>0.0</td>\n",
       "      <td>0.0</td>\n",
       "    </tr>\n",
       "    <tr>\n",
       "      <th>15314</th>\n",
       "      <td>1</td>\n",
       "      <td>2</td>\n",
       "      <td>121.0</td>\n",
       "      <td>7.0</td>\n",
       "      <td>2.0</td>\n",
       "      <td>60.820993</td>\n",
       "      <td>42.527185</td>\n",
       "      <td>20.666306</td>\n",
       "      <td>77.608276</td>\n",
       "      <td>66.107898</td>\n",
       "      <td>...</td>\n",
       "      <td>0.0</td>\n",
       "      <td>0.0</td>\n",
       "      <td>0.0</td>\n",
       "      <td>0.0</td>\n",
       "      <td>0.0</td>\n",
       "      <td>0.0</td>\n",
       "      <td>0.0</td>\n",
       "      <td>0.0</td>\n",
       "      <td>0.0</td>\n",
       "      <td>0.0</td>\n",
       "    </tr>\n",
       "  </tbody>\n",
       "</table>\n",
       "<p>15315 rows × 3551 columns</p>\n",
       "</div>"
      ],
      "text/plain": [
       "       original_language  production_countries  runtime  IMDBscore  num_faces  \\\n",
       "0                      4                     1     85.0        2.5        0.0   \n",
       "1                      1                     2     74.0        6.5        1.0   \n",
       "2                      1                     3    101.0        7.0        0.0   \n",
       "3                      1                     4    109.0        5.4        2.0   \n",
       "4                      1                     2    122.0        8.0        0.0   \n",
       "...                  ...                   ...      ...        ...        ...   \n",
       "15310                  1                     2     69.0        7.3        0.0   \n",
       "15311                  4                     4    110.0        6.4        2.0   \n",
       "15312                  1                     2     92.0        5.6        1.0   \n",
       "15313                  1                     2    145.0        6.8        0.0   \n",
       "15314                  1                     2    121.0        7.0        2.0   \n",
       "\n",
       "       brightness  saturation         hue  brightness_sd  saturation_sd  ...  \\\n",
       "0       68.079774   72.550685  102.165613      68.463366      44.035652  ...   \n",
       "1      191.098231  208.966681   22.105500      47.674663      48.488609  ...   \n",
       "2      137.413546  182.638452   13.397937      84.298923      56.269608  ...   \n",
       "3      111.039530  131.641298   22.980174      95.767782      73.249064  ...   \n",
       "4       38.639794   40.171180   17.569737      75.277250      66.435464  ...   \n",
       "...           ...         ...         ...            ...            ...  ...   \n",
       "15310  107.746298  145.027683   80.682770      81.018169      85.983949  ...   \n",
       "15311  130.606780   47.250846  120.030067      76.479428      40.563871  ...   \n",
       "15312  221.232039   42.578765   53.822094      51.282479      75.452311  ...   \n",
       "15313  130.325504  104.937309   30.772283      67.771797      82.550592  ...   \n",
       "15314   60.820993   42.527185   20.666306      77.608276      66.107898  ...   \n",
       "\n",
       "       title-blues  title-im  title-book  title-daughter  title-1  \\\n",
       "0              0.0       0.0         0.0             0.0      0.0   \n",
       "1              0.0       0.0         0.0             0.0      0.0   \n",
       "2              0.0       0.0         0.0             0.0      0.0   \n",
       "3              0.0       0.0         0.0             0.0      0.0   \n",
       "4              0.0       0.0         0.0             0.0      0.0   \n",
       "...            ...       ...         ...             ...      ...   \n",
       "15310          0.0       0.0         0.0             0.0      0.0   \n",
       "15311          0.0       0.0         0.0             0.0      0.0   \n",
       "15312          0.0       0.0         0.0             0.0      0.0   \n",
       "15313          0.0       0.0         0.0             0.0      0.0   \n",
       "15314          0.0       0.0         0.0             0.0      0.0   \n",
       "\n",
       "       title-eight  title-around  title-stone  title-dirty  title-sunday  \n",
       "0              0.0           0.0          0.0          0.0           0.0  \n",
       "1              0.0           0.0          0.0          0.0           0.0  \n",
       "2              0.0           0.0          0.0          0.0           0.0  \n",
       "3              0.0           0.0          0.0          0.0           0.0  \n",
       "4              0.0           0.0          0.0          0.0           0.0  \n",
       "...            ...           ...          ...          ...           ...  \n",
       "15310          0.0           0.0          0.0          0.0           0.0  \n",
       "15311          0.0           0.0          0.0          0.0           0.0  \n",
       "15312          0.0           0.0          0.0          0.0           0.0  \n",
       "15313          0.0           0.0          0.0          0.0           0.0  \n",
       "15314          0.0           0.0          0.0          0.0           0.0  \n",
       "\n",
       "[15315 rows x 3551 columns]"
      ]
     },
     "execution_count": 87,
     "metadata": {},
     "output_type": "execute_result"
    }
   ],
   "source": [
    "train_data"
   ]
  },
  {
   "cell_type": "code",
   "execution_count": 88,
   "metadata": {
    "colab": {
     "base_uri": "https://localhost:8080/"
    },
    "id": "Pye3euix5Byy",
    "outputId": "648816de-8fa3-4634-e56f-578e26235ee2"
   },
   "outputs": [
    {
     "name": "stdout",
     "output_type": "stream",
     "text": [
      "<class 'pandas.core.frame.DataFrame'>\n",
      "RangeIndex: 15315 entries, 0 to 15314\n",
      "Columns: 3551 entries, original_language to title-sunday\n",
      "dtypes: float64(3548), int64(3)\n",
      "memory usage: 414.9 MB\n"
     ]
    }
   ],
   "source": [
    "train_data.info()"
   ]
  },
  {
   "cell_type": "markdown",
   "metadata": {
    "id": "VPjbmPRJ8UZn"
   },
   "source": [
    "## normailizing the data"
   ]
  },
  {
   "cell_type": "code",
   "execution_count": null,
   "metadata": {},
   "outputs": [],
   "source": []
  },
  {
   "cell_type": "code",
   "execution_count": 89,
   "metadata": {
    "id": "oAzCOR2e8UZn"
   },
   "outputs": [],
   "source": [
    "for col in ['original_language','runtime', 'num_faces', 'hue', 'hue_sd', 'saturation', 'saturation_sd', 'brightness', 'brightness_sd',\n",
    "            'blue', 'blue_sd', 'green', 'green_sd', 'red', 'red_sd', 'year', 'production_countries']:\n",
    "    mean_feature = np.mean(train_data[col])\n",
    "    sd_feature = np.std(train_data[col])\n",
    "    # if sd_feature != 0:\n",
    "    train_data[col] = (train_data[col] - mean_feature) / sd_feature\n",
    "    valid_data[col] = (valid_data[col] - mean_feature) / sd_feature\n",
    "    test_data[col] = (test_data[col] - mean_feature) / sd_feature\n",
    "    # else:\n",
    "        # train_data[col] = (train_data[col] - mean_feature)\n",
    "        # valid_data[col] = (valid_data[col] - mean_feature)\n",
    "        # test_data[col] = (test_data[col] - mean_feature)\n"
   ]
  },
  {
   "cell_type": "code",
   "execution_count": 90,
   "metadata": {
    "colab": {
     "base_uri": "https://localhost:8080/"
    },
    "id": "t2YAxWm18UZo",
    "outputId": "c5ec19cc-62a9-49ef-80ec-c53ae4bb1e03"
   },
   "outputs": [
    {
     "name": "stdout",
     "output_type": "stream",
     "text": [
      "(15315, 3551)\n",
      "(3282, 3551)\n",
      "(3282, 3551)\n"
     ]
    }
   ],
   "source": [
    "print(train_data.shape)\n",
    "print(valid_data.shape)\n",
    "print(test_data.shape)\n",
    "train_X = train_data.drop(columns=['IMDBscore'])\n",
    "valid_X = valid_data.drop(columns=['IMDBscore'])\n",
    "test_X = test_data.drop(columns=['IMDBscore'])"
   ]
  },
  {
   "cell_type": "markdown",
   "metadata": {
    "id": "BZNDpm2r8UZo"
   },
   "source": [
    "# Linear Regression"
   ]
  },
  {
   "cell_type": "code",
   "execution_count": 91,
   "metadata": {
    "id": "whVzKnzP8UZo"
   },
   "outputs": [],
   "source": [
    "from sklearn.metrics import mean_squared_error\n",
    "from sklearn.linear_model import LinearRegression\n",
    "from sklearn.linear_model import Ridge\n",
    "from sklearn.linear_model import Lasso"
   ]
  },
  {
   "cell_type": "code",
   "execution_count": 92,
   "metadata": {
    "colab": {
     "base_uri": "https://localhost:8080/"
    },
    "id": "JevN2lSL8UZo",
    "outputId": "a90ed70a-7b82-49e4-88a8-3cbc66c07a10"
   },
   "outputs": [
    {
     "name": "stdout",
     "output_type": "stream",
     "text": [
      "1.198378109161272\n",
      "1.227878741952494\n",
      "1.1594372637613448\n"
     ]
    }
   ],
   "source": [
    "print(np.cov(train_data['IMDBscore']))\n",
    "print(np.cov(valid_data['IMDBscore']))\n",
    "print(np.cov(test_data['IMDBscore']))\n"
   ]
  },
  {
   "cell_type": "code",
   "execution_count": 93,
   "metadata": {
    "colab": {
     "base_uri": "https://localhost:8080/",
     "height": 404
    },
    "id": "0jjyoWmn8UZp",
    "outputId": "b1e92e40-b3d5-4647-9937-68c9de112508"
   },
   "outputs": [
    {
     "name": "stdout",
     "output_type": "stream",
     "text": [
      "Train R^2:  0.599617099431068\n",
      "Train MSE:  0.47977877390195023\n",
      "Valid R^2:  0.3158292623453489\n",
      "Valid MSE:  0.8398227391523241\n",
      "Test R^2:  0.34211269156679713\n",
      "Test MSE:  0.7625466478765848\n"
     ]
    }
   ],
   "source": [
    "reg = LinearRegression().fit(train_X, train_data['IMDBscore'])\n",
    "\n",
    "print('Train R^2: ', reg.score(train_X, train_data['IMDBscore']))\n",
    "print('Train MSE: ', mean_squared_error(\n",
    "    reg.predict(train_X), train_data['IMDBscore']))\n",
    "\n",
    "print('Valid R^2: ', reg.score(valid_X, valid_data['IMDBscore']))\n",
    "print('Valid MSE: ', mean_squared_error(\n",
    "    reg.predict(valid_X), valid_data['IMDBscore']))\n",
    "\n",
    "print('Test R^2: ', reg.score(test_X, test_data['IMDBscore']))\n",
    "print('Test MSE: ', mean_squared_error(\n",
    "    reg.predict(test_X), test_data['IMDBscore']))"
   ]
  },
  {
   "cell_type": "code",
   "execution_count": 94,
   "metadata": {
    "id": "AAiXzFqI8UZp"
   },
   "outputs": [
    {
     "name": "stdout",
     "output_type": "stream",
     "text": [
      "Train R^2:  0.59961697738744\n",
      "Train MSE:  0.4797789201468127\n",
      "Valid R^2:  0.3160201201994226\n",
      "Valid MSE:  0.8395884602552957\n",
      "Test R^2:  0.34234784551744313\n",
      "Test MSE:  0.7622740846966883\n"
     ]
    }
   ],
   "source": [
    "reg = Ridge(alpha=0.01, random_state=0).fit(train_X, train_data['IMDBscore'])\n",
    "\n",
    "print('Train R^2: ', reg.score(train_X, train_data['IMDBscore']))\n",
    "print('Train MSE: ', mean_squared_error(\n",
    "    reg.predict(train_X), train_data['IMDBscore']))\n",
    "\n",
    "print('Valid R^2: ', reg.score(valid_X, valid_data['IMDBscore']))\n",
    "print('Valid MSE: ', mean_squared_error(\n",
    "    reg.predict(valid_X), valid_data['IMDBscore']))\n",
    "\n",
    "print('Test R^2: ', reg.score(test_X, test_data['IMDBscore']))\n",
    "print('Test MSE: ', mean_squared_error(\n",
    "    reg.predict(test_X), test_data['IMDBscore']))\n"
   ]
  },
  {
   "cell_type": "code",
   "execution_count": 103,
   "metadata": {},
   "outputs": [
    {
     "name": "stdout",
     "output_type": "stream",
     "text": [
      "\u001b[0;31mType:\u001b[0m        float\n",
      "\u001b[0;31mString form:\u001b[0m 0.0001\n",
      "\u001b[0;31mDocstring:\u001b[0m   Convert a string or number to a floating point number, if possible.\n"
     ]
    }
   ],
   "source": [
    "reg.tol?"
   ]
  },
  {
   "cell_type": "code",
   "execution_count": 95,
   "metadata": {
    "id": "GoRrpoAv8UZq"
   },
   "outputs": [
    {
     "name": "stdout",
     "output_type": "stream",
     "text": [
      "Train R^2:  0.31116802644849684\n",
      "Train MSE:  0.8254272578209231\n",
      "Valid R^2:  0.30685858949844247\n",
      "Valid MSE:  0.8508342814877276\n",
      "Test R^2:  0.3358128274581128\n",
      "Test MSE:  0.7698487195179973\n"
     ]
    }
   ],
   "source": [
    "reg = Lasso(alpha=0.01, random_state=0).fit(train_X, train_data['IMDBscore'])\n",
    "\n",
    "print('Train R^2: ', reg.score(train_X, train_data['IMDBscore']))\n",
    "print('Train MSE: ', mean_squared_error(\n",
    "    reg.predict(train_X), train_data['IMDBscore']))\n",
    "\n",
    "print('Valid R^2: ', reg.score(valid_X, valid_data['IMDBscore']))\n",
    "print('Valid MSE: ', mean_squared_error(\n",
    "    reg.predict(valid_X), valid_data['IMDBscore']))\n",
    "\n",
    "print('Test R^2: ', reg.score(test_X, test_data['IMDBscore']))\n",
    "print('Test MSE: ', mean_squared_error(\n",
    "    reg.predict(test_X), test_data['IMDBscore']))"
   ]
  },
  {
   "cell_type": "code",
   "execution_count": 97,
   "metadata": {
    "id": "JO8S2sCWmuIA"
   },
   "outputs": [],
   "source": [
    "from sklearn.model_selection import learning_curve\n",
    "from io import StringIO\n"
   ]
  },
  {
   "cell_type": "code",
   "execution_count": 100,
   "metadata": {},
   "outputs": [
    {
     "name": "stdout",
     "output_type": "stream",
     "text": [
      "\u001b[0;31mInit signature:\u001b[0m\n",
      "\u001b[0mLinearRegression\u001b[0m\u001b[0;34m(\u001b[0m\u001b[0;34m\u001b[0m\n",
      "\u001b[0;34m\u001b[0m    \u001b[0;34m*\u001b[0m\u001b[0;34m,\u001b[0m\u001b[0;34m\u001b[0m\n",
      "\u001b[0;34m\u001b[0m    \u001b[0mfit_intercept\u001b[0m\u001b[0;34m=\u001b[0m\u001b[0;32mTrue\u001b[0m\u001b[0;34m,\u001b[0m\u001b[0;34m\u001b[0m\n",
      "\u001b[0;34m\u001b[0m    \u001b[0mnormalize\u001b[0m\u001b[0;34m=\u001b[0m\u001b[0;32mFalse\u001b[0m\u001b[0;34m,\u001b[0m\u001b[0;34m\u001b[0m\n",
      "\u001b[0;34m\u001b[0m    \u001b[0mcopy_X\u001b[0m\u001b[0;34m=\u001b[0m\u001b[0;32mTrue\u001b[0m\u001b[0;34m,\u001b[0m\u001b[0;34m\u001b[0m\n",
      "\u001b[0;34m\u001b[0m    \u001b[0mn_jobs\u001b[0m\u001b[0;34m=\u001b[0m\u001b[0;32mNone\u001b[0m\u001b[0;34m,\u001b[0m\u001b[0;34m\u001b[0m\n",
      "\u001b[0;34m\u001b[0m    \u001b[0mpositive\u001b[0m\u001b[0;34m=\u001b[0m\u001b[0;32mFalse\u001b[0m\u001b[0;34m,\u001b[0m\u001b[0;34m\u001b[0m\n",
      "\u001b[0;34m\u001b[0m\u001b[0;34m)\u001b[0m\u001b[0;34m\u001b[0m\u001b[0;34m\u001b[0m\u001b[0m\n",
      "\u001b[0;31mDocstring:\u001b[0m     \n",
      "Ordinary least squares Linear Regression.\n",
      "\n",
      "LinearRegression fits a linear model with coefficients w = (w1, ..., wp)\n",
      "to minimize the residual sum of squares between the observed targets in\n",
      "the dataset, and the targets predicted by the linear approximation.\n",
      "\n",
      "Parameters\n",
      "----------\n",
      "fit_intercept : bool, default=True\n",
      "    Whether to calculate the intercept for this model. If set\n",
      "    to False, no intercept will be used in calculations\n",
      "    (i.e. data is expected to be centered).\n",
      "\n",
      "normalize : bool, default=False\n",
      "    This parameter is ignored when ``fit_intercept`` is set to False.\n",
      "    If True, the regressors X will be normalized before regression by\n",
      "    subtracting the mean and dividing by the l2-norm.\n",
      "    If you wish to standardize, please use\n",
      "    :class:`~sklearn.preprocessing.StandardScaler` before calling ``fit``\n",
      "    on an estimator with ``normalize=False``.\n",
      "\n",
      "copy_X : bool, default=True\n",
      "    If True, X will be copied; else, it may be overwritten.\n",
      "\n",
      "n_jobs : int, default=None\n",
      "    The number of jobs to use for the computation. This will only provide\n",
      "    speedup for n_targets > 1 and sufficient large problems.\n",
      "    ``None`` means 1 unless in a :obj:`joblib.parallel_backend` context.\n",
      "    ``-1`` means using all processors. See :term:`Glossary <n_jobs>`\n",
      "    for more details.\n",
      "\n",
      "positive : bool, default=False\n",
      "    When set to ``True``, forces the coefficients to be positive. This\n",
      "    option is only supported for dense arrays.\n",
      "\n",
      "    .. versionadded:: 0.24\n",
      "\n",
      "Attributes\n",
      "----------\n",
      "coef_ : array of shape (n_features, ) or (n_targets, n_features)\n",
      "    Estimated coefficients for the linear regression problem.\n",
      "    If multiple targets are passed during the fit (y 2D), this\n",
      "    is a 2D array of shape (n_targets, n_features), while if only\n",
      "    one target is passed, this is a 1D array of length n_features.\n",
      "\n",
      "rank_ : int\n",
      "    Rank of matrix `X`. Only available when `X` is dense.\n",
      "\n",
      "singular_ : array of shape (min(X, y),)\n",
      "    Singular values of `X`. Only available when `X` is dense.\n",
      "\n",
      "intercept_ : float or array of shape (n_targets,)\n",
      "    Independent term in the linear model. Set to 0.0 if\n",
      "    `fit_intercept = False`.\n",
      "\n",
      "See Also\n",
      "--------\n",
      "Ridge : Ridge regression addresses some of the\n",
      "    problems of Ordinary Least Squares by imposing a penalty on the\n",
      "    size of the coefficients with l2 regularization.\n",
      "Lasso : The Lasso is a linear model that estimates\n",
      "    sparse coefficients with l1 regularization.\n",
      "ElasticNet : Elastic-Net is a linear regression\n",
      "    model trained with both l1 and l2 -norm regularization of the\n",
      "    coefficients.\n",
      "\n",
      "Notes\n",
      "-----\n",
      "From the implementation point of view, this is just plain Ordinary\n",
      "Least Squares (scipy.linalg.lstsq) or Non Negative Least Squares\n",
      "(scipy.optimize.nnls) wrapped as a predictor object.\n",
      "\n",
      "Examples\n",
      "--------\n",
      ">>> import numpy as np\n",
      ">>> from sklearn.linear_model import LinearRegression\n",
      ">>> X = np.array([[1, 1], [1, 2], [2, 2], [2, 3]])\n",
      ">>> # y = 1 * x_0 + 2 * x_1 + 3\n",
      ">>> y = np.dot(X, np.array([1, 2])) + 3\n",
      ">>> reg = LinearRegression().fit(X, y)\n",
      ">>> reg.score(X, y)\n",
      "1.0\n",
      ">>> reg.coef_\n",
      "array([1., 2.])\n",
      ">>> reg.intercept_\n",
      "3.0000...\n",
      ">>> reg.predict(np.array([[3, 5]]))\n",
      "array([16.])\n",
      "\u001b[0;31mFile:\u001b[0m           /Library/Frameworks/Python.framework/Versions/3.9/lib/python3.9/site-packages/sklearn/linear_model/_base.py\n",
      "\u001b[0;31mType:\u001b[0m           ABCMeta\n",
      "\u001b[0;31mSubclasses:\u001b[0m     \n"
     ]
    }
   ],
   "source": [
    "LinearRegression?"
   ]
  },
  {
   "cell_type": "code",
   "execution_count": 99,
   "metadata": {},
   "outputs": [
    {
     "ename": "TypeError",
     "evalue": "__init__() got an unexpected keyword argument 'verbose'",
     "output_type": "error",
     "traceback": [
      "\u001b[0;31m---------------------------------------------------------------------------\u001b[0m",
      "\u001b[0;31mTypeError\u001b[0m                                 Traceback (most recent call last)",
      "\u001b[0;32m/var/folders/fc/z3ktrz354nddfg1wt432tbm80000gn/T/ipykernel_3336/33258178.py\u001b[0m in \u001b[0;36m<module>\u001b[0;34m\u001b[0m\n\u001b[0;32m----> 1\u001b[0;31m \u001b[0mreg\u001b[0m \u001b[0;34m=\u001b[0m \u001b[0mRidge\u001b[0m\u001b[0;34m(\u001b[0m\u001b[0malpha\u001b[0m\u001b[0;34m=\u001b[0m\u001b[0;36m0.01\u001b[0m\u001b[0;34m,\u001b[0m \u001b[0mrandom_state\u001b[0m\u001b[0;34m=\u001b[0m\u001b[0;36m0\u001b[0m\u001b[0;34m,\u001b[0m \u001b[0mverbose\u001b[0m\u001b[0;34m=\u001b[0m\u001b[0;36m1\u001b[0m\u001b[0;34m)\u001b[0m\u001b[0;34m.\u001b[0m\u001b[0mfit\u001b[0m\u001b[0;34m(\u001b[0m\u001b[0mtrain_X\u001b[0m\u001b[0;34m,\u001b[0m \u001b[0mtrain_data\u001b[0m\u001b[0;34m[\u001b[0m\u001b[0;34m'IMDBscore'\u001b[0m\u001b[0;34m]\u001b[0m\u001b[0;34m)\u001b[0m\u001b[0;34m\u001b[0m\u001b[0;34m\u001b[0m\u001b[0m\n\u001b[0m",
      "\u001b[0;32m/Library/Frameworks/Python.framework/Versions/3.9/lib/python3.9/site-packages/sklearn/utils/validation.py\u001b[0m in \u001b[0;36minner_f\u001b[0;34m(*args, **kwargs)\u001b[0m\n\u001b[1;32m     61\u001b[0m             \u001b[0mextra_args\u001b[0m \u001b[0;34m=\u001b[0m \u001b[0mlen\u001b[0m\u001b[0;34m(\u001b[0m\u001b[0margs\u001b[0m\u001b[0;34m)\u001b[0m \u001b[0;34m-\u001b[0m \u001b[0mlen\u001b[0m\u001b[0;34m(\u001b[0m\u001b[0mall_args\u001b[0m\u001b[0;34m)\u001b[0m\u001b[0;34m\u001b[0m\u001b[0;34m\u001b[0m\u001b[0m\n\u001b[1;32m     62\u001b[0m             \u001b[0;32mif\u001b[0m \u001b[0mextra_args\u001b[0m \u001b[0;34m<=\u001b[0m \u001b[0;36m0\u001b[0m\u001b[0;34m:\u001b[0m\u001b[0;34m\u001b[0m\u001b[0;34m\u001b[0m\u001b[0m\n\u001b[0;32m---> 63\u001b[0;31m                 \u001b[0;32mreturn\u001b[0m \u001b[0mf\u001b[0m\u001b[0;34m(\u001b[0m\u001b[0;34m*\u001b[0m\u001b[0margs\u001b[0m\u001b[0;34m,\u001b[0m \u001b[0;34m**\u001b[0m\u001b[0mkwargs\u001b[0m\u001b[0;34m)\u001b[0m\u001b[0;34m\u001b[0m\u001b[0;34m\u001b[0m\u001b[0m\n\u001b[0m\u001b[1;32m     64\u001b[0m \u001b[0;34m\u001b[0m\u001b[0m\n\u001b[1;32m     65\u001b[0m             \u001b[0;31m# extra_args > 0\u001b[0m\u001b[0;34m\u001b[0m\u001b[0;34m\u001b[0m\u001b[0;34m\u001b[0m\u001b[0m\n",
      "\u001b[0;31mTypeError\u001b[0m: __init__() got an unexpected keyword argument 'verbose'"
     ]
    }
   ],
   "source": [
    "reg = Ridge(alpha=0.01, random_state=0, verbose=1).fit(train_X, train_data['IMDBscore'])\n"
   ]
  },
  {
   "cell_type": "code",
   "execution_count": null,
   "metadata": {},
   "outputs": [],
   "source": []
  }
 ],
 "metadata": {
  "colab": {
   "collapsed_sections": [],
   "name": "try_yash_3.ipynb",
   "provenance": []
  },
  "interpreter": {
   "hash": "aee8b7b246df8f9039afb4144a1f6fd8d2ca17a180786b69acc140d282b71a49"
  },
  "kernelspec": {
   "display_name": "Python 3.9.1 64-bit",
   "name": "python3"
  },
  "language_info": {
   "codemirror_mode": {
    "name": "ipython",
    "version": 3
   },
   "file_extension": ".py",
   "mimetype": "text/x-python",
   "name": "python",
   "nbconvert_exporter": "python",
   "pygments_lexer": "ipython3",
   "version": "3.9.1"
  }
 },
 "nbformat": 4,
 "nbformat_minor": 1
}
