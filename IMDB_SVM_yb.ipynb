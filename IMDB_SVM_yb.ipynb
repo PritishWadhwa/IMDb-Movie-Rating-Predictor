{
  "nbformat": 4,
  "nbformat_minor": 0,
  "metadata": {
    "accelerator": "TPU",
    "colab": {
      "name": "IMDB_SVM_yb.ipynb",
      "provenance": [],
      "collapsed_sections": []
    },
    "kernelspec": {
      "display_name": "Python 3",
      "name": "python3"
    },
    "language_info": {
      "name": "python"
    }
  },
  "cells": [
    {
      "cell_type": "code",
      "metadata": {
        "colab": {
          "base_uri": "https://localhost:8080/"
        },
        "id": "JSfsdDt61DCZ",
        "outputId": "d1993481-1106-4c8b-f70f-3d6f5a837c8e"
      },
      "source": [
        "from google.colab import drive\n",
        "drive.mount('/content/drive')"
      ],
      "execution_count": 1,
      "outputs": [
        {
          "output_type": "stream",
          "name": "stdout",
          "text": [
            "Drive already mounted at /content/drive; to attempt to forcibly remount, call drive.mount(\"/content/drive\", force_remount=True).\n"
          ]
        }
      ]
    },
    {
      "cell_type": "code",
      "metadata": {
        "colab": {
          "base_uri": "https://localhost:8080/"
        },
        "id": "RfdSwDUY1JHv",
        "outputId": "13b4b310-ed28-4ff3-958e-d8b51530c7bc"
      },
      "source": [
        "!ls"
      ],
      "execution_count": 2,
      "outputs": [
        {
          "output_type": "stream",
          "name": "stdout",
          "text": [
            "drive  sample_data\n"
          ]
        }
      ]
    },
    {
      "cell_type": "code",
      "metadata": {
        "id": "PPqS2voZ1gkF"
      },
      "source": [
        "!cd drive/Shareddrives/"
      ],
      "execution_count": 3,
      "outputs": []
    },
    {
      "cell_type": "code",
      "metadata": {
        "colab": {
          "base_uri": "https://localhost:8080/"
        },
        "id": "KeMEodjn1uXJ",
        "outputId": "00fc4d97-1609-49cc-afb0-2d2d66a1fdb1"
      },
      "source": [
        "!ls"
      ],
      "execution_count": 4,
      "outputs": [
        {
          "output_type": "stream",
          "name": "stdout",
          "text": [
            "drive  sample_data\n"
          ]
        }
      ]
    },
    {
      "cell_type": "code",
      "metadata": {
        "colab": {
          "base_uri": "https://localhost:8080/"
        },
        "id": "9_VGGrS_1u4f",
        "outputId": "fa5cba5b-d180-4d30-a21d-1a4b97690d5a"
      },
      "source": [
        "cd drive"
      ],
      "execution_count": 5,
      "outputs": [
        {
          "output_type": "stream",
          "name": "stdout",
          "text": [
            "/content/drive\n"
          ]
        }
      ]
    },
    {
      "cell_type": "code",
      "metadata": {
        "colab": {
          "base_uri": "https://localhost:8080/"
        },
        "id": "1iH4w9wH1wMF",
        "outputId": "8e25b101-8578-4d45-e55d-e170356fa8a1"
      },
      "source": [
        "ls"
      ],
      "execution_count": 6,
      "outputs": [
        {
          "output_type": "stream",
          "name": "stdout",
          "text": [
            "\u001b[0m\u001b[01;34mMyDrive\u001b[0m/  \u001b[01;34mShareddrives\u001b[0m/\n"
          ]
        }
      ]
    },
    {
      "cell_type": "code",
      "metadata": {
        "colab": {
          "base_uri": "https://localhost:8080/"
        },
        "id": "cgRxJzxs1xX2",
        "outputId": "824ee06c-29cc-477a-bf9d-c81df1564d1c"
      },
      "source": [
        "cd MyDrive/Dataset"
      ],
      "execution_count": 7,
      "outputs": [
        {
          "output_type": "stream",
          "name": "stdout",
          "text": [
            "/content/drive/MyDrive/Dataset\n"
          ]
        }
      ]
    },
    {
      "cell_type": "code",
      "metadata": {
        "colab": {
          "base_uri": "https://localhost:8080/"
        },
        "id": "B06lhTSK2BLC",
        "outputId": "e6e257bf-c08a-4387-bed6-5b6d8b4a2c29"
      },
      "source": [
        "!ls"
      ],
      "execution_count": 8,
      "outputs": [
        {
          "output_type": "stream",
          "name": "stdout",
          "text": [
            "bestModelValAcc.h5\t       test_11_buckets.csv   train_6_buckets.csv\n",
            "bestModelValLoss.h5\t       test_21_buckets.csv   train.csv\n",
            "preprocessed.csv\t       test_6_buckets.csv    val.csv\n",
            "pre_standardization_test.csv   test.csv\t\t     valid_11_buckets.csv\n",
            "pre_standardization_train.csv  train_11_buckets.csv  valid_21_buckets.csv\n",
            "pre_standardization_val.csv    train_21_buckets.csv  valid_6_buckets.csv\n"
          ]
        }
      ]
    },
    {
      "cell_type": "code",
      "metadata": {
        "id": "ziglCUF_2CMO"
      },
      "source": [
        "import pandas as pd\n",
        "import numpy as np\n",
        "import matplotlib.pyplot as plt\n"
      ],
      "execution_count": 9,
      "outputs": []
    },
    {
      "cell_type": "code",
      "metadata": {
        "id": "GjyUvstS2aU2"
      },
      "source": [
        "trainData = pd.read_csv('train.csv')\n",
        "trainLabel6 = pd.read_csv('train_6_buckets.csv')\n",
        "trainLabel11 = pd.read_csv('train_11_buckets.csv')\n",
        "trainLabel21 = pd.read_csv('train_21_buckets.csv')\n",
        "testData = pd.read_csv('test.csv')\n",
        "testLabel6 = pd.read_csv('test_6_buckets.csv')\n",
        "testLabel11 = pd.read_csv('test_11_buckets.csv')\n",
        "testLabel21 = pd.read_csv('test_21_buckets.csv')\n",
        "valData = pd.read_csv('val.csv')\n",
        "valLabel6 = pd.read_csv('valid_6_buckets.csv')\n",
        "valLabel11 = pd.read_csv('valid_11_buckets.csv')\n",
        "valLabel21 = pd.read_csv('valid_21_buckets.csv')\n",
        "trainLabel21 *= 2\n",
        "testLabel21 *= 2\n",
        "valLabel21 *= 2"
      ],
      "execution_count": 10,
      "outputs": []
    },
    {
      "cell_type": "code",
      "metadata": {
        "id": "JZuHEBrFagVk"
      },
      "source": [
        "from sklearn import svm"
      ],
      "execution_count": 11,
      "outputs": []
    },
    {
      "cell_type": "code",
      "metadata": {
        "id": "okvzoqmz2fyp"
      },
      "source": [
        "from sklearn.model_selection import GridSearchCV"
      ],
      "execution_count": 12,
      "outputs": []
    },
    {
      "cell_type": "code",
      "metadata": {
        "colab": {
          "background_save": true,
          "base_uri": "https://localhost:8080/"
        },
        "id": "8UNrAm6uRZRA",
        "outputId": "7916c2af-e9e0-4a7b-a008-a578193c09c6"
      },
      "source": [
        "SVM = svm.SVC(C=1.0, kernel='linear', max_iter=2000, verbose=True)\n",
        "SVM.fit(trainData, trainLabel11)\n",
        "print('train', SVM.score(trainData, trainLabel11))\n",
        "print('test', SVM.score(testData, testLabel11))\n",
        "print('val', SVM.score(valData, valLabel11))"
      ],
      "execution_count": null,
      "outputs": [
        {
          "name": "stderr",
          "output_type": "stream",
          "text": [
            "/usr/local/lib/python3.7/dist-packages/sklearn/utils/validation.py:985: DataConversionWarning: A column-vector y was passed when a 1d array was expected. Please change the shape of y to (n_samples, ), for example using ravel().\n",
            "  y = column_or_1d(y, warn=True)\n"
          ]
        },
        {
          "name": "stdout",
          "output_type": "stream",
          "text": [
            "[LibSVM]"
          ]
        },
        {
          "name": "stderr",
          "output_type": "stream",
          "text": [
            "/usr/local/lib/python3.7/dist-packages/sklearn/svm/_base.py:289: ConvergenceWarning: Solver terminated early (max_iter=2000).  Consider pre-processing your data with StandardScaler or MinMaxScaler.\n",
            "  ConvergenceWarning,\n"
          ]
        },
        {
          "name": "stdout",
          "output_type": "stream",
          "text": [
            "train 1.0\n",
            "test 0.944920440636475\n",
            "val 0.9452096724823997\n"
          ]
        }
      ]
    },
    {
      "cell_type": "code",
      "metadata": {
        "colab": {
          "base_uri": "https://localhost:8080/"
        },
        "id": "cu30BP1Iej5I",
        "outputId": "a3c262cb-45e9-4918-b244-b3864c5f6f33"
      },
      "source": [
        "SVM = svm.SVC(C=1.0, kernel='poly', max_iter=2000, verbose=True)\n",
        "SVM.fit(trainData, trainLabel11)\n",
        "print('train', SVM.score(trainData, trainLabel11))\n",
        "print('test', SVM.score(testData, testLabel11))\n",
        "print('val', SVM.score(valData, valLabel11))"
      ],
      "execution_count": 14,
      "outputs": [
        {
          "output_type": "stream",
          "name": "stderr",
          "text": [
            "/usr/local/lib/python3.7/dist-packages/sklearn/utils/validation.py:985: DataConversionWarning: A column-vector y was passed when a 1d array was expected. Please change the shape of y to (n_samples, ), for example using ravel().\n",
            "  y = column_or_1d(y, warn=True)\n"
          ]
        },
        {
          "output_type": "stream",
          "name": "stdout",
          "text": [
            "[LibSVM]"
          ]
        },
        {
          "output_type": "stream",
          "name": "stderr",
          "text": [
            "/usr/local/lib/python3.7/dist-packages/sklearn/svm/_base.py:289: ConvergenceWarning: Solver terminated early (max_iter=2000).  Consider pre-processing your data with StandardScaler or MinMaxScaler.\n",
            "  ConvergenceWarning,\n"
          ]
        },
        {
          "output_type": "stream",
          "name": "stdout",
          "text": [
            "train 0.9824883583655801\n",
            "test 0.9537943696450428\n",
            "val 0.950719314355678\n"
          ]
        }
      ]
    },
    {
      "cell_type": "code",
      "metadata": {
        "colab": {
          "base_uri": "https://localhost:8080/"
        },
        "id": "ByQpO4lMh6sb",
        "outputId": "d163cc91-64c5-4895-fff6-25b8cfca5eda"
      },
      "source": [
        "SVM = svm.SVC(C=1.0, kernel='rbf', max_iter=2000, verbose=True)\n",
        "SVM.fit(trainData, trainLabel11)\n",
        "print('train', SVM.score(trainData, trainLabel11))\n",
        "print('test', SVM.score(testData, testLabel11))\n",
        "print('val', SVM.score(valData, valLabel11))"
      ],
      "execution_count": 15,
      "outputs": [
        {
          "output_type": "stream",
          "name": "stderr",
          "text": [
            "/usr/local/lib/python3.7/dist-packages/sklearn/utils/validation.py:985: DataConversionWarning: A column-vector y was passed when a 1d array was expected. Please change the shape of y to (n_samples, ), for example using ravel().\n",
            "  y = column_or_1d(y, warn=True)\n"
          ]
        },
        {
          "output_type": "stream",
          "name": "stdout",
          "text": [
            "[LibSVM]"
          ]
        },
        {
          "output_type": "stream",
          "name": "stderr",
          "text": [
            "/usr/local/lib/python3.7/dist-packages/sklearn/svm/_base.py:289: ConvergenceWarning: Solver terminated early (max_iter=2000).  Consider pre-processing your data with StandardScaler or MinMaxScaler.\n",
            "  ConvergenceWarning,\n"
          ]
        },
        {
          "output_type": "stream",
          "name": "stdout",
          "text": [
            "train 0.9866203187512298\n",
            "test 0.9406364749082007\n",
            "val 0.9348025711662076\n"
          ]
        }
      ]
    },
    {
      "cell_type": "code",
      "metadata": {
        "colab": {
          "base_uri": "https://localhost:8080/"
        },
        "id": "tMPhT6jwh-Mr",
        "outputId": "900dc3fe-92e9-45ae-fe77-72585921ff06"
      },
      "source": [
        "SVM = svm.SVC(C=1.0, kernel='sigmoid', max_iter=2000, verbose=True)\n",
        "SVM.fit(trainData, trainLabel11)\n",
        "print('train', SVM.score(trainData, trainLabel11))\n",
        "print('test', SVM.score(testData, testLabel11))\n",
        "print('val', SVM.score(valData, valLabel11))"
      ],
      "execution_count": 16,
      "outputs": [
        {
          "output_type": "stream",
          "name": "stderr",
          "text": [
            "/usr/local/lib/python3.7/dist-packages/sklearn/utils/validation.py:985: DataConversionWarning: A column-vector y was passed when a 1d array was expected. Please change the shape of y to (n_samples, ), for example using ravel().\n",
            "  y = column_or_1d(y, warn=True)\n"
          ]
        },
        {
          "output_type": "stream",
          "name": "stdout",
          "text": [
            "[LibSVM]"
          ]
        },
        {
          "output_type": "stream",
          "name": "stderr",
          "text": [
            "/usr/local/lib/python3.7/dist-packages/sklearn/svm/_base.py:289: ConvergenceWarning: Solver terminated early (max_iter=2000).  Consider pre-processing your data with StandardScaler or MinMaxScaler.\n",
            "  ConvergenceWarning,\n"
          ]
        },
        {
          "output_type": "stream",
          "name": "stdout",
          "text": [
            "train 0.6654423821079557\n",
            "test 0.6416768665850673\n",
            "val 0.6437098255280074\n"
          ]
        }
      ]
    },
    {
      "cell_type": "code",
      "metadata": {
        "colab": {
          "base_uri": "https://localhost:8080/",
          "height": 410
        },
        "id": "1rVvvPAHiDU7",
        "outputId": "0a1ec751-7db0-42ad-a240-7a63cafb522c"
      },
      "source": [
        "SVM = svm.SVC(C=1.0, kernel='precomputed', max_iter=2000, verbose=True)\n",
        "SVM.fit(trainData, trainLabel11)\n",
        "print('train', SVM.score(trainData, trainLabel11))\n",
        "print('test', SVM.score(testData, testLabel11))\n",
        "print('val', SVM.score(valData, valLabel11))"
      ],
      "execution_count": 17,
      "outputs": [
        {
          "output_type": "stream",
          "name": "stderr",
          "text": [
            "/usr/local/lib/python3.7/dist-packages/sklearn/utils/validation.py:985: DataConversionWarning: A column-vector y was passed when a 1d array was expected. Please change the shape of y to (n_samples, ), for example using ravel().\n",
            "  y = column_or_1d(y, warn=True)\n"
          ]
        },
        {
          "output_type": "error",
          "ename": "ValueError",
          "evalue": "ignored",
          "traceback": [
            "\u001b[0;31m---------------------------------------------------------------------------\u001b[0m",
            "\u001b[0;31mValueError\u001b[0m                                Traceback (most recent call last)",
            "\u001b[0;32m<ipython-input-17-876f25f00e93>\u001b[0m in \u001b[0;36m<module>\u001b[0;34m()\u001b[0m\n\u001b[1;32m      1\u001b[0m \u001b[0mSVM\u001b[0m \u001b[0;34m=\u001b[0m \u001b[0msvm\u001b[0m\u001b[0;34m.\u001b[0m\u001b[0mSVC\u001b[0m\u001b[0;34m(\u001b[0m\u001b[0mC\u001b[0m\u001b[0;34m=\u001b[0m\u001b[0;36m1.0\u001b[0m\u001b[0;34m,\u001b[0m \u001b[0mkernel\u001b[0m\u001b[0;34m=\u001b[0m\u001b[0;34m'precomputed'\u001b[0m\u001b[0;34m,\u001b[0m \u001b[0mmax_iter\u001b[0m\u001b[0;34m=\u001b[0m\u001b[0;36m2000\u001b[0m\u001b[0;34m,\u001b[0m \u001b[0mverbose\u001b[0m\u001b[0;34m=\u001b[0m\u001b[0;32mTrue\u001b[0m\u001b[0;34m)\u001b[0m\u001b[0;34m\u001b[0m\u001b[0;34m\u001b[0m\u001b[0m\n\u001b[0;32m----> 2\u001b[0;31m \u001b[0mSVM\u001b[0m\u001b[0;34m.\u001b[0m\u001b[0mfit\u001b[0m\u001b[0;34m(\u001b[0m\u001b[0mtrainData\u001b[0m\u001b[0;34m,\u001b[0m \u001b[0mtrainLabel11\u001b[0m\u001b[0;34m)\u001b[0m\u001b[0;34m\u001b[0m\u001b[0;34m\u001b[0m\u001b[0m\n\u001b[0m\u001b[1;32m      3\u001b[0m \u001b[0mprint\u001b[0m\u001b[0;34m(\u001b[0m\u001b[0;34m'train'\u001b[0m\u001b[0;34m,\u001b[0m \u001b[0mSVM\u001b[0m\u001b[0;34m.\u001b[0m\u001b[0mscore\u001b[0m\u001b[0;34m(\u001b[0m\u001b[0mtrainData\u001b[0m\u001b[0;34m,\u001b[0m \u001b[0mtrainLabel11\u001b[0m\u001b[0;34m)\u001b[0m\u001b[0;34m)\u001b[0m\u001b[0;34m\u001b[0m\u001b[0;34m\u001b[0m\u001b[0m\n\u001b[1;32m      4\u001b[0m \u001b[0mprint\u001b[0m\u001b[0;34m(\u001b[0m\u001b[0;34m'test'\u001b[0m\u001b[0;34m,\u001b[0m \u001b[0mSVM\u001b[0m\u001b[0;34m.\u001b[0m\u001b[0mscore\u001b[0m\u001b[0;34m(\u001b[0m\u001b[0mtestData\u001b[0m\u001b[0;34m,\u001b[0m \u001b[0mtestLabel11\u001b[0m\u001b[0;34m)\u001b[0m\u001b[0;34m)\u001b[0m\u001b[0;34m\u001b[0m\u001b[0;34m\u001b[0m\u001b[0m\n\u001b[1;32m      5\u001b[0m \u001b[0mprint\u001b[0m\u001b[0;34m(\u001b[0m\u001b[0;34m'val'\u001b[0m\u001b[0;34m,\u001b[0m \u001b[0mSVM\u001b[0m\u001b[0;34m.\u001b[0m\u001b[0mscore\u001b[0m\u001b[0;34m(\u001b[0m\u001b[0mvalData\u001b[0m\u001b[0;34m,\u001b[0m \u001b[0mvalLabel11\u001b[0m\u001b[0;34m)\u001b[0m\u001b[0;34m)\u001b[0m\u001b[0;34m\u001b[0m\u001b[0;34m\u001b[0m\u001b[0m\n",
            "\u001b[0;32m/usr/local/lib/python3.7/dist-packages/sklearn/svm/_base.py\u001b[0m in \u001b[0;36mfit\u001b[0;34m(self, X, y, sample_weight)\u001b[0m\n\u001b[1;32m    215\u001b[0m             raise ValueError(\n\u001b[1;32m    216\u001b[0m                 \u001b[0;34m\"Precomputed matrix must be a square matrix.\"\u001b[0m\u001b[0;34m\u001b[0m\u001b[0;34m\u001b[0m\u001b[0m\n\u001b[0;32m--> 217\u001b[0;31m                 \u001b[0;34m\" Input is a {}x{} matrix.\"\u001b[0m\u001b[0;34m.\u001b[0m\u001b[0mformat\u001b[0m\u001b[0;34m(\u001b[0m\u001b[0mX\u001b[0m\u001b[0;34m.\u001b[0m\u001b[0mshape\u001b[0m\u001b[0;34m[\u001b[0m\u001b[0;36m0\u001b[0m\u001b[0;34m]\u001b[0m\u001b[0;34m,\u001b[0m \u001b[0mX\u001b[0m\u001b[0;34m.\u001b[0m\u001b[0mshape\u001b[0m\u001b[0;34m[\u001b[0m\u001b[0;36m1\u001b[0m\u001b[0;34m]\u001b[0m\u001b[0;34m)\u001b[0m\u001b[0;34m\u001b[0m\u001b[0;34m\u001b[0m\u001b[0m\n\u001b[0m\u001b[1;32m    218\u001b[0m             )\n\u001b[1;32m    219\u001b[0m \u001b[0;34m\u001b[0m\u001b[0m\n",
            "\u001b[0;31mValueError\u001b[0m: Precomputed matrix must be a square matrix. Input is a 15247x3561 matrix."
          ]
        }
      ]
    },
    {
      "cell_type": "code",
      "metadata": {
        "colab": {
          "base_uri": "https://localhost:8080/"
        },
        "id": "oquOXmoQtZR-",
        "outputId": "474a2d4c-0489-461d-9b86-6b52f1286373"
      },
      "source": [
        "SVM = svm.SVC(C=1.0, kernel='rbf', max_iter=2000, verbose=True)\n",
        "SVM.fit(trainData, trainLabel21)\n",
        "print('train', SVM.score(trainData, trainLabel21))\n",
        "print('test', SVM.score(testData, testLabel21))\n",
        "print('val', SVM.score(valData, valLabel21))"
      ],
      "execution_count": 18,
      "outputs": [
        {
          "output_type": "stream",
          "name": "stderr",
          "text": [
            "/usr/local/lib/python3.7/dist-packages/sklearn/utils/validation.py:985: DataConversionWarning: A column-vector y was passed when a 1d array was expected. Please change the shape of y to (n_samples, ), for example using ravel().\n",
            "  y = column_or_1d(y, warn=True)\n"
          ]
        },
        {
          "output_type": "stream",
          "name": "stdout",
          "text": [
            "[LibSVM]"
          ]
        },
        {
          "output_type": "stream",
          "name": "stderr",
          "text": [
            "/usr/local/lib/python3.7/dist-packages/sklearn/svm/_base.py:289: ConvergenceWarning: Solver terminated early (max_iter=2000).  Consider pre-processing your data with StandardScaler or MinMaxScaler.\n",
            "  ConvergenceWarning,\n"
          ]
        },
        {
          "output_type": "stream",
          "name": "stdout",
          "text": [
            "train 0.9632714632386699\n",
            "test 0.8417992656058751\n",
            "val 0.8344046525864708\n"
          ]
        }
      ]
    },
    {
      "cell_type": "code",
      "metadata": {
        "colab": {
          "base_uri": "https://localhost:8080/"
        },
        "id": "q4NAqnN2tx7b",
        "outputId": "679823e9-2583-4790-c7d3-987dd57f4da7"
      },
      "source": [
        "SVM = svm.SVC(C=1.0, kernel='poly', max_iter=2000, verbose=True)\n",
        "SVM.fit(trainData, trainLabel21)\n",
        "print('train', SVM.score(trainData, trainLabel21))\n",
        "print('test', SVM.score(testData, testLabel21))\n",
        "print('val', SVM.score(valData, valLabel21))"
      ],
      "execution_count": 19,
      "outputs": [
        {
          "output_type": "stream",
          "name": "stderr",
          "text": [
            "/usr/local/lib/python3.7/dist-packages/sklearn/utils/validation.py:985: DataConversionWarning: A column-vector y was passed when a 1d array was expected. Please change the shape of y to (n_samples, ), for example using ravel().\n",
            "  y = column_or_1d(y, warn=True)\n"
          ]
        },
        {
          "output_type": "stream",
          "name": "stdout",
          "text": [
            "[LibSVM]"
          ]
        },
        {
          "output_type": "stream",
          "name": "stderr",
          "text": [
            "/usr/local/lib/python3.7/dist-packages/sklearn/svm/_base.py:289: ConvergenceWarning: Solver terminated early (max_iter=2000).  Consider pre-processing your data with StandardScaler or MinMaxScaler.\n",
            "  ConvergenceWarning,\n"
          ]
        },
        {
          "output_type": "stream",
          "name": "stdout",
          "text": [
            "train 0.9588771561618679\n",
            "test 0.8785189718482252\n",
            "val 0.8812366085093358\n"
          ]
        }
      ]
    },
    {
      "cell_type": "code",
      "metadata": {
        "colab": {
          "base_uri": "https://localhost:8080/"
        },
        "id": "H_Oh4JK87VWr",
        "outputId": "5fc1e662-fe12-43f8-e364-e0ebc4cde2a1"
      },
      "source": [
        "SVM = svm.SVC(C=1.0, kernel='poly', verbose=True, random_state=0)\n",
        "SVM.fit(trainData, trainLabel21)\n",
        "print('train', SVM.score(trainData, trainLabel21))\n",
        "print('test', SVM.score(testData, testLabel21))\n",
        "print('val', SVM.score(valData, valLabel21))"
      ],
      "execution_count": null,
      "outputs": [
        {
          "output_type": "stream",
          "name": "stderr",
          "text": [
            "/usr/local/lib/python3.7/dist-packages/sklearn/utils/validation.py:985: DataConversionWarning: A column-vector y was passed when a 1d array was expected. Please change the shape of y to (n_samples, ), for example using ravel().\n",
            "  y = column_or_1d(y, warn=True)\n"
          ]
        },
        {
          "output_type": "stream",
          "name": "stdout",
          "text": [
            "[LibSVM]train 0.9588771561618679\n"
          ]
        }
      ]
    },
    {
      "cell_type": "code",
      "metadata": {
        "id": "aX0JpbMGE8rj"
      },
      "source": [
        "from sklearn.metrics import f1_score, precision_score, recall_score, accuracy_score"
      ],
      "execution_count": 14,
      "outputs": []
    },
    {
      "cell_type": "code",
      "metadata": {
        "id": "RX_NBAUNFG92",
        "outputId": "ac04b82e-c7aa-4fcf-cc84-b3498aa84f87",
        "colab": {
          "base_uri": "https://localhost:8080/"
        }
      },
      "source": [
        "SVM = svm.SVC(C=1.0, kernel='poly', verbose=True, random_state=0)\n",
        "SVM.fit(trainData, trainLabel21)"
      ],
      "execution_count": 15,
      "outputs": [
        {
          "output_type": "stream",
          "name": "stderr",
          "text": [
            "/usr/local/lib/python3.7/dist-packages/sklearn/utils/validation.py:985: DataConversionWarning: A column-vector y was passed when a 1d array was expected. Please change the shape of y to (n_samples, ), for example using ravel().\n",
            "  y = column_or_1d(y, warn=True)\n"
          ]
        },
        {
          "output_type": "stream",
          "name": "stdout",
          "text": [
            "[LibSVM]"
          ]
        },
        {
          "output_type": "execute_result",
          "data": {
            "text/plain": [
              "SVC(kernel='poly', random_state=0, verbose=True)"
            ]
          },
          "metadata": {},
          "execution_count": 15
        }
      ]
    },
    {
      "cell_type": "code",
      "metadata": {
        "id": "Q3gxYiYRFSUU"
      },
      "source": [
        "trainpred = SVM.predict(trainData)\n",
        "valpred = SVM.predict(valData)\n",
        "testpred = SVM.predict(testData)"
      ],
      "execution_count": 17,
      "outputs": []
    },
    {
      "cell_type": "code",
      "metadata": {
        "id": "CvKmZSB-Fn1Q",
        "outputId": "2cbb6e7c-54bf-4be6-ab11-3e23eb5e50d7",
        "colab": {
          "base_uri": "https://localhost:8080/"
        }
      },
      "source": [
        "train_f1_score = f1_score(trainLabel21, trainpred, average='weighted')\n",
        "train_precision_score = precision_score(trainLabel21, trainpred, average='weighted')\n",
        "train_recall_score = recall_score(trainLabel21, trainpred, average='weighted')\n",
        "train_accuracy_score = accuracy_score(trainLabel21, trainpred, normalize=True)\n",
        "\n",
        "val_f1_score = f1_score(valLabel21, valpred, average='weighted')\n",
        "val_precision_score = precision_score(valLabel21, valpred, average='weighted')\n",
        "val_recall_score = recall_score(valLabel21, valpred, average='weighted')\n",
        "val_accuracy_score = accuracy_score(valLabel21, valpred, normalize=True)\n",
        "\n",
        "test_f1_score = f1_score(testLabel21, testpred, average='weighted')\n",
        "test_precision_score = precision_score(testLabel21, testpred, average='weighted')\n",
        "test_recall_score = recall_score(testLabel21, testpred, average='weighted')\n",
        "test_accuracy_score = accuracy_score(testLabel21, testpred, normalize=True)"
      ],
      "execution_count": 18,
      "outputs": [
        {
          "output_type": "stream",
          "name": "stderr",
          "text": [
            "/usr/local/lib/python3.7/dist-packages/sklearn/metrics/_classification.py:1308: UndefinedMetricWarning: Precision is ill-defined and being set to 0.0 in labels with no predicted samples. Use `zero_division` parameter to control this behavior.\n",
            "  _warn_prf(average, modifier, msg_start, len(result))\n",
            "/usr/local/lib/python3.7/dist-packages/sklearn/metrics/_classification.py:1308: UndefinedMetricWarning: Precision is ill-defined and being set to 0.0 in labels with no predicted samples. Use `zero_division` parameter to control this behavior.\n",
            "  _warn_prf(average, modifier, msg_start, len(result))\n",
            "/usr/local/lib/python3.7/dist-packages/sklearn/metrics/_classification.py:1308: UndefinedMetricWarning: Precision is ill-defined and being set to 0.0 in labels with no predicted samples. Use `zero_division` parameter to control this behavior.\n",
            "  _warn_prf(average, modifier, msg_start, len(result))\n"
          ]
        }
      ]
    },
    {
      "cell_type": "code",
      "metadata": {
        "id": "qsyXKgR4Kw10",
        "outputId": "904e6d78-6ae3-40a9-e957-c54cc09f3e6e",
        "colab": {
          "base_uri": "https://localhost:8080/"
        }
      },
      "source": [
        "print(train_f1_score)\n",
        "print(train_precision_score)\n",
        "print(train_recall_score)\n",
        "print(train_accuracy_score)"
      ],
      "execution_count": 19,
      "outputs": [
        {
          "output_type": "stream",
          "name": "stdout",
          "text": [
            "0.951836112517367\n",
            "0.9587240725677254\n",
            "0.9588771561618679\n",
            "0.9588771561618679\n"
          ]
        }
      ]
    },
    {
      "cell_type": "code",
      "metadata": {
        "id": "1Ts6q5eRLAIe",
        "outputId": "c8e58272-cd15-4413-9882-70c9cf520665",
        "colab": {
          "base_uri": "https://localhost:8080/"
        }
      },
      "source": [
        "print(val_f1_score)\n",
        "print(val_precision_score)\n",
        "print(val_recall_score)\n",
        "print(val_accuracy_score)"
      ],
      "execution_count": 20,
      "outputs": [
        {
          "output_type": "stream",
          "name": "stdout",
          "text": [
            "0.8700058898858507\n",
            "0.8626331274981661\n",
            "0.8809305172941536\n",
            "0.8809305172941536\n"
          ]
        }
      ]
    },
    {
      "cell_type": "code",
      "metadata": {
        "id": "RT-CDM9mLHwp",
        "outputId": "35cf67c7-9456-42ca-ac14-5acd733e2018",
        "colab": {
          "base_uri": "https://localhost:8080/"
        }
      },
      "source": [
        "print(test_f1_score)\n",
        "print(test_precision_score)\n",
        "print(test_recall_score)\n",
        "print(test_accuracy_score)"
      ],
      "execution_count": 21,
      "outputs": [
        {
          "output_type": "stream",
          "name": "stdout",
          "text": [
            "0.8655473213919522\n",
            "0.8571838879904239\n",
            "0.8772949816401469\n",
            "0.8772949816401469\n"
          ]
        }
      ]
    },
    {
      "cell_type": "code",
      "metadata": {
        "id": "H6kReOaTcvzK"
      },
      "source": [
        "from sklearn.metrics import confusion_matrix, ConfusionMatrixDisplay"
      ],
      "execution_count": 16,
      "outputs": []
    },
    {
      "cell_type": "code",
      "metadata": {
        "id": "64fKgw3Oev5D",
        "outputId": "107fee1d-3de4-4f7b-9bc8-0d9693f105f1",
        "colab": {
          "base_uri": "https://localhost:8080/"
        }
      },
      "source": [
        "print(SVM.classes_)"
      ],
      "execution_count": 25,
      "outputs": [
        {
          "output_type": "stream",
          "name": "stdout",
          "text": [
            "[ 3.  4.  5.  6.  7.  8.  9. 10. 11. 12. 13. 14. 15. 16. 17. 18. 19.]\n"
          ]
        }
      ]
    },
    {
      "cell_type": "code",
      "metadata": {
        "id": "Qt1BPCtLcxJD"
      },
      "source": [
        "cm = confusion_matrix(testLabel21, testpred, labels=[0,1,2,3,4,5,6,7,8,9,10,11,12,13,14,15,16,17,18,19,20])"
      ],
      "execution_count": 27,
      "outputs": []
    },
    {
      "cell_type": "code",
      "metadata": {
        "id": "63UVkmQvfrzp"
      },
      "source": [
        "disp = ConfusionMatrixDisplay(confusion_matrix=cm, display_labels=[0,1,2,3,4,5,6,7,8,9,10,11,12,13,14,15,16,17,18,19,20])"
      ],
      "execution_count": 28,
      "outputs": []
    },
    {
      "cell_type": "code",
      "metadata": {
        "id": "cRC80oOff1Hh",
        "outputId": "2103f576-3e1c-4bf2-97e1-8ac284d10ab7",
        "colab": {
          "base_uri": "https://localhost:8080/",
          "height": 296
        }
      },
      "source": [
        "disp.plot(include_values=False)"
      ],
      "execution_count": 31,
      "outputs": [
        {
          "output_type": "execute_result",
          "data": {
            "text/plain": [
              "<sklearn.metrics._plot.confusion_matrix.ConfusionMatrixDisplay at 0x7f1a64849110>"
            ]
          },
          "metadata": {},
          "execution_count": 31
        },
        {
          "output_type": "display_data",
          "data": {
            "image/png": "[encoded data removed]",
            "text/plain": [
              "<Figure size 432x288 with 2 Axes>"
            ]
          },
          "metadata": {
            "needs_background": "light"
          }
        }
      ]
    },
    {
      "cell_type": "code",
      "metadata": {
        "id": "KC6z4xr0f4R4"
      },
      "source": [
        "plt.show()"
      ],
      "execution_count": 32,
      "outputs": []
    },
    {
      "cell_type": "code",
      "metadata": {
        "id": "Ee8FUY5IhMES",
        "outputId": "25e41ddc-521a-44db-eaa6-5d8abd98271a",
        "colab": {
          "base_uri": "https://localhost:8080/",
          "height": 296
        }
      },
      "source": [
        "plt.figure(figsize=(100,100))\n",
        "cm21 = confusion_matrix(testLabel21, testpred)\n",
        "disp21 = ConfusionMatrixDisplay(confusion_matrix=cm21)\n",
        "disp21.plot(include_values=False)\n",
        "plt.show()"
      ],
      "execution_count": 45,
      "outputs": [
        {
          "output_type": "display_data",
          "data": {
            "text/plain": [
              "<Figure size 7200x7200 with 0 Axes>"
            ]
          },
          "metadata": {}
        },
        {
          "output_type": "display_data",
          "data": {
            "image/png": "[encoded data removed]",
            "text/plain": [
              "<Figure size 432x288 with 2 Axes>"
            ]
          },
          "metadata": {
            "needs_background": "light"
          }
        }
      ]
    },
    {
      "cell_type": "code",
      "metadata": {
        "id": "EDkV1teVll7G",
        "outputId": "80bee73d-f2db-4484-a8af-936a3dc3131d",
        "colab": {
          "base_uri": "https://localhost:8080/"
        }
      },
      "source": [
        "SVM_6 = svm.SVC(C=1.0, kernel='poly', verbose=True, random_state=0)\n",
        "SVM_6.fit(trainData, trainLabel6)\n",
        "# print('train', SVM_6.score(trainData, trainLabel6))\n",
        "# print('test', SVM_6.score(testData, testLabel6))\n",
        "# print('val', SVM_6.score(valData, valLabel6))"
      ],
      "execution_count": 13,
      "outputs": [
        {
          "metadata": {
            "tags": null
          },
          "name": "stderr",
          "output_type": "stream",
          "text": [
            "/usr/local/lib/python3.7/dist-packages/sklearn/utils/validation.py:985: DataConversionWarning: A column-vector y was passed when a 1d array was expected. Please change the shape of y to (n_samples, ), for example using ravel().\n",
            "  y = column_or_1d(y, warn=True)\n"
          ]
        },
        {
          "metadata": {
            "tags": null
          },
          "name": "stdout",
          "output_type": "stream",
          "text": [
            "[LibSVM]"
          ]
        },
        {
          "data": {
            "text/plain": [
              "SVC(kernel='poly', random_state=0, verbose=True)"
            ]
          },
          "execution_count": null,
          "metadata": {},
          "output_type": "execute_result"
        }
      ]
    },
    {
      "cell_type": "code",
      "metadata": {
        "id": "ZXAthvacl1P0"
      },
      "source": [
        "testpred_6 = SVM_6.predict(testData)"
      ],
      "execution_count": 14,
      "outputs": []
    },
    {
      "cell_type": "code",
      "metadata": {
        "id": "a2lqa8WBmHmr",
        "outputId": "576f23f1-cd5e-428d-f464-38f4ee173668",
        "colab": {
          "base_uri": "https://localhost:8080/",
          "height": 296
        }
      },
      "source": [
        "plt.figure(figsize=(100,100))\n",
        "cm6 = confusion_matrix(testLabel6, testpred_6)\n",
        "disp6 = ConfusionMatrixDisplay(confusion_matrix=cm6)\n",
        "disp6.plot(include_values=False)\n",
        "plt.show()"
      ],
      "execution_count": 23,
      "outputs": [
        {
          "output_type": "display_data",
          "data": {
            "text/plain": [
              "<Figure size 7200x7200 with 0 Axes>"
            ]
          },
          "metadata": {}
        },
        {
          "output_type": "display_data",
          "data": {
            "image/png": "[encoded data removed]",
            "text/plain": [
              "<Figure size 432x288 with 2 Axes>"
            ]
          },
          "metadata": {
            "needs_background": "light"
          }
        }
      ]
    },
    {
      "cell_type": "code",
      "metadata": {
        "id": "a6LI2vH6ONuL"
      },
      "source": [
        "params = [\n",
        "    {       \n",
        "        'C': [0.1, 0.2, 0.5, 1, 2, 5],\n",
        "        'kernel': ['linear', 'poly', 'rbf', 'sigmoid', 'precomputed']\n",
        "    }\n",
        "]"
      ],
      "execution_count": null,
      "outputs": []
    },
    {
      "cell_type": "code",
      "metadata": {
        "id": "pzx3e8TNP2wS"
      },
      "source": [
        "C = [0.1, 0.2, 0.5, 1, 2, 5]\n",
        "kernels = ['linear', 'poly', 'rbf', 'sigmoid', 'precomputed']"
      ],
      "execution_count": null,
      "outputs": []
    },
    {
      "cell_type": "code",
      "metadata": {
        "id": "5qv2IEH0OflN"
      },
      "source": [
        "gridSearch = GridSearchCV(estimator=svm.SVC(), param_grid=params, scoring='accuracy', n_jobs=-1, verbose=100, cv=1)"
      ],
      "execution_count": null,
      "outputs": []
    },
    {
      "cell_type": "code",
      "metadata": {
        "colab": {
          "base_uri": "https://localhost:8080/",
          "height": 895
        },
        "id": "8e92lQLMPnfb",
        "outputId": "5cbce63c-1ceb-4607-eb56-6e4384508a7c"
      },
      "source": [
        "gridSearch.fit(trainData, trainLabel6)"
      ],
      "execution_count": null,
      "outputs": [
        {
          "name": "stderr",
          "output_type": "stream",
          "text": [
            "ERROR:root:Internal Python error in the inspect module.\n",
            "Below is the traceback from this internal error.\n",
            "\n"
          ]
        },
        {
          "name": "stdout",
          "output_type": "stream",
          "text": [
            "Traceback (most recent call last):\n",
            "  File \"/usr/local/lib/python3.7/dist-packages/IPython/core/interactiveshell.py\", line 2882, in run_code\n",
            "    exec(code_obj, self.user_global_ns, self.user_ns)\n",
            "  File \"<ipython-input-21-f6ac30807b93>\", line 1, in <module>\n",
            "    gridSearch.fit(trainData, trainLabel6)\n",
            "  File \"/usr/local/lib/python3.7/dist-packages/sklearn/model_selection/_search.py\", line 802, in fit\n",
            "    cv_orig = check_cv(self.cv, y, classifier=is_classifier(estimator))\n",
            "  File \"/usr/local/lib/python3.7/dist-packages/sklearn/model_selection/_split.py\", line 2305, in check_cv\n",
            "    return StratifiedKFold(cv)\n",
            "  File \"/usr/local/lib/python3.7/dist-packages/sklearn/model_selection/_split.py\", line 644, in __init__\n",
            "    super().__init__(n_splits=n_splits, shuffle=shuffle, random_state=random_state)\n",
            "  File \"/usr/local/lib/python3.7/dist-packages/sklearn/model_selection/_split.py\", line 289, in __init__\n",
            "    \" got n_splits={0}.\".format(n_splits)\n",
            "ValueError: k-fold cross-validation requires at least one train/test split by setting n_splits=2 or more, got n_splits=1.\n",
            "\n",
            "During handling of the above exception, another exception occurred:\n",
            "\n",
            "Traceback (most recent call last):\n",
            "  File \"/usr/local/lib/python3.7/dist-packages/IPython/core/interactiveshell.py\", line 1823, in showtraceback\n",
            "    stb = value._render_traceback_()\n",
            "AttributeError: 'ValueError' object has no attribute '_render_traceback_'\n",
            "\n",
            "During handling of the above exception, another exception occurred:\n",
            "\n",
            "Traceback (most recent call last):\n",
            "  File \"/usr/local/lib/python3.7/dist-packages/IPython/core/ultratb.py\", line 1132, in get_records\n",
            "    return _fixed_getinnerframes(etb, number_of_lines_of_context, tb_offset)\n",
            "  File \"/usr/local/lib/python3.7/dist-packages/IPython/core/ultratb.py\", line 313, in wrapped\n",
            "    return f(*args, **kwargs)\n",
            "  File \"/usr/local/lib/python3.7/dist-packages/IPython/core/ultratb.py\", line 358, in _fixed_getinnerframes\n",
            "    records = fix_frame_records_filenames(inspect.getinnerframes(etb, context))\n",
            "  File \"/usr/lib/python3.7/inspect.py\", line 1502, in getinnerframes\n",
            "    frameinfo = (tb.tb_frame,) + getframeinfo(tb, context)\n",
            "  File \"/usr/lib/python3.7/inspect.py\", line 1460, in getframeinfo\n",
            "    filename = getsourcefile(frame) or getfile(frame)\n",
            "  File \"/usr/lib/python3.7/inspect.py\", line 696, in getsourcefile\n",
            "    if getattr(getmodule(object, filename), '__loader__', None) is not None:\n",
            "  File \"/usr/lib/python3.7/inspect.py\", line 725, in getmodule\n",
            "    file = getabsfile(object, _filename)\n",
            "  File \"/usr/lib/python3.7/inspect.py\", line 709, in getabsfile\n",
            "    return os.path.normcase(os.path.abspath(_filename))\n",
            "  File \"/usr/lib/python3.7/posixpath.py\", line 383, in abspath\n",
            "    cwd = os.getcwd()\n",
            "FileNotFoundError: [Errno 2] No such file or directory\n"
          ]
        },
        {
          "ename": "ValueError",
          "evalue": "ignored",
          "output_type": "error",
          "traceback": [
            "\u001b[0;31m---------------------------------------------------------------------------\u001b[0m"
          ]
        }
      ]
    },
    {
      "cell_type": "code",
      "metadata": {
        "id": "pY0rCGSXQTmW"
      },
      "source": [
        "trainAccs = {}\n",
        "testAccs = {}\n",
        "valAccs = {}"
      ],
      "execution_count": null,
      "outputs": []
    },
    {
      "cell_type": "code",
      "metadata": {
        "colab": {
          "base_uri": "https://localhost:8080/"
        },
        "id": "XUoDE-iIPxuT",
        "outputId": "2a1f369e-15c4-47f8-e33c-c1cd315c2c50"
      },
      "source": [
        "for c in C:\n",
        "    for kernel in kernels:\n",
        "        SVM = svm.SVC(C=c, kernel=kernel, verbose=100, max_iter=200)\n",
        "        SVM.fit(trainData, trainLabel6)\n",
        "        key = str(c) + ' ' + str(kernel)\n",
        "        trainAccs[key] = SVM.score(trainData, trainLabel6)\n",
        "        testAccs[key] = SVM.score(trainData, trainLabel11)\n",
        "        valAccs[key] = SVM.score(trainData, trainLabel21)\n",
        "        print(key, trainAccs[key], testAccs[key], valAccs[key])"
      ],
      "execution_count": null,
      "outputs": [
        {
          "name": "stderr",
          "output_type": "stream",
          "text": [
            "/usr/local/lib/python3.7/dist-packages/sklearn/utils/validation.py:985: DataConversionWarning: A column-vector y was passed when a 1d array was expected. Please change the shape of y to (n_samples, ), for example using ravel().\n",
            "  y = column_or_1d(y, warn=True)\n"
          ]
        },
        {
          "name": "stdout",
          "output_type": "stream",
          "text": [
            "[LibSVM]"
          ]
        },
        {
          "name": "stderr",
          "output_type": "stream",
          "text": [
            "/usr/local/lib/python3.7/dist-packages/sklearn/svm/_base.py:289: ConvergenceWarning: Solver terminated early (max_iter=200).  Consider pre-processing your data with StandardScaler or MinMaxScaler.\n",
            "  ConvergenceWarning,\n"
          ]
        }
      ]
    },
    {
      "cell_type": "code",
      "metadata": {
        "id": "5KHnXQPn3JiX"
      },
      "source": [
        "SVM = svm.SVC(verbose=True, max_iter=1000)"
      ],
      "execution_count": null,
      "outputs": []
    },
    {
      "cell_type": "code",
      "metadata": {
        "colab": {
          "base_uri": "https://localhost:8080/"
        },
        "id": "XFzWZP5P3MA5",
        "outputId": "ed5132ae-e479-44f8-819a-1a83fe69b00d"
      },
      "source": [
        "SVM.fit(trainData, trainLabel)"
      ],
      "execution_count": null,
      "outputs": [
        {
          "name": "stderr",
          "output_type": "stream",
          "text": [
            "/usr/local/lib/python3.7/dist-packages/sklearn/utils/validation.py:985: DataConversionWarning: A column-vector y was passed when a 1d array was expected. Please change the shape of y to (n_samples, ), for example using ravel().\n",
            "  y = column_or_1d(y, warn=True)\n"
          ]
        },
        {
          "name": "stdout",
          "output_type": "stream",
          "text": [
            "[LibSVM]"
          ]
        },
        {
          "name": "stderr",
          "output_type": "stream",
          "text": [
            "/usr/local/lib/python3.7/dist-packages/sklearn/svm/_base.py:289: ConvergenceWarning: Solver terminated early (max_iter=1000).  Consider pre-processing your data with StandardScaler or MinMaxScaler.\n",
            "  ConvergenceWarning,\n"
          ]
        },
        {
          "data": {
            "text/plain": [
              "SVC(max_iter=1000, verbose=True)"
            ]
          },
          "execution_count": 21,
          "metadata": {},
          "output_type": "execute_result"
        }
      ]
    },
    {
      "cell_type": "code",
      "metadata": {
        "colab": {
          "base_uri": "https://localhost:8080/"
        },
        "id": "74v-1Xih3nXU",
        "outputId": "bd58a296-7e25-49ee-cebc-0e46d428f199"
      },
      "source": [
        "SVM.score(trainData, trainLabel)"
      ],
      "execution_count": null,
      "outputs": [
        {
          "data": {
            "text/plain": [
              "0.9597953695809012"
            ]
          },
          "execution_count": 22,
          "metadata": {},
          "output_type": "execute_result"
        }
      ]
    },
    {
      "cell_type": "code",
      "metadata": {
        "colab": {
          "base_uri": "https://localhost:8080/"
        },
        "id": "dex7Q-t44gH5",
        "outputId": "509e8544-6595-4b14-de7e-cc04a92a4aa9"
      },
      "source": [
        "SVM.score(testData, testLabel)"
      ],
      "execution_count": null,
      "outputs": [
        {
          "data": {
            "text/plain": [
              "0.8212974296205631"
            ]
          },
          "execution_count": 23,
          "metadata": {},
          "output_type": "execute_result"
        }
      ]
    },
    {
      "cell_type": "markdown",
      "metadata": {
        "id": "D38JJLkh-X8z"
      },
      "source": [
        ""
      ]
    },
    {
      "cell_type": "code",
      "metadata": {
        "id": "-ZaATM0C4yyq"
      },
      "source": [
        "from keras.models import Sequential\n",
        "from keras.layers import Dense, Dropout, Flatten, Input, Convolution2D, MaxPooling2D\n",
        "from keras.utils import np_utils"
      ],
      "execution_count": null,
      "outputs": []
    },
    {
      "cell_type": "code",
      "metadata": {
        "id": "XcwMbG3pINhc"
      },
      "source": [
        "trainLabel = np_utils.to_categorical(trainLabel).astype(np.int8)\n",
        "testLabel = np_utils.to_categorical(testLabel).astype(np.int8)"
      ],
      "execution_count": null,
      "outputs": []
    },
    {
      "cell_type": "code",
      "metadata": {
        "colab": {
          "base_uri": "https://localhost:8080/"
        },
        "id": "E40_SV7UJHl3",
        "outputId": "a5003645-cd78-4e72-fe36-7e79a513879b"
      },
      "source": [
        "trainLabel.shape, testLabel.shape, trainData.shape"
      ],
      "execution_count": null,
      "outputs": [
        {
          "data": {
            "text/plain": [
              "((15247, 96), (3268, 96), (15247, 3561))"
            ]
          },
          "execution_count": 186,
          "metadata": {},
          "output_type": "execute_result"
        }
      ]
    },
    {
      "cell_type": "code",
      "metadata": {
        "colab": {
          "base_uri": "https://localhost:8080/"
        },
        "id": "fhmSlyFVJNEW",
        "outputId": "56b14841-fd97-4a99-b70c-c41048db5a66"
      },
      "source": [
        "trainLabel[0]"
      ],
      "execution_count": null,
      "outputs": [
        {
          "data": {
            "text/plain": [
              "array([0, 0, 0, 0, 0, 0, 0, 0, 1, 0, 0], dtype=int8)"
            ]
          },
          "execution_count": 135,
          "metadata": {},
          "output_type": "execute_result"
        }
      ]
    },
    {
      "cell_type": "code",
      "metadata": {
        "colab": {
          "base_uri": "https://localhost:8080/"
        },
        "id": "ISSF7b90Jg06",
        "outputId": "a0e238f9-6a38-4670-8401-43f7d136115a"
      },
      "source": [
        "model = Sequential()\n",
        "model.add(Dense(500, activation='relu', input_dim=3561))\n",
        "# model.add(Dense(1000, activation='relu'))\n",
        "model.add(Dense(500, activation='relu'))\n",
        "model.add(Dense(250, activation='relu'))\n",
        "model.add(Dense(125, activation='relu'))\n",
        "# model.add(Dense(50, activation='relu'))\n",
        "model.add(Dense(96, activation='softmax'))\n",
        "model.summary()"
      ],
      "execution_count": null,
      "outputs": [
        {
          "name": "stdout",
          "output_type": "stream",
          "text": [
            "Model: \"sequential_20\"\n",
            "_________________________________________________________________\n",
            " Layer (type)                Output Shape              Param #   \n",
            "=================================================================\n",
            " dense_68 (Dense)            (None, 500)               1781000   \n",
            "                                                                 \n",
            " dense_69 (Dense)            (None, 1000)              501000    \n",
            "                                                                 \n",
            " dense_70 (Dense)            (None, 500)               500500    \n",
            "                                                                 \n",
            " dense_71 (Dense)            (None, 250)               125250    \n",
            "                                                                 \n",
            " dense_72 (Dense)            (None, 125)               31375     \n",
            "                                                                 \n",
            " dense_73 (Dense)            (None, 96)                12096     \n",
            "                                                                 \n",
            "=================================================================\n",
            "Total params: 2,951,221\n",
            "Trainable params: 2,951,221\n",
            "Non-trainable params: 0\n",
            "_________________________________________________________________\n"
          ]
        }
      ]
    },
    {
      "cell_type": "code",
      "metadata": {
        "id": "MIEsh3JtKc29"
      },
      "source": [
        "model.compile(loss='categorical_crossentropy', optimizer='adam', metrics=['accuracy'])"
      ],
      "execution_count": null,
      "outputs": []
    },
    {
      "cell_type": "code",
      "metadata": {
        "id": "uzd82hfgReGh"
      },
      "source": [
        "trainVals= np.array(trainData)\n",
        "testVals = np.array(testData)"
      ],
      "execution_count": null,
      "outputs": []
    },
    {
      "cell_type": "code",
      "metadata": {
        "colab": {
          "base_uri": "https://localhost:8080/"
        },
        "id": "cnZPSSqTRuf4",
        "outputId": "1a18c3ad-c0c1-41b2-de77-144c71148907"
      },
      "source": [
        "trainVals[0], trainLabel[0]"
      ],
      "execution_count": null,
      "outputs": [
        {
          "data": {
            "text/plain": [
              "(array([-0.09530206, -0.5714231 , -0.05485037, ...,  0.        ,\n",
              "         0.        ,  0.        ]),\n",
              " array([0, 0, 0, 0, 0, 0, 0, 0, 0, 0, 0, 0, 0, 0, 0, 0, 0, 0, 0, 0, 0, 0,\n",
              "        0, 0, 0, 0, 0, 0, 0, 0, 0, 0, 0, 0, 0, 0, 0, 0, 0, 0, 0, 0, 0, 0,\n",
              "        0, 0, 0, 0, 0, 0, 0, 0, 0, 0, 0, 0, 0, 0, 0, 0, 0, 0, 0, 0, 0, 0,\n",
              "        0, 0, 0, 0, 0, 0, 0, 0, 0, 0, 0, 0, 0, 0, 1, 0, 0, 0, 0, 0, 0, 0,\n",
              "        0, 0, 0, 0, 0, 0, 0, 0], dtype=int8))"
            ]
          },
          "execution_count": 190,
          "metadata": {},
          "output_type": "execute_result"
        }
      ]
    },
    {
      "cell_type": "code",
      "metadata": {
        "colab": {
          "base_uri": "https://localhost:8080/",
          "height": 1000
        },
        "id": "uFWkc9VdLrEB",
        "outputId": "3838fc16-3643-4186-a20e-c1597679d177"
      },
      "source": [
        "model.fit(trainVals, trainLabel, batch_size=128, epochs=150, validation_data=(testVals, testLabel))"
      ],
      "execution_count": null,
      "outputs": [
        {
          "name": "stdout",
          "output_type": "stream",
          "text": [
            "Epoch 1/150\n"
          ]
        },
        {
          "name": "stderr",
          "output_type": "stream",
          "text": [
            "ERROR:root:Internal Python error in the inspect module.\n",
            "Below is the traceback from this internal error.\n",
            "\n"
          ]
        },
        {
          "name": "stdout",
          "output_type": "stream",
          "text": [
            "Traceback (most recent call last):\n",
            "  File \"/usr/local/lib/python3.7/dist-packages/IPython/core/interactiveshell.py\", line 1823, in showtraceback\n",
            "    stb = value._render_traceback_()\n",
            "AttributeError: 'KeyboardInterrupt' object has no attribute '_render_traceback_'\n",
            "\n",
            "During handling of the above exception, another exception occurred:\n",
            "\n",
            "Traceback (most recent call last):\n",
            "  File \"/usr/local/lib/python3.7/dist-packages/IPython/core/ultratb.py\", line 1132, in get_records\n",
            "    return _fixed_getinnerframes(etb, number_of_lines_of_context, tb_offset)\n",
            "  File \"/usr/local/lib/python3.7/dist-packages/IPython/core/ultratb.py\", line 313, in wrapped\n",
            "    return f(*args, **kwargs)\n",
            "  File \"/usr/local/lib/python3.7/dist-packages/IPython/core/ultratb.py\", line 358, in _fixed_getinnerframes\n",
            "    records = fix_frame_records_filenames(inspect.getinnerframes(etb, context))\n",
            "  File \"/usr/lib/python3.7/inspect.py\", line 1502, in getinnerframes\n",
            "    frameinfo = (tb.tb_frame,) + getframeinfo(tb, context)\n",
            "  File \"/usr/lib/python3.7/inspect.py\", line 1460, in getframeinfo\n",
            "    filename = getsourcefile(frame) or getfile(frame)\n",
            "  File \"/usr/lib/python3.7/inspect.py\", line 696, in getsourcefile\n",
            "    if getattr(getmodule(object, filename), '__loader__', None) is not None:\n",
            "  File \"/usr/lib/python3.7/inspect.py\", line 725, in getmodule\n",
            "    file = getabsfile(object, _filename)\n",
            "  File \"/usr/lib/python3.7/inspect.py\", line 709, in getabsfile\n",
            "    return os.path.normcase(os.path.abspath(_filename))\n",
            "  File \"/usr/lib/python3.7/posixpath.py\", line 383, in abspath\n",
            "    cwd = os.getcwd()\n",
            "FileNotFoundError: [Errno 2] No such file or directory\n"
          ]
        },
        {
          "ename": "KeyboardInterrupt",
          "evalue": "ignored",
          "output_type": "error",
          "traceback": [
            "\u001b[0;31m---------------------------------------------------------------------------\u001b[0m"
          ]
        },
        {
          "name": "stderr",
          "output_type": "stream",
          "text": [
            "Exception ignored in: 'zmq.backend.cython.message.Frame.__dealloc__'\n",
            "Traceback (most recent call last):\n",
            "  File \"zmq/backend/cython/checkrc.pxd\", line 13, in zmq.backend.cython.checkrc._check_rc\n",
            "KeyboardInterrupt\n"
          ]
        },
        {
          "name": "stdout",
          "output_type": "stream",
          "text": [
            "120/120 [==============================] - 86s 64ms/step - loss: 2.0182 - accuracy: 0.2452 - val_loss: 1.6502 - val_accuracy: 0.3207\n",
            "Epoch 2/150\n",
            "120/120 [==============================] - 7s 60ms/step - loss: 1.3676 - accuracy: 0.4171 - val_loss: 1.5618 - val_accuracy: 0.3599\n",
            "Epoch 3/150\n",
            "120/120 [==============================] - 7s 59ms/step - loss: 0.9723 - accuracy: 0.5936 - val_loss: 1.7687 - val_accuracy: 0.3660\n",
            "Epoch 4/150\n",
            "120/120 [==============================] - 7s 59ms/step - loss: 0.7537 - accuracy: 0.6906 - val_loss: 2.0682 - val_accuracy: 0.3755\n",
            "Epoch 5/150\n",
            "120/120 [==============================] - 7s 59ms/step - loss: 0.4778 - accuracy: 0.8162 - val_loss: 2.4066 - val_accuracy: 0.3681\n",
            "Epoch 6/150\n",
            "120/120 [==============================] - 7s 60ms/step - loss: 0.3071 - accuracy: 0.8888 - val_loss: 2.8696 - val_accuracy: 0.3733\n",
            "Epoch 7/150\n",
            "120/120 [==============================] - 7s 61ms/step - loss: 0.1955 - accuracy: 0.9326 - val_loss: 3.2821 - val_accuracy: 0.3721\n",
            "Epoch 8/150\n",
            "120/120 [==============================] - 7s 60ms/step - loss: 0.1193 - accuracy: 0.9579 - val_loss: 3.9536 - val_accuracy: 0.3657\n",
            "Epoch 9/150\n",
            "120/120 [==============================] - 7s 59ms/step - loss: 0.1094 - accuracy: 0.9653 - val_loss: 4.0935 - val_accuracy: 0.3528\n",
            "Epoch 10/150\n",
            "119/120 [============================>.] - ETA: 0s - loss: 0.1142 - accuracy: 0.9612"
          ]
        },
        {
          "name": "stderr",
          "output_type": "stream",
          "text": [
            "ERROR:root:Internal Python error in the inspect module.\n",
            "Below is the traceback from this internal error.\n",
            "\n"
          ]
        },
        {
          "name": "stdout",
          "output_type": "stream",
          "text": [
            "Traceback (most recent call last):\n",
            "  File \"/usr/local/lib/python3.7/dist-packages/IPython/core/interactiveshell.py\", line 2882, in run_code\n",
            "    exec(code_obj, self.user_global_ns, self.user_ns)\n",
            "  File \"<ipython-input-191-16484b46f25a>\", line 1, in <module>\n",
            "    model.fit(trainVals, trainLabel, batch_size=128, epochs=150, validation_data=(testVals, testLabel))\n",
            "  File \"/usr/local/lib/python3.7/dist-packages/keras/utils/traceback_utils.py\", line 64, in error_handler\n",
            "    return fn(*args, **kwargs)\n",
            "  File \"/usr/local/lib/python3.7/dist-packages/keras/engine/training.py\", line 1263, in fit\n",
            "    _use_cached_eval_dataset=True)\n",
            "  File \"/usr/local/lib/python3.7/dist-packages/keras/utils/traceback_utils.py\", line 64, in error_handler\n",
            "    return fn(*args, **kwargs)\n",
            "  File \"/usr/local/lib/python3.7/dist-packages/keras/engine/training.py\", line 1537, in evaluate\n",
            "    tmp_logs = self.test_function(iterator)\n",
            "  File \"/usr/local/lib/python3.7/dist-packages/tensorflow/python/util/traceback_utils.py\", line 150, in error_handler\n",
            "    return fn(*args, **kwargs)\n",
            "  File \"/usr/local/lib/python3.7/dist-packages/tensorflow/python/eager/def_function.py\", line 910, in __call__\n",
            "    result = self._call(*args, **kwds)\n",
            "  File \"/usr/local/lib/python3.7/dist-packages/tensorflow/python/eager/def_function.py\", line 949, in _call\n",
            "    results = self._stateful_fn(*args, **kwds)\n",
            "  File \"/usr/local/lib/python3.7/dist-packages/tensorflow/python/eager/function.py\", line 3131, in __call__\n",
            "    filtered_flat_args, captured_inputs=graph_function.captured_inputs)  # pylint: disable=protected-access\n",
            "  File \"/usr/local/lib/python3.7/dist-packages/tensorflow/python/eager/function.py\", line 1960, in _call_flat\n",
            "    ctx, args, cancellation_manager=cancellation_manager))\n",
            "  File \"/usr/local/lib/python3.7/dist-packages/tensorflow/python/eager/function.py\", line 603, in call\n",
            "    ctx=ctx)\n",
            "  File \"/usr/local/lib/python3.7/dist-packages/tensorflow/python/eager/execute.py\", line 59, in quick_execute\n",
            "    inputs, attrs, num_outputs)\n",
            "KeyboardInterrupt\n",
            "\n",
            "During handling of the above exception, another exception occurred:\n",
            "\n",
            "Traceback (most recent call last):\n",
            "  File \"/usr/local/lib/python3.7/dist-packages/IPython/core/interactiveshell.py\", line 1823, in showtraceback\n",
            "    stb = value._render_traceback_()\n",
            "AttributeError: 'KeyboardInterrupt' object has no attribute '_render_traceback_'\n",
            "\n",
            "During handling of the above exception, another exception occurred:\n",
            "\n",
            "Traceback (most recent call last):\n",
            "  File \"/usr/local/lib/python3.7/dist-packages/IPython/core/ultratb.py\", line 1132, in get_records\n",
            "    return _fixed_getinnerframes(etb, number_of_lines_of_context, tb_offset)\n",
            "  File \"/usr/local/lib/python3.7/dist-packages/IPython/core/ultratb.py\", line 313, in wrapped\n",
            "    return f(*args, **kwargs)\n",
            "  File \"/usr/local/lib/python3.7/dist-packages/IPython/core/ultratb.py\", line 358, in _fixed_getinnerframes\n",
            "    records = fix_frame_records_filenames(inspect.getinnerframes(etb, context))\n",
            "  File \"/usr/lib/python3.7/inspect.py\", line 1502, in getinnerframes\n",
            "    frameinfo = (tb.tb_frame,) + getframeinfo(tb, context)\n",
            "  File \"/usr/lib/python3.7/inspect.py\", line 1460, in getframeinfo\n",
            "    filename = getsourcefile(frame) or getfile(frame)\n",
            "  File \"/usr/lib/python3.7/inspect.py\", line 696, in getsourcefile\n",
            "    if getattr(getmodule(object, filename), '__loader__', None) is not None:\n",
            "  File \"/usr/lib/python3.7/inspect.py\", line 725, in getmodule\n",
            "    file = getabsfile(object, _filename)\n",
            "  File \"/usr/lib/python3.7/inspect.py\", line 709, in getabsfile\n",
            "    return os.path.normcase(os.path.abspath(_filename))\n",
            "  File \"/usr/lib/python3.7/posixpath.py\", line 383, in abspath\n",
            "    cwd = os.getcwd()\n",
            "FileNotFoundError: [Errno 2] No such file or directory\n"
          ]
        },
        {
          "ename": "KeyboardInterrupt",
          "evalue": "ignored",
          "output_type": "error",
          "traceback": [
            "\u001b[0;31m---------------------------------------------------------------------------\u001b[0m"
          ]
        }
      ]
    },
    {
      "cell_type": "code",
      "metadata": {
        "id": "IF16nLNdL5j5"
      },
      "source": [
        "import tensorflow as tf"
      ],
      "execution_count": null,
      "outputs": []
    },
    {
      "cell_type": "code",
      "metadata": {
        "colab": {
          "base_uri": "https://localhost:8080/"
        },
        "id": "vrQMwNRdNc3n",
        "outputId": "ed1080eb-8ba6-494a-836d-7b31a582321d"
      },
      "source": [
        "!ls"
      ],
      "execution_count": null,
      "outputs": [
        {
          "name": "stdout",
          "output_type": "stream",
          "text": [
            "shell-init: error retrieving current directory: getcwd: cannot access parent directories: No such file or directory\n",
            "preprocessed.csv\t       test_6_buckets.csv    val.csv\n",
            "pre_standardization_test.csv   test.csv\t\t     valid_11_buckets.csv\n",
            "pre_standardization_train.csv  train_11_buckets.csv  valid_21_buckets.csv\n",
            "pre_standardization_val.csv    train_21_buckets.csv  valid_6_buckets.csv\n",
            "test_11_buckets.csv\t       train_6_buckets.csv\n",
            "test_21_buckets.csv\t       train.csv\n"
          ]
        }
      ]
    },
    {
      "cell_type": "code",
      "metadata": {
        "id": "LIOCVtgNQ57_"
      },
      "source": [
        ""
      ],
      "execution_count": null,
      "outputs": []
    }
  ]
}