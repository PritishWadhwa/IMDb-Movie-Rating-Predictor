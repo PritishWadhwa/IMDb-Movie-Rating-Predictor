{
 "cells": [
  {
   "cell_type": "code",
   "execution_count": 1,
   "id": "958dc2f8",
   "metadata": {},
   "outputs": [],
   "source": [
    "import pandas as pd\n",
    "import numpy as np\n",
    "from tqdm import tqdm\n",
    "import matplotlib.pyplot as plt\n",
    "import seaborn as sns"
   ]
  },
  {
   "cell_type": "code",
   "execution_count": 2,
   "id": "395f5fa0",
   "metadata": {},
   "outputs": [],
   "source": [
    "path = \"E:/Sem5/ML/Dataset/preprocessed.csv\""
   ]
  },
  {
   "cell_type": "code",
   "execution_count": 3,
   "id": "d7a867e6",
   "metadata": {},
   "outputs": [],
   "source": [
    "from nltk.corpus import stopwords\n",
    "stop_words_set = set(stopwords.words('english'))"
   ]
  },
  {
   "cell_type": "code",
   "execution_count": 4,
   "id": "9e4eae09",
   "metadata": {},
   "outputs": [],
   "source": [
    "preprocessedDF = pd.read_csv(path)"
   ]
  },
  {
   "cell_type": "code",
   "execution_count": 5,
   "id": "877d3cf8",
   "metadata": {},
   "outputs": [
    {
     "name": "stdout",
     "output_type": "stream",
     "text": [
      "<class 'pandas.core.frame.DataFrame'>\n",
      "RangeIndex: 37210 entries, 0 to 37209\n",
      "Data columns (total 46 columns):\n",
      " #   Column                 Non-Null Count  Dtype  \n",
      "---  ------                 --------------  -----  \n",
      " 0   adult                  37210 non-null  bool   \n",
      " 1   belongs_to_collection  3918 non-null   object \n",
      " 2   budget                 37210 non-null  int64  \n",
      " 3   genres                 37210 non-null  object \n",
      " 4   homepage               6307 non-null   object \n",
      " 5   id                     37210 non-null  int64  \n",
      " 6   imdb_id                37210 non-null  int64  \n",
      " 7   original_language      37205 non-null  object \n",
      " 8   original_title         37210 non-null  object \n",
      " 9   overview               36573 non-null  object \n",
      " 10  popularity             37210 non-null  float64\n",
      " 11  poster_path            37210 non-null  object \n",
      " 12  production_companies   37210 non-null  object \n",
      " 13  production_countries   37210 non-null  object \n",
      " 14  release_date           37189 non-null  object \n",
      " 15  revenue                37210 non-null  float64\n",
      " 16  runtime                37062 non-null  float64\n",
      " 17  spoken_languages       37210 non-null  object \n",
      " 18  status                 37156 non-null  object \n",
      " 19  tagline                17810 non-null  object \n",
      " 20  title                  37210 non-null  object \n",
      " 21  video                  37210 non-null  bool   \n",
      " 22  vote_average           37210 non-null  float64\n",
      " 23  vote_count             37210 non-null  float64\n",
      " 24  posterID               37210 non-null  object \n",
      " 25  cast                   37210 non-null  object \n",
      " 26  crew                   37210 non-null  object \n",
      " 27  keywords               37210 non-null  object \n",
      " 28  Imdb Link              37210 non-null  object \n",
      " 29  Title                  37210 non-null  object \n",
      " 30  IMDB Score             37193 non-null  float64\n",
      " 31  Genre                  37088 non-null  object \n",
      " 32  Poster                 36704 non-null  object \n",
      " 33  num_faces              37210 non-null  float64\n",
      " 34  brightness             37210 non-null  float64\n",
      " 35  saturation             37210 non-null  float64\n",
      " 36  hue                    37210 non-null  float64\n",
      " 37  brightness_sd          37210 non-null  float64\n",
      " 38  saturation_sd          37210 non-null  float64\n",
      " 39  hue_sd                 37210 non-null  float64\n",
      " 40  blue                   37210 non-null  float64\n",
      " 41  blue_sd                37210 non-null  float64\n",
      " 42  green                  37210 non-null  float64\n",
      " 43  green_sd               37210 non-null  float64\n",
      " 44  red                    37210 non-null  float64\n",
      " 45  red_sd                 37210 non-null  float64\n",
      "dtypes: bool(2), float64(19), int64(3), object(22)\n",
      "memory usage: 12.6+ MB\n"
     ]
    }
   ],
   "source": [
    "preprocessedDF.info()"
   ]
  },
  {
   "cell_type": "code",
   "execution_count": 6,
   "id": "943b9d9b",
   "metadata": {},
   "outputs": [
    {
     "data": {
      "text/html": [
       "<div>\n",
       "<style scoped>\n",
       "    .dataframe tbody tr th:only-of-type {\n",
       "        vertical-align: middle;\n",
       "    }\n",
       "\n",
       "    .dataframe tbody tr th {\n",
       "        vertical-align: top;\n",
       "    }\n",
       "\n",
       "    .dataframe thead th {\n",
       "        text-align: right;\n",
       "    }\n",
       "</style>\n",
       "<table border=\"1\" class=\"dataframe\">\n",
       "  <thead>\n",
       "    <tr style=\"text-align: right;\">\n",
       "      <th></th>\n",
       "      <th>budget</th>\n",
       "      <th>id</th>\n",
       "      <th>imdb_id</th>\n",
       "      <th>popularity</th>\n",
       "      <th>revenue</th>\n",
       "      <th>runtime</th>\n",
       "      <th>vote_average</th>\n",
       "      <th>vote_count</th>\n",
       "      <th>IMDB Score</th>\n",
       "      <th>num_faces</th>\n",
       "      <th>...</th>\n",
       "      <th>hue</th>\n",
       "      <th>brightness_sd</th>\n",
       "      <th>saturation_sd</th>\n",
       "      <th>hue_sd</th>\n",
       "      <th>blue</th>\n",
       "      <th>blue_sd</th>\n",
       "      <th>green</th>\n",
       "      <th>green_sd</th>\n",
       "      <th>red</th>\n",
       "      <th>red_sd</th>\n",
       "    </tr>\n",
       "  </thead>\n",
       "  <tbody>\n",
       "    <tr>\n",
       "      <th>count</th>\n",
       "      <td>3.721000e+04</td>\n",
       "      <td>37210.000000</td>\n",
       "      <td>3.721000e+04</td>\n",
       "      <td>37210.000000</td>\n",
       "      <td>3.721000e+04</td>\n",
       "      <td>37062.000000</td>\n",
       "      <td>37210.000000</td>\n",
       "      <td>37210.000000</td>\n",
       "      <td>37193.000000</td>\n",
       "      <td>37210.000000</td>\n",
       "      <td>...</td>\n",
       "      <td>37210.000000</td>\n",
       "      <td>37210.000000</td>\n",
       "      <td>37210.000000</td>\n",
       "      <td>37210.000000</td>\n",
       "      <td>37210.000000</td>\n",
       "      <td>37210.000000</td>\n",
       "      <td>37210.000000</td>\n",
       "      <td>37210.000000</td>\n",
       "      <td>37210.000000</td>\n",
       "      <td>37210.000000</td>\n",
       "    </tr>\n",
       "    <tr>\n",
       "      <th>mean</th>\n",
       "      <td>4.711716e+06</td>\n",
       "      <td>92095.604327</td>\n",
       "      <td>8.350883e+05</td>\n",
       "      <td>3.114066</td>\n",
       "      <td>1.252765e+07</td>\n",
       "      <td>96.065242</td>\n",
       "      <td>5.717186</td>\n",
       "      <td>123.099973</td>\n",
       "      <td>6.409185</td>\n",
       "      <td>0.563612</td>\n",
       "      <td>...</td>\n",
       "      <td>54.121472</td>\n",
       "      <td>72.888216</td>\n",
       "      <td>66.108829</td>\n",
       "      <td>44.692045</td>\n",
       "      <td>102.676043</td>\n",
       "      <td>69.147140</td>\n",
       "      <td>112.402166</td>\n",
       "      <td>72.107912</td>\n",
       "      <td>127.214442</td>\n",
       "      <td>75.265465</td>\n",
       "    </tr>\n",
       "    <tr>\n",
       "      <th>std</th>\n",
       "      <td>1.820269e+07</td>\n",
       "      <td>97166.149197</td>\n",
       "      <td>1.144543e+06</td>\n",
       "      <td>5.596429</td>\n",
       "      <td>6.719505e+07</td>\n",
       "      <td>37.338853</td>\n",
       "      <td>1.796600</td>\n",
       "      <td>518.225290</td>\n",
       "      <td>1.142621</td>\n",
       "      <td>0.922337</td>\n",
       "      <td>...</td>\n",
       "      <td>28.890712</td>\n",
       "      <td>15.745163</td>\n",
       "      <td>19.977247</td>\n",
       "      <td>16.171165</td>\n",
       "      <td>49.732066</td>\n",
       "      <td>18.623296</td>\n",
       "      <td>48.762495</td>\n",
       "      <td>16.121290</td>\n",
       "      <td>51.192335</td>\n",
       "      <td>15.793882</td>\n",
       "    </tr>\n",
       "    <tr>\n",
       "      <th>min</th>\n",
       "      <td>0.000000e+00</td>\n",
       "      <td>2.000000</td>\n",
       "      <td>3.000000e+00</td>\n",
       "      <td>0.000000</td>\n",
       "      <td>0.000000e+00</td>\n",
       "      <td>0.000000</td>\n",
       "      <td>0.000000</td>\n",
       "      <td>0.000000</td>\n",
       "      <td>1.200000</td>\n",
       "      <td>0.000000</td>\n",
       "      <td>...</td>\n",
       "      <td>0.000000</td>\n",
       "      <td>1.183370</td>\n",
       "      <td>0.000000</td>\n",
       "      <td>0.000000</td>\n",
       "      <td>0.882752</td>\n",
       "      <td>1.977672</td>\n",
       "      <td>0.726561</td>\n",
       "      <td>1.651825</td>\n",
       "      <td>1.337270</td>\n",
       "      <td>1.244778</td>\n",
       "    </tr>\n",
       "    <tr>\n",
       "      <th>25%</th>\n",
       "      <td>0.000000e+00</td>\n",
       "      <td>22969.250000</td>\n",
       "      <td>8.093450e+04</td>\n",
       "      <td>0.453325</td>\n",
       "      <td>0.000000e+00</td>\n",
       "      <td>86.000000</td>\n",
       "      <td>5.100000</td>\n",
       "      <td>4.000000</td>\n",
       "      <td>5.800000</td>\n",
       "      <td>0.000000</td>\n",
       "      <td>...</td>\n",
       "      <td>30.549816</td>\n",
       "      <td>62.818346</td>\n",
       "      <td>53.854725</td>\n",
       "      <td>34.489826</td>\n",
       "      <td>63.103481</td>\n",
       "      <td>56.652542</td>\n",
       "      <td>73.914467</td>\n",
       "      <td>61.786961</td>\n",
       "      <td>87.503894</td>\n",
       "      <td>65.441396</td>\n",
       "    </tr>\n",
       "    <tr>\n",
       "      <th>50%</th>\n",
       "      <td>0.000000e+00</td>\n",
       "      <td>51789.000000</td>\n",
       "      <td>2.363165e+05</td>\n",
       "      <td>1.290035</td>\n",
       "      <td>0.000000e+00</td>\n",
       "      <td>95.000000</td>\n",
       "      <td>6.000000</td>\n",
       "      <td>11.000000</td>\n",
       "      <td>6.600000</td>\n",
       "      <td>0.000000</td>\n",
       "      <td>...</td>\n",
       "      <td>50.157406</td>\n",
       "      <td>73.247646</td>\n",
       "      <td>66.716290</td>\n",
       "      <td>45.677917</td>\n",
       "      <td>98.034244</td>\n",
       "      <td>69.919507</td>\n",
       "      <td>110.593031</td>\n",
       "      <td>72.334171</td>\n",
       "      <td>127.259378</td>\n",
       "      <td>75.881237</td>\n",
       "    </tr>\n",
       "    <tr>\n",
       "      <th>75%</th>\n",
       "      <td>0.000000e+00</td>\n",
       "      <td>125163.250000</td>\n",
       "      <td>1.327770e+06</td>\n",
       "      <td>4.358514</td>\n",
       "      <td>0.000000e+00</td>\n",
       "      <td>108.000000</td>\n",
       "      <td>6.800000</td>\n",
       "      <td>42.000000</td>\n",
       "      <td>7.200000</td>\n",
       "      <td>1.000000</td>\n",
       "      <td>...</td>\n",
       "      <td>74.505922</td>\n",
       "      <td>83.473024</td>\n",
       "      <td>79.505317</td>\n",
       "      <td>55.664458</td>\n",
       "      <td>139.488232</td>\n",
       "      <td>82.423853</td>\n",
       "      <td>149.611802</td>\n",
       "      <td>82.938145</td>\n",
       "      <td>167.770281</td>\n",
       "      <td>86.003713</td>\n",
       "    </tr>\n",
       "    <tr>\n",
       "      <th>max</th>\n",
       "      <td>3.800000e+08</td>\n",
       "      <td>469172.000000</td>\n",
       "      <td>6.098922e+06</td>\n",
       "      <td>547.488298</td>\n",
       "      <td>2.787965e+09</td>\n",
       "      <td>1256.000000</td>\n",
       "      <td>10.000000</td>\n",
       "      <td>14075.000000</td>\n",
       "      <td>9.500000</td>\n",
       "      <td>16.000000</td>\n",
       "      <td>...</td>\n",
       "      <td>174.309900</td>\n",
       "      <td>125.836770</td>\n",
       "      <td>125.016174</td>\n",
       "      <td>88.502696</td>\n",
       "      <td>253.928587</td>\n",
       "      <td>125.838671</td>\n",
       "      <td>251.624791</td>\n",
       "      <td>125.841819</td>\n",
       "      <td>253.605869</td>\n",
       "      <td>125.837170</td>\n",
       "    </tr>\n",
       "  </tbody>\n",
       "</table>\n",
       "<p>8 rows × 22 columns</p>\n",
       "</div>"
      ],
      "text/plain": [
       "             budget             id       imdb_id    popularity       revenue  \\\n",
       "count  3.721000e+04   37210.000000  3.721000e+04  37210.000000  3.721000e+04   \n",
       "mean   4.711716e+06   92095.604327  8.350883e+05      3.114066  1.252765e+07   \n",
       "std    1.820269e+07   97166.149197  1.144543e+06      5.596429  6.719505e+07   \n",
       "min    0.000000e+00       2.000000  3.000000e+00      0.000000  0.000000e+00   \n",
       "25%    0.000000e+00   22969.250000  8.093450e+04      0.453325  0.000000e+00   \n",
       "50%    0.000000e+00   51789.000000  2.363165e+05      1.290035  0.000000e+00   \n",
       "75%    0.000000e+00  125163.250000  1.327770e+06      4.358514  0.000000e+00   \n",
       "max    3.800000e+08  469172.000000  6.098922e+06    547.488298  2.787965e+09   \n",
       "\n",
       "            runtime  vote_average    vote_count    IMDB Score     num_faces  \\\n",
       "count  37062.000000  37210.000000  37210.000000  37193.000000  37210.000000   \n",
       "mean      96.065242      5.717186    123.099973      6.409185      0.563612   \n",
       "std       37.338853      1.796600    518.225290      1.142621      0.922337   \n",
       "min        0.000000      0.000000      0.000000      1.200000      0.000000   \n",
       "25%       86.000000      5.100000      4.000000      5.800000      0.000000   \n",
       "50%       95.000000      6.000000     11.000000      6.600000      0.000000   \n",
       "75%      108.000000      6.800000     42.000000      7.200000      1.000000   \n",
       "max     1256.000000     10.000000  14075.000000      9.500000     16.000000   \n",
       "\n",
       "       ...           hue  brightness_sd  saturation_sd         hue_sd  \\\n",
       "count  ...  37210.000000   37210.000000    37210.000000  37210.000000   \n",
       "mean   ...     54.121472      72.888216       66.108829     44.692045   \n",
       "std    ...     28.890712      15.745163       19.977247     16.171165   \n",
       "min    ...      0.000000       1.183370        0.000000      0.000000   \n",
       "25%    ...     30.549816      62.818346       53.854725     34.489826   \n",
       "50%    ...     50.157406      73.247646       66.716290     45.677917   \n",
       "75%    ...     74.505922      83.473024       79.505317     55.664458   \n",
       "max    ...    174.309900     125.836770      125.016174     88.502696   \n",
       "\n",
       "               blue       blue_sd         green      green_sd           red  \\\n",
       "count  37210.000000  37210.000000  37210.000000  37210.000000  37210.000000   \n",
       "mean     102.676043     69.147140    112.402166     72.107912    127.214442   \n",
       "std       49.732066     18.623296     48.762495     16.121290     51.192335   \n",
       "min        0.882752      1.977672      0.726561      1.651825      1.337270   \n",
       "25%       63.103481     56.652542     73.914467     61.786961     87.503894   \n",
       "50%       98.034244     69.919507    110.593031     72.334171    127.259378   \n",
       "75%      139.488232     82.423853    149.611802     82.938145    167.770281   \n",
       "max      253.928587    125.838671    251.624791    125.841819    253.605869   \n",
       "\n",
       "            red_sd   \n",
       "count  37210.000000  \n",
       "mean      75.265465  \n",
       "std       15.793882  \n",
       "min        1.244778  \n",
       "25%       65.441396  \n",
       "50%       75.881237  \n",
       "75%       86.003713  \n",
       "max      125.837170  \n",
       "\n",
       "[8 rows x 22 columns]"
      ]
     },
     "execution_count": 6,
     "metadata": {},
     "output_type": "execute_result"
    }
   ],
   "source": [
    "preprocessedDF.describe()"
   ]
  },
  {
   "cell_type": "code",
   "execution_count": 7,
   "id": "e492bca1",
   "metadata": {},
   "outputs": [],
   "source": [
    "all_data = preprocessedDF"
   ]
  },
  {
   "cell_type": "code",
   "execution_count": 8,
   "id": "22081779",
   "metadata": {},
   "outputs": [],
   "source": [
    "all_data = all_data.drop(columns=['adult', 'belongs_to_collection', 'budget', 'genres', 'homepage', 'id', 'imdb_id', 'popularity', 'poster_path', 'revenue', \n",
    "                                  'spoken_languages', 'status', 'tagline', 'title', 'video', 'vote_average', 'vote_count', 'posterID', 'Imdb Link', 'Title', 'Poster'], axis=1)"
   ]
  },
  {
   "cell_type": "code",
   "execution_count": 9,
   "id": "9ac65ea5",
   "metadata": {},
   "outputs": [
    {
     "data": {
      "text/plain": [
       "(37210, 25)"
      ]
     },
     "execution_count": 9,
     "metadata": {},
     "output_type": "execute_result"
    }
   ],
   "source": [
    "all_data.shape"
   ]
  },
  {
   "cell_type": "code",
   "execution_count": 10,
   "id": "ae9c450f",
   "metadata": {},
   "outputs": [],
   "source": [
    "all_data = all_data.dropna()"
   ]
  },
  {
   "cell_type": "code",
   "execution_count": 11,
   "id": "3091a84b",
   "metadata": {},
   "outputs": [
    {
     "data": {
      "text/plain": [
       "(36435, 25)"
      ]
     },
     "execution_count": 11,
     "metadata": {},
     "output_type": "execute_result"
    }
   ],
   "source": [
    "all_data.shape"
   ]
  },
  {
   "cell_type": "code",
   "execution_count": 12,
   "id": "e1f22013",
   "metadata": {},
   "outputs": [
    {
     "data": {
      "text/html": [
       "<div>\n",
       "<style scoped>\n",
       "    .dataframe tbody tr th:only-of-type {\n",
       "        vertical-align: middle;\n",
       "    }\n",
       "\n",
       "    .dataframe tbody tr th {\n",
       "        vertical-align: top;\n",
       "    }\n",
       "\n",
       "    .dataframe thead th {\n",
       "        text-align: right;\n",
       "    }\n",
       "</style>\n",
       "<table border=\"1\" class=\"dataframe\">\n",
       "  <thead>\n",
       "    <tr style=\"text-align: right;\">\n",
       "      <th></th>\n",
       "      <th>original_language</th>\n",
       "      <th>original_title</th>\n",
       "      <th>overview</th>\n",
       "      <th>production_companies</th>\n",
       "      <th>production_countries</th>\n",
       "      <th>release_date</th>\n",
       "      <th>runtime</th>\n",
       "      <th>cast</th>\n",
       "      <th>crew</th>\n",
       "      <th>keywords</th>\n",
       "      <th>...</th>\n",
       "      <th>hue</th>\n",
       "      <th>brightness_sd</th>\n",
       "      <th>saturation_sd</th>\n",
       "      <th>hue_sd</th>\n",
       "      <th>blue</th>\n",
       "      <th>blue_sd</th>\n",
       "      <th>green</th>\n",
       "      <th>green_sd</th>\n",
       "      <th>red</th>\n",
       "      <th>red_sd</th>\n",
       "    </tr>\n",
       "  </thead>\n",
       "  <tbody>\n",
       "    <tr>\n",
       "      <th>0</th>\n",
       "      <td>en</td>\n",
       "      <td>Toy Story</td>\n",
       "      <td>Led by Woody, Andy's toys live happily in his ...</td>\n",
       "      <td>[{'name': 'Pixar Animation Studios', 'id': 3}]</td>\n",
       "      <td>[{'iso_3166_1': 'US', 'name': 'United States o...</td>\n",
       "      <td>1995-10-30</td>\n",
       "      <td>81.0</td>\n",
       "      <td>[{'cast_id': 14, 'character': 'Woody (voice)',...</td>\n",
       "      <td>[{'credit_id': '52fe4284c3a36847f8024f49', 'de...</td>\n",
       "      <td>[{'id': 931, 'name': 'jealousy'}, {'id': 4290,...</td>\n",
       "      <td>...</td>\n",
       "      <td>82.805137</td>\n",
       "      <td>58.496526</td>\n",
       "      <td>80.933495</td>\n",
       "      <td>46.984021</td>\n",
       "      <td>147.046133</td>\n",
       "      <td>83.046441</td>\n",
       "      <td>127.812661</td>\n",
       "      <td>59.618615</td>\n",
       "      <td>79.571854</td>\n",
       "      <td>88.574055</td>\n",
       "    </tr>\n",
       "    <tr>\n",
       "      <th>1</th>\n",
       "      <td>en</td>\n",
       "      <td>Jumanji</td>\n",
       "      <td>When siblings Judy and Peter discover an encha...</td>\n",
       "      <td>[{'name': 'TriStar Pictures', 'id': 559}, {'na...</td>\n",
       "      <td>[{'iso_3166_1': 'US', 'name': 'United States o...</td>\n",
       "      <td>1995-12-15</td>\n",
       "      <td>104.0</td>\n",
       "      <td>[{'cast_id': 1, 'character': 'Alan Parrish', '...</td>\n",
       "      <td>[{'credit_id': '52fe44bfc3a36847f80a7cd1', 'de...</td>\n",
       "      <td>[{'id': 10090, 'name': 'board game'}, {'id': 1...</td>\n",
       "      <td>...</td>\n",
       "      <td>65.296239</td>\n",
       "      <td>83.413251</td>\n",
       "      <td>67.319422</td>\n",
       "      <td>61.296055</td>\n",
       "      <td>132.472598</td>\n",
       "      <td>84.508776</td>\n",
       "      <td>137.041430</td>\n",
       "      <td>79.140584</td>\n",
       "      <td>137.619493</td>\n",
       "      <td>85.319415</td>\n",
       "    </tr>\n",
       "    <tr>\n",
       "      <th>2</th>\n",
       "      <td>en</td>\n",
       "      <td>Grumpier Old Men</td>\n",
       "      <td>A family wedding reignites the ancient feud be...</td>\n",
       "      <td>[{'name': 'Warner Bros.', 'id': 6194}, {'name'...</td>\n",
       "      <td>[{'iso_3166_1': 'US', 'name': 'United States o...</td>\n",
       "      <td>1995-12-22</td>\n",
       "      <td>101.0</td>\n",
       "      <td>[{'cast_id': 2, 'character': 'Max Goldman', 'c...</td>\n",
       "      <td>[{'credit_id': '52fe466a9251416c75077a89', 'de...</td>\n",
       "      <td>[{'id': 1495, 'name': 'fishing'}, {'id': 12392...</td>\n",
       "      <td>...</td>\n",
       "      <td>48.908106</td>\n",
       "      <td>94.073346</td>\n",
       "      <td>70.979805</td>\n",
       "      <td>65.406756</td>\n",
       "      <td>97.464385</td>\n",
       "      <td>78.935691</td>\n",
       "      <td>106.743824</td>\n",
       "      <td>89.725921</td>\n",
       "      <td>136.728580</td>\n",
       "      <td>96.124722</td>\n",
       "    </tr>\n",
       "    <tr>\n",
       "      <th>3</th>\n",
       "      <td>en</td>\n",
       "      <td>Waiting to Exhale</td>\n",
       "      <td>Cheated on, mistreated and stepped on, the wom...</td>\n",
       "      <td>[{'name': 'Twentieth Century Fox Film Corporat...</td>\n",
       "      <td>[{'iso_3166_1': 'US', 'name': 'United States o...</td>\n",
       "      <td>1995-12-22</td>\n",
       "      <td>127.0</td>\n",
       "      <td>[{'cast_id': 1, 'character': \"Savannah 'Vannah...</td>\n",
       "      <td>[{'credit_id': '52fe44779251416c91011acb', 'de...</td>\n",
       "      <td>[{'id': 818, 'name': 'based on novel'}, {'id':...</td>\n",
       "      <td>...</td>\n",
       "      <td>43.298337</td>\n",
       "      <td>71.637853</td>\n",
       "      <td>74.316934</td>\n",
       "      <td>57.431210</td>\n",
       "      <td>148.388970</td>\n",
       "      <td>88.371216</td>\n",
       "      <td>161.866089</td>\n",
       "      <td>82.379306</td>\n",
       "      <td>191.924122</td>\n",
       "      <td>72.849543</td>\n",
       "    </tr>\n",
       "    <tr>\n",
       "      <th>4</th>\n",
       "      <td>en</td>\n",
       "      <td>Father of the Bride Part II</td>\n",
       "      <td>Just when George Banks has recovered from his ...</td>\n",
       "      <td>[{'name': 'Sandollar Productions', 'id': 5842}...</td>\n",
       "      <td>[{'iso_3166_1': 'US', 'name': 'United States o...</td>\n",
       "      <td>1995-02-10</td>\n",
       "      <td>106.0</td>\n",
       "      <td>[{'cast_id': 1, 'character': 'George Banks', '...</td>\n",
       "      <td>[{'credit_id': '52fe44959251416c75039ed7', 'de...</td>\n",
       "      <td>[{'id': 1009, 'name': 'baby'}, {'id': 1599, 'n...</td>\n",
       "      <td>...</td>\n",
       "      <td>19.093691</td>\n",
       "      <td>102.482222</td>\n",
       "      <td>85.251258</td>\n",
       "      <td>28.312941</td>\n",
       "      <td>94.287052</td>\n",
       "      <td>98.054007</td>\n",
       "      <td>110.440328</td>\n",
       "      <td>99.236678</td>\n",
       "      <td>136.537094</td>\n",
       "      <td>104.796367</td>\n",
       "    </tr>\n",
       "  </tbody>\n",
       "</table>\n",
       "<p>5 rows × 25 columns</p>\n",
       "</div>"
      ],
      "text/plain": [
       "  original_language               original_title  \\\n",
       "0                en                    Toy Story   \n",
       "1                en                      Jumanji   \n",
       "2                en             Grumpier Old Men   \n",
       "3                en            Waiting to Exhale   \n",
       "4                en  Father of the Bride Part II   \n",
       "\n",
       "                                            overview  \\\n",
       "0  Led by Woody, Andy's toys live happily in his ...   \n",
       "1  When siblings Judy and Peter discover an encha...   \n",
       "2  A family wedding reignites the ancient feud be...   \n",
       "3  Cheated on, mistreated and stepped on, the wom...   \n",
       "4  Just when George Banks has recovered from his ...   \n",
       "\n",
       "                                production_companies  \\\n",
       "0     [{'name': 'Pixar Animation Studios', 'id': 3}]   \n",
       "1  [{'name': 'TriStar Pictures', 'id': 559}, {'na...   \n",
       "2  [{'name': 'Warner Bros.', 'id': 6194}, {'name'...   \n",
       "3  [{'name': 'Twentieth Century Fox Film Corporat...   \n",
       "4  [{'name': 'Sandollar Productions', 'id': 5842}...   \n",
       "\n",
       "                                production_countries release_date  runtime  \\\n",
       "0  [{'iso_3166_1': 'US', 'name': 'United States o...   1995-10-30     81.0   \n",
       "1  [{'iso_3166_1': 'US', 'name': 'United States o...   1995-12-15    104.0   \n",
       "2  [{'iso_3166_1': 'US', 'name': 'United States o...   1995-12-22    101.0   \n",
       "3  [{'iso_3166_1': 'US', 'name': 'United States o...   1995-12-22    127.0   \n",
       "4  [{'iso_3166_1': 'US', 'name': 'United States o...   1995-02-10    106.0   \n",
       "\n",
       "                                                cast  \\\n",
       "0  [{'cast_id': 14, 'character': 'Woody (voice)',...   \n",
       "1  [{'cast_id': 1, 'character': 'Alan Parrish', '...   \n",
       "2  [{'cast_id': 2, 'character': 'Max Goldman', 'c...   \n",
       "3  [{'cast_id': 1, 'character': \"Savannah 'Vannah...   \n",
       "4  [{'cast_id': 1, 'character': 'George Banks', '...   \n",
       "\n",
       "                                                crew  \\\n",
       "0  [{'credit_id': '52fe4284c3a36847f8024f49', 'de...   \n",
       "1  [{'credit_id': '52fe44bfc3a36847f80a7cd1', 'de...   \n",
       "2  [{'credit_id': '52fe466a9251416c75077a89', 'de...   \n",
       "3  [{'credit_id': '52fe44779251416c91011acb', 'de...   \n",
       "4  [{'credit_id': '52fe44959251416c75039ed7', 'de...   \n",
       "\n",
       "                                            keywords  ...        hue  \\\n",
       "0  [{'id': 931, 'name': 'jealousy'}, {'id': 4290,...  ...  82.805137   \n",
       "1  [{'id': 10090, 'name': 'board game'}, {'id': 1...  ...  65.296239   \n",
       "2  [{'id': 1495, 'name': 'fishing'}, {'id': 12392...  ...  48.908106   \n",
       "3  [{'id': 818, 'name': 'based on novel'}, {'id':...  ...  43.298337   \n",
       "4  [{'id': 1009, 'name': 'baby'}, {'id': 1599, 'n...  ...  19.093691   \n",
       "\n",
       "  brightness_sd  saturation_sd      hue_sd        blue    blue_sd       green  \\\n",
       "0     58.496526       80.933495  46.984021  147.046133  83.046441  127.812661   \n",
       "1     83.413251       67.319422  61.296055  132.472598  84.508776  137.041430   \n",
       "2     94.073346       70.979805  65.406756   97.464385  78.935691  106.743824   \n",
       "3     71.637853       74.316934  57.431210  148.388970  88.371216  161.866089   \n",
       "4    102.482222       85.251258  28.312941   94.287052  98.054007  110.440328   \n",
       "\n",
       "    green_sd         red     red_sd   \n",
       "0  59.618615   79.571854   88.574055  \n",
       "1  79.140584  137.619493   85.319415  \n",
       "2  89.725921  136.728580   96.124722  \n",
       "3  82.379306  191.924122   72.849543  \n",
       "4  99.236678  136.537094  104.796367  \n",
       "\n",
       "[5 rows x 25 columns]"
      ]
     },
     "execution_count": 12,
     "metadata": {},
     "output_type": "execute_result"
    }
   ],
   "source": [
    "all_data.head()"
   ]
  },
  {
   "cell_type": "code",
   "execution_count": 13,
   "id": "92b208bd",
   "metadata": {},
   "outputs": [],
   "source": [
    "def graph_create_dictionary_overview(messages, min_count, tokenizer):\n",
    "    #stop_words = []\n",
    "    #with open(path2,'r') as f:\n",
    "    #  for x in f:\n",
    "    #    stop_words.append(x[:-1])\n",
    "\n",
    "    words_count = {}\n",
    "    for i in tqdm(range(len(messages))):\n",
    "        s = messages[i]\n",
    "        words = get_words(s, tokenizer)\n",
    "        words_unique = list(dict.fromkeys(words))\n",
    "        for w in words_unique:\n",
    "          if (len(w)<=1) or (w.lower() in stop_words_set) or (not w.isalpha()):\n",
    "            continue\n",
    "          if w.lower() not in words_count:\n",
    "            words_count[w.lower()] = 1\n",
    "          else:\n",
    "            words_count[w.lower()] += 1\n",
    "\n",
    "    for word in list(words_count.keys()):\n",
    "        if (words_count[word] < min_count) or word=='':\n",
    "            del words_count[word]\n",
    "\n",
    "    return words_count"
   ]
  },
  {
   "cell_type": "code",
   "execution_count": 14,
   "id": "676b5662",
   "metadata": {},
   "outputs": [],
   "source": [
    "#tokenizer = spacy.load(\"en_core_web_sm\", disable=[\"tagger\", \"parser\", \"ner\", \"lemmatizer\"])\n",
    "#graph_overview_dictionary = graph_create_dictionary_overview(\n",
    "#    all_data['overview'], 75, tokenizer)\n",
    "#print('Size of dictionary: ', len(graph_overview_dictionary))\n",
    "# print(overview_dictionary)"
   ]
  },
  {
   "cell_type": "code",
   "execution_count": 15,
   "id": "d6f5f0a8",
   "metadata": {},
   "outputs": [],
   "source": [
    "#from wordcloud import WordCloud\n",
    "#wordcloud = WordCloud()\n",
    "#wordcloud.generate_from_frequencies(frequencies=graph_overview_dictionary)\n",
    "#plt.figure(figsize=(15,15))\n",
    "#plt.imshow(wordcloud)\n",
    "#plt.axis(\"off\")\n",
    "#plt.show()"
   ]
  },
  {
   "cell_type": "code",
   "execution_count": 16,
   "id": "4e173de6",
   "metadata": {},
   "outputs": [
    {
     "name": "stdout",
     "output_type": "stream",
     "text": [
      "(36435, 25)\n"
     ]
    }
   ],
   "source": [
    "#all_data = all_data[all_data.original_language == 'en']\n",
    "print(all_data.shape)"
   ]
  },
  {
   "cell_type": "code",
   "execution_count": 17,
   "id": "1c8c340f",
   "metadata": {},
   "outputs": [
    {
     "name": "stdout",
     "output_type": "stream",
     "text": [
      "36435\n"
     ]
    }
   ],
   "source": [
    "original_language_series = all_data['original_language']\n",
    "print(len(original_language_series))\n",
    "original_language_series = original_language_series.drop_duplicates()"
   ]
  },
  {
   "cell_type": "code",
   "execution_count": 18,
   "id": "1d7c20ba",
   "metadata": {},
   "outputs": [
    {
     "data": {
      "text/plain": [
       "87"
      ]
     },
     "execution_count": 18,
     "metadata": {},
     "output_type": "execute_result"
    }
   ],
   "source": [
    "len(original_language_series)"
   ]
  },
  {
   "cell_type": "code",
   "execution_count": 19,
   "id": "17672ca7",
   "metadata": {},
   "outputs": [],
   "source": [
    "def create_original_languages_dictionary(ss):\n",
    "  ol_dict = {}\n",
    "  idx = 1\n",
    "  for x in ss:\n",
    "    ol_dict[x] = idx\n",
    "    idx+=1\n",
    "  return ol_dict"
   ]
  },
  {
   "cell_type": "code",
   "execution_count": 20,
   "id": "976ce041",
   "metadata": {},
   "outputs": [],
   "source": [
    "original_language_dictionary = create_original_languages_dictionary(original_language_series)"
   ]
  },
  {
   "cell_type": "code",
   "execution_count": 21,
   "id": "7c5ad2d0",
   "metadata": {},
   "outputs": [],
   "source": [
    "for itr in all_data.index:\n",
    "  all_data.at[itr, 'original_language'] = original_language_dictionary[all_data.at[itr, 'original_language']]"
   ]
  },
  {
   "cell_type": "code",
   "execution_count": 22,
   "id": "9825a1ba",
   "metadata": {},
   "outputs": [
    {
     "name": "stdout",
     "output_type": "stream",
     "text": [
      "(36435, 25)\n"
     ]
    }
   ],
   "source": [
    "pd.to_datetime(all_data.release_date)\n",
    "all_data['year'] = pd.DatetimeIndex(all_data['release_date']).year\n",
    "all_data = all_data.drop(columns=['release_date'], axis=1)\n",
    "print(all_data.shape)"
   ]
  },
  {
   "cell_type": "code",
   "execution_count": 23,
   "id": "b67c6e1e",
   "metadata": {},
   "outputs": [],
   "source": [
    "#change value based on EDA\n",
    "#all_data = all_data.loc[all_data.year > 1960]"
   ]
  },
  {
   "cell_type": "code",
   "execution_count": 24,
   "id": "32048ed4",
   "metadata": {},
   "outputs": [],
   "source": [
    "#score_by_genre = all_data.groupby(['Genre'])['IMDB Score'].agg(['mean', 'count']).sort_values(by='mean')\n",
    "#score_by_genre[score_by_genre['count'] > 0]"
   ]
  },
  {
   "cell_type": "code",
   "execution_count": 25,
   "id": "5de8f53a",
   "metadata": {},
   "outputs": [],
   "source": [
    "from ast import literal_eval"
   ]
  },
  {
   "cell_type": "code",
   "execution_count": 26,
   "id": "759ac707",
   "metadata": {},
   "outputs": [],
   "source": [
    "def get_production_companies(l):\n",
    "  if isinstance(l, list):\n",
    "    productionCompanies = [pc['name'] for pc in l]\n",
    "    return '|'.join(productionCompanies)\n",
    "  return ''"
   ]
  },
  {
   "cell_type": "code",
   "execution_count": 27,
   "id": "703b7a6e",
   "metadata": {},
   "outputs": [],
   "source": [
    "def get_production_countries(l):\n",
    "  if isinstance(l, list):\n",
    "    #productionCountries = [pc['iso_3166_1'] for pc in l]\n",
    "    #return '|'.join(productionCountries)\n",
    "    if len(l)>0:\n",
    "      return l[0]['iso_3166_1']\n",
    "  return ''"
   ]
  },
  {
   "cell_type": "code",
   "execution_count": 28,
   "id": "97598aba",
   "metadata": {},
   "outputs": [],
   "source": [
    "def get_keywords(l):\n",
    "  if isinstance(l, list):\n",
    "    # temp = [x.split() for x in l]\n",
    "      # return temp\n",
    "    # words = [x['name'] for x in l]\n",
    "    # print(l)\n",
    "    # print(words)\n",
    "    words = [x['name'] for x in l]\n",
    "    allWords = []\n",
    "    for word in words:\n",
    "      temp = word.split()\n",
    "      for t in temp:\n",
    "        allWords.append(t)\n",
    "    # print(allWords)\n",
    "    allWords = set(allWords)\n",
    "    keyWords = ['keyword-' + w for w in allWords]\n",
    "    return '|'.join(keyWords)\n",
    "  return ''"
   ]
  },
  {
   "cell_type": "code",
   "execution_count": 29,
   "id": "63e78579",
   "metadata": {},
   "outputs": [
    {
     "data": {
      "text/plain": [
       "'keyword-silent|keyword-prison|keyword-film|keyword-trick|keyword-break'"
      ]
     },
     "execution_count": 29,
     "metadata": {},
     "output_type": "execute_result"
    }
   ],
   "source": [
    "words= [{'id': 154802, 'name': 'silent film'}, {'id': 191047,\n",
    "                                         'name': 'prison break'}, {'id': 211467, 'name': 'trick film'}]\n",
    "get_keywords(words)"
   ]
  },
  {
   "cell_type": "code",
   "execution_count": 30,
   "id": "05b17245",
   "metadata": {},
   "outputs": [],
   "source": [
    "def get_original_title(s):\n",
    "  if isinstance(s, str):\n",
    "    s = s.lower()\n",
    "    temp = s.split()\n",
    "    temp2 = [x for x in temp if x not in stop_words_set]\n",
    "    #print(len(temp) - len(temp2))\n",
    "    title_words = ['title-' + t for t in temp2]\n",
    "    return '|'.join(title_words)\n",
    "  return ''"
   ]
  },
  {
   "cell_type": "code",
   "execution_count": 31,
   "id": "1543488f",
   "metadata": {},
   "outputs": [],
   "source": [
    "def get_director(l):\n",
    "  for d in l:\n",
    "    if d['job'] == 'Director':\n",
    "      return d['name']\n",
    "  return ''\n",
    "\n",
    "def get_actors(l):\n",
    "    if isinstance(l, list):\n",
    "        actors = [d['name'] for d in l]\n",
    "        if len(actors) >= 3:\n",
    "            actors = actors[:3]\n",
    "            return '|'.join(actors)\n",
    "        return '|'.join(actors)\n",
    "\n",
    "\n",
    "directors = all_data['crew'].apply(literal_eval).apply(get_director)\n",
    "top_actors = all_data['cast'].apply(literal_eval).apply(get_actors)"
   ]
  },
  {
   "cell_type": "code",
   "execution_count": 32,
   "id": "87e21b93",
   "metadata": {},
   "outputs": [],
   "source": [
    "production_companies = all_data['production_companies'].apply(literal_eval).apply(get_production_companies)"
   ]
  },
  {
   "cell_type": "code",
   "execution_count": 33,
   "id": "960fc209",
   "metadata": {},
   "outputs": [],
   "source": [
    "production_countries = all_data['production_countries'].apply(literal_eval).apply(get_production_countries)"
   ]
  },
  {
   "cell_type": "code",
   "execution_count": 34,
   "id": "c83c5451",
   "metadata": {},
   "outputs": [],
   "source": [
    "keywords = all_data['keywords'].apply(literal_eval).apply(get_keywords)"
   ]
  },
  {
   "cell_type": "code",
   "execution_count": 35,
   "id": "05a71278",
   "metadata": {},
   "outputs": [],
   "source": [
    "original_title = all_data['original_title'].apply(get_original_title)"
   ]
  },
  {
   "cell_type": "code",
   "execution_count": 36,
   "id": "208f00cd",
   "metadata": {},
   "outputs": [],
   "source": [
    "all_data['director'] = directors"
   ]
  },
  {
   "cell_type": "code",
   "execution_count": 37,
   "id": "f504bc42",
   "metadata": {},
   "outputs": [],
   "source": [
    "all_data['actors'] = top_actors"
   ]
  },
  {
   "cell_type": "code",
   "execution_count": 38,
   "id": "16d7c6b0",
   "metadata": {},
   "outputs": [],
   "source": [
    "all_data['production_companies'] = production_companies"
   ]
  },
  {
   "cell_type": "code",
   "execution_count": 39,
   "id": "bf9009e2",
   "metadata": {},
   "outputs": [],
   "source": [
    "all_data['production_countries'] = production_countries"
   ]
  },
  {
   "cell_type": "code",
   "execution_count": 40,
   "id": "38db52bf",
   "metadata": {},
   "outputs": [],
   "source": [
    "all_data['keywords'] = keywords"
   ]
  },
  {
   "cell_type": "code",
   "execution_count": 41,
   "id": "9cf83740",
   "metadata": {},
   "outputs": [],
   "source": [
    "all_data['original_title'] = original_title"
   ]
  },
  {
   "cell_type": "code",
   "execution_count": 42,
   "id": "e77f9650",
   "metadata": {},
   "outputs": [
    {
     "data": {
      "text/plain": [
       "(36435, 27)"
      ]
     },
     "execution_count": 42,
     "metadata": {},
     "output_type": "execute_result"
    }
   ],
   "source": [
    "all_data.shape"
   ]
  },
  {
   "cell_type": "code",
   "execution_count": 43,
   "id": "d14a14fd",
   "metadata": {},
   "outputs": [
    {
     "name": "stdout",
     "output_type": "stream",
     "text": [
      "90.0     2038\n",
      "100.0    1227\n",
      "95.0     1142\n",
      "93.0     1007\n",
      "96.0      912\n",
      "         ... \n",
      "345.0       1\n",
      "230.0       1\n",
      "264.0       1\n",
      "442.0       1\n",
      "705.0       1\n",
      "Name: runtime, Length: 337, dtype: int64\n"
     ]
    }
   ],
   "source": [
    "print(all_data['runtime'].value_counts())"
   ]
  },
  {
   "cell_type": "code",
   "execution_count": 44,
   "id": "76dbcaa3",
   "metadata": {},
   "outputs": [],
   "source": [
    "def get_runtime(s):\n",
    "    if s == 0:\n",
    "        return np.NaN\n",
    "    return s"
   ]
  },
  {
   "cell_type": "code",
   "execution_count": 45,
   "id": "987b0995",
   "metadata": {},
   "outputs": [],
   "source": [
    "all_data['runtime'] = all_data['runtime'].apply(get_runtime)"
   ]
  },
  {
   "cell_type": "code",
   "execution_count": 46,
   "id": "b6775554",
   "metadata": {},
   "outputs": [],
   "source": [
    "all_data = all_data.replace(r'^\\s*$', np.NaN, regex=True)"
   ]
  },
  {
   "cell_type": "code",
   "execution_count": 47,
   "id": "87acfd1a",
   "metadata": {},
   "outputs": [],
   "source": [
    "all_data = all_data.dropna()"
   ]
  },
  {
   "cell_type": "code",
   "execution_count": 48,
   "id": "df9a8c7a",
   "metadata": {},
   "outputs": [
    {
     "data": {
      "text/plain": [
       "(21782, 27)"
      ]
     },
     "execution_count": 48,
     "metadata": {},
     "output_type": "execute_result"
    }
   ],
   "source": [
    "all_data.shape"
   ]
  },
  {
   "cell_type": "code",
   "execution_count": 49,
   "id": "d8950a62",
   "metadata": {},
   "outputs": [
    {
     "data": {
      "text/plain": [
       "Index(['original_language', 'original_title', 'overview',\n",
       "       'production_companies', 'production_countries', 'runtime', 'cast',\n",
       "       'crew', 'keywords', 'IMDB Score', 'Genre', 'num_faces', 'brightness',\n",
       "       'saturation', 'hue', 'brightness_sd', 'saturation_sd ', 'hue_sd',\n",
       "       'blue', 'blue_sd', 'green', 'green_sd', 'red', 'red_sd ', 'year',\n",
       "       'director', 'actors'],\n",
       "      dtype='object')"
      ]
     },
     "execution_count": 49,
     "metadata": {},
     "output_type": "execute_result"
    }
   ],
   "source": [
    "all_data.columns"
   ]
  },
  {
   "cell_type": "code",
   "execution_count": 50,
   "id": "6fd9f83f",
   "metadata": {},
   "outputs": [
    {
     "data": {
      "text/html": [
       "<div>\n",
       "<style scoped>\n",
       "    .dataframe tbody tr th:only-of-type {\n",
       "        vertical-align: middle;\n",
       "    }\n",
       "\n",
       "    .dataframe tbody tr th {\n",
       "        vertical-align: top;\n",
       "    }\n",
       "\n",
       "    .dataframe thead th {\n",
       "        text-align: right;\n",
       "    }\n",
       "</style>\n",
       "<table border=\"1\" class=\"dataframe\">\n",
       "  <thead>\n",
       "    <tr style=\"text-align: right;\">\n",
       "      <th></th>\n",
       "      <th>original_language</th>\n",
       "      <th>original_title</th>\n",
       "      <th>overview</th>\n",
       "      <th>production_companies</th>\n",
       "      <th>production_countries</th>\n",
       "      <th>runtime</th>\n",
       "      <th>cast</th>\n",
       "      <th>crew</th>\n",
       "      <th>keywords</th>\n",
       "      <th>IMDB Score</th>\n",
       "      <th>...</th>\n",
       "      <th>hue_sd</th>\n",
       "      <th>blue</th>\n",
       "      <th>blue_sd</th>\n",
       "      <th>green</th>\n",
       "      <th>green_sd</th>\n",
       "      <th>red</th>\n",
       "      <th>red_sd</th>\n",
       "      <th>year</th>\n",
       "      <th>director</th>\n",
       "      <th>actors</th>\n",
       "    </tr>\n",
       "  </thead>\n",
       "  <tbody>\n",
       "    <tr>\n",
       "      <th>0</th>\n",
       "      <td>1</td>\n",
       "      <td>title-toy|title-story</td>\n",
       "      <td>Led by Woody, Andy's toys live happily in his ...</td>\n",
       "      <td>Pixar Animation Studios</td>\n",
       "      <td>US</td>\n",
       "      <td>81.0</td>\n",
       "      <td>[{'cast_id': 14, 'character': 'Woody (voice)',...</td>\n",
       "      <td>[{'credit_id': '52fe4284c3a36847f8024f49', 'de...</td>\n",
       "      <td>keyword-friends|keyword-comes|keyword-new|keyw...</td>\n",
       "      <td>8.3</td>\n",
       "      <td>...</td>\n",
       "      <td>46.984021</td>\n",
       "      <td>147.046133</td>\n",
       "      <td>83.046441</td>\n",
       "      <td>127.812661</td>\n",
       "      <td>59.618615</td>\n",
       "      <td>79.571854</td>\n",
       "      <td>88.574055</td>\n",
       "      <td>1995</td>\n",
       "      <td>John Lasseter</td>\n",
       "      <td>Tom Hanks|Tim Allen|Don Rickles</td>\n",
       "    </tr>\n",
       "    <tr>\n",
       "      <th>1</th>\n",
       "      <td>1</td>\n",
       "      <td>title-jumanji</td>\n",
       "      <td>When siblings Judy and Peter discover an encha...</td>\n",
       "      <td>TriStar Pictures|Teitler Film|Interscope Commu...</td>\n",
       "      <td>US</td>\n",
       "      <td>104.0</td>\n",
       "      <td>[{'cast_id': 1, 'character': 'Alan Parrish', '...</td>\n",
       "      <td>[{'credit_id': '52fe44bfc3a36847f80a7cd1', 'de...</td>\n",
       "      <td>keyword-board|keyword-game|keyword-home|keywor...</td>\n",
       "      <td>6.9</td>\n",
       "      <td>...</td>\n",
       "      <td>61.296055</td>\n",
       "      <td>132.472598</td>\n",
       "      <td>84.508776</td>\n",
       "      <td>137.041430</td>\n",
       "      <td>79.140584</td>\n",
       "      <td>137.619493</td>\n",
       "      <td>85.319415</td>\n",
       "      <td>1995</td>\n",
       "      <td>Joe Johnston</td>\n",
       "      <td>Robin Williams|Jonathan Hyde|Kirsten Dunst</td>\n",
       "    </tr>\n",
       "    <tr>\n",
       "      <th>2</th>\n",
       "      <td>1</td>\n",
       "      <td>title-grumpier|title-old|title-men</td>\n",
       "      <td>A family wedding reignites the ancient feud be...</td>\n",
       "      <td>Warner Bros.|Lancaster Gate</td>\n",
       "      <td>US</td>\n",
       "      <td>101.0</td>\n",
       "      <td>[{'cast_id': 2, 'character': 'Max Goldman', 'c...</td>\n",
       "      <td>[{'credit_id': '52fe466a9251416c75077a89', 'de...</td>\n",
       "      <td>keyword-best|keyword-friend|keyword-men|keywor...</td>\n",
       "      <td>6.6</td>\n",
       "      <td>...</td>\n",
       "      <td>65.406756</td>\n",
       "      <td>97.464385</td>\n",
       "      <td>78.935691</td>\n",
       "      <td>106.743824</td>\n",
       "      <td>89.725921</td>\n",
       "      <td>136.728580</td>\n",
       "      <td>96.124722</td>\n",
       "      <td>1995</td>\n",
       "      <td>Howard Deutch</td>\n",
       "      <td>Walter Matthau|Jack Lemmon|Ann-Margret</td>\n",
       "    </tr>\n",
       "    <tr>\n",
       "      <th>3</th>\n",
       "      <td>1</td>\n",
       "      <td>title-waiting|title-exhale</td>\n",
       "      <td>Cheated on, mistreated and stepped on, the wom...</td>\n",
       "      <td>Twentieth Century Fox Film Corporation</td>\n",
       "      <td>US</td>\n",
       "      <td>127.0</td>\n",
       "      <td>[{'cast_id': 1, 'character': \"Savannah 'Vannah...</td>\n",
       "      <td>[{'credit_id': '52fe44779251416c91011acb', 'de...</td>\n",
       "      <td>keyword-single|keyword-flick|keyword-chick|key...</td>\n",
       "      <td>5.7</td>\n",
       "      <td>...</td>\n",
       "      <td>57.431210</td>\n",
       "      <td>148.388970</td>\n",
       "      <td>88.371216</td>\n",
       "      <td>161.866089</td>\n",
       "      <td>82.379306</td>\n",
       "      <td>191.924122</td>\n",
       "      <td>72.849543</td>\n",
       "      <td>1995</td>\n",
       "      <td>Forest Whitaker</td>\n",
       "      <td>Whitney Houston|Angela Bassett|Loretta Devine</td>\n",
       "    </tr>\n",
       "    <tr>\n",
       "      <th>4</th>\n",
       "      <td>1</td>\n",
       "      <td>title-father|title-bride|title-part|title-ii</td>\n",
       "      <td>Just when George Banks has recovered from his ...</td>\n",
       "      <td>Sandollar Productions|Touchstone Pictures</td>\n",
       "      <td>US</td>\n",
       "      <td>106.0</td>\n",
       "      <td>[{'cast_id': 1, 'character': 'George Banks', '...</td>\n",
       "      <td>[{'credit_id': '52fe44959251416c75039ed7', 'de...</td>\n",
       "      <td>keyword-daughter|keyword-midlife|keyword-pregn...</td>\n",
       "      <td>5.9</td>\n",
       "      <td>...</td>\n",
       "      <td>28.312941</td>\n",
       "      <td>94.287052</td>\n",
       "      <td>98.054007</td>\n",
       "      <td>110.440328</td>\n",
       "      <td>99.236678</td>\n",
       "      <td>136.537094</td>\n",
       "      <td>104.796367</td>\n",
       "      <td>1995</td>\n",
       "      <td>Charles Shyer</td>\n",
       "      <td>Steve Martin|Diane Keaton|Martin Short</td>\n",
       "    </tr>\n",
       "  </tbody>\n",
       "</table>\n",
       "<p>5 rows × 27 columns</p>\n",
       "</div>"
      ],
      "text/plain": [
       "  original_language                                original_title  \\\n",
       "0                 1                         title-toy|title-story   \n",
       "1                 1                                 title-jumanji   \n",
       "2                 1            title-grumpier|title-old|title-men   \n",
       "3                 1                    title-waiting|title-exhale   \n",
       "4                 1  title-father|title-bride|title-part|title-ii   \n",
       "\n",
       "                                            overview  \\\n",
       "0  Led by Woody, Andy's toys live happily in his ...   \n",
       "1  When siblings Judy and Peter discover an encha...   \n",
       "2  A family wedding reignites the ancient feud be...   \n",
       "3  Cheated on, mistreated and stepped on, the wom...   \n",
       "4  Just when George Banks has recovered from his ...   \n",
       "\n",
       "                                production_companies production_countries  \\\n",
       "0                            Pixar Animation Studios                   US   \n",
       "1  TriStar Pictures|Teitler Film|Interscope Commu...                   US   \n",
       "2                        Warner Bros.|Lancaster Gate                   US   \n",
       "3             Twentieth Century Fox Film Corporation                   US   \n",
       "4          Sandollar Productions|Touchstone Pictures                   US   \n",
       "\n",
       "   runtime                                               cast  \\\n",
       "0     81.0  [{'cast_id': 14, 'character': 'Woody (voice)',...   \n",
       "1    104.0  [{'cast_id': 1, 'character': 'Alan Parrish', '...   \n",
       "2    101.0  [{'cast_id': 2, 'character': 'Max Goldman', 'c...   \n",
       "3    127.0  [{'cast_id': 1, 'character': \"Savannah 'Vannah...   \n",
       "4    106.0  [{'cast_id': 1, 'character': 'George Banks', '...   \n",
       "\n",
       "                                                crew  \\\n",
       "0  [{'credit_id': '52fe4284c3a36847f8024f49', 'de...   \n",
       "1  [{'credit_id': '52fe44bfc3a36847f80a7cd1', 'de...   \n",
       "2  [{'credit_id': '52fe466a9251416c75077a89', 'de...   \n",
       "3  [{'credit_id': '52fe44779251416c91011acb', 'de...   \n",
       "4  [{'credit_id': '52fe44959251416c75039ed7', 'de...   \n",
       "\n",
       "                                            keywords  IMDB Score  ...  \\\n",
       "0  keyword-friends|keyword-comes|keyword-new|keyw...         8.3  ...   \n",
       "1  keyword-board|keyword-game|keyword-home|keywor...         6.9  ...   \n",
       "2  keyword-best|keyword-friend|keyword-men|keywor...         6.6  ...   \n",
       "3  keyword-single|keyword-flick|keyword-chick|key...         5.7  ...   \n",
       "4  keyword-daughter|keyword-midlife|keyword-pregn...         5.9  ...   \n",
       "\n",
       "      hue_sd        blue    blue_sd       green   green_sd         red  \\\n",
       "0  46.984021  147.046133  83.046441  127.812661  59.618615   79.571854   \n",
       "1  61.296055  132.472598  84.508776  137.041430  79.140584  137.619493   \n",
       "2  65.406756   97.464385  78.935691  106.743824  89.725921  136.728580   \n",
       "3  57.431210  148.388970  88.371216  161.866089  82.379306  191.924122   \n",
       "4  28.312941   94.287052  98.054007  110.440328  99.236678  136.537094   \n",
       "\n",
       "      red_sd   year         director  \\\n",
       "0   88.574055  1995    John Lasseter   \n",
       "1   85.319415  1995     Joe Johnston   \n",
       "2   96.124722  1995    Howard Deutch   \n",
       "3   72.849543  1995  Forest Whitaker   \n",
       "4  104.796367  1995    Charles Shyer   \n",
       "\n",
       "                                          actors  \n",
       "0                Tom Hanks|Tim Allen|Don Rickles  \n",
       "1     Robin Williams|Jonathan Hyde|Kirsten Dunst  \n",
       "2         Walter Matthau|Jack Lemmon|Ann-Margret  \n",
       "3  Whitney Houston|Angela Bassett|Loretta Devine  \n",
       "4         Steve Martin|Diane Keaton|Martin Short  \n",
       "\n",
       "[5 rows x 27 columns]"
      ]
     },
     "execution_count": 50,
     "metadata": {},
     "output_type": "execute_result"
    }
   ],
   "source": [
    "all_data.head()"
   ]
  },
  {
   "cell_type": "code",
   "execution_count": 51,
   "id": "61852de1",
   "metadata": {},
   "outputs": [],
   "source": [
    "cols = ['original_language', 'original_title', 'overview',\n",
    "       'production_companies', 'production_countries', 'runtime', 'cast',\n",
    "       'crew', 'keywords', 'IMDB Score', 'Genre',\n",
    "       'num_faces', 'brightness', 'saturation', 'hue',\n",
    "       'brightness_sd', 'saturation_sd ', 'hue_sd', 'blue', 'blue_sd', 'green',\n",
    "       'green_sd', 'red', 'red_sd ', 'year', 'director', 'actors']\n",
    "\n",
    "new_cols = ['data_original_language', 'data_original_title', 'data_overview',\n",
    "            'data_production_companies', 'data_production_countries', 'data_runtime', 'data_cast',\n",
    "            'data_crew', 'data_keywords', 'data_IMDBscore', 'data_genre',\n",
    "       'data_num_faces', 'data_brightness', 'data_saturation', 'data_hue',\n",
    "       'data_brightness_sd', 'data_saturation_sd', 'data_hue_sd', 'data_blue', 'data_blue_sd', 'data_green',\n",
    "       'data_green_sd', 'data_red', 'data_red_sd', 'data_year', 'data_director', 'data_actors']"
   ]
  },
  {
   "cell_type": "code",
   "execution_count": 52,
   "id": "51a58f68",
   "metadata": {},
   "outputs": [
    {
     "name": "stdout",
     "output_type": "stream",
     "text": [
      "(21782, 27)\n"
     ]
    }
   ],
   "source": [
    "all_data = all_data[cols]\n",
    "all_data = all_data.dropna()\n",
    "print(all_data.shape)"
   ]
  },
  {
   "cell_type": "code",
   "execution_count": 53,
   "id": "23292b50",
   "metadata": {},
   "outputs": [
    {
     "name": "stdout",
     "output_type": "stream",
     "text": [
      "(21782, 27)\n"
     ]
    }
   ],
   "source": [
    "all_data.columns = new_cols\n",
    "all_data = all_data.reset_index(drop=True)\n",
    "print(all_data.shape)"
   ]
  },
  {
   "cell_type": "code",
   "execution_count": 54,
   "id": "17589ba5",
   "metadata": {},
   "outputs": [
    {
     "name": "stdout",
     "output_type": "stream",
     "text": [
      "<class 'pandas.core.frame.DataFrame'>\n",
      "RangeIndex: 21782 entries, 0 to 21781\n",
      "Data columns (total 27 columns):\n",
      " #   Column                     Non-Null Count  Dtype  \n",
      "---  ------                     --------------  -----  \n",
      " 0   data_original_language     21782 non-null  object \n",
      " 1   data_original_title        21782 non-null  object \n",
      " 2   data_overview              21782 non-null  object \n",
      " 3   data_production_companies  21782 non-null  object \n",
      " 4   data_production_countries  21782 non-null  object \n",
      " 5   data_runtime               21782 non-null  float64\n",
      " 6   data_cast                  21782 non-null  object \n",
      " 7   data_crew                  21782 non-null  object \n",
      " 8   data_keywords              21782 non-null  object \n",
      " 9   data_IMDBscore             21782 non-null  float64\n",
      " 10  data_genre                 21782 non-null  object \n",
      " 11  data_num_faces             21782 non-null  float64\n",
      " 12  data_brightness            21782 non-null  float64\n",
      " 13  data_saturation            21782 non-null  float64\n",
      " 14  data_hue                   21782 non-null  float64\n",
      " 15  data_brightness_sd         21782 non-null  float64\n",
      " 16  data_saturation_sd         21782 non-null  float64\n",
      " 17  data_hue_sd                21782 non-null  float64\n",
      " 18  data_blue                  21782 non-null  float64\n",
      " 19  data_blue_sd               21782 non-null  float64\n",
      " 20  data_green                 21782 non-null  float64\n",
      " 21  data_green_sd              21782 non-null  float64\n",
      " 22  data_red                   21782 non-null  float64\n",
      " 23  data_red_sd                21782 non-null  float64\n",
      " 24  data_year                  21782 non-null  int64  \n",
      " 25  data_director              21782 non-null  object \n",
      " 26  data_actors                21782 non-null  object \n",
      "dtypes: float64(15), int64(1), object(11)\n",
      "memory usage: 4.5+ MB\n"
     ]
    }
   ],
   "source": [
    "all_data.info()"
   ]
  },
  {
   "cell_type": "code",
   "execution_count": 55,
   "id": "5ff38174",
   "metadata": {},
   "outputs": [],
   "source": [
    "from sklearn.model_selection import train_test_split"
   ]
  },
  {
   "cell_type": "code",
   "execution_count": 56,
   "id": "369f8676",
   "metadata": {},
   "outputs": [
    {
     "name": "stdout",
     "output_type": "stream",
     "text": [
      "(15247, 27)\n",
      "(3267, 27)\n",
      "(3268, 27)\n",
      "\n",
      "1.1913959846691171\n",
      "1.2298575766760365\n",
      "1.1840317748532385\n"
     ]
    }
   ],
   "source": [
    "train_dataset, test_dataset = train_test_split(\n",
    "    all_data, test_size=0.3, random_state=0)\n",
    "valid_dataset, test_dataset = train_test_split(\n",
    "    test_dataset, test_size=0.5, random_state=0)\n",
    "\n",
    "train_data = train_dataset.reset_index(drop=True)\n",
    "valid_data = valid_dataset.reset_index(drop=True)\n",
    "test_data = test_dataset.reset_index(drop=True)\n",
    "\n",
    "print(train_data.shape)\n",
    "print(valid_data.shape)\n",
    "print(test_data.shape)\n",
    "\n",
    "# not making the csv files rightnow\n",
    "# train_data.to_csv('Dataset/train.csv', index=False)\n",
    "# valid_data.to_csv('Dataset/valid.csv', index=False)\n",
    "# test_data.to_csv('Dataset/test.csv', index=False)\n",
    "\n",
    "print('')\n",
    "print(np.cov(train_data['data_IMDBscore']))\n",
    "print(np.cov(valid_data['data_IMDBscore']))\n",
    "print(np.cov(test_data['data_IMDBscore']))"
   ]
  },
  {
   "cell_type": "code",
   "execution_count": 57,
   "id": "f15c7404",
   "metadata": {},
   "outputs": [],
   "source": [
    "def get_words(message, tokenizer = None):\n",
    "    if tokenizer:\n",
    "        doc = tokenizer(message)\n",
    "        return [i.text for i in doc]\n",
    "    else:\n",
    "        return message.lower().split('|')\n",
    "\n",
    "def create_dictionary(messages, min_count = 5, tokenizer = None):\n",
    "    words_count = {}\n",
    "    for i in tqdm(range(len(messages))):\n",
    "        s = messages[i]\n",
    "        words = get_words(s, tokenizer)\n",
    "        words_unique = list(dict.fromkeys(words))\n",
    "        for w in words_unique:\n",
    "            if w not in words_count:\n",
    "                words_count[w] = 1\n",
    "            else:\n",
    "                words_count[w] += 1\n",
    "\n",
    "    for word in list(words_count.keys()):\n",
    "        if (words_count[word] < min_count) or word=='':\n",
    "            del words_count[word]\n",
    "\n",
    "    index = 1\n",
    "    for word in list(words_count.keys()):\n",
    "        words_count[word] = index\n",
    "        index = index + 1\n",
    "\n",
    "    return words_count\n",
    "\n",
    "\n",
    "def transform_text(messages, word_dictionary, tokenizer = None):\n",
    "    words_arr = np.zeros((len(messages), len(word_dictionary)))\n",
    "    for i in range(words_arr.shape[0]):\n",
    "        message_words = get_words(messages[i], tokenizer)\n",
    "        message_indices = map(word_dictionary.get, message_words)\n",
    "        for j in message_indices:\n",
    "            if j is not None:\n",
    "                words_arr[i, j-1] += 1\n",
    "    return words_arr"
   ]
  },
  {
   "cell_type": "code",
   "execution_count": 58,
   "id": "b1b5d436",
   "metadata": {},
   "outputs": [
    {
     "name": "stderr",
     "output_type": "stream",
     "text": [
      "100%|█████████████████████████████████████████████████████████████████████████| 15247/15247 [00:00<00:00, 65066.97it/s]\n"
     ]
    },
    {
     "name": "stdout",
     "output_type": "stream",
     "text": [
      "Size of dictionary:  421\n",
      "(15247, 421)\n",
      "(3267, 421)\n",
      "(3268, 421)\n"
     ]
    }
   ],
   "source": [
    "production_companies_dictionary = create_dictionary(\n",
    "    train_data['data_production_companies'].astype(str).values, min_count=10)\n",
    "print('Size of dictionary: ', len(production_companies_dictionary))\n",
    "train_production_companies_matrix = transform_text(\n",
    "    train_data['data_production_companies'].astype(str).values, production_companies_dictionary)\n",
    "valid_production_companies_matrix = transform_text(\n",
    "    valid_data['data_production_companies'].astype(str).values, production_companies_dictionary)\n",
    "test_production_companies_matrix = transform_text(\n",
    "    test_data['data_production_companies'].astype(str).values, production_companies_dictionary)\n",
    "# print(director_dictionary)\n",
    "print(train_production_companies_matrix.shape)\n",
    "print(valid_production_companies_matrix.shape)\n",
    "print(test_production_companies_matrix.shape)"
   ]
  },
  {
   "cell_type": "code",
   "execution_count": 59,
   "id": "d464ecf0",
   "metadata": {},
   "outputs": [
    {
     "name": "stderr",
     "output_type": "stream",
     "text": [
      "100%|████████████████████████████████████████████████████████████████████████| 15247/15247 [00:00<00:00, 154045.75it/s]"
     ]
    },
    {
     "name": "stdout",
     "output_type": "stream",
     "text": [
      "Size of dictionary:  121\n"
     ]
    },
    {
     "name": "stderr",
     "output_type": "stream",
     "text": [
      "\n"
     ]
    }
   ],
   "source": [
    "production_countries_dictionary = create_dictionary(\n",
    "    train_data['data_production_countries'].astype(str).values, min_count=0)\n",
    "print('Size of dictionary: ', len(production_countries_dictionary))\n",
    "# train_production_countries_matrix = transform_text(train_data['production_countries'].astype(str).values, production_countries_dictionary)\n",
    "# valid_production_countries_matrix = transform_text(valid_data['production_countries'].astype(str).values, production_countries_dictionary)\n",
    "# test_production_countries_matrix = transform_text(test_data['production_countries'].astype(str).values, production_countries_dictionary)\n",
    "# # print(director_dictionary)\n",
    "# print(train_production_countries_matrix.shape)\n",
    "# print(valid_production_countries_matrix.shape)\n",
    "# print(test_production_countries_matrix.shape)"
   ]
  },
  {
   "cell_type": "code",
   "execution_count": 60,
   "id": "370339b3",
   "metadata": {},
   "outputs": [],
   "source": [
    "def giveCountry(country):\n",
    "    return production_countries_dictionary.get(country.lower(), 0)"
   ]
  },
  {
   "cell_type": "code",
   "execution_count": 61,
   "id": "f7eec735",
   "metadata": {},
   "outputs": [],
   "source": [
    "all_data['data_production_countries'] = all_data['data_production_countries'].apply(\n",
    "    giveCountry)\n"
   ]
  },
  {
   "cell_type": "code",
   "execution_count": 62,
   "id": "b219c854",
   "metadata": {},
   "outputs": [],
   "source": [
    "train_data['data_production_countries'] = train_data['data_production_countries'].apply(\n",
    "    giveCountry)\n",
    "valid_data['data_production_countries'] = valid_data['data_production_countries'].apply(\n",
    "    giveCountry)\n",
    "test_data['data_production_countries'] = test_data['data_production_countries'].apply(\n",
    "    giveCountry)"
   ]
  },
  {
   "cell_type": "code",
   "execution_count": 63,
   "id": "eb86e785",
   "metadata": {},
   "outputs": [
    {
     "data": {
      "text/plain": [
       "2      11956\n",
       "9       1851\n",
       "14      1311\n",
       "12       793\n",
       "4        749\n",
       "       ...  \n",
       "48         1\n",
       "79         1\n",
       "121        1\n",
       "87         1\n",
       "102        1\n",
       "Name: data_production_countries, Length: 122, dtype: int64"
      ]
     },
     "execution_count": 63,
     "metadata": {},
     "output_type": "execute_result"
    }
   ],
   "source": [
    "all_data['data_production_countries'].value_counts()"
   ]
  },
  {
   "cell_type": "code",
   "execution_count": 64,
   "id": "8d0c27f9",
   "metadata": {},
   "outputs": [
    {
     "name": "stderr",
     "output_type": "stream",
     "text": [
      "100%|█████████████████████████████████████████████████████████████████████████| 15247/15247 [00:00<00:00, 63757.43it/s]\n"
     ]
    },
    {
     "name": "stdout",
     "output_type": "stream",
     "text": [
      "Size of dictionary:  1205\n",
      "(15247, 1205)\n",
      "(3267, 1205)\n",
      "(3268, 1205)\n"
     ]
    }
   ],
   "source": [
    "keywords_dictionary = create_dictionary(\n",
    "    train_data['data_keywords'].astype(str).values, min_count=20)\n",
    "print('Size of dictionary: ', len(keywords_dictionary))\n",
    "train_keywords_matrix = transform_text(train_data['data_keywords'].astype(str).values, keywords_dictionary)\n",
    "valid_keywords_matrix = transform_text(valid_data['data_keywords'].astype(str).values, keywords_dictionary)\n",
    "test_keywords_matrix = transform_text(test_data['data_keywords'].astype(str).values, keywords_dictionary)\n",
    "# print(director_dictionary)\n",
    "print(train_keywords_matrix.shape)\n",
    "print(valid_keywords_matrix.shape)\n",
    "print(test_keywords_matrix.shape)"
   ]
  },
  {
   "cell_type": "code",
   "execution_count": 65,
   "id": "60b2a125",
   "metadata": {},
   "outputs": [
    {
     "name": "stderr",
     "output_type": "stream",
     "text": [
      "100%|████████████████████████████████████████████████████████████████████████| 15247/15247 [00:00<00:00, 103965.71it/s]\n"
     ]
    },
    {
     "name": "stdout",
     "output_type": "stream",
     "text": [
      "Size of dictionary:  462\n",
      "(15247, 462)\n",
      "(3267, 462)\n",
      "(3268, 462)\n"
     ]
    }
   ],
   "source": [
    "original_title_dictionary = create_dictionary(train_data['data_original_title'].astype(str).values, min_count=10)\n",
    "print('Size of dictionary: ', len(original_title_dictionary))\n",
    "train_original_title_matrix = transform_text(train_data['data_original_title'].astype(str).values, original_title_dictionary)\n",
    "valid_original_title_matrix = transform_text(valid_data['data_original_title'].astype(str).values, original_title_dictionary)\n",
    "test_original_title_matrix = transform_text(test_data['data_original_title'].astype(str).values, original_title_dictionary)\n",
    "# print(director_dictionary)\n",
    "print(train_original_title_matrix.shape)\n",
    "print(valid_original_title_matrix.shape)\n",
    "print(test_original_title_matrix.shape)"
   ]
  },
  {
   "cell_type": "code",
   "execution_count": 66,
   "id": "9ea63eae",
   "metadata": {},
   "outputs": [
    {
     "name": "stderr",
     "output_type": "stream",
     "text": [
      "100%|█████████████████████████████████████████████████████████████████████████| 15247/15247 [00:00<00:00, 96733.85it/s]\n"
     ]
    }
   ],
   "source": [
    "# min count is denoting the minimum number of times a word has to appear in the corpus to be included in the dictionary\n",
    "genre_dictionary = create_dictionary(\n",
    "    train_data['data_genre'].astype(str).values, min_count=0)"
   ]
  },
  {
   "cell_type": "code",
   "execution_count": 67,
   "id": "f227fb42",
   "metadata": {},
   "outputs": [
    {
     "name": "stdout",
     "output_type": "stream",
     "text": [
      "{'action': 1, 'adventure': 2, 'history': 3, 'comedy': 4, 'drama': 5, 'romance': 6, 'animation': 7, 'fantasy': 8, 'crime': 9, 'film-noir': 10, 'music': 11, 'horror': 12, 'sci-fi': 13, 'war': 14, 'family': 15, 'thriller': 16, 'mystery': 17, 'biography': 18, 'sport': 19, 'documentary': 20, 'musical': 21, 'short': 22, 'western': 23, 'news': 24, 'adult': 25, 'talk-show': 26}\n"
     ]
    }
   ],
   "source": [
    "print(genre_dictionary)"
   ]
  },
  {
   "cell_type": "code",
   "execution_count": 68,
   "id": "367e3b57",
   "metadata": {},
   "outputs": [
    {
     "name": "stdout",
     "output_type": "stream",
     "text": [
      "(15247, 26)\n",
      "(3267, 26)\n",
      "(3268, 26)\n"
     ]
    }
   ],
   "source": [
    "train_genre_matrix = transform_text(\n",
    "    train_data['data_genre'].astype(str).values, genre_dictionary)\n",
    "valid_genre_matrix = transform_text(\n",
    "    valid_data['data_genre'].astype(str).values, genre_dictionary)\n",
    "test_genre_matrix = transform_text(\n",
    "    test_data['data_genre'].astype(str).values, genre_dictionary)\n",
    "# print(genre_dictionary)\n",
    "print(train_genre_matrix.shape)\n",
    "print(valid_genre_matrix.shape)\n",
    "print(test_genre_matrix.shape)"
   ]
  },
  {
   "cell_type": "code",
   "execution_count": 69,
   "id": "4dfe138a",
   "metadata": {},
   "outputs": [
    {
     "data": {
      "text/html": [
       "<div>\n",
       "<style scoped>\n",
       "    .dataframe tbody tr th:only-of-type {\n",
       "        vertical-align: middle;\n",
       "    }\n",
       "\n",
       "    .dataframe tbody tr th {\n",
       "        vertical-align: top;\n",
       "    }\n",
       "\n",
       "    .dataframe thead th {\n",
       "        text-align: right;\n",
       "    }\n",
       "</style>\n",
       "<table border=\"1\" class=\"dataframe\">\n",
       "  <thead>\n",
       "    <tr style=\"text-align: right;\">\n",
       "      <th></th>\n",
       "      <th>data_original_language</th>\n",
       "      <th>data_original_title</th>\n",
       "      <th>data_overview</th>\n",
       "      <th>data_production_companies</th>\n",
       "      <th>data_production_countries</th>\n",
       "      <th>data_runtime</th>\n",
       "      <th>data_cast</th>\n",
       "      <th>data_crew</th>\n",
       "      <th>data_keywords</th>\n",
       "      <th>data_IMDBscore</th>\n",
       "      <th>...</th>\n",
       "      <th>data_hue_sd</th>\n",
       "      <th>data_blue</th>\n",
       "      <th>data_blue_sd</th>\n",
       "      <th>data_green</th>\n",
       "      <th>data_green_sd</th>\n",
       "      <th>data_red</th>\n",
       "      <th>data_red_sd</th>\n",
       "      <th>data_year</th>\n",
       "      <th>data_director</th>\n",
       "      <th>data_actors</th>\n",
       "    </tr>\n",
       "  </thead>\n",
       "  <tbody>\n",
       "    <tr>\n",
       "      <th>0</th>\n",
       "      <td>3</td>\n",
       "      <td>title-è±é</td>\n",
       "      <td>One man defeated three assassins who sought to...</td>\n",
       "      <td>Beijing New Picture Film Co. Ltd.|China Film C...</td>\n",
       "      <td>1</td>\n",
       "      <td>99.0</td>\n",
       "      <td>[{'cast_id': 6, 'character': 'Nameless', 'cred...</td>\n",
       "      <td>[{'credit_id': '52fe4214c3a36847f8002709', 'de...</td>\n",
       "      <td>keyword-justice|keyword-of|keyword-patriot|key...</td>\n",
       "      <td>7.9</td>\n",
       "      <td>...</td>\n",
       "      <td>13.950105</td>\n",
       "      <td>51.188813</td>\n",
       "      <td>49.365128</td>\n",
       "      <td>83.383093</td>\n",
       "      <td>63.672980</td>\n",
       "      <td>105.430261</td>\n",
       "      <td>72.856059</td>\n",
       "      <td>2002</td>\n",
       "      <td>Zhang Yimou</td>\n",
       "      <td>Jet Li|Tony Leung Chiu-Wai|Maggie Cheung</td>\n",
       "    </tr>\n",
       "    <tr>\n",
       "      <th>1</th>\n",
       "      <td>1</td>\n",
       "      <td>title-max|title-dugan|title-returns</td>\n",
       "      <td>An English teacher and struggling single mothe...</td>\n",
       "      <td>Twentieth Century Fox Film Corporation</td>\n",
       "      <td>2</td>\n",
       "      <td>98.0</td>\n",
       "      <td>[{'cast_id': 9, 'character': 'Nora McPhae', 'c...</td>\n",
       "      <td>[{'credit_id': '52fe4316c3a36847f803922d', 'de...</td>\n",
       "      <td>keyword-academy|keyword-daughter|keyword-opera...</td>\n",
       "      <td>6.6</td>\n",
       "      <td>...</td>\n",
       "      <td>41.203618</td>\n",
       "      <td>98.128224</td>\n",
       "      <td>73.880294</td>\n",
       "      <td>103.018587</td>\n",
       "      <td>76.877275</td>\n",
       "      <td>105.217352</td>\n",
       "      <td>86.377101</td>\n",
       "      <td>1983</td>\n",
       "      <td>Herbert Ross</td>\n",
       "      <td>Marsha Mason|Jason Robards|Charley Lau</td>\n",
       "    </tr>\n",
       "    <tr>\n",
       "      <th>2</th>\n",
       "      <td>4</td>\n",
       "      <td>title-il|title-sorpasso</td>\n",
       "      <td>Roberto, a shy law student in Rome, meets Brun...</td>\n",
       "      <td>Fair Film|Incei Film|Sancro Film</td>\n",
       "      <td>3</td>\n",
       "      <td>105.0</td>\n",
       "      <td>[{'cast_id': 1001, 'character': 'Bruno Cortona...</td>\n",
       "      <td>[{'credit_id': '53c72d58c3a3686260002d4f', 'de...</td>\n",
       "      <td>keyword-seaside|keyword-summer|keyword-drive</td>\n",
       "      <td>8.2</td>\n",
       "      <td>...</td>\n",
       "      <td>12.036510</td>\n",
       "      <td>185.642406</td>\n",
       "      <td>62.850214</td>\n",
       "      <td>201.861522</td>\n",
       "      <td>48.922963</td>\n",
       "      <td>206.574635</td>\n",
       "      <td>51.162120</td>\n",
       "      <td>1962</td>\n",
       "      <td>Dino Risi</td>\n",
       "      <td>Vittorio Gassman|Catherine Spaak|Jean-Louis Tr...</td>\n",
       "    </tr>\n",
       "    <tr>\n",
       "      <th>3</th>\n",
       "      <td>7</td>\n",
       "      <td>title-barfuã</td>\n",
       "      <td>A hedonistic bachelor, falls for an escaped me...</td>\n",
       "      <td>Touchstone Pictures</td>\n",
       "      <td>4</td>\n",
       "      <td>110.0</td>\n",
       "      <td>[{'cast_id': 19, 'character': 'Nick Keller', '...</td>\n",
       "      <td>[{'credit_id': '52fe4444c3a36847f808c1a1', 'de...</td>\n",
       "      <td>keyword-health|keyword-road|keyword-psychiatry...</td>\n",
       "      <td>7.2</td>\n",
       "      <td>...</td>\n",
       "      <td>50.298361</td>\n",
       "      <td>129.331702</td>\n",
       "      <td>84.464875</td>\n",
       "      <td>140.016154</td>\n",
       "      <td>86.789085</td>\n",
       "      <td>159.176815</td>\n",
       "      <td>84.819024</td>\n",
       "      <td>2005</td>\n",
       "      <td>Til Schweiger</td>\n",
       "      <td>Til Schweiger|Johanna Wokalek|Nadja Tiller</td>\n",
       "    </tr>\n",
       "    <tr>\n",
       "      <th>4</th>\n",
       "      <td>1</td>\n",
       "      <td>title-beavis|title-butt-head|title-america</td>\n",
       "      <td>Mike Judge's slacker duo, Beavis and Butt-Head...</td>\n",
       "      <td>Paramount Pictures|Geffen Pictures|MTV Films</td>\n",
       "      <td>2</td>\n",
       "      <td>81.0</td>\n",
       "      <td>[{'cast_id': 11, 'character': 'Beavis / Butt-H...</td>\n",
       "      <td>[{'credit_id': '52fe438dc3a36847f805ced1', 'de...</td>\n",
       "      <td>keyword-casino|keyword-sperm|keyword-d.c.|keyw...</td>\n",
       "      <td>6.8</td>\n",
       "      <td>...</td>\n",
       "      <td>50.944397</td>\n",
       "      <td>129.680769</td>\n",
       "      <td>87.555827</td>\n",
       "      <td>167.373126</td>\n",
       "      <td>65.905401</td>\n",
       "      <td>188.885057</td>\n",
       "      <td>69.955944</td>\n",
       "      <td>1996</td>\n",
       "      <td>Mike Judge</td>\n",
       "      <td>Mike Judge|Bruce Willis|Demi Moore</td>\n",
       "    </tr>\n",
       "  </tbody>\n",
       "</table>\n",
       "<p>5 rows × 27 columns</p>\n",
       "</div>"
      ],
      "text/plain": [
       "  data_original_language                         data_original_title  \\\n",
       "0                      3                                title-è±é   \n",
       "1                      1         title-max|title-dugan|title-returns   \n",
       "2                      4                     title-il|title-sorpasso   \n",
       "3                      7                               title-barfuã   \n",
       "4                      1  title-beavis|title-butt-head|title-america   \n",
       "\n",
       "                                       data_overview  \\\n",
       "0  One man defeated three assassins who sought to...   \n",
       "1  An English teacher and struggling single mothe...   \n",
       "2  Roberto, a shy law student in Rome, meets Brun...   \n",
       "3  A hedonistic bachelor, falls for an escaped me...   \n",
       "4  Mike Judge's slacker duo, Beavis and Butt-Head...   \n",
       "\n",
       "                           data_production_companies  \\\n",
       "0  Beijing New Picture Film Co. Ltd.|China Film C...   \n",
       "1             Twentieth Century Fox Film Corporation   \n",
       "2                   Fair Film|Incei Film|Sancro Film   \n",
       "3                                Touchstone Pictures   \n",
       "4       Paramount Pictures|Geffen Pictures|MTV Films   \n",
       "\n",
       "   data_production_countries  data_runtime  \\\n",
       "0                          1          99.0   \n",
       "1                          2          98.0   \n",
       "2                          3         105.0   \n",
       "3                          4         110.0   \n",
       "4                          2          81.0   \n",
       "\n",
       "                                           data_cast  \\\n",
       "0  [{'cast_id': 6, 'character': 'Nameless', 'cred...   \n",
       "1  [{'cast_id': 9, 'character': 'Nora McPhae', 'c...   \n",
       "2  [{'cast_id': 1001, 'character': 'Bruno Cortona...   \n",
       "3  [{'cast_id': 19, 'character': 'Nick Keller', '...   \n",
       "4  [{'cast_id': 11, 'character': 'Beavis / Butt-H...   \n",
       "\n",
       "                                           data_crew  \\\n",
       "0  [{'credit_id': '52fe4214c3a36847f8002709', 'de...   \n",
       "1  [{'credit_id': '52fe4316c3a36847f803922d', 'de...   \n",
       "2  [{'credit_id': '53c72d58c3a3686260002d4f', 'de...   \n",
       "3  [{'credit_id': '52fe4444c3a36847f808c1a1', 'de...   \n",
       "4  [{'credit_id': '52fe438dc3a36847f805ced1', 'de...   \n",
       "\n",
       "                                       data_keywords  data_IMDBscore  ...  \\\n",
       "0  keyword-justice|keyword-of|keyword-patriot|key...             7.9  ...   \n",
       "1  keyword-academy|keyword-daughter|keyword-opera...             6.6  ...   \n",
       "2       keyword-seaside|keyword-summer|keyword-drive             8.2  ...   \n",
       "3  keyword-health|keyword-road|keyword-psychiatry...             7.2  ...   \n",
       "4  keyword-casino|keyword-sperm|keyword-d.c.|keyw...             6.8  ...   \n",
       "\n",
       "  data_hue_sd   data_blue  data_blue_sd  data_green  data_green_sd  \\\n",
       "0   13.950105   51.188813     49.365128   83.383093      63.672980   \n",
       "1   41.203618   98.128224     73.880294  103.018587      76.877275   \n",
       "2   12.036510  185.642406     62.850214  201.861522      48.922963   \n",
       "3   50.298361  129.331702     84.464875  140.016154      86.789085   \n",
       "4   50.944397  129.680769     87.555827  167.373126      65.905401   \n",
       "\n",
       "     data_red  data_red_sd  data_year  data_director  \\\n",
       "0  105.430261    72.856059       2002    Zhang Yimou   \n",
       "1  105.217352    86.377101       1983   Herbert Ross   \n",
       "2  206.574635    51.162120       1962      Dino Risi   \n",
       "3  159.176815    84.819024       2005  Til Schweiger   \n",
       "4  188.885057    69.955944       1996     Mike Judge   \n",
       "\n",
       "                                         data_actors  \n",
       "0           Jet Li|Tony Leung Chiu-Wai|Maggie Cheung  \n",
       "1             Marsha Mason|Jason Robards|Charley Lau  \n",
       "2  Vittorio Gassman|Catherine Spaak|Jean-Louis Tr...  \n",
       "3         Til Schweiger|Johanna Wokalek|Nadja Tiller  \n",
       "4                 Mike Judge|Bruce Willis|Demi Moore  \n",
       "\n",
       "[5 rows x 27 columns]"
      ]
     },
     "execution_count": 69,
     "metadata": {},
     "output_type": "execute_result"
    }
   ],
   "source": [
    "train_data.head()"
   ]
  },
  {
   "cell_type": "code",
   "execution_count": 70,
   "id": "e86e8bfd",
   "metadata": {},
   "outputs": [
    {
     "name": "stderr",
     "output_type": "stream",
     "text": [
      "100%|████████████████████████████████████████████████████████████████████████| 15247/15247 [00:00<00:00, 151417.09it/s]\n"
     ]
    },
    {
     "name": "stdout",
     "output_type": "stream",
     "text": [
      "Size of dictionary:  206\n",
      "(15247, 206)\n",
      "(3267, 206)\n",
      "(3268, 206)\n"
     ]
    }
   ],
   "source": [
    "director_dictionary = create_dictionary(\n",
    "    train_data['data_director'].astype(str).values, min_count=10)\n",
    "print('Size of dictionary: ', len(director_dictionary))\n",
    "train_director_matrix = transform_text(\n",
    "    train_data['data_director'].astype(str).values, director_dictionary)\n",
    "valid_director_matrix = transform_text(\n",
    "    valid_data['data_director'].astype(str).values, director_dictionary)\n",
    "test_director_matrix = transform_text(\n",
    "    test_data['data_director'].astype(str).values, director_dictionary)\n",
    "# print(director_dictionary)\n",
    "print(train_director_matrix.shape)\n",
    "print(valid_director_matrix.shape)\n",
    "print(test_director_matrix.shape)"
   ]
  },
  {
   "cell_type": "code",
   "execution_count": 71,
   "id": "f54c39a8",
   "metadata": {},
   "outputs": [
    {
     "name": "stderr",
     "output_type": "stream",
     "text": [
      "100%|████████████████████████████████████████████████████████████████████████| 15247/15247 [00:00<00:00, 132374.30it/s]\n"
     ]
    },
    {
     "name": "stdout",
     "output_type": "stream",
     "text": [
      "Size of dictionary:  177\n",
      "(15247, 177)\n",
      "(3267, 177)\n",
      "(3268, 177)\n"
     ]
    }
   ],
   "source": [
    "actors_dictionary = create_dictionary(\n",
    "    train_data['data_actors'].astype(str).values, min_count=20)\n",
    "print('Size of dictionary: ', len(actors_dictionary))\n",
    "train_actors_matrix = transform_text(\n",
    "    train_data['data_actors'].astype(str).values, actors_dictionary)\n",
    "valid_actors_matrix = transform_text(\n",
    "    valid_data['data_actors'].astype(str).values, actors_dictionary)\n",
    "test_actors_matrix = transform_text(\n",
    "    test_data['data_actors'].astype(str).values, actors_dictionary)\n",
    "# print(actors_dictionary)\n",
    "print(train_actors_matrix.shape)\n",
    "print(valid_actors_matrix.shape)\n",
    "print(test_actors_matrix.shape)"
   ]
  },
  {
   "cell_type": "code",
   "execution_count": 72,
   "id": "fb0918b1",
   "metadata": {},
   "outputs": [],
   "source": [
    "import spacy\n",
    "import re"
   ]
  },
  {
   "cell_type": "code",
   "execution_count": 73,
   "id": "4cfaff79",
   "metadata": {},
   "outputs": [],
   "source": [
    "#def func(messages, word_dictionary, tokenizer = None):\n",
    "#  m_w = get_words_new(messages[0],tokenizer)\n",
    "#  m_i = map(word_dictionary.get,m_w)\n",
    "#  print(m_w)\n",
    "#  print(list(m_i))"
   ]
  },
  {
   "cell_type": "code",
   "execution_count": 74,
   "id": "07986d6c",
   "metadata": {},
   "outputs": [],
   "source": [
    "def create_dictionary_overview(messages, min_count, tokenizer):\n",
    "    #stop_words = []\n",
    "    #with open(path2,'r') as f:\n",
    "    #  for x in f:\n",
    "    #    stop_words.append(x[:-1])\n",
    "\n",
    "    words_count = {}\n",
    "    for i in tqdm(range(len(messages))):\n",
    "        s = messages[i]\n",
    "        words = get_words(s, tokenizer)\n",
    "        words_unique = list(dict.fromkeys(words))\n",
    "        for w in words_unique:\n",
    "          if len(w)<=1 or w.lower() in stop_words_set or not w.isalpha():\n",
    "            continue\n",
    "          if w.lower() not in words_count:\n",
    "            words_count[w.lower()] = 1\n",
    "          else:\n",
    "            words_count[w.lower()] += 1\n",
    "\n",
    "    for word in list(words_count.keys()):\n",
    "        if (words_count[word] < min_count) or word=='':\n",
    "            del words_count[word]\n",
    "\n",
    "    index = 1\n",
    "    for word in list(words_count.keys()):\n",
    "        words_count[word] = index\n",
    "        index = index + 1\n",
    "\n",
    "    return words_count"
   ]
  },
  {
   "cell_type": "code",
   "execution_count": 75,
   "id": "08f51669",
   "metadata": {},
   "outputs": [],
   "source": [
    "def get_words_new(message, tokenizer = None):\n",
    "  if tokenizer:\n",
    "    doc = tokenizer(message)\n",
    "    return [i.text for i in doc]\n",
    "  else:\n",
    "    return message.lower().split(' ')"
   ]
  },
  {
   "cell_type": "code",
   "execution_count": 76,
   "id": "524bff17",
   "metadata": {},
   "outputs": [],
   "source": [
    "def custom_transform(messages, word_dictionary, tokenizer = None):\n",
    "    words_arr = np.zeros((len(messages), len(word_dictionary)))\n",
    "    for i in range(words_arr.shape[0]):\n",
    "        message_words = get_words_new(messages[i], tokenizer)\n",
    "        message_indices = map(word_dictionary.get, message_words)\n",
    "        for j in message_indices:\n",
    "            if j is not None:\n",
    "                words_arr[i, j-1] += 1\n",
    "    return words_arr"
   ]
  },
  {
   "cell_type": "code",
   "execution_count": 77,
   "id": "f2bead06",
   "metadata": {},
   "outputs": [
    {
     "name": "stderr",
     "output_type": "stream",
     "text": [
      "100%|████████████████████████████████████████████████████████████████████████████| 15247/15247 [02:42<00:00, 93.67it/s]\n"
     ]
    },
    {
     "name": "stdout",
     "output_type": "stream",
     "text": [
      "Size of dictionary:  1048\n",
      "(15247, 1048)\n",
      "(3267, 1048)\n",
      "(3268, 1048)\n"
     ]
    }
   ],
   "source": [
    "tokenizer = spacy.load(\"en_core_web_sm\", disable=[\"tagger\", \"parser\", \"ner\", \"lemmatizer\"])\n",
    "overview_dictionary = create_dictionary_overview(\n",
    "    train_data['data_overview'], 75, tokenizer)\n",
    "print('Size of dictionary: ', len(overview_dictionary))\n",
    "\n",
    "train_overview_matrix = custom_transform(\n",
    "    train_data['data_overview'].astype(str).values, overview_dictionary)\n",
    "\n",
    "valid_overview_matrix = custom_transform(\n",
    "    valid_data['data_overview'].astype(str).values, overview_dictionary)\n",
    "\n",
    "test_overview_matrix = custom_transform(\n",
    "    test_data['data_overview'].astype(str).values, overview_dictionary)\n",
    "\n",
    "# print(overview_dictionary)\n",
    "print(train_overview_matrix.shape)\n",
    "print(valid_overview_matrix.shape)\n",
    "print(test_overview_matrix.shape)"
   ]
  },
  {
   "cell_type": "code",
   "execution_count": 78,
   "id": "9ec7fbcb",
   "metadata": {},
   "outputs": [
    {
     "data": {
      "text/plain": [
       "(15247, 1048)"
      ]
     },
     "execution_count": 78,
     "metadata": {},
     "output_type": "execute_result"
    }
   ],
   "source": [
    "train_overview_matrix.shape"
   ]
  },
  {
   "cell_type": "code",
   "execution_count": 79,
   "id": "65e36283",
   "metadata": {
    "scrolled": true
   },
   "outputs": [
    {
     "data": {
      "text/plain": [
       "Index(['data_original_language', 'data_original_title', 'data_overview',\n",
       "       'data_production_companies', 'data_production_countries',\n",
       "       'data_runtime', 'data_cast', 'data_crew', 'data_keywords',\n",
       "       'data_IMDBscore', 'data_genre', 'data_num_faces', 'data_brightness',\n",
       "       'data_saturation', 'data_hue', 'data_brightness_sd',\n",
       "       'data_saturation_sd', 'data_hue_sd', 'data_blue', 'data_blue_sd',\n",
       "       'data_green', 'data_green_sd', 'data_red', 'data_red_sd', 'data_year',\n",
       "       'data_director', 'data_actors'],\n",
       "      dtype='object')"
      ]
     },
     "execution_count": 79,
     "metadata": {},
     "output_type": "execute_result"
    }
   ],
   "source": [
    "train_data.columns"
   ]
  },
  {
   "cell_type": "code",
   "execution_count": 80,
   "id": "f4568d18",
   "metadata": {},
   "outputs": [
    {
     "data": {
      "text/plain": [
       "data_original_language                                                       3\n",
       "data_original_title                                               title-è±é\n",
       "data_overview                One man defeated three assassins who sought to...\n",
       "data_production_companies    Beijing New Picture Film Co. Ltd.|China Film C...\n",
       "data_production_countries                                                    1\n",
       "data_runtime                                                              99.0\n",
       "data_cast                    [{'cast_id': 6, 'character': 'Nameless', 'cred...\n",
       "data_crew                    [{'credit_id': '52fe4214c3a36847f8002709', 'de...\n",
       "data_keywords                keyword-justice|keyword-of|keyword-patriot|key...\n",
       "data_IMDBscore                                                             7.9\n",
       "data_genre                                            Action|Adventure|History\n",
       "data_num_faces                                                             4.0\n",
       "data_brightness                                                     105.444237\n",
       "data_saturation                                                      142.60872\n",
       "data_hue                                                             18.089061\n",
       "data_brightness_sd                                                   72.837943\n",
       "data_saturation_sd                                                   55.128848\n",
       "data_hue_sd                                                          13.950105\n",
       "data_blue                                                            51.188813\n",
       "data_blue_sd                                                         49.365128\n",
       "data_green                                                           83.383093\n",
       "data_green_sd                                                         63.67298\n",
       "data_red                                                            105.430261\n",
       "data_red_sd                                                          72.856059\n",
       "data_year                                                                 2002\n",
       "data_director                                                      Zhang Yimou\n",
       "data_actors                           Jet Li|Tony Leung Chiu-Wai|Maggie Cheung\n",
       "Name: 0, dtype: object"
      ]
     },
     "execution_count": 80,
     "metadata": {},
     "output_type": "execute_result"
    }
   ],
   "source": [
    "train_data.loc[0]"
   ]
  },
  {
   "cell_type": "code",
   "execution_count": 81,
   "id": "a500b4fe",
   "metadata": {},
   "outputs": [],
   "source": [
    "#from wordcloud import WordCloud"
   ]
  },
  {
   "cell_type": "code",
   "execution_count": 82,
   "id": "860ccde0",
   "metadata": {},
   "outputs": [],
   "source": [
    "#wordcloud = WordCloud()\n",
    "#wordcloud.generate_from_frequencies(frequencies=overview_dictionary)\n",
    "#plt.figure(figsize=(15,15))\n",
    "#plt.imshow(wordcloud)\n",
    "#plt.axis(\"off\")\n",
    "#plt.show()"
   ]
  },
  {
   "cell_type": "markdown",
   "id": "70d32a94",
   "metadata": {},
   "source": [
    "# Encoding"
   ]
  },
  {
   "cell_type": "code",
   "execution_count": 83,
   "id": "b2a9b82f",
   "metadata": {},
   "outputs": [
    {
     "data": {
      "text/plain": [
       "Index(['data_original_language', 'data_original_title', 'data_overview',\n",
       "       'data_production_companies', 'data_production_countries',\n",
       "       'data_runtime', 'data_cast', 'data_crew', 'data_keywords',\n",
       "       'data_IMDBscore', 'data_genre', 'data_num_faces', 'data_brightness',\n",
       "       'data_saturation', 'data_hue', 'data_brightness_sd',\n",
       "       'data_saturation_sd', 'data_hue_sd', 'data_blue', 'data_blue_sd',\n",
       "       'data_green', 'data_green_sd', 'data_red', 'data_red_sd', 'data_year',\n",
       "       'data_director', 'data_actors'],\n",
       "      dtype='object')"
      ]
     },
     "execution_count": 83,
     "metadata": {},
     "output_type": "execute_result"
    }
   ],
   "source": [
    "train_data.columns"
   ]
  },
  {
   "cell_type": "code",
   "execution_count": 84,
   "id": "481f8613",
   "metadata": {},
   "outputs": [],
   "source": [
    "# train_data = pd.read_csv('train.csv')\n",
    "# valid_data = pd.read_csv('valid.csv')\n",
    "# test_data = pd.read_csv('test.csv')\n",
    "train_data = train_data.drop(columns = ['data_original_title','data_overview','data_production_companies','data_cast','data_crew','data_keywords','data_genre','data_director', 'data_actors', 'data_blue', 'data_brightness'])\n",
    "valid_data = valid_data.drop(columns = ['data_original_title','data_overview','data_production_companies','data_cast','data_crew','data_keywords','data_genre','data_director', 'data_actors', 'data_blue', 'data_brightness'])\n",
    "test_data = test_data.drop(columns = ['data_original_title','data_overview','data_production_companies','data_cast','data_crew','data_keywords','data_genre','data_director', 'data_actors', 'data_blue', 'data_brightness'])\n",
    "train_data = pd.concat([train_data,\n",
    "                        pd.DataFrame(train_genre_matrix, columns = genre_dictionary.keys()),\n",
    "                        pd.DataFrame(train_director_matrix, columns = director_dictionary.keys()), \n",
    "                        pd.DataFrame(train_actors_matrix, columns = actors_dictionary.keys()),\n",
    "                        pd.DataFrame(train_overview_matrix, columns = overview_dictionary.keys()),\n",
    "                        pd.DataFrame(train_production_companies_matrix, columns = production_companies_dictionary.keys()),\n",
    "                        pd.DataFrame(train_keywords_matrix, columns=keywords_dictionary.keys()),\n",
    "                        pd.DataFrame(train_original_title_matrix, columns=original_title_dictionary.keys())],\n",
    "                        axis=1)\n",
    "\n",
    "valid_data = pd.concat([valid_data,\n",
    "                        pd.DataFrame(valid_genre_matrix, columns = genre_dictionary.keys()),\n",
    "                        pd.DataFrame(valid_director_matrix, columns = director_dictionary.keys()), \n",
    "                        pd.DataFrame(valid_actors_matrix, columns = actors_dictionary.keys() ),\n",
    "                        pd.DataFrame(valid_overview_matrix, columns = overview_dictionary.keys()),\n",
    "                        pd.DataFrame(valid_production_companies_matrix, columns = production_companies_dictionary.keys()),\n",
    "                        pd.DataFrame(valid_keywords_matrix, columns=keywords_dictionary.keys()),\n",
    "                        pd.DataFrame(valid_original_title_matrix, columns=original_title_dictionary.keys())],\n",
    "                        axis=1)\n",
    "\n",
    "test_data = pd.concat([test_data,\n",
    "                       pd.DataFrame(test_genre_matrix, columns = genre_dictionary.keys()),\n",
    "                       pd.DataFrame(test_director_matrix, columns = director_dictionary.keys()), \n",
    "                       pd.DataFrame(test_actors_matrix, columns = actors_dictionary.keys()),\n",
    "                       pd.DataFrame(test_overview_matrix, columns = overview_dictionary.keys()),\n",
    "                       pd.DataFrame(test_production_companies_matrix, columns = production_companies_dictionary.keys()),\n",
    "                       pd.DataFrame(test_keywords_matrix, columns=keywords_dictionary.keys()),\n",
    "                       pd.DataFrame(test_original_title_matrix, columns=original_title_dictionary.keys())],\n",
    "                       axis=1)"
   ]
  },
  {
   "cell_type": "code",
   "execution_count": 85,
   "id": "3ddb16f1",
   "metadata": {},
   "outputs": [],
   "source": [
    "# train_data.to_csv('train1.csv', index=False)\n",
    "# valid_data.to_csv('valid1.csv', index=False)\n",
    "# test_data.to_csv('test1.csv', index=False)"
   ]
  },
  {
   "cell_type": "code",
   "execution_count": 86,
   "id": "5ffd2bd4",
   "metadata": {},
   "outputs": [],
   "source": [
    "# train_data = pd.read_csv('train1.csv', low_memory=False)\n",
    "# valid_data = pd.read_csv('valid1.csv', low_memory=False)\n",
    "# test_data = pd.read_csv('test1.csv', low_memory=False)"
   ]
  },
  {
   "cell_type": "code",
   "execution_count": 87,
   "id": "9824d03e",
   "metadata": {},
   "outputs": [
    {
     "data": {
      "text/plain": [
       "((15247, 3561), (3268, 3561), (3267, 3561))"
      ]
     },
     "execution_count": 87,
     "metadata": {},
     "output_type": "execute_result"
    }
   ],
   "source": [
    "train_data.shape, test_data.shape, valid_data.shape"
   ]
  },
  {
   "cell_type": "code",
   "execution_count": 88,
   "id": "2fc07223",
   "metadata": {},
   "outputs": [
    {
     "data": {
      "text/html": [
       "<div>\n",
       "<style scoped>\n",
       "    .dataframe tbody tr th:only-of-type {\n",
       "        vertical-align: middle;\n",
       "    }\n",
       "\n",
       "    .dataframe tbody tr th {\n",
       "        vertical-align: top;\n",
       "    }\n",
       "\n",
       "    .dataframe thead th {\n",
       "        text-align: right;\n",
       "    }\n",
       "</style>\n",
       "<table border=\"1\" class=\"dataframe\">\n",
       "  <thead>\n",
       "    <tr style=\"text-align: right;\">\n",
       "      <th></th>\n",
       "      <th>data_original_language</th>\n",
       "      <th>data_production_countries</th>\n",
       "      <th>data_runtime</th>\n",
       "      <th>data_IMDBscore</th>\n",
       "      <th>data_num_faces</th>\n",
       "      <th>data_saturation</th>\n",
       "      <th>data_hue</th>\n",
       "      <th>data_brightness_sd</th>\n",
       "      <th>data_saturation_sd</th>\n",
       "      <th>data_hue_sd</th>\n",
       "      <th>...</th>\n",
       "      <th>title-hunter</th>\n",
       "      <th>title-million</th>\n",
       "      <th>title-talk</th>\n",
       "      <th>title-que</th>\n",
       "      <th>title-dance</th>\n",
       "      <th>title-years</th>\n",
       "      <th>title-valley</th>\n",
       "      <th>title-x</th>\n",
       "      <th>title-alien</th>\n",
       "      <th>title-behind</th>\n",
       "    </tr>\n",
       "  </thead>\n",
       "  <tbody>\n",
       "    <tr>\n",
       "      <th>0</th>\n",
       "      <td>3</td>\n",
       "      <td>1</td>\n",
       "      <td>99.0</td>\n",
       "      <td>7.9</td>\n",
       "      <td>4.0</td>\n",
       "      <td>142.608720</td>\n",
       "      <td>18.089061</td>\n",
       "      <td>72.837943</td>\n",
       "      <td>55.128848</td>\n",
       "      <td>13.950105</td>\n",
       "      <td>...</td>\n",
       "      <td>0.0</td>\n",
       "      <td>0.0</td>\n",
       "      <td>0.0</td>\n",
       "      <td>0.0</td>\n",
       "      <td>0.0</td>\n",
       "      <td>0.0</td>\n",
       "      <td>0.0</td>\n",
       "      <td>0.0</td>\n",
       "      <td>0.0</td>\n",
       "      <td>0.0</td>\n",
       "    </tr>\n",
       "    <tr>\n",
       "      <th>1</th>\n",
       "      <td>1</td>\n",
       "      <td>2</td>\n",
       "      <td>98.0</td>\n",
       "      <td>6.6</td>\n",
       "      <td>1.0</td>\n",
       "      <td>54.495943</td>\n",
       "      <td>65.970730</td>\n",
       "      <td>82.609480</td>\n",
       "      <td>41.032412</td>\n",
       "      <td>41.203618</td>\n",
       "      <td>...</td>\n",
       "      <td>0.0</td>\n",
       "      <td>0.0</td>\n",
       "      <td>0.0</td>\n",
       "      <td>0.0</td>\n",
       "      <td>0.0</td>\n",
       "      <td>0.0</td>\n",
       "      <td>0.0</td>\n",
       "      <td>0.0</td>\n",
       "      <td>0.0</td>\n",
       "      <td>0.0</td>\n",
       "    </tr>\n",
       "    <tr>\n",
       "      <th>2</th>\n",
       "      <td>4</td>\n",
       "      <td>3</td>\n",
       "      <td>105.0</td>\n",
       "      <td>8.2</td>\n",
       "      <td>0.0</td>\n",
       "      <td>29.190419</td>\n",
       "      <td>17.475241</td>\n",
       "      <td>50.333288</td>\n",
       "      <td>50.654987</td>\n",
       "      <td>12.036510</td>\n",
       "      <td>...</td>\n",
       "      <td>0.0</td>\n",
       "      <td>0.0</td>\n",
       "      <td>0.0</td>\n",
       "      <td>0.0</td>\n",
       "      <td>0.0</td>\n",
       "      <td>0.0</td>\n",
       "      <td>0.0</td>\n",
       "      <td>0.0</td>\n",
       "      <td>0.0</td>\n",
       "      <td>0.0</td>\n",
       "    </tr>\n",
       "    <tr>\n",
       "      <th>3</th>\n",
       "      <td>7</td>\n",
       "      <td>4</td>\n",
       "      <td>110.0</td>\n",
       "      <td>7.2</td>\n",
       "      <td>2.0</td>\n",
       "      <td>69.769761</td>\n",
       "      <td>43.547813</td>\n",
       "      <td>81.944152</td>\n",
       "      <td>52.782587</td>\n",
       "      <td>50.298361</td>\n",
       "      <td>...</td>\n",
       "      <td>0.0</td>\n",
       "      <td>0.0</td>\n",
       "      <td>0.0</td>\n",
       "      <td>0.0</td>\n",
       "      <td>0.0</td>\n",
       "      <td>0.0</td>\n",
       "      <td>0.0</td>\n",
       "      <td>0.0</td>\n",
       "      <td>0.0</td>\n",
       "      <td>0.0</td>\n",
       "    </tr>\n",
       "    <tr>\n",
       "      <th>4</th>\n",
       "      <td>1</td>\n",
       "      <td>2</td>\n",
       "      <td>81.0</td>\n",
       "      <td>6.8</td>\n",
       "      <td>0.0</td>\n",
       "      <td>106.807613</td>\n",
       "      <td>59.977530</td>\n",
       "      <td>65.657793</td>\n",
       "      <td>85.238509</td>\n",
       "      <td>50.944397</td>\n",
       "      <td>...</td>\n",
       "      <td>0.0</td>\n",
       "      <td>0.0</td>\n",
       "      <td>0.0</td>\n",
       "      <td>0.0</td>\n",
       "      <td>0.0</td>\n",
       "      <td>0.0</td>\n",
       "      <td>0.0</td>\n",
       "      <td>0.0</td>\n",
       "      <td>0.0</td>\n",
       "      <td>0.0</td>\n",
       "    </tr>\n",
       "    <tr>\n",
       "      <th>...</th>\n",
       "      <td>...</td>\n",
       "      <td>...</td>\n",
       "      <td>...</td>\n",
       "      <td>...</td>\n",
       "      <td>...</td>\n",
       "      <td>...</td>\n",
       "      <td>...</td>\n",
       "      <td>...</td>\n",
       "      <td>...</td>\n",
       "      <td>...</td>\n",
       "      <td>...</td>\n",
       "      <td>...</td>\n",
       "      <td>...</td>\n",
       "      <td>...</td>\n",
       "      <td>...</td>\n",
       "      <td>...</td>\n",
       "      <td>...</td>\n",
       "      <td>...</td>\n",
       "      <td>...</td>\n",
       "      <td>...</td>\n",
       "      <td>...</td>\n",
       "    </tr>\n",
       "    <tr>\n",
       "      <th>15242</th>\n",
       "      <td>10</td>\n",
       "      <td>33</td>\n",
       "      <td>245.0</td>\n",
       "      <td>8.2</td>\n",
       "      <td>0.0</td>\n",
       "      <td>147.532563</td>\n",
       "      <td>45.543702</td>\n",
       "      <td>86.081089</td>\n",
       "      <td>78.207534</td>\n",
       "      <td>42.612249</td>\n",
       "      <td>...</td>\n",
       "      <td>0.0</td>\n",
       "      <td>0.0</td>\n",
       "      <td>0.0</td>\n",
       "      <td>0.0</td>\n",
       "      <td>0.0</td>\n",
       "      <td>0.0</td>\n",
       "      <td>0.0</td>\n",
       "      <td>0.0</td>\n",
       "      <td>0.0</td>\n",
       "      <td>0.0</td>\n",
       "    </tr>\n",
       "    <tr>\n",
       "      <th>15243</th>\n",
       "      <td>40</td>\n",
       "      <td>41</td>\n",
       "      <td>97.0</td>\n",
       "      <td>5.8</td>\n",
       "      <td>1.0</td>\n",
       "      <td>92.405335</td>\n",
       "      <td>103.521563</td>\n",
       "      <td>47.450331</td>\n",
       "      <td>45.362335</td>\n",
       "      <td>41.659357</td>\n",
       "      <td>...</td>\n",
       "      <td>0.0</td>\n",
       "      <td>0.0</td>\n",
       "      <td>0.0</td>\n",
       "      <td>0.0</td>\n",
       "      <td>0.0</td>\n",
       "      <td>0.0</td>\n",
       "      <td>0.0</td>\n",
       "      <td>0.0</td>\n",
       "      <td>0.0</td>\n",
       "      <td>0.0</td>\n",
       "    </tr>\n",
       "    <tr>\n",
       "      <th>15244</th>\n",
       "      <td>1</td>\n",
       "      <td>2</td>\n",
       "      <td>86.0</td>\n",
       "      <td>4.5</td>\n",
       "      <td>0.0</td>\n",
       "      <td>61.753628</td>\n",
       "      <td>24.690933</td>\n",
       "      <td>94.821824</td>\n",
       "      <td>64.670065</td>\n",
       "      <td>23.646891</td>\n",
       "      <td>...</td>\n",
       "      <td>0.0</td>\n",
       "      <td>0.0</td>\n",
       "      <td>0.0</td>\n",
       "      <td>0.0</td>\n",
       "      <td>0.0</td>\n",
       "      <td>0.0</td>\n",
       "      <td>0.0</td>\n",
       "      <td>0.0</td>\n",
       "      <td>0.0</td>\n",
       "      <td>0.0</td>\n",
       "    </tr>\n",
       "    <tr>\n",
       "      <th>15245</th>\n",
       "      <td>1</td>\n",
       "      <td>2</td>\n",
       "      <td>98.0</td>\n",
       "      <td>8.2</td>\n",
       "      <td>0.0</td>\n",
       "      <td>104.391648</td>\n",
       "      <td>92.758420</td>\n",
       "      <td>80.547712</td>\n",
       "      <td>73.227213</td>\n",
       "      <td>44.502221</td>\n",
       "      <td>...</td>\n",
       "      <td>0.0</td>\n",
       "      <td>0.0</td>\n",
       "      <td>0.0</td>\n",
       "      <td>0.0</td>\n",
       "      <td>0.0</td>\n",
       "      <td>0.0</td>\n",
       "      <td>0.0</td>\n",
       "      <td>0.0</td>\n",
       "      <td>0.0</td>\n",
       "      <td>0.0</td>\n",
       "    </tr>\n",
       "    <tr>\n",
       "      <th>15246</th>\n",
       "      <td>1</td>\n",
       "      <td>9</td>\n",
       "      <td>77.0</td>\n",
       "      <td>5.0</td>\n",
       "      <td>0.0</td>\n",
       "      <td>75.234835</td>\n",
       "      <td>83.651546</td>\n",
       "      <td>81.691977</td>\n",
       "      <td>74.776831</td>\n",
       "      <td>46.816737</td>\n",
       "      <td>...</td>\n",
       "      <td>0.0</td>\n",
       "      <td>0.0</td>\n",
       "      <td>0.0</td>\n",
       "      <td>0.0</td>\n",
       "      <td>0.0</td>\n",
       "      <td>0.0</td>\n",
       "      <td>0.0</td>\n",
       "      <td>0.0</td>\n",
       "      <td>0.0</td>\n",
       "      <td>0.0</td>\n",
       "    </tr>\n",
       "  </tbody>\n",
       "</table>\n",
       "<p>15247 rows × 3561 columns</p>\n",
       "</div>"
      ],
      "text/plain": [
       "      data_original_language  data_production_countries  data_runtime  \\\n",
       "0                          3                          1          99.0   \n",
       "1                          1                          2          98.0   \n",
       "2                          4                          3         105.0   \n",
       "3                          7                          4         110.0   \n",
       "4                          1                          2          81.0   \n",
       "...                      ...                        ...           ...   \n",
       "15242                     10                         33         245.0   \n",
       "15243                     40                         41          97.0   \n",
       "15244                      1                          2          86.0   \n",
       "15245                      1                          2          98.0   \n",
       "15246                      1                          9          77.0   \n",
       "\n",
       "       data_IMDBscore  data_num_faces  data_saturation    data_hue  \\\n",
       "0                 7.9             4.0       142.608720   18.089061   \n",
       "1                 6.6             1.0        54.495943   65.970730   \n",
       "2                 8.2             0.0        29.190419   17.475241   \n",
       "3                 7.2             2.0        69.769761   43.547813   \n",
       "4                 6.8             0.0       106.807613   59.977530   \n",
       "...               ...             ...              ...         ...   \n",
       "15242             8.2             0.0       147.532563   45.543702   \n",
       "15243             5.8             1.0        92.405335  103.521563   \n",
       "15244             4.5             0.0        61.753628   24.690933   \n",
       "15245             8.2             0.0       104.391648   92.758420   \n",
       "15246             5.0             0.0        75.234835   83.651546   \n",
       "\n",
       "       data_brightness_sd  data_saturation_sd  data_hue_sd  ...  title-hunter  \\\n",
       "0               72.837943           55.128848    13.950105  ...           0.0   \n",
       "1               82.609480           41.032412    41.203618  ...           0.0   \n",
       "2               50.333288           50.654987    12.036510  ...           0.0   \n",
       "3               81.944152           52.782587    50.298361  ...           0.0   \n",
       "4               65.657793           85.238509    50.944397  ...           0.0   \n",
       "...                   ...                 ...          ...  ...           ...   \n",
       "15242           86.081089           78.207534    42.612249  ...           0.0   \n",
       "15243           47.450331           45.362335    41.659357  ...           0.0   \n",
       "15244           94.821824           64.670065    23.646891  ...           0.0   \n",
       "15245           80.547712           73.227213    44.502221  ...           0.0   \n",
       "15246           81.691977           74.776831    46.816737  ...           0.0   \n",
       "\n",
       "       title-million  title-talk  title-que  title-dance  title-years  \\\n",
       "0                0.0         0.0        0.0          0.0          0.0   \n",
       "1                0.0         0.0        0.0          0.0          0.0   \n",
       "2                0.0         0.0        0.0          0.0          0.0   \n",
       "3                0.0         0.0        0.0          0.0          0.0   \n",
       "4                0.0         0.0        0.0          0.0          0.0   \n",
       "...              ...         ...        ...          ...          ...   \n",
       "15242            0.0         0.0        0.0          0.0          0.0   \n",
       "15243            0.0         0.0        0.0          0.0          0.0   \n",
       "15244            0.0         0.0        0.0          0.0          0.0   \n",
       "15245            0.0         0.0        0.0          0.0          0.0   \n",
       "15246            0.0         0.0        0.0          0.0          0.0   \n",
       "\n",
       "       title-valley  title-x  title-alien  title-behind  \n",
       "0               0.0      0.0          0.0           0.0  \n",
       "1               0.0      0.0          0.0           0.0  \n",
       "2               0.0      0.0          0.0           0.0  \n",
       "3               0.0      0.0          0.0           0.0  \n",
       "4               0.0      0.0          0.0           0.0  \n",
       "...             ...      ...          ...           ...  \n",
       "15242           0.0      0.0          0.0           0.0  \n",
       "15243           0.0      0.0          0.0           0.0  \n",
       "15244           0.0      0.0          0.0           0.0  \n",
       "15245           0.0      0.0          0.0           0.0  \n",
       "15246           0.0      0.0          0.0           0.0  \n",
       "\n",
       "[15247 rows x 3561 columns]"
      ]
     },
     "execution_count": 88,
     "metadata": {},
     "output_type": "execute_result"
    }
   ],
   "source": [
    "train_data"
   ]
  },
  {
   "cell_type": "code",
   "execution_count": 89,
   "id": "c9cefc15",
   "metadata": {},
   "outputs": [
    {
     "name": "stdout",
     "output_type": "stream",
     "text": [
      "<class 'pandas.core.frame.DataFrame'>\n",
      "RangeIndex: 15247 entries, 0 to 15246\n",
      "Columns: 3561 entries, data_original_language to title-behind\n",
      "dtypes: float64(3558), int64(2), object(1)\n",
      "memory usage: 414.2+ MB\n"
     ]
    }
   ],
   "source": [
    "train_data.info()"
   ]
  },
  {
   "cell_type": "code",
   "execution_count": 90,
   "id": "054d6a7b",
   "metadata": {},
   "outputs": [],
   "source": [
    "train_data.to_csv('pre_standardization_train.csv', index=False)\n",
    "valid_data.to_csv('pre_standardization_val.csv', index=False)\n",
    "test_data.to_csv('pre_standardization_test.csv', index=False)"
   ]
  },
  {
   "cell_type": "markdown",
   "id": "3fe9855c",
   "metadata": {},
   "source": [
    "# Standardizing Data"
   ]
  },
  {
   "cell_type": "code",
   "execution_count": 91,
   "id": "da2ede8f",
   "metadata": {},
   "outputs": [],
   "source": [
    "for col in ['data_original_language','data_runtime', 'data_num_faces', 'data_hue', 'data_hue_sd', 'data_saturation', 'data_saturation_sd', 'data_brightness_sd',\n",
    "            'data_blue_sd', 'data_green', 'data_green_sd', 'data_red', 'data_red_sd', 'data_year', 'data_production_countries']:\n",
    "    mean_feature = np.mean(train_data[col])\n",
    "    sd_feature = np.std(train_data[col])\n",
    "    if sd_feature != 0:\n",
    "        train_data[col] = (train_data[col] - mean_feature) / sd_feature\n",
    "        valid_data[col] = (valid_data[col] - mean_feature) / sd_feature\n",
    "        test_data[col] = (test_data[col] - mean_feature) / sd_feature\n",
    "    else:\n",
    "        train_data[col] = (train_data[col] - mean_feature)\n",
    "        valid_data[col] = (valid_data[col] - mean_feature)\n",
    "        test_data[col] = (test_data[col] - mean_feature)"
   ]
  },
  {
   "cell_type": "code",
   "execution_count": 92,
   "id": "ce3b26a6",
   "metadata": {},
   "outputs": [
    {
     "name": "stdout",
     "output_type": "stream",
     "text": [
      "(15247, 3561)\n",
      "(3267, 3561)\n",
      "(3268, 3561)\n"
     ]
    }
   ],
   "source": [
    "print(train_data.shape)\n",
    "print(valid_data.shape)\n",
    "print(test_data.shape)"
   ]
  },
  {
   "cell_type": "code",
   "execution_count": 93,
   "id": "d18fec8e",
   "metadata": {},
   "outputs": [],
   "source": [
    "train_data.to_csv('train.csv', index=False)\n",
    "valid_data.to_csv('val.csv', index=False)\n",
    "test_data.to_csv('test.csv', index=False)"
   ]
  }
 ],
 "metadata": {
  "kernelspec": {
   "display_name": "Python 3 (ipykernel)",
   "language": "python",
   "name": "python3"
  },
  "language_info": {
   "codemirror_mode": {
    "name": "ipython",
    "version": 3
   },
   "file_extension": ".py",
   "mimetype": "text/x-python",
   "name": "python",
   "nbconvert_exporter": "python",
   "pygments_lexer": "ipython3",
   "version": "3.7.4"
  }
 },
 "nbformat": 4,
 "nbformat_minor": 5
}
