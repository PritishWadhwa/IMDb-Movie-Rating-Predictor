{
 "cells": [
  {
   "cell_type": "code",
   "execution_count": 1,
   "id": "efb2f6d2",
   "metadata": {},
   "outputs": [],
   "source": [
    "import matplotlib.pyplot as plt\n",
    "import pandas as pd\n",
    "import numpy as np\n",
    "import math\n",
    "import itertools\n",
    "from matplotlib.pyplot import figure"
   ]
  },
  {
   "cell_type": "code",
   "execution_count": 17,
   "id": "1e2604b3",
   "metadata": {},
   "outputs": [],
   "source": [
    "train = pd.read_csv('train.csv')\n",
    "val=pd.read_csv('val.csv')"
   ]
  },
  {
   "cell_type": "code",
   "execution_count": 18,
   "id": "9061b4c7",
   "metadata": {},
   "outputs": [],
   "source": [
    "df=pd.concat([train, val], axis=0)"
   ]
  },
  {
   "cell_type": "code",
   "execution_count": 19,
   "id": "7b2a6d3b",
   "metadata": {},
   "outputs": [],
   "source": [
    "test = pd.read_csv('test.csv')"
   ]
  },
  {
   "cell_type": "markdown",
   "id": "d73c3eef",
   "metadata": {},
   "source": [
    "# 6 buckets"
   ]
  },
  {
   "cell_type": "code",
   "execution_count": 20,
   "id": "93f44cff",
   "metadata": {},
   "outputs": [],
   "source": [
    "y_val=pd.read_csv('valid_6_buckets.csv')\n",
    "y_train= pd.read_csv('train_6_buckets.csv')\n",
    "y_test=pd.read_csv('test_6_buckets.csv')\n",
    "val.drop('data_IMDBscore', inplace=True, axis=1)\n",
    "y_tot=pd.concat([y_train,y_val], axis=0)"
   ]
  },
  {
   "cell_type": "code",
   "execution_count": 21,
   "id": "685f4dbe",
   "metadata": {},
   "outputs": [],
   "source": [
    "df.drop('data_IMDBscore', inplace=True, axis=1)\n",
    "test.drop('data_IMDBscore', inplace=True, axis=1)\n",
    "train.drop('data_IMDBscore', inplace=True, axis=1)"
   ]
  },
  {
   "cell_type": "code",
   "execution_count": 22,
   "id": "0f5e73e2",
   "metadata": {},
   "outputs": [],
   "source": [
    "from sklearn.ensemble import RandomForestClassifier"
   ]
  },
  {
   "cell_type": "code",
   "execution_count": 23,
   "id": "d4b03b04",
   "metadata": {},
   "outputs": [],
   "source": [
    "clf = RandomForestClassifier(n_estimators=100,n_jobs=-1,random_state=1)"
   ]
  },
  {
   "cell_type": "code",
   "execution_count": 24,
   "id": "9454e2a7",
   "metadata": {},
   "outputs": [
    {
     "data": {
      "text/plain": [
       "RandomForestClassifier(n_jobs=-1, random_state=1)"
      ]
     },
     "execution_count": 24,
     "metadata": {},
     "output_type": "execute_result"
    }
   ],
   "source": [
    "clf.fit(train,np.array(y_train.iloc[:,0]))"
   ]
  },
  {
   "cell_type": "code",
   "execution_count": 25,
   "id": "500bc489",
   "metadata": {},
   "outputs": [],
   "source": [
    "y_pred = clf.predict(test)"
   ]
  },
  {
   "cell_type": "code",
   "execution_count": 26,
   "id": "89f80139",
   "metadata": {},
   "outputs": [],
   "source": [
    "from sklearn.metrics import accuracy_score\n",
    "from sklearn.metrics import f1_score\n",
    "from sklearn.metrics import precision_score\n",
    "from sklearn.metrics import recall_score"
   ]
  },
  {
   "cell_type": "code",
   "execution_count": 27,
   "id": "2d28271e",
   "metadata": {},
   "outputs": [],
   "source": [
    "def scoring(y_true,y_pred):\n",
    "    print(\"Accuracy: \",accuracy_score(y_true, y_pred))\n",
    "    print(\"f1 macro: \",f1_score(y_true, y_pred, average='macro'))\n",
    "    print(\"f1 micro: \",f1_score(y_true, y_pred, average='micro'))\n",
    "    print(\"f1 weighted: \",f1_score(y_true, y_pred, average='weighted'))\n",
    "    print(\"precision macro: \",precision_score(y_true, y_pred, average='macro',zero_division=1))\n",
    "    print(\"precision micro: \",precision_score(y_true, y_pred, average='micro',zero_division=1))\n",
    "    print(\"precision weighted: \",precision_score(y_true, y_pred, average='weighted',zero_division=1))\n",
    "    print(\"recall macro: \",recall_score(y_true, y_pred, average='macro'))\n",
    "    print(\"recall micro: \",recall_score(y_true, y_pred, average='micro'))\n",
    "    print(\"recall weighted: \",recall_score(y_true, y_pred, average='weighted'))"
   ]
  },
  {
   "cell_type": "code",
   "execution_count": 28,
   "id": "761c259e",
   "metadata": {},
   "outputs": [
    {
     "name": "stdout",
     "output_type": "stream",
     "text": [
      "Accuracy:  0.658812729498164\n",
      "f1 macro:  0.2724203909113889\n",
      "f1 micro:  0.658812729498164\n",
      "f1 weighted:  0.6182129289221813\n",
      "precision macro:  0.7836675184989792\n",
      "precision micro:  0.658812729498164\n",
      "precision weighted:  0.6606364913338908\n",
      "recall macro:  0.27965733781379076\n",
      "recall micro:  0.658812729498164\n",
      "recall weighted:  0.658812729498164\n"
     ]
    }
   ],
   "source": [
    "scoring(np.array(y_test.iloc[:,0]),y_pred)"
   ]
  },
  {
   "cell_type": "code",
   "execution_count": 29,
   "id": "984d38b1",
   "metadata": {},
   "outputs": [
    {
     "name": "stdout",
     "output_type": "stream",
     "text": [
      "Accuracy:  1.0\n",
      "f1 macro:  1.0\n",
      "f1 micro:  1.0\n",
      "f1 weighted:  1.0\n",
      "precision macro:  1.0\n",
      "precision micro:  1.0\n",
      "precision weighted:  1.0\n",
      "recall macro:  1.0\n",
      "recall micro:  1.0\n",
      "recall weighted:  1.0\n"
     ]
    }
   ],
   "source": [
    "y_pred = clf.predict(train)\n",
    "scoring(np.array(y_train.iloc[:,0]),y_pred)"
   ]
  },
  {
   "cell_type": "code",
   "execution_count": 30,
   "id": "ae5be0c1",
   "metadata": {},
   "outputs": [
    {
     "name": "stdout",
     "output_type": "stream",
     "text": [
      "Accuracy:  0.6599326599326599\n",
      "f1 macro:  0.3366828248288799\n",
      "f1 micro:  0.6599326599326599\n",
      "f1 weighted:  0.6193125719491457\n",
      "precision macro:  0.711888161952595\n",
      "precision micro:  0.6599326599326599\n",
      "precision weighted:  0.65640770565013\n",
      "recall macro:  0.347869003625557\n",
      "recall micro:  0.6599326599326599\n",
      "recall weighted:  0.6599326599326599\n"
     ]
    }
   ],
   "source": [
    "y_pred = clf.predict(val)\n",
    "scoring(np.array(y_val.iloc[:,0]),y_pred)"
   ]
  },
  {
   "cell_type": "markdown",
   "id": "6c160e4d",
   "metadata": {},
   "source": [
    "# 11 buckets"
   ]
  },
  {
   "cell_type": "code",
   "execution_count": 32,
   "id": "6edfa1f6",
   "metadata": {},
   "outputs": [
    {
     "name": "stdout",
     "output_type": "stream",
     "text": [
      "FOR TEST\n",
      "Accuracy:  0.45960832313341493\n",
      "f1 macro:  0.14151699882995586\n",
      "f1 micro:  0.45960832313341493\n",
      "f1 weighted:  0.38486403649615414\n",
      "precision macro:  0.7191865802129326\n",
      "precision micro:  0.45960832313341493\n",
      "precision weighted:  0.47830687221340573\n",
      "recall macro:  0.15494439433774387\n",
      "recall micro:  0.45960832313341493\n",
      "recall weighted:  0.45960832313341493\n",
      "FOR TRAIN\n",
      "Accuracy:  1.0\n",
      "f1 macro:  1.0\n",
      "f1 micro:  1.0\n",
      "f1 weighted:  1.0\n",
      "precision macro:  1.0\n",
      "precision micro:  1.0\n",
      "precision weighted:  1.0\n",
      "recall macro:  1.0\n",
      "recall micro:  1.0\n",
      "recall weighted:  1.0\n",
      "FOR VAL\n",
      "Accuracy:  0.4450566268748087\n",
      "f1 macro:  0.13524358975012551\n",
      "f1 micro:  0.4450566268748087\n",
      "f1 weighted:  0.3725818049887144\n",
      "precision macro:  0.748132599941574\n",
      "precision micro:  0.4450566268748087\n",
      "precision weighted:  0.478827282286511\n",
      "recall macro:  0.14990057841664883\n",
      "recall micro:  0.4450566268748087\n",
      "recall weighted:  0.4450566268748087\n"
     ]
    }
   ],
   "source": [
    "y_val=pd.read_csv('valid_11_buckets.csv')\n",
    "y_train= pd.read_csv('train_11_buckets.csv')\n",
    "y_test=pd.read_csv('test_11_buckets.csv')\n",
    "y_tot=pd.concat([y_train,y_val], axis=0)\n",
    "clf = RandomForestClassifier(n_estimators=100,n_jobs=-1,random_state=1)\n",
    "clf.fit(train,np.array(y_train.iloc[:,0]))\n",
    "y_pred = clf.predict(test)\n",
    "print(\"FOR TEST\")\n",
    "scoring(np.array(y_test.iloc[:,0]),y_pred)\n",
    "y_pred = clf.predict(train)\n",
    "print(\"FOR TRAIN\")\n",
    "scoring(np.array(y_train.iloc[:,0]),y_pred)\n",
    "y_pred = clf.predict(val)\n",
    "print(\"FOR VAL\")\n",
    "scoring(np.array(y_val.iloc[:,0]),y_pred)"
   ]
  },
  {
   "cell_type": "code",
   "execution_count": 33,
   "id": "b40fa7a8",
   "metadata": {},
   "outputs": [
    {
     "ename": "ValueError",
     "evalue": "Unknown label type: 'continuous'",
     "output_type": "error",
     "traceback": [
      "\u001b[1;31m---------------------------------------------------------------------------\u001b[0m",
      "\u001b[1;31mValueError\u001b[0m                                Traceback (most recent call last)",
      "\u001b[1;32m<ipython-input-33-e1c3d27650b3>\u001b[0m in \u001b[0;36m<module>\u001b[1;34m\u001b[0m\n\u001b[0;32m      4\u001b[0m \u001b[0my_tot\u001b[0m\u001b[1;33m=\u001b[0m\u001b[0mpd\u001b[0m\u001b[1;33m.\u001b[0m\u001b[0mconcat\u001b[0m\u001b[1;33m(\u001b[0m\u001b[1;33m[\u001b[0m\u001b[0my_train\u001b[0m\u001b[1;33m,\u001b[0m\u001b[0my_val\u001b[0m\u001b[1;33m]\u001b[0m\u001b[1;33m,\u001b[0m \u001b[0maxis\u001b[0m\u001b[1;33m=\u001b[0m\u001b[1;36m0\u001b[0m\u001b[1;33m)\u001b[0m\u001b[1;33m\u001b[0m\u001b[1;33m\u001b[0m\u001b[0m\n\u001b[0;32m      5\u001b[0m \u001b[0mclf\u001b[0m \u001b[1;33m=\u001b[0m \u001b[0mRandomForestClassifier\u001b[0m\u001b[1;33m(\u001b[0m\u001b[0mn_estimators\u001b[0m\u001b[1;33m=\u001b[0m\u001b[1;36m100\u001b[0m\u001b[1;33m,\u001b[0m\u001b[0mn_jobs\u001b[0m\u001b[1;33m=\u001b[0m\u001b[1;33m-\u001b[0m\u001b[1;36m1\u001b[0m\u001b[1;33m,\u001b[0m\u001b[0mrandom_state\u001b[0m\u001b[1;33m=\u001b[0m\u001b[1;36m1\u001b[0m\u001b[1;33m)\u001b[0m\u001b[1;33m\u001b[0m\u001b[1;33m\u001b[0m\u001b[0m\n\u001b[1;32m----> 6\u001b[1;33m \u001b[0mclf\u001b[0m\u001b[1;33m.\u001b[0m\u001b[0mfit\u001b[0m\u001b[1;33m(\u001b[0m\u001b[0mtrain\u001b[0m\u001b[1;33m,\u001b[0m\u001b[0mnp\u001b[0m\u001b[1;33m.\u001b[0m\u001b[0marray\u001b[0m\u001b[1;33m(\u001b[0m\u001b[0my_train\u001b[0m\u001b[1;33m.\u001b[0m\u001b[0miloc\u001b[0m\u001b[1;33m[\u001b[0m\u001b[1;33m:\u001b[0m\u001b[1;33m,\u001b[0m\u001b[1;36m0\u001b[0m\u001b[1;33m]\u001b[0m\u001b[1;33m)\u001b[0m\u001b[1;33m)\u001b[0m\u001b[1;33m\u001b[0m\u001b[1;33m\u001b[0m\u001b[0m\n\u001b[0m\u001b[0;32m      7\u001b[0m \u001b[0my_pred\u001b[0m \u001b[1;33m=\u001b[0m \u001b[0mclf\u001b[0m\u001b[1;33m.\u001b[0m\u001b[0mpredict\u001b[0m\u001b[1;33m(\u001b[0m\u001b[0mtest\u001b[0m\u001b[1;33m)\u001b[0m\u001b[1;33m\u001b[0m\u001b[1;33m\u001b[0m\u001b[0m\n\u001b[0;32m      8\u001b[0m \u001b[0mprint\u001b[0m\u001b[1;33m(\u001b[0m\u001b[1;34m\"FOR TEST\"\u001b[0m\u001b[1;33m)\u001b[0m\u001b[1;33m\u001b[0m\u001b[1;33m\u001b[0m\u001b[0m\n",
      "\u001b[1;32m~\\anaconda3\\lib\\site-packages\\sklearn\\ensemble\\_forest.py\u001b[0m in \u001b[0;36mfit\u001b[1;34m(self, X, y, sample_weight)\u001b[0m\n\u001b[0;32m    329\u001b[0m         \u001b[0mself\u001b[0m\u001b[1;33m.\u001b[0m\u001b[0mn_outputs_\u001b[0m \u001b[1;33m=\u001b[0m \u001b[0my\u001b[0m\u001b[1;33m.\u001b[0m\u001b[0mshape\u001b[0m\u001b[1;33m[\u001b[0m\u001b[1;36m1\u001b[0m\u001b[1;33m]\u001b[0m\u001b[1;33m\u001b[0m\u001b[1;33m\u001b[0m\u001b[0m\n\u001b[0;32m    330\u001b[0m \u001b[1;33m\u001b[0m\u001b[0m\n\u001b[1;32m--> 331\u001b[1;33m         \u001b[0my\u001b[0m\u001b[1;33m,\u001b[0m \u001b[0mexpanded_class_weight\u001b[0m \u001b[1;33m=\u001b[0m \u001b[0mself\u001b[0m\u001b[1;33m.\u001b[0m\u001b[0m_validate_y_class_weight\u001b[0m\u001b[1;33m(\u001b[0m\u001b[0my\u001b[0m\u001b[1;33m)\u001b[0m\u001b[1;33m\u001b[0m\u001b[1;33m\u001b[0m\u001b[0m\n\u001b[0m\u001b[0;32m    332\u001b[0m \u001b[1;33m\u001b[0m\u001b[0m\n\u001b[0;32m    333\u001b[0m         \u001b[1;32mif\u001b[0m \u001b[0mgetattr\u001b[0m\u001b[1;33m(\u001b[0m\u001b[0my\u001b[0m\u001b[1;33m,\u001b[0m \u001b[1;34m\"dtype\"\u001b[0m\u001b[1;33m,\u001b[0m \u001b[1;32mNone\u001b[0m\u001b[1;33m)\u001b[0m \u001b[1;33m!=\u001b[0m \u001b[0mDOUBLE\u001b[0m \u001b[1;32mor\u001b[0m \u001b[1;32mnot\u001b[0m \u001b[0my\u001b[0m\u001b[1;33m.\u001b[0m\u001b[0mflags\u001b[0m\u001b[1;33m.\u001b[0m\u001b[0mcontiguous\u001b[0m\u001b[1;33m:\u001b[0m\u001b[1;33m\u001b[0m\u001b[1;33m\u001b[0m\u001b[0m\n",
      "\u001b[1;32m~\\anaconda3\\lib\\site-packages\\sklearn\\ensemble\\_forest.py\u001b[0m in \u001b[0;36m_validate_y_class_weight\u001b[1;34m(self, y)\u001b[0m\n\u001b[0;32m    557\u001b[0m \u001b[1;33m\u001b[0m\u001b[0m\n\u001b[0;32m    558\u001b[0m     \u001b[1;32mdef\u001b[0m \u001b[0m_validate_y_class_weight\u001b[0m\u001b[1;33m(\u001b[0m\u001b[0mself\u001b[0m\u001b[1;33m,\u001b[0m \u001b[0my\u001b[0m\u001b[1;33m)\u001b[0m\u001b[1;33m:\u001b[0m\u001b[1;33m\u001b[0m\u001b[1;33m\u001b[0m\u001b[0m\n\u001b[1;32m--> 559\u001b[1;33m         \u001b[0mcheck_classification_targets\u001b[0m\u001b[1;33m(\u001b[0m\u001b[0my\u001b[0m\u001b[1;33m)\u001b[0m\u001b[1;33m\u001b[0m\u001b[1;33m\u001b[0m\u001b[0m\n\u001b[0m\u001b[0;32m    560\u001b[0m \u001b[1;33m\u001b[0m\u001b[0m\n\u001b[0;32m    561\u001b[0m         \u001b[0my\u001b[0m \u001b[1;33m=\u001b[0m \u001b[0mnp\u001b[0m\u001b[1;33m.\u001b[0m\u001b[0mcopy\u001b[0m\u001b[1;33m(\u001b[0m\u001b[0my\u001b[0m\u001b[1;33m)\u001b[0m\u001b[1;33m\u001b[0m\u001b[1;33m\u001b[0m\u001b[0m\n",
      "\u001b[1;32m~\\anaconda3\\lib\\site-packages\\sklearn\\utils\\multiclass.py\u001b[0m in \u001b[0;36mcheck_classification_targets\u001b[1;34m(y)\u001b[0m\n\u001b[0;32m    181\u001b[0m     if y_type not in ['binary', 'multiclass', 'multiclass-multioutput',\n\u001b[0;32m    182\u001b[0m                       'multilabel-indicator', 'multilabel-sequences']:\n\u001b[1;32m--> 183\u001b[1;33m         \u001b[1;32mraise\u001b[0m \u001b[0mValueError\u001b[0m\u001b[1;33m(\u001b[0m\u001b[1;34m\"Unknown label type: %r\"\u001b[0m \u001b[1;33m%\u001b[0m \u001b[0my_type\u001b[0m\u001b[1;33m)\u001b[0m\u001b[1;33m\u001b[0m\u001b[1;33m\u001b[0m\u001b[0m\n\u001b[0m\u001b[0;32m    184\u001b[0m \u001b[1;33m\u001b[0m\u001b[0m\n\u001b[0;32m    185\u001b[0m \u001b[1;33m\u001b[0m\u001b[0m\n",
      "\u001b[1;31mValueError\u001b[0m: Unknown label type: 'continuous'"
     ]
    }
   ],
   "source": [
    "y_val=pd.read_csv('valid_21_buckets.csv')\n",
    "y_train= pd.read_csv('train_21_buckets.csv')\n",
    "y_test=pd.read_csv('test_21_buckets.csv')\n",
    "y_tot=pd.concat([y_train,y_val], axis=0)\n",
    "clf = RandomForestClassifier(n_estimators=100,n_jobs=-1,random_state=1)\n",
    "clf.fit(train,np.array(y_train.iloc[:,0]))\n",
    "y_pred = clf.predict(test)\n",
    "print(\"FOR TEST\")\n",
    "scoring(np.array(y_test.iloc[:,0]),y_pred)\n",
    "y_pred = clf.predict(train)\n",
    "print(\"FOR TRAIN\")\n",
    "scoring(np.array(y_train.iloc[:,0]),y_pred)\n",
    "y_pred = clf.predict(val)\n",
    "print(\"FOR VAL\")\n",
    "scoring(np.array(y_val.iloc[:,0]),y_pred)"
   ]
  },
  {
   "cell_type": "code",
   "execution_count": null,
   "id": "71af1288",
   "metadata": {},
   "outputs": [],
   "source": []
  },
  {
   "cell_type": "code",
   "execution_count": null,
   "id": "20dd2279",
   "metadata": {},
   "outputs": [],
   "source": []
  }
 ],
 "metadata": {
  "kernelspec": {
   "display_name": "Python 3",
   "language": "python",
   "name": "python3"
  },
  "language_info": {
   "codemirror_mode": {
    "name": "ipython",
    "version": 3
   },
   "file_extension": ".py",
   "mimetype": "text/x-python",
   "name": "python",
   "nbconvert_exporter": "python",
   "pygments_lexer": "ipython3",
   "version": "3.9.1"
  }
 },
 "nbformat": 4,
 "nbformat_minor": 5
}
