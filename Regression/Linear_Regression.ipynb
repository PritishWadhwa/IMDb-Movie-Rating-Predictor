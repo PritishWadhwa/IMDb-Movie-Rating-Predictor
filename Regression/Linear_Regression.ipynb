{
 "cells": [
  {
   "cell_type": "markdown",
   "id": "e90ad454",
   "metadata": {},
   "source": [
    "# Linear Regression (Degree 1)"
   ]
  },
  {
   "cell_type": "markdown",
   "id": "9c0e9efc",
   "metadata": {},
   "source": [
    "## Import Dataset, Split X,Y"
   ]
  },
  {
   "cell_type": "code",
   "execution_count": 1,
   "id": "f5076d86",
   "metadata": {},
   "outputs": [],
   "source": [
    "import numpy as np\n",
    "import pandas as pd\n",
    "import matplotlib.pyplot as plt\n",
    "import pickle"
   ]
  },
  {
   "cell_type": "code",
   "execution_count": 2,
   "id": "70922bc8",
   "metadata": {},
   "outputs": [],
   "source": [
    "trainDF = pd.read_csv('E:/Sem5/ML-Final-Project/Dataset/train.csv', low_memory=False)\n",
    "valDF = pd.read_csv('E:/Sem5/ML-Final-Project/Dataset/val.csv', low_memory=False)\n",
    "testDF = pd.read_csv('E:/Sem5/ML-Final-Project/Dataset/test.csv', low_memory=False)"
   ]
  },
  {
   "cell_type": "code",
   "execution_count": 3,
   "id": "b5b26eab",
   "metadata": {},
   "outputs": [],
   "source": [
    "# trainDF = trainDF.append(valDF, ignore_index=True)"
   ]
  },
  {
   "cell_type": "code",
   "execution_count": 4,
   "id": "6357cb4b",
   "metadata": {},
   "outputs": [],
   "source": [
    "train_X = trainDF.drop(columns=['data_IMDBscore'])\n",
    "train_Y = trainDF['data_IMDBscore']"
   ]
  },
  {
   "cell_type": "code",
   "execution_count": 5,
   "id": "726f9558",
   "metadata": {},
   "outputs": [],
   "source": [
    "val_X = valDF.drop(columns=['data_IMDBscore'])\n",
    "val_Y = valDF['data_IMDBscore']"
   ]
  },
  {
   "cell_type": "code",
   "execution_count": 6,
   "id": "e0b61ff2",
   "metadata": {},
   "outputs": [],
   "source": [
    "test_X = testDF.drop(columns=['data_IMDBscore'])\n",
    "test_Y = testDF['data_IMDBscore']"
   ]
  },
  {
   "cell_type": "markdown",
   "id": "65ef1c48",
   "metadata": {},
   "source": [
    "## Train Model"
   ]
  },
  {
   "cell_type": "code",
   "execution_count": 7,
   "id": "153c1ba4",
   "metadata": {},
   "outputs": [],
   "source": [
    "from sklearn.linear_model import LinearRegression\n",
    "from sklearn.metrics import mean_squared_error"
   ]
  },
  {
   "cell_type": "code",
   "execution_count": 8,
   "id": "5fcb8c05",
   "metadata": {},
   "outputs": [],
   "source": [
    "linear_degree_1_model = LinearRegression(fit_intercept=True, copy_X=True, n_jobs=-1)"
   ]
  },
  {
   "cell_type": "code",
   "execution_count": 9,
   "id": "d238fda7",
   "metadata": {},
   "outputs": [
    {
     "data": {
      "text/plain": [
       "LinearRegression(n_jobs=-1)"
      ]
     },
     "execution_count": 9,
     "metadata": {},
     "output_type": "execute_result"
    }
   ],
   "source": [
    "linear_degree_1_model.fit(train_X, train_Y)"
   ]
  },
  {
   "cell_type": "code",
   "execution_count": 11,
   "id": "8f17295a",
   "metadata": {},
   "outputs": [
    {
     "name": "stdout",
     "output_type": "stream",
     "text": [
      "Train R^2:  0.5950861171740633\n",
      "Train MSE:  0.4823811342868364\n",
      "Val R^2:  0.34474838341269154\n",
      "Val MSE:  0.8056194967353152\n",
      "Test R^2:  0.34619290087242793\n",
      "Test MSE:  0.7738914986024406\n"
     ]
    }
   ],
   "source": [
    "print('Train R^2: ', linear_degree_1_model.score(train_X, train_Y))\n",
    "print('Train MSE: ', mean_squared_error(linear_degree_1_model.predict(train_X), train_Y))\n",
    "\n",
    "print('Val R^2: ', linear_degree_1_model.score(val_X, val_Y))\n",
    "print('Val MSE: ', mean_squared_error(linear_degree_1_model.predict(val_X), val_Y))\n",
    "\n",
    "print('Test R^2: ', linear_degree_1_model.score(test_X, test_Y))\n",
    "print('Test MSE: ', mean_squared_error(linear_degree_1_model.predict(test_X), test_Y))"
   ]
  },
  {
   "cell_type": "markdown",
   "id": "794987d2",
   "metadata": {},
   "source": [
    "## Saving Model"
   ]
  },
  {
   "cell_type": "code",
   "execution_count": 12,
   "id": "8565e90b",
   "metadata": {},
   "outputs": [],
   "source": [
    "# filename = 'Linear_Regression.sav'\n",
    "# pickle.dump(linear_degree_1_model, open(filename, 'wb'))"
   ]
  }
 ],
 "metadata": {
  "kernelspec": {
   "display_name": "Python 3 (ipykernel)",
   "language": "python",
   "name": "python3"
  },
  "language_info": {
   "codemirror_mode": {
    "name": "ipython",
    "version": 3
   },
   "file_extension": ".py",
   "mimetype": "text/x-python",
   "name": "python",
   "nbconvert_exporter": "python",
   "pygments_lexer": "ipython3",
   "version": "3.7.4"
  },
  "widgets": {
   "application/vnd.jupyter.widget-state+json": {
    "state": {},
    "version_major": 2,
    "version_minor": 0
   }
  }
 },
 "nbformat": 4,
 "nbformat_minor": 5
}
