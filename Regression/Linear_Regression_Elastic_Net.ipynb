{
 "cells": [
  {
   "cell_type": "markdown",
   "id": "c9bcce5e",
   "metadata": {},
   "source": [
    "# Import Dataset, Split X,Y"
   ]
  },
  {
   "cell_type": "code",
   "execution_count": 1,
   "id": "cc12efe8",
   "metadata": {},
   "outputs": [],
   "source": [
    "import numpy as np\n",
    "import pandas as pd\n",
    "import matplotlib.pyplot as plt\n",
    "import pickle"
   ]
  },
  {
   "cell_type": "code",
   "execution_count": 2,
   "id": "8293d79d",
   "metadata": {},
   "outputs": [],
   "source": [
    "trainDF = pd.read_csv('E:/Sem5/ML-Final-Project/Dataset/train.csv', low_memory=False)\n",
    "valDF = pd.read_csv('E:/Sem5/ML-Final-Project/Dataset/val.csv', low_memory=False)\n",
    "testDF = pd.read_csv('E:/Sem5/ML-Final-Project/Dataset/test.csv', low_memory=False)"
   ]
  },
  {
   "cell_type": "code",
   "execution_count": 3,
   "id": "0c8bd73a",
   "metadata": {},
   "outputs": [],
   "source": [
    "train_X = trainDF.drop(columns=['data_IMDBscore'])\n",
    "train_Y = trainDF['data_IMDBscore']"
   ]
  },
  {
   "cell_type": "code",
   "execution_count": 4,
   "id": "834d5993",
   "metadata": {},
   "outputs": [],
   "source": [
    "val_X = valDF.drop(columns=['data_IMDBscore'])\n",
    "val_Y = valDF['data_IMDBscore']"
   ]
  },
  {
   "cell_type": "code",
   "execution_count": 5,
   "id": "5b2195db",
   "metadata": {},
   "outputs": [],
   "source": [
    "test_X = testDF.drop(columns=['data_IMDBscore'])\n",
    "test_Y = testDF['data_IMDBscore']"
   ]
  },
  {
   "cell_type": "markdown",
   "id": "3cbef24d",
   "metadata": {},
   "source": [
    "# Train Model"
   ]
  },
  {
   "cell_type": "code",
   "execution_count": 6,
   "id": "cc003ad2",
   "metadata": {},
   "outputs": [],
   "source": [
    "from sklearn.linear_model import ElasticNet\n",
    "from sklearn.linear_model import ElasticNetCV\n",
    "from sklearn.metrics import mean_squared_error"
   ]
  },
  {
   "cell_type": "markdown",
   "id": "47bc4f83",
   "metadata": {},
   "source": [
    "### ElasticNetCV"
   ]
  },
  {
   "cell_type": "code",
   "execution_count": 7,
   "id": "cafe54dd",
   "metadata": {},
   "outputs": [],
   "source": [
    "elasticNetCV = ElasticNetCV(l1_ratio=[0.01, 0.25, 0.5, 0.75, 1], fit_intercept=True, copy_X=True, n_jobs=-1, random_state=0)"
   ]
  },
  {
   "cell_type": "code",
   "execution_count": 8,
   "id": "a444629d",
   "metadata": {},
   "outputs": [
    {
     "data": {
      "text/plain": [
       "ElasticNetCV(l1_ratio=[0.01, 0.25, 0.5, 0.75, 1], n_jobs=-1, random_state=0)"
      ]
     },
     "execution_count": 8,
     "metadata": {},
     "output_type": "execute_result"
    }
   ],
   "source": [
    "elasticNetCV.fit(val_X,val_Y)"
   ]
  },
  {
   "cell_type": "code",
   "execution_count": 9,
   "id": "2b9bced3",
   "metadata": {},
   "outputs": [
    {
     "name": "stdout",
     "output_type": "stream",
     "text": [
      "0.006668758945654076\n",
      "0.25\n"
     ]
    }
   ],
   "source": [
    "print(elasticNetCV.alpha_)\n",
    "print(elasticNetCV.l1_ratio_)"
   ]
  },
  {
   "cell_type": "code",
   "execution_count": 10,
   "id": "86199e31",
   "metadata": {},
   "outputs": [],
   "source": [
    "# print(elasticNetCV.aplhas_)"
   ]
  },
  {
   "cell_type": "code",
   "execution_count": 11,
   "id": "250bea19",
   "metadata": {},
   "outputs": [],
   "source": [
    "# print(elasticNetCV.mse_path_)"
   ]
  },
  {
   "cell_type": "markdown",
   "id": "8e13edf2",
   "metadata": {},
   "source": [
    "### Best Model Training and Testing"
   ]
  },
  {
   "cell_type": "code",
   "execution_count": 12,
   "id": "c2afb2b4",
   "metadata": {},
   "outputs": [],
   "source": [
    "elasticnet_model = ElasticNet(alpha=0.006668758945654076, l1_ratio=0.25, fit_intercept=True, copy_X=True, random_state=0)"
   ]
  },
  {
   "cell_type": "code",
   "execution_count": 13,
   "id": "b545b23d",
   "metadata": {},
   "outputs": [
    {
     "data": {
      "text/plain": [
       "ElasticNet(alpha=0.006668758945654076, l1_ratio=0.25, random_state=0)"
      ]
     },
     "execution_count": 13,
     "metadata": {},
     "output_type": "execute_result"
    }
   ],
   "source": [
    "elasticnet_model.fit(train_X, train_Y)"
   ]
  },
  {
   "cell_type": "code",
   "execution_count": 14,
   "id": "b2082355",
   "metadata": {},
   "outputs": [
    {
     "name": "stdout",
     "output_type": "stream",
     "text": [
      "Train R^2:  0.3810513678877173\n",
      "Train MSE:  0.7373645505554496\n",
      "Val R^2:  0.3660424078962039\n",
      "Val MSE:  0.7794388954920507\n",
      "Test R^2:  0.3820995087903801\n",
      "Test MSE:  0.7313899432531122\n"
     ]
    }
   ],
   "source": [
    "print('Train R^2: ', elasticnet_model.score(train_X, train_Y))\n",
    "print('Train MSE: ', mean_squared_error(elasticnet_model.predict(train_X), train_Y))\n",
    "\n",
    "print('Val R^2: ', elasticnet_model.score(val_X, val_Y))\n",
    "print('Val MSE: ', mean_squared_error(elasticnet_model.predict(val_X), val_Y))\n",
    "\n",
    "print('Test R^2: ', elasticnet_model.score(test_X, test_Y))\n",
    "print('Test MSE: ', mean_squared_error(elasticnet_model.predict(test_X), test_Y))"
   ]
  },
  {
   "cell_type": "markdown",
   "id": "99ed5528",
   "metadata": {},
   "source": [
    "# Saving Model"
   ]
  },
  {
   "cell_type": "code",
   "execution_count": 15,
   "id": "11809747",
   "metadata": {},
   "outputs": [],
   "source": [
    "# filename = 'Linear_Regression_ElasticNet.sav'\n",
    "# pickle.dump(elasticnet_model, open(filename, 'wb'))"
   ]
  }
 ],
 "metadata": {
  "kernelspec": {
   "display_name": "Python 3 (ipykernel)",
   "language": "python",
   "name": "python3"
  },
  "language_info": {
   "codemirror_mode": {
    "name": "ipython",
    "version": 3
   },
   "file_extension": ".py",
   "mimetype": "text/x-python",
   "name": "python",
   "nbconvert_exporter": "python",
   "pygments_lexer": "ipython3",
   "version": "3.7.4"
  }
 },
 "nbformat": 4,
 "nbformat_minor": 5
}
