{
 "cells": [
  {
   "cell_type": "markdown",
   "id": "85d3a6b1",
   "metadata": {},
   "source": [
    "# Import Dataset, Split X,Y"
   ]
  },
  {
   "cell_type": "code",
   "execution_count": 1,
   "id": "1ecfc393",
   "metadata": {},
   "outputs": [],
   "source": [
    "import numpy as np\n",
    "import pandas as pd\n",
    "import matplotlib.pyplot as plt\n",
    "import pickle"
   ]
  },
  {
   "cell_type": "code",
   "execution_count": 2,
   "id": "734a1609",
   "metadata": {},
   "outputs": [],
   "source": [
    "trainDF = pd.read_csv('E:/Sem5/ML-Final-Project/Dataset/train.csv', low_memory=False)\n",
    "valDF = pd.read_csv('E:/Sem5/ML-Final-Project/Dataset/val.csv', low_memory=False)\n",
    "testDF = pd.read_csv('E:/Sem5/ML-Final-Project/Dataset/test.csv', low_memory=False)"
   ]
  },
  {
   "cell_type": "code",
   "execution_count": 3,
   "id": "00ec9471",
   "metadata": {},
   "outputs": [],
   "source": [
    "train_X = trainDF.drop(columns=['data_IMDBscore'])\n",
    "train_Y = trainDF['data_IMDBscore']"
   ]
  },
  {
   "cell_type": "code",
   "execution_count": 4,
   "id": "7a6ed607",
   "metadata": {},
   "outputs": [],
   "source": [
    "val_X = valDF.drop(columns=['data_IMDBscore'])\n",
    "val_Y = valDF['data_IMDBscore']"
   ]
  },
  {
   "cell_type": "code",
   "execution_count": 5,
   "id": "3ec8331b",
   "metadata": {},
   "outputs": [],
   "source": [
    "test_X = testDF.drop(columns=['data_IMDBscore'])\n",
    "test_Y = testDF['data_IMDBscore']"
   ]
  },
  {
   "cell_type": "markdown",
   "id": "9d5ecc92",
   "metadata": {},
   "source": [
    "# Train Model"
   ]
  },
  {
   "cell_type": "code",
   "execution_count": 6,
   "id": "47fe7585",
   "metadata": {},
   "outputs": [],
   "source": [
    "from sklearn.linear_model import Lasso\n",
    "from sklearn.model_selection import GridSearchCV\n",
    "from sklearn.metrics import mean_squared_error"
   ]
  },
  {
   "cell_type": "markdown",
   "id": "934e7e67",
   "metadata": {},
   "source": [
    "### Grid Search"
   ]
  },
  {
   "cell_type": "code",
   "execution_count": 7,
   "id": "7114a7f4",
   "metadata": {},
   "outputs": [],
   "source": [
    "list_of_alphas = [0.0001, 0.0005, 0.001, 0.005, 0.01, 0.05, 0.1, 0.5, 1]\n",
    "gridSearch = GridSearchCV(estimator=Lasso(fit_intercept=True, copy_X=True, random_state=0), param_grid={'alpha':list_of_alphas}, n_jobs=-1)"
   ]
  },
  {
   "cell_type": "code",
   "execution_count": 8,
   "id": "860574e6",
   "metadata": {},
   "outputs": [
    {
     "data": {
      "text/plain": [
       "GridSearchCV(estimator=Lasso(random_state=0), n_jobs=-1,\n",
       "             param_grid={'alpha': [0.0001, 0.0005, 0.001, 0.005, 0.01, 0.05,\n",
       "                                   0.1, 0.5, 1]})"
      ]
     },
     "execution_count": 8,
     "metadata": {},
     "output_type": "execute_result"
    }
   ],
   "source": [
    "gridSearch.fit(val_X,val_Y)"
   ]
  },
  {
   "cell_type": "code",
   "execution_count": 9,
   "id": "4552d905",
   "metadata": {},
   "outputs": [
    {
     "name": "stdout",
     "output_type": "stream",
     "text": [
      "0.005\n"
     ]
    }
   ],
   "source": [
    "print(gridSearch.best_estimator_.alpha)"
   ]
  },
  {
   "cell_type": "code",
   "execution_count": 10,
   "id": "574ff6ce",
   "metadata": {},
   "outputs": [
    {
     "name": "stdout",
     "output_type": "stream",
     "text": [
      "[-0.59610317  0.17038483  0.28859227  0.32284915  0.30592017  0.18147558\n",
      "  0.1120868  -0.00072692 -0.00072692]\n"
     ]
    }
   ],
   "source": [
    "print(gridSearch.cv_results_['mean_test_score'])"
   ]
  },
  {
   "cell_type": "code",
   "execution_count": 11,
   "id": "a9adc11f",
   "metadata": {},
   "outputs": [
    {
     "data": {
      "image/png": "[encoded data removed]",
      "text/plain": [
       "<Figure size 576x396 with 1 Axes>"
      ]
     },
     "metadata": {},
     "output_type": "display_data"
    }
   ],
   "source": [
    "plt.style.use('seaborn')\n",
    "plt.scatter(list_of_alphas[1:7],gridSearch.cv_results_['mean_test_score'][1:7])\n",
    "plt.plot(list_of_alphas[1:7],gridSearch.cv_results_['mean_test_score'][1:7], label='Mean test score vs alpha')\n",
    "plt.xlabel('list_of_alphas')\n",
    "plt.ylabel('mean_test_score')\n",
    "plt.legend()\n",
    "plt.savefig('Graphs/lasso_gs_fig1.png')\n",
    "plt.show()"
   ]
  },
  {
   "cell_type": "markdown",
   "id": "85b93885",
   "metadata": {},
   "source": [
    "### Refined Grid Search"
   ]
  },
  {
   "cell_type": "code",
   "execution_count": 12,
   "id": "9763f380",
   "metadata": {},
   "outputs": [],
   "source": [
    "refined_list_of_alphas = [0.001, 0.002, 0.003, 0.004, 0.005, 0.006, 0.007, 0.008, 0.009, 0.01]\n",
    "refinedGridSearch = GridSearchCV(estimator=Lasso(fit_intercept=True, copy_X=True, random_state=0), param_grid={'alpha':refined_list_of_alphas}, n_jobs=-1)"
   ]
  },
  {
   "cell_type": "code",
   "execution_count": 13,
   "id": "1958001d",
   "metadata": {},
   "outputs": [
    {
     "data": {
      "text/plain": [
       "GridSearchCV(estimator=Lasso(random_state=0), n_jobs=-1,\n",
       "             param_grid={'alpha': [0.001, 0.002, 0.003, 0.004, 0.005, 0.006,\n",
       "                                   0.007, 0.008, 0.009, 0.01]})"
      ]
     },
     "execution_count": 13,
     "metadata": {},
     "output_type": "execute_result"
    }
   ],
   "source": [
    "refinedGridSearch.fit(val_X,val_Y)"
   ]
  },
  {
   "cell_type": "code",
   "execution_count": 14,
   "id": "d477e69b",
   "metadata": {},
   "outputs": [
    {
     "name": "stdout",
     "output_type": "stream",
     "text": [
      "0.002\n"
     ]
    }
   ],
   "source": [
    "print(refinedGridSearch.best_estimator_.alpha)"
   ]
  },
  {
   "cell_type": "code",
   "execution_count": 15,
   "id": "2c142c26",
   "metadata": {},
   "outputs": [
    {
     "name": "stdout",
     "output_type": "stream",
     "text": [
      "[0.28859227 0.33469577 0.33372347 0.32780123 0.32284915 0.31930536\n",
      " 0.3162134  0.31300975 0.3093921  0.30592017]\n"
     ]
    }
   ],
   "source": [
    "print(refinedGridSearch.cv_results_['mean_test_score'])"
   ]
  },
  {
   "cell_type": "code",
   "execution_count": 16,
   "id": "a32fba3c",
   "metadata": {},
   "outputs": [
    {
     "data": {
      "image/png": "[encoded data removed]",
      "text/plain": [
       "<Figure size 576x396 with 1 Axes>"
      ]
     },
     "metadata": {},
     "output_type": "display_data"
    }
   ],
   "source": [
    "plt.style.use('seaborn')\n",
    "plt.scatter(refined_list_of_alphas,refinedGridSearch.cv_results_['mean_test_score'])\n",
    "plt.plot(refined_list_of_alphas,refinedGridSearch.cv_results_['mean_test_score'], label='Mean test score vs alpha')\n",
    "plt.xlabel('refined_list_of_alphas')\n",
    "plt.ylabel('mean_test_score')\n",
    "plt.legend()\n",
    "plt.savefig('Graphs/lasso_gs_fig2.png')\n",
    "plt.show()"
   ]
  },
  {
   "cell_type": "code",
   "execution_count": 17,
   "id": "d6dd37b2",
   "metadata": {},
   "outputs": [],
   "source": [
    "ultra_refined_list_of_alphas = [0.001, 0.0011, 0.0012, 0.0013, 0.0014, 0.0015, 0.0016, 0.0017, 0.0018, 0.0019, 0.002]\n",
    "ultraRefinedGridSearch = GridSearchCV(estimator=Lasso(fit_intercept=True, copy_X=True, random_state=0), param_grid={'alpha':ultra_refined_list_of_alphas}, n_jobs=-1)"
   ]
  },
  {
   "cell_type": "code",
   "execution_count": 18,
   "id": "699360ec",
   "metadata": {},
   "outputs": [
    {
     "data": {
      "text/plain": [
       "GridSearchCV(estimator=Lasso(random_state=0), n_jobs=-1,\n",
       "             param_grid={'alpha': [0.001, 0.0011, 0.0012, 0.0013, 0.0014,\n",
       "                                   0.0015, 0.0016, 0.0017, 0.0018, 0.0019,\n",
       "                                   0.002]})"
      ]
     },
     "execution_count": 18,
     "metadata": {},
     "output_type": "execute_result"
    }
   ],
   "source": [
    "ultraRefinedGridSearch.fit(val_X,val_Y)"
   ]
  },
  {
   "cell_type": "code",
   "execution_count": 19,
   "id": "619ac044",
   "metadata": {},
   "outputs": [
    {
     "name": "stdout",
     "output_type": "stream",
     "text": [
      "0.002\n"
     ]
    }
   ],
   "source": [
    "print(ultraRefinedGridSearch.best_estimator_.alpha)"
   ]
  },
  {
   "cell_type": "code",
   "execution_count": 20,
   "id": "b0413446",
   "metadata": {},
   "outputs": [
    {
     "name": "stdout",
     "output_type": "stream",
     "text": [
      "[0.28859227 0.29894083 0.30744478 0.31486238 0.32039155 0.32484247\n",
      " 0.32817923 0.33077528 0.33252833 0.33368554 0.33469577]\n"
     ]
    }
   ],
   "source": [
    "print(ultraRefinedGridSearch.cv_results_['mean_test_score'])"
   ]
  },
  {
   "cell_type": "code",
   "execution_count": 21,
   "id": "ffaaa0c7",
   "metadata": {},
   "outputs": [
    {
     "data": {
      "image/png": "[encoded data removed]",
      "text/plain": [
       "<Figure size 576x396 with 1 Axes>"
      ]
     },
     "metadata": {},
     "output_type": "display_data"
    }
   ],
   "source": [
    "plt.style.use('seaborn')\n",
    "plt.scatter(ultra_refined_list_of_alphas,ultraRefinedGridSearch.cv_results_['mean_test_score'])\n",
    "plt.plot(ultra_refined_list_of_alphas,ultraRefinedGridSearch.cv_results_['mean_test_score'], label='Mean test score vs alpha')\n",
    "plt.xlabel('ultra_refined_list_of_alphas')\n",
    "plt.ylabel('mean_test_score')\n",
    "plt.legend()\n",
    "plt.savefig('Graphs/lasso_gs_fig3.png')\n",
    "plt.show()"
   ]
  },
  {
   "cell_type": "markdown",
   "id": "cd95894d",
   "metadata": {},
   "source": [
    "### Best Model Training and Testing"
   ]
  },
  {
   "cell_type": "code",
   "execution_count": 22,
   "id": "d2c7b3b0",
   "metadata": {},
   "outputs": [],
   "source": [
    "lasso_model = Lasso(alpha=0.002, fit_intercept=True, copy_X=True, random_state=0)"
   ]
  },
  {
   "cell_type": "code",
   "execution_count": 23,
   "id": "31220143",
   "metadata": {},
   "outputs": [
    {
     "data": {
      "text/plain": [
       "Lasso(alpha=0.002, random_state=0)"
      ]
     },
     "execution_count": 23,
     "metadata": {},
     "output_type": "execute_result"
    }
   ],
   "source": [
    "lasso_model.fit(train_X, train_Y)"
   ]
  },
  {
   "cell_type": "code",
   "execution_count": 24,
   "id": "b33d0bf3",
   "metadata": {},
   "outputs": [
    {
     "name": "stdout",
     "output_type": "stream",
     "text": [
      "Train R^2:  0.38603195355940634\n",
      "Train MSE:  0.7314310899663621\n",
      "Val R^2:  0.37216973282757726\n",
      "Val MSE:  0.7719054651233384\n",
      "Test R^2:  0.38596204896485553\n",
      "Test MSE:  0.7268179723950019\n"
     ]
    }
   ],
   "source": [
    "print('Train R^2: ', lasso_model.score(train_X, train_Y))\n",
    "print('Train MSE: ', mean_squared_error(lasso_model.predict(train_X), train_Y))\n",
    "\n",
    "print('Val R^2: ', lasso_model.score(val_X, val_Y))\n",
    "print('Val MSE: ', mean_squared_error(lasso_model.predict(val_X), val_Y))\n",
    "\n",
    "print('Test R^2: ', lasso_model.score(test_X, test_Y))\n",
    "print('Test MSE: ', mean_squared_error(lasso_model.predict(test_X), test_Y))"
   ]
  },
  {
   "cell_type": "markdown",
   "id": "57edce2a",
   "metadata": {},
   "source": [
    "# Saving Model"
   ]
  },
  {
   "cell_type": "code",
   "execution_count": 25,
   "id": "0991c997",
   "metadata": {},
   "outputs": [],
   "source": [
    "# filename = 'Linear_Regression_Lasso.sav'\n",
    "# pickle.dump(lasso_model, open(filename, 'wb'))"
   ]
  }
 ],
 "metadata": {
  "kernelspec": {
   "display_name": "Python 3 (ipykernel)",
   "language": "python",
   "name": "python3"
  },
  "language_info": {
   "codemirror_mode": {
    "name": "ipython",
    "version": 3
   },
   "file_extension": ".py",
   "mimetype": "text/x-python",
   "name": "python",
   "nbconvert_exporter": "python",
   "pygments_lexer": "ipython3",
   "version": "3.7.4"
  }
 },
 "nbformat": 4,
 "nbformat_minor": 5
}
