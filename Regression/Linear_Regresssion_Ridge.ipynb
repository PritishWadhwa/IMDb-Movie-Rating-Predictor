{
 "cells": [
  {
   "cell_type": "markdown",
   "id": "bcd72e8e",
   "metadata": {},
   "source": [
    "# Import Dataset, Split X,Y"
   ]
  },
  {
   "cell_type": "code",
   "execution_count": 1,
   "id": "27baf2a3",
   "metadata": {},
   "outputs": [],
   "source": [
    "import numpy as np\n",
    "import pandas as pd\n",
    "import matplotlib.pyplot as plt\n",
    "import pickle"
   ]
  },
  {
   "cell_type": "code",
   "execution_count": 2,
   "id": "09a6b9d4",
   "metadata": {},
   "outputs": [],
   "source": [
    "trainDF = pd.read_csv('E:/Sem5/ML-Final-Project/Dataset/train.csv', low_memory=False)\n",
    "valDF = pd.read_csv('E:/Sem5/ML-Final-Project/Dataset/val.csv', low_memory=False)\n",
    "testDF = pd.read_csv('E:/Sem5/ML-Final-Project/Dataset/test.csv', low_memory=False)"
   ]
  },
  {
   "cell_type": "code",
   "execution_count": 3,
   "id": "8a303d5d",
   "metadata": {},
   "outputs": [],
   "source": [
    "train_X = trainDF.drop(columns=['data_IMDBscore'])\n",
    "train_Y = trainDF['data_IMDBscore']"
   ]
  },
  {
   "cell_type": "code",
   "execution_count": 4,
   "id": "dbc30991",
   "metadata": {},
   "outputs": [],
   "source": [
    "val_X = valDF.drop(columns=['data_IMDBscore'])\n",
    "val_Y = valDF['data_IMDBscore']"
   ]
  },
  {
   "cell_type": "code",
   "execution_count": 5,
   "id": "8ae095a4",
   "metadata": {},
   "outputs": [],
   "source": [
    "test_X = testDF.drop(columns=['data_IMDBscore'])\n",
    "test_Y = testDF['data_IMDBscore']"
   ]
  },
  {
   "cell_type": "markdown",
   "id": "d0617d73",
   "metadata": {},
   "source": [
    "# Train Model"
   ]
  },
  {
   "cell_type": "code",
   "execution_count": 6,
   "id": "4bfe1fdd",
   "metadata": {},
   "outputs": [],
   "source": [
    "from sklearn.linear_model import Ridge\n",
    "from sklearn.model_selection import GridSearchCV\n",
    "from sklearn.metrics import mean_squared_error"
   ]
  },
  {
   "cell_type": "markdown",
   "id": "e41f2da8",
   "metadata": {},
   "source": [
    "### Grid Search"
   ]
  },
  {
   "cell_type": "code",
   "execution_count": 7,
   "id": "e83bcd3b",
   "metadata": {},
   "outputs": [],
   "source": [
    "list_of_alphas=[1e-4, 1e-3, 1e-2, 1e-1, 1, 10, 20, 30, 40, 50, 60, 70, 80, 90, 100, 110, 120, 130, 140, 150]\n",
    "gridSearch = GridSearchCV(estimator=Ridge(fit_intercept=True, copy_X=True, random_state=0), param_grid={'alpha':list_of_alphas}, n_jobs=-1)"
   ]
  },
  {
   "cell_type": "code",
   "execution_count": 8,
   "id": "705c78ee",
   "metadata": {},
   "outputs": [
    {
     "data": {
      "text/plain": [
       "GridSearchCV(estimator=Ridge(random_state=0), n_jobs=-1,\n",
       "             param_grid={'alpha': [0.0001, 0.001, 0.01, 0.1, 1, 10, 20, 30, 40,\n",
       "                                   50, 60, 70, 80, 90, 100, 110, 120, 130, 140,\n",
       "                                   150]})"
      ]
     },
     "execution_count": 8,
     "metadata": {},
     "output_type": "execute_result"
    }
   ],
   "source": [
    "gridSearch.fit(val_X,val_Y)"
   ]
  },
  {
   "cell_type": "code",
   "execution_count": 9,
   "id": "1c665e86",
   "metadata": {},
   "outputs": [
    {
     "name": "stdout",
     "output_type": "stream",
     "text": [
      "60\n"
     ]
    }
   ],
   "source": [
    "print(gridSearch.best_estimator_.alpha)"
   ]
  },
  {
   "cell_type": "code",
   "execution_count": 10,
   "id": "323f5e6c",
   "metadata": {},
   "outputs": [
    {
     "data": {
      "image/png": "[encoded data removed]",
      "text/plain": [
       "<Figure size 432x288 with 1 Axes>"
      ]
     },
     "metadata": {
      "needs_background": "light"
     },
     "output_type": "display_data"
    }
   ],
   "source": [
    "plt.scatter(list_of_alphas[6:],gridSearch.cv_results_['mean_test_score'][6:])\n",
    "plt.xlabel('list_of_alphas')\n",
    "plt.ylabel('mean_test_score')\n",
    "plt.show()"
   ]
  },
  {
   "cell_type": "markdown",
   "id": "9faf5ced",
   "metadata": {},
   "source": [
    "### Refined Grid Search"
   ]
  },
  {
   "cell_type": "code",
   "execution_count": 11,
   "id": "c557c554",
   "metadata": {},
   "outputs": [],
   "source": [
    "refined_list_of_alphas = [55,56,57,58,59,60,61,62,63,64,65]\n",
    "refinedGridSearch = GridSearchCV(estimator=Ridge(fit_intercept=True, copy_X=True, random_state=0), param_grid={'alpha':refined_list_of_alphas}, n_jobs=-1)"
   ]
  },
  {
   "cell_type": "code",
   "execution_count": 12,
   "id": "9c22ee9e",
   "metadata": {},
   "outputs": [
    {
     "data": {
      "text/plain": [
       "GridSearchCV(estimator=Ridge(random_state=0), n_jobs=-1,\n",
       "             param_grid={'alpha': [55, 56, 57, 58, 59, 60, 61, 62, 63, 64, 65]})"
      ]
     },
     "execution_count": 12,
     "metadata": {},
     "output_type": "execute_result"
    }
   ],
   "source": [
    "refinedGridSearch.fit(val_X,val_Y)"
   ]
  },
  {
   "cell_type": "code",
   "execution_count": 13,
   "id": "7a9cd729",
   "metadata": {},
   "outputs": [
    {
     "name": "stdout",
     "output_type": "stream",
     "text": [
      "57\n"
     ]
    }
   ],
   "source": [
    "print(refinedGridSearch.best_estimator_.alpha)"
   ]
  },
  {
   "cell_type": "code",
   "execution_count": 14,
   "id": "2630c40e",
   "metadata": {},
   "outputs": [
    {
     "data": {
      "image/png": "[encoded data removed]",
      "text/plain": [
       "<Figure size 432x288 with 1 Axes>"
      ]
     },
     "metadata": {
      "needs_background": "light"
     },
     "output_type": "display_data"
    }
   ],
   "source": [
    "plt.scatter(refined_list_of_alphas,refinedGridSearch.cv_results_['mean_test_score'])\n",
    "plt.xlabel('refined_list_of_alphas')\n",
    "plt.ylabel('mean_test_score')\n",
    "plt.show()"
   ]
  },
  {
   "cell_type": "markdown",
   "id": "8c039441",
   "metadata": {},
   "source": [
    "### Best Model Training and Testing"
   ]
  },
  {
   "cell_type": "code",
   "execution_count": 15,
   "id": "cd762aa9",
   "metadata": {},
   "outputs": [],
   "source": [
    "ridge_model = Ridge(alpha=57.0, fit_intercept=True, copy_X=True, random_state=0)"
   ]
  },
  {
   "cell_type": "code",
   "execution_count": 16,
   "id": "5d558cdf",
   "metadata": {},
   "outputs": [
    {
     "data": {
      "text/plain": [
       "Ridge(alpha=57.0, random_state=0)"
      ]
     },
     "execution_count": 16,
     "metadata": {},
     "output_type": "execute_result"
    }
   ],
   "source": [
    "ridge_model.fit(train_X.append(val_X, ignore_index=True), train_Y.append(val_Y, ignore_index=True))"
   ]
  },
  {
   "cell_type": "code",
   "execution_count": 17,
   "id": "1c832882",
   "metadata": {},
   "outputs": [
    {
     "name": "stdout",
     "output_type": "stream",
     "text": [
      "Train R^2:  0.5139998148174934\n",
      "Train MSE:  0.582274561192869\n",
      "Test R^2:  0.4321962845281102\n",
      "Test MSE:  0.6720919195660712\n"
     ]
    }
   ],
   "source": [
    "print('Train R^2: ', ridge_model.score(train_X.append(val_X, ignore_index=True), train_Y.append(val_Y, ignore_index=True)))\n",
    "print('Train MSE: ', mean_squared_error(ridge_model.predict(train_X.append(val_X, ignore_index=True)), train_Y.append(val_Y, ignore_index=True)))\n",
    "\n",
    "print('Test R^2: ', ridge_model.score(test_X, test_Y))\n",
    "print('Test MSE: ', mean_squared_error(ridge_model.predict(test_X), test_Y))"
   ]
  },
  {
   "cell_type": "markdown",
   "id": "dece9ff9",
   "metadata": {},
   "source": [
    "# Saving Model"
   ]
  },
  {
   "cell_type": "code",
   "execution_count": 18,
   "id": "6e2db75d",
   "metadata": {},
   "outputs": [],
   "source": [
    "# filename = 'Linear_Regression_Ridge.sav'\n",
    "# pickle.dump(ridge_model, open(filename, 'wb'))"
   ]
  }
 ],
 "metadata": {
  "kernelspec": {
   "display_name": "Python 3 (ipykernel)",
   "language": "python",
   "name": "python3"
  },
  "language_info": {
   "codemirror_mode": {
    "name": "ipython",
    "version": 3
   },
   "file_extension": ".py",
   "mimetype": "text/x-python",
   "name": "python",
   "nbconvert_exporter": "python",
   "pygments_lexer": "ipython3",
   "version": "3.7.4"
  }
 },
 "nbformat": 4,
 "nbformat_minor": 5
}
