{
 "cells": [
  {
   "cell_type": "code",
   "execution_count": 1,
   "id": "efb2f6d2",
   "metadata": {},
   "outputs": [],
   "source": [
    "import matplotlib.pyplot as plt\n",
    "import pandas as pd\n",
    "import numpy as np\n",
    "import math\n",
    "import itertools\n",
    "from matplotlib.pyplot import figure"
   ]
  },
  {
   "cell_type": "code",
   "execution_count": 2,
   "id": "1e2604b3",
   "metadata": {},
   "outputs": [],
   "source": [
    "train = pd.read_csv('train.csv')\n",
    "val=pd.read_csv('val.csv')"
   ]
  },
  {
   "cell_type": "code",
   "execution_count": 3,
   "id": "9061b4c7",
   "metadata": {},
   "outputs": [],
   "source": [
    "df=pd.concat([train, val], axis=0)"
   ]
  },
  {
   "cell_type": "code",
   "execution_count": 4,
   "id": "7b2a6d3b",
   "metadata": {},
   "outputs": [],
   "source": [
    "test = pd.read_csv('test.csv')"
   ]
  },
  {
   "cell_type": "code",
   "execution_count": 5,
   "id": "93f44cff",
   "metadata": {},
   "outputs": [],
   "source": [
    "y_tot=df['data_IMDBscore']\n",
    "y_train=train['data_IMDBscore']\n",
    "y_test=test['data_IMDBscore']"
   ]
  },
  {
   "cell_type": "code",
   "execution_count": 6,
   "id": "685f4dbe",
   "metadata": {},
   "outputs": [],
   "source": [
    "df.drop('data_IMDBscore', inplace=True, axis=1)\n",
    "test.drop('data_IMDBscore', inplace=True, axis=1)\n",
    "train.drop('data_IMDBscore', inplace=True, axis=1)"
   ]
  },
  {
   "cell_type": "code",
   "execution_count": 7,
   "id": "efd21351",
   "metadata": {},
   "outputs": [],
   "source": [
    "from sklearn.svm import LinearSVR"
   ]
  },
  {
   "cell_type": "code",
   "execution_count": 8,
   "id": "310d9ae7",
   "metadata": {},
   "outputs": [],
   "source": [
    "eps = 5\n",
    "svr = LinearSVR(epsilon=eps, C=0.01, fit_intercept=True,verbose=1)"
   ]
  },
  {
   "cell_type": "code",
   "execution_count": 9,
   "id": "0d734200",
   "metadata": {},
   "outputs": [
    {
     "name": "stdout",
     "output_type": "stream",
     "text": [
      "[LibLinear]"
     ]
    },
    {
     "data": {
      "text/plain": [
       "LinearSVR(C=0.01, epsilon=5, verbose=1)"
      ]
     },
     "execution_count": 9,
     "metadata": {},
     "output_type": "execute_result"
    }
   ],
   "source": [
    "svr.fit(train,y_train)"
   ]
  },
  {
   "cell_type": "code",
   "execution_count": 10,
   "id": "78bd97d5",
   "metadata": {},
   "outputs": [],
   "source": [
    "def svr_results(y_test, X_test, fitted_svr_model):\n",
    "    \n",
    "    print(\"C: {}\".format(fitted_svr_model.C))\n",
    "    print(\"Epsilon: {}\".format(fitted_svr_model.epsilon))\n",
    "    \n",
    "    print(\"Intercept: {:,.3f}\".format(fitted_svr_model.intercept_[0]))\n",
    "    print(\"Coefficient: {:,.3f}\".format(fitted_svr_model.coef_[0]))\n",
    "    \n",
    "    mae = mean_squared_error(y_test, fitted_svr_model.predict(X_test))\n",
    "    print(\"MSE = \",mae)\n",
    "    print(\"RMSE= \",mae**0.5)\n",
    "    \n",
    "    perc_within_eps = 100*np.sum(y_test - fitted_svr_model.predict(X_test) < eps) / len(y_test)\n",
    "    print(\"Percentage within Epsilon = {:,.2f}%\".format(perc_within_eps))\n",
    "   "
   ]
  },
  {
   "cell_type": "code",
   "execution_count": 11,
   "id": "7d5517dd",
   "metadata": {},
   "outputs": [
    {
     "name": "stdout",
     "output_type": "stream",
     "text": [
      "C: 0.01\n",
      "Epsilon: 5\n",
      "Intercept: 2.067\n",
      "Coefficient: 0.065\n",
      "MSE =  11.444897084288295\n",
      "RMSE=  3.383030754262854\n",
      "Percentage within Epsilon = 98.38%\n"
     ]
    }
   ],
   "source": [
    "from sklearn.metrics import mean_squared_error\n",
    "svr_results(y_test, test, svr)"
   ]
  },
  {
   "cell_type": "code",
   "execution_count": 12,
   "id": "6da39912",
   "metadata": {},
   "outputs": [
    {
     "name": "stdout",
     "output_type": "stream",
     "text": [
      "[LibLinear]C: 1\n",
      "Epsilon: 5\n",
      "Intercept: 2.313\n",
      "Coefficient: 0.121\n",
      "MSE =  10.257289553040286\n",
      "RMSE=  3.2027003533019265\n",
      "Percentage within Epsilon = 99.48%\n"
     ]
    }
   ],
   "source": [
    "svr = LinearSVR(epsilon=eps, C=1, fit_intercept=True,verbose=1)\n",
    "svr.fit(train,y_train)\n",
    "svr_results(y_test, test, svr)"
   ]
  },
  {
   "cell_type": "code",
   "execution_count": 13,
   "id": "97e99593",
   "metadata": {},
   "outputs": [],
   "source": [
    "from sklearn.model_selection import GridSearchCV"
   ]
  },
  {
   "cell_type": "code",
   "execution_count": 14,
   "id": "94856346",
   "metadata": {},
   "outputs": [],
   "source": [
    "\n",
    "grid = {\n",
    "    'C': np.linspace(0.01, 10),\n",
    "    'epsilon': np.linspace(0.01, 10)\n",
    "}\n",
    "    \n",
    "svr_gridsearch =  LinearSVR(fit_intercept=True, max_iter=1000)"
   ]
  },
  {
   "cell_type": "code",
   "execution_count": 15,
   "id": "f72e9563",
   "metadata": {},
   "outputs": [],
   "source": [
    "grid_svr = GridSearchCV(svr_gridsearch, grid, scoring='neg_mean_squared_error', cv=2,n_jobs=-1,verbose=1)"
   ]
  },
  {
   "cell_type": "code",
   "execution_count": 16,
   "id": "68a0f0b8",
   "metadata": {},
   "outputs": [
    {
     "name": "stdout",
     "output_type": "stream",
     "text": [
      "Fitting 2 folds for each of 2500 candidates, totalling 5000 fits\n"
     ]
    },
    {
     "data": {
      "text/plain": [
       "GridSearchCV(cv=2, estimator=LinearSVR(), n_jobs=-1,\n",
       "             param_grid={'C': array([ 0.01      ,  0.21387755,  0.4177551 ,  0.62163265,  0.8255102 ,\n",
       "        1.02938776,  1.23326531,  1.43714286,  1.64102041,  1.84489796,\n",
       "        2.04877551,  2.25265306,  2.45653061,  2.66040816,  2.86428571,\n",
       "        3.06816327,  3.27204082,  3.47591837,  3.67979592,  3.88367347,\n",
       "        4.08755102,  4.29142857,  4.49530612,  4.69918367,  4.90306122,\n",
       "        5.10693878...\n",
       "        4.08755102,  4.29142857,  4.49530612,  4.69918367,  4.90306122,\n",
       "        5.10693878,  5.31081633,  5.51469388,  5.71857143,  5.92244898,\n",
       "        6.12632653,  6.33020408,  6.53408163,  6.73795918,  6.94183673,\n",
       "        7.14571429,  7.34959184,  7.55346939,  7.75734694,  7.96122449,\n",
       "        8.16510204,  8.36897959,  8.57285714,  8.77673469,  8.98061224,\n",
       "        9.1844898 ,  9.38836735,  9.5922449 ,  9.79612245, 10.        ])},\n",
       "             scoring='neg_mean_squared_error', verbose=1)"
      ]
     },
     "execution_count": 16,
     "metadata": {},
     "output_type": "execute_result"
    }
   ],
   "source": [
    "y_val=val['data_IMDBscore']\n",
    "val.drop('data_IMDBscore', inplace=True, axis=1)\n",
    "grid_svr.fit(val, y_val)"
   ]
  },
  {
   "cell_type": "code",
   "execution_count": 17,
   "id": "6285d2ae",
   "metadata": {},
   "outputs": [
    {
     "name": "stdout",
     "output_type": "stream",
     "text": [
      "LinearSVR(C=0.21387755102040817, epsilon=1.029387755102041)\n",
      "C: 0.21387755102040817\n",
      "Epsilon: 1.029387755102041\n",
      "Intercept: 5.850\n",
      "Coefficient: 0.137\n",
      "MSE =  0.7821028580968622\n",
      "RMSE=  0.884365794282469\n",
      "Percentage within Epsilon = 100.00%\n"
     ]
    }
   ],
   "source": [
    "best_grid_svr_mae = grid_svr.best_estimator_\n",
    "print(grid_svr.best_estimator_)\n",
    "best_grid_svr_mae.fit(train, y_train)\n",
    "svr_results(y_test, test, best_grid_svr_mae)"
   ]
  },
  {
   "cell_type": "code",
   "execution_count": 18,
   "id": "e8fac024",
   "metadata": {},
   "outputs": [
    {
     "name": "stdout",
     "output_type": "stream",
     "text": [
      "C: 0.21387755102040817\n",
      "Epsilon: 1.029387755102041\n",
      "Intercept: 5.850\n",
      "Coefficient: 0.137\n",
      "MSE =  0.5784278890005977\n",
      "RMSE=  0.7605444687857493\n",
      "Percentage within Epsilon = 100.00%\n"
     ]
    }
   ],
   "source": [
    "svr_results(y_train, train, best_grid_svr_mae)"
   ]
  },
  {
   "cell_type": "code",
   "execution_count": 20,
   "id": "45010f8c",
   "metadata": {},
   "outputs": [
    {
     "name": "stdout",
     "output_type": "stream",
     "text": [
      "C: 0.21387755102040817\n",
      "Epsilon: 1.029387755102041\n",
      "Intercept: 5.850\n",
      "Coefficient: 0.137\n",
      "MSE =  0.7981994694230311\n",
      "RMSE=  0.8934200968318494\n",
      "Percentage within Epsilon = 100.00%\n"
     ]
    }
   ],
   "source": [
    "svr_results(y_val, val, best_grid_svr_mae)"
   ]
  },
  {
   "cell_type": "code",
   "execution_count": null,
   "id": "0f5e73e2",
   "metadata": {},
   "outputs": [],
   "source": []
  },
  {
   "cell_type": "code",
   "execution_count": null,
   "id": "d4b03b04",
   "metadata": {},
   "outputs": [],
   "source": []
  },
  {
   "cell_type": "code",
   "execution_count": null,
   "id": "29f2e4e1",
   "metadata": {},
   "outputs": [],
   "source": []
  }
 ],
 "metadata": {
  "kernelspec": {
   "display_name": "Python 3",
   "language": "python",
   "name": "python3"
  },
  "language_info": {
   "codemirror_mode": {
    "name": "ipython",
    "version": 3
   },
   "file_extension": ".py",
   "mimetype": "text/x-python",
   "name": "python",
   "nbconvert_exporter": "python",
   "pygments_lexer": "ipython3",
   "version": "3.8.8"
  }
 },
 "nbformat": 4,
 "nbformat_minor": 5
}
