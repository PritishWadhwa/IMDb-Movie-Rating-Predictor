{
  "nbformat": 4,
  "nbformat_minor": 5,
  "metadata": {
    "kernelspec": {
      "display_name": "Python 3",
      "language": "python",
      "name": "python3"
    },
    "language_info": {
      "codemirror_mode": {
        "name": "ipython",
        "version": 3
      },
      "file_extension": ".py",
      "mimetype": "text/x-python",
      "name": "python",
      "nbconvert_exporter": "python",
      "pygments_lexer": "ipython3",
      "version": "3.8.8"
    },
    "colab": {
      "name": "SVR.ipynb",
      "provenance": []
    }
  },
  "cells": [
    {
      "cell_type": "code",
      "metadata": {
        "id": "efb2f6d2"
      },
      "source": [
        "import matplotlib.pyplot as plt\n",
        "import pandas as pd\n",
        "import numpy as np\n",
        "import math\n",
        "import itertools\n",
        "from matplotlib.pyplot import figure\n",
        "import pickle"
      ],
      "id": "efb2f6d2",
      "execution_count": 1,
      "outputs": []
    },
    {
      "cell_type": "code",
      "metadata": {
        "colab": {
          "base_uri": "https://localhost:8080/"
        },
        "id": "D_HlQ-17M9I-",
        "outputId": "677e55af-05e7-4a32-c6ca-d386d6a17a35"
      },
      "source": [
        "from google.colab import drive\n",
        "drive.mount('gdrive')\n",
        "%cd /content/gdrive/"
      ],
      "id": "D_HlQ-17M9I-",
      "execution_count": 2,
      "outputs": [
        {
          "output_type": "stream",
          "name": "stdout",
          "text": [
            "Drive already mounted at gdrive; to attempt to forcibly remount, call drive.mount(\"gdrive\", force_remount=True).\n",
            "/content/gdrive\n"
          ]
        }
      ]
    },
    {
      "cell_type": "code",
      "metadata": {
        "colab": {
          "base_uri": "https://localhost:8080/"
        },
        "id": "U-eZPQ56NBbo",
        "outputId": "98d0c213-f1cb-493d-daa1-5f5db40e3239"
      },
      "source": [
        "cd MyDrive/Dataset"
      ],
      "id": "U-eZPQ56NBbo",
      "execution_count": 3,
      "outputs": [
        {
          "output_type": "stream",
          "name": "stdout",
          "text": [
            "/content/gdrive/MyDrive/Dataset\n"
          ]
        }
      ]
    },
    {
      "cell_type": "code",
      "metadata": {
        "id": "1e2604b3"
      },
      "source": [
        "train = pd.read_csv('train.csv')\n",
        "val=pd.read_csv('val.csv')"
      ],
      "id": "1e2604b3",
      "execution_count": 4,
      "outputs": []
    },
    {
      "cell_type": "code",
      "metadata": {
        "id": "9061b4c7"
      },
      "source": [
        "df=pd.concat([train, val], axis=0)"
      ],
      "id": "9061b4c7",
      "execution_count": 5,
      "outputs": []
    },
    {
      "cell_type": "code",
      "metadata": {
        "id": "7b2a6d3b"
      },
      "source": [
        "test = pd.read_csv('test.csv')"
      ],
      "id": "7b2a6d3b",
      "execution_count": 6,
      "outputs": []
    },
    {
      "cell_type": "code",
      "metadata": {
        "id": "93f44cff"
      },
      "source": [
        "y_tot=df['data_IMDBscore']\n",
        "y_train=train['data_IMDBscore']\n",
        "y_test=test['data_IMDBscore']"
      ],
      "id": "93f44cff",
      "execution_count": 7,
      "outputs": []
    },
    {
      "cell_type": "code",
      "metadata": {
        "id": "685f4dbe"
      },
      "source": [
        "df.drop('data_IMDBscore', inplace=True, axis=1)\n",
        "test.drop('data_IMDBscore', inplace=True, axis=1)\n",
        "train.drop('data_IMDBscore', inplace=True, axis=1)"
      ],
      "id": "685f4dbe",
      "execution_count": 8,
      "outputs": []
    },
    {
      "cell_type": "code",
      "metadata": {
        "id": "efd21351"
      },
      "source": [
        "from sklearn.svm import LinearSVR"
      ],
      "id": "efd21351",
      "execution_count": 9,
      "outputs": []
    },
    {
      "cell_type": "code",
      "metadata": {
        "id": "310d9ae7"
      },
      "source": [
        "eps = 5\n",
        "svr = LinearSVR(epsilon=eps, C=0.01, fit_intercept=True,verbose=1)"
      ],
      "id": "310d9ae7",
      "execution_count": 10,
      "outputs": []
    },
    {
      "cell_type": "code",
      "metadata": {
        "colab": {
          "base_uri": "https://localhost:8080/"
        },
        "id": "0d734200",
        "outputId": "1349c873-1ad0-4aac-f01d-8a4823a23867"
      },
      "source": [
        "svr.fit(train,y_train)"
      ],
      "id": "0d734200",
      "execution_count": 11,
      "outputs": [
        {
          "output_type": "stream",
          "name": "stdout",
          "text": [
            "[LibLinear]"
          ]
        },
        {
          "output_type": "execute_result",
          "data": {
            "text/plain": [
              "LinearSVR(C=0.01, epsilon=5, verbose=1)"
            ]
          },
          "metadata": {},
          "execution_count": 11
        }
      ]
    },
    {
      "cell_type": "code",
      "metadata": {
        "id": "78bd97d5"
      },
      "source": [
        "def svr_results(y_test, X_test, fitted_svr_model):\n",
        "    \n",
        "    print(\"C: {}\".format(fitted_svr_model.C))\n",
        "    print(\"Epsilon: {}\".format(fitted_svr_model.epsilon))\n",
        "    \n",
        "    print(\"Intercept: {:,.3f}\".format(fitted_svr_model.intercept_[0]))\n",
        "    print(\"Coefficient: {:,.3f}\".format(fitted_svr_model.coef_[0]))\n",
        "    \n",
        "    mae = mean_squared_error(y_test, fitted_svr_model.predict(X_test))\n",
        "    print(\"MSE = \",mae)\n",
        "    print(\"RMSE= \",mae**0.5)\n",
        "    \n",
        "    perc_within_eps = 100*np.sum(y_test - fitted_svr_model.predict(X_test) < eps) / len(y_test)\n",
        "    print(\"Percentage within Epsilon = {:,.2f}%\".format(perc_within_eps))\n",
        "   "
      ],
      "id": "78bd97d5",
      "execution_count": 12,
      "outputs": []
    },
    {
      "cell_type": "code",
      "metadata": {
        "colab": {
          "base_uri": "https://localhost:8080/"
        },
        "id": "7d5517dd",
        "outputId": "da21c0d4-bc40-41f2-d474-d947fe5fb193"
      },
      "source": [
        "from sklearn.metrics import mean_squared_error\n",
        "svr_results(y_test, test, svr)"
      ],
      "id": "7d5517dd",
      "execution_count": 13,
      "outputs": [
        {
          "output_type": "stream",
          "name": "stdout",
          "text": [
            "C: 0.01\n",
            "Epsilon: 5\n",
            "Intercept: 2.067\n",
            "Coefficient: 0.065\n",
            "MSE =  11.44478448386932\n",
            "RMSE=  3.3830141122775883\n",
            "Percentage within Epsilon = 98.38%\n"
          ]
        }
      ]
    },
    {
      "cell_type": "code",
      "metadata": {
        "colab": {
          "base_uri": "https://localhost:8080/"
        },
        "id": "6da39912",
        "outputId": "0e47202a-fb12-4879-bf10-60f152646757"
      },
      "source": [
        "svr = LinearSVR(epsilon=eps, C=1, fit_intercept=True,verbose=1)\n",
        "svr.fit(train,y_train)\n",
        "svr_results(y_test, test, svr)"
      ],
      "id": "6da39912",
      "execution_count": 14,
      "outputs": [
        {
          "output_type": "stream",
          "name": "stdout",
          "text": [
            "[LibLinear]C: 1\n",
            "Epsilon: 5\n",
            "Intercept: 2.313\n",
            "Coefficient: 0.121\n",
            "MSE =  10.25743401805116\n",
            "RMSE=  3.2027229068483525\n",
            "Percentage within Epsilon = 99.48%\n"
          ]
        }
      ]
    },
    {
      "cell_type": "code",
      "metadata": {
        "id": "97e99593"
      },
      "source": [
        "from sklearn.model_selection import GridSearchCV"
      ],
      "id": "97e99593",
      "execution_count": 15,
      "outputs": []
    },
    {
      "cell_type": "code",
      "metadata": {
        "id": "94856346"
      },
      "source": [
        "\n",
        "grid = {\n",
        "    'C': np.linspace(0.01, 10),\n",
        "    'epsilon': np.linspace(0.01, 10)\n",
        "}\n",
        "    \n",
        "svr_gridsearch =  LinearSVR(fit_intercept=True, max_iter=1000)"
      ],
      "id": "94856346",
      "execution_count": 16,
      "outputs": []
    },
    {
      "cell_type": "code",
      "metadata": {
        "id": "f72e9563"
      },
      "source": [
        "grid_svr = GridSearchCV(svr_gridsearch, grid, scoring='neg_mean_squared_error', cv=2,n_jobs=-1,verbose=1)"
      ],
      "id": "f72e9563",
      "execution_count": 17,
      "outputs": []
    },
    {
      "cell_type": "code",
      "metadata": {
        "colab": {
          "base_uri": "https://localhost:8080/"
        },
        "id": "68a0f0b8",
        "outputId": "25be2fb1-8a82-4997-b0df-bf6157522250"
      },
      "source": [
        "y_val=val['data_IMDBscore']\n",
        "val.drop('data_IMDBscore', inplace=True, axis=1)\n",
        "grid_svr.fit(val, y_val)"
      ],
      "id": "68a0f0b8",
      "execution_count": 18,
      "outputs": [
        {
          "output_type": "stream",
          "name": "stdout",
          "text": [
            "Fitting 2 folds for each of 2500 candidates, totalling 5000 fits\n"
          ]
        },
        {
          "output_type": "execute_result",
          "data": {
            "text/plain": [
              "GridSearchCV(cv=2, estimator=LinearSVR(), n_jobs=-1,\n",
              "             param_grid={'C': array([ 0.01      ,  0.21387755,  0.4177551 ,  0.62163265,  0.8255102 ,\n",
              "        1.02938776,  1.23326531,  1.43714286,  1.64102041,  1.84489796,\n",
              "        2.04877551,  2.25265306,  2.45653061,  2.66040816,  2.86428571,\n",
              "        3.06816327,  3.27204082,  3.47591837,  3.67979592,  3.88367347,\n",
              "        4.08755102,  4.29142857,  4.49530612,  4.69918367,  4.90306122,\n",
              "        5.10693878...\n",
              "        4.08755102,  4.29142857,  4.49530612,  4.69918367,  4.90306122,\n",
              "        5.10693878,  5.31081633,  5.51469388,  5.71857143,  5.92244898,\n",
              "        6.12632653,  6.33020408,  6.53408163,  6.73795918,  6.94183673,\n",
              "        7.14571429,  7.34959184,  7.55346939,  7.75734694,  7.96122449,\n",
              "        8.16510204,  8.36897959,  8.57285714,  8.77673469,  8.98061224,\n",
              "        9.1844898 ,  9.38836735,  9.5922449 ,  9.79612245, 10.        ])},\n",
              "             scoring='neg_mean_squared_error', verbose=1)"
            ]
          },
          "metadata": {},
          "execution_count": 18
        }
      ]
    },
    {
      "cell_type": "code",
      "metadata": {
        "colab": {
          "base_uri": "https://localhost:8080/"
        },
        "id": "6285d2ae",
        "outputId": "030f6811-8e04-49a0-c625-38474b8b3c4b"
      },
      "source": [
        "best_grid_svr_mae = grid_svr.best_estimator_\n",
        "print(grid_svr.best_estimator_)\n",
        "best_grid_svr_mae.fit(train, y_train)\n",
        "filename = 'svr.sav'\n",
        "pickle.dump(best_grid_svr_mae, open(filename, 'wb'))\n",
        "svr_results(y_test, test, best_grid_svr_mae)"
      ],
      "id": "6285d2ae",
      "execution_count": 20,
      "outputs": [
        {
          "output_type": "stream",
          "name": "stdout",
          "text": [
            "LinearSVR(C=0.21387755102040817, epsilon=1.029387755102041)\n",
            "C: 0.21387755102040817\n",
            "Epsilon: 1.029387755102041\n",
            "Intercept: 5.850\n",
            "Coefficient: 0.137\n",
            "MSE =  0.7821185915197633\n",
            "RMSE=  0.8843746895517551\n",
            "Percentage within Epsilon = 100.00%\n"
          ]
        }
      ]
    },
    {
      "cell_type": "code",
      "metadata": {
        "colab": {
          "base_uri": "https://localhost:8080/"
        },
        "id": "e8fac024",
        "outputId": "a44bc4a9-d343-4236-c977-59796b940af2"
      },
      "source": [
        "svr_results(y_train, train, best_grid_svr_mae)"
      ],
      "id": "e8fac024",
      "execution_count": 21,
      "outputs": [
        {
          "output_type": "stream",
          "name": "stdout",
          "text": [
            "C: 0.21387755102040817\n",
            "Epsilon: 1.029387755102041\n",
            "Intercept: 5.850\n",
            "Coefficient: 0.137\n",
            "MSE =  0.5784351631536886\n",
            "RMSE=  0.7605492509717491\n",
            "Percentage within Epsilon = 100.00%\n"
          ]
        }
      ]
    },
    {
      "cell_type": "code",
      "metadata": {
        "colab": {
          "base_uri": "https://localhost:8080/"
        },
        "id": "45010f8c",
        "outputId": "d83425b1-8656-4f47-a39c-6f87cdc4d021"
      },
      "source": [
        "svr_results(y_val, val, best_grid_svr_mae)"
      ],
      "id": "45010f8c",
      "execution_count": 22,
      "outputs": [
        {
          "output_type": "stream",
          "name": "stdout",
          "text": [
            "C: 0.21387755102040817\n",
            "Epsilon: 1.029387755102041\n",
            "Intercept: 5.850\n",
            "Coefficient: 0.137\n",
            "MSE =  0.798202146814369\n",
            "RMSE=  0.8934215952249918\n",
            "Percentage within Epsilon = 100.00%\n"
          ]
        }
      ]
    },
    {
      "cell_type": "code",
      "metadata": {
        "id": "0f5e73e2"
      },
      "source": [
        ""
      ],
      "id": "0f5e73e2",
      "execution_count": null,
      "outputs": []
    },
    {
      "cell_type": "code",
      "metadata": {
        "id": "d4b03b04"
      },
      "source": [
        ""
      ],
      "id": "d4b03b04",
      "execution_count": null,
      "outputs": []
    },
    {
      "cell_type": "code",
      "metadata": {
        "id": "29f2e4e1"
      },
      "source": [
        ""
      ],
      "id": "29f2e4e1",
      "execution_count": null,
      "outputs": []
    }
  ]
}