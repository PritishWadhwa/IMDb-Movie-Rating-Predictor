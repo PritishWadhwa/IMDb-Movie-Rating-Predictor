{
 "cells": [
  {
   "cell_type": "code",
   "execution_count": 1,
   "id": "65148aa6",
   "metadata": {},
   "outputs": [],
   "source": [
    "import numpy as np\n",
    "import pandas as pd\n",
    "import matplotlib.pyplot as plt\n",
    "import pickle"
   ]
  },
  {
   "cell_type": "code",
   "execution_count": 2,
   "id": "2023cb47",
   "metadata": {},
   "outputs": [],
   "source": [
    "trainDF = pd.read_csv('E:/Sem5/ML-Final-Project/Dataset/train.csv', low_memory=False)\n",
    "valDF = pd.read_csv('E:/Sem5/ML-Final-Project/Dataset/val.csv', low_memory=False)\n",
    "testDF = pd.read_csv('E:/Sem5/ML-Final-Project/Dataset/test.csv', low_memory=False)"
   ]
  },
  {
   "cell_type": "code",
   "execution_count": 3,
   "id": "beb6f9b4",
   "metadata": {},
   "outputs": [],
   "source": [
    "trainDF = trainDF.append(valDF, ignore_index=True)"
   ]
  },
  {
   "cell_type": "code",
   "execution_count": 4,
   "id": "e774fc3c",
   "metadata": {},
   "outputs": [],
   "source": [
    "train_X = trainDF.drop(columns=['data_IMDBscore'])\n",
    "train_Y = trainDF['data_IMDBscore']"
   ]
  },
  {
   "cell_type": "code",
   "execution_count": 5,
   "id": "687a841e",
   "metadata": {},
   "outputs": [],
   "source": [
    "#val_X = valDF.drop(columns=['data_IMDBscore'])\n",
    "#val_Y = valDF['data_IMDBscore']"
   ]
  },
  {
   "cell_type": "code",
   "execution_count": 6,
   "id": "2a01c14f",
   "metadata": {},
   "outputs": [],
   "source": [
    "test_X = testDF.drop(columns=['data_IMDBscore'])\n",
    "test_Y = testDF['data_IMDBscore']"
   ]
  },
  {
   "cell_type": "code",
   "execution_count": 7,
   "id": "c3714e45",
   "metadata": {},
   "outputs": [],
   "source": [
    "filename = 'Linear_Regression.sav'\n",
    "loaded_model = pickle.load(open(filename, 'rb'))"
   ]
  },
  {
   "cell_type": "code",
   "execution_count": 8,
   "id": "e644c29b",
   "metadata": {},
   "outputs": [],
   "source": [
    "from sklearn.metrics import mean_squared_error"
   ]
  },
  {
   "cell_type": "code",
   "execution_count": 9,
   "id": "fdfb1771",
   "metadata": {},
   "outputs": [
    {
     "name": "stdout",
     "output_type": "stream",
     "text": [
      "Train R^2:  0.5760598057371988\n",
      "Train MSE:  0.5079207747496913\n",
      "Test R^2:  0.38136311013726065\n",
      "Test MSE:  0.7322615958521616\n"
     ]
    }
   ],
   "source": [
    "print('Train R^2: ', loaded_model.score(train_X, train_Y))\n",
    "print('Train MSE: ', mean_squared_error(loaded_model.predict(train_X), train_Y))\n",
    "\n",
    "print('Test R^2: ', loaded_model.score(test_X, test_Y))\n",
    "print('Test MSE: ', mean_squared_error(loaded_model.predict(test_X), test_Y))"
   ]
  }
 ],
 "metadata": {
  "kernelspec": {
   "display_name": "Python 3 (ipykernel)",
   "language": "python",
   "name": "python3"
  },
  "language_info": {
   "codemirror_mode": {
    "name": "ipython",
    "version": 3
   },
   "file_extension": ".py",
   "mimetype": "text/x-python",
   "name": "python",
   "nbconvert_exporter": "python",
   "pygments_lexer": "ipython3",
   "version": "3.7.4"
  }
 },
 "nbformat": 4,
 "nbformat_minor": 5
}
