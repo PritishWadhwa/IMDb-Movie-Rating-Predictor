{
 "cells": [
  {
   "cell_type": "code",
   "execution_count": 1,
   "metadata": {},
   "outputs": [],
   "source": [
    "import pandas as pd"
   ]
  },
  {
   "cell_type": "code",
   "execution_count": 4,
   "metadata": {},
   "outputs": [],
   "source": [
    "testData = pd.read_csv('Dataset/final/test.csv')\n",
    "trainData = pd.read_csv('Dataset/final/train.csv')\n",
    "validData = pd.read_csv('Dataset/final/val.csv')"
   ]
  },
  {
   "cell_type": "code",
   "execution_count": 5,
   "metadata": {},
   "outputs": [],
   "source": [
    "temp = testData['data_IMDBscore']"
   ]
  },
  {
   "cell_type": "code",
   "execution_count": 6,
   "metadata": {},
   "outputs": [],
   "source": [
    "testImdb = testData['data_IMDBscore']\n",
    "trainImdb = trainData['data_IMDBscore']\n",
    "validImdb = validData['data_IMDBscore']"
   ]
  },
  {
   "cell_type": "code",
   "execution_count": 7,
   "metadata": {},
   "outputs": [],
   "source": [
    "def divideIn10Buckets(data):\n",
    "    if data >= 9.5:\n",
    "        return 10\n",
    "    elif data >= 8.5:\n",
    "        return 9\n",
    "    elif data >= 7.5:\n",
    "        return 8\n",
    "    elif data >= 6.5:\n",
    "        return 7\n",
    "    elif data >= 5.5:\n",
    "        return 6\n",
    "    elif data >= 4.5:\n",
    "        return 5\n",
    "    elif data >= 3.5:\n",
    "        return 4\n",
    "    elif data >= 2.5:\n",
    "        return 3\n",
    "    elif data >= 1.5:\n",
    "        return 2\n",
    "    elif data >= 0.5:\n",
    "        return 1\n",
    "    else:\n",
    "        return 0"
   ]
  },
  {
   "cell_type": "code",
   "execution_count": 8,
   "metadata": {},
   "outputs": [],
   "source": [
    "testY_11_buckets = testData['data_IMDBscore'].apply(divideIn10Buckets)\n",
    "trainY_11_buckets = trainData['data_IMDBscore'].apply(divideIn10Buckets)\n",
    "validY_11_buckets = validData['data_IMDBscore'].apply(divideIn10Buckets)"
   ]
  },
  {
   "cell_type": "code",
   "execution_count": 9,
   "metadata": {},
   "outputs": [],
   "source": [
    "testY_11_buckets.to_csv('Dataset/final/test_11_buckets.csv', index=False)\n",
    "trainY_11_buckets.to_csv('Dataset/final/train_11_buckets.csv', index=False)\n",
    "validY_11_buckets.to_csv('Dataset/final/valid_11_buckets.csv', index=False)"
   ]
  },
  {
   "cell_type": "code",
   "execution_count": 10,
   "metadata": {},
   "outputs": [],
   "source": [
    "def dividein6Buckets(data):\n",
    "    if data >= 9:\n",
    "        return 10\n",
    "    elif data >= 7:\n",
    "        return 8\n",
    "    elif data >= 5:\n",
    "        return 6\n",
    "    elif data >= 3:\n",
    "        return 4\n",
    "    elif data >= 1:\n",
    "        return 2\n",
    "    else:\n",
    "        return 0"
   ]
  },
  {
   "cell_type": "code",
   "execution_count": 11,
   "metadata": {},
   "outputs": [],
   "source": [
    "testY_6_buckets = testData['data_IMDBscore'].apply(dividein6Buckets)\n",
    "trainY_6_buckets = trainData['data_IMDBscore'].apply(dividein6Buckets)\n",
    "validY_6_buckets = validData['data_IMDBscore'].apply(dividein6Buckets)"
   ]
  },
  {
   "cell_type": "code",
   "execution_count": 12,
   "metadata": {},
   "outputs": [],
   "source": [
    "testY_6_buckets.to_csv('Dataset/final/test_6_buckets.csv', index=False)\n",
    "trainY_6_buckets.to_csv('Dataset/final/train_6_buckets.csv', index=False)\n",
    "validY_6_buckets.to_csv('Dataset/final/valid_6_buckets.csv', index=False)"
   ]
  },
  {
   "cell_type": "code",
   "execution_count": 13,
   "metadata": {},
   "outputs": [],
   "source": [
    "def dividein21Buckets(data):\n",
    "    if data >= 9.75:\n",
    "        return 10\n",
    "    elif data >= 9.25:\n",
    "        return 9.5\n",
    "    elif data >= 8.75:\n",
    "        return 9\n",
    "    elif data >= 8.25:\n",
    "        return 8.5\n",
    "    elif data >= 7.75:\n",
    "        return 8\n",
    "    elif data >= 7.25:\n",
    "        return 7.5\n",
    "    elif data >= 6.75:\n",
    "        return 7    \n",
    "    elif data >= 6.25:\n",
    "        return 6.5\n",
    "    elif data >= 5.75:\n",
    "        return 6\n",
    "    elif data >= 5.25:\n",
    "        return 5.5\n",
    "    elif data >= 4.75:\n",
    "        return 5\n",
    "    elif data >= 4.25:\n",
    "        return 4.5\n",
    "    elif data >= 3.75:\n",
    "        return 4\n",
    "    elif data >= 3.25:\n",
    "        return 3.5\n",
    "    elif data >= 2.75:\n",
    "        return 3\n",
    "    elif data >= 2.25:\n",
    "        return 2.5\n",
    "    elif data >= 1.75:\n",
    "        return 2\n",
    "    elif data >= 1.25:\n",
    "        return 1.5\n",
    "    elif data >= 0.75:\n",
    "        return 1\n",
    "    elif data >= 0.25:\n",
    "        return 0.5\n",
    "    else:\n",
    "        return 0"
   ]
  },
  {
   "cell_type": "code",
   "execution_count": 14,
   "metadata": {},
   "outputs": [],
   "source": [
    "testY_21_buckets = testData['data_IMDBscore'].apply(dividein21Buckets)\n",
    "trainY_21_buckets = trainData['data_IMDBscore'].apply(dividein21Buckets)\n",
    "validY_21_buckets = validData['data_IMDBscore'].apply(dividein21Buckets)"
   ]
  },
  {
   "cell_type": "code",
   "execution_count": 15,
   "metadata": {},
   "outputs": [],
   "source": [
    "testY_21_buckets.to_csv('Dataset/final/test_21_buckets.csv', index=False)\n",
    "trainY_21_buckets.to_csv('Dataset/final/train_21_buckets.csv', index=False)\n",
    "validY_21_buckets.to_csv('Dataset/final/valid_21_buckets.csv', index=False)"
   ]
  },
  {
   "cell_type": "code",
   "execution_count": null,
   "metadata": {},
   "outputs": [],
   "source": []
  }
 ],
 "metadata": {
  "interpreter": {
   "hash": "aee8b7b246df8f9039afb4144a1f6fd8d2ca17a180786b69acc140d282b71a49"
  },
  "kernelspec": {
   "display_name": "Python 3.9.1 64-bit",
   "language": "python",
   "name": "python3"
  },
  "language_info": {
   "codemirror_mode": {
    "name": "ipython",
    "version": 3
   },
   "file_extension": ".py",
   "mimetype": "text/x-python",
   "name": "python",
   "nbconvert_exporter": "python",
   "pygments_lexer": "ipython3",
   "version": "3.9.1"
  },
  "orig_nbformat": 4
 },
 "nbformat": 4,
 "nbformat_minor": 2
}
