{
 "cells": [
  {
   "cell_type": "code",
   "execution_count": 1,
   "metadata": {
    "id": "Ot_kkiZV8UZG"
   },
   "outputs": [],
   "source": [
    "import pandas as pd\n",
    "import numpy as np\n",
    "from tqdm import tqdm\n",
    "import matplotlib.pyplot as plt\n",
    "import seaborn as sns"
   ]
  },
  {
   "cell_type": "code",
   "execution_count": 2,
   "metadata": {
    "id": "2qsSIwo58pTe"
   },
   "outputs": [],
   "source": [
    "path = \"E:/Sem5/ML/Dataset/preprocessed.csv\"\n",
    "#path2 = \"/content/drive/MyDrive/Dataset/stop_words.txt\""
   ]
  },
  {
   "cell_type": "code",
   "execution_count": 3,
   "metadata": {
    "id": "vMHbv_uSUa6K"
   },
   "outputs": [],
   "source": [
    "#import nltk\n",
    "#nltk.download('stopwords')"
   ]
  },
  {
   "cell_type": "code",
   "execution_count": 2,
   "metadata": {
    "id": "pHOSepkdUrjx"
   },
   "outputs": [],
   "source": [
    "from nltk.corpus import stopwords\n",
    "stop_words_set = set(stopwords.words('english'))"
   ]
  },
  {
   "cell_type": "code",
   "execution_count": 127,
   "metadata": {
    "id": "PWoC4RHL8UZK"
   },
   "outputs": [],
   "source": [
    "preprocessedDF = pd.read_csv('Dataset/preprocessed.csv')"
   ]
  },
  {
   "cell_type": "code",
   "execution_count": 128,
   "metadata": {
    "colab": {
     "base_uri": "https://localhost:8080/"
    },
    "id": "x_rPF8338UZM",
    "outputId": "d2e848ec-5ef3-491b-90c9-ffb40a0f7612"
   },
   "outputs": [
    {
     "name": "stdout",
     "output_type": "stream",
     "text": [
      "<class 'pandas.core.frame.DataFrame'>\n",
      "RangeIndex: 37210 entries, 0 to 37209\n",
      "Data columns (total 46 columns):\n",
      " #   Column                 Non-Null Count  Dtype  \n",
      "---  ------                 --------------  -----  \n",
      " 0   adult                  37210 non-null  bool   \n",
      " 1   belongs_to_collection  3918 non-null   object \n",
      " 2   budget                 37210 non-null  int64  \n",
      " 3   genres                 37210 non-null  object \n",
      " 4   homepage               6307 non-null   object \n",
      " 5   id                     37210 non-null  int64  \n",
      " 6   imdb_id                37210 non-null  int64  \n",
      " 7   original_language      37205 non-null  object \n",
      " 8   original_title         37210 non-null  object \n",
      " 9   overview               36573 non-null  object \n",
      " 10  popularity             37210 non-null  float64\n",
      " 11  poster_path            37210 non-null  object \n",
      " 12  production_companies   37210 non-null  object \n",
      " 13  production_countries   37210 non-null  object \n",
      " 14  release_date           37189 non-null  object \n",
      " 15  revenue                37210 non-null  float64\n",
      " 16  runtime                37062 non-null  float64\n",
      " 17  spoken_languages       37210 non-null  object \n",
      " 18  status                 37156 non-null  object \n",
      " 19  tagline                17810 non-null  object \n",
      " 20  title                  37210 non-null  object \n",
      " 21  video                  37210 non-null  bool   \n",
      " 22  vote_average           37210 non-null  float64\n",
      " 23  vote_count             37210 non-null  float64\n",
      " 24  posterID               37210 non-null  object \n",
      " 25  cast                   37210 non-null  object \n",
      " 26  crew                   37210 non-null  object \n",
      " 27  keywords               37210 non-null  object \n",
      " 28  Imdb Link              37210 non-null  object \n",
      " 29  Title                  37210 non-null  object \n",
      " 30  IMDB Score             37193 non-null  float64\n",
      " 31  Genre                  37088 non-null  object \n",
      " 32  Poster                 36704 non-null  object \n",
      " 33  num_faces              37210 non-null  float64\n",
      " 34  brightness             37210 non-null  float64\n",
      " 35  saturation             37210 non-null  float64\n",
      " 36  hue                    37210 non-null  float64\n",
      " 37  brightness_sd          37210 non-null  float64\n",
      " 38  saturation_sd          37210 non-null  float64\n",
      " 39  hue_sd                 37210 non-null  float64\n",
      " 40  blue                   37210 non-null  float64\n",
      " 41  blue_sd                37210 non-null  float64\n",
      " 42  green                  37210 non-null  float64\n",
      " 43  green_sd               37210 non-null  float64\n",
      " 44  red                    37210 non-null  float64\n",
      " 45  red_sd                 37210 non-null  float64\n",
      "dtypes: bool(2), float64(19), int64(3), object(22)\n",
      "memory usage: 12.6+ MB\n"
     ]
    }
   ],
   "source": [
    "preprocessedDF.info()"
   ]
  },
  {
   "cell_type": "code",
   "execution_count": 129,
   "metadata": {
    "colab": {
     "base_uri": "https://localhost:8080/",
     "height": 315
    },
    "id": "GlRF_-x_8UZP",
    "outputId": "11ecdbe9-934f-472b-94e0-a15a55d3f085"
   },
   "outputs": [
    {
     "data": {
      "text/html": [
       "<div>\n",
       "<style scoped>\n",
       "    .dataframe tbody tr th:only-of-type {\n",
       "        vertical-align: middle;\n",
       "    }\n",
       "\n",
       "    .dataframe tbody tr th {\n",
       "        vertical-align: top;\n",
       "    }\n",
       "\n",
       "    .dataframe thead th {\n",
       "        text-align: right;\n",
       "    }\n",
       "</style>\n",
       "<table border=\"1\" class=\"dataframe\">\n",
       "  <thead>\n",
       "    <tr style=\"text-align: right;\">\n",
       "      <th></th>\n",
       "      <th>budget</th>\n",
       "      <th>id</th>\n",
       "      <th>imdb_id</th>\n",
       "      <th>popularity</th>\n",
       "      <th>revenue</th>\n",
       "      <th>runtime</th>\n",
       "      <th>vote_average</th>\n",
       "      <th>vote_count</th>\n",
       "      <th>IMDB Score</th>\n",
       "      <th>num_faces</th>\n",
       "      <th>...</th>\n",
       "      <th>hue</th>\n",
       "      <th>brightness_sd</th>\n",
       "      <th>saturation_sd</th>\n",
       "      <th>hue_sd</th>\n",
       "      <th>blue</th>\n",
       "      <th>blue_sd</th>\n",
       "      <th>green</th>\n",
       "      <th>green_sd</th>\n",
       "      <th>red</th>\n",
       "      <th>red_sd</th>\n",
       "    </tr>\n",
       "  </thead>\n",
       "  <tbody>\n",
       "    <tr>\n",
       "      <th>count</th>\n",
       "      <td>3.721000e+04</td>\n",
       "      <td>37210.000000</td>\n",
       "      <td>3.721000e+04</td>\n",
       "      <td>37210.000000</td>\n",
       "      <td>3.721000e+04</td>\n",
       "      <td>37062.000000</td>\n",
       "      <td>37210.000000</td>\n",
       "      <td>37210.000000</td>\n",
       "      <td>37193.000000</td>\n",
       "      <td>37210.000000</td>\n",
       "      <td>...</td>\n",
       "      <td>37210.000000</td>\n",
       "      <td>37210.000000</td>\n",
       "      <td>37210.000000</td>\n",
       "      <td>37210.000000</td>\n",
       "      <td>37210.000000</td>\n",
       "      <td>37210.000000</td>\n",
       "      <td>37210.000000</td>\n",
       "      <td>37210.000000</td>\n",
       "      <td>37210.000000</td>\n",
       "      <td>37210.000000</td>\n",
       "    </tr>\n",
       "    <tr>\n",
       "      <th>mean</th>\n",
       "      <td>4.711716e+06</td>\n",
       "      <td>92095.604327</td>\n",
       "      <td>8.350883e+05</td>\n",
       "      <td>3.114066</td>\n",
       "      <td>1.252765e+07</td>\n",
       "      <td>96.065242</td>\n",
       "      <td>5.717186</td>\n",
       "      <td>123.099973</td>\n",
       "      <td>6.409185</td>\n",
       "      <td>0.563612</td>\n",
       "      <td>...</td>\n",
       "      <td>54.121472</td>\n",
       "      <td>72.888216</td>\n",
       "      <td>66.108829</td>\n",
       "      <td>44.692045</td>\n",
       "      <td>102.676043</td>\n",
       "      <td>69.147140</td>\n",
       "      <td>112.402166</td>\n",
       "      <td>72.107912</td>\n",
       "      <td>127.214442</td>\n",
       "      <td>75.265465</td>\n",
       "    </tr>\n",
       "    <tr>\n",
       "      <th>std</th>\n",
       "      <td>1.820269e+07</td>\n",
       "      <td>97166.149197</td>\n",
       "      <td>1.144543e+06</td>\n",
       "      <td>5.596429</td>\n",
       "      <td>6.719505e+07</td>\n",
       "      <td>37.338853</td>\n",
       "      <td>1.796600</td>\n",
       "      <td>518.225290</td>\n",
       "      <td>1.142621</td>\n",
       "      <td>0.922337</td>\n",
       "      <td>...</td>\n",
       "      <td>28.890712</td>\n",
       "      <td>15.745163</td>\n",
       "      <td>19.977247</td>\n",
       "      <td>16.171165</td>\n",
       "      <td>49.732066</td>\n",
       "      <td>18.623296</td>\n",
       "      <td>48.762495</td>\n",
       "      <td>16.121290</td>\n",
       "      <td>51.192335</td>\n",
       "      <td>15.793882</td>\n",
       "    </tr>\n",
       "    <tr>\n",
       "      <th>min</th>\n",
       "      <td>0.000000e+00</td>\n",
       "      <td>2.000000</td>\n",
       "      <td>3.000000e+00</td>\n",
       "      <td>0.000000</td>\n",
       "      <td>0.000000e+00</td>\n",
       "      <td>0.000000</td>\n",
       "      <td>0.000000</td>\n",
       "      <td>0.000000</td>\n",
       "      <td>1.200000</td>\n",
       "      <td>0.000000</td>\n",
       "      <td>...</td>\n",
       "      <td>0.000000</td>\n",
       "      <td>1.183370</td>\n",
       "      <td>0.000000</td>\n",
       "      <td>0.000000</td>\n",
       "      <td>0.882752</td>\n",
       "      <td>1.977672</td>\n",
       "      <td>0.726561</td>\n",
       "      <td>1.651825</td>\n",
       "      <td>1.337270</td>\n",
       "      <td>1.244778</td>\n",
       "    </tr>\n",
       "    <tr>\n",
       "      <th>25%</th>\n",
       "      <td>0.000000e+00</td>\n",
       "      <td>22969.250000</td>\n",
       "      <td>8.093450e+04</td>\n",
       "      <td>0.453325</td>\n",
       "      <td>0.000000e+00</td>\n",
       "      <td>86.000000</td>\n",
       "      <td>5.100000</td>\n",
       "      <td>4.000000</td>\n",
       "      <td>5.800000</td>\n",
       "      <td>0.000000</td>\n",
       "      <td>...</td>\n",
       "      <td>30.549816</td>\n",
       "      <td>62.818346</td>\n",
       "      <td>53.854725</td>\n",
       "      <td>34.489826</td>\n",
       "      <td>63.103481</td>\n",
       "      <td>56.652542</td>\n",
       "      <td>73.914467</td>\n",
       "      <td>61.786961</td>\n",
       "      <td>87.503894</td>\n",
       "      <td>65.441396</td>\n",
       "    </tr>\n",
       "    <tr>\n",
       "      <th>50%</th>\n",
       "      <td>0.000000e+00</td>\n",
       "      <td>51789.000000</td>\n",
       "      <td>2.363165e+05</td>\n",
       "      <td>1.290035</td>\n",
       "      <td>0.000000e+00</td>\n",
       "      <td>95.000000</td>\n",
       "      <td>6.000000</td>\n",
       "      <td>11.000000</td>\n",
       "      <td>6.600000</td>\n",
       "      <td>0.000000</td>\n",
       "      <td>...</td>\n",
       "      <td>50.157406</td>\n",
       "      <td>73.247646</td>\n",
       "      <td>66.716290</td>\n",
       "      <td>45.677917</td>\n",
       "      <td>98.034244</td>\n",
       "      <td>69.919507</td>\n",
       "      <td>110.593031</td>\n",
       "      <td>72.334171</td>\n",
       "      <td>127.259378</td>\n",
       "      <td>75.881237</td>\n",
       "    </tr>\n",
       "    <tr>\n",
       "      <th>75%</th>\n",
       "      <td>0.000000e+00</td>\n",
       "      <td>125163.250000</td>\n",
       "      <td>1.327770e+06</td>\n",
       "      <td>4.358514</td>\n",
       "      <td>0.000000e+00</td>\n",
       "      <td>108.000000</td>\n",
       "      <td>6.800000</td>\n",
       "      <td>42.000000</td>\n",
       "      <td>7.200000</td>\n",
       "      <td>1.000000</td>\n",
       "      <td>...</td>\n",
       "      <td>74.505922</td>\n",
       "      <td>83.473024</td>\n",
       "      <td>79.505317</td>\n",
       "      <td>55.664458</td>\n",
       "      <td>139.488232</td>\n",
       "      <td>82.423853</td>\n",
       "      <td>149.611802</td>\n",
       "      <td>82.938145</td>\n",
       "      <td>167.770281</td>\n",
       "      <td>86.003713</td>\n",
       "    </tr>\n",
       "    <tr>\n",
       "      <th>max</th>\n",
       "      <td>3.800000e+08</td>\n",
       "      <td>469172.000000</td>\n",
       "      <td>6.098922e+06</td>\n",
       "      <td>547.488298</td>\n",
       "      <td>2.787965e+09</td>\n",
       "      <td>1256.000000</td>\n",
       "      <td>10.000000</td>\n",
       "      <td>14075.000000</td>\n",
       "      <td>9.500000</td>\n",
       "      <td>16.000000</td>\n",
       "      <td>...</td>\n",
       "      <td>174.309900</td>\n",
       "      <td>125.836770</td>\n",
       "      <td>125.016174</td>\n",
       "      <td>88.502696</td>\n",
       "      <td>253.928587</td>\n",
       "      <td>125.838671</td>\n",
       "      <td>251.624791</td>\n",
       "      <td>125.841819</td>\n",
       "      <td>253.605869</td>\n",
       "      <td>125.837170</td>\n",
       "    </tr>\n",
       "  </tbody>\n",
       "</table>\n",
       "<p>8 rows × 22 columns</p>\n",
       "</div>"
      ],
      "text/plain": [
       "             budget             id       imdb_id    popularity       revenue  \\\n",
       "count  3.721000e+04   37210.000000  3.721000e+04  37210.000000  3.721000e+04   \n",
       "mean   4.711716e+06   92095.604327  8.350883e+05      3.114066  1.252765e+07   \n",
       "std    1.820269e+07   97166.149197  1.144543e+06      5.596429  6.719505e+07   \n",
       "min    0.000000e+00       2.000000  3.000000e+00      0.000000  0.000000e+00   \n",
       "25%    0.000000e+00   22969.250000  8.093450e+04      0.453325  0.000000e+00   \n",
       "50%    0.000000e+00   51789.000000  2.363165e+05      1.290035  0.000000e+00   \n",
       "75%    0.000000e+00  125163.250000  1.327770e+06      4.358514  0.000000e+00   \n",
       "max    3.800000e+08  469172.000000  6.098922e+06    547.488298  2.787965e+09   \n",
       "\n",
       "            runtime  vote_average    vote_count    IMDB Score     num_faces  \\\n",
       "count  37062.000000  37210.000000  37210.000000  37193.000000  37210.000000   \n",
       "mean      96.065242      5.717186    123.099973      6.409185      0.563612   \n",
       "std       37.338853      1.796600    518.225290      1.142621      0.922337   \n",
       "min        0.000000      0.000000      0.000000      1.200000      0.000000   \n",
       "25%       86.000000      5.100000      4.000000      5.800000      0.000000   \n",
       "50%       95.000000      6.000000     11.000000      6.600000      0.000000   \n",
       "75%      108.000000      6.800000     42.000000      7.200000      1.000000   \n",
       "max     1256.000000     10.000000  14075.000000      9.500000     16.000000   \n",
       "\n",
       "       ...           hue  brightness_sd  saturation_sd         hue_sd  \\\n",
       "count  ...  37210.000000   37210.000000    37210.000000  37210.000000   \n",
       "mean   ...     54.121472      72.888216       66.108829     44.692045   \n",
       "std    ...     28.890712      15.745163       19.977247     16.171165   \n",
       "min    ...      0.000000       1.183370        0.000000      0.000000   \n",
       "25%    ...     30.549816      62.818346       53.854725     34.489826   \n",
       "50%    ...     50.157406      73.247646       66.716290     45.677917   \n",
       "75%    ...     74.505922      83.473024       79.505317     55.664458   \n",
       "max    ...    174.309900     125.836770      125.016174     88.502696   \n",
       "\n",
       "               blue       blue_sd         green      green_sd           red  \\\n",
       "count  37210.000000  37210.000000  37210.000000  37210.000000  37210.000000   \n",
       "mean     102.676043     69.147140    112.402166     72.107912    127.214442   \n",
       "std       49.732066     18.623296     48.762495     16.121290     51.192335   \n",
       "min        0.882752      1.977672      0.726561      1.651825      1.337270   \n",
       "25%       63.103481     56.652542     73.914467     61.786961     87.503894   \n",
       "50%       98.034244     69.919507    110.593031     72.334171    127.259378   \n",
       "75%      139.488232     82.423853    149.611802     82.938145    167.770281   \n",
       "max      253.928587    125.838671    251.624791    125.841819    253.605869   \n",
       "\n",
       "            red_sd   \n",
       "count  37210.000000  \n",
       "mean      75.265465  \n",
       "std       15.793882  \n",
       "min        1.244778  \n",
       "25%       65.441396  \n",
       "50%       75.881237  \n",
       "75%       86.003713  \n",
       "max      125.837170  \n",
       "\n",
       "[8 rows x 22 columns]"
      ]
     },
     "execution_count": 129,
     "metadata": {},
     "output_type": "execute_result"
    }
   ],
   "source": [
    "preprocessedDF.describe()"
   ]
  },
  {
   "cell_type": "code",
   "execution_count": 209,
   "metadata": {
    "id": "93FfmZQp8UZQ"
   },
   "outputs": [],
   "source": [
    "all_data = preprocessedDF"
   ]
  },
  {
   "cell_type": "code",
   "execution_count": 210,
   "metadata": {
    "colab": {
     "base_uri": "https://localhost:8080/"
    },
    "id": "ho-j3JTN8UZR",
    "outputId": "b16e790f-0a8f-45f6-f1d7-d1fa3edbe572"
   },
   "outputs": [
    {
     "data": {
      "text/plain": [
       "(37210, 46)"
      ]
     },
     "execution_count": 210,
     "metadata": {},
     "output_type": "execute_result"
    }
   ],
   "source": [
    "all_data.shape"
   ]
  },
  {
   "cell_type": "code",
   "execution_count": 211,
   "metadata": {
    "id": "zD5dDuKBeA6b"
   },
   "outputs": [],
   "source": [
    "all_data = all_data.drop(columns=['adult', 'belongs_to_collection', 'budget', 'genres', 'homepage', 'id', 'imdb_id', 'popularity', 'poster_path', 'revenue', \n",
    "                                  'spoken_languages', 'status', 'tagline', 'title', 'video', 'vote_average', 'vote_count', 'posterID', 'Imdb Link', 'Title', 'Poster'], axis=1)"
   ]
  },
  {
   "cell_type": "code",
   "execution_count": 212,
   "metadata": {},
   "outputs": [
    {
     "name": "stdout",
     "output_type": "stream",
     "text": [
      "<class 'pandas.core.frame.DataFrame'>\n",
      "RangeIndex: 37210 entries, 0 to 37209\n",
      "Data columns (total 25 columns):\n",
      " #   Column                Non-Null Count  Dtype  \n",
      "---  ------                --------------  -----  \n",
      " 0   original_language     37205 non-null  object \n",
      " 1   original_title        37210 non-null  object \n",
      " 2   overview              36573 non-null  object \n",
      " 3   production_companies  37210 non-null  object \n",
      " 4   production_countries  37210 non-null  object \n",
      " 5   release_date          37189 non-null  object \n",
      " 6   runtime               37062 non-null  float64\n",
      " 7   cast                  37210 non-null  object \n",
      " 8   crew                  37210 non-null  object \n",
      " 9   keywords              37210 non-null  object \n",
      " 10  IMDB Score            37193 non-null  float64\n",
      " 11  Genre                 37088 non-null  object \n",
      " 12  num_faces             37210 non-null  float64\n",
      " 13  brightness            37210 non-null  float64\n",
      " 14  saturation            37210 non-null  float64\n",
      " 15  hue                   37210 non-null  float64\n",
      " 16  brightness_sd         37210 non-null  float64\n",
      " 17  saturation_sd         37210 non-null  float64\n",
      " 18  hue_sd                37210 non-null  float64\n",
      " 19  blue                  37210 non-null  float64\n",
      " 20  blue_sd               37210 non-null  float64\n",
      " 21  green                 37210 non-null  float64\n",
      " 22  green_sd              37210 non-null  float64\n",
      " 23  red                   37210 non-null  float64\n",
      " 24  red_sd                37210 non-null  float64\n",
      "dtypes: float64(15), object(10)\n",
      "memory usage: 7.1+ MB\n"
     ]
    }
   ],
   "source": [
    "all_data.info()"
   ]
  },
  {
   "cell_type": "code",
   "execution_count": 213,
   "metadata": {
    "colab": {
     "base_uri": "https://localhost:8080/"
    },
    "id": "aOzQv-L2fAjh",
    "outputId": "4b5c99e2-503e-42d2-c357-a949b38bc595"
   },
   "outputs": [
    {
     "data": {
      "text/plain": [
       "(37210, 25)"
      ]
     },
     "execution_count": 213,
     "metadata": {},
     "output_type": "execute_result"
    }
   ],
   "source": [
    "all_data.shape"
   ]
  },
  {
   "cell_type": "code",
   "execution_count": 214,
   "metadata": {
    "id": "Alu3NsfNZlaJ"
   },
   "outputs": [],
   "source": [
    "all_data = all_data.dropna()"
   ]
  },
  {
   "cell_type": "code",
   "execution_count": 215,
   "metadata": {
    "colab": {
     "base_uri": "https://localhost:8080/"
    },
    "id": "S4DXyi4sZrRs",
    "outputId": "62856b97-3a0e-4c42-d5c4-fa1b5414013d"
   },
   "outputs": [
    {
     "data": {
      "text/plain": [
       "(36435, 25)"
      ]
     },
     "execution_count": 215,
     "metadata": {},
     "output_type": "execute_result"
    }
   ],
   "source": [
    "all_data.shape"
   ]
  },
  {
   "cell_type": "code",
   "execution_count": 216,
   "metadata": {
    "colab": {
     "base_uri": "https://localhost:8080/",
     "height": 694
    },
    "id": "lbEZ3sSHNQhJ",
    "outputId": "897a857f-24e3-43ff-fd63-87b9315cdc22"
   },
   "outputs": [
    {
     "data": {
      "text/html": [
       "<div>\n",
       "<style scoped>\n",
       "    .dataframe tbody tr th:only-of-type {\n",
       "        vertical-align: middle;\n",
       "    }\n",
       "\n",
       "    .dataframe tbody tr th {\n",
       "        vertical-align: top;\n",
       "    }\n",
       "\n",
       "    .dataframe thead th {\n",
       "        text-align: right;\n",
       "    }\n",
       "</style>\n",
       "<table border=\"1\" class=\"dataframe\">\n",
       "  <thead>\n",
       "    <tr style=\"text-align: right;\">\n",
       "      <th></th>\n",
       "      <th>original_language</th>\n",
       "      <th>original_title</th>\n",
       "      <th>overview</th>\n",
       "      <th>production_companies</th>\n",
       "      <th>production_countries</th>\n",
       "      <th>release_date</th>\n",
       "      <th>runtime</th>\n",
       "      <th>cast</th>\n",
       "      <th>crew</th>\n",
       "      <th>keywords</th>\n",
       "      <th>...</th>\n",
       "      <th>hue</th>\n",
       "      <th>brightness_sd</th>\n",
       "      <th>saturation_sd</th>\n",
       "      <th>hue_sd</th>\n",
       "      <th>blue</th>\n",
       "      <th>blue_sd</th>\n",
       "      <th>green</th>\n",
       "      <th>green_sd</th>\n",
       "      <th>red</th>\n",
       "      <th>red_sd</th>\n",
       "    </tr>\n",
       "  </thead>\n",
       "  <tbody>\n",
       "    <tr>\n",
       "      <th>0</th>\n",
       "      <td>en</td>\n",
       "      <td>Toy Story</td>\n",
       "      <td>Led by Woody, Andy's toys live happily in his ...</td>\n",
       "      <td>[{'name': 'Pixar Animation Studios', 'id': 3}]</td>\n",
       "      <td>[{'iso_3166_1': 'US', 'name': 'United States o...</td>\n",
       "      <td>1995-10-30</td>\n",
       "      <td>81.0</td>\n",
       "      <td>[{'cast_id': 14, 'character': 'Woody (voice)',...</td>\n",
       "      <td>[{'credit_id': '52fe4284c3a36847f8024f49', 'de...</td>\n",
       "      <td>[{'id': 931, 'name': 'jealousy'}, {'id': 4290,...</td>\n",
       "      <td>...</td>\n",
       "      <td>82.805137</td>\n",
       "      <td>58.496526</td>\n",
       "      <td>80.933495</td>\n",
       "      <td>46.984021</td>\n",
       "      <td>147.046133</td>\n",
       "      <td>83.046441</td>\n",
       "      <td>127.812661</td>\n",
       "      <td>59.618615</td>\n",
       "      <td>79.571854</td>\n",
       "      <td>88.574055</td>\n",
       "    </tr>\n",
       "    <tr>\n",
       "      <th>1</th>\n",
       "      <td>en</td>\n",
       "      <td>Jumanji</td>\n",
       "      <td>When siblings Judy and Peter discover an encha...</td>\n",
       "      <td>[{'name': 'TriStar Pictures', 'id': 559}, {'na...</td>\n",
       "      <td>[{'iso_3166_1': 'US', 'name': 'United States o...</td>\n",
       "      <td>1995-12-15</td>\n",
       "      <td>104.0</td>\n",
       "      <td>[{'cast_id': 1, 'character': 'Alan Parrish', '...</td>\n",
       "      <td>[{'credit_id': '52fe44bfc3a36847f80a7cd1', 'de...</td>\n",
       "      <td>[{'id': 10090, 'name': 'board game'}, {'id': 1...</td>\n",
       "      <td>...</td>\n",
       "      <td>65.296239</td>\n",
       "      <td>83.413251</td>\n",
       "      <td>67.319422</td>\n",
       "      <td>61.296055</td>\n",
       "      <td>132.472598</td>\n",
       "      <td>84.508776</td>\n",
       "      <td>137.041430</td>\n",
       "      <td>79.140584</td>\n",
       "      <td>137.619493</td>\n",
       "      <td>85.319415</td>\n",
       "    </tr>\n",
       "    <tr>\n",
       "      <th>2</th>\n",
       "      <td>en</td>\n",
       "      <td>Grumpier Old Men</td>\n",
       "      <td>A family wedding reignites the ancient feud be...</td>\n",
       "      <td>[{'name': 'Warner Bros.', 'id': 6194}, {'name'...</td>\n",
       "      <td>[{'iso_3166_1': 'US', 'name': 'United States o...</td>\n",
       "      <td>1995-12-22</td>\n",
       "      <td>101.0</td>\n",
       "      <td>[{'cast_id': 2, 'character': 'Max Goldman', 'c...</td>\n",
       "      <td>[{'credit_id': '52fe466a9251416c75077a89', 'de...</td>\n",
       "      <td>[{'id': 1495, 'name': 'fishing'}, {'id': 12392...</td>\n",
       "      <td>...</td>\n",
       "      <td>48.908106</td>\n",
       "      <td>94.073346</td>\n",
       "      <td>70.979805</td>\n",
       "      <td>65.406756</td>\n",
       "      <td>97.464385</td>\n",
       "      <td>78.935691</td>\n",
       "      <td>106.743824</td>\n",
       "      <td>89.725921</td>\n",
       "      <td>136.728580</td>\n",
       "      <td>96.124722</td>\n",
       "    </tr>\n",
       "    <tr>\n",
       "      <th>3</th>\n",
       "      <td>en</td>\n",
       "      <td>Waiting to Exhale</td>\n",
       "      <td>Cheated on, mistreated and stepped on, the wom...</td>\n",
       "      <td>[{'name': 'Twentieth Century Fox Film Corporat...</td>\n",
       "      <td>[{'iso_3166_1': 'US', 'name': 'United States o...</td>\n",
       "      <td>1995-12-22</td>\n",
       "      <td>127.0</td>\n",
       "      <td>[{'cast_id': 1, 'character': \"Savannah 'Vannah...</td>\n",
       "      <td>[{'credit_id': '52fe44779251416c91011acb', 'de...</td>\n",
       "      <td>[{'id': 818, 'name': 'based on novel'}, {'id':...</td>\n",
       "      <td>...</td>\n",
       "      <td>43.298337</td>\n",
       "      <td>71.637853</td>\n",
       "      <td>74.316934</td>\n",
       "      <td>57.431210</td>\n",
       "      <td>148.388970</td>\n",
       "      <td>88.371216</td>\n",
       "      <td>161.866089</td>\n",
       "      <td>82.379306</td>\n",
       "      <td>191.924122</td>\n",
       "      <td>72.849543</td>\n",
       "    </tr>\n",
       "    <tr>\n",
       "      <th>4</th>\n",
       "      <td>en</td>\n",
       "      <td>Father of the Bride Part II</td>\n",
       "      <td>Just when George Banks has recovered from his ...</td>\n",
       "      <td>[{'name': 'Sandollar Productions', 'id': 5842}...</td>\n",
       "      <td>[{'iso_3166_1': 'US', 'name': 'United States o...</td>\n",
       "      <td>1995-02-10</td>\n",
       "      <td>106.0</td>\n",
       "      <td>[{'cast_id': 1, 'character': 'George Banks', '...</td>\n",
       "      <td>[{'credit_id': '52fe44959251416c75039ed7', 'de...</td>\n",
       "      <td>[{'id': 1009, 'name': 'baby'}, {'id': 1599, 'n...</td>\n",
       "      <td>...</td>\n",
       "      <td>19.093691</td>\n",
       "      <td>102.482222</td>\n",
       "      <td>85.251258</td>\n",
       "      <td>28.312941</td>\n",
       "      <td>94.287052</td>\n",
       "      <td>98.054007</td>\n",
       "      <td>110.440328</td>\n",
       "      <td>99.236678</td>\n",
       "      <td>136.537094</td>\n",
       "      <td>104.796367</td>\n",
       "    </tr>\n",
       "  </tbody>\n",
       "</table>\n",
       "<p>5 rows × 25 columns</p>\n",
       "</div>"
      ],
      "text/plain": [
       "  original_language               original_title  \\\n",
       "0                en                    Toy Story   \n",
       "1                en                      Jumanji   \n",
       "2                en             Grumpier Old Men   \n",
       "3                en            Waiting to Exhale   \n",
       "4                en  Father of the Bride Part II   \n",
       "\n",
       "                                            overview  \\\n",
       "0  Led by Woody, Andy's toys live happily in his ...   \n",
       "1  When siblings Judy and Peter discover an encha...   \n",
       "2  A family wedding reignites the ancient feud be...   \n",
       "3  Cheated on, mistreated and stepped on, the wom...   \n",
       "4  Just when George Banks has recovered from his ...   \n",
       "\n",
       "                                production_companies  \\\n",
       "0     [{'name': 'Pixar Animation Studios', 'id': 3}]   \n",
       "1  [{'name': 'TriStar Pictures', 'id': 559}, {'na...   \n",
       "2  [{'name': 'Warner Bros.', 'id': 6194}, {'name'...   \n",
       "3  [{'name': 'Twentieth Century Fox Film Corporat...   \n",
       "4  [{'name': 'Sandollar Productions', 'id': 5842}...   \n",
       "\n",
       "                                production_countries release_date  runtime  \\\n",
       "0  [{'iso_3166_1': 'US', 'name': 'United States o...   1995-10-30     81.0   \n",
       "1  [{'iso_3166_1': 'US', 'name': 'United States o...   1995-12-15    104.0   \n",
       "2  [{'iso_3166_1': 'US', 'name': 'United States o...   1995-12-22    101.0   \n",
       "3  [{'iso_3166_1': 'US', 'name': 'United States o...   1995-12-22    127.0   \n",
       "4  [{'iso_3166_1': 'US', 'name': 'United States o...   1995-02-10    106.0   \n",
       "\n",
       "                                                cast  \\\n",
       "0  [{'cast_id': 14, 'character': 'Woody (voice)',...   \n",
       "1  [{'cast_id': 1, 'character': 'Alan Parrish', '...   \n",
       "2  [{'cast_id': 2, 'character': 'Max Goldman', 'c...   \n",
       "3  [{'cast_id': 1, 'character': \"Savannah 'Vannah...   \n",
       "4  [{'cast_id': 1, 'character': 'George Banks', '...   \n",
       "\n",
       "                                                crew  \\\n",
       "0  [{'credit_id': '52fe4284c3a36847f8024f49', 'de...   \n",
       "1  [{'credit_id': '52fe44bfc3a36847f80a7cd1', 'de...   \n",
       "2  [{'credit_id': '52fe466a9251416c75077a89', 'de...   \n",
       "3  [{'credit_id': '52fe44779251416c91011acb', 'de...   \n",
       "4  [{'credit_id': '52fe44959251416c75039ed7', 'de...   \n",
       "\n",
       "                                            keywords  ...        hue  \\\n",
       "0  [{'id': 931, 'name': 'jealousy'}, {'id': 4290,...  ...  82.805137   \n",
       "1  [{'id': 10090, 'name': 'board game'}, {'id': 1...  ...  65.296239   \n",
       "2  [{'id': 1495, 'name': 'fishing'}, {'id': 12392...  ...  48.908106   \n",
       "3  [{'id': 818, 'name': 'based on novel'}, {'id':...  ...  43.298337   \n",
       "4  [{'id': 1009, 'name': 'baby'}, {'id': 1599, 'n...  ...  19.093691   \n",
       "\n",
       "  brightness_sd  saturation_sd      hue_sd        blue    blue_sd       green  \\\n",
       "0     58.496526       80.933495  46.984021  147.046133  83.046441  127.812661   \n",
       "1     83.413251       67.319422  61.296055  132.472598  84.508776  137.041430   \n",
       "2     94.073346       70.979805  65.406756   97.464385  78.935691  106.743824   \n",
       "3     71.637853       74.316934  57.431210  148.388970  88.371216  161.866089   \n",
       "4    102.482222       85.251258  28.312941   94.287052  98.054007  110.440328   \n",
       "\n",
       "    green_sd         red     red_sd   \n",
       "0  59.618615   79.571854   88.574055  \n",
       "1  79.140584  137.619493   85.319415  \n",
       "2  89.725921  136.728580   96.124722  \n",
       "3  82.379306  191.924122   72.849543  \n",
       "4  99.236678  136.537094  104.796367  \n",
       "\n",
       "[5 rows x 25 columns]"
      ]
     },
     "execution_count": 216,
     "metadata": {},
     "output_type": "execute_result"
    }
   ],
   "source": [
    "all_data.head()"
   ]
  },
  {
   "cell_type": "code",
   "execution_count": 217,
   "metadata": {
    "id": "u_-IIZSeKYbW"
   },
   "outputs": [],
   "source": [
    "def graph_create_dictionary_overview(messages, min_count, tokenizer):\n",
    "    #stop_words = []\n",
    "    #with open(path2,'r') as f:\n",
    "    #  for x in f:\n",
    "    #    stop_words.append(x[:-1])\n",
    "\n",
    "    words_count = {}\n",
    "    for i in tqdm(range(len(messages))):\n",
    "        s = messages[i]\n",
    "        words = get_words(s, tokenizer)\n",
    "        words_unique = list(dict.fromkeys(words))\n",
    "        for w in words_unique:\n",
    "          if (len(w)<=1) or (w.lower() in stop_words_set) or (not w.isalpha()):\n",
    "            continue\n",
    "          if w.lower() not in words_count:\n",
    "            words_count[w.lower()] = 1\n",
    "          else:\n",
    "            words_count[w.lower()] += 1\n",
    "\n",
    "    for word in list(words_count.keys()):\n",
    "        if (words_count[word] < min_count) or word=='':\n",
    "            del words_count[word]\n",
    "\n",
    "    return words_count"
   ]
  },
  {
   "cell_type": "code",
   "execution_count": 218,
   "metadata": {
    "id": "Gccb3RFxJ1GS"
   },
   "outputs": [],
   "source": [
    "#tokenizer = spacy.load(\"en_core_web_sm\", disable=[\"tagger\", \"parser\", \"ner\", \"lemmatizer\"])\n",
    "#graph_overview_dictionary = graph_create_dictionary_overview(\n",
    "#    all_data['overview'], 75, tokenizer)\n",
    "#print('Size of dictionary: ', len(graph_overview_dictionary))\n",
    "# print(overview_dictionary)"
   ]
  },
  {
   "cell_type": "code",
   "execution_count": 219,
   "metadata": {
    "id": "ex49E495KvUt"
   },
   "outputs": [],
   "source": [
    "#from wordcloud import WordCloud\n",
    "#wordcloud = WordCloud()\n",
    "#wordcloud.generate_from_frequencies(frequencies=graph_overview_dictionary)\n",
    "#plt.figure(figsize=(15,15))\n",
    "#plt.imshow(wordcloud)\n",
    "#plt.axis(\"off\")\n",
    "#plt.show()"
   ]
  },
  {
   "cell_type": "code",
   "execution_count": 220,
   "metadata": {
    "colab": {
     "base_uri": "https://localhost:8080/"
    },
    "id": "HDcLr3fI8UZS",
    "outputId": "f9bc824b-a4fc-4f50-cb93-d57f88615d51"
   },
   "outputs": [
    {
     "name": "stdout",
     "output_type": "stream",
     "text": [
      "(36435, 25)\n"
     ]
    }
   ],
   "source": [
    "#all_data = all_data[all_data.original_language == 'en']\n",
    "print(all_data.shape)"
   ]
  },
  {
   "cell_type": "code",
   "execution_count": 221,
   "metadata": {
    "colab": {
     "base_uri": "https://localhost:8080/"
    },
    "id": "zJCFbGJ_XG-i",
    "outputId": "aee17959-f7a4-4a84-e697-8380543ed43c"
   },
   "outputs": [
    {
     "name": "stdout",
     "output_type": "stream",
     "text": [
      "36435\n"
     ]
    }
   ],
   "source": [
    "original_language_series = all_data['original_language']\n",
    "print(len(original_language_series))\n",
    "original_language_series = original_language_series.drop_duplicates()"
   ]
  },
  {
   "cell_type": "code",
   "execution_count": 222,
   "metadata": {
    "colab": {
     "base_uri": "https://localhost:8080/"
    },
    "id": "B6MEPiCxXWmx",
    "outputId": "76df7fa6-30e4-4ac5-d9e8-d4c771ad4186"
   },
   "outputs": [
    {
     "data": {
      "text/plain": [
       "87"
      ]
     },
     "execution_count": 222,
     "metadata": {},
     "output_type": "execute_result"
    }
   ],
   "source": [
    "len(original_language_series)"
   ]
  },
  {
   "cell_type": "code",
   "execution_count": 223,
   "metadata": {
    "colab": {
     "base_uri": "https://localhost:8080/"
    },
    "id": "Uf9aZpw4gyGU",
    "outputId": "86e30341-303b-4d8e-dc64-af9e1ad951e8"
   },
   "outputs": [
    {
     "data": {
      "text/plain": [
       "0        en\n",
       "28       fr\n",
       "29       zh\n",
       "52       it\n",
       "79       fa\n",
       "         ..\n",
       "29795    uz\n",
       "30162    sm\n",
       "31347    mt\n",
       "34109    hy\n",
       "34313    iu\n",
       "Name: original_language, Length: 87, dtype: object"
      ]
     },
     "execution_count": 223,
     "metadata": {},
     "output_type": "execute_result"
    }
   ],
   "source": [
    "original_language_series"
   ]
  },
  {
   "cell_type": "code",
   "execution_count": 224,
   "metadata": {
    "id": "mJ-904etfjMu"
   },
   "outputs": [],
   "source": [
    "def create_original_languages_dictionary(ss):\n",
    "  ol_dict = {}\n",
    "  idx = 1\n",
    "  for x in ss:\n",
    "    ol_dict[x] = idx\n",
    "    idx+=1\n",
    "  return ol_dict"
   ]
  },
  {
   "cell_type": "code",
   "execution_count": 225,
   "metadata": {
    "colab": {
     "base_uri": "https://localhost:8080/"
    },
    "id": "w216gDhGgZgL",
    "outputId": "b0b8f6f2-bb03-4b43-f610-b0a2286271f2"
   },
   "outputs": [
    {
     "name": "stdout",
     "output_type": "stream",
     "text": [
      "{'en': 1, 'fr': 2, 'zh': 3, 'it': 4, 'fa': 5, 'nl': 6, 'de': 7, 'cn': 8, 'ar': 9, 'es': 10, 'ru': 11, 'ja': 12, 'sv': 13, 'ko': 14, 'sr': 15, 'bn': 16, 'pt': 17, 'wo': 18, 'ro': 19, 'hu': 20, 'cy': 21, 'vi': 22, 'cs': 23, 'da': 24, 'no': 25, 'nb': 26, 'pl': 27, 'el': 28, 'sh': 29, 'xx': 30, 'mk': 31, 'bo': 32, 'ca': 33, 'fi': 34, 'th': 35, 'sk': 36, 'bs': 37, 'he': 38, 'hi': 39, 'tr': 40, 'is': 41, 'ps': 42, 'ab': 43, 'eo': 44, 'ka': 45, 'mn': 46, 'bm': 47, 'zu': 48, 'uk': 49, 'af': 50, 'la': 51, 'ku': 52, 'fy': 53, 'lv': 54, 'ta': 55, 'sl': 56, 'tl': 57, 'ur': 58, 'rw': 59, 'id': 60, 'bg': 61, 'mr': 62, 'lt': 63, 'et': 64, 'kk': 65, 'ms': 66, 'sq': 67, 'qu': 68, 'te': 69, 'am': 70, 'jv': 71, 'tg': 72, 'ml': 73, 'hr': 74, 'lo': 75, 'ay': 76, 'kn': 77, 'eu': 78, 'ne': 79, 'pa': 80, 'ky': 81, 'gl': 82, 'uz': 83, 'sm': 84, 'mt': 85, 'hy': 86, 'iu': 87}\n"
     ]
    }
   ],
   "source": [
    "original_language_dictionary = create_original_languages_dictionary(original_language_series)\n",
    "print(original_language_dictionary)"
   ]
  },
  {
   "cell_type": "code",
   "execution_count": 226,
   "metadata": {},
   "outputs": [
    {
     "data": {
      "text/plain": [
       "'en'"
      ]
     },
     "execution_count": 226,
     "metadata": {},
     "output_type": "execute_result"
    }
   ],
   "source": [
    "all_data.loc[0, 'original_language']"
   ]
  },
  {
   "cell_type": "code",
   "execution_count": 227,
   "metadata": {
    "id": "jmmNtSChYSSD"
   },
   "outputs": [],
   "source": [
    "for itr in all_data.index:\n",
    "  all_data.at[itr, 'original_language'] = original_language_dictionary[all_data.at[itr, 'original_language']]"
   ]
  },
  {
   "cell_type": "code",
   "execution_count": 228,
   "metadata": {},
   "outputs": [
    {
     "data": {
      "text/plain": [
       "1"
      ]
     },
     "execution_count": 228,
     "metadata": {},
     "output_type": "execute_result"
    }
   ],
   "source": [
    "all_data.loc[10, 'original_language']\n"
   ]
  },
  {
   "cell_type": "code",
   "execution_count": 229,
   "metadata": {
    "colab": {
     "base_uri": "https://localhost:8080/"
    },
    "id": "fNpvsX-TkkA1",
    "outputId": "3eb2d0fe-62dc-4ddd-f73d-98a4e5688288"
   },
   "outputs": [
    {
     "data": {
      "text/plain": [
       "(36435, 25)"
      ]
     },
     "execution_count": 229,
     "metadata": {},
     "output_type": "execute_result"
    }
   ],
   "source": [
    "all_data.shape"
   ]
  },
  {
   "cell_type": "code",
   "execution_count": 230,
   "metadata": {
    "colab": {
     "base_uri": "https://localhost:8080/"
    },
    "id": "NqVafi5_lLII",
    "outputId": "35a30800-2d3e-47ed-8e2b-b66afe0a0916"
   },
   "outputs": [
    {
     "name": "stdout",
     "output_type": "stream",
     "text": [
      "<class 'pandas.core.frame.DataFrame'>\n",
      "Int64Index: 36435 entries, 0 to 37209\n",
      "Data columns (total 25 columns):\n",
      " #   Column                Non-Null Count  Dtype  \n",
      "---  ------                --------------  -----  \n",
      " 0   original_language     36435 non-null  object \n",
      " 1   original_title        36435 non-null  object \n",
      " 2   overview              36435 non-null  object \n",
      " 3   production_companies  36435 non-null  object \n",
      " 4   production_countries  36435 non-null  object \n",
      " 5   release_date          36435 non-null  object \n",
      " 6   runtime               36435 non-null  float64\n",
      " 7   cast                  36435 non-null  object \n",
      " 8   crew                  36435 non-null  object \n",
      " 9   keywords              36435 non-null  object \n",
      " 10  IMDB Score            36435 non-null  float64\n",
      " 11  Genre                 36435 non-null  object \n",
      " 12  num_faces             36435 non-null  float64\n",
      " 13  brightness            36435 non-null  float64\n",
      " 14  saturation            36435 non-null  float64\n",
      " 15  hue                   36435 non-null  float64\n",
      " 16  brightness_sd         36435 non-null  float64\n",
      " 17  saturation_sd         36435 non-null  float64\n",
      " 18  hue_sd                36435 non-null  float64\n",
      " 19  blue                  36435 non-null  float64\n",
      " 20  blue_sd               36435 non-null  float64\n",
      " 21  green                 36435 non-null  float64\n",
      " 22  green_sd              36435 non-null  float64\n",
      " 23  red                   36435 non-null  float64\n",
      " 24  red_sd                36435 non-null  float64\n",
      "dtypes: float64(15), object(10)\n",
      "memory usage: 8.2+ MB\n"
     ]
    }
   ],
   "source": [
    "all_data.info()"
   ]
  },
  {
   "cell_type": "code",
   "execution_count": 231,
   "metadata": {
    "colab": {
     "base_uri": "https://localhost:8080/"
    },
    "id": "A54HYMqO8UZT",
    "outputId": "11ff680a-c1f2-49d0-8846-7b7683484e65"
   },
   "outputs": [
    {
     "name": "stdout",
     "output_type": "stream",
     "text": [
      "(36435, 25)\n"
     ]
    }
   ],
   "source": [
    "pd.to_datetime(all_data.release_date)\n",
    "all_data['year'] = pd.DatetimeIndex(all_data['release_date']).year\n",
    "all_data = all_data.drop(columns=['release_date'], axis=1)\n",
    "print(all_data.shape)"
   ]
  },
  {
   "cell_type": "code",
   "execution_count": 232,
   "metadata": {
    "id": "OoGxiSeFl6ei"
   },
   "outputs": [],
   "source": [
    "#change value based on EDA\n",
    "#all_data = all_data.loc[all_data.year > 1960]"
   ]
  },
  {
   "cell_type": "code",
   "execution_count": 233,
   "metadata": {
    "colab": {
     "base_uri": "https://localhost:8080/"
    },
    "id": "eW4XcrSYmIcz",
    "outputId": "06cc03e2-89b0-4a03-e06a-845dd0cc8357"
   },
   "outputs": [
    {
     "name": "stdout",
     "output_type": "stream",
     "text": [
      "(36435, 25)\n"
     ]
    }
   ],
   "source": [
    "print(all_data.shape)"
   ]
  },
  {
   "cell_type": "code",
   "execution_count": 234,
   "metadata": {
    "colab": {
     "base_uri": "https://localhost:8080/",
     "height": 694
    },
    "id": "T5HP0A58knUi",
    "outputId": "f33e6bc0-ca1e-458c-89aa-7245b1501d08"
   },
   "outputs": [
    {
     "data": {
      "text/html": [
       "<div>\n",
       "<style scoped>\n",
       "    .dataframe tbody tr th:only-of-type {\n",
       "        vertical-align: middle;\n",
       "    }\n",
       "\n",
       "    .dataframe tbody tr th {\n",
       "        vertical-align: top;\n",
       "    }\n",
       "\n",
       "    .dataframe thead th {\n",
       "        text-align: right;\n",
       "    }\n",
       "</style>\n",
       "<table border=\"1\" class=\"dataframe\">\n",
       "  <thead>\n",
       "    <tr style=\"text-align: right;\">\n",
       "      <th></th>\n",
       "      <th>original_language</th>\n",
       "      <th>original_title</th>\n",
       "      <th>overview</th>\n",
       "      <th>production_companies</th>\n",
       "      <th>production_countries</th>\n",
       "      <th>runtime</th>\n",
       "      <th>cast</th>\n",
       "      <th>crew</th>\n",
       "      <th>keywords</th>\n",
       "      <th>IMDB Score</th>\n",
       "      <th>...</th>\n",
       "      <th>brightness_sd</th>\n",
       "      <th>saturation_sd</th>\n",
       "      <th>hue_sd</th>\n",
       "      <th>blue</th>\n",
       "      <th>blue_sd</th>\n",
       "      <th>green</th>\n",
       "      <th>green_sd</th>\n",
       "      <th>red</th>\n",
       "      <th>red_sd</th>\n",
       "      <th>year</th>\n",
       "    </tr>\n",
       "  </thead>\n",
       "  <tbody>\n",
       "    <tr>\n",
       "      <th>0</th>\n",
       "      <td>1</td>\n",
       "      <td>Toy Story</td>\n",
       "      <td>Led by Woody, Andy's toys live happily in his ...</td>\n",
       "      <td>[{'name': 'Pixar Animation Studios', 'id': 3}]</td>\n",
       "      <td>[{'iso_3166_1': 'US', 'name': 'United States o...</td>\n",
       "      <td>81.0</td>\n",
       "      <td>[{'cast_id': 14, 'character': 'Woody (voice)',...</td>\n",
       "      <td>[{'credit_id': '52fe4284c3a36847f8024f49', 'de...</td>\n",
       "      <td>[{'id': 931, 'name': 'jealousy'}, {'id': 4290,...</td>\n",
       "      <td>8.3</td>\n",
       "      <td>...</td>\n",
       "      <td>58.496526</td>\n",
       "      <td>80.933495</td>\n",
       "      <td>46.984021</td>\n",
       "      <td>147.046133</td>\n",
       "      <td>83.046441</td>\n",
       "      <td>127.812661</td>\n",
       "      <td>59.618615</td>\n",
       "      <td>79.571854</td>\n",
       "      <td>88.574055</td>\n",
       "      <td>1995</td>\n",
       "    </tr>\n",
       "    <tr>\n",
       "      <th>1</th>\n",
       "      <td>1</td>\n",
       "      <td>Jumanji</td>\n",
       "      <td>When siblings Judy and Peter discover an encha...</td>\n",
       "      <td>[{'name': 'TriStar Pictures', 'id': 559}, {'na...</td>\n",
       "      <td>[{'iso_3166_1': 'US', 'name': 'United States o...</td>\n",
       "      <td>104.0</td>\n",
       "      <td>[{'cast_id': 1, 'character': 'Alan Parrish', '...</td>\n",
       "      <td>[{'credit_id': '52fe44bfc3a36847f80a7cd1', 'de...</td>\n",
       "      <td>[{'id': 10090, 'name': 'board game'}, {'id': 1...</td>\n",
       "      <td>6.9</td>\n",
       "      <td>...</td>\n",
       "      <td>83.413251</td>\n",
       "      <td>67.319422</td>\n",
       "      <td>61.296055</td>\n",
       "      <td>132.472598</td>\n",
       "      <td>84.508776</td>\n",
       "      <td>137.041430</td>\n",
       "      <td>79.140584</td>\n",
       "      <td>137.619493</td>\n",
       "      <td>85.319415</td>\n",
       "      <td>1995</td>\n",
       "    </tr>\n",
       "    <tr>\n",
       "      <th>2</th>\n",
       "      <td>1</td>\n",
       "      <td>Grumpier Old Men</td>\n",
       "      <td>A family wedding reignites the ancient feud be...</td>\n",
       "      <td>[{'name': 'Warner Bros.', 'id': 6194}, {'name'...</td>\n",
       "      <td>[{'iso_3166_1': 'US', 'name': 'United States o...</td>\n",
       "      <td>101.0</td>\n",
       "      <td>[{'cast_id': 2, 'character': 'Max Goldman', 'c...</td>\n",
       "      <td>[{'credit_id': '52fe466a9251416c75077a89', 'de...</td>\n",
       "      <td>[{'id': 1495, 'name': 'fishing'}, {'id': 12392...</td>\n",
       "      <td>6.6</td>\n",
       "      <td>...</td>\n",
       "      <td>94.073346</td>\n",
       "      <td>70.979805</td>\n",
       "      <td>65.406756</td>\n",
       "      <td>97.464385</td>\n",
       "      <td>78.935691</td>\n",
       "      <td>106.743824</td>\n",
       "      <td>89.725921</td>\n",
       "      <td>136.728580</td>\n",
       "      <td>96.124722</td>\n",
       "      <td>1995</td>\n",
       "    </tr>\n",
       "    <tr>\n",
       "      <th>3</th>\n",
       "      <td>1</td>\n",
       "      <td>Waiting to Exhale</td>\n",
       "      <td>Cheated on, mistreated and stepped on, the wom...</td>\n",
       "      <td>[{'name': 'Twentieth Century Fox Film Corporat...</td>\n",
       "      <td>[{'iso_3166_1': 'US', 'name': 'United States o...</td>\n",
       "      <td>127.0</td>\n",
       "      <td>[{'cast_id': 1, 'character': \"Savannah 'Vannah...</td>\n",
       "      <td>[{'credit_id': '52fe44779251416c91011acb', 'de...</td>\n",
       "      <td>[{'id': 818, 'name': 'based on novel'}, {'id':...</td>\n",
       "      <td>5.7</td>\n",
       "      <td>...</td>\n",
       "      <td>71.637853</td>\n",
       "      <td>74.316934</td>\n",
       "      <td>57.431210</td>\n",
       "      <td>148.388970</td>\n",
       "      <td>88.371216</td>\n",
       "      <td>161.866089</td>\n",
       "      <td>82.379306</td>\n",
       "      <td>191.924122</td>\n",
       "      <td>72.849543</td>\n",
       "      <td>1995</td>\n",
       "    </tr>\n",
       "    <tr>\n",
       "      <th>4</th>\n",
       "      <td>1</td>\n",
       "      <td>Father of the Bride Part II</td>\n",
       "      <td>Just when George Banks has recovered from his ...</td>\n",
       "      <td>[{'name': 'Sandollar Productions', 'id': 5842}...</td>\n",
       "      <td>[{'iso_3166_1': 'US', 'name': 'United States o...</td>\n",
       "      <td>106.0</td>\n",
       "      <td>[{'cast_id': 1, 'character': 'George Banks', '...</td>\n",
       "      <td>[{'credit_id': '52fe44959251416c75039ed7', 'de...</td>\n",
       "      <td>[{'id': 1009, 'name': 'baby'}, {'id': 1599, 'n...</td>\n",
       "      <td>5.9</td>\n",
       "      <td>...</td>\n",
       "      <td>102.482222</td>\n",
       "      <td>85.251258</td>\n",
       "      <td>28.312941</td>\n",
       "      <td>94.287052</td>\n",
       "      <td>98.054007</td>\n",
       "      <td>110.440328</td>\n",
       "      <td>99.236678</td>\n",
       "      <td>136.537094</td>\n",
       "      <td>104.796367</td>\n",
       "      <td>1995</td>\n",
       "    </tr>\n",
       "  </tbody>\n",
       "</table>\n",
       "<p>5 rows × 25 columns</p>\n",
       "</div>"
      ],
      "text/plain": [
       "  original_language               original_title  \\\n",
       "0                 1                    Toy Story   \n",
       "1                 1                      Jumanji   \n",
       "2                 1             Grumpier Old Men   \n",
       "3                 1            Waiting to Exhale   \n",
       "4                 1  Father of the Bride Part II   \n",
       "\n",
       "                                            overview  \\\n",
       "0  Led by Woody, Andy's toys live happily in his ...   \n",
       "1  When siblings Judy and Peter discover an encha...   \n",
       "2  A family wedding reignites the ancient feud be...   \n",
       "3  Cheated on, mistreated and stepped on, the wom...   \n",
       "4  Just when George Banks has recovered from his ...   \n",
       "\n",
       "                                production_companies  \\\n",
       "0     [{'name': 'Pixar Animation Studios', 'id': 3}]   \n",
       "1  [{'name': 'TriStar Pictures', 'id': 559}, {'na...   \n",
       "2  [{'name': 'Warner Bros.', 'id': 6194}, {'name'...   \n",
       "3  [{'name': 'Twentieth Century Fox Film Corporat...   \n",
       "4  [{'name': 'Sandollar Productions', 'id': 5842}...   \n",
       "\n",
       "                                production_countries  runtime  \\\n",
       "0  [{'iso_3166_1': 'US', 'name': 'United States o...     81.0   \n",
       "1  [{'iso_3166_1': 'US', 'name': 'United States o...    104.0   \n",
       "2  [{'iso_3166_1': 'US', 'name': 'United States o...    101.0   \n",
       "3  [{'iso_3166_1': 'US', 'name': 'United States o...    127.0   \n",
       "4  [{'iso_3166_1': 'US', 'name': 'United States o...    106.0   \n",
       "\n",
       "                                                cast  \\\n",
       "0  [{'cast_id': 14, 'character': 'Woody (voice)',...   \n",
       "1  [{'cast_id': 1, 'character': 'Alan Parrish', '...   \n",
       "2  [{'cast_id': 2, 'character': 'Max Goldman', 'c...   \n",
       "3  [{'cast_id': 1, 'character': \"Savannah 'Vannah...   \n",
       "4  [{'cast_id': 1, 'character': 'George Banks', '...   \n",
       "\n",
       "                                                crew  \\\n",
       "0  [{'credit_id': '52fe4284c3a36847f8024f49', 'de...   \n",
       "1  [{'credit_id': '52fe44bfc3a36847f80a7cd1', 'de...   \n",
       "2  [{'credit_id': '52fe466a9251416c75077a89', 'de...   \n",
       "3  [{'credit_id': '52fe44779251416c91011acb', 'de...   \n",
       "4  [{'credit_id': '52fe44959251416c75039ed7', 'de...   \n",
       "\n",
       "                                            keywords  IMDB Score  ...  \\\n",
       "0  [{'id': 931, 'name': 'jealousy'}, {'id': 4290,...         8.3  ...   \n",
       "1  [{'id': 10090, 'name': 'board game'}, {'id': 1...         6.9  ...   \n",
       "2  [{'id': 1495, 'name': 'fishing'}, {'id': 12392...         6.6  ...   \n",
       "3  [{'id': 818, 'name': 'based on novel'}, {'id':...         5.7  ...   \n",
       "4  [{'id': 1009, 'name': 'baby'}, {'id': 1599, 'n...         5.9  ...   \n",
       "\n",
       "  brightness_sd  saturation_sd      hue_sd        blue    blue_sd       green  \\\n",
       "0     58.496526       80.933495  46.984021  147.046133  83.046441  127.812661   \n",
       "1     83.413251       67.319422  61.296055  132.472598  84.508776  137.041430   \n",
       "2     94.073346       70.979805  65.406756   97.464385  78.935691  106.743824   \n",
       "3     71.637853       74.316934  57.431210  148.388970  88.371216  161.866089   \n",
       "4    102.482222       85.251258  28.312941   94.287052  98.054007  110.440328   \n",
       "\n",
       "    green_sd         red     red_sd   year  \n",
       "0  59.618615   79.571854   88.574055  1995  \n",
       "1  79.140584  137.619493   85.319415  1995  \n",
       "2  89.725921  136.728580   96.124722  1995  \n",
       "3  82.379306  191.924122   72.849543  1995  \n",
       "4  99.236678  136.537094  104.796367  1995  \n",
       "\n",
       "[5 rows x 25 columns]"
      ]
     },
     "execution_count": 234,
     "metadata": {},
     "output_type": "execute_result"
    }
   ],
   "source": [
    "all_data.head()"
   ]
  },
  {
   "cell_type": "code",
   "execution_count": 235,
   "metadata": {
    "id": "IDdTh0Xy8UZU"
   },
   "outputs": [],
   "source": [
    "#score_by_genre = all_data.groupby(['Genre'])['IMDB Score'].agg(['mean', 'count']).sort_values(by='mean')\n",
    "#score_by_genre[score_by_genre['count'] > 0]"
   ]
  },
  {
   "cell_type": "code",
   "execution_count": 236,
   "metadata": {
    "colab": {
     "base_uri": "https://localhost:8080/"
    },
    "id": "ZxtX_sC28UZW",
    "outputId": "22d5dbf5-08ac-4537-d951-4c1e99b196e7"
   },
   "outputs": [
    {
     "data": {
      "text/plain": [
       "original_language                                                       1\n",
       "original_title                                                    Jumanji\n",
       "overview                When siblings Judy and Peter discover an encha...\n",
       "production_companies    [{'name': 'TriStar Pictures', 'id': 559}, {'na...\n",
       "production_countries    [{'iso_3166_1': 'US', 'name': 'United States o...\n",
       "runtime                                                        104.000000\n",
       "cast                    [{'cast_id': 1, 'character': 'Alan Parrish', '...\n",
       "crew                    [{'credit_id': '52fe44bfc3a36847f80a7cd1', 'de...\n",
       "keywords                [{'id': 10090, 'name': 'board game'}, {'id': 1...\n",
       "IMDB Score                                                       6.900000\n",
       "Genre                                             Action|Adventure|Family\n",
       "num_faces                                                        0.000000\n",
       "brightness                                                     166.807096\n",
       "saturation                                                      91.547633\n",
       "hue                                                             65.296239\n",
       "brightness_sd                                                   83.413251\n",
       "saturation_sd                                                   67.319422\n",
       "hue_sd                                                          61.296055\n",
       "blue                                                           132.472598\n",
       "blue_sd                                                         84.508776\n",
       "green                                                          137.041430\n",
       "green_sd                                                        79.140584\n",
       "red                                                            137.619493\n",
       "red_sd                                                          85.319415\n",
       "year                                                                 1995\n",
       "Name: 1, dtype: object"
      ]
     },
     "execution_count": 236,
     "metadata": {},
     "output_type": "execute_result"
    }
   ],
   "source": [
    "all_data.loc[1]"
   ]
  },
  {
   "cell_type": "code",
   "execution_count": 237,
   "metadata": {
    "colab": {
     "base_uri": "https://localhost:8080/",
     "height": 120
    },
    "id": "XnSLBbTt8UZW",
    "outputId": "a7a3ccdb-7652-496b-92c6-9369cdf328b6"
   },
   "outputs": [
    {
     "data": {
      "text/plain": [
       "\"[{'cast_id': 1, 'character': 'Alan Parrish', 'credit_id': '52fe44bfc3a36847f80a7c73', 'gender': 2, 'id': 2157, 'name': 'Robin Williams', 'order': 0, 'profile_path': '/sojtJyIV3lkUeThD7A2oHNm8183.jpg'}, {'cast_id': 8, 'character': 'Samuel Alan Parrish / Van Pelt', 'credit_id': '52fe44bfc3a36847f80a7c99', 'gender': 2, 'id': 8537, 'name': 'Jonathan Hyde', 'order': 1, 'profile_path': '/7il5D76vx6QVRVlpVvBPEC40MBi.jpg'}, {'cast_id': 2, 'character': 'Judy Sheperd', 'credit_id': '52fe44bfc3a36847f80a7c77', 'gender': 1, 'id': 205, 'name': 'Kirsten Dunst', 'order': 2, 'profile_path': '/wBXvh6PJd0IUVNpvatPC1kzuHtm.jpg'}, {'cast_id': 24, 'character': 'Peter Shepherd', 'credit_id': '52fe44c0c3a36847f80a7ce7', 'gender': 0, 'id': 145151, 'name': 'Bradley Pierce', 'order': 3, 'profile_path': '/j6iW0vVA23GQniAPSYI6mi4hiEW.jpg'}, {'cast_id': 10, 'character': 'Sarah Whittle', 'credit_id': '52fe44bfc3a36847f80a7c9d', 'gender': 1, 'id': 5149, 'name': 'Bonnie Hunt', 'order': 4, 'profile_path': '/7spiVQwmr8siw5QCcvvdRG3c7Lf.jpg'}, {'cast_id': 25, 'character': 'Nora Shepherd', 'credit_id': '52fe44c0c3a36847f80a7ceb', 'gender': 1, 'id': 10739, 'name': 'Bebe Neuwirth', 'order': 5, 'profile_path': '/xm58rpMRVDHS0IGttw1pTlqGwkN.jpg'}, {'cast_id': 26, 'character': 'Carl Bentley', 'credit_id': '52fe44c0c3a36847f80a7cef', 'gender': 2, 'id': 58563, 'name': 'David Alan Grier', 'order': 6, 'profile_path': '/5tkt3qRZTco4sz604aTIarQ0m8W.jpg'}, {'cast_id': 11, 'character': 'Carol Anne Parrish', 'credit_id': '52fe44bfc3a36847f80a7ca1', 'gender': 1, 'id': 1276, 'name': 'Patricia Clarkson', 'order': 7, 'profile_path': '/10ZSyaUqzUlKTd60HmeiGhlytZG.jpg'}, {'cast_id': 14, 'character': 'Alan Parrish (young)', 'credit_id': '52fe44bfc3a36847f80a7cad', 'gender': 0, 'id': 46530, 'name': 'Adam Hann-Byrd', 'order': 8, 'profile_path': '/hEoqDqtMO91hYWD5iDrDesnLDlt.jpg'}, {'cast_id': 13, 'character': 'Sarah Whittle (young)', 'credit_id': '52fe44bfc3a36847f80a7ca9', 'gender': 1, 'id': 56523, 'name': 'Laura Bell Bundy', 'order': 9, 'profile_path': '/8tAVDBRoZPjKfCbBDyh4iK9JNEp.jpg'}, {'cast_id': 31, 'character': 'Exterminator', 'credit_id': '52fe44c0c3a36847f80a7cff', 'gender': 2, 'id': 51551, 'name': 'James Handy', 'order': 10, 'profile_path': '/vm0WQmuP8jEGgFTd3VCcJe7zpUi.jpg'}, {'cast_id': 12, 'character': 'Mrs. Thomas the Realtor', 'credit_id': '52fe44bfc3a36847f80a7ca5', 'gender': 1, 'id': 56522, 'name': 'Gillian Barber', 'order': 11, 'profile_path': '/qoqPX15J5jh6Sy0A9JvvRJIuw64.jpg'}, {'cast_id': 28, 'character': 'Benjamin', 'credit_id': '52fe44c0c3a36847f80a7cf3', 'gender': 2, 'id': 1000304, 'name': 'Brandon Obray', 'order': 12, 'profile_path': None}, {'cast_id': 29, 'character': 'Caleb', 'credit_id': '52fe44c0c3a36847f80a7cf7', 'gender': 0, 'id': 188949, 'name': 'Cyrus Thiedeke', 'order': 13, 'profile_path': None}, {'cast_id': 30, 'character': 'Billy Jessup', 'credit_id': '52fe44c0c3a36847f80a7cfb', 'gender': 0, 'id': 1076551, 'name': 'Gary Joseph Thorup', 'order': 14, 'profile_path': None}, {'cast_id': 32, 'character': 'Cop', 'credit_id': '5588053fc3a36838530063f5', 'gender': 0, 'id': 1480246, 'name': 'Leonard Zola', 'order': 15, 'profile_path': None}, {'cast_id': 33, 'character': 'Bum', 'credit_id': '55935687925141645a002097', 'gender': 2, 'id': 25024, 'name': 'Lloyd Berry', 'order': 16, 'profile_path': '/s7SVCOtvcuQ9wRQPZfUdahb5x88.jpg'}, {'cast_id': 34, 'character': 'Jim Shepherd', 'credit_id': '559356d09251415df8002cb7', 'gender': 2, 'id': 27110, 'name': 'Malcolm Stewart', 'order': 17, 'profile_path': '/l2vgzkLR7GRr8ugjZCILA0OiliI.jpg'}, {'cast_id': 35, 'character': 'Martha Shepherd', 'credit_id': '55935730925141645a0020ad', 'gender': 0, 'id': 53715, 'name': 'Annabel Kershaw', 'order': 18, 'profile_path': '/1VqbvAohBwFhETZtDe76JXQcxKm.jpg'}, {'cast_id': 36, 'character': 'Gun Salesman', 'credit_id': '5593576992514167fd000610', 'gender': 2, 'id': 1379424, 'name': 'Darryl Henriques', 'order': 19, 'profile_path': '/7QMHooY9ewNQlE24WKAOdwW0evU.jpg'}, {'cast_id': 37, 'character': 'Paramedic', 'credit_id': '559357ae92514152de002f42', 'gender': 0, 'id': 1235504, 'name': 'Robyn Driscoll', 'order': 20, 'profile_path': None}, {'cast_id': 50, 'character': 'Paramedic', 'credit_id': '5657803b925141018f00a5dc', 'gender': 2, 'id': 25389, 'name': 'Peter Bryant', 'order': 21, 'profile_path': '/fkcx9Tnp25UC5HlI2eW3nGvumsZ.jpg'}, {'cast_id': 39, 'character': 'Girl', 'credit_id': '559358e292514152de002f63', 'gender': 0, 'id': 1483449, 'name': 'Sarah Gilson', 'order': 22, 'profile_path': None}, {'cast_id': 40, 'character': 'Girl', 'credit_id': '5593590d92514152db002df3', 'gender': 0, 'id': 1483450, 'name': 'Florica Vlad', 'order': 23, 'profile_path': None}, {'cast_id': 41, 'character': 'Baker', 'credit_id': '55935946c3a36869d1001b4d', 'gender': 0, 'id': 1483451, 'name': 'June Lion', 'order': 24, 'profile_path': None}, {'cast_id': 42, 'character': 'Pianist', 'credit_id': '5593597692514167fd000644', 'gender': 0, 'id': 1483452, 'name': 'Brenda Lockmuller', 'order': 25, 'profile_path': None}]\""
      ]
     },
     "execution_count": 237,
     "metadata": {},
     "output_type": "execute_result"
    }
   ],
   "source": [
    "(all_data.loc[1, 'cast'])"
   ]
  },
  {
   "cell_type": "code",
   "execution_count": 238,
   "metadata": {
    "id": "gY4ze_y08UZX"
   },
   "outputs": [],
   "source": [
    "from ast import literal_eval"
   ]
  },
  {
   "cell_type": "code",
   "execution_count": 239,
   "metadata": {
    "id": "l7INBMSOnQ-_"
   },
   "outputs": [],
   "source": [
    "def get_production_companies(l):\n",
    "  if isinstance(l, list):\n",
    "    productionCompanies = [pc['name'] for pc in l]\n",
    "    return '|'.join(productionCompanies)\n",
    "  return ''"
   ]
  },
  {
   "cell_type": "code",
   "execution_count": 240,
   "metadata": {
    "id": "W1MrNXj-pY9F"
   },
   "outputs": [],
   "source": [
    "def get_production_countries(l):\n",
    "  if isinstance(l, list):\n",
    "    #productionCountries = [pc['iso_3166_1'] for pc in l]\n",
    "    #return '|'.join(productionCountries)\n",
    "    if len(l)>0:\n",
    "      return l[0]['iso_3166_1']\n",
    "  return ''"
   ]
  },
  {
   "cell_type": "code",
   "execution_count": 241,
   "metadata": {},
   "outputs": [
    {
     "data": {
      "text/plain": [
       "\"[{'id': 931, 'name': 'jealousy'}, {'id': 4290, 'name': 'toy'}, {'id': 5202, 'name': 'boy'}, {'id': 6054, 'name': 'friendship'}, {'id': 9713, 'name': 'friends'}, {'id': 9823, 'name': 'rivalry'}, {'id': 165503, 'name': 'boy next door'}, {'id': 170722, 'name': 'new toy'}, {'id': 187065, 'name': 'toy comes to life'}]\""
      ]
     },
     "execution_count": 241,
     "metadata": {},
     "output_type": "execute_result"
    }
   ],
   "source": [
    "all_data.loc[0, 'keywords']"
   ]
  },
  {
   "cell_type": "code",
   "execution_count": 276,
   "metadata": {
    "id": "CNQA08Of9cya"
   },
   "outputs": [],
   "source": [
    "def get_keywords(l):\n",
    "  if isinstance(l, list):\n",
    "    # temp = [x.split() for x in l]\n",
    "      # return temp\n",
    "    # words = [x['name'] for x in l]\n",
    "    # print(l)\n",
    "    # print(words)\n",
    "    words = [x['name'] for x in l]\n",
    "    allWords = []\n",
    "    for word in words:\n",
    "      temp = word.split()\n",
    "      for t in temp:\n",
    "        allWords.append(t)\n",
    "    # print(allWords)\n",
    "    allWords = set(allWords)\n",
    "    keyWords = ['keyword-' + w for w in allWords]\n",
    "    return '|'.join(keyWords)\n",
    "  return ''"
   ]
  },
  {
   "cell_type": "code",
   "execution_count": 270,
   "metadata": {},
   "outputs": [
    {
     "name": "stdout",
     "output_type": "stream",
     "text": [
      "[{'id': 931, 'name': 'jealousy'}, {'id': 4290, 'name': 'toy'}, {'id': 5202, 'name': 'boy'}, {'id': 6054, 'name': 'friendship'}, {'id': 9713, 'name': 'friends'}, {'id': 9823, 'name': 'rivalry'}, {'id': 165503, 'name': 'boy next door'}, {'id': 170722, 'name': 'new toy'}, {'id': 187065, 'name': 'toy comes to life'}]\n"
     ]
    },
    {
     "data": {
      "text/plain": [
       "'keyword-life|keyword-rivalry|keyword-boy|keyword-to|keyword-next|keyword-door|keyword-comes|keyword-friends|keyword-friendship|keyword-new|keyword-toy|keyword-jealousy'"
      ]
     },
     "execution_count": 270,
     "metadata": {},
     "output_type": "execute_result"
    }
   ],
   "source": [
    "words = [{'id': 931, 'name': 'jealousy'}, {'id': 4290, 'name': 'toy'}, {'id': 5202, 'name': 'boy'}, {'id': 6054, 'name': 'friendship'}, {'id': 9713, 'name': 'friends'}, {'id': 9823, 'name': 'rivalry'}, {'id': 165503, 'name': 'boy next door'}, {'id': 170722, 'name': 'new toy'}, {'id': 187065, 'name': 'toy comes to life'}]\n",
    "get_keywords(words)"
   ]
  },
  {
   "cell_type": "code",
   "execution_count": 271,
   "metadata": {
    "id": "fcK8HORSEqjv"
   },
   "outputs": [],
   "source": [
    "def get_original_title(s):\n",
    "  if isinstance(s, str):\n",
    "    s = s.lower()\n",
    "    temp = s.split()\n",
    "    temp2 = [x for x in temp if x not in stop_words_set]\n",
    "    #print(len(temp) - len(temp2))\n",
    "    title_words = ['title-' + t for t in temp2]\n",
    "    return '|'.join(title_words)\n",
    "  return ''"
   ]
  },
  {
   "cell_type": "code",
   "execution_count": 272,
   "metadata": {
    "id": "jbcvVCAQ8UZY"
   },
   "outputs": [],
   "source": [
    "def get_director(l):\n",
    "  for d in l:\n",
    "    if d['job'] == 'Director':\n",
    "      return d['name']\n",
    "  return ''\n",
    "\n",
    "def get_actors(l):\n",
    "    if isinstance(l, list):\n",
    "        actors = [d['name'] for d in l]\n",
    "        if len(actors) >= 3:\n",
    "            actors = actors[:3]\n",
    "            return '|'.join(actors)\n",
    "        return '|'.join(actors)\n",
    "\n",
    "\n",
    "directors = all_data['crew'].apply(literal_eval).apply(get_director)\n",
    "top_actors = all_data['cast'].apply(literal_eval).apply(get_actors)"
   ]
  },
  {
   "cell_type": "code",
   "execution_count": 273,
   "metadata": {
    "id": "nOxAnB-Vn0gt"
   },
   "outputs": [],
   "source": [
    "production_companies = all_data['production_companies'].apply(literal_eval).apply(get_production_companies)"
   ]
  },
  {
   "cell_type": "code",
   "execution_count": 274,
   "metadata": {
    "id": "rP-jLzTpp3NH"
   },
   "outputs": [],
   "source": [
    "production_countries = all_data['production_countries'].apply(literal_eval).apply(get_production_countries)"
   ]
  },
  {
   "cell_type": "code",
   "execution_count": 277,
   "metadata": {
    "id": "9mDobmgXBuwf"
   },
   "outputs": [],
   "source": [
    "keywords = all_data['keywords'].apply(literal_eval).apply(get_keywords)"
   ]
  },
  {
   "cell_type": "code",
   "execution_count": 278,
   "metadata": {
    "colab": {
     "base_uri": "https://localhost:8080/"
    },
    "id": "XIWYIo46FNFP",
    "outputId": "172c644c-b63c-4f09-ccf9-051054735a78"
   },
   "outputs": [],
   "source": [
    "original_title = all_data['original_title'].apply(get_original_title)"
   ]
  },
  {
   "cell_type": "code",
   "execution_count": 279,
   "metadata": {},
   "outputs": [
    {
     "data": {
      "text/plain": [
       "'John Lasseter'"
      ]
     },
     "execution_count": 279,
     "metadata": {},
     "output_type": "execute_result"
    }
   ],
   "source": [
    "directors[0]"
   ]
  },
  {
   "cell_type": "code",
   "execution_count": 280,
   "metadata": {},
   "outputs": [
    {
     "data": {
      "text/plain": [
       "'Tom Hanks|Tim Allen|Don Rickles'"
      ]
     },
     "execution_count": 280,
     "metadata": {},
     "output_type": "execute_result"
    }
   ],
   "source": [
    "top_actors[0]"
   ]
  },
  {
   "cell_type": "code",
   "execution_count": 281,
   "metadata": {},
   "outputs": [
    {
     "data": {
      "text/plain": [
       "'Pixar Animation Studios'"
      ]
     },
     "execution_count": 281,
     "metadata": {},
     "output_type": "execute_result"
    }
   ],
   "source": [
    "production_companies[0]"
   ]
  },
  {
   "cell_type": "code",
   "execution_count": 282,
   "metadata": {},
   "outputs": [
    {
     "data": {
      "text/plain": [
       "'US'"
      ]
     },
     "execution_count": 282,
     "metadata": {},
     "output_type": "execute_result"
    }
   ],
   "source": [
    "production_countries[0]"
   ]
  },
  {
   "cell_type": "code",
   "execution_count": 284,
   "metadata": {},
   "outputs": [
    {
     "data": {
      "text/plain": [
       "\"keyword-on|keyword-giant|keyword-disappearance|keyword-home|keyword-insect|keyword-book|keyword-new|keyword-game|keyword-board|keyword-recluse|keyword-children's|keyword-based\""
      ]
     },
     "execution_count": 284,
     "metadata": {},
     "output_type": "execute_result"
    }
   ],
   "source": [
    "keywords[1]"
   ]
  },
  {
   "cell_type": "code",
   "execution_count": 174,
   "metadata": {},
   "outputs": [
    {
     "data": {
      "text/plain": [
       "'title-toy|title-story'"
      ]
     },
     "execution_count": 174,
     "metadata": {},
     "output_type": "execute_result"
    }
   ],
   "source": [
    "original_title[0]"
   ]
  },
  {
   "cell_type": "code",
   "execution_count": 175,
   "metadata": {
    "id": "Z1AosHjV8UZZ"
   },
   "outputs": [],
   "source": [
    "all_data['director'] = directors\n",
    "all_data['actors'] = top_actors\n",
    "all_data['production_companies'] = production_companies\n",
    "all_data['production_countries'] = production_countries\n",
    "all_data['keywords'] = keywords\n",
    "all_data['original_title'] = original_title"
   ]
  },
  {
   "cell_type": "code",
   "execution_count": 176,
   "metadata": {
    "colab": {
     "base_uri": "https://localhost:8080/"
    },
    "id": "0cEZn4Sb8UZZ",
    "outputId": "124fab35-f454-4c84-8ff9-ed96bc06cc20"
   },
   "outputs": [
    {
     "data": {
      "text/plain": [
       "(36435, 27)"
      ]
     },
     "execution_count": 176,
     "metadata": {},
     "output_type": "execute_result"
    }
   ],
   "source": [
    "all_data.shape"
   ]
  },
  {
   "cell_type": "code",
   "execution_count": 177,
   "metadata": {
    "colab": {
     "base_uri": "https://localhost:8080/"
    },
    "id": "J241gaPuiQ86",
    "outputId": "ec51bd2c-5ec2-4324-a411-bce38345f07b"
   },
   "outputs": [
    {
     "data": {
      "text/plain": [
       "dtype('O')"
      ]
     },
     "execution_count": 177,
     "metadata": {},
     "output_type": "execute_result"
    }
   ],
   "source": [
    "all_data['actors'].dtype"
   ]
  },
  {
   "cell_type": "code",
   "execution_count": 178,
   "metadata": {
    "colab": {
     "base_uri": "https://localhost:8080/"
    },
    "id": "h8Whnx8EiapD",
    "outputId": "d46f18d5-b3d2-4a94-cd82-0530c1973a3b"
   },
   "outputs": [
    {
     "data": {
      "text/plain": [
       "original_language        object\n",
       "original_title           object\n",
       "overview                 object\n",
       "production_companies     object\n",
       "production_countries     object\n",
       "runtime                 float64\n",
       "cast                     object\n",
       "crew                     object\n",
       "keywords                 object\n",
       "IMDB Score              float64\n",
       "Genre                    object\n",
       "num_faces               float64\n",
       "brightness              float64\n",
       "saturation              float64\n",
       "hue                     float64\n",
       "brightness_sd           float64\n",
       "saturation_sd           float64\n",
       "hue_sd                  float64\n",
       "blue                    float64\n",
       "blue_sd                 float64\n",
       "green                   float64\n",
       "green_sd                float64\n",
       "red                     float64\n",
       "red_sd                  float64\n",
       "year                      int64\n",
       "director                 object\n",
       "actors                   object\n",
       "dtype: object"
      ]
     },
     "execution_count": 178,
     "metadata": {},
     "output_type": "execute_result"
    }
   ],
   "source": [
    "all_data.dtypes"
   ]
  },
  {
   "cell_type": "code",
   "execution_count": 179,
   "metadata": {
    "colab": {
     "base_uri": "https://localhost:8080/"
    },
    "id": "k4ZxsFndoZbj",
    "outputId": "364de9c9-c9ca-4290-869c-4e62bcefdc4d"
   },
   "outputs": [
    {
     "data": {
      "text/plain": [
       "Index(['original_language', 'original_title', 'overview',\n",
       "       'production_companies', 'production_countries', 'runtime', 'cast',\n",
       "       'crew', 'keywords', 'IMDB Score', 'Genre', 'num_faces', 'brightness',\n",
       "       'saturation', 'hue', 'brightness_sd', 'saturation_sd ', 'hue_sd',\n",
       "       'blue', 'blue_sd', 'green', 'green_sd', 'red', 'red_sd ', 'year',\n",
       "       'director', 'actors'],\n",
       "      dtype='object')"
      ]
     },
     "execution_count": 179,
     "metadata": {},
     "output_type": "execute_result"
    }
   ],
   "source": [
    "all_data.columns"
   ]
  },
  {
   "cell_type": "code",
   "execution_count": 180,
   "metadata": {
    "colab": {
     "base_uri": "https://localhost:8080/",
     "height": 677
    },
    "id": "6NRc1WXbNrWt",
    "outputId": "3ce61917-5092-454f-a266-017da4d1ecfe"
   },
   "outputs": [
    {
     "data": {
      "text/html": [
       "<div>\n",
       "<style scoped>\n",
       "    .dataframe tbody tr th:only-of-type {\n",
       "        vertical-align: middle;\n",
       "    }\n",
       "\n",
       "    .dataframe tbody tr th {\n",
       "        vertical-align: top;\n",
       "    }\n",
       "\n",
       "    .dataframe thead th {\n",
       "        text-align: right;\n",
       "    }\n",
       "</style>\n",
       "<table border=\"1\" class=\"dataframe\">\n",
       "  <thead>\n",
       "    <tr style=\"text-align: right;\">\n",
       "      <th></th>\n",
       "      <th>original_language</th>\n",
       "      <th>original_title</th>\n",
       "      <th>overview</th>\n",
       "      <th>production_companies</th>\n",
       "      <th>production_countries</th>\n",
       "      <th>runtime</th>\n",
       "      <th>cast</th>\n",
       "      <th>crew</th>\n",
       "      <th>keywords</th>\n",
       "      <th>IMDB Score</th>\n",
       "      <th>...</th>\n",
       "      <th>hue_sd</th>\n",
       "      <th>blue</th>\n",
       "      <th>blue_sd</th>\n",
       "      <th>green</th>\n",
       "      <th>green_sd</th>\n",
       "      <th>red</th>\n",
       "      <th>red_sd</th>\n",
       "      <th>year</th>\n",
       "      <th>director</th>\n",
       "      <th>actors</th>\n",
       "    </tr>\n",
       "  </thead>\n",
       "  <tbody>\n",
       "    <tr>\n",
       "      <th>0</th>\n",
       "      <td>1</td>\n",
       "      <td>title-toy|title-story</td>\n",
       "      <td>Led by Woody, Andy's toys live happily in his ...</td>\n",
       "      <td>Pixar Animation Studios</td>\n",
       "      <td>US</td>\n",
       "      <td>81.0</td>\n",
       "      <td>[{'cast_id': 14, 'character': 'Woody (voice)',...</td>\n",
       "      <td>[{'credit_id': '52fe4284c3a36847f8024f49', 'de...</td>\n",
       "      <td>keyword-jealousy|keyword-toy|keyword-boy|keywo...</td>\n",
       "      <td>8.3</td>\n",
       "      <td>...</td>\n",
       "      <td>46.984021</td>\n",
       "      <td>147.046133</td>\n",
       "      <td>83.046441</td>\n",
       "      <td>127.812661</td>\n",
       "      <td>59.618615</td>\n",
       "      <td>79.571854</td>\n",
       "      <td>88.574055</td>\n",
       "      <td>1995</td>\n",
       "      <td>John Lasseter</td>\n",
       "      <td>Tom Hanks|Tim Allen|Don Rickles</td>\n",
       "    </tr>\n",
       "    <tr>\n",
       "      <th>1</th>\n",
       "      <td>1</td>\n",
       "      <td>title-jumanji</td>\n",
       "      <td>When siblings Judy and Peter discover an encha...</td>\n",
       "      <td>TriStar Pictures|Teitler Film|Interscope Commu...</td>\n",
       "      <td>US</td>\n",
       "      <td>104.0</td>\n",
       "      <td>[{'cast_id': 1, 'character': 'Alan Parrish', '...</td>\n",
       "      <td>[{'credit_id': '52fe44bfc3a36847f80a7cd1', 'de...</td>\n",
       "      <td>keyword-board game|keyword-disappearance|keywo...</td>\n",
       "      <td>6.9</td>\n",
       "      <td>...</td>\n",
       "      <td>61.296055</td>\n",
       "      <td>132.472598</td>\n",
       "      <td>84.508776</td>\n",
       "      <td>137.041430</td>\n",
       "      <td>79.140584</td>\n",
       "      <td>137.619493</td>\n",
       "      <td>85.319415</td>\n",
       "      <td>1995</td>\n",
       "      <td>Joe Johnston</td>\n",
       "      <td>Robin Williams|Jonathan Hyde|Kirsten Dunst</td>\n",
       "    </tr>\n",
       "    <tr>\n",
       "      <th>2</th>\n",
       "      <td>1</td>\n",
       "      <td>title-grumpier|title-old|title-men</td>\n",
       "      <td>A family wedding reignites the ancient feud be...</td>\n",
       "      <td>Warner Bros.|Lancaster Gate</td>\n",
       "      <td>US</td>\n",
       "      <td>101.0</td>\n",
       "      <td>[{'cast_id': 2, 'character': 'Max Goldman', 'c...</td>\n",
       "      <td>[{'credit_id': '52fe466a9251416c75077a89', 'de...</td>\n",
       "      <td>keyword-fishing|keyword-best friend|keyword-du...</td>\n",
       "      <td>6.6</td>\n",
       "      <td>...</td>\n",
       "      <td>65.406756</td>\n",
       "      <td>97.464385</td>\n",
       "      <td>78.935691</td>\n",
       "      <td>106.743824</td>\n",
       "      <td>89.725921</td>\n",
       "      <td>136.728580</td>\n",
       "      <td>96.124722</td>\n",
       "      <td>1995</td>\n",
       "      <td>Howard Deutch</td>\n",
       "      <td>Walter Matthau|Jack Lemmon|Ann-Margret</td>\n",
       "    </tr>\n",
       "    <tr>\n",
       "      <th>3</th>\n",
       "      <td>1</td>\n",
       "      <td>title-waiting|title-exhale</td>\n",
       "      <td>Cheated on, mistreated and stepped on, the wom...</td>\n",
       "      <td>Twentieth Century Fox Film Corporation</td>\n",
       "      <td>US</td>\n",
       "      <td>127.0</td>\n",
       "      <td>[{'cast_id': 1, 'character': \"Savannah 'Vannah...</td>\n",
       "      <td>[{'credit_id': '52fe44779251416c91011acb', 'de...</td>\n",
       "      <td>keyword-based on novel|keyword-interracial rel...</td>\n",
       "      <td>5.7</td>\n",
       "      <td>...</td>\n",
       "      <td>57.431210</td>\n",
       "      <td>148.388970</td>\n",
       "      <td>88.371216</td>\n",
       "      <td>161.866089</td>\n",
       "      <td>82.379306</td>\n",
       "      <td>191.924122</td>\n",
       "      <td>72.849543</td>\n",
       "      <td>1995</td>\n",
       "      <td>Forest Whitaker</td>\n",
       "      <td>Whitney Houston|Angela Bassett|Loretta Devine</td>\n",
       "    </tr>\n",
       "    <tr>\n",
       "      <th>4</th>\n",
       "      <td>1</td>\n",
       "      <td>title-father|title-bride|title-part|title-ii</td>\n",
       "      <td>Just when George Banks has recovered from his ...</td>\n",
       "      <td>Sandollar Productions|Touchstone Pictures</td>\n",
       "      <td>US</td>\n",
       "      <td>106.0</td>\n",
       "      <td>[{'cast_id': 1, 'character': 'George Banks', '...</td>\n",
       "      <td>[{'credit_id': '52fe44959251416c75039ed7', 'de...</td>\n",
       "      <td>keyword-baby|keyword-midlife crisis|keyword-co...</td>\n",
       "      <td>5.9</td>\n",
       "      <td>...</td>\n",
       "      <td>28.312941</td>\n",
       "      <td>94.287052</td>\n",
       "      <td>98.054007</td>\n",
       "      <td>110.440328</td>\n",
       "      <td>99.236678</td>\n",
       "      <td>136.537094</td>\n",
       "      <td>104.796367</td>\n",
       "      <td>1995</td>\n",
       "      <td>Charles Shyer</td>\n",
       "      <td>Steve Martin|Diane Keaton|Martin Short</td>\n",
       "    </tr>\n",
       "  </tbody>\n",
       "</table>\n",
       "<p>5 rows × 27 columns</p>\n",
       "</div>"
      ],
      "text/plain": [
       "  original_language                                original_title  \\\n",
       "0                 1                         title-toy|title-story   \n",
       "1                 1                                 title-jumanji   \n",
       "2                 1            title-grumpier|title-old|title-men   \n",
       "3                 1                    title-waiting|title-exhale   \n",
       "4                 1  title-father|title-bride|title-part|title-ii   \n",
       "\n",
       "                                            overview  \\\n",
       "0  Led by Woody, Andy's toys live happily in his ...   \n",
       "1  When siblings Judy and Peter discover an encha...   \n",
       "2  A family wedding reignites the ancient feud be...   \n",
       "3  Cheated on, mistreated and stepped on, the wom...   \n",
       "4  Just when George Banks has recovered from his ...   \n",
       "\n",
       "                                production_companies production_countries  \\\n",
       "0                            Pixar Animation Studios                   US   \n",
       "1  TriStar Pictures|Teitler Film|Interscope Commu...                   US   \n",
       "2                        Warner Bros.|Lancaster Gate                   US   \n",
       "3             Twentieth Century Fox Film Corporation                   US   \n",
       "4          Sandollar Productions|Touchstone Pictures                   US   \n",
       "\n",
       "   runtime                                               cast  \\\n",
       "0     81.0  [{'cast_id': 14, 'character': 'Woody (voice)',...   \n",
       "1    104.0  [{'cast_id': 1, 'character': 'Alan Parrish', '...   \n",
       "2    101.0  [{'cast_id': 2, 'character': 'Max Goldman', 'c...   \n",
       "3    127.0  [{'cast_id': 1, 'character': \"Savannah 'Vannah...   \n",
       "4    106.0  [{'cast_id': 1, 'character': 'George Banks', '...   \n",
       "\n",
       "                                                crew  \\\n",
       "0  [{'credit_id': '52fe4284c3a36847f8024f49', 'de...   \n",
       "1  [{'credit_id': '52fe44bfc3a36847f80a7cd1', 'de...   \n",
       "2  [{'credit_id': '52fe466a9251416c75077a89', 'de...   \n",
       "3  [{'credit_id': '52fe44779251416c91011acb', 'de...   \n",
       "4  [{'credit_id': '52fe44959251416c75039ed7', 'de...   \n",
       "\n",
       "                                            keywords  IMDB Score  ...  \\\n",
       "0  keyword-jealousy|keyword-toy|keyword-boy|keywo...         8.3  ...   \n",
       "1  keyword-board game|keyword-disappearance|keywo...         6.9  ...   \n",
       "2  keyword-fishing|keyword-best friend|keyword-du...         6.6  ...   \n",
       "3  keyword-based on novel|keyword-interracial rel...         5.7  ...   \n",
       "4  keyword-baby|keyword-midlife crisis|keyword-co...         5.9  ...   \n",
       "\n",
       "      hue_sd        blue    blue_sd       green   green_sd         red  \\\n",
       "0  46.984021  147.046133  83.046441  127.812661  59.618615   79.571854   \n",
       "1  61.296055  132.472598  84.508776  137.041430  79.140584  137.619493   \n",
       "2  65.406756   97.464385  78.935691  106.743824  89.725921  136.728580   \n",
       "3  57.431210  148.388970  88.371216  161.866089  82.379306  191.924122   \n",
       "4  28.312941   94.287052  98.054007  110.440328  99.236678  136.537094   \n",
       "\n",
       "      red_sd   year         director  \\\n",
       "0   88.574055  1995    John Lasseter   \n",
       "1   85.319415  1995     Joe Johnston   \n",
       "2   96.124722  1995    Howard Deutch   \n",
       "3   72.849543  1995  Forest Whitaker   \n",
       "4  104.796367  1995    Charles Shyer   \n",
       "\n",
       "                                          actors  \n",
       "0                Tom Hanks|Tim Allen|Don Rickles  \n",
       "1     Robin Williams|Jonathan Hyde|Kirsten Dunst  \n",
       "2         Walter Matthau|Jack Lemmon|Ann-Margret  \n",
       "3  Whitney Houston|Angela Bassett|Loretta Devine  \n",
       "4         Steve Martin|Diane Keaton|Martin Short  \n",
       "\n",
       "[5 rows x 27 columns]"
      ]
     },
     "execution_count": 180,
     "metadata": {},
     "output_type": "execute_result"
    }
   ],
   "source": [
    "all_data.head()"
   ]
  },
  {
   "cell_type": "code",
   "execution_count": 181,
   "metadata": {
    "id": "aAu4f7_-8UZb"
   },
   "outputs": [],
   "source": [
    "cols = ['original_language', 'original_title', 'overview',\n",
    "       'production_companies', 'production_countries', 'runtime', 'cast',\n",
    "       'crew', 'keywords', 'IMDB Score', 'Genre',\n",
    "       'num_faces', 'brightness', 'saturation', 'hue',\n",
    "       'brightness_sd', 'saturation_sd ', 'hue_sd', 'blue', 'blue_sd', 'green',\n",
    "       'green_sd', 'red', 'red_sd ', 'year', 'director', 'actors']\n",
    "\n",
    "new_cols = ['original_language', 'original_title', 'overview',\n",
    "       'production_companies', 'production_countries', 'runtime', 'cast',\n",
    "       'crew', 'keywords', 'IMDBscore', 'genre',\n",
    "       'num_faces', 'brightness', 'saturation', 'hue',\n",
    "       'brightness_sd', 'saturation_sd', 'hue_sd', 'blue', 'blue_sd', 'green',\n",
    "       'green_sd', 'red', 'red_sd', 'year', 'director', 'actors']"
   ]
  },
  {
   "cell_type": "code",
   "execution_count": 182,
   "metadata": {
    "colab": {
     "base_uri": "https://localhost:8080/"
    },
    "id": "QLvt4z8u8UZb",
    "outputId": "b159db78-8a77-4c5b-d3ba-abb71564351b"
   },
   "outputs": [
    {
     "name": "stdout",
     "output_type": "stream",
     "text": [
      "(36435, 27)\n"
     ]
    }
   ],
   "source": [
    "all_data = all_data[cols]\n",
    "all_data = all_data.dropna()\n",
    "print(all_data.shape)"
   ]
  },
  {
   "cell_type": "code",
   "execution_count": 183,
   "metadata": {
    "colab": {
     "base_uri": "https://localhost:8080/"
    },
    "id": "mC5iYj4x8UZc",
    "outputId": "334622b9-3905-4fcc-a8fa-5e02b3562277"
   },
   "outputs": [
    {
     "name": "stdout",
     "output_type": "stream",
     "text": [
      "(36435, 27)\n"
     ]
    }
   ],
   "source": [
    "all_data.columns = new_cols\n",
    "all_data = all_data.reset_index(drop=True)\n",
    "print(all_data.shape)"
   ]
  },
  {
   "cell_type": "code",
   "execution_count": 184,
   "metadata": {
    "colab": {
     "base_uri": "https://localhost:8080/"
    },
    "id": "kBbFpdNL8UZc",
    "outputId": "d4a42a52-0209-4036-9a79-076ad343abf7"
   },
   "outputs": [
    {
     "name": "stdout",
     "output_type": "stream",
     "text": [
      "<class 'pandas.core.frame.DataFrame'>\n",
      "RangeIndex: 36435 entries, 0 to 36434\n",
      "Data columns (total 27 columns):\n",
      " #   Column                Non-Null Count  Dtype  \n",
      "---  ------                --------------  -----  \n",
      " 0   original_language     36435 non-null  object \n",
      " 1   original_title        36435 non-null  object \n",
      " 2   overview              36435 non-null  object \n",
      " 3   production_companies  36435 non-null  object \n",
      " 4   production_countries  36435 non-null  object \n",
      " 5   runtime               36435 non-null  float64\n",
      " 6   cast                  36435 non-null  object \n",
      " 7   crew                  36435 non-null  object \n",
      " 8   keywords              36435 non-null  object \n",
      " 9   IMDBscore             36435 non-null  float64\n",
      " 10  genre                 36435 non-null  object \n",
      " 11  num_faces             36435 non-null  float64\n",
      " 12  brightness            36435 non-null  float64\n",
      " 13  saturation            36435 non-null  float64\n",
      " 14  hue                   36435 non-null  float64\n",
      " 15  brightness_sd         36435 non-null  float64\n",
      " 16  saturation_sd         36435 non-null  float64\n",
      " 17  hue_sd                36435 non-null  float64\n",
      " 18  blue                  36435 non-null  float64\n",
      " 19  blue_sd               36435 non-null  float64\n",
      " 20  green                 36435 non-null  float64\n",
      " 21  green_sd              36435 non-null  float64\n",
      " 22  red                   36435 non-null  float64\n",
      " 23  red_sd                36435 non-null  float64\n",
      " 24  year                  36435 non-null  int64  \n",
      " 25  director              36435 non-null  object \n",
      " 26  actors                36435 non-null  object \n",
      "dtypes: float64(15), int64(1), object(11)\n",
      "memory usage: 7.5+ MB\n"
     ]
    }
   ],
   "source": [
    "all_data.info()"
   ]
  },
  {
   "cell_type": "code",
   "execution_count": 185,
   "metadata": {
    "id": "DRPj8Uxz8UZd"
   },
   "outputs": [],
   "source": [
    "from sklearn.model_selection import train_test_split"
   ]
  },
  {
   "cell_type": "code",
   "execution_count": 186,
   "metadata": {
    "colab": {
     "base_uri": "https://localhost:8080/"
    },
    "id": "TPtuVg1t8UZd",
    "outputId": "60bb1c4b-9343-4d4a-c594-ebf07a95a5d4"
   },
   "outputs": [
    {
     "name": "stdout",
     "output_type": "stream",
     "text": [
      "(25504, 27)\n",
      "(5465, 27)\n",
      "(5466, 27)\n",
      "\n",
      "1.3088130591513745\n",
      "1.3440514461118866\n",
      "1.2770967364082864\n"
     ]
    }
   ],
   "source": [
    "train_dataset, test_dataset = train_test_split(\n",
    "    all_data, test_size=0.3, random_state=0)\n",
    "valid_dataset, test_dataset = train_test_split(\n",
    "    test_dataset, test_size=0.5, random_state=0)\n",
    "\n",
    "train_data = train_dataset.reset_index(drop=True)\n",
    "valid_data = valid_dataset.reset_index(drop=True)\n",
    "test_data = test_dataset.reset_index(drop=True)\n",
    "\n",
    "print(train_data.shape)\n",
    "print(valid_data.shape)\n",
    "print(test_data.shape)\n",
    "\n",
    "# not making the csv files rightnow\n",
    "# train_data.to_csv('Dataset/train.csv', index=False)\n",
    "# valid_data.to_csv('Dataset/valid.csv', index=False)\n",
    "# test_data.to_csv('Dataset/test.csv', index=False)\n",
    "\n",
    "print('')\n",
    "print(np.cov(train_data['IMDBscore']))\n",
    "print(np.cov(valid_data['IMDBscore']))\n",
    "print(np.cov(test_data['IMDBscore']))"
   ]
  },
  {
   "cell_type": "code",
   "execution_count": 187,
   "metadata": {
    "id": "dQmTW8w68UZf"
   },
   "outputs": [],
   "source": [
    "def get_words(message, tokenizer = None):\n",
    "    if tokenizer:\n",
    "        doc = tokenizer(message)\n",
    "        return [i.text for i in doc]\n",
    "    else:\n",
    "        return message.lower().split('|')\n",
    "\n",
    "def create_dictionary(messages, min_count = 5, tokenizer = None):\n",
    "    words_count = {}\n",
    "    for i in tqdm(range(len(messages))):\n",
    "        s = messages[i]\n",
    "        words = get_words(s, tokenizer)\n",
    "        words_unique = list(dict.fromkeys(words))\n",
    "        for w in words_unique:\n",
    "            if w not in words_count:\n",
    "                words_count[w] = 1\n",
    "            else:\n",
    "                words_count[w] += 1\n",
    "\n",
    "    for word in list(words_count.keys()):\n",
    "        if (words_count[word] < min_count) or word=='':\n",
    "            del words_count[word]\n",
    "\n",
    "    index = 1\n",
    "    for word in list(words_count.keys()):\n",
    "        words_count[word] = index\n",
    "        index = index + 1\n",
    "\n",
    "    return words_count\n",
    "\n",
    "\n",
    "def transform_text(messages, word_dictionary, tokenizer = None):\n",
    "    words_arr = np.zeros((len(messages), len(word_dictionary)))\n",
    "    for i in range(words_arr.shape[0]):\n",
    "        message_words = get_words(messages[i], tokenizer)\n",
    "        message_indices = map(word_dictionary.get, message_words)\n",
    "        for j in message_indices:\n",
    "            if j is not None:\n",
    "                words_arr[i, j-1] += 1\n",
    "    return words_arr"
   ]
  },
  {
   "cell_type": "code",
   "execution_count": 188,
   "metadata": {},
   "outputs": [
    {
     "data": {
      "text/plain": [
       "array([[1., 1., 2.]])"
      ]
     },
     "execution_count": 188,
     "metadata": {},
     "output_type": "execute_result"
    }
   ],
   "source": [
    "message = [\"This|new|movie|has|a|new|concept\"]\n",
    "tempWordDict = {'new':0, 'movie':1, 'concept':2}\n",
    "transform_text(message, tempWordDict)"
   ]
  },
  {
   "cell_type": "code",
   "execution_count": 189,
   "metadata": {
    "colab": {
     "base_uri": "https://localhost:8080/"
    },
    "id": "mKvP506asX33",
    "outputId": "8ee4a28b-004d-435a-da38-25751b7bc12e"
   },
   "outputs": [
    {
     "name": "stderr",
     "output_type": "stream",
     "text": [
      "100%|██████████| 25504/25504 [00:00<00:00, 172031.39it/s]\n"
     ]
    },
    {
     "name": "stdout",
     "output_type": "stream",
     "text": [
      "Size of dictionary:  526\n",
      "(25504, 526)\n",
      "(5465, 526)\n",
      "(5466, 526)\n"
     ]
    }
   ],
   "source": [
    "production_companies_dictionary = create_dictionary(train_data['production_companies'].astype(str).values, min_count=10)\n",
    "print('Size of dictionary: ', len(production_companies_dictionary))\n",
    "train_production_companies_matrix = transform_text(train_data['production_companies'].astype(str).values, production_companies_dictionary)\n",
    "valid_production_companies_matrix = transform_text(valid_data['production_companies'].astype(str).values, production_companies_dictionary)\n",
    "test_production_companies_matrix = transform_text(test_data['production_companies'].astype(str).values, production_companies_dictionary)\n",
    "# print(director_dictionary)\n",
    "print(train_production_companies_matrix.shape)\n",
    "print(valid_production_companies_matrix.shape)\n",
    "print(test_production_companies_matrix.shape)"
   ]
  },
  {
   "cell_type": "code",
   "execution_count": 190,
   "metadata": {
    "colab": {
     "base_uri": "https://localhost:8080/"
    },
    "id": "uxq8BjNQt-Qk",
    "outputId": "19b6f6bf-8eda-4432-a176-0d496286889e"
   },
   "outputs": [
    {
     "name": "stdout",
     "output_type": "stream",
     "text": [
      "{'production i.g.': 1, 'universal studios': 2, 'metro-goldwyn-mayer (mgm)': 3, 'ifc films': 4, 'constantin film produktion': 5, 'revolution studios': 6, 'tristar pictures': 7, 'shaw brothers': 8, 'columbia pictures corporation': 9, 'universal international pictures (ui)': 10, 'twentieth century fox film corporation': 11, 'davis entertainment': 12, 'dreamworks animation': 13, 'united artists': 14, 'columbia pictures': 15, 'ghost house pictures': 16, 'screen gems': 17, 'dune entertainment': 18, 'fox 2000 pictures': 19, 'dune entertainment iii': 20, 'radar pictures': 21, 'dark castle entertainment': 22, 'warner bros.': 23, 'participant media': 24, 'new line cinema': 25, 'nikkatsu': 26, 'toho': 27, 'eon productions': 28, 'gold circle films': 29, 'rko radio pictures': 30, 'hammer film productions': 31, 'anonymous content': 32, 'this is that productions': 33, 'focus features': 34, 'hughes entertainment': 35, 'granada television': 36, 'samuel goldwyn company, the': 37, 'cannon group': 38, 'gramercy pictures': 39, 'arte': 40, 'china film group corporation (cfgc)': 41, 'isle of man film': 42, 'dd productions': 43, 'mosfilm': 44, 'gary sanchez productions': 45, 'nimbus film productions': 46, 'yash raj films': 47, 'cj entertainment': 48, 'france 2 cinã©ma': 49, 'paramount pictures': 50, 'orion pictures': 51, 'hemdale film': 52, 'walt disney pictures': 53, 'fine line features': 54, 'polygram filmed entertainment': 55, 'working title films': 56, 'utv motion pictures': 57, 'metro-goldwyn-mayer': 58, 'toho company': 59, 'shochiku company': 60, 'nickelodeon movies': 61, 'universal pictures': 62, 'channel four films': 63, 'scott rudin productions': 64, 'lionsgate': 65, 'golan-globus productions': 66, 'miramax films': 67, 'imagine entertainment': 68, 'walter wanger productions': 69, 'legendary pictures': 70, 'studio ghibli': 71, 'alta vista productions': 72, 'cattleya': 73, 'after dark films': 74, 'tla releasing': 75, 'gorky film studio': 76, 'zweites deutsches fernsehen (zdf)': 77, 'greek film center': 78, 'tribeca productions': 79, 'baltimore pictures': 80, 'angoa-agicoa': 81, 'procirep': 82, 'canal+': 83, 'cinã©cinã©ma': 84, 'rã©gion ile-de-france': 85, 'centre national de la cinã©matographie (cnc)': 86, 'media programme of the european community': 87, 'malpaso productions': 88, 'eros international': 89, 'lions gate films': 90, 'empire pictures': 91, 'golden harvest company ltd.': 92, 'troma entertainment': 93, 'hbo films': 94, 'studio babelsberg': 95, 'les films du carrosse': 96, 'relativity media': 97, 'live entertainment': 98, 'incorporated television company (itc)': 99, 'allied artists pictures': 100, 'asylum, the': 101, '40 acres & a mule filmworks': 102, 'dc comics': 103, 'warner bros. animation': 104, 'warner home video': 105, 'dc entertainment': 106, 'morgan creek productions': 107, 'touchstone pictures': 108, 'alliance films': 109, 'silver screen partners iv': 110, 'canal+ espaã±a': 111, 'new world pictures': 112, 'lakeshore entertainment': 113, 'nordisk film': 114, 'svensk filmindustri (sf)': 115, 'svenska filminstitutet (sfi)': 116, 'sony pictures classics': 117, 'wild bunch': 118, 'mtv films': 119, 'emperor motion pictures': 120, 'toei company': 121, 'europacorp': 122, 'bbc films': 123, 'hollywood media bridge': 124, 'haut et court': 125, 'eurimages': 126, 'televisiã³n espaã±ola (tve)': 127, 'instituto de la cinematografã\\xada y de las artes audiovisuales (icaa)': 128, 'morena films': 129, 'mandarin films': 130, 'the criterion collection': 131, 'recorded picture company (rpc)': 132, 'village roadshow pictures': 133, 'castle rock entertainment': 134, 'hal roach studios': 135, 'walt disney television animation': 136, '2929 productions': 137, 'edison manufacturing company': 138, 'rai cinema': 139, 'diaphana films': 140, 'summit entertainment': 141, 'newmarket capital group': 142, 'studiocanal': 143, 'det danske filminstitut': 144, 'memfis film': 145, 'film i vã¤st': 146, 'telecinco cinema': 147, 'original film': 148, 'nu image films': 149, 'zentropa entertainments': 150, 'danmarks radio (dr)': 151, 'sixteen films': 152, 'hanway films': 153, 'jerry bruckheimer films': 154, 'film4': 155, 'cinã©+': 156, 'greenestreet films': 157, 'nelson entertainment': 158, 'full moon entertainment': 159, 'centre national de la cinã©matographie': 160, 'entre chien et loup': 161, 'radio tã©lã©vision belge francophone (rtbf)': 162, 'le tax shelter du gouvernement fã©dã©ral de belgique': 163, 'tf1 films production': 164, 'republic pictures': 165, 'lorimar film entertainment': 166, 'fidã©litã© films': 167, 'scope pictures': 168, 'rko pictures': 169, 'british broadcasting corporation (bbc)': 170, 'westdeutscher rundfunk (wdr)': 171, 'avco embassy pictures': 172, 'fox searchlight pictures': 173, 'merchant ivory productions': 174, 'cannon films': 175, 'alcor films': 176, 'arte france': 177, 'fox film corporation': 178, 'comedy central': 179, 'instituto nacional de cine y artes audiovisuales (incaa)': 180, 'tornasol films': 181, 'destination films': 182, 'svt drama': 183, 'american zoetrope': 184, 'wildwood enterprises': 185, 'gaumont': 186, 'brightlight pictures': 187, 'hallmark entertainment': 188, 'united king films': 189, 'walt disney productions': 190, 'madragoa filmes': 191, 'jerry weintraub productions': 192, 'alliance atlantis communications': 193, 'shogakukan': 194, 'di bonaventura pictures': 195, 'united artists pictures': 196, 'jersey films': 197, 'new wave entertainment': 198, 'hbo': 199, 'france 3 cinã©ma': 200, 'yleisradio (yle)': 201, 'arte france cinã©ma': 202, 'les films du losange': 203, 'gaumont british picture corporation': 204, 'rastar pictures': 205, 'larry levinson productions': 206, 'rhi entertainment': 207, 'beacon pictures': 208, 'spyglass entertainment': 209, \"loew's\": 210, 'marc platt productions': 211, 'sandrews': 212, 'compagnia cinematografica champion': 213, 'werner herzog filmproduktion': 214, 'medusa film': 215, 'dania film': 216, 'm6 films': 217, 'ciby 2000': 218, 'stanley kramer productions': 219, '20th century fox home entertainment': 220, 'wwe studios': 221, 'selznick international pictures': 222, 'regency enterprises': 223, 'mediapro': 224, 'the rank organisation': 225, 'amicus productions': 226, 'sveriges television (svt)': 227, 'exclusive media group': 228, 'pyramide productions': 229, 'tv tokyo': 230, 'epsilon motion pictures': 231, 'sonet film ab': 232, 'blumhouse productions': 233, 'disneytoon studios': 234, 'insight film studios': 235, 'monogram pictures': 236, 'amblin entertainment': 237, 'pathã© distribution': 238, 'a24': 239, 'happy madison productions': 240, 'seven arts productions': 241, 'jim henson company, the': 242, 'american international pictures (aip)': 243, 'filmfã¶rderungsanstalt (ffa)': 244, 'zdf/arte': 245, 'warner brothers/seven arts': 246, 'media asia films': 247, 'les films ariane': 248, 'films a2': 249, 'canadian film development corporation (cfdc)': 250, 'alphaville films': 251, 'tã©lã©film canada': 252, 'daiei studios': 253, 'daiei motion picture company': 254, 'caravan pictures': 255, 'hollywood pictures': 256, 'slm production group': 257, 'argos films': 258, 'emi films': 259, 'film afrika worldwide': 260, 'walden media': 261, 'rizzoli film': 262, 'home box office (hbo)': 263, 'good machine': 264, 'benderspink': 265, 'dentsu': 266, 'solar films inc.': 267, 'scott free productions': 268, 'walt disney animation studios': 269, 'yari film group': 270, 'carolco pictures': 271, 'largo entertainment': 272, 'jvc entertainment networks': 273, 'spring creek productions': 274, 'head gear films': 275, 'screen australia': 276, 'rankin/bass productions': 277, 'dimension films': 278, 'miramax': 279, 'sony pictures television': 280, 'showtime networks': 281, 'bavaria film': 282, 'the vitaphone corporation': 283, 'australian film finance corporation (affc)': 284, 'film victoria': 285, 'ingenious film partners': 286, 'mars films': 287, 'orange cinã©ma sã©ries': 288, 'marianne productions': 289, 'cinergi pictures entertainment': 290, 'ifc productions': 291, 'pathã©': 292, 'uk film council': 293, 'new regency pictures': 294, 'fuji television network': 295, 'netflix': 296, 'castel film romania': 297, 'golden harvest company': 298, 'icon productions': 299, 'icon entertainment international': 300, 'lotte entertainment': 301, 'le pacte': 302, 'fandango': 303, 'ruby films': 304, 'madhouse': 305, 'universum film (ufa)': 306, 'gemini films': 307, 'tps star': 308, 'atlas entertainment': 309, 'dino de laurentiis cinematografica': 310, 'les productions artistes associã©s': 311, 'jadran film': 312, 'produzioni europee associati (pea)': 313, 'bbc': 314, 'paradis films': 315, 'la sept cinã©ma': 316, 'norddeutscher rundfunk (ndr)': 317, 'two cities films': 318, 'canadian film or video production tax credit (cptc)': 319, 'walt disney feature animation': 320, 'ealing studios': 321, 'union gã©nã©rale cinã©matographique (ugc)': 322, 'first national pictures': 323, 'blue sky studios': 324, 'twentieth century fox animation': 325, 'dreamworks skg': 326, 'hal wallis productions': 327, 'ã\\x96sterreichischer rundfunk (orf)': 328, 'bayerischer rundfunk (br)': 329, 'phoenix pictures': 330, 'the ladd company': 331, 'capitol films': 332, 'shã´chiku eiga': 333, 'disney channel': 334, 'globo filmes': 335, 'renn productions': 336, 'sociã©tã© franã§aise de production (sfp)': 337, 'tsg entertainment': 338, '3 arts entertainment': 339, 'trimark pictures': 340, 'automatik entertainment': 341, 'lawrence bender productions': 342, 'bã³rd scannã¡n na hã\\x89ireann': 343, 'bim distribuzione': 344, 'why not productions': 345, 'france 2 (fr2)': 346, 'toho film (eiga) co. ltd.': 347, 'intermedia films': 348, 'lucky red': 349, 'france tã©lã©vision': 350, 'tf1 international': 351, 'vestron pictures': 352, 'the mirisch corporation': 353, 'mk2 productions': 354, 'cinetel films': 355, 'gainsborough pictures': 356, 'sil-metropole organisation': 357, 'ufilm': 358, 'umedia': 359, 'reliance entertainment': 360, 'pathe': 361, 'vertigo films': 362, 'nouvelles ã\\x89ditions de films (nef)': 363, 'the asylum': 364, 'revolution films': 365, 'lipsync productions': 366, 'les films alain sarde': 367, 'propaganda films': 368, 'marvel enterprises': 369, 'robert simonds productions': 370, 'sony pictures': 371, 'hallmark hall of fame productions': 372, 'xyz films': 373, 'de laurentiis entertainment group (deg)': 374, 'london film productions': 375, 'media programme of the european union': 376, 'huayi brothers': 377, 'apatow productions': 378, 'triumph films': 379, 'arts council of england': 380, 'imagenation abu dhabi fz': 381, 'stage 6 films': 382, 'mandeville films': 383, 'millennium films': 384, 'filmways pictures': 385, 'seven arts pictures': 386, 'les productions du trã©sor': 387, 'mars distribution': 388, 'worldview entertainment': 389, 'france 3 cinema': 390, 'im global': 391, 'myriad pictures': 392, 'titanus': 393, 'ingenious media': 394, 'lenfilm': 395, 'solar productions': 396, 'first artists': 397, 'muse entertainment enterprises': 398, 'rai radiotelevisione italiana': 399, 'art theatre guild': 400, 'silver pictures': 401, 'cecchi gori group tiger cinematografica': 402, 'amlf': 403, 'nippon television network (ntv)': 404, 'scion films': 405, 'temple hill entertainment': 406, 'motion picture corporation of america (mpca)': 407, 'milky way image company': 408, 'kings road entertainment': 409, 'british film institute (bfi)': 410, 'gaumont international': 411, 'toei animation': 412, 'x-filme creative pool': 413, 'studio canal': 414, 'likely story': 415, 'ratpac-dune entertainment': 416, 'hakuhodo dy media partners': 417, 'british screen productions': 418, 'hanna-barbera productions': 419, 'irish film board': 420, 'emmett/furla films': 421, 'bandai visual company': 422, 'lstar capital': 423, 'vertigo entertainment': 424, 'the weinstein company': 425, 'voltage pictures': 426, 'canal plus': 427, 'la petite reine': 428, 'studio 37': 429, 'american broadcasting company (abc)': 430, 'lolafilms': 431, 'vides cinematografica': 432, 'cbs films': 433, 'sogepaq': 434, 'warner premiere': 435, 'filmverlag der autoren': 436, 'paramount vantage': 437, 'oscilloscope laboratories': 438, 'soyuzmultfilm': 439, 'silver screen partners ii': 440, 'glass eye pix': 441, 'entertainment one': 442, 'orly films': 443, 'british lion film corporation': 444, 'twisted pictures': 445, 'killer films': 446, 'savoy pictures': 447, 'impact pictures': 448, 'lucasfilm': 449, 'dinovi pictures': 450, 'bac films': 451, 'vega film': 452, 'gaga': 453, 'double feature films': 454, 'artisan entertainment': 455, 'franchise pictures': 456, 'filmovã© studio barrandov': 457, 'pixar animation studios': 458, 'cosmopolitan productions': 459, 'euro international film (eia)': 460, 'mosaic media group': 461, 'cinema center films': 462, 'bold films': 463, 'goldcrest films international': 464, 'npv entertainment': 465, 'grindstone entertainment group': 466, 'paragon films ltd.': 467, 'interscope communications': 468, 'the guber-peters company': 469, 'majestic films international': 470, 'edward r. pressman film': 471, 'kodansha': 472, 'rhã´ne-alpes cinã©ma': 473, 'backup films': 474, 'italian international film': 475, 'moving picture company (mpc)': 476, 'edward small productions': 477, 'magnolia pictures': 478, 'pandora filmproduktion': 479, 'senator film produktion': 480, 'national film board of canada (nfb)': 481, 'the australian film commission': 482, 'tv2 danmark': 483, 'lifetime television': 484, 'fidã©litã© productions': 485, 'trilogy entertainment group': 486, 'saturn films': 487, 'china film co-production corporation': 488, 'british international pictures (bip)': 489, 'national cinematografica': 490, 'davis-films': 491, 'playtone': 492, 'pathã© pictures international': 493, 'initial entertainment group (ieg)': 494, 'focus films': 495, 'rysher entertainment': 496, 'rabbitbandini productions': 497, 'endgame entertainment': 498, 'overseas filmgroup': 499, 'platinum dunes': 500, '3b productions': 501, 'dino de laurentiis company': 502, 'asmik ace entertainment': 503, 'film workshop': 504, 'mirage enterprises': 505, '20th century fox television': 506, 'filmax': 507, 'lux film': 508, 'tokyo broadcasting system (tbs)': 509, '1492 pictures': 510, 'sidney kimmel entertainment': 511, 'future films': 512, 'vã\\xada digital': 513, 'heyday films': 514, 'marvel studios': 515, 'tf1 films productions': 516, 'warner bros. pictures': 517, 'balcã¡zar producciones cinematogrã¡ficas': 518, 'ministero per i beni e le attivitã\\xa0 culturali (mibac)': 519, 'tim burton productions': 520, 'clinica estetico': 521, 'constantin film': 522, 'alcon entertainment': 523, 'steamroller productions': 524, 'dna films': 525, 'samuel goldwyn films': 526}\n"
     ]
    }
   ],
   "source": [
    "print(production_companies_dictionary)"
   ]
  },
  {
   "cell_type": "code",
   "execution_count": 191,
   "metadata": {
    "colab": {
     "base_uri": "https://localhost:8080/"
    },
    "id": "99MANDwm77xI",
    "outputId": "f674668e-8821-4a3d-cb1b-b180558e0c05"
   },
   "outputs": [
    {
     "name": "stdout",
     "output_type": "stream",
     "text": [
      "[[1. 0. 0. ... 0. 0. 0.]\n",
      " [0. 0. 0. ... 0. 0. 0.]\n",
      " [0. 0. 0. ... 0. 0. 0.]\n",
      " ...\n",
      " [0. 0. 0. ... 0. 0. 0.]\n",
      " [0. 0. 0. ... 0. 0. 0.]\n",
      " [0. 0. 0. ... 0. 0. 0.]]\n"
     ]
    }
   ],
   "source": [
    "print(train_production_companies_matrix)"
   ]
  },
  {
   "cell_type": "code",
   "execution_count": 192,
   "metadata": {
    "colab": {
     "base_uri": "https://localhost:8080/"
    },
    "id": "5_m1SjzO8B6N",
    "outputId": "8c535411-d56f-4bbf-802c-0553f51d7b99"
   },
   "outputs": [
    {
     "name": "stderr",
     "output_type": "stream",
     "text": [
      "100%|██████████| 5466/5466 [00:02<00:00, 2031.58it/s]\n"
     ]
    },
    {
     "data": {
      "text/plain": [
       "(3317.0, 0)"
      ]
     },
     "execution_count": 192,
     "metadata": {},
     "output_type": "execute_result"
    }
   ],
   "source": [
    "cnt = 0\n",
    "distinct= 0\n",
    "for i in tqdm(range(test_production_companies_matrix.shape[0])):\n",
    "    for j in range(test_production_companies_matrix.shape[1]):\n",
    "        cnt += test_production_companies_matrix[i,j]\n",
    "cnt, distinct"
   ]
  },
  {
   "cell_type": "code",
   "execution_count": 193,
   "metadata": {
    "colab": {
     "base_uri": "https://localhost:8080/"
    },
    "id": "c554M4sYtCUg",
    "outputId": "165ddb50-8c7e-4c14-8b36-2fb38bda3ebc"
   },
   "outputs": [
    {
     "name": "stderr",
     "output_type": "stream",
     "text": [
      "100%|██████████| 25504/25504 [00:00<00:00, 163132.50it/s]"
     ]
    },
    {
     "name": "stdout",
     "output_type": "stream",
     "text": [
      "Size of dictionary:  131\n"
     ]
    },
    {
     "name": "stderr",
     "output_type": "stream",
     "text": [
      "\n"
     ]
    }
   ],
   "source": [
    "production_countries_dictionary = create_dictionary(train_data['production_countries'].astype(str).values, min_count=0)\n",
    "print('Size of dictionary: ', len(production_countries_dictionary))\n",
    "# train_production_countries_matrix = transform_text(train_data['production_countries'].astype(str).values, production_countries_dictionary)\n",
    "# valid_production_countries_matrix = transform_text(valid_data['production_countries'].astype(str).values, production_countries_dictionary)\n",
    "# test_production_countries_matrix = transform_text(test_data['production_countries'].astype(str).values, production_countries_dictionary)\n",
    "# # print(director_dictionary)\n",
    "# print(train_production_countries_matrix.shape)\n",
    "# print(valid_production_countries_matrix.shape)\n",
    "# print(test_production_countries_matrix.shape)"
   ]
  },
  {
   "cell_type": "code",
   "execution_count": 194,
   "metadata": {},
   "outputs": [],
   "source": [
    "def giveCountry(country):\n",
    "    return production_countries_dictionary.get(country.lower(), 0)"
   ]
  },
  {
   "cell_type": "code",
   "execution_count": 195,
   "metadata": {},
   "outputs": [],
   "source": [
    "all_data['production_countries'] = all_data['production_countries'].apply(giveCountry)"
   ]
  },
  {
   "cell_type": "code",
   "execution_count": 196,
   "metadata": {},
   "outputs": [
    {
     "data": {
      "text/plain": [
       "2      15657\n",
       "0       4504\n",
       "4       2582\n",
       "14      2168\n",
       "5       1213\n",
       "       ...  \n",
       "121        1\n",
       "86         1\n",
       "123        1\n",
       "90         1\n",
       "101        1\n",
       "Name: production_countries, Length: 132, dtype: int64"
      ]
     },
     "execution_count": 196,
     "metadata": {},
     "output_type": "execute_result"
    }
   ],
   "source": [
    "all_data['production_countries'].value_counts()"
   ]
  },
  {
   "cell_type": "code",
   "execution_count": 197,
   "metadata": {
    "colab": {
     "base_uri": "https://localhost:8080/"
    },
    "id": "bcRH2xGyueNl",
    "outputId": "e5abb8c6-edfe-4f29-c0db-d3b8e66fea75"
   },
   "outputs": [
    {
     "name": "stdout",
     "output_type": "stream",
     "text": [
      "{'jp': 1, 'us': 2, 'cz': 3, 'gb': 4, 'ca': 5, 'de': 6, 'cn': 7, 'in': 8, 'nz': 9, 'ch': 10, 'au': 11, 'it': 12, 'es': 13, 'fr': 14, 'hu': 15, 'pl': 16, 'ru': 17, 'dk': 18, 'kr': 19, 'pt': 20, 'br': 21, 'tw': 22, 'tr': 23, 'hk': 24, 'no': 25, 'at': 26, 'gr': 27, 'co': 28, 'mx': 29, 'nl': 30, 'ee': 31, 'si': 32, 'fi': 33, 'ro': 34, 'be': 35, 'il': 36, 'ba': 37, 'th': 38, 'cu': 39, 'pa': 40, 'id': 41, 'cy': 42, 'ar': 43, 'se': 44, 'mk': 45, 'ge': 46, 'dz': 47, 'ec': 48, 'hr': 49, 'cl': 50, 'ie': 51, 'is': 52, 'ph': 53, 'qa': 54, 'my': 55, 'vn': 56, 'za': 57, 'ng': 58, 'ir': 59, 'bf': 60, 'lu': 61, 'sn': 62, 'bo': 63, 'ma': 64, 'ua': 65, 'eg': 66, 'bw': 67, 'lv': 68, 'bg': 69, 'ae': 70, 'pk': 71, 'sk': 72, 'jo': 73, 'ci': 74, 'su': 75, 'mq': 76, 'iq': 77, 'sy': 78, 'jm': 79, 'rs': 80, 'sg': 81, 'am': 82, 'do': 83, 'ps': 84, 'mn': 85, 'sa': 86, 've': 87, 'mt': 88, 'lt': 89, 'um': 90, 'gh': 91, 'et': 92, 'uy': 93, 'by': 94, 'bm': 95, 'cm': 96, 'ni': 97, 'lb': 98, 'tn': 99, 'kz': 100, 'pr': 101, 'td': 102, 'yu': 103, 'kg': 104, 'la': 105, 'ug': 106, 'cd': 107, 'cr': 108, 'xg': 109, 'bn': 110, 'tj': 111, 'ao': 112, 'pe': 113, 'aw': 114, 'tt': 115, 'af': 116, 'ws': 117, 'mc': 118, 'al': 119, 'kh': 120, 'pg': 121, 'na': 122, 'np': 123, 'lr': 124, 'bs': 125, 'mr': 126, 'bt': 127, 'uz': 128, 'ly': 129, 'tz': 130, 'lk': 131}\n"
     ]
    }
   ],
   "source": [
    "print(production_countries_dictionary)"
   ]
  },
  {
   "cell_type": "code",
   "execution_count": 65,
   "metadata": {
    "colab": {
     "base_uri": "https://localhost:8080/"
    },
    "id": "ZI8FQh6u-sBa",
    "outputId": "a04db657-5b67-49af-bd28-349ec3f4a457"
   },
   "outputs": [
    {
     "name": "stderr",
     "output_type": "stream",
     "text": [
      "100%|████████████████████████████████████████████████████████████████████████| 25504/25504 [00:00<00:00, 365074.35it/s]\n"
     ]
    },
    {
     "name": "stdout",
     "output_type": "stream",
     "text": [
      "Size of dictionary:  272\n",
      "(25504, 272)\n",
      "(5465, 272)\n",
      "(5466, 272)\n"
     ]
    }
   ],
   "source": [
    "keywords_dictionary = create_dictionary(train_data['keywords'].astype(str).values, min_count=50)\n",
    "print('Size of dictionary: ', len(keywords_dictionary))\n",
    "train_keywords_matrix = transform_text(train_data['keywords'].astype(str).values, keywords_dictionary)\n",
    "valid_keywords_matrix = transform_text(valid_data['keywords'].astype(str).values, keywords_dictionary)\n",
    "test_keywords_matrix = transform_text(test_data['keywords'].astype(str).values, keywords_dictionary)\n",
    "# print(director_dictionary)\n",
    "print(train_keywords_matrix.shape)\n",
    "print(valid_keywords_matrix.shape)\n",
    "print(test_keywords_matrix.shape)"
   ]
  },
  {
   "cell_type": "code",
   "execution_count": 66,
   "metadata": {
    "colab": {
     "base_uri": "https://localhost:8080/"
    },
    "id": "OTpdxvcDANtX",
    "outputId": "3cacde1d-8e85-4d2f-cde7-de9d375cfb3c"
   },
   "outputs": [
    {
     "name": "stdout",
     "output_type": "stream",
     "text": [
      "{'keyword-anime': 1, 'keyword-monster': 2, 'keyword-silent film': 3, 'keyword-stand-up comedy': 4, 'keyword-prison': 5, 'keyword-rape': 6, 'keyword-independent film': 7, 'keyword-woman director': 8, 'keyword-best friend': 9, 'keyword-brother brother relationship': 10, 'keyword-jealousy': 11, 'keyword-revenge': 12, 'keyword-suspense': 13, 'keyword-blood': 14, 'keyword-cult film': 15, 'keyword-africa': 16, 'keyword-small town': 17, 'keyword-musical': 18, 'keyword-singer': 19, 'keyword-female nudity': 20, 'keyword-murder': 21, 'keyword-new york city': 22, 'keyword-beach': 23, 'keyword-helicopter': 24, 'keyword-rescue': 25, 'keyword-escape': 26, 'keyword-japanese': 27, 'keyword-drama': 28, 'keyword-biography': 29, 'keyword-sport': 30, 'keyword-mutant': 31, 'keyword-post-apocalyptic': 32, 'keyword-3d': 33, 'keyword-rural setting': 34, 'keyword-aftercreditsstinger': 35, 'keyword-italy': 36, 'keyword-soldier': 37, 'keyword-amnesia': 38, 'keyword-journalist': 39, 'keyword-world war ii': 40, 'keyword-army': 41, 'keyword-reporter': 42, 'keyword-assassination': 43, 'keyword-hostage': 44, 'keyword-chase': 45, 'keyword-dark comedy': 46, 'keyword-teacher': 47, 'keyword-vampire': 48, 'keyword-cat': 49, 'keyword-short': 50, 'keyword-widow': 51, 'keyword-obsession': 52, 'keyword-vacation': 53, 'keyword-marriage': 54, 'keyword-prostitution': 55, 'keyword-new love': 56, 'keyword-rivalry': 57, 'keyword-dinosaur': 58, 'keyword-dream': 59, 'keyword-love': 60, 'keyword-relationship': 61, 'keyword-based on play or musical': 62, 'keyword-mother daughter relationship': 63, 'keyword-divorce': 64, 'keyword-sex': 65, 'keyword-friendship': 66, 'keyword-high school': 67, 'keyword-los angeles': 68, 'keyword-holiday': 69, 'keyword-neighbor': 70, 'keyword-christmas': 71, 'keyword-nazis': 72, 'keyword-village': 73, 'keyword-doctor': 74, 'keyword-survival': 75, 'keyword-detective': 76, 'keyword-police': 77, 'keyword-serial killer': 78, 'keyword-slasher': 79, 'keyword-violence': 80, 'keyword-killer': 81, 'keyword-racism': 82, 'keyword-future': 83, 'keyword-based on comic': 84, 'keyword-church': 85, 'keyword-duringcreditsstinger': 86, 'keyword-wife husband relationship': 87, \"keyword-love of one's life\": 88, 'keyword-pilot': 89, 'keyword-fbi': 90, 'keyword-train': 91, 'keyword-dystopia': 92, 'keyword-eroticism': 93, 'keyword-mexico': 94, 'keyword-gold': 95, 'keyword-friends': 96, 'keyword-money': 97, 'keyword-new york': 98, 'keyword-author': 99, 'keyword-paris': 100, 'keyword-london england': 101, 'keyword-california': 102, 'keyword-hospital': 103, 'keyword-student': 104, 'keyword-spy': 105, 'keyword-samurai': 106, 'keyword-comedy': 107, 'keyword-gay': 108, 'keyword-homosexuality': 109, 'keyword-lgbt': 110, 'keyword-baby': 111, 'keyword-based on novel': 112, 'keyword-investigation': 113, 'keyword-remake': 114, 'keyword-film noir': 115, 'keyword-b movie': 116, 'keyword-martial arts': 117, 'keyword-jungle': 118, 'keyword-drug dealer': 119, 'keyword-music': 120, 'keyword-family': 121, 'keyword-road trip': 122, 'keyword-based on true story': 123, 'keyword-gang': 124, 'keyword-marijuana': 125, 'keyword-gangster': 126, 'keyword-horror': 127, 'keyword-zombie': 128, 'keyword-extramarital affair': 129, 'keyword-hotel': 130, 'keyword-spaghetti western': 131, 'keyword-alien': 132, 'keyword-conspiracy': 133, 'keyword-1970s': 134, 'keyword-alcohol': 135, 'keyword-restaurant': 136, 'keyword-erotic movie': 137, 'keyword-bollywood': 138, 'keyword-love triangle': 139, 'keyword-betrayal': 140, 'keyword-father daughter relationship': 141, 'keyword-cia': 142, 'keyword-war': 143, 'keyword-corruption': 144, 'keyword-blackmail': 145, 'keyword-space': 146, 'keyword-kidnapping': 147, 'keyword-gun': 148, 'keyword-fight': 149, 'keyword-hitman': 150, 'keyword-sequel': 151, 'keyword-mafia': 152, 'keyword-explosion': 153, 'keyword-neo-noir': 154, 'keyword-dog': 155, 'keyword-desert': 156, 'keyword-animation': 157, 'keyword-family relationships': 158, 'keyword-robot': 159, 'keyword-ghost': 160, 'keyword-alcoholic': 161, 'keyword-writer': 162, 'keyword-nudity': 163, 'keyword-lesbian': 164, 'keyword-tv movie': 165, 'keyword-interview': 166, 'keyword-documentary': 167, 'keyword-time travel': 168, 'keyword-superhero': 169, 'keyword-super powers': 170, 'keyword-coming of age': 171, 'keyword-summer': 172, 'keyword-infidelity': 173, 'keyword-daughter': 174, 'keyword-male nudity': 175, 'keyword-romantic comedy': 176, 'keyword-terrorist': 177, 'keyword-lawyer': 178, 'keyword-photographer': 179, 'keyword-satire': 180, 'keyword-religion': 181, 'keyword-politics': 182, 'keyword-drug': 183, 'keyword-priest': 184, 'keyword-supernatural': 185, 'keyword-death': 186, 'keyword-witch': 187, 'keyword-extreme violence': 188, 'keyword-cold war': 189, 'keyword-airplane': 190, 'keyword-shootout': 191, 'keyword-motorcycle': 192, 'keyword-suicide': 193, 'keyword-canuxploitation': 194, 'keyword-ship': 195, 'keyword-fbi agent': 196, 'keyword-car crash': 197, 'keyword-college': 198, 'keyword-native american': 199, 'keyword-party': 200, 'keyword-flashback': 201, 'keyword-princess': 202, 'keyword-surrealism': 203, 'keyword-musician': 204, 'keyword-haunted house': 205, 'keyword-youth': 206, 'keyword-teenager': 207, 'keyword-gore': 208, 'keyword-nightmare': 209, 'keyword-funeral': 210, 'keyword-falling in love': 211, 'keyword-criminal': 212, 'keyword-japan': 213, 'keyword-robbery': 214, 'keyword-thief': 215, 'keyword-demon': 216, 'keyword-road movie': 217, 'keyword-seduction': 218, 'keyword-island': 219, 'keyword-dysfunctional family': 220, 'keyword-dancing': 221, 'keyword-wedding': 222, 'keyword-france': 223, 'keyword-england': 224, 'keyword-romance': 225, 'keyword-secret': 226, 'keyword-incest': 227, 'keyword-father son relationship': 228, 'keyword-professor': 229, 'keyword-gambling': 230, 'keyword-brother sister relationship': 231, 'keyword-school': 232, 'keyword-fire': 233, 'keyword-baseball': 234, 'keyword-usa': 235, 'keyword-dying and death': 236, 'keyword-crime': 237, 'keyword-heist': 238, 'keyword-bank robbery': 239, 'keyword-children': 240, 'keyword-scientist': 241, 'keyword-horse': 242, 'keyword-australia': 243, 'keyword-adultery': 244, 'keyword-san francisco': 245, 'keyword-undercover': 246, 'keyword-hero': 247, 'keyword-forest': 248, 'keyword-pregnancy': 249, 'keyword-found footage': 250, 'keyword-magic': 251, 'keyword-torture': 252, 'keyword-hollywood': 253, 'keyword-sister sister relationship': 254, 'keyword-competition': 255, 'keyword-assassin': 256, 'keyword-prostitute': 257, 'keyword-castle': 258, 'keyword-historical figure': 259, 'keyword-19th century': 260, 'keyword-sheriff': 261, 'keyword-werewolf': 262, 'keyword-paranoia': 263, 'keyword-nurse': 264, 'keyword-spoof': 265, 'keyword-experiment': 266, 'keyword-texas': 267, 'keyword-depression': 268, 'keyword-psychopath': 269, 'keyword-bar': 270, 'keyword-farm': 271, 'keyword-orphan': 272}\n"
     ]
    }
   ],
   "source": [
    "print(keywords_dictionary)"
   ]
  },
  {
   "cell_type": "code",
   "execution_count": 67,
   "metadata": {
    "colab": {
     "base_uri": "https://localhost:8080/"
    },
    "id": "JkMFheBNBEuz",
    "outputId": "78ed6c8d-1850-403a-b850-25e010ddbe32"
   },
   "outputs": [
    {
     "name": "stderr",
     "output_type": "stream",
     "text": [
      "100%|█████████████████████████████████████████████████████████████████████████| 25504/25504 [00:02<00:00, 11596.41it/s]\n"
     ]
    },
    {
     "data": {
      "text/plain": [
       "31792.0"
      ]
     },
     "execution_count": 67,
     "metadata": {},
     "output_type": "execute_result"
    }
   ],
   "source": [
    "qwqwqw = 0\n",
    "for i in tqdm(range(train_keywords_matrix.shape[0])):\n",
    "    for j in range(train_keywords_matrix.shape[1]):\n",
    "        qwqwqw += train_keywords_matrix[i,j]\n",
    "qwqwqw"
   ]
  },
  {
   "cell_type": "code",
   "execution_count": 68,
   "metadata": {
    "colab": {
     "base_uri": "https://localhost:8080/"
    },
    "id": "Av_GqM_VF9FT",
    "outputId": "85b7ed30-50c0-4329-fda5-a566a1c8b23f"
   },
   "outputs": [
    {
     "name": "stderr",
     "output_type": "stream",
     "text": [
      "100%|████████████████████████████████████████████████████████████████████████| 25504/25504 [00:00<00:00, 370606.64it/s]\n"
     ]
    },
    {
     "name": "stdout",
     "output_type": "stream",
     "text": [
      "Size of dictionary:  821\n",
      "(25504, 821)\n",
      "(5465, 821)\n",
      "(5466, 821)\n"
     ]
    }
   ],
   "source": [
    "original_title_dictionary = create_dictionary(train_data['original_title'].astype(str).values, min_count=10)\n",
    "print('Size of dictionary: ', len(original_title_dictionary))\n",
    "train_original_title_matrix = transform_text(train_data['original_title'].astype(str).values, original_title_dictionary)\n",
    "valid_original_title_matrix = transform_text(valid_data['original_title'].astype(str).values, original_title_dictionary)\n",
    "test_original_title_matrix = transform_text(test_data['original_title'].astype(str).values, original_title_dictionary)\n",
    "# print(director_dictionary)\n",
    "print(train_original_title_matrix.shape)\n",
    "print(valid_original_title_matrix.shape)\n",
    "print(test_original_title_matrix.shape)"
   ]
  },
  {
   "cell_type": "code",
   "execution_count": 69,
   "metadata": {
    "colab": {
     "base_uri": "https://localhost:8080/"
    },
    "id": "W4Qykm4mGP8z",
    "outputId": "a6792567-cf82-4b8c-c4b0-960be28e20e8"
   },
   "outputs": [
    {
     "name": "stdout",
     "output_type": "stream",
     "text": [
      "{'title-break': 1, 'title-blade': 2, 'title-4:': 3, 'title-white': 4, 'title-chronicles': 5, 'title-sea': 6, 'title-great': 7, 'title-train': 8, 'title-know': 9, 'title-people': 10, 'title-another': 11, 'title-star': 12, 'title-live': 13, 'title-bright': 14, 'title-road': 15, 'title-diary': 16, 'title-man': 17, 'title--': 18, 'title-brothers': 19, 'title-day': 20, 'title-woman': 21, 'title-force': 22, 'title-one': 23, 'title-god': 24, 'title-us': 25, 'title-wedding': 26, 'title-sweet': 27, 'title-deadly': 28, 'title-behind': 29, 'title-enemy': 30, 'title-lightning': 31, 'title-american': 32, 'title-forever': 33, 'title-silence': 34, 'title-heat': 35, 'title-night': 36, 'title-action': 37, 'title-silent': 38, 'title-go': 39, 'title-romance': 40, 'title-il': 41, 'title-di': 42, 'title-inside': 43, 'title-new': 44, 'title-york': 45, 'title-times': 46, 'title-story': 47, 'title-joe': 48, 'title-long': 49, 'title-kiss': 50, 'title-little': 51, 'title-men': 52, 'title-die': 53, 'title-curse': 54, 'title-private': 55, 'title-life': 56, 'title-cat': 57, 'title-come': 58, 'title-september': 59, 'title-blood': 60, 'title-creek': 61, 'title-million': 62, 'title-years': 63, 'title-sunshine': 64, 'title-mind': 65, 'title-women': 66, 'title-party': 67, 'title-national': 68, 'title-christmas': 69, 'title-vacation': 70, 'title-3': 71, 'title-north': 72, 'title-love': 73, 'title-water': 74, 'title-10': 75, 'title-midnight': 76, 'title-rock': 77, 'title-de': 78, 'title-alive': 79, 'title-home': 80, 'title-planet': 81, 'title-master': 82, 'title-mein': 83, 'title-lady': 84, 'title-flight': 85, 'title-way': 86, 'title-hamlet': 87, 'title-shot': 88, 'title-3:': 89, 'title-war': 90, 'title-treasure': 91, 'title-shadow': 92, 'title-company': 93, 'title-naked': 94, 'title-que': 95, 'title-vida': 96, 'title-nights': 97, 'title-heaven': 98, 'title-captain': 99, 'title-family': 100, 'title-affair': 101, 'title-åº§é': 102, 'title-å\\x8a\\x87å': 103, 'title-´ç\\x89\\x88': 104, 'title-girl': 105, 'title-dragon': 106, 'title-movie': 107, 'title-world': 108, 'title-mystery': 109, 'title-secret': 110, 'title-adventures': 111, 'title-tom': 112, 'title-last': 113, 'title-journey': 114, 'title-king': 115, 'title-married': 116, 'title-dream': 117, 'title-team': 118, 'title-ii:': 119, 'title-straight': 120, 'title-adam': 121, 'title-west': 122, 'title-tales': 123, 'title-terror': 124, 'title-un': 125, 'title-land': 126, 'title-good': 127, 'title-friends': 128, 'title-town': 129, 'title-ii': 130, 'title-dog': 131, 'title-small': 132, 'title-time': 133, 'title-guy': 134, 'title-green': 135, 'title-play': 136, 'title-&': 137, 'title-dead': 138, 'title-hills': 139, 'title-eyes': 140, 'title-al': 141, 'title-della': 142, 'title-house': 143, 'title-los': 144, 'title-gli': 145, 'title-make': 146, 'title-could': 147, 'title-talk': 148, 'title-2': 149, 'title-ghost': 150, 'title-la': 151, 'title-nuit': 152, 'title-et': 153, 'title-children': 154, 'title-ã¨': 155, 'title-dangerous': 156, 'title-eye': 157, 'title-invasion': 158, 'title-body': 159, 'title-circle': 160, 'title-four': 161, 'title-name': 162, 'title-best': 163, 'title-fire': 164, 'title-burning': 165, 'title-sound': 166, 'title-lives': 167, 'title-souls': 168, 'title-heart': 169, 'title-seven': 170, 'title-spring': 171, 'title-â\\x80\\x93': 172, 'title-baby': 173, 'title-e': 174, 'title-fury': 175, 'title-real': 176, 'title-beast': 177, 'title-da': 178, 'title-en': 179, 'title-frankenstein': 180, 'title-film': 181, 'title-henry': 182, 'title-sisters': 183, 'title-le': 184, 'title-el': 185, 'title-witch': 186, 'title-song': 187, 'title-jour': 188, 'title-hope': 189, 'title-dawn': 190, 'title-son': 191, 'title-bride': 192, 'title-part': 193, 'title-2:': 194, 'title-red': 195, 'title-damned': 196, \"title-i'm\": 197, 'title-still': 198, 'title-hunt': 199, 'title-sherlock': 200, 'title-holmes': 201, 'title-child': 202, 'title-park': 203, 'title-mine': 204, 'title-miss': 205, 'title-space': 206, 'title-back': 207, 'title-room': 208, 'title-wild': 209, 'title-experiment': 210, 'title-death': 211, 'title-young': 212, 'title-academy': 213, 'title-brave': 214, 'title-goes': 215, 'title-mars': 216, 'title-trouble': 217, 'title-truth': 218, 'title-dance': 219, 'title-warrior': 220, 'title-jack': 221, 'title-island': 222, 'title-summer': 223, 'title-boys': 224, 'title-super': 225, 'title-alice': 226, 'title-express': 227, 'title-les': 228, 'title-edge': 229, 'title-next': 230, 'title-broadway': 231, 'title-prince': 232, 'title-john': 233, 'title-silver': 234, \"title-devil's\": 235, 'title-apocalypse': 236, 'title-takes': 237, 'title-zero': 238, 'title-sam': 239, 'title-iron': 240, 'title-der': 241, 'title-david': 242, 'title-mr.': 243, 'title-darkness': 244, 'title-non': 245, 'title-dark': 246, 'title-george': 247, 'title-follow': 248, 'title-moving': 249, 'title-killer': 250, 'title-zombies': 251, 'title-highway': 252, 'title-look': 253, 'title-tomorrow': 254, 'title-blue': 255, 'title-barbie': 256, 'title-black': 257, 'title-castle': 258, 'title-jane': 259, 'title-code': 260, 'title-pirates': 261, 'title-across': 262, 'title-gold': 263, 'title-brown': 264, 'title-return': 265, 'title-vampire': 266, 'title-magic': 267, 'title-camp': 268, 'title-days': 269, 'title-rainbow': 270, 'title-du': 271, 'title-temps': 272, 'title-forgotten': 273, 'title-faces': 274, 'title-made': 275, 'title-monster': 276, 'title-hero': 277, 'title-st.': 278, 'title-boy': 279, 'title-music': 280, 'title-air': 281, 'title-bang': 282, 'title-game': 283, 'title-van': 284, 'title-street': 285, 'title-first': 286, 'title-serial': 287, 'title-let': 288, 'title-america': 289, 'title-golden': 290, 'title-age': 291, 'title-comedy': 292, 'title-bill': 293, 'title-away': 294, 'title-face': 295, 'title-flesh': 296, 'title-3d': 297, 'title-ground': 298, 'title-conspiracy': 299, 'title-hearts': 300, 'title-hell': 301, 'title-del': 302, 'title-thing': 303, 'title-two': 304, 'title-minutes': 305, 'title-viva': 306, 'title-anna': 307, 'title-johnny': 308, 'title-des': 309, 'title-dr.': 310, 'title-case': 311, 'title-lucky': 312, 'title-hunter': 313, 'title-letter': 314, 'title-search': 315, 'title-vegas': 316, 'title-skin': 317, 'title-always': 318, 'title-got': 319, 'title-funny': 320, 'title-mrs.': 321, 'title-bad': 322, 'title-country': 323, 'title-carol': 324, 'title-band': 325, 'title-crazy': 326, 'title-wind': 327, \"title-can't\": 328, 'title-paris': 329, 'title-som': 330, 'title-trail': 331, 'title-running': 332, 'title-deep': 333, 'title-half': 334, 'title-get': 335, 'title-jim': 336, 'title-mad': 337, 'title-quest': 338, 'title-chasing': 339, 'title-ice': 340, 'title-per': 341, 'title-una': 342, 'title-beautiful': 343, 'title-tell': 344, 'title-wife': 345, 'title-end': 346, 'title-beach': 347, 'title-z': 348, 'title-12': 349, 'title-want': 350, 'title-nothing': 351, 'title-stories': 352, 'title-lost': 353, 'title-history': 354, 'title-las': 355, 'title-monsters': 356, 'title-den': 357, 'title-outer': 358, 'title-power': 359, 'title-amor': 360, 'title-ne': 361, 'title-queen': 362, 'title-easy': 363, 'title-big': 364, 'title-guns': 365, 'title-bridge': 366, 'title-robin': 367, 'title-hood': 368, 'title-je': 369, 'title-honey': 370, 'title-second': 371, 'title-wives': 372, 'title-het': 373, 'title-murder': 374, 'title-mother': 375, 'title-london': 376, 'title-returns': 377, 'title-kong': 378, \"title-man's\": 379, 'title-cry': 380, 'title-city': 381, 'title-ring': 382, 'title-human': 383, 'title-angel': 384, 'title-haunted': 385, 'title-alone': 386, 'title-charlie': 387, 'title-shadows': 388, 'title-snow': 389, 'title-winter': 390, 'title-valley': 391, 'title-kid': 392, 'title-vie': 393, 'title-est': 394, 'title-prime': 395, 'title-homme': 396, 'title-ou': 397, 'title-hand': 398, 'title-gun': 399, 'title-machine': 400, 'title-father': 401, 'title-season': 402, 'title-jimmy': 403, 'title-high': 404, 'title-school': 405, 'title-earth': 406, 'title-blues': 407, 'title-sex': 408, 'title-mask': 409, 'title-project': 410, 'title-zone': 411, 'title-beyond': 412, 'title-lights': 413, 'title-pã¥': 414, 'title-och': 415, 'title-si': 416, 'title-living': 417, 'title-welcome': 418, 'title-hard': 419, 'title-girls': 420, 'title-james': 421, 'title-door': 422, 'title-invisible': 423, 'title-six': 424, 'title-princess': 425, 'title-till': 426, 'title-morning': 427, 'title-mountain': 428, 'title-fu': 429, 'title-going': 430, 'title-wars': 431, 'title-jesse': 432, 'title-work': 433, 'title-glory': 434, 'title-hands': 435, 'title-breaking': 436, 'title-lies': 437, \"title-who's\": 438, 'title-harry': 439, 'title-chance': 440, 'title-5': 441, 'title-friday': 442, 'title-kings': 443, 'title-billy': 444, 'title-legend': 445, 'title-free': 446, 'title-happy': 447, 'title-hours': 448, 'title-falls': 449, 'title-things': 450, 'title-happened': 451, 'title-county': 452, 'title-cobra': 453, 'title-ja': 454, 'title-justice': 455, 'title-friend': 456, 'title-three': 457, 'title-devil': 458, 'title-ride': 459, 'title-teen': 460, 'title-wolf': 461, 'title-perfect': 462, 'title-pretty': 463, 'title-revenge': 464, 'title-daughter': 465, 'title-five': 466, 'title-bloody': 467, 'title-das': 468, 'title-storm': 469, 'title-sister': 470, \"title-let's\": 471, 'title-qui': 472, 'title-rising': 473, 'title-lo': 474, 'title-voyage': 475, 'title-meets': 476, 'title-jesus': 477, 'title-ð¸': 478, \"title-what's\": 479, 'title-adventure': 480, 'title-5:': 481, 'title-wrong': 482, 'title-spy': 483, 'title-short': 484, 'title-witness': 485, 'title-hour': 486, 'title-side': 487, 'title-line': 488, 'title-evil': 489, 'title-halloween': 490, 'title-vs.': 491, 'title-doctor': 492, 'title-x': 493, 'title-run': 494, 'title-rio': 495, 'title-special': 496, 'title-take': 497, 'title-date': 498, 'title-resurrection': 499, 'title-murders': 500, 'title-fear': 501, 'title-ce': 502, 'title-werewolf': 503, 'title-brooklyn': 504, 'title-heroes': 505, 'title-spirit': 506, 'title-femme': 507, 'title-class': 508, 'title-words': 509, 'title-pas': 510, 'title-kill': 511, 'title-kingdom': 512, 'title-beauty': 513, 'title-tai': 514, 'title-born': 515, 'title-attack': 516, 'title-hot': 517, 'title-dear': 518, 'title-central': 519, 'title-everything': 520, 'title-sky': 521, 'title-iii': 522, 'title-hai': 523, 'title-grand': 524, 'title-lee': 525, 'title-peter': 526, 'title-without': 527, 'title-au': 528, 'title-sa': 529, 'title-v': 530, 'title-cop': 531, 'title-im': 532, 'title-trois': 533, 'title-pour': 534, 'title-must': 535, 'title-greatest': 536, 'title-alien': 537, 'title-dick': 538, 'title-une': 539, 'title-ten': 540, 'title-luck': 541, 'title-comes': 542, 'title-dogs': 543, 'title-se': 544, 'title-det': 545, 'title-grave': 546, 'title-fight': 547, 'title-madame': 548, 'title-sin': 549, 'title-iii:': 550, 'title-fever': 551, 'title-met': 552, 'title-race': 553, 'title-broken': 554, 'title-nous': 555, 'title-pink': 556, 'title-para': 557, 'title-bullet': 558, 'title-year': 559, 'title-lonely': 560, 'title-club': 561, 'title-å': 562, 'title-dancing': 563, 'title-true': 564, 'title-double': 565, 'title-coming': 566, 'title-together': 567, 'title-secrets': 568, 'title-rise': 569, 'title-13': 570, 'title-scooby-doo!': 571, 'title-tall': 572, 'title-mondo': 573, 'title-state': 574, 'title-chan': 575, 'title-belle': 576, 'title-zombie': 577, 'title-thousand': 578, 'title-strange': 579, 'title-valentine': 580, 'title-final': 581, 'title-fast': 582, 'title-dans': 583, 'title-turn': 584, 'title-con': 585, 'title-soldier': 586, 'title-like': 587, 'title-confessions': 588, 'title-johnson': 589, 'title-moon': 590, 'title-hotel': 591, 'title-wake': 592, 'title-7': 593, 'title-due': 594, 'title-santa': 595, 'title-escape': 596, 'title-musical': 597, 'title-saw': 598, 'title-past': 599, 'title-united': 600, 'title-ninja': 601, 'title-better': 602, 'title-killing': 603, 'title-meet': 604, 'title-max': 605, 'title-cittã': 606, 'title-agent': 607, 'title-box': 608, 'title-twilight': 609, 'title-sleeping': 610, 'title-around': 611, 'title-police': 612, 'title-goodbye': 613, 'title-fly': 614, 'title-jungle': 615, 'title-dirty': 616, 'title-casa': 617, 'title-walking': 618, 'title-lola': 619, 'title-walk': 620, 'title-book': 621, 'title-hollywood': 622, 'title-fall': 623, 'title-stone': 624, 'title-:': 625, 'title-frank': 626, 'title-price': 627, 'title-called': 628, 'title-cinderella': 629, 'title-named': 630, 'title-batman': 631, 'title-paul': 632, 'title-9': 633, 'title-miracle': 634, 'title-old': 635, 'title-4': 636, 'title-ã\\x80': 637, 'title-looking': 638, 'title-glass': 639, 'title-hill': 640, 'title-nine': 641, 'title-point': 642, 'title-und': 643, 'title-sing': 644, 'title-garden': 645, 'title-rain': 646, 'title-shi': 647, 'title-taking': 648, 'title-cross': 649, 'title-legacy': 650, 'title-killers': 651, 'title-mark': 652, 'title-weekend': 653, 'title-steal': 654, 'title-san': 655, 'title-making': 656, \"title-d'un\": 657, 'title-plan': 658, 'title-magnificent': 659, 'title-ã': 660, 'title-cowboy': 661, 'title-cold': 662, 'title-light': 663, 'title-eddie': 664, 'title-never': 665, 'title-angels': 666, 'title-massacre': 667, 'title-brain': 668, 'title-late': 669, 'title-deux': 670, 'title-batman:': 671, 'title-jekyll': 672, 'title-hyde': 673, 'title-stars': 674, 'title-manhattan': 675, 'title-cool': 676, 'title-wish': 677, 'title-dust': 678, 'title-animal': 679, 'title-head': 680, 'title-shop': 681, 'title-incredible': 682, 'title-ni': 683, 'title-wonderland': 684, 'title-finding': 685, 'title-art': 686, 'title-sur': 687, 'title-courage': 688, 'title-fighting': 689, 'title-army': 690, 'title-nel': 691, 'title-paradise': 692, 'title-strangers': 693, 'title-unknown': 694, 'title-notte': 695, 'title-jones': 696, 'title-stranger': 697, 'title-rose': 698, 'title-place': 699, 'title-1': 700, 'title-richard': 701, 'title-mon': 702, 'title-incident': 703, 'title-nightmare': 704, 'title-holiday': 705, 'title-came': 706, 'title-inferno': 707, 'title-money': 708, 'title-mighty': 709, 'title-rage': 710, 'title-crime': 711, 'title-wall': 712, 'title-business': 713, \"title-l'amour\": 714, 'title-see': 715, 'title-nation': 716, 'title-games': 717, 'title-von': 718, 'title-kids': 719, 'title-dracula': 720, 'title-phantom': 721, 'title-innocent': 722, 'title-grande': 723, 'title-giant': 724, 'title-eight': 725, 'title-river': 726, 'title-gone': 727, 'title-mary': 728, 'title-bird': 729, 'title-che': 730, 'title-alla': 731, 'title-call': 732, 'title-mi': 733, 'title-portrait': 734, 'title-mysterious': 735, 'title-iv:': 736, 'title-mort': 737, 'title-desert': 738, 'title-show': 739, 'title-blind': 740, 'title-open': 741, 'title-puppet': 742, 'title-tree': 743, 'title-right': 744, 'title-tale': 745, 'title-!': 746, 'title-dreams': 747, 'title-calling': 748, 'title-dei': 749, 'title-birds': 750, 'title-grace': 751, 'title-shark': 752, 'title-teenage': 753, 'title-louis': 754, 'title-theroux:': 755, 'title-law': 756, 'title-flying': 757, 'title-ghosts': 758, 'title-sun': 759, 'title-honeymoon': 760, 'title-future': 761, 'title-lion': 762, 'title-poison': 763, 'title-morte': 764, 'title-na': 765, 'title-something': 766, 'title-brother': 767, 'title-demon': 768, 'title-gift': 769, 'title-soul': 770, 'title-thief': 771, 'title-eden': 772, 'title-freedom': 773, 'title-va': 774, 'title-passion': 775, 'title-lord': 776, 'title-ever': 777, 'title-number': 778, 'title-sleep': 779, 'title-vengeance': 780, 'title-horse': 781, 'title-django': 782, 'title-thin': 783, 'title-honor': 784, 'title-michael': 785, 'title-far': 786, 'title-trip': 787, 'title-ernest': 788, 'title-steel': 789, 'title-mission': 790, 'title-lake': 791, 'title-circus': 792, 'title-texas': 793, 'title-kind': 794, 'title-job': 795, 'title-stand': 796, 'title-battle': 797, 'title-tu': 798, 'title-pride': 799, 'title-6': 800, 'title-merry': 801, 'title-om': 802, 'title-soldiers': 803, 'title-potter': 804, 'title-china': 805, 'title-tout': 806, 'title-claus': 807, 'title-moonlight': 808, 'title-madness': 809, 'title-stop': 810, 'title-knight': 811, 'title-waiting': 812, 'title-horror': 813, 'title-top': 814, 'title-hate': 815, 'title-creature': 816, 'title-east': 817, 'title-chase': 818, 'title-sword': 819, 'title-guys': 820, 'title-upon': 821}\n"
     ]
    }
   ],
   "source": [
    "print(original_title_dictionary)"
   ]
  },
  {
   "cell_type": "code",
   "execution_count": 70,
   "metadata": {
    "colab": {
     "base_uri": "https://localhost:8080/"
    },
    "id": "7LqJgUl0GSzk",
    "outputId": "4398ed21-62f2-4d30-e396-f08031b71657"
   },
   "outputs": [
    {
     "name": "stderr",
     "output_type": "stream",
     "text": [
      "100%|██████████████████████████████████████████████████████████████████████████| 25504/25504 [00:06<00:00, 4101.43it/s]\n"
     ]
    },
    {
     "data": {
      "text/plain": [
       "21944.0"
      ]
     },
     "execution_count": 70,
     "metadata": {},
     "output_type": "execute_result"
    }
   ],
   "source": [
    "ytytyt = 0\n",
    "for i in tqdm(range(train_original_title_matrix.shape[0])):\n",
    "    for j in range(train_original_title_matrix.shape[1]):\n",
    "        ytytyt += train_original_title_matrix[i,j]\n",
    "ytytyt"
   ]
  },
  {
   "cell_type": "code",
   "execution_count": 71,
   "metadata": {
    "colab": {
     "base_uri": "https://localhost:8080/"
    },
    "id": "yyvDqG6s8UZg",
    "outputId": "e873b8f8-625c-4a68-e90a-e72f087ffc74"
   },
   "outputs": [
    {
     "name": "stderr",
     "output_type": "stream",
     "text": [
      "100%|████████████████████████████████████████████████████████████████████████| 25504/25504 [00:00<00:00, 543413.69it/s]\n"
     ]
    }
   ],
   "source": [
    "# min count is denoting the minimum number of times a word has to appear in the corpus to be included in the dictionary\n",
    "genre_dictionary = create_dictionary(train_data['genre'].astype(str).values, min_count=10)"
   ]
  },
  {
   "cell_type": "code",
   "execution_count": 72,
   "metadata": {
    "colab": {
     "base_uri": "https://localhost:8080/"
    },
    "id": "kM25xiUeQqXg",
    "outputId": "1e818415-3e4e-4c7b-945e-7f8f9d266eea"
   },
   "outputs": [
    {
     "name": "stdout",
     "output_type": "stream",
     "text": [
      "{'animation': 1, 'action': 2, 'drama': 3, 'documentary': 4, 'biography': 5, 'horror': 6, 'sci-fi': 7, 'western': 8, 'sport': 9, 'family': 10, 'comedy': 11, 'short': 12, 'music': 13, 'mystery': 14, 'war': 15, 'thriller': 16, 'crime': 17, 'musical': 18, 'romance': 19, 'adventure': 20, 'fantasy': 21, 'history': 22, 'film-noir': 23, 'news': 24, 'adult': 25}\n"
     ]
    }
   ],
   "source": [
    "print(genre_dictionary)"
   ]
  },
  {
   "cell_type": "code",
   "execution_count": 73,
   "metadata": {
    "colab": {
     "base_uri": "https://localhost:8080/"
    },
    "id": "EZyliCwX8UZg",
    "outputId": "c953e696-bb55-4bbb-9dce-cd69be584b32"
   },
   "outputs": [
    {
     "name": "stdout",
     "output_type": "stream",
     "text": [
      "(25504, 25)\n",
      "(5465, 25)\n",
      "(5466, 25)\n"
     ]
    }
   ],
   "source": [
    "train_genre_matrix = transform_text(\n",
    "    train_data['genre'].astype(str).values, genre_dictionary)\n",
    "valid_genre_matrix = transform_text(\n",
    "    valid_data['genre'].astype(str).values, genre_dictionary)\n",
    "test_genre_matrix = transform_text(\n",
    "    test_data['genre'].astype(str).values, genre_dictionary)\n",
    "# print(genre_dictionary)\n",
    "print(train_genre_matrix.shape)\n",
    "print(valid_genre_matrix.shape)\n",
    "print(test_genre_matrix.shape)"
   ]
  },
  {
   "cell_type": "code",
   "execution_count": 74,
   "metadata": {
    "colab": {
     "base_uri": "https://localhost:8080/",
     "height": 593
    },
    "id": "G-FuXobUQTnT",
    "outputId": "f25c4dc8-de46-4dcc-c181-9d733e9c3840"
   },
   "outputs": [
    {
     "data": {
      "text/html": [
       "<div>\n",
       "<style scoped>\n",
       "    .dataframe tbody tr th:only-of-type {\n",
       "        vertical-align: middle;\n",
       "    }\n",
       "\n",
       "    .dataframe tbody tr th {\n",
       "        vertical-align: top;\n",
       "    }\n",
       "\n",
       "    .dataframe thead th {\n",
       "        text-align: right;\n",
       "    }\n",
       "</style>\n",
       "<table border=\"1\" class=\"dataframe\">\n",
       "  <thead>\n",
       "    <tr style=\"text-align: right;\">\n",
       "      <th></th>\n",
       "      <th>original_language</th>\n",
       "      <th>original_title</th>\n",
       "      <th>overview</th>\n",
       "      <th>production_companies</th>\n",
       "      <th>production_countries</th>\n",
       "      <th>runtime</th>\n",
       "      <th>cast</th>\n",
       "      <th>crew</th>\n",
       "      <th>keywords</th>\n",
       "      <th>IMDBscore</th>\n",
       "      <th>...</th>\n",
       "      <th>hue_sd</th>\n",
       "      <th>blue</th>\n",
       "      <th>blue_sd</th>\n",
       "      <th>green</th>\n",
       "      <th>green_sd</th>\n",
       "      <th>red</th>\n",
       "      <th>red_sd</th>\n",
       "      <th>year</th>\n",
       "      <th>director</th>\n",
       "      <th>actors</th>\n",
       "    </tr>\n",
       "  </thead>\n",
       "  <tbody>\n",
       "    <tr>\n",
       "      <th>0</th>\n",
       "      <td>1</td>\n",
       "      <td>title-break|title-blade|title-4:|title-sanka|t...</td>\n",
       "      <td>Fourth Break Blade Movie.</td>\n",
       "      <td>The Klock Worx Co.|Ltd.|Production I.G.</td>\n",
       "      <td>JP</td>\n",
       "      <td>50.0</td>\n",
       "      <td>[{'cast_id': 2, 'character': 'Zess', 'credit_i...</td>\n",
       "      <td>[{'credit_id': '52fe48ccc3a36847f817a091', 'de...</td>\n",
       "      <td>keyword-based on manga|keyword-anime|keyword-c...</td>\n",
       "      <td>7.3</td>\n",
       "      <td>...</td>\n",
       "      <td>39.691852</td>\n",
       "      <td>70.784354</td>\n",
       "      <td>67.829909</td>\n",
       "      <td>70.491370</td>\n",
       "      <td>62.708761</td>\n",
       "      <td>62.017233</td>\n",
       "      <td>63.278025</td>\n",
       "      <td>2010</td>\n",
       "      <td>Nobuyoshi Habara</td>\n",
       "      <td>Hiroshi Kamiya|Chiwa Saito|Yuichi Nakamura</td>\n",
       "    </tr>\n",
       "    <tr>\n",
       "      <th>1</th>\n",
       "      <td>1</td>\n",
       "      <td>title-white|title-diamond</td>\n",
       "      <td>This 2004 documentary by Werner Herzog diaries...</td>\n",
       "      <td></td>\n",
       "      <td></td>\n",
       "      <td>90.0</td>\n",
       "      <td>[{'cast_id': 3, 'character': 'Himself / narrat...</td>\n",
       "      <td>[{'credit_id': '52fe447ac3a368484e02555d', 'de...</td>\n",
       "      <td>keyword-hot air balloon</td>\n",
       "      <td>7.6</td>\n",
       "      <td>...</td>\n",
       "      <td>11.220622</td>\n",
       "      <td>159.131307</td>\n",
       "      <td>65.353604</td>\n",
       "      <td>118.697954</td>\n",
       "      <td>59.891528</td>\n",
       "      <td>85.455552</td>\n",
       "      <td>61.780767</td>\n",
       "      <td>2004</td>\n",
       "      <td>Werner Herzog</td>\n",
       "      <td>Werner Herzog</td>\n",
       "    </tr>\n",
       "    <tr>\n",
       "      <th>2</th>\n",
       "      <td>1</td>\n",
       "      <td>title-barchester|title-chronicles</td>\n",
       "      <td>When a crusade against the Church of England's...</td>\n",
       "      <td></td>\n",
       "      <td></td>\n",
       "      <td>370.0</td>\n",
       "      <td>[{'cast_id': 3, 'character': '', 'credit_id': ...</td>\n",
       "      <td>[{'credit_id': '569fab00c3a36858cb009320', 'de...</td>\n",
       "      <td></td>\n",
       "      <td>8.3</td>\n",
       "      <td>...</td>\n",
       "      <td>55.332722</td>\n",
       "      <td>96.676378</td>\n",
       "      <td>86.835811</td>\n",
       "      <td>96.952100</td>\n",
       "      <td>83.708179</td>\n",
       "      <td>95.284533</td>\n",
       "      <td>87.640059</td>\n",
       "      <td>1982</td>\n",
       "      <td>David Giles</td>\n",
       "      <td>Donald Pleasence|Janet Maw|Nigel Hawthorne</td>\n",
       "    </tr>\n",
       "    <tr>\n",
       "      <th>3</th>\n",
       "      <td>1</td>\n",
       "      <td>title-sea</td>\n",
       "      <td>Three segments depicting the life cycle of a f...</td>\n",
       "      <td>Peter Hutton</td>\n",
       "      <td>US</td>\n",
       "      <td>60.0</td>\n",
       "      <td>[]</td>\n",
       "      <td>[{'credit_id': '52fe4b7fc3a368484e18bc7d', 'de...</td>\n",
       "      <td></td>\n",
       "      <td>7.4</td>\n",
       "      <td>...</td>\n",
       "      <td>43.301917</td>\n",
       "      <td>108.466304</td>\n",
       "      <td>73.874151</td>\n",
       "      <td>97.622169</td>\n",
       "      <td>70.299857</td>\n",
       "      <td>66.973078</td>\n",
       "      <td>72.423600</td>\n",
       "      <td>2007</td>\n",
       "      <td>Peter B. Hutton</td>\n",
       "      <td></td>\n",
       "    </tr>\n",
       "    <tr>\n",
       "      <th>4</th>\n",
       "      <td>1</td>\n",
       "      <td>title-rig</td>\n",
       "      <td>In the midst of a tropical storm, the crew of ...</td>\n",
       "      <td>OffSpring Productions|Workshop Films 2</td>\n",
       "      <td>US</td>\n",
       "      <td>90.0</td>\n",
       "      <td>[{'cast_id': 2, 'character': 'Jim Fleming', 'c...</td>\n",
       "      <td>[{'credit_id': '52fe46f4c3a36847f811b93d', 'de...</td>\n",
       "      <td>keyword-sea|keyword-monster|keyword-oil rig</td>\n",
       "      <td>3.2</td>\n",
       "      <td>...</td>\n",
       "      <td>23.330927</td>\n",
       "      <td>81.584315</td>\n",
       "      <td>82.293496</td>\n",
       "      <td>67.445420</td>\n",
       "      <td>81.890776</td>\n",
       "      <td>53.455941</td>\n",
       "      <td>75.376619</td>\n",
       "      <td>2010</td>\n",
       "      <td>Peter Atencio</td>\n",
       "      <td>William Forsythe|Stacey Hinnen|Serah D'Laine</td>\n",
       "    </tr>\n",
       "  </tbody>\n",
       "</table>\n",
       "<p>5 rows × 27 columns</p>\n",
       "</div>"
      ],
      "text/plain": [
       "  original_language                                     original_title  \\\n",
       "0                 1  title-break|title-blade|title-4:|title-sanka|t...   \n",
       "1                 1                          title-white|title-diamond   \n",
       "2                 1                  title-barchester|title-chronicles   \n",
       "3                 1                                          title-sea   \n",
       "4                 1                                          title-rig   \n",
       "\n",
       "                                            overview  \\\n",
       "0                          Fourth Break Blade Movie.   \n",
       "1  This 2004 documentary by Werner Herzog diaries...   \n",
       "2  When a crusade against the Church of England's...   \n",
       "3  Three segments depicting the life cycle of a f...   \n",
       "4  In the midst of a tropical storm, the crew of ...   \n",
       "\n",
       "                      production_companies production_countries  runtime  \\\n",
       "0  The Klock Worx Co.|Ltd.|Production I.G.                   JP     50.0   \n",
       "1                                                                   90.0   \n",
       "2                                                                  370.0   \n",
       "3                             Peter Hutton                   US     60.0   \n",
       "4   OffSpring Productions|Workshop Films 2                   US     90.0   \n",
       "\n",
       "                                                cast  \\\n",
       "0  [{'cast_id': 2, 'character': 'Zess', 'credit_i...   \n",
       "1  [{'cast_id': 3, 'character': 'Himself / narrat...   \n",
       "2  [{'cast_id': 3, 'character': '', 'credit_id': ...   \n",
       "3                                                 []   \n",
       "4  [{'cast_id': 2, 'character': 'Jim Fleming', 'c...   \n",
       "\n",
       "                                                crew  \\\n",
       "0  [{'credit_id': '52fe48ccc3a36847f817a091', 'de...   \n",
       "1  [{'credit_id': '52fe447ac3a368484e02555d', 'de...   \n",
       "2  [{'credit_id': '569fab00c3a36858cb009320', 'de...   \n",
       "3  [{'credit_id': '52fe4b7fc3a368484e18bc7d', 'de...   \n",
       "4  [{'credit_id': '52fe46f4c3a36847f811b93d', 'de...   \n",
       "\n",
       "                                            keywords  IMDBscore  ...  \\\n",
       "0  keyword-based on manga|keyword-anime|keyword-c...        7.3  ...   \n",
       "1                            keyword-hot air balloon        7.6  ...   \n",
       "2                                                           8.3  ...   \n",
       "3                                                           7.4  ...   \n",
       "4       keyword-sea|keyword-monster|keyword-oil rig         3.2  ...   \n",
       "\n",
       "      hue_sd        blue    blue_sd       green   green_sd        red  \\\n",
       "0  39.691852   70.784354  67.829909   70.491370  62.708761  62.017233   \n",
       "1  11.220622  159.131307  65.353604  118.697954  59.891528  85.455552   \n",
       "2  55.332722   96.676378  86.835811   96.952100  83.708179  95.284533   \n",
       "3  43.301917  108.466304  73.874151   97.622169  70.299857  66.973078   \n",
       "4  23.330927   81.584315  82.293496   67.445420  81.890776  53.455941   \n",
       "\n",
       "      red_sd  year          director  \\\n",
       "0  63.278025  2010  Nobuyoshi Habara   \n",
       "1  61.780767  2004     Werner Herzog   \n",
       "2  87.640059  1982       David Giles   \n",
       "3  72.423600  2007   Peter B. Hutton   \n",
       "4  75.376619  2010     Peter Atencio   \n",
       "\n",
       "                                         actors  \n",
       "0    Hiroshi Kamiya|Chiwa Saito|Yuichi Nakamura  \n",
       "1                                 Werner Herzog  \n",
       "2    Donald Pleasence|Janet Maw|Nigel Hawthorne  \n",
       "3                                                \n",
       "4  William Forsythe|Stacey Hinnen|Serah D'Laine  \n",
       "\n",
       "[5 rows x 27 columns]"
      ]
     },
     "execution_count": 74,
     "metadata": {},
     "output_type": "execute_result"
    }
   ],
   "source": [
    "train_data.head()"
   ]
  },
  {
   "cell_type": "code",
   "execution_count": 75,
   "metadata": {
    "colab": {
     "base_uri": "https://localhost:8080/"
    },
    "id": "_ex2N49w8UZh",
    "outputId": "e7935b7d-b850-4db2-aac4-27de53c36660"
   },
   "outputs": [
    {
     "name": "stderr",
     "output_type": "stream",
     "text": [
      "100%|████████████████████████████████████████████████████████████████████████| 25504/25504 [00:00<00:00, 500885.11it/s]"
     ]
    },
    {
     "name": "stdout",
     "output_type": "stream",
     "text": [
      "Size of dictionary:  333\n",
      "(25504, 333)\n",
      "(5465, 333)\n",
      "(5466, 333)\n"
     ]
    },
    {
     "name": "stderr",
     "output_type": "stream",
     "text": [
      "\n"
     ]
    }
   ],
   "source": [
    "director_dictionary = create_dictionary(\n",
    "    train_data['director'].astype(str).values, min_count=10)\n",
    "print('Size of dictionary: ', len(director_dictionary))\n",
    "train_director_matrix = transform_text(\n",
    "    train_data['director'].astype(str).values, director_dictionary)\n",
    "valid_director_matrix = transform_text(\n",
    "    valid_data['director'].astype(str).values, director_dictionary)\n",
    "test_director_matrix = transform_text(\n",
    "    test_data['director'].astype(str).values, director_dictionary)\n",
    "# print(director_dictionary)\n",
    "print(train_director_matrix.shape)\n",
    "print(valid_director_matrix.shape)\n",
    "print(test_director_matrix.shape)\n"
   ]
  },
  {
   "cell_type": "code",
   "execution_count": 76,
   "metadata": {
    "colab": {
     "base_uri": "https://localhost:8080/"
    },
    "id": "h0KkpoWJQxss",
    "outputId": "259d26e2-93d7-4171-be4a-3438b2ed9e10"
   },
   "outputs": [
    {
     "name": "stdout",
     "output_type": "stream",
     "text": [
      "{'werner herzog': 1, 'george sidney': 2, 'norman jewison': 3, 'sidney j. furie': 4, 'william a. wellman': 5, 'renny harlin': 6, 'joel schumacher': 7, 'george cukor': 8, 'john sayles': 9, 'lewis milestone': 10, 'j. lee thompson': 11, 'mark griffiths': 12, 'ernst lubitsch': 13, 'peter yates': 14, 'tinto brass': 15, 'john huston': 16, 'george b. seitz': 17, 'hou hsiao-hsien': 18, 'robert wise': 19, 'king vidor': 20, 'phil karlson': 21, 'dario argento': 22, 'satyajit ray': 23, 'kevin connor': 24, 'takeshi kitano': 25, 'henry hathaway': 26, 'roger corman': 27, 'george marshall': 28, 'otto preminger': 29, 'cecil b. demille': 30, 'ivan reitman': 31, 'barry levinson': 32, 'richard quine': 33, 'jay karas': 34, 'wes craven': 35, 'mario bava': 36, 'jean negulesco': 37, 'luis buã±uel': 38, 'seijun suzuki': 39, 'robert altman': 40, 'william wyler': 41, 'roman polanski': 42, 'franã§ois truffaut': 43, 'val guest': 44, 'don siegel': 45, 'edward dmytryk': 46, 'charlie chaplin': 47, 'fritz lang': 48, 'rob reiner': 49, 'woody allen': 50, 'robert harmon': 51, 'nagisa å\\x8cshima': 52, 'william castle': 53, 'peter bogdanovich': 54, 'buster keaton': 55, 'wim wenders': 56, 'anthony asquith': 57, 'mike figgis': 58, 'ã\\x81lex de la iglesia': 59, 'd.w. griffith': 60, 'henry levin': 61, 'john hough': 62, 'robert z. leonard': 63, 'mike newell': 64, 'rainer werner fassbinder': 65, 'mark robson': 66, 'steven soderbergh': 67, 'stephen frears': 68, 'aki kaurismã¤ki': 69, 'don sharp': 70, 'andrã© tã©chinã©': 71, 'tony scott': 72, 'douglas sirk': 73, 'mike nichols': 74, 'james ivory': 75, 'jean-luc godard': 76, 'richard donner': 77, 'manoel de oliveira': 78, 'albert pyun': 79, 'larry cohen': 80, 'bernardo bertolucci': 81, 'volker schlã¶ndorff': 82, 'john irvin': 83, 'alan rudolph': 84, 'mamoru oshii': 85, 'roy del ruth': 86, 'john schlesinger': 87, 'ron howard': 88, 'norman taurog': 89, 'ã\\x89ric rohmer': 90, 'robert zemeckis': 91, 'lars von trier': 92, 'claude chabrol': 93, 'alfred hitchcock': 94, 'lasse hallstrã¶m': 95, 'fred olen ray': 96, 'mario monicelli': 97, 'john frankenheimer': 98, 'john sturges': 99, 's. sylvan simon': 100, 'stanley donen': 101, 'vittorio de sica': 102, 'mitchell leisen': 103, 'david hand': 104, 'stanley kramer': 105, 'george stevens': 106, 'arthur hiller': 107, 'enzo g. castellari': 108, 'william friedkin': 109, 'freddie francis': 110, 'miguel m. delgado': 111, 'richard fleischer': 112, 'joseph l. mankiewicz': 113, 'joe dante': 114, 'russell mulcahy': 115, 'sam raimi': 116, 'spike lee': 117, 'robert siodmak': 118, 'steven spielberg': 119, 'jonathan demme': 120, 'alain resnais': 121, 'agnieszka holland': 122, 'herbert ross': 123, 'ishirã´ honda': 124, 'jacques tourneur': 125, 'ralph nelson': 126, 'andrew v. mclaglen': 127, 'clarence brown': 128, 'michael apted': 129, 'burt kennedy': 130, 'garry marshall': 131, 'yasujirå\\x8d ozu': 132, 'blake edwards': 133, 'jules bass': 134, 'william dieterle': 135, 'barbet schroeder': 136, 'jesãºs franco': 137, 'akira kurosawa': 138, 'danny boyle': 139, 'ken loach': 140, 'david lynch': 141, 'roger donaldson': 142, 'antonio margheriti': 143, 'michael feifer': 144, 'louis malle': 145, 'uwe boll': 146, 'david lean': 147, 'jacques rivette': 148, 'william beaudine': 149, 'david cronenberg': 150, 'christopher cain': 151, 'joseph sargent': 152, 'john carpenter': 153, 'michael curtiz': 154, 'walter hill': 155, 'vincente minnelli': 156, 'giuliano carnimeo': 157, 'john waters': 158, 'john woo': 159, 'martin ritt': 160, 'orson welles': 161, 'sammo hung': 162, 'shã´hei imamura': 163, 'gus van sant': 164, 'john cassavetes': 165, 'stuart gillard': 166, 'nick broomfield': 167, 'gordon douglas': 168, 'kenji misumi': 169, 'michelangelo antonioni': 170, 'paul wendkos': 171, 'chris columbus': 172, 'martin scorsese': 173, 'roy ward baker': 174, 'takashi miike': 175, 'ridley scott': 176, 'howard deutch': 177, 'abbas kiarostami': 178, 'roberto rossellini': 179, 'alfred e. green': 180, 'walter lang': 181, 'frank borzage': 182, 'lewis gilbert': 183, 'michael anderson': 184, 'michael winterbottom': 185, 'federico fellini': 186, 'pier paolo pasolini': 187, 'chris marker': 188, 'raãºl ruiz': 189, 'zhang yimou': 190, 'john landis': 191, 'tsui hark': 192, 'john guillermin': 193, 'mervyn leroy': 194, 'wayne wang': 195, 'ettore scola': 196, 'anatole litvak': 197, 'lucio fulci': 198, 'frank capra': 199, 'billy wilder': 200, 'edward buzzell': 201, 'costa-gavras': 202, 'alexander sokurov': 203, 'emir kusturica': 204, 'ingmar bergman': 205, 'william a. seiter': 206, 'richard brooks': 207, 'robert aldrich': 208, 'john cromwell': 209, 'sam wood': 210, 'carlos saura': 211, 'jack conway': 212, 'ted kotcheff': 213, 'umberto lenzi': 214, 'clint eastwood': 215, 'kenji mizoguchi': 216, 'hayao miyazaki': 217, 'victor sjã¶strã¶m': 218, 'ronald neame': 219, 'johnnie to': 220, 'mikio naruse': 221, 'melvin frank': 222, 'edmund goulding': 223, 'russ meyer': 224, 'henry koster': 225, 'joseph losey': 226, 'lloyd bacon': 227, 'raoul walsh': 228, 'franã§ois ozon': 229, 'vincent mceveety': 230, 'anthony mann': 231, 'paul verhoeven': 232, 'francis ford coppola': 233, 'david butler': 234, 'tyler perry': 235, 'alex gibney': 236, 'michael powell': 237, 'ken russell': 238, 'kiyoshi kurosawa': 239, 'jonathan kaplan': 240, 'steve rash': 241, 'abel ferrara': 242, 'frank tashlin': 243, 'oliver stone': 244, 'john ford': 245, 'sydney pollack': 246, 'bruce beresford': 247, 'tod browning': 248, 'simon wincer': 249, 'william keighley': 250, 'tay garnett': 251, 'ferdinando baldi': 252, 'neil jordan': 253, 'sean mcnamara': 254, 'ram gopal varma': 255, 'lloyd kaufman': 256, 'richard thorpe': 257, 'delmer daves': 258, 'henry king': 259, 'masaki kobayashi': 260, 'paul w.s. anderson': 261, 'hirokazu koreeda': 262, 'richard lester': 263, 'luc besson': 264, 'david decoteau': 265, 'paul mazursky': 266, 'patrice leconte': 267, 'peter weir': 268, 'penelope spheeris': 269, 'terence fisher': 270, 'stelvio massi': 271, 'andrzej wajda': 272, 'daniel mann': 273, 'hong sang-soo': 274, 'stephen herek': 275, 'jean renoir': 276, 'pedro almodã³var': 277, 'jan å\\xa0vankmajer': 278, 'delbert mann': 279, 'donald petrie': 280, 'sidney lumet': 281, 'leo mccarey': 282, 'dino risi': 283, 'jim jarmusch': 284, 'jackie chan': 285, 'charles walters': 286, 'ken annakin': 287, 'w.s. van dyke': 288, 'peter greenaway': 289, 'sergio corbucci': 290, 'william a. graham': 291, 'paul schrader': 292, 'andrei konchalovsky': 293, 'josef von sternberg': 294, 'norman mclaren': 295, 'ray enright': 296, 'frederick wiseman': 297, 'charles band': 298, 'kim ki-duk': 299, 'liu chia-liang': 300, 'kenneth branagh': 301, 'robert stevenson': 302, 'martha coolidge': 303, 'kevin smith': 304, 'bob clark': 305, 'roland emmerich': 306, 'brian de palma': 307, 'jim wynorski': 308, 'brian trenchard-smith': 309, 'bert i. gordon': 310, 'guy hamilton': 311, 'duccio tessari': 312, 'wong jing': 313, 'nicholas ray': 314, 'samuel fuller': 315, 'mike leigh': 316, 'howard hawks': 317, 'john badham': 318, 'john g. avildsen': 319, 'francesco rosi': 320, 'curtis bernhardt': 321, 'robert day': 322, 'taylor hackford': 323, 'jack arnold': 324, 'norman z. mcleod': 325, 'corey yuen kwai': 326, 'richard linklater': 327, 'g.w. pabst': 328, 'tim burton': 329, 'damiano damiani': 330, 'gordon chan': 331, 'fred schepisi': 332, 'john farrow': 333}\n"
     ]
    }
   ],
   "source": [
    "print(director_dictionary)"
   ]
  },
  {
   "cell_type": "code",
   "execution_count": 77,
   "metadata": {
    "colab": {
     "base_uri": "https://localhost:8080/"
    },
    "id": "YQ5ZbHks8UZh",
    "outputId": "d1318500-f2c6-4529-ac4d-13ddbc458195"
   },
   "outputs": [
    {
     "name": "stderr",
     "output_type": "stream",
     "text": [
      "100%|████████████████████████████████████████████████████████████████████████| 25504/25504 [00:00<00:00, 387228.66it/s]\n"
     ]
    },
    {
     "name": "stdout",
     "output_type": "stream",
     "text": [
      "Size of dictionary:  322\n",
      "(25504, 322)\n",
      "(5465, 322)\n",
      "(5466, 322)\n"
     ]
    }
   ],
   "source": [
    "actors_dictionary = create_dictionary(\n",
    "    train_data['actors'].astype(str).values, min_count=20)\n",
    "print('Size of dictionary: ', len(actors_dictionary))\n",
    "train_actors_matrix = transform_text(\n",
    "    train_data['actors'].astype(str).values, actors_dictionary)\n",
    "valid_actors_matrix = transform_text(\n",
    "    valid_data['actors'].astype(str).values, actors_dictionary)\n",
    "test_actors_matrix = transform_text(\n",
    "    test_data['actors'].astype(str).values, actors_dictionary)\n",
    "# print(actors_dictionary)\n",
    "print(train_actors_matrix.shape)\n",
    "print(valid_actors_matrix.shape)\n",
    "print(test_actors_matrix.shape)\n"
   ]
  },
  {
   "cell_type": "code",
   "execution_count": 78,
   "metadata": {
    "colab": {
     "base_uri": "https://localhost:8080/"
    },
    "id": "0kpKctKMQ3AU",
    "outputId": "11e14018-f9ab-447d-b9b7-17d1eac8c6e2"
   },
   "outputs": [
    {
     "name": "stdout",
     "output_type": "stream",
     "text": [
      "{'donald pleasence': 1, 'nicole kidman': 2, 'richard widmark': 3, 'anthony hopkins': 4, 'owen wilson': 5, 'gene hackman': 6, 'richard pryor': 7, 'beau bridges': 8, 'eddie murphy': 9, 'cameron diaz': 10, 'sidney poitier': 11, 'rod steiger': 12, 'dolph lundgren': 13, 'sandra bullock': 14, 'bud spencer': 15, 'halle berry': 16, 'robert downey jr.': 17, 'robert mitchum': 18, 'samuel l. jackson': 19, 'pierce brosnan': 20, 'rock hudson': 21, 'ginger rogers': 22, 'joel mccrea': 23, 'jim carrey': 24, 'kate winslet': 25, 'kirsten dunst': 26, 'joan crawford': 27, 'james earl jones': 28, 'chevy chase': 29, 'gã©rard depardieu': 30, 'william powell': 31, 'sean penn': 32, 'shah rukh khan': 33, 'dennis hopper': 34, 'kiefer sutherland': 35, 'arnold schwarzenegger': 36, \"peter o'toole\": 37, 'humphrey bogart': 38, 'walter huston': 39, 'vincent price': 40, 'lionel barrymore': 41, 'shintarã´ katsu': 42, 'toshirå\\x8d mifune': 43, 'gary cooper': 44, 'christopher plummer': 45, 'mickey rooney': 46, 'louis gossett, jr.': 47, 'adrien brody': 48, 'salman khan': 49, 'cary grant': 50, 'christopher lee': 51, 'george sanders': 52, 'jane fonda': 53, 'peter lorre': 54, 'basil rathbone': 55, 'glenn ford': 56, 'shirley maclaine': 57, 'jennifer aniston': 58, 'jeff goldblum': 59, 'fred macmurray': 60, 'melvyn douglas': 61, 'bill murray': 62, 'dan aykroyd': 63, 'sigourney weaver': 64, 'dustin hoffman': 65, 'robert de niro': 66, 'alain delon': 67, 'amitabh bachchan': 68, 'james cagney': 69, 'peter sellers': 70, 'clint eastwood': 71, 'patricia clarkson': 72, 'liam neeson': 73, 'sean bean': 74, 'vanessa redgrave': 75, 'kirk douglas': 76, 'eleanor parker': 77, 'ewan mcgregor': 78, 'robert duvall': 79, 'tom berenger': 80, 'danny glover': 81, 'ingrid bergman': 82, 'susan hayward': 83, 'woody allen': 84, 'diane keaton': 85, 'ben kingsley': 86, 'walter matthau': 87, 'nicolas cage': 88, 'robert ryan': 89, 'richard dreyfuss': 90, 'woody harrelson': 91, 'jack nicholson': 92, 'uma thurman': 93, 'charlie chaplin': 94, 'lance henriksen': 95, 'steven seagal': 96, 'rutger hauer': 97, 'matthew modine': 98, 'daryl hannah': 99, 'kevin bacon': 100, 'george clooney': 101, 'gian maria volontã©': 102, 'christian slater': 103, 'tom selleck': 104, 'michael caine': 105, 'mia farrow': 106, 'danny trejo': 107, 'kevin costner': 108, 'colin firth': 109, 'bruce willis': 110, 'rachel weisz': 111, 'jude law': 112, 'diane lane': 113, 'alec baldwin': 114, 'sean connery': 115, 'james caan': 116, 'buster keaton': 117, 'tommy lee jones': 118, 'tom cruise': 119, 'bette davis': 120, 'meryl streep': 121, 'kevin kline': 122, 'kris kristofferson': 123, 'frank welker': 124, 'richard burton': 125, 'glenn close': 126, 'john malkovich': 127, 'michelle pfeiffer': 128, 'anthony quinn': 129, 'michael madsen': 130, 'boris karloff': 131, 'charles boyer': 132, 'jackie chan': 133, 'christopher walken': 134, 'naomi watts': 135, 'jean-claude van damme': 136, 'christopher lloyd': 137, 'matthew broderick': 138, 'fredric march': 139, 'charles laughton': 140, 'tadanobu asano': 141, 'ryan reynolds': 142, 'forest whitaker': 143, 'stan laurel': 144, 'oliver hardy': 145, 'eric roberts': 146, 'jeremy irons': 147, 'ray milland': 148, 'al pacino': 149, 'jon voight': 150, 'martin sheen': 151, 'jerry lewis': 152, 'dean martin': 153, 'keanu reeves': 154, 'danny devito': 155, 'matt dillon': 156, 'willem dafoe': 157, 'gary oldman': 158, 'catherine deneuve': 159, 'vittorio gassman': 160, 'spencer tracy': 161, 'robert young': 162, 'armand assante': 163, 'julia roberts': 164, 'luke wilson': 165, 'fred astaire': 166, 'brad dourif': 167, 'priyanka chopra': 168, 'charlize theron': 169, 'sophia loren': 170, 'marcello mastroianni': 171, 'terence hill': 172, 'orson welles': 173, 'bill pullman': 174, 'gabriel byrne': 175, 'charlie sheen': 176, 'gregory peck': 177, 'katharine hepburn': 178, 'david niven': 179, 'charlton heston': 180, 'jack palance': 181, 'james woods': 182, 'peter cushing': 183, 'ray liotta': 184, 'daniel auteuil': 185, 'steve martin': 186, 'joseph cotten': 187, 'brendan fraser': 188, 'james franco': 189, 'ajay devgn': 190, 'ralph fiennes': 191, 'drew barrymore': 192, 'adam sandler': 193, 'donald sutherland': 194, 'randolph scott': 195, 'mark wahlberg': 196, 'tim robbins': 197, 'william hurt': 198, 'whoopi goldberg': 199, 'michael york': 200, 'jack lemmon': 201, 'helen mirren': 202, 'richard gere': 203, 'robert carlyle': 204, 'kevin spacey': 205, 'alan arkin': 206, 'jennifer jason leigh': 207, 'robin williams': 208, 'ernest borgnine': 209, 'michael j. fox': 210, 'james stewart': 211, 'matt damon': 212, 'denzel washington': 213, 'william holden': 214, 'guy pearce': 215, 'malcolm mcdowell': 216, 'bruce dern': 217, 'henry fonda': 218, 'ben affleck': 219, 'sam neill': 220, 'burt reynolds': 221, 'harvey keitel': 222, 'george c. scott': 223, 'andy garcã\\xada': 224, 'viggo mortensen': 225, 'john hurt': 226, 'tim roth': 227, 'annette bening': 228, 'susan sarandon': 229, 'jodie foster': 230, 'rip torn': 231, 'akshay kumar': 232, 'paul newman': 233, 'clark gable': 234, 'myrna loy': 235, 'john leguizamo': 236, 'nick nolte': 237, 'kenneth branagh': 238, 'barbara stanwyck': 239, 'kate beckinsale': 240, 'john travolta': 241, 'cate blanchett': 242, 'jet li': 243, 'oliver reed': 244, 'billy zane': 245, 'max von sydow': 246, 'ed harris': 247, 'robert taylor': 248, 'doris day': 249, 'james garner': 250, 'peter falk': 251, 'brad pitt': 252, 'john cusack': 253, 'aidan quinn': 254, 'ellen burstyn': 255, 'elijah wood': 256, 'wesley snipes': 257, 'will ferrell': 258, 'isabelle huppert': 259, 'james mason': 260, 'sammo hung': 261, 'juliette binoche': 262, 'jeff bridges': 263, 'karen black': 264, 'ben stiller': 265, 'shelley winters': 266, 'jim belushi': 267, 'sharon stone': 268, 'russell crowe': 269, 'sylvester stallone': 270, 'andy lau': 271, 'burt lancaster': 272, 'christian bale': 273, 'mel gibson': 274, 'naseeruddin shah': 275, 'julianne moore': 276, 'john turturro': 277, 'johnny depp': 278, 'marlon brando': 279, 'val kilmer': 280, 'john wayne': 281, 'elizabeth taylor': 282, 'walter pidgeon': 283, 'matthew mcconaughey': 284, 'richard harris': 285, 'laurence fishburne': 286, 'dirk bogarde': 287, 'frank sinatra': 288, 'jason robards': 289, 'kurt russell': 290, 'tom hanks': 291, \"maureen o'hara\": 292, 'penã©lope cruz': 293, 'mark ruffalo': 294, 'john goodman': 295, 'helena bonham carter': 296, 'michael douglas': 297, 'toni collette': 298, 'winona ryder': 299, 'tom skerritt': 300, 'jeff daniels': 301, 'antonio banderas': 302, 'morgan freeman': 303, 'roger moore': 304, 'jennifer connelly': 305, 'william h. macy': 306, 'lee marvin': 307, 'olivia de havilland': 308, 'edward g. robinson': 309, 'harrison ford': 310, 'bing crosby': 311, 'stephen dorff': 312, 'ethan hawke': 313, 'marlene dietrich': 314, 'george segal': 315, 'franco nero': 316, 'cuba gooding jr.': 317, 'dennis quaid': 318, 'shirley temple': 319, 'matthew lillard': 320, 'stellan skarsgã¥rd': 321, 'robert redford': 322}\n"
     ]
    }
   ],
   "source": [
    "print(actors_dictionary)"
   ]
  },
  {
   "cell_type": "code",
   "execution_count": 79,
   "metadata": {
    "id": "OgpQ9JAs8UZi"
   },
   "outputs": [],
   "source": [
    "import spacy\n",
    "import re"
   ]
  },
  {
   "cell_type": "code",
   "execution_count": 80,
   "metadata": {
    "id": "235SChyV2S59"
   },
   "outputs": [],
   "source": [
    "#def func(messages, word_dictionary, tokenizer = None):\n",
    "#  m_w = get_words_new(messages[0],tokenizer)\n",
    "#  m_i = map(word_dictionary.get,m_w)\n",
    "#  print(m_w)\n",
    "#  print(list(m_i))"
   ]
  },
  {
   "cell_type": "code",
   "execution_count": 81,
   "metadata": {
    "id": "o7ZeNmvD4IA3"
   },
   "outputs": [],
   "source": [
    "def create_dictionary_overview(messages, min_count, tokenizer):\n",
    "    #stop_words = []\n",
    "    #with open(path2,'r') as f:\n",
    "    #  for x in f:\n",
    "    #    stop_words.append(x[:-1])\n",
    "\n",
    "    words_count = {}\n",
    "    for i in tqdm(range(len(messages))):\n",
    "        s = messages[i]\n",
    "        words = get_words(s, tokenizer)\n",
    "        words_unique = list(dict.fromkeys(words))\n",
    "        for w in words_unique:\n",
    "          if len(w)<=1 or w.lower() in stop_words_set or not w.isalpha():\n",
    "            continue\n",
    "          if w.lower() not in words_count:\n",
    "            words_count[w.lower()] = 1\n",
    "          else:\n",
    "            words_count[w.lower()] += 1\n",
    "\n",
    "    for word in list(words_count.keys()):\n",
    "        if (words_count[word] < min_count) or word=='':\n",
    "            del words_count[word]\n",
    "\n",
    "    index = 1\n",
    "    for word in list(words_count.keys()):\n",
    "        words_count[word] = index\n",
    "        index = index + 1\n",
    "\n",
    "    return words_count"
   ]
  },
  {
   "cell_type": "code",
   "execution_count": 82,
   "metadata": {
    "id": "96K5YG85tuNn"
   },
   "outputs": [],
   "source": [
    "def get_words_new(message, tokenizer = None):\n",
    "  if tokenizer:\n",
    "    doc = tokenizer(message)\n",
    "    return [i.text for i in doc]\n",
    "  else:\n",
    "    return message.lower().split(' ')"
   ]
  },
  {
   "cell_type": "code",
   "execution_count": 83,
   "metadata": {
    "id": "wM8t5OiSXKre"
   },
   "outputs": [],
   "source": [
    "def custom_transform(messages, word_dictionary, tokenizer = None):\n",
    "    words_arr = np.zeros((len(messages), len(word_dictionary)))\n",
    "    for i in range(words_arr.shape[0]):\n",
    "        message_words = get_words_new(messages[i], tokenizer)\n",
    "        message_indices = map(word_dictionary.get, message_words)\n",
    "        for j in message_indices:\n",
    "            if j is not None:\n",
    "                words_arr[i, j-1] += 1\n",
    "    return words_arr"
   ]
  },
  {
   "cell_type": "code",
   "execution_count": 84,
   "metadata": {
    "colab": {
     "base_uri": "https://localhost:8080/"
    },
    "id": "U9CoULyU8UZj",
    "outputId": "876054e9-0c27-4772-de90-3cbb6823f05b"
   },
   "outputs": [
    {
     "name": "stderr",
     "output_type": "stream",
     "text": [
      "100%|███████████████████████████████████████████████████████████████████████████| 25504/25504 [02:02<00:00, 208.15it/s]\n"
     ]
    },
    {
     "name": "stdout",
     "output_type": "stream",
     "text": [
      "Size of dictionary:  1829\n",
      "(25504, 1829)\n",
      "(25504, 1829)\n",
      "(25504, 1829)\n"
     ]
    }
   ],
   "source": [
    "tokenizer = spacy.load(\"en_core_web_sm\", disable=[\"tagger\", \"parser\", \"ner\", \"lemmatizer\"])\n",
    "overview_dictionary = create_dictionary_overview(\n",
    "    train_data['overview'], 75, tokenizer)\n",
    "print('Size of dictionary: ', len(overview_dictionary))\n",
    "\n",
    "train_overview_matrix = custom_transform(\n",
    "    train_data['overview'].astype(str).values, overview_dictionary)\n",
    "\n",
    "valid_overview_matrix = custom_transform(\n",
    "    train_data['overview'].astype(str).values, overview_dictionary)\n",
    "\n",
    "test_overview_matrix = custom_transform(\n",
    "    train_data['overview'].astype(str).values, overview_dictionary)\n",
    "\n",
    "# print(overview_dictionary)\n",
    "print(train_overview_matrix.shape)\n",
    "print(valid_overview_matrix.shape)\n",
    "print(test_overview_matrix.shape)\n"
   ]
  },
  {
   "cell_type": "code",
   "execution_count": 85,
   "metadata": {
    "colab": {
     "base_uri": "https://localhost:8080/"
    },
    "id": "xDQFgabmmMKW",
    "outputId": "f43583a9-f947-4e04-ca88-4100064fa878"
   },
   "outputs": [
    {
     "data": {
      "text/plain": [
       "array([[1., 0., 0., ..., 0., 0., 0.],\n",
       "       [0., 0., 1., ..., 0., 0., 0.],\n",
       "       [0., 0., 0., ..., 0., 0., 0.],\n",
       "       ...,\n",
       "       [0., 0., 0., ..., 0., 0., 0.],\n",
       "       [0., 0., 0., ..., 0., 0., 0.],\n",
       "       [0., 0., 0., ..., 0., 0., 0.]])"
      ]
     },
     "execution_count": 85,
     "metadata": {},
     "output_type": "execute_result"
    }
   ],
   "source": [
    "train_overview_matrix"
   ]
  },
  {
   "cell_type": "code",
   "execution_count": 86,
   "metadata": {
    "colab": {
     "base_uri": "https://localhost:8080/"
    },
    "id": "n5BEz3xLnnua",
    "outputId": "c7ddfadf-3cd7-4845-fc6b-2b30c3fada07"
   },
   "outputs": [
    {
     "data": {
      "text/plain": [
       "array([246., 710., 814., ...,  86.,  74.,  59.])"
      ]
     },
     "execution_count": 86,
     "metadata": {},
     "output_type": "execute_result"
    }
   ],
   "source": [
    "train_overview_matrix.sum(axis=0)"
   ]
  },
  {
   "cell_type": "code",
   "execution_count": 87,
   "metadata": {
    "colab": {
     "base_uri": "https://localhost:8080/"
    },
    "id": "Op0figipnt1j",
    "outputId": "195aa104-d31f-4a79-a064-e884ad2cc72f"
   },
   "outputs": [
    {
     "data": {
      "text/plain": [
       "array([ 1.,  8.,  5., ..., 11.,  7., 15.])"
      ]
     },
     "execution_count": 87,
     "metadata": {},
     "output_type": "execute_result"
    }
   ],
   "source": [
    "train_overview_matrix.sum(axis=1)"
   ]
  },
  {
   "cell_type": "code",
   "execution_count": 88,
   "metadata": {
    "colab": {
     "base_uri": "https://localhost:8080/"
    },
    "id": "K8gSvpXLWzK_",
    "outputId": "389f12cf-cf5d-4f39-9920-00f90a755090"
   },
   "outputs": [
    {
     "name": "stdout",
     "output_type": "stream",
     "text": [
      "{'break': 1, 'movie': 2, 'documentary': 3, 'struggle': 4, 'passionate': 5, 'english': 6, 'test': 7, 'unique': 8, 'flight': 9, 'jungle': 10, 'church': 11, 'england': 12, 'self': 13, 'community': 14, 'local': 15, 'becomes': 16, 'three': 17, 'life': 18, 'boat': 19, 'storm': 20, 'crew': 21, 'oil': 22, 'must': 23, 'survive': 24, 'creature': 25, 'hired': 26, 'tom': 27, 'try': 28, 'stop': 29, 'knowing': 30, 'secretary': 31, 'gang': 32, 'works': 33, 'undercover': 34, 'help': 35, 'bring': 36, 'enlists': 37, 'harry': 38, 'close': 39, 'look': 40, 'two': 41, 'legend': 42, 'even': 43, 'without': 44, 'winning': 45, 'super': 46, 'world': 47, 'series': 48, 'forever': 49, 'known': 50, 'cultural': 51, 'one': 52, 'famous': 53, 'time': 54, 'film': 55, 'tales': 56, 'seemingly': 57, 'impossible': 58, 'captured': 59, 'moment': 60, 'aliens': 61, 'planet': 62, 'land': 63, 'earth': 64, 'son': 65, 'main': 66, 'follows': 67, 'young': 68, 'man': 69, 'village': 70, 'sweet': 71, 'assistant': 72, 'driver': 73, 'older': 74, 'neighbor': 75, 'family': 76, 'takes': 77, 'care': 78, 'whose': 79, 'parents': 80, 'dead': 81, 'however': 82, 'become': 83, 'odds': 84, 'perform': 85, 'another': 86, 'happens': 87, 'named': 88, 'rather': 89, 'work': 90, 'decides': 91, 'accept': 92, 'offer': 93, 'finds': 94, 'city': 95, 'get': 96, 'deal': 97, 'large': 98, 'house': 99, 'agrees': 100, 'give': 101, 'second': 102, 'chance': 103, 'together': 104, 'live': 105, 'science': 106, 'way': 107, 'things': 108, 'god': 109, 'hilarious': 110, 'hit': 111, 'stand': 112, 'show': 113, 'following': 114, 'complete': 115, 'sell': 116, 'tour': 117, 'filmed': 118, 'london': 119, 'emotional': 120, 'story': 121, 'based': 122, 'see': 123, 'run': 124, 'home': 125, 'year': 126, 'award': 127, 'written': 128, 'mary': 129, 'generation': 130, 'school': 131, 'teacher': 132, 'british': 133, 'west': 134, 'road': 135, 'white': 136, 'actor': 137, 'cast': 138, 'robert': 139, 'jane': 140, 'south': 141, 'problem': 142, 'old': 143, 'boy': 144, 'made': 145, 'rebel': 146, 'mother': 147, 'last': 148, 'wishes': 149, 'send': 150, 'journey': 151, 'middle': 152, 'east': 153, 'search': 154, 'acclaimed': 155, 'play': 156, 'tells': 157, 'powerful': 158, 'moving': 159, 'tale': 160, 'deep': 161, 'never': 162, 'ending': 163, 'love': 164, 'day': 165, 'college': 166, 'think': 167, 'single': 168, 'thing': 169, 'really': 170, 'loves': 171, 'beautiful': 172, 'troubled': 173, 'woman': 174, 'small': 175, 'island': 176, 'town': 177, 'begins': 178, 'fall': 179, 'threatens': 180, 'apart': 181, 'uncovers': 182, 'dark': 183, 'past': 184, 'girl': 185, 'martin': 186, 'comes': 187, 'pregnant': 188, 'asks': 189, 'next': 190, 'door': 191, 'getting': 192, 'obsessed': 193, 'behavior': 194, 'forces': 195, 'place': 196, 'little': 197, 'brother': 198, 'aunt': 199, 'father': 200, 'finally': 201, 'take': 202, 'actions': 203, 'order': 204, 'king': 205, 'trio': 206, 'start': 207, 'pair': 208, 'well': 209, 'meaning': 210, 'brothers': 211, 'find': 212, 'perfect': 213, 'provide': 214, 'dying': 215, 'aspiring': 216, 'writer': 217, 'left': 218, 'four': 219, 'men': 220, 'seek': 221, 'revenge': 222, 'aging': 223, 'street': 224, 'change': 225, 'art': 226, 'true': 227, 'wife': 228, 'years': 229, 'ago': 230, 'died': 231, 'age': 232, 'male': 233, 'learn': 234, 'rare': 235, 'newly': 236, 'police': 237, 'deals': 238, 'corruption': 239, 'romance': 240, 'champion': 241, 'train': 242, 'officers': 243, 'agents': 244, 'killed': 245, 'using': 246, 'martial': 247, 'arts': 248, 'us': 249, 'explores': 250, 'spirit': 251, 'leave': 252, 'move': 253, 'america': 254, 'build': 255, 'new': 256, 'lives': 257, 'remain': 258, 'deeply': 259, 'committed': 260, 'helping': 261, 'friends': 262, 'behind': 263, 'singer': 264, 'goes': 265, 'performance': 266, 'meet': 267, 'best': 268, 'michael': 269, 'good': 270, 'party': 271, 'still': 272, 'act': 273, 'chase': 274, 'wrong': 275, 'women': 276, 'remarkable': 277, 'record': 278, 'causing': 279, 'chaos': 280, 'every': 281, 'wedding': 282, 'younger': 283, 'married': 284, 'everything': 285, 'kid': 286, 'used': 287, 'big': 288, 'boys': 289, 'guys': 290, 'real': 291, 'someone': 292, 'hard': 293, 'date': 294, 'captain': 295, 'peter': 296, 'thrown': 297, 'service': 298, 'due': 299, 'violence': 300, 'soon': 301, 'people': 302, 'group': 303, 'hold': 304, 'several': 305, 'hostage': 306, 'front': 307, 'terrorist': 308, 'enough': 309, 'international': 310, 'incident': 311, 'russian': 312, 'underground': 313, 'sex': 314, 'trade': 315, 'avenge': 316, 'death': 317, 'sister': 318, 'contemporary': 319, 'york': 320, 'falls': 321, 'music': 322, 'comic': 323, 'state': 324, 'returned': 325, 'hometown': 326, 'subject': 327, 'ex': 328, 'cop': 329, 'turned': 330, 'violent': 331, 'crime': 332, 'lord': 333, 'edge': 334, 'sheriff': 335, 'instead': 336, 'giant': 337, 'trapped': 338, 'since': 339, 'times': 340, 'first': 341, 'attacks': 342, 'military': 343, 'makes': 344, 'washington': 345, 'kill': 346, 'thought': 347, 'safe': 348, 'go': 349, 'back': 350, 'beach': 351, 'appears': 352, 'found': 353, 'flying': 354, 'routine': 355, 'mission': 356, 'fighter': 357, 'pilot': 358, 'chris': 359, 'something': 360, 'gets': 361, 'shot': 362, 'enemy': 363, 'lines': 364, 'army': 365, 'led': 366, 'ruthless': 367, 'general': 368, 'running': 369, 'deadly': 370, 'trail': 371, 'officer': 372, 'risk': 373, 'career': 374, 'rescue': 375, 'save': 376, 'isolated': 377, 'woods': 378, 'novel': 379, 'surviving': 380, 'member': 381, 'stranded': 382, 'car': 383, 'breaks': 384, 'race': 385, 'meanwhile': 386, 'office': 387, 'receives': 388, 'escaped': 389, 'prison': 390, 'teenagers': 391, 'mysteriously': 392, 'killer': 393, 'grows': 394, 'thriller': 395, 'continues': 396, 'unravel': 397, 'sets': 398, 'pursuit': 399, 'dream': 400, 'person': 401, 'ever': 402, 'around': 403, 'alone': 404, 'marriage': 405, 'revealing': 406, 'loses': 407, 'partner': 408, 'frank': 409, 'long': 410, 'lover': 411, 'park': 412, 'puts': 413, 'knowledge': 414, 'battle': 415, 'win': 416, 'set': 417, 'classic': 418, 'adventures': 419, 'part': 420, 'student': 421, 'travels': 422, 'hidden': 423, 'adaptation': 424, 'battles': 425, 'along': 426, 'former': 427, 'queen': 428, 'brain': 429, 'forced': 430, 'watch': 431, 'destruction': 432, 'although': 433, 'original': 434, 'book': 435, 'path': 436, 'christmas': 437, 'eve': 438, 'kidnap': 439, 'prime': 440, 'daughter': 441, 'team': 442, 'sent': 443, 'building': 444, 'level': 445, 'meets': 446, 'die': 447, 'action': 448, 'directed': 449, 'free': 450, 'centers': 451, 'faced': 452, 'mountain': 453, 'say': 454, 'least': 455, 'maria': 456, 'lost': 457, 'job': 458, 'lands': 459, 'resort': 460, 'traveling': 461, 'scott': 462, 'black': 463, 'future': 464, 'warrior': 465, 'band': 466, 'couple': 467, 'decide': 468, 'baby': 469, 'name': 470, 'nearly': 471, 'target': 472, 'pursue': 473, 'acting': 474, 'clerk': 475, 'waiting': 476, 'dreams': 477, 'remains': 478, 'convinced': 479, 'feeling': 480, 'like': 481, 'version': 482, 'far': 483, 'factory': 484, 'worker': 485, 'stands': 486, 'strike': 487, 'african': 488, 'american': 489, 'detective': 490, 'asked': 491, 'investigate': 492, 'murder': 493, 'southern': 494, 'quiet': 495, 'north': 496, 'farm': 497, 'nightmare': 498, 'teenage': 499, 'terrifying': 500, 'supernatural': 501, 'late': 502, 'veteran': 503, 'fellow': 504, 'prove': 505, 'case': 506, 'short': 507, 'brilliant': 508, 'country': 509, 'turning': 510, 'media': 511, 'events': 512, 'tries': 513, 'convince': 514, 'gay': 515, 'growing': 516, 'conflict': 517, 'filmmaker': 518, 'comedian': 519, 'smith': 520, 'returns': 521, 'special': 522, 'audience': 523, 'joined': 524, 'notorious': 525, 'hour': 526, 'filled': 527, 'australian': 528, 'children': 529, 'television': 530, 'french': 531, 'fired': 532, 'suddenly': 533, 'restaurant': 534, 'handsome': 535, 'fire': 536, 'friend': 537, 'danny': 538, 'five': 539, 'success': 540, 'ten': 541, 'dad': 542, 'playing': 543, 'compete': 544, 'competition': 545, 'drive': 546, 'overview': 547, 'crash': 548, 'criminal': 549, 'patient': 550, 'mental': 551, 'seems': 552, 'accused': 553, 'husband': 554, 'memory': 555, 'co': 556, 'workers': 557, 'innocence': 558, 'uses': 559, 'convinces': 560, 'everyone': 561, 'access': 562, 'complex': 563, 'view': 564, 'landscape': 565, 'opportunity': 566, 'war': 567, 'joins': 568, 'company': 569, 'unit': 570, 'fights': 571, 'across': 572, 'africa': 573, 'ii': 574, 'know': 575, 'soldiers': 576, 'much': 577, 'human': 578, 'interest': 579, 'material': 580, 'states': 581, 'suburban': 582, 'mom': 583, 'head': 584, 'remember': 585, 'parts': 586, 'top': 587, 'secret': 588, 'agent': 589, 'brutal': 590, 'red': 591, 'light': 592, 'district': 593, 'hides': 594, 'double': 595, 'prostitute': 596, 'may': 597, 'kids': 598, 'rural': 599, 'lessons': 600, 'wo': 601, 'backdrop': 602, 'japan': 603, 'lieutenant': 604, 'spy': 605, 'training': 606, 'facing': 607, 'follow': 608, 'faces': 609, 'documents': 610, 'gain': 611, 'possession': 612, 'ensues': 613, 'mysterious': 614, 'agency': 615, 'soviet': 616, 'bond': 617, 'leader': 618, 'different': 619, 'attempt': 620, 'plans': 621, 'dangerous': 622, 'recover': 623, 'professor': 624, 'realizes': 625, 'shocking': 626, 'discovery': 627, 'within': 628, 'cat': 629, 'eye': 630, 'silent': 631, 'longer': 632, 'sound': 633, 'period': 634, 'months': 635, 'gives': 636, 'birth': 637, 'grow': 638, 'happen': 639, 'onto': 640, 'fast': 641, 'food': 642, 'selling': 643, 'owner': 644, 'turn': 645, 'making': 646, 'girlfriend': 647, 'arrives': 648, 'early': 649, 'vacation': 650, 'italian': 651, 'given': 652, 'decided': 653, 'marry': 654, 'business': 655, 'secretly': 656, 'hotel': 657, 'away': 658, 'current': 659, 'guests': 660, 'girls': 661, 'experiment': 662, 'dating': 663, 'third': 664, 'mean': 665, 'spirited': 666, 'grandmother': 667, 'working': 668, 'discovers': 669, 'truth': 670, 'driven': 671, 'animal': 672, 'struggles': 673, 'embarks': 674, 'memories': 675, 'wealthy': 676, 'affair': 677, 'discover': 678, 'taking': 679, 'divorce': 680, 'already': 681, 'union': 682, 'joe': 683, 'chief': 684, 'fight': 685, 'power': 686, 'justice': 687, 'rights': 688, 'need': 689, 'line': 690, 'los': 691, 'angeles': 692, 'high': 693, 'money': 694, 'finding': 695, 'bad': 696, 'luck': 697, 'manages': 698, 'keep': 699, 'going': 700, 'leads': 701, 'matters': 702, 'heart': 703, 'spanish': 704, 'celebrate': 705, 'poor': 706, 'night': 707, 'also': 708, 'include': 709, 'public': 710, 'pay': 711, 'bill': 712, 'else': 713, 'lose': 714, 'de': 715, 'la': 716, 'nazi': 717, 'invasion': 718, 'global': 719, 'examines': 720, 'water': 721, 'crisis': 722, 'politics': 723, 'important': 724, 'call': 725, 'arms': 726, 'natural': 727, 'beloved': 728, 'hiding': 729, 'john': 730, 'hunting': 731, 'serial': 732, 'expose': 733, 'form': 734, 'upside': 735, 'richard': 736, 'murders': 737, 'murdered': 738, 'number': 739, 'leaving': 740, 'physical': 741, 'evidence': 742, 'charles': 743, 'released': 744, 'defend': 745, 'ends': 746, 'spending': 747, 'jail': 748, 'william': 749, 'living': 750, 'paris': 751, 'abandoned': 752, 'vows': 753, 'full': 754, 'happiness': 755, 'successful': 756, 'present': 757, 'daughters': 758, 'rose': 759, 'nothing': 760, 'recent': 761, 'german': 762, 'mob': 763, 'among': 764, 'others': 765, 'became': 766, 'recently': 767, 'germany': 768, 'characters': 769, 'expedition': 770, 'experience': 771, 'adventure': 772, 'novelist': 773, 'bruce': 774, 'massive': 775, 'unknown': 776, 'broken': 777, 'relationship': 778, 'slowly': 779, 'writing': 780, 'romantic': 781, 'fantasy': 782, 'honest': 783, 'journalist': 784, 'plane': 785, 'begin': 786, 'come': 787, 'planned': 788, 'reveal': 789, 'identity': 790, 'telling': 791, 'alive': 792, 'looks': 793, 'executive': 794, 'producer': 795, 'james': 796, 'interviews': 797, 'feelings': 798, 'soldier': 799, 'wakes': 800, 'decades': 801, 'nine': 802, 'adult': 803, 'spent': 804, 'strong': 805, 'ideas': 806, 'learning': 807, 'rules': 808, 'revolution': 809, 'farmer': 810, 'fiancã': 811, 'fighting': 812, 'china': 813, 'make': 814, 'possible': 815, 'attractive': 816, 'plays': 817, 'half': 818, 'sudden': 819, 'appearance': 820, 'able': 821, 'fortune': 822, 'mad': 823, 'scientist': 824, 'kidnaps': 825, 'use': 826, 'intelligence': 827, 'monster': 828, 'david': 829, 'films': 830, 'reason': 831, 'weeks': 832, 'role': 833, 'encounter': 834, 'camera': 835, 'knows': 836, 'unexpected': 837, 'history': 838, 'scene': 839, 'loving': 840, 'respect': 841, 'united': 842, 'wake': 843, 'immediately': 844, 'calls': 845, 'hospital': 846, 'doctor': 847, 'accident': 848, 'lady': 849, 'wants': 850, 'society': 851, 'helped': 852, 'invites': 853, 'birthday': 854, 'thinks': 855, 'jealous': 856, 'prevent': 857, 'leaves': 858, 'theatre': 859, 'upon': 860, 'amp': 861, 'fresh': 862, 'yet': 863, 'days': 864, 'freedom': 865, 'gone': 866, 'fun': 867, 'would': 868, 'cross': 869, 'corrupt': 870, 'motion': 871, 'friendship': 872, 'sisters': 873, 'end': 874, 'nightclub': 875, 'face': 876, 'bloody': 877, 'comedy': 878, 'develops': 879, 'thief': 880, 'opposite': 881, 'lovers': 882, 'influence': 883, 'director': 884, 'urban': 885, 'screen': 886, 'star': 887, 'popular': 888, 'capture': 889, 'russia': 890, 'closer': 891, 'spends': 892, 'gradually': 893, 'cover': 894, 'arrive': 895, 'courage': 896, 'obsession': 897, 'stars': 898, 'royal': 899, 'production': 900, 'great': 901, 'modern': 902, 'funny': 903, 'dancer': 904, 'disappears': 905, 'theater': 906, 'beauty': 907, 'solve': 908, 'attempts': 909, 'near': 910, 'ice': 911, 'conspiracy': 912, 'epic': 913, 'ready': 914, 'serious': 915, 'indian': 916, 'horror': 917, 'right': 918, 'involved': 919, 'trial': 920, 'fbi': 921, 'seem': 922, 'turns': 923, 'common': 924, 'point': 925, 'sinister': 926, 'nick': 927, 'van': 928, 'rich': 929, 'naive': 930, 'mark': 931, 'low': 932, 'price': 933, 'post': 934, 'assassin': 935, 'sarah': 936, 'lead': 937, 'century': 938, 'resistance': 939, 'movement': 940, 'killing': 941, 'machine': 942, 'survivor': 943, 'station': 944, 'plot': 945, 'vengeance': 946, 'means': 947, 'louis': 948, 'runs': 949, 'room': 950, 'official': 951, 'information': 952, 'task': 953, 'bob': 954, 'mexico': 955, 'join': 956, 'gold': 957, 'central': 958, 'eventually': 959, 'especially': 960, 'threaten': 961, 'disaster': 962, 'contact': 963, 'called': 964, 'mind': 965, 'control': 966, 'normal': 967, 'immigrant': 968, 'body': 969, 'insane': 970, 'event': 971, 'evening': 972, 'deaths': 973, 'grown': 974, 'talking': 975, 'helps': 976, 'song': 977, 'broadway': 978, 'gangster': 979, 'lifestyle': 980, 'campaign': 981, 'sees': 982, 'support': 983, 'club': 984, 'major': 985, 'odd': 986, 'tv': 987, 'photographer': 988, 'picture': 989, 'government': 990, 'ordered': 991, 'professional': 992, 'hunter': 993, 'personal': 994, 'concert': 995, 'including': 996, 'national': 997, 'want': 998, 'ca': 999, 'board': 1000, 'greatest': 1001, 'india': 1002, 'students': 1003, 'university': 1004, 'drama': 1005, 'class': 1006, 'poet': 1007, 'innocent': 1008, 'depression': 1009, 'era': 1010, 'judge': 1011, 'problems': 1012, 'independent': 1013, 'starring': 1014, 'jerry': 1015, 'movies': 1016, 'angry': 1017, 'features': 1018, 'max': 1019, 'anne': 1020, 'ben': 1021, 'actress': 1022, 'fictional': 1023, 'whether': 1024, 'produced': 1025, 'character': 1026, 'seeks': 1027, 'favorite': 1028, 'visit': 1029, 'fallen': 1030, 'boss': 1031, 'stolen': 1032, 'drinking': 1033, 'trying': 1034, 'mistress': 1035, 'hires': 1036, 'trouble': 1037, 'sides': 1038, 'final': 1039, 'jack': 1040, 'gambling': 1041, 'magical': 1042, 'evil': 1043, 'plan': 1044, 'entire': 1045, 'put': 1046, 'danger': 1047, 'quest': 1048, 'surface': 1049, 'mountains': 1050, 'murderer': 1051, 'loose': 1052, 'victims': 1053, 'humans': 1054, 'fact': 1055, 'missing': 1056, 'learns': 1057, 'killers': 1058, 'six': 1059, 'demons': 1060, 'desire': 1061, 'open': 1062, 'residents': 1063, 'return': 1064, 'space': 1065, 'air': 1066, 'force': 1067, 'project': 1068, 'scientists': 1069, 'stone': 1070, 'alcoholic': 1071, 'study': 1072, 'alien': 1073, 'presents': 1074, 'nuclear': 1075, 'escape': 1076, 'tony': 1077, 'attracted': 1078, 'engaged': 1079, 'result': 1080, 'tragedy': 1081, 'started': 1082, 'thousands': 1083, 'disturbing': 1084, 'catches': 1085, 'gun': 1086, 'flee': 1087, 'child': 1088, 'hong': 1089, 'kong': 1090, 'pass': 1091, 'maid': 1092, 'reunite': 1093, 'language': 1094, 'investigates': 1095, 'disappearance': 1096, 'punk': 1097, 'computer': 1098, 'investigation': 1099, 'uncover': 1100, 'beyond': 1101, 'anything': 1102, 'reporter': 1103, 'leading': 1104, 'changed': 1105, 'musician': 1106, 'kills': 1107, 'hits': 1108, 'biggest': 1109, 'genius': 1110, 'bomb': 1111, 'peace': 1112, 'account': 1113, 'rise': 1114, 'billy': 1115, 'funeral': 1116, 'bitter': 1117, 'fate': 1118, 'fame': 1119, 'lonely': 1120, 'unable': 1121, 'track': 1122, 'ancient': 1123, 'model': 1124, 'en': 1125, 'route': 1126, 'visiting': 1127, 'apartment': 1128, 'morning': 1129, 'charge': 1130, 'inspector': 1131, 'department': 1132, 'investigating': 1133, 'destroy': 1134, 'japanese': 1135, 'nearby': 1136, 'guy': 1137, 'might': 1138, 'chronicles': 1139, 'ambitious': 1140, 'mystery': 1141, 'shop': 1142, 'caught': 1143, 'though': 1144, 'efforts': 1145, 'willing': 1146, 'carry': 1147, 'pick': 1148, 'process': 1149, 'manage': 1150, 'families': 1151, 'challenge': 1152, 'certain': 1153, 'clean': 1154, 'tell': 1155, 'born': 1156, 'kidnapped': 1157, 'elite': 1158, 'cops': 1159, 'drugs': 1160, 'drug': 1161, 'ring': 1162, 'quickly': 1163, 'weapons': 1164, 'armed': 1165, 'winter': 1166, 'slave': 1167, 'law': 1168, 'ultimately': 1169, 'feels': 1170, 'president': 1171, 'position': 1172, 'either': 1173, 'side': 1174, 'determined': 1175, 'scheme': 1176, 'rome': 1177, 'prince': 1178, 'needs': 1179, 'bride': 1180, 'matter': 1181, 'keeps': 1182, 'ship': 1183, 'passengers': 1184, 'completely': 1185, 'explore': 1186, 'seen': 1187, 'created': 1188, 'spain': 1189, 'hall': 1190, 'staff': 1191, 'coach': 1192, 'style': 1193, 'often': 1194, 'results': 1195, 'jewish': 1196, 'enter': 1197, 'religious': 1198, 'buddy': 1199, 'piece': 1200, 'aid': 1201, 'brutally': 1202, 'began': 1203, 'straight': 1204, 'authorities': 1205, 'voice': 1206, 'social': 1207, 'today': 1208, 'appear': 1209, 'circumstances': 1210, 'george': 1211, 'marries': 1212, 'met': 1213, 'condition': 1214, 'spend': 1215, 'bear': 1216, 'encounters': 1217, 'wild': 1218, 'hollywood': 1219, 'walk': 1220, 'stories': 1221, 'challenges': 1222, 'attention': 1223, 'dramatic': 1224, 'pain': 1225, 'consequences': 1226, 'stranger': 1227, 'witnesses': 1228, 'mexican': 1229, 'let': 1230, 'claims': 1231, 'kind': 1232, 'lies': 1233, 'difficult': 1234, 'game': 1235, 'sequel': 1236, 'video': 1237, 'political': 1238, 'pressure': 1239, 'base': 1240, 'area': 1241, 'terror': 1242, 'went': 1243, 'cinema': 1244, 'later': 1245, 'places': 1246, 'passion': 1247, 'discovered': 1248, 'relationships': 1249, 'hope': 1250, 'europe': 1251, 'ocean': 1252, 'reach': 1253, 'many': 1254, 'ray': 1255, 'overcome': 1256, 'fears': 1257, 'western': 1258, 'intense': 1259, 'simple': 1260, 'includes': 1261, 'sam': 1262, 'henry': 1263, 'culture': 1264, 'embark': 1265, 'seven': 1266, 'accidentally': 1267, 'steal': 1268, 'animals': 1269, 'brings': 1270, 'camp': 1271, 'despite': 1272, 'uncle': 1273, 'cousin': 1274, 'web': 1275, 'realize': 1276, 'minister': 1277, 'suffering': 1278, 'communist': 1279, 'ghost': 1280, 'retirement': 1281, 'threat': 1282, 'sexual': 1283, 'stage': 1284, 'lot': 1285, 'salesman': 1286, 'tough': 1287, 'decision': 1288, 'grandfather': 1289, 'priest': 1290, 'hands': 1291, 'toward': 1292, 'bringing': 1293, 'green': 1294, 'treatment': 1295, 'fear': 1296, 'lovely': 1297, 'streets': 1298, 'played': 1299, 'moved': 1300, 'captures': 1301, 'intimate': 1302, 'portrait': 1303, 'hours': 1304, 'throughout': 1305, 'author': 1306, 'jeff': 1307, 'humor': 1308, 'packed': 1309, 'actors': 1310, 'california': 1311, 'attack': 1312, 'everyday': 1313, 'france': 1314, 'strange': 1315, 'bank': 1316, 'million': 1317, 'childhood': 1318, 'responsible': 1319, 'starts': 1320, 'hell': 1321, 'adopted': 1322, 'upper': 1323, 'traditional': 1324, 'starting': 1325, 'write': 1326, 'experiences': 1327, 'got': 1328, 'believes': 1329, 'thomas': 1330, 'inside': 1331, 'contest': 1332, 'americans': 1333, 'vampire': 1334, 'manager': 1335, 'destroyed': 1336, 'organization': 1337, 'female': 1338, 'holds': 1339, 'beginning': 1340, 'security': 1341, 'charming': 1342, 'insurance': 1343, 'remote': 1344, 'figure': 1345, 'hears': 1346, 'boyfriend': 1347, 'shows': 1348, 'couples': 1349, 'various': 1350, 'jim': 1351, 'daily': 1352, 'course': 1353, 'stumbles': 1354, 'buried': 1355, 'shown': 1356, 'members': 1357, 'suspects': 1358, 'valley': 1359, 'share': 1360, 'disease': 1361, 'fashion': 1362, 'shy': 1363, 'wish': 1364, 'moments': 1365, 'experimental': 1366, 'words': 1367, 'kingdom': 1368, 'princess': 1369, 'falling': 1370, 'attacked': 1371, 'thieves': 1372, 'highly': 1373, 'ask': 1374, 'jobs': 1375, 'cia': 1376, 'held': 1377, 'assigned': 1378, 'cold': 1379, 'wanted': 1380, 'towards': 1381, 'cut': 1382, 'torn': 1383, 'civil': 1384, 'population': 1385, 'failed': 1386, 'navy': 1387, 'humanity': 1388, 'protect': 1389, 'powers': 1390, 'huge': 1391, 'eyes': 1392, 'thus': 1393, 'giving': 1394, 'con': 1395, 'becoming': 1396, 'seeing': 1397, 'refuses': 1398, 'changes': 1399, 'develop': 1400, 'medical': 1401, 'told': 1402, 'pretty': 1403, 'alice': 1404, 'academy': 1405, 'estranged': 1406, 'sons': 1407, 'dies': 1408, 'stay': 1409, 'worst': 1410, 'step': 1411, 'heads': 1412, 'rest': 1413, 'oscar': 1414, 'followed': 1415, 'private': 1416, 'create': 1417, 'ultimate': 1418, 'teen': 1419, 'hand': 1420, 'league': 1421, 'sends': 1422, 'heroes': 1423, 'summer': 1424, 'dealer': 1425, 'psychiatrist': 1426, 'complicated': 1427, 'coming': 1428, 'chain': 1429, 'feature': 1430, 'length': 1431, 'system': 1432, 'desperately': 1433, 'loved': 1434, 'soul': 1435, 'passes': 1436, 'reality': 1437, 'border': 1438, 'illegal': 1439, 'questions': 1440, 'existence': 1441, 'footage': 1442, 'taken': 1443, 'secrets': 1444, 'widow': 1445, 'guard': 1446, 'crazy': 1447, 'idea': 1448, 'continue': 1449, 'dealing': 1450, 'desperate': 1451, 'creates': 1452, 'wall': 1453, 'market': 1454, 'financial': 1455, 'situation': 1456, 'travel': 1457, 'rule': 1458, 'score': 1459, 'underworld': 1460, 'ordinary': 1461, 'understand': 1462, 'hero': 1463, 'release': 1464, 'visits': 1465, 'week': 1466, 'estate': 1467, 'jimmy': 1468, 'jean': 1469, 'meeting': 1470, 'refuge': 1471, 'golden': 1472, 'serving': 1473, 'sea': 1474, 'suffers': 1475, 'northern': 1476, 'wwii': 1477, 'moves': 1478, 'survival': 1479, 'inspired': 1480, 'ride': 1481, 'triangle': 1482, 'weekend': 1483, 'always': 1484, 'less': 1485, 'sure': 1486, 'escapes': 1487, 'renowned': 1488, 'ill': 1489, 'research': 1490, 'rival': 1491, 'operation': 1492, 'enters': 1493, 'elderly': 1494, 'host': 1495, 'sexy': 1496, 'constantly': 1497, 'charlie': 1498, 'arrested': 1499, 'lawyer': 1500, 'key': 1501, 'witness': 1502, 'mafia': 1503, 'suspect': 1504, 'holiday': 1505, 'program': 1506, 'steals': 1507, 'non': 1508, 'neighborhood': 1509, 'store': 1510, 'buy': 1511, 'bus': 1512, 'steve': 1513, 'looking': 1514, 'skills': 1515, 'ground': 1516, 'confront': 1517, 'whole': 1518, 'senior': 1519, 'christian': 1520, 'retired': 1521, 'johnny': 1522, 'latest': 1523, 'desert': 1524, 'revealed': 1525, 'done': 1526, 'european': 1527, 'native': 1528, 'robbery': 1529, 'reveals': 1530, 'paths': 1531, 'expert': 1532, 'nature': 1533, 'could': 1534, 'ahead': 1535, 'earlier': 1536, 'drawn': 1537, 'mouse': 1538, 'orphan': 1539, 'keeping': 1540, 'locked': 1541, 'vicious': 1542, 'creatures': 1543, 'employee': 1544, 'believe': 1545, 'artist': 1546, 'commander': 1547, 'lee': 1548, 'clan': 1549, 'gangsters': 1550, 'breaking': 1551, 'inner': 1552, 'blood': 1553, 'destiny': 1554, 'better': 1555, 'easy': 1556, 'dog': 1557, 'debt': 1558, 'blind': 1559, 'devil': 1560, 'tokyo': 1561, 'teams': 1562, 'hot': 1563, 'feel': 1564, 'singing': 1565, 'songs': 1566, 'reluctant': 1567, 'assignment': 1568, 'magazine': 1569, 'peaceful': 1570, 'opens': 1571, 'prepare': 1572, 'talent': 1573, 'incredible': 1574, 'tiny': 1575, 'nurse': 1576, 'almost': 1577, 'surprise': 1578, 'took': 1579, 'anna': 1580, 'paul': 1581, 'prisoners': 1582, 'bar': 1583, 'focuses': 1584, 'headed': 1585, 'anyone': 1586, 'advice': 1587, 'twenty': 1588, 'filmmakers': 1589, 'brought': 1590, 'vietnam': 1591, 'tommy': 1592, 'jones': 1593, 'dance': 1594, 'featuring': 1595, 'miss': 1596, 'winner': 1597, 'cause': 1598, 'businessman': 1599, 'health': 1600, 'seeking': 1601, 'befriends': 1602, 'engineer': 1603, 'talk': 1604, 'master': 1605, 'fairy': 1606, 'trip': 1607, 'unfortunately': 1608, 'fails': 1609, 'interested': 1610, 'witch': 1611, 'happy': 1612, 'offers': 1613, 'prisoner': 1614, 'survivors': 1615, 'presence': 1616, 'hunt': 1617, 'psychological': 1618, 'tracks': 1619, 'duo': 1620, 'baron': 1621, 'alex': 1622, 'criminals': 1623, 'prize': 1624, 'returning': 1625, 'ball': 1626, 'safety': 1627, 'forest': 1628, 'radio': 1629, 'bit': 1630, 'haunted': 1631, 'forms': 1632, 'rock': 1633, 'sense': 1634, 'festival': 1635, 'convicted': 1636, 'commit': 1637, 'attorney': 1638, 'chicago': 1639, 'truly': 1640, 'hopes': 1641, 'extraordinary': 1642, 'thirty': 1643, 'hoping': 1644, 'threatened': 1645, 'reluctantly': 1646, 'gift': 1647, 'treasure': 1648, 'talented': 1649, 'blue': 1650, 'suicide': 1651, 'question': 1652, 'happened': 1653, 'debut': 1654, 'reasons': 1655, 'increasingly': 1656, 'knew': 1657, 'crush': 1658, 'unusual': 1659, 'defeat': 1660, 'coast': 1661, 'ways': 1662, 'cash': 1663, 'magic': 1664, 'circus': 1665, 'accepts': 1666, 'arrival': 1667, 'unlikely': 1668, 'goal': 1669, 'victim': 1670, 'sun': 1671, 'moon': 1672, 'came': 1673, 'terms': 1674, 'italy': 1675, 'animated': 1676, 'count': 1677, 'center': 1678, 'villagers': 1679, 'searching': 1680, 'letter': 1681, 'duty': 1682, 'choose': 1683, 'losing': 1684, 'claim': 1685, 'watching': 1686, 'mansion': 1687, 'twin': 1688, 'raise': 1689, 'ability': 1690, 'dragon': 1691, 'legendary': 1692, 'greek': 1693, 'curse': 1694, 'bizarre': 1695, 'berlin': 1696, 'anti': 1697, 'countryside': 1698, 'youth': 1699, 'clear': 1700, 'activities': 1701, 'effects': 1702, 'eccentric': 1703, 'miles': 1704, 'outside': 1705, 'artists': 1706, 'pop': 1707, 'hide': 1708, 'phone': 1709, 'castle': 1710, 'raised': 1711, 'strikes': 1712, 'mike': 1713, 'images': 1714, 'except': 1715, 'nation': 1716, 'orders': 1717, 'sight': 1718, 'driving': 1719, 'involving': 1720, 'empire': 1721, 'changing': 1722, 'policeman': 1723, 'vegas': 1724, 'crimes': 1725, 'player': 1726, 'pacific': 1727, 'faith': 1728, 'neighbors': 1729, 'causes': 1730, 'likes': 1731, 'actually': 1732, 'angel': 1733, 'fans': 1734, 'avoid': 1735, 'studio': 1736, 'fly': 1737, 'attraction': 1738, 'scenes': 1739, 'loss': 1740, 'worse': 1741, 'sadistic': 1742, 'terrible': 1743, 'trust': 1744, 'universe': 1745, 'title': 1746, 'sometimes': 1747, 'football': 1748, 'connection': 1749, 'rob': 1750, 'planning': 1751, 'heist': 1752, 'word': 1753, 'enemies': 1754, 'deceased': 1755, 'field': 1756, 'industry': 1757, 'horse': 1758, 'choice': 1759, 'teenager': 1760, 'quite': 1761, 'shoot': 1762, 'disappeared': 1763, 'river': 1764, 'wealth': 1765, 'chinese': 1766, 'effort': 1767, 'court': 1768, 'says': 1769, 'news': 1770, 'mixed': 1771, 'extreme': 1772, 'games': 1773, 'texas': 1774, 'bed': 1775, 'unexpectedly': 1776, 'san': 1777, 'allows': 1778, 'honor': 1779, 'musical': 1780, 'thinking': 1781, 'francisco': 1782, 'infamous': 1783, 'citizens': 1784, 'struggling': 1785, 'fiction': 1786, 'internet': 1787, 'stuck': 1788, 'perhaps': 1789, 'lake': 1790, 'irish': 1791, 'ghosts': 1792, 'eight': 1793, 'distant': 1794, 'proves': 1795, 'wait': 1796, 'wins': 1797, 'balance': 1798, 'aged': 1799, 'match': 1800, 'santa': 1801, 'rid': 1802, 'eddie': 1803, 'exactly': 1804, 'foreign': 1805, 'divorced': 1806, 'visions': 1807, 'foster': 1808, 'tried': 1809, 'technology': 1810, 'draws': 1811, 'settle': 1812, 'catch': 1813, 'entirely': 1814, 'tragic': 1815, 'lived': 1816, 'strangers': 1817, 'teens': 1818, 'shooting': 1819, 'caused': 1820, 'setting': 1821, 'property': 1822, 'happily': 1823, 'beat': 1824, 'manhattan': 1825, 'murderous': 1826, 'cult': 1827, 'grand': 1828, 'box': 1829}\n"
     ]
    }
   ],
   "source": [
    "print(overview_dictionary)"
   ]
  },
  {
   "cell_type": "code",
   "execution_count": 89,
   "metadata": {
    "colab": {
     "base_uri": "https://localhost:8080/"
    },
    "id": "6mLc6fF68UZi",
    "outputId": "f8565d62-65af-460e-dc46-366ce4421cf4"
   },
   "outputs": [
    {
     "data": {
      "text/plain": [
       "(25504, 1829)"
      ]
     },
     "execution_count": 89,
     "metadata": {},
     "output_type": "execute_result"
    }
   ],
   "source": [
    "train_overview_matrix.shape"
   ]
  },
  {
   "cell_type": "code",
   "execution_count": 90,
   "metadata": {
    "colab": {
     "base_uri": "https://localhost:8080/"
    },
    "id": "d_0Pjqmw8UZj",
    "outputId": "fa606b47-a6c0-4a19-e208-aa28c34a03ba"
   },
   "outputs": [
    {
     "name": "stderr",
     "output_type": "stream",
     "text": [
      "100%|██████████████████████████████████████████████████████████████████████████| 25504/25504 [00:17<00:00, 1434.59it/s]\n"
     ]
    },
    {
     "data": {
      "text/plain": [
       "382717.0"
      ]
     },
     "execution_count": 90,
     "metadata": {},
     "output_type": "execute_result"
    }
   ],
   "source": [
    "count = 0\n",
    "for i in tqdm(range(train_overview_matrix.shape[0])):\n",
    "    for j in range(train_overview_matrix.shape[1]):\n",
    "        count += train_overview_matrix[i,j]\n",
    "count"
   ]
  },
  {
   "cell_type": "code",
   "execution_count": 91,
   "metadata": {
    "colab": {
     "base_uri": "https://localhost:8080/"
    },
    "id": "oCqYz1zf8UZk",
    "outputId": "da7f93a5-c25e-49bd-815a-820b3b7058c4"
   },
   "outputs": [
    {
     "name": "stdout",
     "output_type": "stream",
     "text": [
      "break 1\n",
      "movie 2\n",
      "documentary 3\n",
      "struggle 4\n",
      "passionate 5\n",
      "english 6\n",
      "test 7\n",
      "unique 8\n",
      "flight 9\n",
      "jungle 10\n",
      "church 11\n",
      "england 12\n",
      "self 13\n",
      "community 14\n",
      "local 15\n",
      "becomes 16\n",
      "three 17\n",
      "life 18\n",
      "boat 19\n",
      "storm 20\n",
      "crew 21\n",
      "oil 22\n",
      "must 23\n",
      "survive 24\n",
      "creature 25\n",
      "hired 26\n",
      "tom 27\n",
      "try 28\n",
      "stop 29\n",
      "knowing 30\n",
      "secretary 31\n",
      "gang 32\n",
      "works 33\n",
      "undercover 34\n",
      "help 35\n",
      "bring 36\n",
      "enlists 37\n",
      "harry 38\n",
      "close 39\n",
      "look 40\n",
      "two 41\n",
      "legend 42\n",
      "even 43\n",
      "without 44\n",
      "winning 45\n",
      "super 46\n",
      "world 47\n",
      "series 48\n",
      "forever 49\n",
      "known 50\n",
      "cultural 51\n",
      "one 52\n",
      "famous 53\n",
      "time 54\n",
      "film 55\n",
      "tales 56\n",
      "seemingly 57\n",
      "impossible 58\n",
      "captured 59\n",
      "moment 60\n",
      "aliens 61\n",
      "planet 62\n",
      "land 63\n",
      "earth 64\n",
      "son 65\n",
      "main 66\n",
      "follows 67\n",
      "young 68\n",
      "man 69\n",
      "village 70\n",
      "sweet 71\n",
      "assistant 72\n",
      "driver 73\n",
      "older 74\n",
      "neighbor 75\n",
      "family 76\n",
      "takes 77\n",
      "care 78\n",
      "whose 79\n",
      "parents 80\n",
      "dead 81\n",
      "however 82\n",
      "become 83\n",
      "odds 84\n",
      "perform 85\n",
      "another 86\n",
      "happens 87\n",
      "named 88\n",
      "rather 89\n",
      "work 90\n",
      "decides 91\n",
      "accept 92\n",
      "offer 93\n",
      "finds 94\n",
      "city 95\n",
      "get 96\n",
      "deal 97\n",
      "large 98\n",
      "house 99\n",
      "agrees 100\n",
      "give 101\n",
      "second 102\n",
      "chance 103\n",
      "together 104\n",
      "live 105\n",
      "science 106\n",
      "way 107\n",
      "things 108\n",
      "god 109\n",
      "hilarious 110\n",
      "hit 111\n",
      "stand 112\n",
      "show 113\n",
      "following 114\n",
      "complete 115\n",
      "sell 116\n",
      "tour 117\n",
      "filmed 118\n",
      "london 119\n",
      "emotional 120\n",
      "story 121\n",
      "based 122\n",
      "see 123\n",
      "run 124\n",
      "home 125\n",
      "year 126\n",
      "award 127\n",
      "written 128\n",
      "mary 129\n",
      "generation 130\n",
      "school 131\n",
      "teacher 132\n",
      "british 133\n",
      "west 134\n",
      "road 135\n",
      "white 136\n",
      "actor 137\n",
      "cast 138\n",
      "robert 139\n",
      "jane 140\n",
      "south 141\n",
      "problem 142\n",
      "old 143\n",
      "boy 144\n",
      "made 145\n",
      "rebel 146\n",
      "mother 147\n",
      "last 148\n",
      "wishes 149\n",
      "send 150\n",
      "journey 151\n",
      "middle 152\n",
      "east 153\n",
      "search 154\n",
      "acclaimed 155\n",
      "play 156\n",
      "tells 157\n",
      "powerful 158\n",
      "moving 159\n",
      "tale 160\n",
      "deep 161\n",
      "never 162\n",
      "ending 163\n",
      "love 164\n",
      "day 165\n",
      "college 166\n",
      "think 167\n",
      "single 168\n",
      "thing 169\n",
      "really 170\n",
      "loves 171\n",
      "beautiful 172\n",
      "troubled 173\n",
      "woman 174\n",
      "small 175\n",
      "island 176\n",
      "town 177\n",
      "begins 178\n",
      "fall 179\n",
      "threatens 180\n",
      "apart 181\n",
      "uncovers 182\n",
      "dark 183\n",
      "past 184\n",
      "girl 185\n",
      "martin 186\n",
      "comes 187\n",
      "pregnant 188\n",
      "asks 189\n",
      "next 190\n",
      "door 191\n",
      "getting 192\n",
      "obsessed 193\n",
      "behavior 194\n",
      "forces 195\n",
      "place 196\n",
      "little 197\n",
      "brother 198\n",
      "aunt 199\n",
      "father 200\n",
      "finally 201\n",
      "take 202\n",
      "actions 203\n",
      "order 204\n",
      "king 205\n",
      "trio 206\n",
      "start 207\n",
      "pair 208\n",
      "well 209\n",
      "meaning 210\n",
      "brothers 211\n",
      "find 212\n",
      "perfect 213\n",
      "provide 214\n",
      "dying 215\n",
      "aspiring 216\n",
      "writer 217\n",
      "left 218\n",
      "four 219\n",
      "men 220\n",
      "seek 221\n",
      "revenge 222\n",
      "aging 223\n",
      "street 224\n",
      "change 225\n",
      "art 226\n",
      "true 227\n",
      "wife 228\n",
      "years 229\n",
      "ago 230\n",
      "died 231\n",
      "age 232\n",
      "male 233\n",
      "learn 234\n",
      "rare 235\n",
      "newly 236\n",
      "police 237\n",
      "deals 238\n",
      "corruption 239\n",
      "romance 240\n",
      "champion 241\n",
      "train 242\n",
      "officers 243\n",
      "agents 244\n",
      "killed 245\n",
      "using 246\n",
      "martial 247\n",
      "arts 248\n",
      "us 249\n",
      "explores 250\n",
      "spirit 251\n",
      "leave 252\n",
      "move 253\n",
      "america 254\n",
      "build 255\n",
      "new 256\n",
      "lives 257\n",
      "remain 258\n",
      "deeply 259\n",
      "committed 260\n",
      "helping 261\n",
      "friends 262\n",
      "behind 263\n",
      "singer 264\n",
      "goes 265\n",
      "performance 266\n",
      "meet 267\n",
      "best 268\n",
      "michael 269\n",
      "good 270\n",
      "party 271\n",
      "still 272\n",
      "act 273\n",
      "chase 274\n",
      "wrong 275\n",
      "women 276\n",
      "remarkable 277\n",
      "record 278\n",
      "causing 279\n",
      "chaos 280\n",
      "every 281\n",
      "wedding 282\n",
      "younger 283\n",
      "married 284\n",
      "everything 285\n",
      "kid 286\n",
      "used 287\n",
      "big 288\n",
      "boys 289\n",
      "guys 290\n",
      "real 291\n",
      "someone 292\n",
      "hard 293\n",
      "date 294\n",
      "captain 295\n",
      "peter 296\n",
      "thrown 297\n",
      "service 298\n",
      "due 299\n",
      "violence 300\n",
      "soon 301\n",
      "people 302\n",
      "group 303\n",
      "hold 304\n",
      "several 305\n",
      "hostage 306\n",
      "front 307\n",
      "terrorist 308\n",
      "enough 309\n",
      "international 310\n",
      "incident 311\n",
      "russian 312\n",
      "underground 313\n",
      "sex 314\n",
      "trade 315\n",
      "avenge 316\n",
      "death 317\n",
      "sister 318\n",
      "contemporary 319\n",
      "york 320\n",
      "falls 321\n",
      "music 322\n",
      "comic 323\n",
      "state 324\n",
      "returned 325\n",
      "hometown 326\n",
      "subject 327\n",
      "ex 328\n",
      "cop 329\n",
      "turned 330\n",
      "violent 331\n",
      "crime 332\n",
      "lord 333\n",
      "edge 334\n",
      "sheriff 335\n",
      "instead 336\n",
      "giant 337\n",
      "trapped 338\n",
      "since 339\n",
      "times 340\n",
      "first 341\n",
      "attacks 342\n",
      "military 343\n",
      "makes 344\n",
      "washington 345\n",
      "kill 346\n",
      "thought 347\n",
      "safe 348\n",
      "go 349\n",
      "back 350\n",
      "beach 351\n",
      "appears 352\n",
      "found 353\n",
      "flying 354\n",
      "routine 355\n",
      "mission 356\n",
      "fighter 357\n",
      "pilot 358\n",
      "chris 359\n",
      "something 360\n",
      "gets 361\n",
      "shot 362\n",
      "enemy 363\n",
      "lines 364\n",
      "army 365\n",
      "led 366\n",
      "ruthless 367\n",
      "general 368\n",
      "running 369\n",
      "deadly 370\n",
      "trail 371\n",
      "officer 372\n",
      "risk 373\n",
      "career 374\n",
      "rescue 375\n",
      "save 376\n",
      "isolated 377\n",
      "woods 378\n",
      "novel 379\n",
      "surviving 380\n",
      "member 381\n",
      "stranded 382\n",
      "car 383\n",
      "breaks 384\n",
      "race 385\n",
      "meanwhile 386\n",
      "office 387\n",
      "receives 388\n",
      "escaped 389\n",
      "prison 390\n",
      "teenagers 391\n",
      "mysteriously 392\n",
      "killer 393\n",
      "grows 394\n",
      "thriller 395\n",
      "continues 396\n",
      "unravel 397\n",
      "sets 398\n",
      "pursuit 399\n",
      "dream 400\n",
      "person 401\n",
      "ever 402\n",
      "around 403\n",
      "alone 404\n",
      "marriage 405\n",
      "revealing 406\n",
      "loses 407\n",
      "partner 408\n",
      "frank 409\n",
      "long 410\n",
      "lover 411\n",
      "park 412\n",
      "puts 413\n",
      "knowledge 414\n",
      "battle 415\n",
      "win 416\n",
      "set 417\n",
      "classic 418\n",
      "adventures 419\n",
      "part 420\n",
      "student 421\n",
      "travels 422\n",
      "hidden 423\n",
      "adaptation 424\n",
      "battles 425\n",
      "along 426\n",
      "former 427\n",
      "queen 428\n",
      "brain 429\n",
      "forced 430\n",
      "watch 431\n",
      "destruction 432\n",
      "although 433\n",
      "original 434\n",
      "book 435\n",
      "path 436\n",
      "christmas 437\n",
      "eve 438\n",
      "kidnap 439\n",
      "prime 440\n",
      "daughter 441\n",
      "team 442\n",
      "sent 443\n",
      "building 444\n",
      "level 445\n",
      "meets 446\n",
      "die 447\n",
      "action 448\n",
      "directed 449\n",
      "free 450\n",
      "centers 451\n",
      "faced 452\n",
      "mountain 453\n",
      "say 454\n",
      "least 455\n",
      "maria 456\n",
      "lost 457\n",
      "job 458\n",
      "lands 459\n",
      "resort 460\n",
      "traveling 461\n",
      "scott 462\n",
      "black 463\n",
      "future 464\n",
      "warrior 465\n",
      "band 466\n",
      "couple 467\n",
      "decide 468\n",
      "baby 469\n",
      "name 470\n",
      "nearly 471\n",
      "target 472\n",
      "pursue 473\n",
      "acting 474\n",
      "clerk 475\n",
      "waiting 476\n",
      "dreams 477\n",
      "remains 478\n",
      "convinced 479\n",
      "feeling 480\n",
      "like 481\n",
      "version 482\n",
      "far 483\n",
      "factory 484\n",
      "worker 485\n",
      "stands 486\n",
      "strike 487\n",
      "african 488\n",
      "american 489\n",
      "detective 490\n",
      "asked 491\n",
      "investigate 492\n",
      "murder 493\n",
      "southern 494\n",
      "quiet 495\n",
      "north 496\n",
      "farm 497\n",
      "nightmare 498\n",
      "teenage 499\n",
      "terrifying 500\n",
      "supernatural 501\n",
      "late 502\n",
      "veteran 503\n",
      "fellow 504\n",
      "prove 505\n",
      "case 506\n",
      "short 507\n",
      "brilliant 508\n",
      "country 509\n",
      "turning 510\n",
      "media 511\n",
      "events 512\n",
      "tries 513\n",
      "convince 514\n",
      "gay 515\n",
      "growing 516\n",
      "conflict 517\n",
      "filmmaker 518\n",
      "comedian 519\n",
      "smith 520\n",
      "returns 521\n",
      "special 522\n",
      "audience 523\n",
      "joined 524\n",
      "notorious 525\n",
      "hour 526\n",
      "filled 527\n",
      "australian 528\n",
      "children 529\n",
      "television 530\n",
      "french 531\n",
      "fired 532\n",
      "suddenly 533\n",
      "restaurant 534\n",
      "handsome 535\n",
      "fire 536\n",
      "friend 537\n",
      "danny 538\n",
      "five 539\n",
      "success 540\n",
      "ten 541\n",
      "dad 542\n",
      "playing 543\n",
      "compete 544\n",
      "competition 545\n",
      "drive 546\n",
      "overview 547\n",
      "crash 548\n",
      "criminal 549\n",
      "patient 550\n",
      "mental 551\n",
      "seems 552\n",
      "accused 553\n",
      "husband 554\n",
      "memory 555\n",
      "co 556\n",
      "workers 557\n",
      "innocence 558\n",
      "uses 559\n",
      "convinces 560\n",
      "everyone 561\n",
      "access 562\n",
      "complex 563\n",
      "view 564\n",
      "landscape 565\n",
      "opportunity 566\n",
      "war 567\n",
      "joins 568\n",
      "company 569\n",
      "unit 570\n",
      "fights 571\n",
      "across 572\n",
      "africa 573\n",
      "ii 574\n",
      "know 575\n",
      "soldiers 576\n",
      "much 577\n",
      "human 578\n",
      "interest 579\n",
      "material 580\n",
      "states 581\n",
      "suburban 582\n",
      "mom 583\n",
      "head 584\n",
      "remember 585\n",
      "parts 586\n",
      "top 587\n",
      "secret 588\n",
      "agent 589\n",
      "brutal 590\n",
      "red 591\n",
      "light 592\n",
      "district 593\n",
      "hides 594\n",
      "double 595\n",
      "prostitute 596\n",
      "may 597\n",
      "kids 598\n",
      "rural 599\n",
      "lessons 600\n",
      "wo 601\n",
      "backdrop 602\n",
      "japan 603\n",
      "lieutenant 604\n",
      "spy 605\n",
      "training 606\n",
      "facing 607\n",
      "follow 608\n",
      "faces 609\n",
      "documents 610\n",
      "gain 611\n",
      "possession 612\n",
      "ensues 613\n",
      "mysterious 614\n",
      "agency 615\n",
      "soviet 616\n",
      "bond 617\n",
      "leader 618\n",
      "different 619\n",
      "attempt 620\n",
      "plans 621\n",
      "dangerous 622\n",
      "recover 623\n",
      "professor 624\n",
      "realizes 625\n",
      "shocking 626\n",
      "discovery 627\n",
      "within 628\n",
      "cat 629\n",
      "eye 630\n",
      "silent 631\n",
      "longer 632\n",
      "sound 633\n",
      "period 634\n",
      "months 635\n",
      "gives 636\n",
      "birth 637\n",
      "grow 638\n",
      "happen 639\n",
      "onto 640\n",
      "fast 641\n",
      "food 642\n",
      "selling 643\n",
      "owner 644\n",
      "turn 645\n",
      "making 646\n",
      "girlfriend 647\n",
      "arrives 648\n",
      "early 649\n",
      "vacation 650\n",
      "italian 651\n",
      "given 652\n",
      "decided 653\n",
      "marry 654\n",
      "business 655\n",
      "secretly 656\n",
      "hotel 657\n",
      "away 658\n",
      "current 659\n",
      "guests 660\n",
      "girls 661\n",
      "experiment 662\n",
      "dating 663\n",
      "third 664\n",
      "mean 665\n",
      "spirited 666\n",
      "grandmother 667\n",
      "working 668\n",
      "discovers 669\n",
      "truth 670\n",
      "driven 671\n",
      "animal 672\n",
      "struggles 673\n",
      "embarks 674\n",
      "memories 675\n",
      "wealthy 676\n",
      "affair 677\n",
      "discover 678\n",
      "taking 679\n",
      "divorce 680\n",
      "already 681\n",
      "union 682\n",
      "joe 683\n",
      "chief 684\n",
      "fight 685\n",
      "power 686\n",
      "justice 687\n",
      "rights 688\n",
      "need 689\n",
      "line 690\n",
      "los 691\n",
      "angeles 692\n",
      "high 693\n",
      "money 694\n",
      "finding 695\n",
      "bad 696\n",
      "luck 697\n",
      "manages 698\n",
      "keep 699\n",
      "going 700\n",
      "leads 701\n",
      "matters 702\n",
      "heart 703\n",
      "spanish 704\n",
      "celebrate 705\n",
      "poor 706\n",
      "night 707\n",
      "also 708\n",
      "include 709\n",
      "public 710\n",
      "pay 711\n",
      "bill 712\n",
      "else 713\n",
      "lose 714\n",
      "de 715\n",
      "la 716\n",
      "nazi 717\n",
      "invasion 718\n",
      "global 719\n",
      "examines 720\n",
      "water 721\n",
      "crisis 722\n",
      "politics 723\n",
      "important 724\n",
      "call 725\n",
      "arms 726\n",
      "natural 727\n",
      "beloved 728\n",
      "hiding 729\n",
      "john 730\n",
      "hunting 731\n",
      "serial 732\n",
      "expose 733\n",
      "form 734\n",
      "upside 735\n",
      "richard 736\n",
      "murders 737\n",
      "murdered 738\n",
      "number 739\n",
      "leaving 740\n",
      "physical 741\n",
      "evidence 742\n",
      "charles 743\n",
      "released 744\n",
      "defend 745\n",
      "ends 746\n",
      "spending 747\n",
      "jail 748\n",
      "william 749\n",
      "living 750\n",
      "paris 751\n",
      "abandoned 752\n",
      "vows 753\n",
      "full 754\n",
      "happiness 755\n",
      "successful 756\n",
      "present 757\n",
      "daughters 758\n",
      "rose 759\n",
      "nothing 760\n",
      "recent 761\n",
      "german 762\n",
      "mob 763\n",
      "among 764\n",
      "others 765\n",
      "became 766\n",
      "recently 767\n",
      "germany 768\n",
      "characters 769\n",
      "expedition 770\n",
      "experience 771\n",
      "adventure 772\n",
      "novelist 773\n",
      "bruce 774\n",
      "massive 775\n",
      "unknown 776\n",
      "broken 777\n"
     ]
    },
    {
     "name": "stdout",
     "output_type": "stream",
     "text": [
      "relationship 778\n",
      "slowly 779\n",
      "writing 780\n",
      "romantic 781\n",
      "fantasy 782\n",
      "honest 783\n",
      "journalist 784\n",
      "plane 785\n",
      "begin 786\n",
      "come 787\n",
      "planned 788\n",
      "reveal 789\n",
      "identity 790\n",
      "telling 791\n",
      "alive 792\n",
      "looks 793\n",
      "executive 794\n",
      "producer 795\n",
      "james 796\n",
      "interviews 797\n",
      "feelings 798\n",
      "soldier 799\n",
      "wakes 800\n",
      "decades 801\n",
      "nine 802\n",
      "adult 803\n",
      "spent 804\n",
      "strong 805\n",
      "ideas 806\n",
      "learning 807\n",
      "rules 808\n",
      "revolution 809\n",
      "farmer 810\n",
      "fiancã 811\n",
      "fighting 812\n",
      "china 813\n",
      "make 814\n",
      "possible 815\n",
      "attractive 816\n",
      "plays 817\n",
      "half 818\n",
      "sudden 819\n",
      "appearance 820\n",
      "able 821\n",
      "fortune 822\n",
      "mad 823\n",
      "scientist 824\n",
      "kidnaps 825\n",
      "use 826\n",
      "intelligence 827\n",
      "monster 828\n",
      "david 829\n",
      "films 830\n",
      "reason 831\n",
      "weeks 832\n",
      "role 833\n",
      "encounter 834\n",
      "camera 835\n",
      "knows 836\n",
      "unexpected 837\n",
      "history 838\n",
      "scene 839\n",
      "loving 840\n",
      "respect 841\n",
      "united 842\n",
      "wake 843\n",
      "immediately 844\n",
      "calls 845\n",
      "hospital 846\n",
      "doctor 847\n",
      "accident 848\n",
      "lady 849\n",
      "wants 850\n",
      "society 851\n",
      "helped 852\n",
      "invites 853\n",
      "birthday 854\n",
      "thinks 855\n",
      "jealous 856\n",
      "prevent 857\n",
      "leaves 858\n",
      "theatre 859\n",
      "upon 860\n",
      "amp 861\n",
      "fresh 862\n",
      "yet 863\n",
      "days 864\n",
      "freedom 865\n",
      "gone 866\n",
      "fun 867\n",
      "would 868\n",
      "cross 869\n",
      "corrupt 870\n",
      "motion 871\n",
      "friendship 872\n",
      "sisters 873\n",
      "end 874\n",
      "nightclub 875\n",
      "face 876\n",
      "bloody 877\n",
      "comedy 878\n",
      "develops 879\n",
      "thief 880\n",
      "opposite 881\n",
      "lovers 882\n",
      "influence 883\n",
      "director 884\n",
      "urban 885\n",
      "screen 886\n",
      "star 887\n",
      "popular 888\n",
      "capture 889\n",
      "russia 890\n",
      "closer 891\n",
      "spends 892\n",
      "gradually 893\n",
      "cover 894\n",
      "arrive 895\n",
      "courage 896\n",
      "obsession 897\n",
      "stars 898\n",
      "royal 899\n",
      "production 900\n",
      "great 901\n",
      "modern 902\n",
      "funny 903\n",
      "dancer 904\n",
      "disappears 905\n",
      "theater 906\n",
      "beauty 907\n",
      "solve 908\n",
      "attempts 909\n",
      "near 910\n",
      "ice 911\n",
      "conspiracy 912\n",
      "epic 913\n",
      "ready 914\n",
      "serious 915\n",
      "indian 916\n",
      "horror 917\n",
      "right 918\n",
      "involved 919\n",
      "trial 920\n",
      "fbi 921\n",
      "seem 922\n",
      "turns 923\n",
      "common 924\n",
      "point 925\n",
      "sinister 926\n",
      "nick 927\n",
      "van 928\n",
      "rich 929\n",
      "naive 930\n",
      "mark 931\n",
      "low 932\n",
      "price 933\n",
      "post 934\n",
      "assassin 935\n",
      "sarah 936\n",
      "lead 937\n",
      "century 938\n",
      "resistance 939\n",
      "movement 940\n",
      "killing 941\n",
      "machine 942\n",
      "survivor 943\n",
      "station 944\n",
      "plot 945\n",
      "vengeance 946\n",
      "means 947\n",
      "louis 948\n",
      "runs 949\n",
      "room 950\n",
      "official 951\n",
      "information 952\n",
      "task 953\n",
      "bob 954\n",
      "mexico 955\n",
      "join 956\n",
      "gold 957\n",
      "central 958\n",
      "eventually 959\n",
      "especially 960\n",
      "threaten 961\n",
      "disaster 962\n",
      "contact 963\n",
      "called 964\n",
      "mind 965\n",
      "control 966\n",
      "normal 967\n",
      "immigrant 968\n",
      "body 969\n",
      "insane 970\n",
      "event 971\n",
      "evening 972\n",
      "deaths 973\n",
      "grown 974\n",
      "talking 975\n",
      "helps 976\n",
      "song 977\n",
      "broadway 978\n",
      "gangster 979\n",
      "lifestyle 980\n",
      "campaign 981\n",
      "sees 982\n",
      "support 983\n",
      "club 984\n",
      "major 985\n",
      "odd 986\n",
      "tv 987\n",
      "photographer 988\n",
      "picture 989\n",
      "government 990\n",
      "ordered 991\n",
      "professional 992\n",
      "hunter 993\n",
      "personal 994\n",
      "concert 995\n",
      "including 996\n",
      "national 997\n",
      "want 998\n",
      "ca 999\n",
      "board 1000\n",
      "greatest 1001\n",
      "india 1002\n",
      "students 1003\n",
      "university 1004\n",
      "drama 1005\n",
      "class 1006\n",
      "poet 1007\n",
      "innocent 1008\n",
      "depression 1009\n",
      "era 1010\n",
      "judge 1011\n",
      "problems 1012\n",
      "independent 1013\n",
      "starring 1014\n",
      "jerry 1015\n",
      "movies 1016\n",
      "angry 1017\n",
      "features 1018\n",
      "max 1019\n",
      "anne 1020\n",
      "ben 1021\n",
      "actress 1022\n",
      "fictional 1023\n",
      "whether 1024\n",
      "produced 1025\n",
      "character 1026\n",
      "seeks 1027\n",
      "favorite 1028\n",
      "visit 1029\n",
      "fallen 1030\n",
      "boss 1031\n",
      "stolen 1032\n",
      "drinking 1033\n",
      "trying 1034\n",
      "mistress 1035\n",
      "hires 1036\n",
      "trouble 1037\n",
      "sides 1038\n",
      "final 1039\n",
      "jack 1040\n",
      "gambling 1041\n",
      "magical 1042\n",
      "evil 1043\n",
      "plan 1044\n",
      "entire 1045\n",
      "put 1046\n",
      "danger 1047\n",
      "quest 1048\n",
      "surface 1049\n",
      "mountains 1050\n",
      "murderer 1051\n",
      "loose 1052\n",
      "victims 1053\n",
      "humans 1054\n",
      "fact 1055\n",
      "missing 1056\n",
      "learns 1057\n",
      "killers 1058\n",
      "six 1059\n",
      "demons 1060\n",
      "desire 1061\n",
      "open 1062\n",
      "residents 1063\n",
      "return 1064\n",
      "space 1065\n",
      "air 1066\n",
      "force 1067\n",
      "project 1068\n",
      "scientists 1069\n",
      "stone 1070\n",
      "alcoholic 1071\n",
      "study 1072\n",
      "alien 1073\n",
      "presents 1074\n",
      "nuclear 1075\n",
      "escape 1076\n",
      "tony 1077\n",
      "attracted 1078\n",
      "engaged 1079\n",
      "result 1080\n",
      "tragedy 1081\n",
      "started 1082\n",
      "thousands 1083\n",
      "disturbing 1084\n",
      "catches 1085\n",
      "gun 1086\n",
      "flee 1087\n",
      "child 1088\n",
      "hong 1089\n",
      "kong 1090\n",
      "pass 1091\n",
      "maid 1092\n",
      "reunite 1093\n",
      "language 1094\n",
      "investigates 1095\n",
      "disappearance 1096\n",
      "punk 1097\n",
      "computer 1098\n",
      "investigation 1099\n",
      "uncover 1100\n",
      "beyond 1101\n",
      "anything 1102\n",
      "reporter 1103\n",
      "leading 1104\n",
      "changed 1105\n",
      "musician 1106\n",
      "kills 1107\n",
      "hits 1108\n",
      "biggest 1109\n",
      "genius 1110\n",
      "bomb 1111\n",
      "peace 1112\n",
      "account 1113\n",
      "rise 1114\n",
      "billy 1115\n",
      "funeral 1116\n",
      "bitter 1117\n",
      "fate 1118\n",
      "fame 1119\n",
      "lonely 1120\n",
      "unable 1121\n",
      "track 1122\n",
      "ancient 1123\n",
      "model 1124\n",
      "en 1125\n",
      "route 1126\n",
      "visiting 1127\n",
      "apartment 1128\n",
      "morning 1129\n",
      "charge 1130\n",
      "inspector 1131\n",
      "department 1132\n",
      "investigating 1133\n",
      "destroy 1134\n",
      "japanese 1135\n",
      "nearby 1136\n",
      "guy 1137\n",
      "might 1138\n",
      "chronicles 1139\n",
      "ambitious 1140\n",
      "mystery 1141\n",
      "shop 1142\n",
      "caught 1143\n",
      "though 1144\n",
      "efforts 1145\n",
      "willing 1146\n",
      "carry 1147\n",
      "pick 1148\n",
      "process 1149\n",
      "manage 1150\n",
      "families 1151\n",
      "challenge 1152\n",
      "certain 1153\n",
      "clean 1154\n",
      "tell 1155\n",
      "born 1156\n",
      "kidnapped 1157\n",
      "elite 1158\n",
      "cops 1159\n",
      "drugs 1160\n",
      "drug 1161\n",
      "ring 1162\n",
      "quickly 1163\n",
      "weapons 1164\n",
      "armed 1165\n",
      "winter 1166\n",
      "slave 1167\n",
      "law 1168\n",
      "ultimately 1169\n",
      "feels 1170\n",
      "president 1171\n",
      "position 1172\n",
      "either 1173\n",
      "side 1174\n",
      "determined 1175\n",
      "scheme 1176\n",
      "rome 1177\n",
      "prince 1178\n",
      "needs 1179\n",
      "bride 1180\n",
      "matter 1181\n",
      "keeps 1182\n",
      "ship 1183\n",
      "passengers 1184\n",
      "completely 1185\n",
      "explore 1186\n",
      "seen 1187\n",
      "created 1188\n",
      "spain 1189\n",
      "hall 1190\n",
      "staff 1191\n",
      "coach 1192\n",
      "style 1193\n",
      "often 1194\n",
      "results 1195\n",
      "jewish 1196\n",
      "enter 1197\n",
      "religious 1198\n",
      "buddy 1199\n",
      "piece 1200\n",
      "aid 1201\n",
      "brutally 1202\n",
      "began 1203\n",
      "straight 1204\n",
      "authorities 1205\n",
      "voice 1206\n",
      "social 1207\n",
      "today 1208\n",
      "appear 1209\n",
      "circumstances 1210\n",
      "george 1211\n",
      "marries 1212\n",
      "met 1213\n",
      "condition 1214\n",
      "spend 1215\n",
      "bear 1216\n",
      "encounters 1217\n",
      "wild 1218\n",
      "hollywood 1219\n",
      "walk 1220\n",
      "stories 1221\n",
      "challenges 1222\n",
      "attention 1223\n",
      "dramatic 1224\n",
      "pain 1225\n",
      "consequences 1226\n",
      "stranger 1227\n",
      "witnesses 1228\n",
      "mexican 1229\n",
      "let 1230\n",
      "claims 1231\n",
      "kind 1232\n",
      "lies 1233\n",
      "difficult 1234\n",
      "game 1235\n",
      "sequel 1236\n",
      "video 1237\n",
      "political 1238\n",
      "pressure 1239\n",
      "base 1240\n",
      "area 1241\n",
      "terror 1242\n",
      "went 1243\n",
      "cinema 1244\n",
      "later 1245\n",
      "places 1246\n",
      "passion 1247\n",
      "discovered 1248\n",
      "relationships 1249\n",
      "hope 1250\n",
      "europe 1251\n",
      "ocean 1252\n",
      "reach 1253\n",
      "many 1254\n",
      "ray 1255\n",
      "overcome 1256\n",
      "fears 1257\n",
      "western 1258\n",
      "intense 1259\n",
      "simple 1260\n",
      "includes 1261\n",
      "sam 1262\n",
      "henry 1263\n",
      "culture 1264\n",
      "embark 1265\n",
      "seven 1266\n",
      "accidentally 1267\n",
      "steal 1268\n",
      "animals 1269\n",
      "brings 1270\n",
      "camp 1271\n",
      "despite 1272\n",
      "uncle 1273\n",
      "cousin 1274\n",
      "web 1275\n",
      "realize 1276\n",
      "minister 1277\n",
      "suffering 1278\n",
      "communist 1279\n",
      "ghost 1280\n",
      "retirement 1281\n",
      "threat 1282\n",
      "sexual 1283\n",
      "stage 1284\n",
      "lot 1285\n",
      "salesman 1286\n",
      "tough 1287\n",
      "decision 1288\n",
      "grandfather 1289\n",
      "priest 1290\n",
      "hands 1291\n",
      "toward 1292\n",
      "bringing 1293\n",
      "green 1294\n",
      "treatment 1295\n",
      "fear 1296\n",
      "lovely 1297\n",
      "streets 1298\n",
      "played 1299\n",
      "moved 1300\n",
      "captures 1301\n",
      "intimate 1302\n",
      "portrait 1303\n",
      "hours 1304\n",
      "throughout 1305\n",
      "author 1306\n",
      "jeff 1307\n",
      "humor 1308\n",
      "packed 1309\n",
      "actors 1310\n",
      "california 1311\n",
      "attack 1312\n",
      "everyday 1313\n",
      "france 1314\n",
      "strange 1315\n",
      "bank 1316\n",
      "million 1317\n",
      "childhood 1318\n",
      "responsible 1319\n",
      "starts 1320\n",
      "hell 1321\n",
      "adopted 1322\n",
      "upper 1323\n",
      "traditional 1324\n",
      "starting 1325\n",
      "write 1326\n",
      "experiences 1327\n",
      "got 1328\n",
      "believes 1329\n",
      "thomas 1330\n",
      "inside 1331\n",
      "contest 1332\n",
      "americans 1333\n",
      "vampire 1334\n",
      "manager 1335\n",
      "destroyed 1336\n",
      "organization 1337\n",
      "female 1338\n",
      "holds 1339\n",
      "beginning 1340\n",
      "security 1341\n",
      "charming 1342\n",
      "insurance 1343\n",
      "remote 1344\n",
      "figure 1345\n",
      "hears 1346\n",
      "boyfriend 1347\n",
      "shows 1348\n",
      "couples 1349\n",
      "various 1350\n",
      "jim 1351\n",
      "daily 1352\n",
      "course 1353\n",
      "stumbles 1354\n",
      "buried 1355\n",
      "shown 1356\n",
      "members 1357\n",
      "suspects 1358\n",
      "valley 1359\n",
      "share 1360\n",
      "disease 1361\n",
      "fashion 1362\n",
      "shy 1363\n",
      "wish 1364\n",
      "moments 1365\n",
      "experimental 1366\n",
      "words 1367\n",
      "kingdom 1368\n",
      "princess 1369\n",
      "falling 1370\n",
      "attacked 1371\n",
      "thieves 1372\n",
      "highly 1373\n",
      "ask 1374\n",
      "jobs 1375\n",
      "cia 1376\n",
      "held 1377\n",
      "assigned 1378\n",
      "cold 1379\n",
      "wanted 1380\n",
      "towards 1381\n",
      "cut 1382\n",
      "torn 1383\n",
      "civil 1384\n",
      "population 1385\n",
      "failed 1386\n",
      "navy 1387\n",
      "humanity 1388\n",
      "protect 1389\n",
      "powers 1390\n",
      "huge 1391\n",
      "eyes 1392\n",
      "thus 1393\n",
      "giving 1394\n",
      "con 1395\n",
      "becoming 1396\n",
      "seeing 1397\n",
      "refuses 1398\n",
      "changes 1399\n",
      "develop 1400\n",
      "medical 1401\n",
      "told 1402\n",
      "pretty 1403\n",
      "alice 1404\n",
      "academy 1405\n",
      "estranged 1406\n",
      "sons 1407\n",
      "dies 1408\n",
      "stay 1409\n",
      "worst 1410\n",
      "step 1411\n",
      "heads 1412\n",
      "rest 1413\n",
      "oscar 1414\n",
      "followed 1415\n",
      "private 1416\n",
      "create 1417\n",
      "ultimate 1418\n",
      "teen 1419\n",
      "hand 1420\n",
      "league 1421\n",
      "sends 1422\n",
      "heroes 1423\n",
      "summer 1424\n",
      "dealer 1425\n",
      "psychiatrist 1426\n",
      "complicated 1427\n",
      "coming 1428\n",
      "chain 1429\n",
      "feature 1430\n",
      "length 1431\n",
      "system 1432\n",
      "desperately 1433\n",
      "loved 1434\n",
      "soul 1435\n",
      "passes 1436\n",
      "reality 1437\n",
      "border 1438\n",
      "illegal 1439\n",
      "questions 1440\n",
      "existence 1441\n",
      "footage 1442\n",
      "taken 1443\n",
      "secrets 1444\n",
      "widow 1445\n",
      "guard 1446\n",
      "crazy 1447\n",
      "idea 1448\n",
      "continue 1449\n",
      "dealing 1450\n",
      "desperate 1451\n",
      "creates 1452\n",
      "wall 1453\n",
      "market 1454\n",
      "financial 1455\n",
      "situation 1456\n",
      "travel 1457\n",
      "rule 1458\n",
      "score 1459\n",
      "underworld 1460\n",
      "ordinary 1461\n",
      "understand 1462\n",
      "hero 1463\n",
      "release 1464\n",
      "visits 1465\n",
      "week 1466\n",
      "estate 1467\n",
      "jimmy 1468\n",
      "jean 1469\n",
      "meeting 1470\n",
      "refuge 1471\n",
      "golden 1472\n",
      "serving 1473\n",
      "sea 1474\n",
      "suffers 1475\n",
      "northern 1476\n",
      "wwii 1477\n",
      "moves 1478\n",
      "survival 1479\n",
      "inspired 1480\n",
      "ride 1481\n",
      "triangle 1482\n",
      "weekend 1483\n"
     ]
    },
    {
     "name": "stdout",
     "output_type": "stream",
     "text": [
      "always 1484\n",
      "less 1485\n",
      "sure 1486\n",
      "escapes 1487\n",
      "renowned 1488\n",
      "ill 1489\n",
      "research 1490\n",
      "rival 1491\n",
      "operation 1492\n",
      "enters 1493\n",
      "elderly 1494\n",
      "host 1495\n",
      "sexy 1496\n",
      "constantly 1497\n",
      "charlie 1498\n",
      "arrested 1499\n",
      "lawyer 1500\n",
      "key 1501\n",
      "witness 1502\n",
      "mafia 1503\n",
      "suspect 1504\n",
      "holiday 1505\n",
      "program 1506\n",
      "steals 1507\n",
      "non 1508\n",
      "neighborhood 1509\n",
      "store 1510\n",
      "buy 1511\n",
      "bus 1512\n",
      "steve 1513\n",
      "looking 1514\n",
      "skills 1515\n",
      "ground 1516\n",
      "confront 1517\n",
      "whole 1518\n",
      "senior 1519\n",
      "christian 1520\n",
      "retired 1521\n",
      "johnny 1522\n",
      "latest 1523\n",
      "desert 1524\n",
      "revealed 1525\n",
      "done 1526\n",
      "european 1527\n",
      "native 1528\n",
      "robbery 1529\n",
      "reveals 1530\n",
      "paths 1531\n",
      "expert 1532\n",
      "nature 1533\n",
      "could 1534\n",
      "ahead 1535\n",
      "earlier 1536\n",
      "drawn 1537\n",
      "mouse 1538\n",
      "orphan 1539\n",
      "keeping 1540\n",
      "locked 1541\n",
      "vicious 1542\n",
      "creatures 1543\n",
      "employee 1544\n",
      "believe 1545\n",
      "artist 1546\n",
      "commander 1547\n",
      "lee 1548\n",
      "clan 1549\n",
      "gangsters 1550\n",
      "breaking 1551\n",
      "inner 1552\n",
      "blood 1553\n",
      "destiny 1554\n",
      "better 1555\n",
      "easy 1556\n",
      "dog 1557\n",
      "debt 1558\n",
      "blind 1559\n",
      "devil 1560\n",
      "tokyo 1561\n",
      "teams 1562\n",
      "hot 1563\n",
      "feel 1564\n",
      "singing 1565\n",
      "songs 1566\n",
      "reluctant 1567\n",
      "assignment 1568\n",
      "magazine 1569\n",
      "peaceful 1570\n",
      "opens 1571\n",
      "prepare 1572\n",
      "talent 1573\n",
      "incredible 1574\n",
      "tiny 1575\n",
      "nurse 1576\n",
      "almost 1577\n",
      "surprise 1578\n",
      "took 1579\n",
      "anna 1580\n",
      "paul 1581\n",
      "prisoners 1582\n",
      "bar 1583\n",
      "focuses 1584\n",
      "headed 1585\n",
      "anyone 1586\n",
      "advice 1587\n",
      "twenty 1588\n",
      "filmmakers 1589\n",
      "brought 1590\n",
      "vietnam 1591\n",
      "tommy 1592\n",
      "jones 1593\n",
      "dance 1594\n",
      "featuring 1595\n",
      "miss 1596\n",
      "winner 1597\n",
      "cause 1598\n",
      "businessman 1599\n",
      "health 1600\n",
      "seeking 1601\n",
      "befriends 1602\n",
      "engineer 1603\n",
      "talk 1604\n",
      "master 1605\n",
      "fairy 1606\n",
      "trip 1607\n",
      "unfortunately 1608\n",
      "fails 1609\n",
      "interested 1610\n",
      "witch 1611\n",
      "happy 1612\n",
      "offers 1613\n",
      "prisoner 1614\n",
      "survivors 1615\n",
      "presence 1616\n",
      "hunt 1617\n",
      "psychological 1618\n",
      "tracks 1619\n",
      "duo 1620\n",
      "baron 1621\n",
      "alex 1622\n",
      "criminals 1623\n",
      "prize 1624\n",
      "returning 1625\n",
      "ball 1626\n",
      "safety 1627\n",
      "forest 1628\n",
      "radio 1629\n",
      "bit 1630\n",
      "haunted 1631\n",
      "forms 1632\n",
      "rock 1633\n",
      "sense 1634\n",
      "festival 1635\n",
      "convicted 1636\n",
      "commit 1637\n",
      "attorney 1638\n",
      "chicago 1639\n",
      "truly 1640\n",
      "hopes 1641\n",
      "extraordinary 1642\n",
      "thirty 1643\n",
      "hoping 1644\n",
      "threatened 1645\n",
      "reluctantly 1646\n",
      "gift 1647\n",
      "treasure 1648\n",
      "talented 1649\n",
      "blue 1650\n",
      "suicide 1651\n",
      "question 1652\n",
      "happened 1653\n",
      "debut 1654\n",
      "reasons 1655\n",
      "increasingly 1656\n",
      "knew 1657\n",
      "crush 1658\n",
      "unusual 1659\n",
      "defeat 1660\n",
      "coast 1661\n",
      "ways 1662\n",
      "cash 1663\n",
      "magic 1664\n",
      "circus 1665\n",
      "accepts 1666\n",
      "arrival 1667\n",
      "unlikely 1668\n",
      "goal 1669\n",
      "victim 1670\n",
      "sun 1671\n",
      "moon 1672\n",
      "came 1673\n",
      "terms 1674\n",
      "italy 1675\n",
      "animated 1676\n",
      "count 1677\n",
      "center 1678\n",
      "villagers 1679\n",
      "searching 1680\n",
      "letter 1681\n",
      "duty 1682\n",
      "choose 1683\n",
      "losing 1684\n",
      "claim 1685\n",
      "watching 1686\n",
      "mansion 1687\n",
      "twin 1688\n",
      "raise 1689\n",
      "ability 1690\n",
      "dragon 1691\n",
      "legendary 1692\n",
      "greek 1693\n",
      "curse 1694\n",
      "bizarre 1695\n",
      "berlin 1696\n",
      "anti 1697\n",
      "countryside 1698\n",
      "youth 1699\n",
      "clear 1700\n",
      "activities 1701\n",
      "effects 1702\n",
      "eccentric 1703\n",
      "miles 1704\n",
      "outside 1705\n",
      "artists 1706\n",
      "pop 1707\n",
      "hide 1708\n",
      "phone 1709\n",
      "castle 1710\n",
      "raised 1711\n",
      "strikes 1712\n",
      "mike 1713\n",
      "images 1714\n",
      "except 1715\n",
      "nation 1716\n",
      "orders 1717\n",
      "sight 1718\n",
      "driving 1719\n",
      "involving 1720\n",
      "empire 1721\n",
      "changing 1722\n",
      "policeman 1723\n",
      "vegas 1724\n",
      "crimes 1725\n",
      "player 1726\n",
      "pacific 1727\n",
      "faith 1728\n",
      "neighbors 1729\n",
      "causes 1730\n",
      "likes 1731\n",
      "actually 1732\n",
      "angel 1733\n",
      "fans 1734\n",
      "avoid 1735\n",
      "studio 1736\n",
      "fly 1737\n",
      "attraction 1738\n",
      "scenes 1739\n",
      "loss 1740\n",
      "worse 1741\n",
      "sadistic 1742\n",
      "terrible 1743\n",
      "trust 1744\n",
      "universe 1745\n",
      "title 1746\n",
      "sometimes 1747\n",
      "football 1748\n",
      "connection 1749\n",
      "rob 1750\n",
      "planning 1751\n",
      "heist 1752\n",
      "word 1753\n",
      "enemies 1754\n",
      "deceased 1755\n",
      "field 1756\n",
      "industry 1757\n",
      "horse 1758\n",
      "choice 1759\n",
      "teenager 1760\n",
      "quite 1761\n",
      "shoot 1762\n",
      "disappeared 1763\n",
      "river 1764\n",
      "wealth 1765\n",
      "chinese 1766\n",
      "effort 1767\n",
      "court 1768\n",
      "says 1769\n",
      "news 1770\n",
      "mixed 1771\n",
      "extreme 1772\n",
      "games 1773\n",
      "texas 1774\n",
      "bed 1775\n",
      "unexpectedly 1776\n",
      "san 1777\n",
      "allows 1778\n",
      "honor 1779\n",
      "musical 1780\n",
      "thinking 1781\n",
      "francisco 1782\n",
      "infamous 1783\n",
      "citizens 1784\n",
      "struggling 1785\n",
      "fiction 1786\n",
      "internet 1787\n",
      "stuck 1788\n",
      "perhaps 1789\n",
      "lake 1790\n",
      "irish 1791\n",
      "ghosts 1792\n",
      "eight 1793\n",
      "distant 1794\n",
      "proves 1795\n",
      "wait 1796\n",
      "wins 1797\n",
      "balance 1798\n",
      "aged 1799\n",
      "match 1800\n",
      "santa 1801\n",
      "rid 1802\n",
      "eddie 1803\n",
      "exactly 1804\n",
      "foreign 1805\n",
      "divorced 1806\n",
      "visions 1807\n",
      "foster 1808\n",
      "tried 1809\n",
      "technology 1810\n",
      "draws 1811\n",
      "settle 1812\n",
      "catch 1813\n",
      "entirely 1814\n",
      "tragic 1815\n",
      "lived 1816\n",
      "strangers 1817\n",
      "teens 1818\n",
      "shooting 1819\n",
      "caused 1820\n",
      "setting 1821\n",
      "property 1822\n",
      "happily 1823\n",
      "beat 1824\n",
      "manhattan 1825\n",
      "murderous 1826\n",
      "cult 1827\n",
      "grand 1828\n",
      "box 1829\n"
     ]
    }
   ],
   "source": [
    "for i in overview_dictionary:\n",
    "    print(i, overview_dictionary[i])"
   ]
  },
  {
   "cell_type": "code",
   "execution_count": 92,
   "metadata": {
    "colab": {
     "base_uri": "https://localhost:8080/"
    },
    "id": "t6ZfZaTdxADl",
    "outputId": "b487bc3e-5ddf-4417-815e-11302368d2c1"
   },
   "outputs": [
    {
     "data": {
      "text/plain": [
       "Index(['original_language', 'original_title', 'overview',\n",
       "       'production_companies', 'production_countries', 'runtime', 'cast',\n",
       "       'crew', 'keywords', 'IMDBscore', 'genre', 'num_faces', 'brightness',\n",
       "       'saturation', 'hue', 'brightness_sd', 'saturation_sd', 'hue_sd', 'blue',\n",
       "       'blue_sd', 'green', 'green_sd', 'red', 'red_sd', 'year', 'director',\n",
       "       'actors'],\n",
       "      dtype='object')"
      ]
     },
     "execution_count": 92,
     "metadata": {},
     "output_type": "execute_result"
    }
   ],
   "source": [
    "train_data.columns"
   ]
  },
  {
   "cell_type": "code",
   "execution_count": 93,
   "metadata": {
    "id": "KNQyQeH_2DXE"
   },
   "outputs": [],
   "source": [
    "#from wordcloud import WordCloud"
   ]
  },
  {
   "cell_type": "code",
   "execution_count": 94,
   "metadata": {
    "id": "T-nbcuzf1_U7"
   },
   "outputs": [],
   "source": [
    "#wordcloud = WordCloud()\n",
    "#wordcloud.generate_from_frequencies(frequencies=overview_dictionary)\n",
    "#plt.figure(figsize=(15,15))\n",
    "#plt.imshow(wordcloud)\n",
    "#plt.axis(\"off\")\n",
    "#plt.show()"
   ]
  },
  {
   "cell_type": "markdown",
   "metadata": {
    "id": "SZwTXIeS8UZk"
   },
   "source": [
    "# Encoding "
   ]
  },
  {
   "cell_type": "code",
   "execution_count": 95,
   "metadata": {
    "id": "YuRsnQyJ5Yt7"
   },
   "outputs": [],
   "source": [
    "train_data = pd.read_csv('train.csv')\n",
    "valid_data = pd.read_csv('valid.csv')\n",
    "test_data = pd.read_csv('test.csv')\n",
    "train_data = train_data.drop(columns = ['original_title','overview','production_companies','production_countries','cast','crew','keywords','genre','director', 'actors'])\n",
    "valid_data = valid_data.drop(columns = ['original_title','overview','production_companies','production_countries','cast','crew','keywords','genre','director', 'actors'])\n",
    "test_data = test_data.drop(columns = ['original_title','overview','production_companies','production_countries','cast','crew','keywords','genre','director', 'actors'])\n",
    "train_data = pd.concat([train_data,\n",
    "                        pd.DataFrame(train_genre_matrix, columns = genre_dictionary.keys()),\n",
    "                        pd.DataFrame(train_director_matrix, columns = director_dictionary.keys()), \n",
    "                        pd.DataFrame(train_actors_matrix, columns = actors_dictionary.keys()),\n",
    "                        pd.DataFrame(train_overview_matrix, columns = overview_dictionary.keys()),\n",
    "                        pd.DataFrame(train_production_companies_matrix, columns = production_companies_dictionary.keys()),\n",
    "                        pd.DataFrame(train_production_countries_matrix, columns = production_countries_dictionary.keys()),\n",
    "                        pd.DataFrame(train_keywords_matrix, columns=keywords_dictionary.keys()),\n",
    "                        pd.DataFrame(train_original_title_matrix, columns=original_title_dictionary.keys())],\n",
    "                        axis=1)\n",
    "\n",
    "valid_data = pd.concat([valid_data,\n",
    "                        pd.DataFrame(valid_genre_matrix, columns = genre_dictionary.keys()),\n",
    "                        pd.DataFrame(valid_director_matrix, columns = director_dictionary.keys()), \n",
    "                        pd.DataFrame(valid_actors_matrix, columns = actors_dictionary.keys() ),\n",
    "                        pd.DataFrame(valid_overview_matrix, columns = overview_dictionary.keys()),\n",
    "                        pd.DataFrame(valid_production_companies_matrix, columns = production_companies_dictionary.keys()),\n",
    "                        pd.DataFrame(valid_production_countries_matrix, columns = production_countries_dictionary.keys()),\n",
    "                        pd.DataFrame(train_keywords_matrix, columns=keywords_dictionary.keys()),\n",
    "                        pd.DataFrame(train_original_title_matrix, columns=original_title_dictionary.keys())],\n",
    "                        axis=1)\n",
    "\n",
    "test_data = pd.concat([test_data,\n",
    "                       pd.DataFrame(test_genre_matrix, columns = genre_dictionary.keys()),\n",
    "                       pd.DataFrame(test_director_matrix, columns = director_dictionary.keys()), \n",
    "                       pd.DataFrame(test_actors_matrix, columns = actors_dictionary.keys()),\n",
    "                       pd.DataFrame(test_overview_matrix, columns = overview_dictionary.keys()),\n",
    "                       pd.DataFrame(test_production_companies_matrix, columns = production_companies_dictionary.keys()),\n",
    "                       pd.DataFrame(test_production_countries_matrix, columns = production_countries_dictionary.keys()),\n",
    "                       pd.DataFrame(test_keywords_matrix, columns=keywords_dictionary.keys()),\n",
    "                       pd.DataFrame(train_original_title_matrix, columns=original_title_dictionary.keys())],\n",
    "                       axis=1)"
   ]
  },
  {
   "cell_type": "code",
   "execution_count": 96,
   "metadata": {
    "id": "FYEikUOB8UZm"
   },
   "outputs": [],
   "source": [
    "train_data.to_csv('train1.csv', index=False)\n",
    "valid_data.to_csv('valid1.csv', index=False)\n",
    "test_data.to_csv('test1.csv', index=False)\n"
   ]
  },
  {
   "cell_type": "code",
   "execution_count": 97,
   "metadata": {
    "id": "TQyPm8Ya8UZm"
   },
   "outputs": [],
   "source": [
    "train_data = pd.read_csv('train1.csv', low_memory=False)\n",
    "valid_data = pd.read_csv('valid1.csv', low_memory=False)\n",
    "test_data = pd.read_csv('test1.csv', low_memory=False)\n"
   ]
  },
  {
   "cell_type": "code",
   "execution_count": 98,
   "metadata": {
    "colab": {
     "base_uri": "https://localhost:8080/"
    },
    "id": "gfopLt5X8UZm",
    "outputId": "ecc95381-d9d8-41bd-a710-3a9f75098f2b"
   },
   "outputs": [
    {
     "data": {
      "text/plain": [
       "(25504, 3703)"
      ]
     },
     "execution_count": 98,
     "metadata": {},
     "output_type": "execute_result"
    }
   ],
   "source": [
    "train_data.shape"
   ]
  },
  {
   "cell_type": "code",
   "execution_count": 99,
   "metadata": {
    "colab": {
     "base_uri": "https://localhost:8080/",
     "height": 454
    },
    "id": "GN3Grvhc8UZn",
    "outputId": "ba4f3cdb-1976-4daf-b859-e39caf661a97"
   },
   "outputs": [
    {
     "data": {
      "text/html": [
       "<div>\n",
       "<style scoped>\n",
       "    .dataframe tbody tr th:only-of-type {\n",
       "        vertical-align: middle;\n",
       "    }\n",
       "\n",
       "    .dataframe tbody tr th {\n",
       "        vertical-align: top;\n",
       "    }\n",
       "\n",
       "    .dataframe thead th {\n",
       "        text-align: right;\n",
       "    }\n",
       "</style>\n",
       "<table border=\"1\" class=\"dataframe\">\n",
       "  <thead>\n",
       "    <tr style=\"text-align: right;\">\n",
       "      <th></th>\n",
       "      <th>original_language</th>\n",
       "      <th>runtime</th>\n",
       "      <th>IMDBscore</th>\n",
       "      <th>num_faces</th>\n",
       "      <th>brightness</th>\n",
       "      <th>saturation</th>\n",
       "      <th>hue</th>\n",
       "      <th>brightness_sd</th>\n",
       "      <th>saturation_sd</th>\n",
       "      <th>hue_sd</th>\n",
       "      <th>...</th>\n",
       "      <th>title-waiting</th>\n",
       "      <th>title-horror</th>\n",
       "      <th>title-top</th>\n",
       "      <th>title-hate</th>\n",
       "      <th>title-creature</th>\n",
       "      <th>title-east</th>\n",
       "      <th>title-chase</th>\n",
       "      <th>title-sword</th>\n",
       "      <th>title-guys</th>\n",
       "      <th>title-upon</th>\n",
       "    </tr>\n",
       "  </thead>\n",
       "  <tbody>\n",
       "    <tr>\n",
       "      <th>0</th>\n",
       "      <td>1</td>\n",
       "      <td>50.0</td>\n",
       "      <td>7.3</td>\n",
       "      <td>0.0</td>\n",
       "      <td>86.965554</td>\n",
       "      <td>133.458991</td>\n",
       "      <td>60.010889</td>\n",
       "      <td>68.997700</td>\n",
       "      <td>67.120196</td>\n",
       "      <td>39.691852</td>\n",
       "      <td>...</td>\n",
       "      <td>0.0</td>\n",
       "      <td>0.0</td>\n",
       "      <td>0.0</td>\n",
       "      <td>0.0</td>\n",
       "      <td>0.0</td>\n",
       "      <td>0.0</td>\n",
       "      <td>0.0</td>\n",
       "      <td>0.0</td>\n",
       "      <td>0.0</td>\n",
       "      <td>0.0</td>\n",
       "    </tr>\n",
       "    <tr>\n",
       "      <th>1</th>\n",
       "      <td>1</td>\n",
       "      <td>90.0</td>\n",
       "      <td>7.6</td>\n",
       "      <td>0.0</td>\n",
       "      <td>159.277435</td>\n",
       "      <td>118.263893</td>\n",
       "      <td>101.678983</td>\n",
       "      <td>65.143026</td>\n",
       "      <td>63.819778</td>\n",
       "      <td>11.220622</td>\n",
       "      <td>...</td>\n",
       "      <td>0.0</td>\n",
       "      <td>0.0</td>\n",
       "      <td>0.0</td>\n",
       "      <td>0.0</td>\n",
       "      <td>0.0</td>\n",
       "      <td>0.0</td>\n",
       "      <td>0.0</td>\n",
       "      <td>0.0</td>\n",
       "      <td>0.0</td>\n",
       "      <td>0.0</td>\n",
       "    </tr>\n",
       "    <tr>\n",
       "      <th>2</th>\n",
       "      <td>1</td>\n",
       "      <td>370.0</td>\n",
       "      <td>8.3</td>\n",
       "      <td>3.0</td>\n",
       "      <td>117.720535</td>\n",
       "      <td>85.334219</td>\n",
       "      <td>61.832754</td>\n",
       "      <td>93.715608</td>\n",
       "      <td>67.874564</td>\n",
       "      <td>55.332722</td>\n",
       "      <td>...</td>\n",
       "      <td>0.0</td>\n",
       "      <td>0.0</td>\n",
       "      <td>0.0</td>\n",
       "      <td>0.0</td>\n",
       "      <td>0.0</td>\n",
       "      <td>0.0</td>\n",
       "      <td>0.0</td>\n",
       "      <td>0.0</td>\n",
       "      <td>0.0</td>\n",
       "      <td>0.0</td>\n",
       "    </tr>\n",
       "    <tr>\n",
       "      <th>3</th>\n",
       "      <td>1</td>\n",
       "      <td>60.0</td>\n",
       "      <td>7.4</td>\n",
       "      <td>0.0</td>\n",
       "      <td>121.740963</td>\n",
       "      <td>147.557293</td>\n",
       "      <td>73.679161</td>\n",
       "      <td>73.055000</td>\n",
       "      <td>84.920026</td>\n",
       "      <td>43.301917</td>\n",
       "      <td>...</td>\n",
       "      <td>0.0</td>\n",
       "      <td>0.0</td>\n",
       "      <td>0.0</td>\n",
       "      <td>0.0</td>\n",
       "      <td>0.0</td>\n",
       "      <td>0.0</td>\n",
       "      <td>0.0</td>\n",
       "      <td>0.0</td>\n",
       "      <td>0.0</td>\n",
       "      <td>0.0</td>\n",
       "    </tr>\n",
       "    <tr>\n",
       "      <th>4</th>\n",
       "      <td>1</td>\n",
       "      <td>90.0</td>\n",
       "      <td>3.2</td>\n",
       "      <td>0.0</td>\n",
       "      <td>83.089548</td>\n",
       "      <td>140.830624</td>\n",
       "      <td>103.754824</td>\n",
       "      <td>83.137436</td>\n",
       "      <td>69.953130</td>\n",
       "      <td>23.330927</td>\n",
       "      <td>...</td>\n",
       "      <td>0.0</td>\n",
       "      <td>0.0</td>\n",
       "      <td>0.0</td>\n",
       "      <td>0.0</td>\n",
       "      <td>0.0</td>\n",
       "      <td>0.0</td>\n",
       "      <td>0.0</td>\n",
       "      <td>0.0</td>\n",
       "      <td>0.0</td>\n",
       "      <td>0.0</td>\n",
       "    </tr>\n",
       "    <tr>\n",
       "      <th>...</th>\n",
       "      <td>...</td>\n",
       "      <td>...</td>\n",
       "      <td>...</td>\n",
       "      <td>...</td>\n",
       "      <td>...</td>\n",
       "      <td>...</td>\n",
       "      <td>...</td>\n",
       "      <td>...</td>\n",
       "      <td>...</td>\n",
       "      <td>...</td>\n",
       "      <td>...</td>\n",
       "      <td>...</td>\n",
       "      <td>...</td>\n",
       "      <td>...</td>\n",
       "      <td>...</td>\n",
       "      <td>...</td>\n",
       "      <td>...</td>\n",
       "      <td>...</td>\n",
       "      <td>...</td>\n",
       "      <td>...</td>\n",
       "      <td>...</td>\n",
       "    </tr>\n",
       "    <tr>\n",
       "      <th>25499</th>\n",
       "      <td>1</td>\n",
       "      <td>82.0</td>\n",
       "      <td>7.3</td>\n",
       "      <td>0.0</td>\n",
       "      <td>115.496769</td>\n",
       "      <td>196.229119</td>\n",
       "      <td>33.224369</td>\n",
       "      <td>69.869915</td>\n",
       "      <td>71.313124</td>\n",
       "      <td>20.964907</td>\n",
       "      <td>...</td>\n",
       "      <td>0.0</td>\n",
       "      <td>0.0</td>\n",
       "      <td>0.0</td>\n",
       "      <td>0.0</td>\n",
       "      <td>0.0</td>\n",
       "      <td>0.0</td>\n",
       "      <td>0.0</td>\n",
       "      <td>0.0</td>\n",
       "      <td>0.0</td>\n",
       "      <td>0.0</td>\n",
       "    </tr>\n",
       "    <tr>\n",
       "      <th>25500</th>\n",
       "      <td>1</td>\n",
       "      <td>114.0</td>\n",
       "      <td>5.3</td>\n",
       "      <td>0.0</td>\n",
       "      <td>135.673674</td>\n",
       "      <td>141.183830</td>\n",
       "      <td>98.135285</td>\n",
       "      <td>58.118350</td>\n",
       "      <td>86.654702</td>\n",
       "      <td>18.875976</td>\n",
       "      <td>...</td>\n",
       "      <td>0.0</td>\n",
       "      <td>0.0</td>\n",
       "      <td>0.0</td>\n",
       "      <td>0.0</td>\n",
       "      <td>0.0</td>\n",
       "      <td>0.0</td>\n",
       "      <td>0.0</td>\n",
       "      <td>0.0</td>\n",
       "      <td>0.0</td>\n",
       "      <td>0.0</td>\n",
       "    </tr>\n",
       "    <tr>\n",
       "      <th>25501</th>\n",
       "      <td>1</td>\n",
       "      <td>90.0</td>\n",
       "      <td>3.3</td>\n",
       "      <td>0.0</td>\n",
       "      <td>46.297785</td>\n",
       "      <td>190.575700</td>\n",
       "      <td>15.638020</td>\n",
       "      <td>50.799090</td>\n",
       "      <td>70.888591</td>\n",
       "      <td>24.223098</td>\n",
       "      <td>...</td>\n",
       "      <td>0.0</td>\n",
       "      <td>0.0</td>\n",
       "      <td>0.0</td>\n",
       "      <td>0.0</td>\n",
       "      <td>0.0</td>\n",
       "      <td>0.0</td>\n",
       "      <td>0.0</td>\n",
       "      <td>0.0</td>\n",
       "      <td>0.0</td>\n",
       "      <td>0.0</td>\n",
       "    </tr>\n",
       "    <tr>\n",
       "      <th>25502</th>\n",
       "      <td>1</td>\n",
       "      <td>75.0</td>\n",
       "      <td>5.1</td>\n",
       "      <td>0.0</td>\n",
       "      <td>200.663313</td>\n",
       "      <td>50.165054</td>\n",
       "      <td>38.672357</td>\n",
       "      <td>64.911053</td>\n",
       "      <td>59.222383</td>\n",
       "      <td>38.540268</td>\n",
       "      <td>...</td>\n",
       "      <td>0.0</td>\n",
       "      <td>0.0</td>\n",
       "      <td>0.0</td>\n",
       "      <td>0.0</td>\n",
       "      <td>0.0</td>\n",
       "      <td>0.0</td>\n",
       "      <td>0.0</td>\n",
       "      <td>0.0</td>\n",
       "      <td>0.0</td>\n",
       "      <td>0.0</td>\n",
       "    </tr>\n",
       "    <tr>\n",
       "      <th>25503</th>\n",
       "      <td>1</td>\n",
       "      <td>119.0</td>\n",
       "      <td>6.7</td>\n",
       "      <td>0.0</td>\n",
       "      <td>131.221296</td>\n",
       "      <td>131.734228</td>\n",
       "      <td>109.037133</td>\n",
       "      <td>76.563263</td>\n",
       "      <td>75.598577</td>\n",
       "      <td>25.381948</td>\n",
       "      <td>...</td>\n",
       "      <td>0.0</td>\n",
       "      <td>0.0</td>\n",
       "      <td>0.0</td>\n",
       "      <td>0.0</td>\n",
       "      <td>0.0</td>\n",
       "      <td>0.0</td>\n",
       "      <td>0.0</td>\n",
       "      <td>0.0</td>\n",
       "      <td>0.0</td>\n",
       "      <td>0.0</td>\n",
       "    </tr>\n",
       "  </tbody>\n",
       "</table>\n",
       "<p>25504 rows × 3703 columns</p>\n",
       "</div>"
      ],
      "text/plain": [
       "       original_language  runtime  IMDBscore  num_faces  brightness  \\\n",
       "0                      1     50.0        7.3        0.0   86.965554   \n",
       "1                      1     90.0        7.6        0.0  159.277435   \n",
       "2                      1    370.0        8.3        3.0  117.720535   \n",
       "3                      1     60.0        7.4        0.0  121.740963   \n",
       "4                      1     90.0        3.2        0.0   83.089548   \n",
       "...                  ...      ...        ...        ...         ...   \n",
       "25499                  1     82.0        7.3        0.0  115.496769   \n",
       "25500                  1    114.0        5.3        0.0  135.673674   \n",
       "25501                  1     90.0        3.3        0.0   46.297785   \n",
       "25502                  1     75.0        5.1        0.0  200.663313   \n",
       "25503                  1    119.0        6.7        0.0  131.221296   \n",
       "\n",
       "       saturation         hue  brightness_sd  saturation_sd     hue_sd  ...  \\\n",
       "0      133.458991   60.010889      68.997700      67.120196  39.691852  ...   \n",
       "1      118.263893  101.678983      65.143026      63.819778  11.220622  ...   \n",
       "2       85.334219   61.832754      93.715608      67.874564  55.332722  ...   \n",
       "3      147.557293   73.679161      73.055000      84.920026  43.301917  ...   \n",
       "4      140.830624  103.754824      83.137436      69.953130  23.330927  ...   \n",
       "...           ...         ...            ...            ...        ...  ...   \n",
       "25499  196.229119   33.224369      69.869915      71.313124  20.964907  ...   \n",
       "25500  141.183830   98.135285      58.118350      86.654702  18.875976  ...   \n",
       "25501  190.575700   15.638020      50.799090      70.888591  24.223098  ...   \n",
       "25502   50.165054   38.672357      64.911053      59.222383  38.540268  ...   \n",
       "25503  131.734228  109.037133      76.563263      75.598577  25.381948  ...   \n",
       "\n",
       "       title-waiting  title-horror  title-top  title-hate  title-creature  \\\n",
       "0                0.0           0.0        0.0         0.0             0.0   \n",
       "1                0.0           0.0        0.0         0.0             0.0   \n",
       "2                0.0           0.0        0.0         0.0             0.0   \n",
       "3                0.0           0.0        0.0         0.0             0.0   \n",
       "4                0.0           0.0        0.0         0.0             0.0   \n",
       "...              ...           ...        ...         ...             ...   \n",
       "25499            0.0           0.0        0.0         0.0             0.0   \n",
       "25500            0.0           0.0        0.0         0.0             0.0   \n",
       "25501            0.0           0.0        0.0         0.0             0.0   \n",
       "25502            0.0           0.0        0.0         0.0             0.0   \n",
       "25503            0.0           0.0        0.0         0.0             0.0   \n",
       "\n",
       "       title-east  title-chase  title-sword  title-guys  title-upon  \n",
       "0             0.0          0.0          0.0         0.0         0.0  \n",
       "1             0.0          0.0          0.0         0.0         0.0  \n",
       "2             0.0          0.0          0.0         0.0         0.0  \n",
       "3             0.0          0.0          0.0         0.0         0.0  \n",
       "4             0.0          0.0          0.0         0.0         0.0  \n",
       "...           ...          ...          ...         ...         ...  \n",
       "25499         0.0          0.0          0.0         0.0         0.0  \n",
       "25500         0.0          0.0          0.0         0.0         0.0  \n",
       "25501         0.0          0.0          0.0         0.0         0.0  \n",
       "25502         0.0          0.0          0.0         0.0         0.0  \n",
       "25503         0.0          0.0          0.0         0.0         0.0  \n",
       "\n",
       "[25504 rows x 3703 columns]"
      ]
     },
     "execution_count": 99,
     "metadata": {},
     "output_type": "execute_result"
    }
   ],
   "source": [
    "train_data"
   ]
  },
  {
   "cell_type": "code",
   "execution_count": 100,
   "metadata": {
    "colab": {
     "base_uri": "https://localhost:8080/"
    },
    "id": "Pye3euix5Byy",
    "outputId": "648816de-8fa3-4634-e56f-578e26235ee2"
   },
   "outputs": [
    {
     "name": "stdout",
     "output_type": "stream",
     "text": [
      "<class 'pandas.core.frame.DataFrame'>\n",
      "RangeIndex: 25504 entries, 0 to 25503\n",
      "Columns: 3703 entries, original_language to title-upon\n",
      "dtypes: float64(3701), int64(2)\n",
      "memory usage: 720.5 MB\n"
     ]
    }
   ],
   "source": [
    "train_data.info()"
   ]
  },
  {
   "cell_type": "code",
   "execution_count": 101,
   "metadata": {
    "colab": {
     "base_uri": "https://localhost:8080/"
    },
    "id": "tAQh05r7EsfF",
    "outputId": "977b79a2-3209-4874-f0ad-53646350a633"
   },
   "outputs": [
    {
     "data": {
      "text/plain": [
       "Index(['original_language', 'runtime', 'IMDBscore', 'num_faces', 'brightness',\n",
       "       'saturation', 'hue', 'brightness_sd', 'saturation_sd', 'hue_sd',\n",
       "       ...\n",
       "       'title-waiting', 'title-horror', 'title-top', 'title-hate',\n",
       "       'title-creature', 'title-east', 'title-chase', 'title-sword',\n",
       "       'title-guys', 'title-upon'],\n",
       "      dtype='object', length=3703)"
      ]
     },
     "execution_count": 101,
     "metadata": {},
     "output_type": "execute_result"
    }
   ],
   "source": [
    "train_data.columns"
   ]
  },
  {
   "cell_type": "markdown",
   "metadata": {
    "id": "VPjbmPRJ8UZn"
   },
   "source": [
    "## normailizing the data"
   ]
  },
  {
   "cell_type": "code",
   "execution_count": 102,
   "metadata": {
    "id": "oAzCOR2e8UZn"
   },
   "outputs": [],
   "source": [
    "for col in ['original_language','runtime', 'num_faces', 'hue', 'hue_sd', 'saturation', 'saturation_sd', 'brightness', 'brightness_sd',\n",
    "            'blue', 'blue_sd', 'green', 'green_sd', 'red', 'red_sd', 'year']:\n",
    "    mean_feature = np.mean(train_data[col])\n",
    "    sd_feature = np.std(train_data[col])\n",
    "    if sd_feature != 0:\n",
    "        train_data[col] = (train_data[col] - mean_feature) / sd_feature\n",
    "        valid_data[col] = (valid_data[col] - mean_feature) / sd_feature\n",
    "        test_data[col] = (test_data[col] - mean_feature) / sd_feature\n",
    "    else:\n",
    "        train_data[col] = (train_data[col] - mean_feature)\n",
    "        valid_data[col] = (valid_data[col] - mean_feature)\n",
    "        test_data[col] = (test_data[col] - mean_feature)\n"
   ]
  },
  {
   "cell_type": "code",
   "execution_count": 103,
   "metadata": {
    "colab": {
     "base_uri": "https://localhost:8080/"
    },
    "id": "t2YAxWm18UZo",
    "outputId": "c5ec19cc-62a9-49ef-80ec-c53ae4bb1e03"
   },
   "outputs": [
    {
     "name": "stdout",
     "output_type": "stream",
     "text": [
      "(25504, 3703)\n",
      "(25504, 3703)\n",
      "(25504, 3703)\n"
     ]
    }
   ],
   "source": [
    "print(train_data.shape)\n",
    "print(valid_data.shape)\n",
    "print(test_data.shape)\n",
    "train_X = train_data.drop(columns=['IMDBscore'])\n",
    "valid_X = valid_data.drop(columns=['IMDBscore'])\n",
    "test_X = test_data.drop(columns=['IMDBscore'])"
   ]
  },
  {
   "cell_type": "markdown",
   "metadata": {
    "id": "BZNDpm2r8UZo"
   },
   "source": [
    "# Linear Regression"
   ]
  },
  {
   "cell_type": "code",
   "execution_count": 104,
   "metadata": {
    "id": "whVzKnzP8UZo"
   },
   "outputs": [],
   "source": [
    "from sklearn.metrics import mean_squared_error\n",
    "from sklearn.linear_model import LinearRegression\n",
    "from sklearn.linear_model import Ridge\n",
    "from sklearn.linear_model import Lasso"
   ]
  },
  {
   "cell_type": "code",
   "execution_count": 105,
   "metadata": {
    "colab": {
     "base_uri": "https://localhost:8080/"
    },
    "id": "JevN2lSL8UZo",
    "outputId": "a90ed70a-7b82-49e4-88a8-3cbc66c07a10"
   },
   "outputs": [
    {
     "name": "stdout",
     "output_type": "stream",
     "text": [
      "1.308813059151381\n",
      "nan\n",
      "nan\n"
     ]
    }
   ],
   "source": [
    "print(np.cov(train_data['IMDBscore']))\n",
    "print(np.cov(valid_data['IMDBscore']))\n",
    "print(np.cov(test_data['IMDBscore']))\n"
   ]
  },
  {
   "cell_type": "code",
   "execution_count": null,
   "metadata": {
    "colab": {
     "base_uri": "https://localhost:8080/",
     "height": 404
    },
    "id": "0jjyoWmn8UZp",
    "outputId": "b1e92e40-b3d5-4647-9937-68c9de112508"
   },
   "outputs": [],
   "source": [
    "reg = LinearRegression().fit(train_X, train_data['IMDBscore'])\n",
    "\n",
    "print('Train R^2: ', reg.score(train_X, train_data['IMDBscore']))\n",
    "print('Train MSE: ', mean_squared_error(\n",
    "    reg.predict(train_X), train_data['IMDBscore']))\n",
    "\n",
    "print('Valid R^2: ', reg.score(valid_X, valid_data['IMDBscore']))\n",
    "print('Valid MSE: ', mean_squared_error(\n",
    "    reg.predict(valid_X), valid_data['IMDBscore']))\n",
    "\n",
    "print('Test R^2: ', reg.score(test_X, test_data['IMDBscore']))\n",
    "print('Test MSE: ', mean_squared_error(\n",
    "    reg.predict(test_X), test_data['IMDBscore']))"
   ]
  },
  {
   "cell_type": "code",
   "execution_count": null,
   "metadata": {
    "id": "AAiXzFqI8UZp"
   },
   "outputs": [],
   "source": [
    "reg = Ridge(alpha=10, random_state=0).fit(train_X, train_data['IMDBscore'])\n",
    "\n",
    "print('Train R^2: ', reg.score(train_X, train_data['IMDBscore']))\n",
    "print('Train MSE: ', mean_squared_error(\n",
    "    reg.predict(train_X), train_data['IMDBscore']))\n",
    "\n",
    "print('Valid R^2: ', reg.score(valid_X, valid_data['IMDBscore']))\n",
    "print('Valid MSE: ', mean_squared_error(\n",
    "    reg.predict(valid_X), valid_data['IMDBscore']))\n",
    "\n",
    "print('Test R^2: ', reg.score(test_X, test_data['IMDBscore']))\n",
    "print('Test MSE: ', mean_squared_error(\n",
    "    reg.predict(test_X), test_data['IMDBscore']))\n"
   ]
  },
  {
   "cell_type": "code",
   "execution_count": null,
   "metadata": {
    "id": "GoRrpoAv8UZq"
   },
   "outputs": [],
   "source": [
    "reg = Lasso(alpha=0.0001, random_state=0).fit(train_X, train_data['IMDBscore'])\n",
    "\n",
    "print('Train R^2: ', reg.score(train_X, train_data['IMDBscore']))\n",
    "print('Train MSE: ', mean_squared_error(\n",
    "    reg.predict(train_X), train_data['IMDBscore']))\n",
    "\n",
    "print('Valid R^2: ', reg.score(valid_X, valid_data['IMDBscore']))\n",
    "print('Valid MSE: ', mean_squared_error(\n",
    "    reg.predict(valid_X), valid_data['IMDBscore']))\n",
    "\n",
    "print('Test R^2: ', reg.score(test_X, test_data['IMDBscore']))\n",
    "print('Test MSE: ', mean_squared_error(\n",
    "    reg.predict(test_X), test_data['IMDBscore']))"
   ]
  },
  {
   "cell_type": "code",
   "execution_count": null,
   "metadata": {
    "id": "JO8S2sCWmuIA"
   },
   "outputs": [],
   "source": [
    "from sklearn.model_selection import learning_curve"
   ]
  }
 ],
 "metadata": {
  "colab": {
   "collapsed_sections": [],
   "name": "try_yash_3.ipynb",
   "provenance": []
  },
  "interpreter": {
   "hash": "aee8b7b246df8f9039afb4144a1f6fd8d2ca17a180786b69acc140d282b71a49"
  },
  "kernelspec": {
   "display_name": "Python 3.9.1 64-bit",
   "name": "python3"
  },
  "language_info": {
   "codemirror_mode": {
    "name": "ipython",
    "version": 3
   },
   "file_extension": ".py",
   "mimetype": "text/x-python",
   "name": "python",
   "nbconvert_exporter": "python",
   "pygments_lexer": "ipython3",
   "version": "3.9.1"
  }
 },
 "nbformat": 4,
 "nbformat_minor": 1
}
